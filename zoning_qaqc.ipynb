{
 "cells": [
  {
   "cell_type": "code",
   "execution_count": 39,
   "id": "fd793287",
   "metadata": {},
   "outputs": [],
   "source": [
    "import numpy\n",
    "import urllib\n",
    "import geojson\n",
    "import pandas as pd\n",
    "import requests\n",
    "import json\n",
    "import arcpy\n",
    "import requests\n",
    "from shapely.geometry import shape, Polygon, MultiPolygon\n",
    "import numpy as np\n",
    "import arcpy\n",
    "import psycopg2\n",
    "from psycopg2 import sql\n",
    "from psycopg2.extras import RealDictCursor\n",
    "\n",
    "# https://towardsdatascience.com/json-and-apis-with-python-fba329ef6ef0"
   ]
  },
  {
   "cell_type": "code",
   "execution_count": 5,
   "id": "68ce5f02",
   "metadata": {},
   "outputs": [
    {
     "name": "stdout",
     "output_type": "stream",
     "text": [
      "      ZONE_ID ZONE_TYPE ZONE_CODE  \\\n",
      "0           1   Polygon       R2B   \n",
      "1           2   Polygon        C1   \n",
      "2           3   Polygon        I1   \n",
      "3           4   Polygon        C4   \n",
      "4           5   Polygon       R2B   \n",
      "...       ...       ...       ...   \n",
      "2210     2211   Polygon       C3A   \n",
      "2211     2212   Polygon       C3A   \n",
      "2212     2213   Polygon        C1   \n",
      "2213     2214   Polygon        I2   \n",
      "2214     2215   Polygon        I1   \n",
      "\n",
      "                                               geometry           AREA  \\\n",
      "0     {\"type\": \"MultiPolygon\", \"coordinates\": (((-93...    2189.808594   \n",
      "1     {\"type\": \"MultiPolygon\", \"coordinates\": (((-93...    2171.085938   \n",
      "2     {\"type\": \"MultiPolygon\", \"coordinates\": (((-93...   84326.816406   \n",
      "3     {\"type\": \"MultiPolygon\", \"coordinates\": (((-93...   12925.625000   \n",
      "4     {\"type\": \"MultiPolygon\", \"coordinates\": (((-93...   28257.261719   \n",
      "...                                                 ...            ...   \n",
      "2210  {\"type\": \"MultiPolygon\", \"coordinates\": (((-93...   29941.898438   \n",
      "2211  {\"type\": \"MultiPolygon\", \"coordinates\": (((-93...  101063.175781   \n",
      "2212  {\"type\": \"MultiPolygon\", \"coordinates\": (((-93...  443512.906250   \n",
      "2213  {\"type\": \"MultiPolygon\", \"coordinates\": (((-93...  107703.882812   \n",
      "2214  {\"type\": \"MultiPolygon\", \"coordinates\": (((-93...  144253.046875   \n",
      "\n",
      "     ERROR_CODE  \n",
      "0           NaN  \n",
      "1           NaN  \n",
      "2           NaN  \n",
      "3           NaN  \n",
      "4           NaN  \n",
      "...         ...  \n",
      "2210        NaN  \n",
      "2211        NaN  \n",
      "2212        NaN  \n",
      "2213        NaN  \n",
      "2214        NaN  \n",
      "\n",
      "[2215 rows x 6 columns]\n"
     ]
    }
   ],
   "source": [
    "url = 'https://services.arcgis.com/afSMGVsC7QlRK1kZ/arcgis/rest/services/Planning_Primary_Zoning/FeatureServer/0/query?outFields=*&where=1%3D1&f=geojson'\n",
    "response = requests.get(url)\n",
    "data = response.json()\n",
    "\n",
    "zoningCode = pd.json_normalize(data['features']) # get into pandas\n",
    "\n",
    "# create variable that holds all features that are not polygon or multipolygon\n",
    "non_polygons = zoningCode[(zoningCode['geometry.type'] != 'Polygon') & (zoningCode['geometry.type'] != 'MultiPolygon')]\n",
    "\n",
    "# create error code column and put in null if feature is null\n",
    "zoningCode.loc[zoningCode['properties.ZONE_CODE'].isnull(), 'ERROR_CODE'] = 'null'\n",
    "zoningCode.loc[zoningCode['properties.Shape__Area'].isnull(), 'ERROR_CODE'] = 'null'\n",
    "zoningCode.loc[zoningCode['properties.OBJECTID'].isnull(), 'ERROR_CODE'] = 'null'\n",
    "zoningCode.loc[zoningCode['geometry.coordinates'].isnull(), 'ERROR_CODE'] = 'null'\n",
    "# create error code column and put in wrongtype if feature is not polygon or multipolygon\n",
    "zoningCode.loc[non_polygons.index, 'ERROR_CODE'] = 'wrongType'\n",
    "\n",
    "# Convert geom to WKT format\n",
    "def coords_to_wkt(coords):\n",
    "    if isinstance(coords[0][0], list):\n",
    "        # if multiPolygon\n",
    "        poly_list = [geojson.Polygon(poly) for poly in coords]\n",
    "        multi_poly = geojson.MultiPolygon(poly_list)\n",
    "        return geojson.dumps(multi_poly).replace('[', '(').replace(']', ')')\n",
    "    else:\n",
    "        # if polygon\n",
    "        poly = geojson.Polygon(coords)\n",
    "        return geojson.dumps(poly).replace('[', '(').replace(']', ')')\n",
    "\n",
    "zoningCode['geometry'] = zoningCode['geometry.coordinates'].apply(coords_to_wkt)\n",
    "\n",
    "# rename columns so it matches tables names in postgis\n",
    "zoningCode = zoningCode.rename(columns={\n",
    "    'properties.OBJECTID': 'ZONE_ID', \n",
    "    'geometry.type': 'ZONE_TYPE', \n",
    "    'properties.ZONE_CODE': 'ZONE_CODE', \n",
    "    'properties.Shape__Area': 'AREA'    \n",
    "})\n",
    "\n",
    "# list certain columns that I want\n",
    "zoningCode = zoningCode.loc[:, ['ZONE_ID', 'ZONE_TYPE', 'ZONE_CODE', 'geometry', 'AREA', 'ERROR_CODE']]\n",
    "\n",
    "print(zoningCode)\n",
    "\n",
    "# insert into, put a break into it"
   ]
  },
  {
   "cell_type": "code",
   "execution_count": 69,
   "id": "7c5cf375",
   "metadata": {},
   "outputs": [
    {
     "ename": "KeyboardInterrupt",
     "evalue": "",
     "output_type": "error",
     "traceback": [
      "\u001b[1;31m---------------------------------------------------------------------------\u001b[0m",
      "\u001b[1;31mKeyboardInterrupt\u001b[0m                         Traceback (most recent call last)",
      "\u001b[1;32m<ipython-input-69-26d4c3ce021f>\u001b[0m in \u001b[0;36m<module>\u001b[1;34m\u001b[0m\n\u001b[0;32m     26\u001b[0m         \u001b[0merror_code\u001b[0m \u001b[1;33m=\u001b[0m \u001b[1;34m'GeomError'\u001b[0m\u001b[1;33m\u001b[0m\u001b[1;33m\u001b[0m\u001b[0m\n\u001b[0;32m     27\u001b[0m \u001b[1;33m\u001b[0m\u001b[0m\n\u001b[1;32m---> 28\u001b[1;33m     \u001b[0mcur\u001b[0m\u001b[1;33m.\u001b[0m\u001b[0mexecute\u001b[0m\u001b[1;33m(\u001b[0m\u001b[1;34m\"INSERT INTO MPLSZoning (zone_code, geometry, error_code) VALUES (%s, %s, %s)\"\u001b[0m\u001b[1;33m,\u001b[0m \u001b[1;33m(\u001b[0m\u001b[0mzone_code\u001b[0m\u001b[1;33m,\u001b[0m \u001b[0mwkt_geometry\u001b[0m\u001b[1;33m,\u001b[0m \u001b[0merror_code\u001b[0m\u001b[1;33m)\u001b[0m\u001b[1;33m)\u001b[0m\u001b[1;33m\u001b[0m\u001b[1;33m\u001b[0m\u001b[0m\n\u001b[0m\u001b[0;32m     29\u001b[0m     \u001b[0mconn\u001b[0m\u001b[1;33m.\u001b[0m\u001b[0mcommit\u001b[0m\u001b[1;33m(\u001b[0m\u001b[1;33m)\u001b[0m\u001b[1;33m\u001b[0m\u001b[1;33m\u001b[0m\u001b[0m\n\u001b[0;32m     30\u001b[0m \u001b[1;33m\u001b[0m\u001b[0m\n",
      "\u001b[1;32m~\\AppData\\Local\\ESRI\\conda\\envs\\arcpy_clone_ethan\\lib\\encodings\\utf_8.py\u001b[0m in \u001b[0;36mdecode\u001b[1;34m(input, errors)\u001b[0m\n\u001b[0;32m     13\u001b[0m \u001b[0mencode\u001b[0m \u001b[1;33m=\u001b[0m \u001b[0mcodecs\u001b[0m\u001b[1;33m.\u001b[0m\u001b[0mutf_8_encode\u001b[0m\u001b[1;33m\u001b[0m\u001b[1;33m\u001b[0m\u001b[0m\n\u001b[0;32m     14\u001b[0m \u001b[1;33m\u001b[0m\u001b[0m\n\u001b[1;32m---> 15\u001b[1;33m \u001b[1;32mdef\u001b[0m \u001b[0mdecode\u001b[0m\u001b[1;33m(\u001b[0m\u001b[0minput\u001b[0m\u001b[1;33m,\u001b[0m \u001b[0merrors\u001b[0m\u001b[1;33m=\u001b[0m\u001b[1;34m'strict'\u001b[0m\u001b[1;33m)\u001b[0m\u001b[1;33m:\u001b[0m\u001b[1;33m\u001b[0m\u001b[1;33m\u001b[0m\u001b[0m\n\u001b[0m\u001b[0;32m     16\u001b[0m     \u001b[1;32mreturn\u001b[0m \u001b[0mcodecs\u001b[0m\u001b[1;33m.\u001b[0m\u001b[0mutf_8_decode\u001b[0m\u001b[1;33m(\u001b[0m\u001b[0minput\u001b[0m\u001b[1;33m,\u001b[0m \u001b[0merrors\u001b[0m\u001b[1;33m,\u001b[0m \u001b[1;32mTrue\u001b[0m\u001b[1;33m)\u001b[0m\u001b[1;33m\u001b[0m\u001b[1;33m\u001b[0m\u001b[0m\n\u001b[0;32m     17\u001b[0m \u001b[1;33m\u001b[0m\u001b[0m\n",
      "\u001b[1;31mKeyboardInterrupt\u001b[0m: "
     ]
    }
   ],
   "source": [
    "import requests\n",
    "import psycopg2\n",
    "import json\n",
    "\n",
    "# Make a GET request to the URL and parse the response as JSON\n",
    "url = 'https://services.arcgis.com/afSMGVsC7QlRK1kZ/arcgis/rest/services/Planning_Primary_Zoning/FeatureServer/0/query?outFields=ZONE_CODE&where=1%3D1&f=geojson'\n",
    "response = requests.get(url)\n",
    "data = json.loads(response.content)\n",
    "\n",
    "features = data['features']\n",
    "    \n",
    "conn = psycopg2.connect(database=\"lab0\", user=\"postgres\", password=\"Homework13\", host=\"34.27.240.213\")\n",
    "cur = conn.cursor()\n",
    "\n",
    "for feature in features:\n",
    "    zone_code = feature['properties']['ZONE_CODE']\n",
    "    geometry = json.dumps(feature['geometry'])\n",
    "    cur.execute(\"SELECT ST_AsText(ST_GeomFromGeoJSON(%s))\", (geometry,))\n",
    "    wkt_geometry = cur.fetchone()[0]\n",
    "\n",
    "    # Check for null values in zone_code and wkt_geometry\n",
    "    error_code = None\n",
    "    if zone_code is None:\n",
    "        error_code = 'ZoneError'\n",
    "    elif wkt_geometry is None:\n",
    "        error_code = 'GeomError'\n",
    "    \n",
    "    cur.execute(\"INSERT INTO MPLSZoning (zone_code, geometry, error_code) VALUES (%s, %s, %s)\", (zone_code, wkt_geometry, error_code))\n",
    "    conn.commit()\n",
    "\n",
    "cur.close()\n",
    "conn.close()\n"
   ]
  },
  {
   "cell_type": "code",
   "execution_count": null,
   "id": "52c740b9",
   "metadata": {},
   "outputs": [],
   "source": []
  },
  {
   "cell_type": "code",
   "execution_count": null,
   "id": "0d192896",
   "metadata": {},
   "outputs": [],
   "source": [
    "CREATE TABLE MPLSZoning\n",
    "(\n",
    "    ZONE_ID integer,\n",
    "    ZONE_TYPE text,\n",
    "    ZONE_CODE text, \n",
    "    AREA double precision,\n",
    "    ERROR_CODE text,\n",
    "    geometry geometry\n",
    ");"
   ]
  },
  {
   "cell_type": "code",
   "execution_count": null,
   "id": "399ed894",
   "metadata": {},
   "outputs": [],
   "source": []
  },
  {
   "cell_type": "code",
   "execution_count": 76,
   "id": "2402a0dd",
   "metadata": {},
   "outputs": [
    {
     "name": "stdout",
     "output_type": "stream",
     "text": [
      "      type  id geometry.type  \\\n",
      "0  Feature   1       Polygon   \n",
      "1  Feature   2       Polygon   \n",
      "2  Feature   3       Polygon   \n",
      "3  Feature   4       Polygon   \n",
      "4  Feature   5       Polygon   \n",
      "\n",
      "                                geometry.coordinates  properties.OBJECTID  \\\n",
      "0  [[[-93.3037816866939, 45.0077970445671], [-93....                    1   \n",
      "1  [[[-93.3088637930648, 45.0096321731455], [-93....                    2   \n",
      "2  [[[-93.2401697007511, 44.9582021397118], [-93....                    3   \n",
      "3  [[[-93.2556792476983, 44.9490392740053], [-93....                    4   \n",
      "4  [[[-93.2323502580779, 44.900843000181], [-93.2...                    5   \n",
      "\n",
      "  properties.ZONE_CODE  properties.RuleID  properties.Shape__Area  \\\n",
      "0                  R2B                4.0             2189.808594   \n",
      "1                   C1               12.0             2171.085938   \n",
      "2                   I1               24.0            84326.816406   \n",
      "3                   C4               16.0            12925.625000   \n",
      "4                  R2B                4.0            28257.261719   \n",
      "\n",
      "   properties.Shape__Length  \n",
      "0                203.260521  \n",
      "1                203.900439  \n",
      "2               1459.537592  \n",
      "3                495.329830  \n",
      "4                925.266177  \n"
     ]
    }
   ],
   "source": [
    "url = 'https://services.arcgis.com/afSMGVsC7QlRK1kZ/arcgis/rest/services/Planning_Primary_Zoning/FeatureServer/0/query?outFields=*&where=1%3D1&f=geojson'\n",
    "\n",
    "response = requests.get(url)\n",
    "zoningData = response.json() # pulls out JSON data\n",
    "\n",
    "zoningDataDF = pd.json_normalize(zoningData['features']) # normalize data so it can be read in pandas dataframe\n",
    "print(zoningDataDF.head())\n"
   ]
  },
  {
   "cell_type": "markdown",
   "id": "8ee820f0",
   "metadata": {},
   "source": [
    "## call data and put it into pandas dataframe"
   ]
  },
  {
   "cell_type": "code",
   "execution_count": null,
   "id": "d99e1d2c",
   "metadata": {},
   "outputs": [],
   "source": []
  },
  {
   "cell_type": "markdown",
   "id": "39f546fe",
   "metadata": {},
   "source": [
    "## Finding data that does not have polygon type"
   ]
  },
  {
   "cell_type": "code",
   "execution_count": 8,
   "id": "b621bd8a",
   "metadata": {},
   "outputs": [
    {
     "name": "stdout",
     "output_type": "stream",
     "text": [
      "[list([[[-93.3037816866939, 45.0077970445671], [-93.3044171761646, 45.0077988081563], [-93.3044188303179, 45.0079973020938], [-93.304310786979, 45.0079967711909], [-93.3038133441888, 45.0079926935659], [-93.3037866283911, 45.0079931545513], [-93.3037816866939, 45.0077970445671]]])\n",
      " list([[[-93.3088637930648, 45.0096321731455], [-93.308221316948, 45.0096294300474], [-93.3082203065919, 45.0094377858855], [-93.3083470140401, 45.0094382272662], [-93.3088405744317, 45.0094382623233], [-93.308864048216, 45.0094382002494], [-93.3088637930648, 45.0096321731455]]])\n",
      " list([[[-93.2401697007511, 44.9582021397118], [-93.2401933013425, 44.9582023429819], [-93.2407854571805, 44.9582077281548], [-93.2407919777382, 44.9582076265245], [-93.241118483325, 44.9582025622282], [-93.2412880866091, 44.9582033547577], [-93.240713780009, 44.9573702470881], [-93.2406807557925, 44.9573134777399], [-93.2408511418181, 44.9573133891943], [-93.2412922835654, 44.9573140876631], [-93.2414717471595, 44.9572677605277], [-93.2415091052607, 44.957258114292], [-93.242193618037, 44.9572623687977], [-93.2423525557859, 44.9574125210105], [-93.2425133294725, 44.9575771413913], [-93.24266484337, 44.9577461348634], [-93.2427838546705, 44.957890112276], [-93.2429111861999, 44.9578441766541], [-93.2435616265695, 44.958228838254], [-93.2437768412882, 44.9583713586621], [-93.2442420604704, 44.9590353672864], [-93.2443236940656, 44.9591455063063], [-93.2419756534415, 44.9591487664492], [-93.2409326935558, 44.9591474696581], [-93.2409454914155, 44.9585902954924], [-93.2401736044301, 44.9585869578059], [-93.2401697007511, 44.9582021397118]]])\n",
      " ...\n",
      " list([[[-93.2777747977502, 45.0149783695429], [-93.2774925514011, 45.0155131470676], [-93.2781146192069, 45.0166878286508], [-93.2785947741565, 45.0184928460967], [-93.2790842122396, 45.020301780784], [-93.2794520058329, 45.0216280247255], [-93.2805752388399, 45.0220694475555], [-93.2808840219726, 45.0237385809316], [-93.2808982181343, 45.023820377549], [-93.2808428750497, 45.023819650367], [-93.2800378076387, 45.0239206854168], [-93.2800473488889, 45.0242339484891], [-93.2811314777839, 45.0262132874006], [-93.2816187544126, 45.026234248325], [-93.2816328880732, 45.0265938517748], [-93.2808315741003, 45.0263096014334], [-93.2797631357971, 45.0257808308704], [-93.2785780020842, 45.0239942224006], [-93.2775543334648, 45.0220649086029], [-93.2766808108806, 45.0203142611214], [-93.2760809421761, 45.0186318330824], [-93.27542294628, 45.0167862589527], [-93.2751894132195, 45.0159923170159], [-93.275148108863, 45.0158416831017], [-93.2754613702116, 45.0157993120803], [-93.2755427018293, 45.0153851456141], [-93.2753322046949, 45.0149752330537], [-93.2763170369254, 45.0149816757532], [-93.2764330345743, 45.0149814145611], [-93.2777747977502, 45.0149783695429]]])\n",
      " list([[[-93.2753322046949, 45.0149752330537], [-93.2755427018293, 45.0153851456141], [-93.2754613702116, 45.0157993120803], [-93.275148108863, 45.0158416831017], [-93.2734926514048, 45.0158592678346], [-93.2721953986382, 45.0158706649666], [-93.2720668357385, 45.015869966634], [-93.2719326092531, 45.0149652519035], [-93.2717739921739, 45.0139472452242], [-93.2717727673677, 45.0139371339465], [-93.2719057864298, 45.0139370172499], [-93.2731474018386, 45.013934288786], [-93.2747103350263, 45.0139369438874], [-93.2749488390941, 45.0149727230106], [-93.2753322046949, 45.0149752330537]]])\n",
      " list([[[-93.2785947741565, 45.0184928460967], [-93.2781146192069, 45.0166878286508], [-93.2774925514011, 45.0155131470676], [-93.2777747977502, 45.0149783695429], [-93.2781278953681, 45.0149775660782], [-93.2788209778288, 45.0149785469786], [-93.2788609610616, 45.0152481733399], [-93.2789108994074, 45.0155169629696], [-93.2789707552813, 45.015784731363], [-93.2790404910946, 45.0160512949122], [-93.2791200553029, 45.0163164690946], [-93.2791551760944, 45.0164200961159], [-93.2792093963516, 45.0165800729843], [-93.2792496593734, 45.0166898484461], [-93.2792092039118, 45.0166897764828], [-93.2798394551292, 45.0184942145504], [-93.2799286947471, 45.0184943124659], [-93.280263528968, 45.0202058542319], [-93.2802471274212, 45.0202957233036], [-93.2805752388399, 45.0220694475555], [-93.2794520058329, 45.0216280247255], [-93.2790842122396, 45.020301780784], [-93.2785947741565, 45.0184928460967]]])]\n"
     ]
    },
    {
     "name": "stderr",
     "output_type": "stream",
     "text": [
      "<ipython-input-8-05aee11832a8>:11: VisibleDeprecationWarning: Creating an ndarray from ragged nested sequences (which is a list-or-tuple of lists-or-tuples-or ndarrays with different lengths or shapes) is deprecated. If you meant to do this, you must specify 'dtype=object' when creating the ndarray.\n",
      "  numpy_array = np.array(all_coordinates)\n"
     ]
    }
   ],
   "source": [
    "# after robs numpy lecture, lets get this into a array so I can use numpy!\n",
    "\n",
    "all_coordinates = []\n",
    "\n",
    "# Loop through polygons and get coordinates\n",
    "for polygon in zoningData['features']:\n",
    "    coordinates = polygon['geometry']['coordinates']\n",
    "    all_coordinates.append(coordinates)\n",
    "\n",
    "# Convert coordinates to a numpy array\n",
    "numpy_array = np.array(all_coordinates)\n",
    "\n",
    "print(numpy_array)"
   ]
  },
  {
   "cell_type": "code",
   "execution_count": 9,
   "id": "065adb30",
   "metadata": {},
   "outputs": [
    {
     "name": "stdout",
     "output_type": "stream",
     "text": [
      "Number of features: 2215\n"
     ]
    }
   ],
   "source": [
    "# count the number of polygons\n",
    "num_polygons = len(zoningData['features'])\n",
    "print(\"Number of features:\", num_polygons)"
   ]
  },
  {
   "cell_type": "markdown",
   "id": "a1fb3b25",
   "metadata": {},
   "source": [
    "## Check null values"
   ]
  },
  {
   "cell_type": "code",
   "execution_count": 12,
   "id": "7bc73e7e",
   "metadata": {},
   "outputs": [
    {
     "name": "stdout",
     "output_type": "stream",
     "text": [
      "         type    id geometry.type  \\\n",
      "2110  Feature  2111       Polygon   \n",
      "\n",
      "                                   geometry.coordinates  properties.OBJECTID  \\\n",
      "2110  [[[-93.2785782827594, 44.9681617941297], [-93....                 2111   \n",
      "\n",
      "     properties.ZONE_CODE  properties.RuleID  properties.Shape__Area  \\\n",
      "2110                 None                NaN                   0.625   \n",
      "\n",
      "      properties.Shape__Length  \n",
      "2110                 56.975468  \n"
     ]
    }
   ],
   "source": [
    "# Check for null values\n",
    "\n",
    "nullZoneCodes = zoningDataDF[zoningDataDF['properties.ZONE_CODE'].isnull()]\n",
    "\n",
    "print(nullZoneCodes)"
   ]
  },
  {
   "cell_type": "markdown",
   "id": "ca6499a9",
   "metadata": {},
   "source": [
    "## Check for duplicate records"
   ]
  },
  {
   "cell_type": "code",
   "execution_count": null,
   "id": "4a1d53f1",
   "metadata": {},
   "outputs": [],
   "source": [
    "print(df.duplicated().sum())"
   ]
  },
  {
   "cell_type": "code",
   "execution_count": null,
   "id": "f962636d",
   "metadata": {},
   "outputs": [],
   "source": []
  },
  {
   "cell_type": "markdown",
   "id": "9c2f505e",
   "metadata": {},
   "source": [
    "## find overlapping polygons"
   ]
  },
  {
   "cell_type": "code",
   "execution_count": null,
   "id": "90fcf9c9",
   "metadata": {},
   "outputs": [],
   "source": []
  },
  {
   "cell_type": "markdown",
   "id": "eb3f4177",
   "metadata": {},
   "source": [
    "## find polygons whose lines intersect"
   ]
  },
  {
   "cell_type": "code",
   "execution_count": 14,
   "id": "ab19d389",
   "metadata": {},
   "outputs": [
    {
     "ename": "ModuleNotFoundError",
     "evalue": "No module named 'sklearn'",
     "output_type": "error",
     "traceback": [
      "\u001b[1;31m---------------------------------------------------------------------------\u001b[0m",
      "\u001b[1;31mModuleNotFoundError\u001b[0m                       Traceback (most recent call last)",
      "\u001b[1;32m<ipython-input-14-b7c74cbf5af0>\u001b[0m in \u001b[0;36m<module>\u001b[1;34m\u001b[0m\n\u001b[1;32m----> 1\u001b[1;33m \u001b[1;32mimport\u001b[0m \u001b[0msklearn\u001b[0m\u001b[1;33m\u001b[0m\u001b[1;33m\u001b[0m\u001b[0m\n\u001b[0m",
      "\u001b[1;31mModuleNotFoundError\u001b[0m: No module named 'sklearn'"
     ]
    }
   ],
   "source": [
    "import sklearn"
   ]
  },
  {
   "cell_type": "code",
   "execution_count": null,
   "id": "f619e90a",
   "metadata": {},
   "outputs": [],
   "source": []
  }
 ],
 "metadata": {
  "kernelspec": {
   "display_name": "Python 3",
   "language": "python",
   "name": "python3"
  },
  "language_info": {
   "codemirror_mode": {
    "name": "ipython",
    "version": 3
   },
   "file_extension": ".py",
   "mimetype": "text/x-python",
   "name": "python",
   "nbconvert_exporter": "python",
   "pygments_lexer": "ipython3",
   "version": "3.9.11"
  }
 },
 "nbformat": 4,
 "nbformat_minor": 5
}
