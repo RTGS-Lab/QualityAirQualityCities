{
 "cells": [
  {
   "cell_type": "code",
   "execution_count": 25,
   "id": "8764cdb2-694b-4990-8292-b00750f36a94",
   "metadata": {},
   "outputs": [],
   "source": [
    "### Import Packages\n",
    "\n",
    "# File manipulation\n",
    "\n",
    "import os # For working with Operating System\n",
    "import requests # Accessing the Web\n",
    "import datetime as dt # Working with dates/times\n",
    "import io # Input/Output Bytes objects\n",
    "import time # For sleep in for loop\n",
    "\n",
    "# Analysis\n",
    "\n",
    "import numpy as np\n",
    "import pandas as pd\n",
    "import geopandas as gpd\n",
    "\n",
    "# Visualization\n",
    "\n",
    "import contextily as ctx # Basemaps\n",
    "import matplotlib.pyplot as plt # Basic Plotting\n",
    "import seaborn as sns # Statistical Plotting\n",
    "\n",
    "import matplotlib.cm as cm\n",
    "import matplotlib.colors as mcolors\n"
   ]
  },
  {
   "cell_type": "markdown",
   "id": "12ed0f7a-2d63-4a71-a661-021407d9398e",
   "metadata": {},
   "source": [
    "# Definitions"
   ]
  },
  {
   "cell_type": "code",
   "execution_count": 2,
   "id": "84b02790-2e50-420d-acb4-6b230b6da663",
   "metadata": {},
   "outputs": [
    {
     "name": "stdin",
     "output_type": "stream",
     "text": [
      "Please enter your Purple Air api key 51592903-B445-11ED-B6F4-42010A800007\n"
     ]
    }
   ],
   "source": [
    "# This is my personal API key... Please use responsibly!\n",
    "\n",
    "api = input('Please enter your Purple Air api key')"
   ]
  },
  {
   "cell_type": "code",
   "execution_count": 3,
   "id": "146ac2fb-c824-48c8-8e82-81f41f89f164",
   "metadata": {},
   "outputs": [],
   "source": [
    "# Get Sensor Locations\n",
    "\n",
    "def getSensorsData(query='', api_read_key=''):\n",
    "\n",
    "    # my_url is assigned the URL we are going to send our request to.\n",
    "    url = 'https://api.purpleair.com/v1/sensors?' + query\n",
    "    \n",
    "    # print('Here is the full url for the API call:\\n\\n', url)\n",
    "\n",
    "    # my_headers is assigned the context of our request we want to make. In this case\n",
    "    # we will pass through our API read key using the variable created above.\n",
    "    my_headers = {'X-API-Key':api_read_key}\n",
    "\n",
    "    # This line creates and sends the request and then assigns its response to the\n",
    "    # variable, r.\n",
    "    response = requests.get(url, headers=my_headers)\n",
    "\n",
    "    # We then return the response we received.\n",
    "    return response"
   ]
  },
  {
   "cell_type": "markdown",
   "id": "973c112d-dbe9-46ff-b5b4-d8d7d5c9859c",
   "metadata": {},
   "source": [
    "# Data"
   ]
  },
  {
   "cell_type": "code",
   "execution_count": 4,
   "id": "218b999c-a943-40ca-821a-5bed36bf741c",
   "metadata": {},
   "outputs": [],
   "source": [
    "## Load Data\n",
    "\n",
    "data_path = os.path.join('..', '..', 'data')\n",
    "\n",
    "spikes = pd.read_csv(os.path.join(data_path, 'all_spikes_06152022-04202023.csv'))\n",
    "\n",
    "spikes['timestamp'] = pd.to_datetime(spikes.timestamp)\n",
    "\n",
    "summaries = pd.read_csv(os.path.join(data_path, 'daily_summaries_06152022-04202023.csv'))\n",
    "summaries['date'] = pd.to_datetime(summaries.date)\n",
    "\n",
    "summaries_no_spikes = pd.read_csv(os.path.join(data_path, 'daily_summaries_06152022-04202023.csv'))\n",
    "summaries_no_spikes['date'] = pd.to_datetime(summaries_no_spikes.date)\n",
    "\n",
    "# Sensor Indices (from City of Minneapolis)\n",
    "\n",
    "indices_path = os.path.join(data_path, 'PA IDs and indexes.xlsx')\n",
    "\n",
    "sensor_info = pd.read_excel(indices_path) # Load as DataFrame\n",
    "\n",
    "sensor_ids = sensor_info['Sensor Index'].dropna().astype(int)"
   ]
  },
  {
   "cell_type": "code",
   "execution_count": 5,
   "id": "922fa33b-be22-4316-bea1-40480e838e8d",
   "metadata": {},
   "outputs": [],
   "source": [
    "# Locations\n",
    "\n",
    "sensor_string = 'show_only=' + '%2C'.join(sensor_ids.astype(str))\n",
    "\n",
    "query = 'fields=latitude%2Clongitude&' + sensor_string\n",
    "\n",
    "response = getSensorsData(query, api)\n",
    "\n",
    "response_dict = response.json() # Read response as a json (dictionary)\n",
    "\n",
    "col_names = response_dict['fields']\n",
    "data = np.array(response_dict['data'])\n",
    "\n",
    "sensors_df = pd.DataFrame(data, columns = col_names)"
   ]
  },
  {
   "cell_type": "code",
   "execution_count": 6,
   "id": "48857f2e-4254-4a95-bbda-1f43f18556f5",
   "metadata": {},
   "outputs": [],
   "source": [
    "# Spatialize\n",
    "\n",
    "sensors = gpd.GeoDataFrame(sensors_df.sensor_index,\n",
    "                 geometry = gpd.points_from_xy(x=sensors_df.longitude, y=sensors_df.latitude),\n",
    "                           crs = 'EPSG:4326'\n",
    "                ).to_crs('EPSG:26915')"
   ]
  },
  {
   "cell_type": "markdown",
   "id": "691bae7c-66a9-409e-92d6-2822737cd0cc",
   "metadata": {},
   "source": [
    "# Spikes Movie"
   ]
  },
  {
   "cell_type": "code",
   "execution_count": 7,
   "id": "5a2043f1-ed95-46a6-89df-bb7df4c27003",
   "metadata": {},
   "outputs": [
    {
     "data": {
      "text/html": [
       "<div>\n",
       "<style scoped>\n",
       "    .dataframe tbody tr th:only-of-type {\n",
       "        vertical-align: middle;\n",
       "    }\n",
       "\n",
       "    .dataframe tbody tr th {\n",
       "        vertical-align: top;\n",
       "    }\n",
       "\n",
       "    .dataframe thead th {\n",
       "        text-align: right;\n",
       "    }\n",
       "</style>\n",
       "<table border=\"1\" class=\"dataframe\">\n",
       "  <thead>\n",
       "    <tr style=\"text-align: right;\">\n",
       "      <th></th>\n",
       "      <th>sensor_index</th>\n",
       "      <th>timestamp</th>\n",
       "      <th>pm25</th>\n",
       "    </tr>\n",
       "  </thead>\n",
       "  <tbody>\n",
       "    <tr>\n",
       "      <th>0</th>\n",
       "      <td>143226</td>\n",
       "      <td>2022-06-17 22:10:00</td>\n",
       "      <td>58.910</td>\n",
       "    </tr>\n",
       "    <tr>\n",
       "      <th>1</th>\n",
       "      <td>143226</td>\n",
       "      <td>2022-06-17 22:20:00</td>\n",
       "      <td>35.495</td>\n",
       "    </tr>\n",
       "    <tr>\n",
       "      <th>2</th>\n",
       "      <td>143226</td>\n",
       "      <td>2022-06-17 22:00:00</td>\n",
       "      <td>319.660</td>\n",
       "    </tr>\n",
       "    <tr>\n",
       "      <th>3</th>\n",
       "      <td>142720</td>\n",
       "      <td>2022-06-18 03:20:00</td>\n",
       "      <td>33.595</td>\n",
       "    </tr>\n",
       "    <tr>\n",
       "      <th>4</th>\n",
       "      <td>142720</td>\n",
       "      <td>2022-06-18 03:30:00</td>\n",
       "      <td>36.026</td>\n",
       "    </tr>\n",
       "  </tbody>\n",
       "</table>\n",
       "</div>"
      ],
      "text/plain": [
       "   sensor_index           timestamp     pm25\n",
       "0        143226 2022-06-17 22:10:00   58.910\n",
       "1        143226 2022-06-17 22:20:00   35.495\n",
       "2        143226 2022-06-17 22:00:00  319.660\n",
       "3        142720 2022-06-18 03:20:00   33.595\n",
       "4        142720 2022-06-18 03:30:00   36.026"
      ]
     },
     "execution_count": 7,
     "metadata": {},
     "output_type": "execute_result"
    }
   ],
   "source": [
    "spikes.head()"
   ]
  },
  {
   "cell_type": "code",
   "execution_count": 8,
   "id": "461baf48-fb58-41dc-be44-925372cd10de",
   "metadata": {},
   "outputs": [],
   "source": [
    "days = spikes.timestamp.apply(lambda x: x.date())"
   ]
  },
  {
   "cell_type": "code",
   "execution_count": 9,
   "id": "ed761d7b-9019-4c9c-8388-b721398292f8",
   "metadata": {},
   "outputs": [
    {
     "data": {
      "text/plain": [
       "2023-01-11    6072\n",
       "2023-01-10    6028\n",
       "2023-01-09    5882\n",
       "2023-01-08    5696\n",
       "2022-11-23    5674\n",
       "              ... \n",
       "2022-06-22       1\n",
       "2022-07-22       1\n",
       "2023-04-16       1\n",
       "2022-10-17       1\n",
       "2022-08-08       1\n",
       "Name: timestamp, Length: 303, dtype: int64"
      ]
     },
     "execution_count": 9,
     "metadata": {},
     "output_type": "execute_result"
    }
   ],
   "source": [
    "days.value_counts()"
   ]
  },
  {
   "cell_type": "code",
   "execution_count": 52,
   "id": "cff78583-8fdf-4a9c-967b-568067918765",
   "metadata": {},
   "outputs": [],
   "source": [
    "# mintime = spikes.timestamp.min()\n",
    "# maxtime = spikes.timestamp.max()\n",
    "\n",
    "mintime = dt.datetime(2023,1,7)\n",
    "maxtime = dt.datetime(2023,1,10)"
   ]
  },
  {
   "cell_type": "code",
   "execution_count": 53,
   "id": "49131879-d5e5-4cfb-b6af-4e4b4868ef53",
   "metadata": {},
   "outputs": [],
   "source": [
    "timestamp_range = pd.date_range(start = mintime,\n",
    "                           end = maxtime,\n",
    "                           freq = '10min'\n",
    "                          )"
   ]
  },
  {
   "cell_type": "code",
   "execution_count": 54,
   "id": "b9b11cd4-f65b-432c-b3e3-e182c3ad70cb",
   "metadata": {},
   "outputs": [
    {
     "data": {
      "text/plain": [
       "DatetimeIndex(['2023-01-07 00:00:00', '2023-01-07 00:10:00',\n",
       "               '2023-01-07 00:20:00', '2023-01-07 00:30:00',\n",
       "               '2023-01-07 00:40:00', '2023-01-07 00:50:00',\n",
       "               '2023-01-07 01:00:00', '2023-01-07 01:10:00',\n",
       "               '2023-01-07 01:20:00', '2023-01-07 01:30:00',\n",
       "               ...\n",
       "               '2023-01-09 22:30:00', '2023-01-09 22:40:00',\n",
       "               '2023-01-09 22:50:00', '2023-01-09 23:00:00',\n",
       "               '2023-01-09 23:10:00', '2023-01-09 23:20:00',\n",
       "               '2023-01-09 23:30:00', '2023-01-09 23:40:00',\n",
       "               '2023-01-09 23:50:00', '2023-01-10 00:00:00'],\n",
       "              dtype='datetime64[ns]', length=433, freq='10T')"
      ]
     },
     "execution_count": 54,
     "metadata": {},
     "output_type": "execute_result"
    }
   ],
   "source": [
    "timestamp_range"
   ]
  },
  {
   "cell_type": "code",
   "execution_count": 55,
   "id": "be072fda-8372-402b-b37d-54e78116e9ac",
   "metadata": {},
   "outputs": [],
   "source": [
    "xmin, ymin, xmax, ymax = sensors.total_bounds"
   ]
  },
  {
   "cell_type": "code",
   "execution_count": 56,
   "id": "604bfbe9-be0d-49a8-b675-c217bc67c6f7",
   "metadata": {},
   "outputs": [],
   "source": [
    "import warnings\n",
    "\n",
    "warnings.filterwarnings('ignore')"
   ]
  },
  {
   "cell_type": "code",
   "execution_count": 84,
   "id": "d4762308-9491-424f-9e4d-d2b780d1df9b",
   "metadata": {},
   "outputs": [],
   "source": [
    "for timestamp in timestamp_range:\n",
    "    \n",
    "    f, ax = plt.subplots(1, figsize = (6,8))\n",
    "    \n",
    "    title = 'Spikes - ' + str(timestamp.date())\n",
    "    ax.set_title(title,\n",
    "              fontdict={'fontsize': '25',\n",
    "                         'fontweight' : 'semibold'}\n",
    "            )\n",
    "    \n",
    "    # Add time annotation\n",
    "    \n",
    "    ax.annotate(str(timestamp.time()),\n",
    "                (.7,.95),\n",
    "               xycoords = 'axes fraction',\n",
    "               fontweight = 'semibold',\n",
    "               fontsize = 16,\n",
    "               backgroundcolor = 'white')\n",
    "    \n",
    "    # Select the data & Plot\n",
    "    \n",
    "    select = spikes[spikes.timestamp == timestamp]\n",
    "    \n",
    "    select_gdf = sensors.merge(select, left_on = 'sensor_index', right_on = 'sensor_index')\n",
    "    \n",
    "    select_gdf.plot('pm25',\n",
    "                    # edgecolor = 'Grey',\n",
    "                    cmap = 'Reds',\n",
    "                    vmin = 25,\n",
    "                    vmax = 100,\n",
    "                  linewidth = .5,\n",
    "                  markersize = 100,\n",
    "                    marker = '^',\n",
    "                 ax = ax)\n",
    "    \n",
    "    ax.set_ylim(ymin, ymax)\n",
    "    ax.set_xlim(xmin, xmax)\n",
    "    \n",
    "    # Make Legend\n",
    "    \n",
    "    # define a mappable based on which the colorbar will be drawn\n",
    "    mappable = cm.ScalarMappable(\n",
    "        norm=mcolors.Normalize(25, 100),\n",
    "        cmap='Reds'\n",
    "    )\n",
    "\n",
    "    # define position and extent of colorbar\n",
    "    cb_ax = f.add_axes([.85, 0.1, .03, .8])\n",
    "\n",
    "    # draw colorbar\n",
    "    cbar = f.colorbar(mappable, cax=cb_ax, orientation='vertical')\n",
    "    \n",
    "    cb_ax.set_title('PM2.5 Reading', rotation = 270, fontweight = 'semibold',x=3.5,y=0.5)\n",
    "\n",
    "    # Basemap\n",
    "    \n",
    "    ctx.add_basemap(ax=ax,\n",
    "                crs = select_gdf.crs,\n",
    "               source = ctx.providers.OpenStreetMap.Mapnik)\n",
    "    \n",
    "    # Wrap Up\n",
    "    \n",
    "    ax.set_axis_off()\n",
    "    f.tight_layout()\n",
    "    \n",
    "    savename = 'Spikes_' + str(timestamp)\n",
    "    \n",
    "    savename = savename.replace(' ','_')\n",
    "    \n",
    "#     plt.savefig('SpikeFrames/'+savename+'.jpg')\n",
    "#     plt.show()\n",
    "    \n",
    "    \n",
    "#     break\n",
    "    \n",
    "    \n",
    "    plt.savefig('SpikeFrames/'+savename+'.jpg')\n",
    "    \n",
    "    plt.close()"
   ]
  },
  {
   "cell_type": "code",
   "execution_count": null,
   "id": "f585b6e7-4565-4c39-8cac-945960e1fad5",
   "metadata": {},
   "outputs": [],
   "source": [
    "# Then you're going to need to use imagemagick in the command line to make the movie\n",
    "\n",
    "# cd to images folder\n",
    "# get images as a list\n",
    "# ims=$(ls)\n",
    "# Convert to a Gif with .25 second frames\n",
    "# convert -delay 25 -dispose previous $ims ../one_iteration.gif\n",
    "# Loop the gif with itself with 5 second delay\n",
    "# convert ../one_iteration.gif \\( +clone -set delay 500 \\) +swap +delete ../full_movie.gif\n"
   ]
  }
 ],
 "metadata": {
  "kernelspec": {
   "display_name": "Python 3 (ipykernel)",
   "language": "python",
   "name": "python3"
  },
  "language_info": {
   "codemirror_mode": {
    "name": "ipython",
    "version": 3
   },
   "file_extension": ".py",
   "mimetype": "text/x-python",
   "name": "python",
   "nbconvert_exporter": "python",
   "pygments_lexer": "ipython3",
   "version": "3.10.8"
  }
 },
 "nbformat": 4,
 "nbformat_minor": 5
}
