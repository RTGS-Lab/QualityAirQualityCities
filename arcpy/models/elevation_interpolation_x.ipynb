{
 "cells": [
  {
   "attachments": {},
   "cell_type": "markdown",
   "metadata": {},
   "source": [
    "# Elevation Interpolation"
   ]
  },
  {
   "cell_type": "code",
   "execution_count": 1,
   "metadata": {},
   "outputs": [],
   "source": [
    "# import libraries\n",
    "import arcpy\n",
    "from arcpy import env # to set working environmnet\n",
    "import pandas as pd\n",
    "import psycopg2\n",
    "import os # file path managment"
   ]
  },
  {
   "attachments": {},
   "cell_type": "markdown",
   "metadata": {},
   "source": [
    "### Set up environmnet"
   ]
  },
  {
   "cell_type": "code",
   "execution_count": 2,
   "metadata": {},
   "outputs": [
    {
     "data": {
      "text/plain": [
       "'c:\\\\Users\\\\MrJDF\\\\Desktop\\\\QualityAirQualityCities\\\\arcpy\\\\models\\\\..\\\\..\\\\data\\\\QAQC.gdb'"
      ]
     },
     "execution_count": 2,
     "metadata": {},
     "output_type": "execute_result"
    }
   ],
   "source": [
    "# Get CWD\n",
    "\n",
    "cwd = _dh[0] #this is a universal variable that calls the directory where the .ipynb file is located\n",
    "\n",
    "\n",
    "# Link it to the QAQC.gdb and make it the workspace\n",
    "\n",
    "arcpy.env.workspace = os.path.join(cwd, '..', '..', 'data', 'QAQC.gdb')\n",
    "\n",
    "# allow files to be overwritten\n",
    "arcpy.env.overwriteOutput = True \n",
    "#test\n",
    "arcpy.env.workspace"
   ]
  },
  {
   "attachments": {},
   "cell_type": "markdown",
   "metadata": {},
   "source": [
    "## Query elevation data from database\n",
    "- use SQL\n",
    "- may need to convert raster to point data\n",
    "    - see lab 02\n",
    "- resample to avoid crashing the computer\n",
    "--(may already be small enough)"
   ]
  },
  {
   "cell_type": "code",
   "execution_count": 29,
   "metadata": {},
   "outputs": [
    {
     "ename": "ExecuteError",
     "evalue": "Failed to execute. Parameters are not valid.\nERROR 000837: The workspace is not the correct workspace type.\nFailed to execute (MakeQueryLayer).\n",
     "output_type": "error",
     "traceback": [
      "\u001b[1;31m---------------------------------------------------------------------------\u001b[0m",
      "\u001b[1;31mExecuteError\u001b[0m                              Traceback (most recent call last)",
      "\u001b[1;32m<ipython-input-29-85a3a9824a3e>\u001b[0m in \u001b[0;36m<module>\u001b[1;34m\u001b[0m\n\u001b[0;32m      1\u001b[0m \u001b[1;31m# set save filepath\u001b[0m\u001b[1;33m\u001b[0m\u001b[1;33m\u001b[0m\u001b[0m\n\u001b[0;32m      2\u001b[0m \u001b[0msavepath\u001b[0m \u001b[1;33m=\u001b[0m \u001b[0mos\u001b[0m\u001b[1;33m.\u001b[0m\u001b[0mpath\u001b[0m\u001b[1;33m.\u001b[0m\u001b[0mjoin\u001b[0m\u001b[1;33m(\u001b[0m\u001b[0mcwd\u001b[0m\u001b[1;33m,\u001b[0m \u001b[1;34m'..'\u001b[0m\u001b[1;33m,\u001b[0m\u001b[1;34m'..'\u001b[0m\u001b[1;33m,\u001b[0m\u001b[1;34m'data'\u001b[0m\u001b[1;33m)\u001b[0m\u001b[1;33m\u001b[0m\u001b[1;33m\u001b[0m\u001b[0m\n\u001b[1;32m----> 3\u001b[1;33m \u001b[0marcpy\u001b[0m\u001b[1;33m.\u001b[0m\u001b[0mmanagement\u001b[0m\u001b[1;33m.\u001b[0m\u001b[0mMakeQueryLayer\u001b[0m\u001b[1;33m(\u001b[0m\u001b[0msavepath\u001b[0m \u001b[1;33m+\u001b[0m \u001b[1;34m\"\\34.123.228.238.sde\"\u001b[0m\u001b[1;33m,\u001b[0m \u001b[1;34m\"elevation_pts\"\u001b[0m\u001b[1;33m,\u001b[0m \u001b[1;34m\"SELECT * FROM elevation_points\"\u001b[0m\u001b[1;33m,\u001b[0m \u001b[1;34m\"grid_code\"\u001b[0m\u001b[1;33m,\u001b[0m \u001b[1;34m''\u001b[0m\u001b[1;33m,\u001b[0m \u001b[1;34m\"4326\"\u001b[0m\u001b[1;33m,\u001b[0m \u001b[1;34m'GEOGCS[\"GCS_WGS_1984\",DATUM[\"D_WGS_1984\",SPHEROID[\"WGS_1984\",6378137.0,298.257223563]],PRIMEM[\"Greenwich\",0.0],UNIT[\"Degree\",0.0174532925199433]];-400 -400 1000000000;-100000 10000;-100000 10000;8.98315284119521E-09;0.001;0.001;IsHighPrecision'\u001b[0m\u001b[1;33m,\u001b[0m \u001b[1;34m\"DEFINE_SPATIAL_PROPERTIES\"\u001b[0m\u001b[1;33m,\u001b[0m \u001b[1;34m\"DO_NOT_INCLUDE_M_VALUES\"\u001b[0m\u001b[1;33m,\u001b[0m \u001b[1;34m\"DO_NOT_INCLUDE_Z_VALUES\"\u001b[0m\u001b[1;33m,\u001b[0m \u001b[1;34m\"0 0 0 0\"\u001b[0m\u001b[1;33m)\u001b[0m\u001b[1;33m\u001b[0m\u001b[1;33m\u001b[0m\u001b[0m\n\u001b[0m\u001b[0;32m      4\u001b[0m \u001b[1;33m\u001b[0m\u001b[0m\n\u001b[0;32m      5\u001b[0m \u001b[1;31m#arcpy.management.MakeQueryLayer(r\"C:\\Users\\MrJDF\\Desktop\\arc2_lab2\\mpls_prplair_qaqc\\34.123.228.238.sde\", \"elevation_pts\", \"SELECT * FROM elevation_points\", \"grid_code\", '', \"4326\", 'GEOGCS[\"GCS_WGS_1984\",DATUM[\"D_WGS_1984\",SPHEROID[\"WGS_1984\",6378137.0,298.257223563]],PRIMEM[\"Greenwich\",0.0],UNIT[\"Degree\",0.0174532925199433]];-400 -400 1000000000;-100000 10000;-100000 10000;8.98315284119521E-09;0.001;0.001;IsHighPrecision', \"DEFINE_SPATIAL_PROPERTIES\", \"DO_NOT_INCLUDE_M_VALUES\", \"DO_NOT_INCLUDE_Z_VALUES\", \"0 0 0 0\")\u001b[0m\u001b[1;33m\u001b[0m\u001b[1;33m\u001b[0m\u001b[0m\n",
      "\u001b[1;32mC:\\Program Files\\ArcGIS\\Pro\\Resources\\ArcPy\\arcpy\\management.py\u001b[0m in \u001b[0;36mMakeQueryLayer\u001b[1;34m(input_database, out_layer_name, query, oid_fields, shape_type, srid, spatial_reference, spatial_properties, m_values, z_values, extent)\u001b[0m\n\u001b[0;32m  10362\u001b[0m         \u001b[1;32mreturn\u001b[0m \u001b[0mretval\u001b[0m\u001b[1;33m\u001b[0m\u001b[1;33m\u001b[0m\u001b[0m\n\u001b[0;32m  10363\u001b[0m     \u001b[1;32mexcept\u001b[0m \u001b[0mException\u001b[0m \u001b[1;32mas\u001b[0m \u001b[0me\u001b[0m\u001b[1;33m:\u001b[0m\u001b[1;33m\u001b[0m\u001b[1;33m\u001b[0m\u001b[0m\n\u001b[1;32m> 10364\u001b[1;33m         \u001b[1;32mraise\u001b[0m \u001b[0me\u001b[0m\u001b[1;33m\u001b[0m\u001b[1;33m\u001b[0m\u001b[0m\n\u001b[0m\u001b[0;32m  10365\u001b[0m \u001b[1;33m\u001b[0m\u001b[0m\n\u001b[0;32m  10366\u001b[0m \u001b[1;33m@\u001b[0m\u001b[0mgptooldoc\u001b[0m\u001b[1;33m(\u001b[0m\u001b[1;34m'MakeQueryTable_management'\u001b[0m\u001b[1;33m,\u001b[0m \u001b[1;32mNone\u001b[0m\u001b[1;33m)\u001b[0m\u001b[1;33m\u001b[0m\u001b[1;33m\u001b[0m\u001b[0m\n",
      "\u001b[1;32mC:\\Program Files\\ArcGIS\\Pro\\Resources\\ArcPy\\arcpy\\management.py\u001b[0m in \u001b[0;36mMakeQueryLayer\u001b[1;34m(input_database, out_layer_name, query, oid_fields, shape_type, srid, spatial_reference, spatial_properties, m_values, z_values, extent)\u001b[0m\n\u001b[0;32m  10359\u001b[0m     \u001b[1;32mfrom\u001b[0m \u001b[0marcpy\u001b[0m\u001b[1;33m.\u001b[0m\u001b[0marcobjects\u001b[0m\u001b[1;33m.\u001b[0m\u001b[0marcobjectconversion\u001b[0m \u001b[1;32mimport\u001b[0m \u001b[0mconvertArcObjectToPythonObject\u001b[0m\u001b[1;33m\u001b[0m\u001b[1;33m\u001b[0m\u001b[0m\n\u001b[0;32m  10360\u001b[0m     \u001b[1;32mtry\u001b[0m\u001b[1;33m:\u001b[0m\u001b[1;33m\u001b[0m\u001b[1;33m\u001b[0m\u001b[0m\n\u001b[1;32m> 10361\u001b[1;33m         \u001b[0mretval\u001b[0m \u001b[1;33m=\u001b[0m \u001b[0mconvertArcObjectToPythonObject\u001b[0m\u001b[1;33m(\u001b[0m\u001b[0mgp\u001b[0m\u001b[1;33m.\u001b[0m\u001b[0mMakeQueryLayer_management\u001b[0m\u001b[1;33m(\u001b[0m\u001b[1;33m*\u001b[0m\u001b[0mgp_fixargs\u001b[0m\u001b[1;33m(\u001b[0m\u001b[1;33m(\u001b[0m\u001b[0minput_database\u001b[0m\u001b[1;33m,\u001b[0m \u001b[0mout_layer_name\u001b[0m\u001b[1;33m,\u001b[0m \u001b[0mquery\u001b[0m\u001b[1;33m,\u001b[0m \u001b[0moid_fields\u001b[0m\u001b[1;33m,\u001b[0m \u001b[0mshape_type\u001b[0m\u001b[1;33m,\u001b[0m \u001b[0msrid\u001b[0m\u001b[1;33m,\u001b[0m \u001b[0mspatial_reference\u001b[0m\u001b[1;33m,\u001b[0m \u001b[0mspatial_properties\u001b[0m\u001b[1;33m,\u001b[0m \u001b[0mm_values\u001b[0m\u001b[1;33m,\u001b[0m \u001b[0mz_values\u001b[0m\u001b[1;33m,\u001b[0m \u001b[0mextent\u001b[0m\u001b[1;33m)\u001b[0m\u001b[1;33m,\u001b[0m \u001b[1;32mTrue\u001b[0m\u001b[1;33m)\u001b[0m\u001b[1;33m)\u001b[0m\u001b[1;33m)\u001b[0m\u001b[1;33m\u001b[0m\u001b[1;33m\u001b[0m\u001b[0m\n\u001b[0m\u001b[0;32m  10362\u001b[0m         \u001b[1;32mreturn\u001b[0m \u001b[0mretval\u001b[0m\u001b[1;33m\u001b[0m\u001b[1;33m\u001b[0m\u001b[0m\n\u001b[0;32m  10363\u001b[0m     \u001b[1;32mexcept\u001b[0m \u001b[0mException\u001b[0m \u001b[1;32mas\u001b[0m \u001b[0me\u001b[0m\u001b[1;33m:\u001b[0m\u001b[1;33m\u001b[0m\u001b[1;33m\u001b[0m\u001b[0m\n",
      "\u001b[1;32mC:\\Program Files\\ArcGIS\\Pro\\Resources\\ArcPy\\arcpy\\geoprocessing\\_base.py\u001b[0m in \u001b[0;36m<lambda>\u001b[1;34m(*args)\u001b[0m\n\u001b[0;32m    510\u001b[0m         \u001b[0mval\u001b[0m \u001b[1;33m=\u001b[0m \u001b[0mgetattr\u001b[0m\u001b[1;33m(\u001b[0m\u001b[0mself\u001b[0m\u001b[1;33m.\u001b[0m\u001b[0m_gp\u001b[0m\u001b[1;33m,\u001b[0m \u001b[0mattr\u001b[0m\u001b[1;33m)\u001b[0m\u001b[1;33m\u001b[0m\u001b[1;33m\u001b[0m\u001b[0m\n\u001b[0;32m    511\u001b[0m         \u001b[1;32mif\u001b[0m \u001b[0mcallable\u001b[0m\u001b[1;33m(\u001b[0m\u001b[0mval\u001b[0m\u001b[1;33m)\u001b[0m\u001b[1;33m:\u001b[0m\u001b[1;33m\u001b[0m\u001b[1;33m\u001b[0m\u001b[0m\n\u001b[1;32m--> 512\u001b[1;33m             \u001b[1;32mreturn\u001b[0m \u001b[1;32mlambda\u001b[0m \u001b[1;33m*\u001b[0m\u001b[0margs\u001b[0m\u001b[1;33m:\u001b[0m \u001b[0mval\u001b[0m\u001b[1;33m(\u001b[0m\u001b[1;33m*\u001b[0m\u001b[0mgp_fixargs\u001b[0m\u001b[1;33m(\u001b[0m\u001b[0margs\u001b[0m\u001b[1;33m,\u001b[0m \u001b[1;32mTrue\u001b[0m\u001b[1;33m)\u001b[0m\u001b[1;33m)\u001b[0m\u001b[1;33m\u001b[0m\u001b[1;33m\u001b[0m\u001b[0m\n\u001b[0m\u001b[0;32m    513\u001b[0m         \u001b[1;32melse\u001b[0m\u001b[1;33m:\u001b[0m\u001b[1;33m\u001b[0m\u001b[1;33m\u001b[0m\u001b[0m\n\u001b[0;32m    514\u001b[0m             \u001b[1;32mreturn\u001b[0m \u001b[0mconvertArcObjectToPythonObject\u001b[0m\u001b[1;33m(\u001b[0m\u001b[0mval\u001b[0m\u001b[1;33m)\u001b[0m\u001b[1;33m\u001b[0m\u001b[1;33m\u001b[0m\u001b[0m\n",
      "\u001b[1;31mExecuteError\u001b[0m: Failed to execute. Parameters are not valid.\nERROR 000837: The workspace is not the correct workspace type.\nFailed to execute (MakeQueryLayer).\n"
     ]
    }
   ],
   "source": [
    "# set save filepath\n",
    "savepath = os.path.join(cwd, '..','..','data')\n",
    "# arcpy.management.MakeQueryLayer(savepath + \"\\34.123.228.238.sde\", \"elevation_pts\", \"SELECT * FROM elevation_points\", \"grid_code\", '', \"4326\", 'GEOGCS[\"GCS_WGS_1984\",DATUM[\"D_WGS_1984\",SPHEROID[\"WGS_1984\",6378137.0,298.257223563]],PRIMEM[\"Greenwich\",0.0],UNIT[\"Degree\",0.0174532925199433]];-400 -400 1000000000;-100000 10000;-100000 10000;8.98315284119521E-09;0.001;0.001;IsHighPrecision', \"DEFINE_SPATIAL_PROPERTIES\", \"DO_NOT_INCLUDE_M_VALUES\", \"DO_NOT_INCLUDE_Z_VALUES\", \"0 0 0 0\")\n",
    "\n",
    "arcpy.management.MakeQueryLayer(r\"C:\\Users\\MrJDF\\Desktop\\arc2_lab2\\mpls_prplair_qaqc\\34.123.228.238.sde\", \"elevation_pts\", \"SELECT * FROM elevation_points\", \"grid_code\", '', \"4326\", 'GEOGCS[\"GCS_WGS_1984\",DATUM[\"D_WGS_1984\",SPHEROID[\"WGS_1984\",6378137.0,298.257223563]],PRIMEM[\"Greenwich\",0.0],UNIT[\"Degree\",0.0174532925199433]];-400 -400 1000000000;-100000 10000;-100000 10000;8.98315284119521E-09;0.001;0.001;IsHighPrecision', \"DEFINE_SPATIAL_PROPERTIES\", \"DO_NOT_INCLUDE_M_VALUES\", \"DO_NOT_INCLUDE_Z_VALUES\", \"0 0 0 0\")\n",
    "\n",
    "\n",
    "# Copy to GDB does not yet work as expected. Use the layer above as is.\n",
    "#arcpy.management.CopyFeatures(\"elevtion_pts\", r\"C:\\Users\\MrJDF\\Desktop\\arc2_lab2\\mpls_prplair_qaqc\\elevation.shp\", '', None, None, None)"
   ]
  },
  {
   "cell_type": "code",
   "execution_count": 30,
   "metadata": {},
   "outputs": [
    {
     "data": {
      "text/html": [
       "<div class='gpresult'><h2>Messages</h2><div id='messages' data-messages='[\"Start Time: Saturday, April 8, 2023 7:20:46 PM\",\"Succeeded at Saturday, April 8, 2023 7:20:47 PM (Elapsed Time: 1.40 seconds)\"]' data-show='true'><div id = 'default' /></div></div>"
      ],
      "text/plain": [
       "<Result 'c:\\\\Users\\\\MrJDF\\\\Desktop\\\\QualityAirQualityCities\\\\arcpy\\\\models\\\\..\\\\..\\\\dataelevation_pts_ExportFeatures.shp'>"
      ]
     },
     "execution_count": 30,
     "metadata": {},
     "output_type": "execute_result"
    }
   ],
   "source": [
    "# Export Query Layer (save to local GDB)\n",
    "\n",
    "# set save filepath\n",
    "savepath = os.path.join(cwd, '..','..','data')\n",
    "\n",
    "arcpy.conversion.ExportFeatures(\"elevation_pts\", savepath + \"elevation_pts_ExportFeatures\", '', \"NOT_USE_ALIAS\", 'pointid \"pointid\" true true false 4 Long 0 10,First,#,elevation_pts,pointid,-1,-1;grid_code \"grid_code\" true true false 4 Long 0 10,First,#,elevation_pts,grid_code,-1,-1', None)\n",
    "\n",
    "#arcpy.conversion.ExportFeatures(\"elevation_pts\", r\"C:\\Users\\MrJDF\\Desktop\\arc2_lab2\\mpls_prplair_qaqc\\mpls_prplair_qaqc.gdb\\elevation_pts_ExportFeatures\", '', \"NOT_USE_ALIAS\", 'pointid \"pointid\" true true false 4 Long 0 10,First,#,elevation_pts,pointid,-1,-1;grid_code \"grid_code\" true true false 4 Long 0 10,First,#,elevation_pts,grid_code,-1,-1', None)"
   ]
  },
  {
   "cell_type": "code",
   "execution_count": 4,
   "metadata": {},
   "outputs": [],
   "source": [
    "# set variable to local layer file\n",
    "\n",
    "#TODO: Change this to relative path, save to data folder!\n",
    "\n",
    "elevation_pts = r\"C:\\Users\\MrJDF\\Desktop\\arc2_lab2\\mpls_prplair_qaqc\\mpls_prplair_qaqc.gdb\\elevation_pts_ExportFeatures\""
   ]
  },
  {
   "attachments": {},
   "cell_type": "markdown",
   "metadata": {},
   "source": [
    "### Sample the dataset\n",
    "- define appropriate sample size (with proof)\n",
    "    - This is done in lab 2 where I downsample the 1m raster to 100m, which uses bilinear interpolation (nearest neighbor), then convert those rasters to point data, selecting the mean value of rasters within the point conversion grid.\n",
    "    - might need to downsample again for size, but this is running well now."
   ]
  },
  {
   "attachments": {},
   "cell_type": "markdown",
   "metadata": {},
   "source": [
    "### Run 3 different interpolation algorithms, save to local gdb\n",
    "- ordinary Kriging\n",
    "- IDW\n",
    "- Empirical Bayesian Kriging\n",
    "- Local Polynomial KDE"
   ]
  },
  {
   "cell_type": "code",
   "execution_count": null,
   "metadata": {},
   "outputs": [],
   "source": [
    "# Ordinary Kriging\n",
    "out_surface_raster = arcpy.sa.Kriging(elevation_pts, \"grid_code\", \"Spherical 0.000125 # # #\", 0.000124525892000065, \"VARIABLE 12\", None); out_surface_raster.save(r\"C:\\Users\\MrJDF\\Desktop\\arc2_lab2\\mpls_prplair_qaqc\\mpls_prplair_qaqc.gdb\\Kriging_lab03\")"
   ]
  },
  {
   "cell_type": "code",
   "execution_count": 15,
   "metadata": {},
   "outputs": [],
   "source": [
    "# IDW\n",
    "elevation_pts = r\"C:\\Users\\MrJDF\\Desktop\\arc2_lab2\\mpls_prplair_qaqc\\mpls_prplair_qaqc.gdb\\elevation_pts_ExportFeatures\"\n",
    "\n",
    "arcpy.ga.IDW(elevation_pts, \"grid_code\", \"idw_stats\", r\"C:\\Users\\MrJDF\\Desktop\\arc2_lab2\\mpls_prplair_qaqc\\mpls_prplair_qaqc.gdb\\idw_lab03\", 0.000124525892000065, 2, \"NBRTYPE=Standard S_MAJOR=1.76434719213634E-02 S_MINOR=1.76434719213634E-02 ANGLE=0 NBR_MAX=15 NBR_MIN=10 SECTOR_TYPE=ONE_SECTOR\", None)\n",
    "\n",
    "idw_stats = \"idw_stats\"\n",
    "\n",
    "# I'm getting the error below bc of file path stuff change to full filepath"
   ]
  },
  {
   "cell_type": "code",
   "execution_count": 23,
   "metadata": {},
   "outputs": [],
   "source": [
    "# Empirical Bayesian Kriging\n",
    "arcpy.ga.EmpiricalBayesianKriging(elevation_pts, \"grid_code\", \"Bayesian_Kriging_stats\", r\"C:\\Users\\MrJDF\\Desktop\\arc2_lab2\\mpls_prplair_qaqc\\mpls_prplair_qaqc.gdb\\Bayesian_Kriging_lab03\", 0.000124525892000065, \"NONE\", 100, 1, 100, \"NBRTYPE=StandardCircular RADIUS=1.76434719213634E-02 ANGLE=0 NBR_MAX=15 NBR_MIN=10 SECTOR_TYPE=ONE_SECTOR\", \"PREDICTION\", 0.5, \"EXCEED\", None, \"POWER\")\n",
    "bayesian_kriging_stats = \"Bayseian_kriging_stats\""
   ]
  },
  {
   "cell_type": "code",
   "execution_count": 24,
   "metadata": {},
   "outputs": [],
   "source": [
    "# local polynomial kernel\n",
    "arcpy.ga.LocalPolynomialInterpolation(elevation_pts, \"grid_code\", \"lcl_polynomial_stats\", r\"C:\\Users\\MrJDF\\Desktop\\arc2_lab2\\mpls_prplair_qaqc\\mpls_prplair_qaqc.gdb\\lcl_polynomial_lab03\", 0.000124525892000065, 1, \"NBRTYPE=Standard S_MAJOR=1.76434719213634E-02 S_MINOR=1.76434719213634E-02 ANGLE=0 NBR_MAX=15 NBR_MIN=10 SECTOR_TYPE=ONE_SECTOR\", \"EXPONENTIAL\", None, \"NO_USE_CONDITION_NUMBER\", None, None, \"PREDICTION\")\n",
    "lcl_poly_stats = \"lcl_polynomial_stats\"\n"
   ]
  },
  {
   "cell_type": "code",
   "execution_count": null,
   "metadata": {},
   "outputs": [],
   "source": [
    "# Spline\n",
    "# out_raster = arcpy.sa.Spline(\"elevation_pts\", \"grid_code\", 0.000124525892000065, \"REGULARIZED\", 0.1, 12); out_raster.save(r\"C:\\Users\\MrJDF\\Desktop\\arc2_lab2\\mpls_prplair_qaqc\\mpls_prplair_qaqc.gdb\\Spline_lab03\")"
   ]
  },
  {
   "attachments": {},
   "cell_type": "markdown",
   "metadata": {},
   "source": [
    "### Save the interpolated maps to my GDB and PostGIS DB\n",
    "- convert to point layer and use psycopg2 to make new tables in sql remote db\n",
    "- save raster to gdb should be basic"
   ]
  },
  {
   "cell_type": "code",
   "execution_count": 6,
   "metadata": {},
   "outputs": [],
   "source": [
    "# set save filepath\n",
    "savepath = os.path.join(cwd, '..','..','data')"
   ]
  },
  {
   "cell_type": "code",
   "execution_count": 7,
   "metadata": {},
   "outputs": [
    {
     "ename": "ExecuteError",
     "evalue": "Failed to execute. Parameters are not valid.\nERROR 000860: Input raster: is not the type of Composite Geodataset, or does not exist.\nWARNING 001000: Field: Field VALUE does not exist\nFailed to execute (RasterToPoint).\n",
     "output_type": "error",
     "traceback": [
      "\u001b[1;31m---------------------------------------------------------------------------\u001b[0m",
      "\u001b[1;31mExecuteError\u001b[0m                              Traceback (most recent call last)",
      "\u001b[1;32m<ipython-input-7-283d08e40c77>\u001b[0m in \u001b[0;36m<module>\u001b[1;34m\u001b[0m\n\u001b[0;32m      2\u001b[0m \u001b[1;33m\u001b[0m\u001b[0m\n\u001b[0;32m      3\u001b[0m \u001b[1;31m#arcpy.conversion.RasterToPoint(\"source.img\", \"c:/output/source.shp\", \"VALUE\")\u001b[0m\u001b[1;33m\u001b[0m\u001b[1;33m\u001b[0m\u001b[0m\n\u001b[1;32m----> 4\u001b[1;33m \u001b[0mordinaryKrg\u001b[0m \u001b[1;33m=\u001b[0m \u001b[0marcpy\u001b[0m\u001b[1;33m.\u001b[0m\u001b[0mconversion\u001b[0m\u001b[1;33m.\u001b[0m\u001b[0mRasterToPoint\u001b[0m\u001b[1;33m(\u001b[0m\u001b[0msavepath\u001b[0m \u001b[1;33m+\u001b[0m \u001b[1;34m\"Kriging_lab03\"\u001b[0m\u001b[1;33m,\u001b[0m \u001b[0msavepath\u001b[0m \u001b[1;33m+\u001b[0m \u001b[1;34m\"ordinaryKrgPts\"\u001b[0m\u001b[1;33m,\u001b[0m \u001b[1;34m\"VALUE\"\u001b[0m\u001b[1;33m)\u001b[0m\u001b[1;33m\u001b[0m\u001b[1;33m\u001b[0m\u001b[0m\n\u001b[0m\u001b[0;32m      5\u001b[0m \u001b[0mempBayesKrg\u001b[0m \u001b[1;33m=\u001b[0m \u001b[0marcpy\u001b[0m\u001b[1;33m.\u001b[0m\u001b[0mconversion\u001b[0m\u001b[1;33m.\u001b[0m\u001b[0mRasterToPoint\u001b[0m\u001b[1;33m(\u001b[0m\u001b[0msavepath\u001b[0m \u001b[1;33m+\u001b[0m \u001b[1;34m\"Bayesian_Kriging_lab03\"\u001b[0m\u001b[1;33m,\u001b[0m\u001b[0msavepath\u001b[0m \u001b[1;33m+\u001b[0m \u001b[1;34m\"BayesianKrgPts\"\u001b[0m\u001b[1;33m,\u001b[0m \u001b[1;34m\"VALUE\"\u001b[0m\u001b[1;33m)\u001b[0m\u001b[1;33m\u001b[0m\u001b[1;33m\u001b[0m\u001b[0m\n\u001b[0;32m      6\u001b[0m \u001b[0midw\u001b[0m \u001b[1;33m=\u001b[0m \u001b[0marcpy\u001b[0m\u001b[1;33m.\u001b[0m\u001b[0mconversion\u001b[0m\u001b[1;33m.\u001b[0m\u001b[0mRasterToPoint\u001b[0m\u001b[1;33m(\u001b[0m\u001b[0msavepath\u001b[0m \u001b[1;33m+\u001b[0m \u001b[1;34m\"idw_lab03\"\u001b[0m\u001b[1;33m,\u001b[0m \u001b[0msavepath\u001b[0m \u001b[1;33m+\u001b[0m \u001b[1;34m\"idwPts\"\u001b[0m\u001b[1;33m,\u001b[0m \u001b[1;34m\"VALUE\"\u001b[0m\u001b[1;33m)\u001b[0m\u001b[1;33m\u001b[0m\u001b[1;33m\u001b[0m\u001b[0m\n",
      "\u001b[1;32mC:\\Program Files\\ArcGIS\\Pro\\Resources\\ArcPy\\arcpy\\conversion.py\u001b[0m in \u001b[0;36mRasterToPoint\u001b[1;34m(in_raster, out_point_features, raster_field)\u001b[0m\n\u001b[0;32m    717\u001b[0m         \u001b[1;32mreturn\u001b[0m \u001b[0mretval\u001b[0m\u001b[1;33m\u001b[0m\u001b[1;33m\u001b[0m\u001b[0m\n\u001b[0;32m    718\u001b[0m     \u001b[1;32mexcept\u001b[0m \u001b[0mException\u001b[0m \u001b[1;32mas\u001b[0m \u001b[0me\u001b[0m\u001b[1;33m:\u001b[0m\u001b[1;33m\u001b[0m\u001b[1;33m\u001b[0m\u001b[0m\n\u001b[1;32m--> 719\u001b[1;33m         \u001b[1;32mraise\u001b[0m \u001b[0me\u001b[0m\u001b[1;33m\u001b[0m\u001b[1;33m\u001b[0m\u001b[0m\n\u001b[0m\u001b[0;32m    720\u001b[0m \u001b[1;33m\u001b[0m\u001b[0m\n\u001b[0;32m    721\u001b[0m \u001b[1;33m@\u001b[0m\u001b[0mgptooldoc\u001b[0m\u001b[1;33m(\u001b[0m\u001b[1;34m'RasterToPolygon_conversion'\u001b[0m\u001b[1;33m,\u001b[0m \u001b[1;32mNone\u001b[0m\u001b[1;33m)\u001b[0m\u001b[1;33m\u001b[0m\u001b[1;33m\u001b[0m\u001b[0m\n",
      "\u001b[1;32mC:\\Program Files\\ArcGIS\\Pro\\Resources\\ArcPy\\arcpy\\conversion.py\u001b[0m in \u001b[0;36mRasterToPoint\u001b[1;34m(in_raster, out_point_features, raster_field)\u001b[0m\n\u001b[0;32m    714\u001b[0m     \u001b[1;32mfrom\u001b[0m \u001b[0marcpy\u001b[0m\u001b[1;33m.\u001b[0m\u001b[0marcobjects\u001b[0m\u001b[1;33m.\u001b[0m\u001b[0marcobjectconversion\u001b[0m \u001b[1;32mimport\u001b[0m \u001b[0mconvertArcObjectToPythonObject\u001b[0m\u001b[1;33m\u001b[0m\u001b[1;33m\u001b[0m\u001b[0m\n\u001b[0;32m    715\u001b[0m     \u001b[1;32mtry\u001b[0m\u001b[1;33m:\u001b[0m\u001b[1;33m\u001b[0m\u001b[1;33m\u001b[0m\u001b[0m\n\u001b[1;32m--> 716\u001b[1;33m         \u001b[0mretval\u001b[0m \u001b[1;33m=\u001b[0m \u001b[0mconvertArcObjectToPythonObject\u001b[0m\u001b[1;33m(\u001b[0m\u001b[0mgp\u001b[0m\u001b[1;33m.\u001b[0m\u001b[0mRasterToPoint_conversion\u001b[0m\u001b[1;33m(\u001b[0m\u001b[1;33m*\u001b[0m\u001b[0mgp_fixargs\u001b[0m\u001b[1;33m(\u001b[0m\u001b[1;33m(\u001b[0m\u001b[0min_raster\u001b[0m\u001b[1;33m,\u001b[0m \u001b[0mout_point_features\u001b[0m\u001b[1;33m,\u001b[0m \u001b[0mraster_field\u001b[0m\u001b[1;33m)\u001b[0m\u001b[1;33m,\u001b[0m \u001b[1;32mTrue\u001b[0m\u001b[1;33m)\u001b[0m\u001b[1;33m)\u001b[0m\u001b[1;33m)\u001b[0m\u001b[1;33m\u001b[0m\u001b[1;33m\u001b[0m\u001b[0m\n\u001b[0m\u001b[0;32m    717\u001b[0m         \u001b[1;32mreturn\u001b[0m \u001b[0mretval\u001b[0m\u001b[1;33m\u001b[0m\u001b[1;33m\u001b[0m\u001b[0m\n\u001b[0;32m    718\u001b[0m     \u001b[1;32mexcept\u001b[0m \u001b[0mException\u001b[0m \u001b[1;32mas\u001b[0m \u001b[0me\u001b[0m\u001b[1;33m:\u001b[0m\u001b[1;33m\u001b[0m\u001b[1;33m\u001b[0m\u001b[0m\n",
      "\u001b[1;32mC:\\Program Files\\ArcGIS\\Pro\\Resources\\ArcPy\\arcpy\\geoprocessing\\_base.py\u001b[0m in \u001b[0;36m<lambda>\u001b[1;34m(*args)\u001b[0m\n\u001b[0;32m    510\u001b[0m         \u001b[0mval\u001b[0m \u001b[1;33m=\u001b[0m \u001b[0mgetattr\u001b[0m\u001b[1;33m(\u001b[0m\u001b[0mself\u001b[0m\u001b[1;33m.\u001b[0m\u001b[0m_gp\u001b[0m\u001b[1;33m,\u001b[0m \u001b[0mattr\u001b[0m\u001b[1;33m)\u001b[0m\u001b[1;33m\u001b[0m\u001b[1;33m\u001b[0m\u001b[0m\n\u001b[0;32m    511\u001b[0m         \u001b[1;32mif\u001b[0m \u001b[0mcallable\u001b[0m\u001b[1;33m(\u001b[0m\u001b[0mval\u001b[0m\u001b[1;33m)\u001b[0m\u001b[1;33m:\u001b[0m\u001b[1;33m\u001b[0m\u001b[1;33m\u001b[0m\u001b[0m\n\u001b[1;32m--> 512\u001b[1;33m             \u001b[1;32mreturn\u001b[0m \u001b[1;32mlambda\u001b[0m \u001b[1;33m*\u001b[0m\u001b[0margs\u001b[0m\u001b[1;33m:\u001b[0m \u001b[0mval\u001b[0m\u001b[1;33m(\u001b[0m\u001b[1;33m*\u001b[0m\u001b[0mgp_fixargs\u001b[0m\u001b[1;33m(\u001b[0m\u001b[0margs\u001b[0m\u001b[1;33m,\u001b[0m \u001b[1;32mTrue\u001b[0m\u001b[1;33m)\u001b[0m\u001b[1;33m)\u001b[0m\u001b[1;33m\u001b[0m\u001b[1;33m\u001b[0m\u001b[0m\n\u001b[0m\u001b[0;32m    513\u001b[0m         \u001b[1;32melse\u001b[0m\u001b[1;33m:\u001b[0m\u001b[1;33m\u001b[0m\u001b[1;33m\u001b[0m\u001b[0m\n\u001b[0;32m    514\u001b[0m             \u001b[1;32mreturn\u001b[0m \u001b[0mconvertArcObjectToPythonObject\u001b[0m\u001b[1;33m(\u001b[0m\u001b[0mval\u001b[0m\u001b[1;33m)\u001b[0m\u001b[1;33m\u001b[0m\u001b[1;33m\u001b[0m\u001b[0m\n",
      "\u001b[1;31mExecuteError\u001b[0m: Failed to execute. Parameters are not valid.\nERROR 000860: Input raster: is not the type of Composite Geodataset, or does not exist.\nWARNING 001000: Field: Field VALUE does not exist\nFailed to execute (RasterToPoint).\n"
     ]
    }
   ],
   "source": [
    "# convert rasters to point layers\n",
    "\n",
    "#arcpy.conversion.RasterToPoint(\"source.img\", \"c:/output/source.shp\", \"VALUE\")\n",
    "ordinaryKrg = arcpy.conversion.RasterToPoint(savepath + \"Kriging_lab03\", savepath + \"ordinaryKrgPts\", \"VALUE\")\n",
    "empBayesKrg = arcpy.conversion.RasterToPoint(savepath + \"Bayesian_Kriging_lab03\",savepath + \"BayesianKrgPts\", \"VALUE\")\n",
    "idw = arcpy.conversion.RasterToPoint(savepath + \"idw_lab03\", savepath + \"idwPts\", \"VALUE\")\n",
    "lclPolyKernel = arcpy.conversion.RasterToPoint(savepath + \"lcl_polynomial_lab03\", savepath + \"lclPolyPts\", \"VALUE\")\n",
    "with arcpy.EnvManager(outputCoordinateSystem='GEOGCS[\"GCS_WGS_1984\",DATUM[\"D_WGS_1984\",SPHEROID[\"WGS_1984\",6378137.0,298.257223563]],PRIMEM[\"Greenwich\",0.0],UNIT[\"Degree\",0.0174532925199433]]', outputZFlag=\"Disabled\", outputMFlag=\"Disabled\"):\n",
    "    #arcpy.conversion.RasterToPoint(\"idw_lab03\", r\"C:\\Users\\MrJDF\\Desktop\\arc2_lab2\\mpls_prplair_qaqc\\mpls_prplair_qaqc.gdb\\RasterT_idw_lab1\", \"Value\")"
   ]
  },
  {
   "cell_type": "code",
   "execution_count": null,
   "metadata": {},
   "outputs": [],
   "source": [
    "# create table and upload data to sql DB"
   ]
  },
  {
   "attachments": {},
   "cell_type": "markdown",
   "metadata": {},
   "source": [
    "## Evaluate the interpolated estimates of each model compared to the true DEM\n",
    "- leave one out CROSS VALIDATION in geoprocessing arcpy\n",
    "- store this accuracy assessment as a table in postgres\n",
    "- and in home gdb\n",
    "\n",
    "## Find and store differences between ground truth and model predictions in a point layer\n",
    "- visualize this like in Luke's slides\n",
    "- save to proj GDB and postgres\n",
    "- compute rmse?"
   ]
  },
  {
   "cell_type": "code",
   "execution_count": null,
   "metadata": {},
   "outputs": [],
   "source": [
    "# Cross Validation, outputs a point layer with stats including error for each point\n",
    "\n",
    "# idw\n",
    "arcpy.ga.CrossValidation(\"idw_stats\", r\"C:\\Users\\MrJDF\\Desktop\\arc2_lab2\\mpls_prplair_qaqc\\mpls_prplair_qaqc.gdb\\idw_crossval\")"
   ]
  },
  {
   "cell_type": "code",
   "execution_count": null,
   "metadata": {},
   "outputs": [],
   "source": [
    "#Bayseian Kriging\n",
    "arcpy.ga.CrossValidation(\"Bayesian_Kriging_stats\", r\"C:\\Users\\MrJDF\\Desktop\\arc2_lab2\\mpls_prplair_qaqc\\mpls_prplair_qaqc.gdb\\Bayesian_Kriging_crossval\")"
   ]
  },
  {
   "cell_type": "code",
   "execution_count": null,
   "metadata": {},
   "outputs": [],
   "source": [
    "# local polynomial kernel\n",
    "arcpy.ga.CrossValidation(\"lcl_polynomial_stats\", r\"C:\\Users\\MrJDF\\Desktop\\arc2_lab2\\mpls_prplair_qaqc\\mpls_prplair_qaqc.gdb\\lcl_polynomial_crossval\")"
   ]
  },
  {
   "cell_type": "code",
   "execution_count": null,
   "metadata": {},
   "outputs": [],
   "source": [
    "# Compare results, output comparison table, table with best fit model by percent accuracy\n",
    "# outputs a geostatistical comparison in the arc project\n",
    "arcpy.ga.CompareGeostatisticalLayers(\"lcl_polynomial_stats;idw_stats;Bayesian_Kriging_stats\", r\"C:\\Users\\MrJDF\\Desktop\\arc2_lab2\\mpls_prplair_qaqc\\mpls_prplair_qaqc.gdb\\CompareGeostatisticalLayers1\", \"BestInterpByComparrison\", \"SINGLE\", \"ACCURACY\", \"ACCURACY PERCENT #\", \"ACCURACY 1\", None)"
   ]
  },
  {
   "attachments": {},
   "cell_type": "markdown",
   "metadata": {},
   "source": [
    "## save to postgres"
   ]
  },
  {
   "cell_type": "code",
   "execution_count": 27,
   "metadata": {},
   "outputs": [
    {
     "name": "stdout",
     "output_type": "stream",
     "text": [
      "connected\n"
     ]
    }
   ],
   "source": [
    "# Get credentials\n",
    "\n",
    "cred_pth = os.path.join(os.getcwd(), '..', '..', 'database', 'db_credentials.txt')\n",
    "\n",
    "with open(cred_pth, 'r') as f:\n",
    "    \n",
    "    creds = f.readlines()[0].split(', ')\n",
    "\n",
    "# Connect to PostGIS Database\n",
    "\n",
    "pg_connection_dict = dict(zip(['dbname', 'user', 'password', 'port', 'host'], creds))\n",
    "\n",
    "try:\n",
    "    conn = psycopg2.connect(**pg_connection_dict)\n",
    "    print(\"connected\")\n",
    "except:\n",
    "    print(\"connection failed\")"
   ]
  },
  {
   "cell_type": "code",
   "execution_count": null,
   "metadata": {},
   "outputs": [],
   "source": [
    "#TODO make this a function, pass a series of lists with the correct tabel credentials and table names \n",
    "#TODO clean up the file path mess, it's causing all your headaches\n",
    "\n",
    "# set save filepath\n",
    "savepath = os.path.join(cwd, '..','..','data')\n",
    "\n",
    "points = os.path.join(savepath, \"aoi_elev_4326_points.shp\")\n",
    "fields_points = ['pointid', 'grid_code', \"Shape@WKT\"]\n",
    "\n",
    "# Create SQL table\n",
    "cursor = conn.cursor()\n",
    "cursor.execute(\"DROP TABLE IF EXISTS elevation_points\")\n",
    "cursor.execute(\"\"\"\n",
    "    CREATE TABLE elevation_points (\n",
    "        id SERIAL,\n",
    "        pointid INT,\n",
    "        grid_code INT)\n",
    "\"\"\")\n",
    "\n",
    "cursor.execute(\"\"\"\n",
    "    SELECT AddGeometryColumn('elevation_points', 'geom', 4326, 'POINT', 2)\n",
    "\"\"\")\n",
    "\n",
    "# Populate PostGIS\n",
    "with arcpy.da.SearchCursor(points, fields_points) as da_cursor:\n",
    "    for row in da_cursor:\n",
    "        wkt = row[2]\n",
    "        cursor.execute(\"INSERT INTO elevation_points (pointid, grid_code, geom) VALUES (%s, %s, ST_GeomFromText(%s, 4326))\", (row[0], row[1], wkt))\n",
    "\n",
    "conn.commit()"
   ]
  },
  {
   "cell_type": "code",
   "execution_count": null,
   "metadata": {},
   "outputs": [],
   "source": [
    "#dumping it into a numpy array for calculating rmse\n",
    "input = r\"C:\\Users\\laure\\OneDrive\\Documents\\ArcGIS\\Projects\\PurpleAirStations\\PurpleAirStations.gdb\\lp_cv\"\n",
    "arr_temp_lp = arcpy.da.TableToNumPyArray(input, (\"OBJECTID\", \"Error\"))\n",
    "\n",
    "#putting the numpy array into a pd df\n",
    "lp_temp_arr = pd.DataFrame(arr_temp_lp, columns=[\"OBJECTID\", \"Error\"])\n",
    "\n",
    "# Calculate squared error\n",
    "lp_temp_arr['squared_error'] = lp_temp_arr['Error'] ** 2\n",
    "\n",
    "# Calculate RMSE\n",
    "lp_rmse = numpy.sqrt(lp_temp_arr['squared_error'].mean())\n",
    "\n",
    "# Display RMSE\n",
    "print(\"RMSE: \", lp_rmse)\n",
    "\n",
    "DO THE ABOVE FOR EACH INTERPOLATION\n",
    "\n",
    "#bringing the RMSE values together in a pd df to compare\n",
    "\n",
    "temp_compare = pd.DataFrame({'method':['kriging', 'idw', 'local polynomial'],\n",
    "                            'RMSE':[krig_rmse, idw_rmse, lp_rmse]})\n",
    "temp_compare\n",
    "\n",
    "#conclusion\n",
    "# Get index of row with lowest value of rmse\n",
    "min_index = temp_compare['RMSE'].idxmin()\n",
    "\n",
    "# Get method with lowest rmse\n",
    "min_id = temp_compare.loc[min_index, 'method']\n",
    "\n",
    "print(\"Method with the lowest RMSE value is\", min_id)"
   ]
  }
 ],
 "metadata": {
  "kernelspec": {
   "display_name": "Python 3",
   "language": "python",
   "name": "python3"
  },
  "language_info": {
   "codemirror_mode": {
    "name": "ipython",
    "version": 3
   },
   "file_extension": ".py",
   "mimetype": "text/x-python",
   "name": "python",
   "nbconvert_exporter": "python",
   "pygments_lexer": "ipython3",
   "version": "3.9.11"
  },
  "orig_nbformat": 4,
  "vscode": {
   "interpreter": {
    "hash": "8aaf0cbf6ca12b9026f66bc3bca7f21734839ea07af9c2d4802583a78f11ee0f"
   }
  }
 },
 "nbformat": 4,
 "nbformat_minor": 2
}
