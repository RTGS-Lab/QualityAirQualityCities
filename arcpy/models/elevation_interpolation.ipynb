{
 "cells": [
  {
   "cell_type": "markdown",
   "metadata": {},
   "source": [
    "# Elevation Interpolation"
   ]
  },
  {
   "cell_type": "code",
   "execution_count": 8,
   "metadata": {},
   "outputs": [],
   "source": [
    "# import libraries\n",
    "import arcpy\n",
    "from arcpy import env # to set working environmnet\n",
    "import pandas as pd\n",
    "import psycopg2\n",
    "import os # file path managment"
   ]
  },
  {
   "cell_type": "markdown",
   "metadata": {},
   "source": [
    "### Set up environmnet"
   ]
  },
  {
   "cell_type": "code",
   "execution_count": 9,
   "metadata": {},
   "outputs": [
    {
     "data": {
      "text/plain": [
       "'C:\\\\WINDOWS\\\\system32\\\\..\\\\..\\\\data\\\\QAQC.gdb'"
      ]
     },
     "execution_count": 9,
     "metadata": {},
     "output_type": "execute_result"
    }
   ],
   "source": [
    "# Get CWD\n",
    "\n",
    "cwd = _dh[0] #this is a universal variable that calls the directory where the .ipynb file is located\n",
    "\n",
    "\n",
    "# Link it to the QAQC.gdb and make it the workspace\n",
    "\n",
    "arcpy.env.workspace = os.path.join(cwd, '..', '..', 'data', 'QAQC.gdb')\n",
    "\n",
    "# allow files to be overwritten\n",
    "arcpy.env.overwriteOutput = True \n",
    "#test\n",
    "arcpy.env.workspace"
   ]
  },
  {
   "cell_type": "markdown",
   "metadata": {},
   "source": [
    "## Query elevation data from database\n",
    "- use SQL\n",
    "- may need to convert raster to point data\n",
    "- resample to avoid crashing the computer\n",
    "--(may already be small enough)"
   ]
  },
  {
   "cell_type": "code",
   "execution_count": 10,
   "metadata": {},
   "outputs": [
    {
     "ename": "FileNotFoundError",
     "evalue": "[Errno 2] No such file or directory: 'C:\\\\WINDOWS\\\\system32\\\\..\\\\..\\\\database\\\\db_credentials.txt'",
     "output_type": "error",
     "traceback": [
      "\u001b[0;31m---------------------------------------------------------------------------\u001b[0m\n\u001b[0;31mFileNotFoundError\u001b[0m                         Traceback (most recent call last)",
      "In  \u001b[0;34m[10]\u001b[0m:\nLine \u001b[0;34m5\u001b[0m:     \u001b[34mwith\u001b[39;49;00m \u001b[36mopen\u001b[39;49;00m(cred_pth, \u001b[33m'\u001b[39;49;00m\u001b[33mr\u001b[39;49;00m\u001b[33m'\u001b[39;49;00m) \u001b[34mas\u001b[39;49;00m f:\n",
      "\u001b[0;31mFileNotFoundError\u001b[0m: [Errno 2] No such file or directory: 'C:\\\\WINDOWS\\\\system32\\\\..\\\\..\\\\database\\\\db_credentials.txt'\n\u001b[0;31m---------------------------------------------------------------------------\u001b[0m"
     ]
    }
   ],
   "source": [
    "# Get credentials\n",
    "\n",
    "cred_pth = os.path.join(os.getcwd(), '..', '..', 'database', 'db_credentials.txt')\n",
    "\n",
    "with open(cred_pth, 'r') as f:\n",
    "    \n",
    "    creds = f.readlines()[0].split(', ')\n",
    "\n",
    "# set raster location variables\n",
    "schema = 'postgres'\n",
    "table = 'minneapolisdem'\n",
    "column = 'rast'\n",
    "\n",
    "# Connect to PostGIS Database\n",
    "\n",
    "pg_connection_dict = dict(zip(['dbname', 'user', 'password', 'port', 'host'], creds))\n",
    "\n",
    "conn = psycopg2.connect(**pg_connection_dict)\n",
    "\n",
    "\n"
   ]
  },
  {
   "cell_type": "code",
   "execution_count": 35,
   "metadata": {},
   "outputs": [],
   "source": [
    "cur = conn.cursor()\n",
    "cur.execute(\"SELECT * FROM minneapolisdem;\")\n"
   ]
  },
  {
   "cell_type": "code",
   "execution_count": 38,
   "metadata": {},
   "outputs": [
    {
     "ename": "RuntimeError",
     "evalue": "Object: Error in executing tool",
     "output_type": "error",
     "traceback": [
      "\u001b[1;31m---------------------------------------------------------------------------\u001b[0m",
      "\u001b[1;31mRuntimeError\u001b[0m                              Traceback (most recent call last)",
      "\u001b[1;32m<ipython-input-38-7ed85e06596c>\u001b[0m in \u001b[0;36m<module>\u001b[1;34m\u001b[0m\n\u001b[0;32m      5\u001b[0m \u001b[0mraster\u001b[0m \u001b[1;33m=\u001b[0m \u001b[0mcur\u001b[0m\u001b[1;33m\u001b[0m\u001b[1;33m\u001b[0m\u001b[0m\n\u001b[0;32m      6\u001b[0m \u001b[1;33m\u001b[0m\u001b[0m\n\u001b[1;32m----> 7\u001b[1;33m \u001b[0marcpy\u001b[0m\u001b[1;33m.\u001b[0m\u001b[0mRasterToGeodatabase_conversion\u001b[0m\u001b[1;33m(\u001b[0m\u001b[0mraster\u001b[0m\u001b[1;33m,\u001b[0m \u001b[0mgeodatabase_path\u001b[0m\u001b[1;33m)\u001b[0m\u001b[1;33m\u001b[0m\u001b[1;33m\u001b[0m\u001b[0m\n\u001b[0m\u001b[0;32m      8\u001b[0m \u001b[1;33m\u001b[0m\u001b[0m\n\u001b[0;32m      9\u001b[0m \u001b[1;31m# for row in cur:\u001b[0m\u001b[1;33m\u001b[0m\u001b[1;33m\u001b[0m\u001b[0m\n",
      "\u001b[1;32mC:\\Program Files\\ArcGIS\\Pro\\Resources\\ArcPy\\arcpy\\conversion.py\u001b[0m in \u001b[0;36mRasterToGeodatabase\u001b[1;34m(Input_Rasters, Output_Geodatabase, Configuration_Keyword)\u001b[0m\n\u001b[0;32m   3268\u001b[0m         \u001b[1;32mreturn\u001b[0m \u001b[0mretval\u001b[0m\u001b[1;33m\u001b[0m\u001b[1;33m\u001b[0m\u001b[0m\n\u001b[0;32m   3269\u001b[0m     \u001b[1;32mexcept\u001b[0m \u001b[0mException\u001b[0m \u001b[1;32mas\u001b[0m \u001b[0me\u001b[0m\u001b[1;33m:\u001b[0m\u001b[1;33m\u001b[0m\u001b[1;33m\u001b[0m\u001b[0m\n\u001b[1;32m-> 3270\u001b[1;33m         \u001b[1;32mraise\u001b[0m \u001b[0me\u001b[0m\u001b[1;33m\u001b[0m\u001b[1;33m\u001b[0m\u001b[0m\n\u001b[0m\u001b[0;32m   3271\u001b[0m \u001b[1;33m\u001b[0m\u001b[0m\n\u001b[0;32m   3272\u001b[0m \u001b[1;33m@\u001b[0m\u001b[0mgptooldoc\u001b[0m\u001b[1;33m(\u001b[0m\u001b[1;34m'TableToGeodatabase_conversion'\u001b[0m\u001b[1;33m,\u001b[0m \u001b[1;32mNone\u001b[0m\u001b[1;33m)\u001b[0m\u001b[1;33m\u001b[0m\u001b[1;33m\u001b[0m\u001b[0m\n",
      "\u001b[1;32mC:\\Program Files\\ArcGIS\\Pro\\Resources\\ArcPy\\arcpy\\conversion.py\u001b[0m in \u001b[0;36mRasterToGeodatabase\u001b[1;34m(Input_Rasters, Output_Geodatabase, Configuration_Keyword)\u001b[0m\n\u001b[0;32m   3265\u001b[0m     \u001b[1;32mfrom\u001b[0m \u001b[0marcpy\u001b[0m\u001b[1;33m.\u001b[0m\u001b[0marcobjects\u001b[0m\u001b[1;33m.\u001b[0m\u001b[0marcobjectconversion\u001b[0m \u001b[1;32mimport\u001b[0m \u001b[0mconvertArcObjectToPythonObject\u001b[0m\u001b[1;33m\u001b[0m\u001b[1;33m\u001b[0m\u001b[0m\n\u001b[0;32m   3266\u001b[0m     \u001b[1;32mtry\u001b[0m\u001b[1;33m:\u001b[0m\u001b[1;33m\u001b[0m\u001b[1;33m\u001b[0m\u001b[0m\n\u001b[1;32m-> 3267\u001b[1;33m         \u001b[0mretval\u001b[0m \u001b[1;33m=\u001b[0m \u001b[0mconvertArcObjectToPythonObject\u001b[0m\u001b[1;33m(\u001b[0m\u001b[0mgp\u001b[0m\u001b[1;33m.\u001b[0m\u001b[0mRasterToGeodatabase_conversion\u001b[0m\u001b[1;33m(\u001b[0m\u001b[1;33m*\u001b[0m\u001b[0mgp_fixargs\u001b[0m\u001b[1;33m(\u001b[0m\u001b[1;33m(\u001b[0m\u001b[0mInput_Rasters\u001b[0m\u001b[1;33m,\u001b[0m \u001b[0mOutput_Geodatabase\u001b[0m\u001b[1;33m,\u001b[0m \u001b[0mConfiguration_Keyword\u001b[0m\u001b[1;33m)\u001b[0m\u001b[1;33m,\u001b[0m \u001b[1;32mTrue\u001b[0m\u001b[1;33m)\u001b[0m\u001b[1;33m)\u001b[0m\u001b[1;33m)\u001b[0m\u001b[1;33m\u001b[0m\u001b[1;33m\u001b[0m\u001b[0m\n\u001b[0m\u001b[0;32m   3268\u001b[0m         \u001b[1;32mreturn\u001b[0m \u001b[0mretval\u001b[0m\u001b[1;33m\u001b[0m\u001b[1;33m\u001b[0m\u001b[0m\n\u001b[0;32m   3269\u001b[0m     \u001b[1;32mexcept\u001b[0m \u001b[0mException\u001b[0m \u001b[1;32mas\u001b[0m \u001b[0me\u001b[0m\u001b[1;33m:\u001b[0m\u001b[1;33m\u001b[0m\u001b[1;33m\u001b[0m\u001b[0m\n",
      "\u001b[1;32mC:\\Program Files\\ArcGIS\\Pro\\Resources\\ArcPy\\arcpy\\geoprocessing\\_base.py\u001b[0m in \u001b[0;36m<lambda>\u001b[1;34m(*args)\u001b[0m\n\u001b[0;32m    510\u001b[0m         \u001b[0mval\u001b[0m \u001b[1;33m=\u001b[0m \u001b[0mgetattr\u001b[0m\u001b[1;33m(\u001b[0m\u001b[0mself\u001b[0m\u001b[1;33m.\u001b[0m\u001b[0m_gp\u001b[0m\u001b[1;33m,\u001b[0m \u001b[0mattr\u001b[0m\u001b[1;33m)\u001b[0m\u001b[1;33m\u001b[0m\u001b[1;33m\u001b[0m\u001b[0m\n\u001b[0;32m    511\u001b[0m         \u001b[1;32mif\u001b[0m \u001b[0mcallable\u001b[0m\u001b[1;33m(\u001b[0m\u001b[0mval\u001b[0m\u001b[1;33m)\u001b[0m\u001b[1;33m:\u001b[0m\u001b[1;33m\u001b[0m\u001b[1;33m\u001b[0m\u001b[0m\n\u001b[1;32m--> 512\u001b[1;33m             \u001b[1;32mreturn\u001b[0m \u001b[1;32mlambda\u001b[0m \u001b[1;33m*\u001b[0m\u001b[0margs\u001b[0m\u001b[1;33m:\u001b[0m \u001b[0mval\u001b[0m\u001b[1;33m(\u001b[0m\u001b[1;33m*\u001b[0m\u001b[0mgp_fixargs\u001b[0m\u001b[1;33m(\u001b[0m\u001b[0margs\u001b[0m\u001b[1;33m,\u001b[0m \u001b[1;32mTrue\u001b[0m\u001b[1;33m)\u001b[0m\u001b[1;33m)\u001b[0m\u001b[1;33m\u001b[0m\u001b[1;33m\u001b[0m\u001b[0m\n\u001b[0m\u001b[0;32m    513\u001b[0m         \u001b[1;32melse\u001b[0m\u001b[1;33m:\u001b[0m\u001b[1;33m\u001b[0m\u001b[1;33m\u001b[0m\u001b[0m\n\u001b[0;32m    514\u001b[0m             \u001b[1;32mreturn\u001b[0m \u001b[0mconvertArcObjectToPythonObject\u001b[0m\u001b[1;33m(\u001b[0m\u001b[0mval\u001b[0m\u001b[1;33m)\u001b[0m\u001b[1;33m\u001b[0m\u001b[1;33m\u001b[0m\u001b[0m\n",
      "\u001b[1;31mRuntimeError\u001b[0m: Object: Error in executing tool"
     ]
    }
   ],
   "source": [
    "import arcpy\n",
    "\n",
    "geodatabase_path = r\"C:\\Users\\MrJDF\\Desktop\\arc2_lab2\\mpls_prplair_qaqc\\mpls_prplair_qaqc.gdb\"\n",
    "\n",
    "raster = cur\n",
    "\n",
    "arcpy.RasterToGeodatabase_conversion(raster, geodatabase_path)\n",
    "\n",
    "# for row in cur:\n",
    "#     raster = row[0]\n",
    "#     #metadata1 = row[1]\n",
    "#    # metadata2 = row[2]\n",
    "#     arcpy.RasterToGeodatabase_conversion(raster, geodatabase_path)\n"
   ]
  },
  {
   "cell_type": "code",
   "execution_count": 27,
   "metadata": {},
   "outputs": [],
   "source": [
    "# Close cursor\n",
    "\n",
    "cur.close()\n",
    "\n",
    "# Close connection\n",
    "\n",
    "conn.close()"
   ]
  },
  {
   "cell_type": "code",
   "execution_count": 11,
   "metadata": {},
   "outputs": [
    {
     "ename": "ExecuteError",
     "evalue": "Failed to execute. Parameters are not valid.\nERROR 000732: Input Rasters: Dataset PG:dbname=lab0 host=34.123.228.238 port=5432 user=postgres password=MonsterKitty3232 schema=postgres table=minneapolisdem column=rast does not exist or is not supported\nERROR 000732: Output Geodatabase: Dataset C:\\WINDOWS\\system32\\..\\..\\data\\QAQC.gdb/Elevation does not exist or is not supported\nFailed to execute (RasterToGeodatabase).\n",
     "output_type": "error",
     "traceback": [
      "\u001b[0;31m---------------------------------------------------------------------------\u001b[0m\n\u001b[0;31mExecuteError\u001b[0m                              Traceback (most recent call last)",
      "In  \u001b[0;34m[11]\u001b[0m:\nLine \u001b[0;34m12\u001b[0m:    \u001b[37m# Import the raster to the geodatabase\u001b[39;49;00m\n",
      "File \u001b[0;34mC:\\Program Files\\ArcGIS\\Pro\\Resources\\ArcPy\\arcpy\\conversion.py\u001b[0m, in \u001b[0;32mRasterToGeodatabase\u001b[0m:\nLine \u001b[0;34m3270\u001b[0m:  \u001b[34mraise\u001b[39;49;00m e\n",
      "File \u001b[0;34mC:\\Program Files\\ArcGIS\\Pro\\Resources\\ArcPy\\arcpy\\conversion.py\u001b[0m, in \u001b[0;32mRasterToGeodatabase\u001b[0m:\nLine \u001b[0;34m3267\u001b[0m:  retval = convertArcObjectToPythonObject(gp.RasterToGeodatabase_conversion(*gp_fixargs((Input_Rasters, Output_Geodatabase, Configuration_Keyword), \u001b[34mTrue\u001b[39;49;00m)))\n",
      "File \u001b[0;34mC:\\Program Files\\ArcGIS\\Pro\\Resources\\ArcPy\\arcpy\\geoprocessing\\_base.py\u001b[0m, in \u001b[0;32m<lambda>\u001b[0m:\nLine \u001b[0;34m512\u001b[0m:   \u001b[34mreturn\u001b[39;49;00m \u001b[34mlambda\u001b[39;49;00m *args: val(*gp_fixargs(args, \u001b[34mTrue\u001b[39;49;00m))\n",
      "\u001b[0;31mExecuteError\u001b[0m: Failed to execute. Parameters are not valid.\nERROR 000732: Input Rasters: Dataset PG:dbname=lab0 host=34.123.228.238 port=5432 user=postgres password=MonsterKitty3232 schema=postgres table=minneapolisdem column=rast does not exist or is not supported\nERROR 000732: Output Geodatabase: Dataset C:\\WINDOWS\\system32\\..\\..\\data\\QAQC.gdb/Elevation does not exist or is not supported\nFailed to execute (RasterToGeodatabase).\n\n\u001b[0;31m---------------------------------------------------------------------------\u001b[0m"
     ]
    }
   ],
   "source": [
    "\n",
    "# Define the input raster in the Postgres database\n",
    "input_raster = \"PG:dbname=lab0 host=34.123.228.238 port=5432 user=postgres password=MonsterKitty3232 schema=postgres table=minneapolisdem column=rast\"\n",
    "\n",
    "# Define the output geodatabase and feature dataset\n",
    "output_gdb = arcpy.env.workspace\n",
    "feature_dataset = \"Elevation\"\n",
    "\n",
    "# Create the output geodatabase\n",
    "#arcpy.CreateFileGDB_management(output_gdb, \"output.gdb\")\n",
    "\n",
    "# Import the raster to the geodatabase\n",
    "arcpy.RasterToGeodatabase_conversion(input_raster, output_gdb + \"/\" + feature_dataset)\n",
    "\n",
    "print(\"Import complete.\")\n"
   ]
  },
  {
   "cell_type": "markdown",
   "metadata": {},
   "source": [
    "### Sample the dataset\n",
    "- define appropriate sample size (with proof)\n",
    "- use random sample to sample a random distributed representative number of points\n",
    "    - did this with numerical spatial data, figure out what method we used to get the random sample and do that."
   ]
  },
  {
   "cell_type": "markdown",
   "metadata": {},
   "source": [
    "### Run 3 different interpolation algorithms\n",
    "- ordinary Krieging\n",
    "- IDW\n",
    "- universal Krieging\n",
    "- spline if time"
   ]
  },
  {
   "cell_type": "markdown",
   "metadata": {},
   "source": [
    "### Save the interpolated maps to my GDB and PostGIS DB\n",
    "- use raster2psql as subprocess\n",
    "- save raster to gdb should be basic"
   ]
  },
  {
   "cell_type": "markdown",
   "metadata": {},
   "source": [
    "## Evaluate the interpolated estimates of each model compared to the true DEM\n",
    "- leave one out CROSS VALIDATION in geoprocessing arcpy\n",
    "- store this accuracy assessment as a table in postgres\n",
    "- and in home gdb"
   ]
  },
  {
   "cell_type": "markdown",
   "metadata": {},
   "source": [
    "## Find and store differencesbetween ground truth and model predictions in a point layer\n",
    "- visualize this like in Luke's slides\n",
    "- save to proj GDB and postgres"
   ]
  }
 ],
 "metadata": {
  "kernelspec": {
   "display_name": "ArcGISPro",
   "language": "Python",
   "name": "python3"
  },
  "language_info": {
   "file_extension": ".py",
   "name": "python",
   "version": "3"
  }
 },
 "nbformat": 4,
 "nbformat_minor": 2
}
