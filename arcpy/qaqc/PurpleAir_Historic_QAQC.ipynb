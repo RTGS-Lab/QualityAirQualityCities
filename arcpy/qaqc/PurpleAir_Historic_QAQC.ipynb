{
 "cells": [
  {
   "cell_type": "markdown",
   "id": "b9509057",
   "metadata": {
    "tags": []
   },
   "source": [
    "# Observed Air Quality (PurpleAir)\n",
    "\n",
    "This notebook retrieves readings from PurpleAir Sensors in Minneapolis and cleans the entries and saves the results as a csv file.\n",
    "\n",
    "Documentation is available here: https://api.purpleair.com.\n",
    "You can read this article for help getting started: https://community.purpleair.com/t/making-api-calls-with-the-purpleair-api/180.\n",
    "\n",
    "From PurpleAir: \n",
    "\n",
    "\"The data from individual sensors will update no less than every 30 seconds. As a courtesy, we ask that you limit the number of requests to no more than once every 1 to 10 minutes, assuming you are only using the API to obtain data from sensors. If retrieving data from multiple sensors at once, please send a single request rather than individual requests in succession.\n",
    "\n",
    "The PurpleAir historical API is released as of July 18, 2022. For more information, view this post: https://community.purpleair.com/t/new-version-of-the-purpleair-api-on-july-18th/1251.\n",
    "\n",
    "Please let us know if you have any questions or concerns, and have a great day!\"\n",
    "\n",
    "A paper on this process: https://doi.org/10.5194/amt-14-4617-2021 (Link for [Download](https://www.researchgate.net/publication/352663348_Development_and_application_of_a_United_States-wide_correction_for_PM25_data_collected_with_the_PurpleAir_sensor) )\n",
    "\n",
    "Chat on which PM Estimate to use: https://community.purpleair.com/t/pm2-5-algorithms/3972/6"
   ]
  },
  {
   "cell_type": "code",
   "execution_count": 24,
   "id": "4a169db0",
   "metadata": {},
   "outputs": [],
   "source": [
    "import os\n",
    "import requests \n",
    "import datetime as dt\n",
    "import pandas as pd\n",
    "import arcpy\n",
    "import numpy as np\n",
    "import io"
   ]
  },
  {
   "cell_type": "code",
   "execution_count": 4,
   "id": "5015c5de",
   "metadata": {},
   "outputs": [],
   "source": [
    "cwd = os.getcwd() # This is a global variable for where the notebook is (must change if running in arcpro)\n",
    "\n",
    "# Make it workspace\n",
    "\n",
    "arcpy.env.workspace = os.path.join(cwd, '..', '..', 'data', 'QAQC.gdb')\n",
    "\n",
    "arcpy.env.overwriteOutput = True # Overwrite layers is okay"
   ]
  },
  {
   "cell_type": "markdown",
   "id": "35d1b37e",
   "metadata": {},
   "source": [
    "## Setting MPLS Bounds"
   ]
  },
  {
   "cell_type": "code",
   "execution_count": 5,
   "id": "f55578b4",
   "metadata": {},
   "outputs": [
    {
     "name": "stdout",
     "output_type": "stream",
     "text": [
      "nwlng=-93.43083707299996&nwlat=45.12366876300007&selng=-93.09225748799997&selat=44.81791263300005\n"
     ]
    }
   ],
   "source": [
    "#bound strings\n",
    "\n",
    "mpls_8km = \"mpls_8km\"\n",
    "\n",
    "bounds_strings = [f'nwlng=-93.43083707299996',\n",
    "                  f'nwlat=45.12366876300007',\n",
    "                  f'selng=-93.09225748799997',\n",
    "                  f'selat=44.81791263300005']\n",
    "bounds_string = '&'.join(bounds_strings)\n",
    "\n",
    "print(bounds_string)"
   ]
  },
  {
   "cell_type": "markdown",
   "id": "d3d6ea3a",
   "metadata": {},
   "source": [
    "## Get Station IDs"
   ]
  },
  {
   "cell_type": "code",
   "execution_count": 6,
   "id": "9f7b98dc",
   "metadata": {},
   "outputs": [],
   "source": [
    "# This function will be used to collect data for multiple public PurpleAir sensors.\n",
    "def getSensorsData(query='', api_read_key=''):\n",
    "\n",
    "    # my_url is assigned the URL we are going to send our request to.\n",
    "    url = 'https://api.purpleair.com/v1/sensors?' + query\n",
    "    \n",
    "    print('Here is the full url for the API call:\\n\\n', url)\n",
    "\n",
    "    # my_headers is assigned the context of our request we want to make. In this case\n",
    "    # we will pass through our API read key using the variable created above.\n",
    "    my_headers = {'X-API-Key':api_read_key}\n",
    "\n",
    "    # This line creates and sends the request and then assigns its response to the\n",
    "    # variable, r.\n",
    "    response = requests.get(url, headers=my_headers)\n",
    "\n",
    "    # We then return the response we received.\n",
    "    return response"
   ]
  },
  {
   "cell_type": "code",
   "execution_count": 7,
   "id": "c2e5e22f",
   "metadata": {},
   "outputs": [
    {
     "name": "stdin",
     "output_type": "stream",
     "text": [
      "Please enter your Purple Air api key 51592903-B445-11ED-B6F4-42010A800007\n"
     ]
    }
   ],
   "source": [
    "# This is my personal API key... Please use responsibly!\n",
    "# 51592903-B445-11ED-B6F4-42010A800007\n",
    "\n",
    "api = input('Please enter your Purple Air api key')"
   ]
  },
  {
   "cell_type": "code",
   "execution_count": 8,
   "id": "30712e8c",
   "metadata": {},
   "outputs": [
    {
     "name": "stdout",
     "output_type": "stream",
     "text": [
      "fields=location_type\n"
     ]
    }
   ],
   "source": [
    "# Designating and formatting the fields to request\n",
    "\n",
    "fields = ['location_type']\n",
    "\n",
    "fields_string = 'fields=' + '%2C'.join(fields)\n",
    "\n",
    "print(fields_string)"
   ]
  },
  {
   "cell_type": "code",
   "execution_count": 9,
   "id": "ceab6d6e",
   "metadata": {},
   "outputs": [
    {
     "name": "stdout",
     "output_type": "stream",
     "text": [
      "fields=location_type&nwlng=-93.43083707299996&nwlat=45.12366876300007&selng=-93.09225748799997&selat=44.81791263300005\n"
     ]
    }
   ],
   "source": [
    "# Put it all together\n",
    "\n",
    "query_string = '&'.join([fields_string, bounds_string])\n",
    "\n",
    "print(query_string)"
   ]
  },
  {
   "cell_type": "code",
   "execution_count": 10,
   "id": "97c6acc5",
   "metadata": {},
   "outputs": [
    {
     "name": "stdout",
     "output_type": "stream",
     "text": [
      "Here is the full url for the API call:\n",
      "\n",
      " https://api.purpleair.com/v1/sensors?fields=location_type&nwlng=-93.43083707299996&nwlat=45.12366876300007&selng=-93.09225748799997&selat=44.81791263300005\n"
     ]
    }
   ],
   "source": [
    "# Make the request\n",
    "\n",
    "response = getSensorsData(query_string, api)"
   ]
  },
  {
   "cell_type": "code",
   "execution_count": 11,
   "id": "5953e5c4",
   "metadata": {},
   "outputs": [
    {
     "name": "stdout",
     "output_type": "stream",
     "text": [
      "<class 'pandas.core.frame.DataFrame'>\n",
      "RangeIndex: 88 entries, 0 to 87\n",
      "Data columns (total 2 columns):\n",
      " #   Column         Non-Null Count  Dtype\n",
      "---  ------         --------------  -----\n",
      " 0   sensor_index   88 non-null     int32\n",
      " 1   location_type  88 non-null     int32\n",
      "dtypes: int32(2)\n",
      "memory usage: 832.0 bytes\n"
     ]
    }
   ],
   "source": [
    "# Get response into Pandas DataFrame\n",
    "\n",
    "response_dict = response.json() # Read response as a json (dictionary)\n",
    "\n",
    "col_names = response_dict['fields']\n",
    "data = np.array(response_dict['data'])\n",
    "\n",
    "df = pd.DataFrame(data, columns = col_names)\n",
    "\n",
    "df.info()"
   ]
  },
  {
   "cell_type": "code",
   "execution_count": 12,
   "id": "c1730c12",
   "metadata": {},
   "outputs": [
    {
     "data": {
      "text/html": [
       "<div>\n",
       "<style scoped>\n",
       "    .dataframe tbody tr th:only-of-type {\n",
       "        vertical-align: middle;\n",
       "    }\n",
       "\n",
       "    .dataframe tbody tr th {\n",
       "        vertical-align: top;\n",
       "    }\n",
       "\n",
       "    .dataframe thead th {\n",
       "        text-align: right;\n",
       "    }\n",
       "</style>\n",
       "<table border=\"1\" class=\"dataframe\">\n",
       "  <thead>\n",
       "    <tr style=\"text-align: right;\">\n",
       "      <th></th>\n",
       "      <th>sensor_index</th>\n",
       "      <th>location_type</th>\n",
       "    </tr>\n",
       "  </thead>\n",
       "  <tbody>\n",
       "    <tr>\n",
       "      <th>0</th>\n",
       "      <td>3088</td>\n",
       "      <td>0</td>\n",
       "    </tr>\n",
       "    <tr>\n",
       "      <th>1</th>\n",
       "      <td>5582</td>\n",
       "      <td>0</td>\n",
       "    </tr>\n",
       "    <tr>\n",
       "      <th>2</th>\n",
       "      <td>137876</td>\n",
       "      <td>1</td>\n",
       "    </tr>\n",
       "    <tr>\n",
       "      <th>3</th>\n",
       "      <td>11134</td>\n",
       "      <td>0</td>\n",
       "    </tr>\n",
       "    <tr>\n",
       "      <th>4</th>\n",
       "      <td>142718</td>\n",
       "      <td>0</td>\n",
       "    </tr>\n",
       "  </tbody>\n",
       "</table>\n",
       "</div>"
      ],
      "text/plain": [
       "   sensor_index  location_type\n",
       "0          3088              0\n",
       "1          5582              0\n",
       "2        137876              1\n",
       "3         11134              0\n",
       "4        142718              0"
      ]
     },
     "execution_count": 12,
     "metadata": {},
     "output_type": "execute_result"
    }
   ],
   "source": [
    "df.head()"
   ]
  },
  {
   "cell_type": "code",
   "execution_count": 13,
   "id": "b68be925",
   "metadata": {},
   "outputs": [
    {
     "data": {
      "text/plain": [
       "80"
      ]
     },
     "execution_count": 13,
     "metadata": {},
     "output_type": "execute_result"
    }
   ],
   "source": [
    "# Only want outside sensors\n",
    "\n",
    "outside_sensors = df[df['location_type']==0] # 0 = outside\n",
    "\n",
    "len(outside_sensors)"
   ]
  },
  {
   "cell_type": "code",
   "execution_count": 14,
   "id": "e8aec584",
   "metadata": {
    "collapsed": true,
    "jupyter": {
     "outputs_hidden": true
    }
   },
   "outputs": [
    {
     "data": {
      "text/plain": [
       "{'api_version': 'V1.0.11-0.0.42',\n",
       " 'time_stamp': 1680562985,\n",
       " 'data_time_stamp': 1680562925,\n",
       " 'max_age': 604800,\n",
       " 'firmware_default_version': '7.02',\n",
       " 'fields': ['sensor_index', 'location_type'],\n",
       " 'location_types': ['outside', 'inside'],\n",
       " 'data': [[3088, 0],\n",
       "  [5582, 0],\n",
       "  [137876, 1],\n",
       "  [11134, 0],\n",
       "  [142718, 0],\n",
       "  [142720, 0],\n",
       "  [142726, 0],\n",
       "  [142730, 0],\n",
       "  [142728, 0],\n",
       "  [142734, 0],\n",
       "  [142732, 0],\n",
       "  [142736, 0],\n",
       "  [142744, 0],\n",
       "  [142750, 0],\n",
       "  [142748, 0],\n",
       "  [142752, 0],\n",
       "  [142756, 0],\n",
       "  [142774, 0],\n",
       "  [142772, 0],\n",
       "  [142852, 0],\n",
       "  [143214, 0],\n",
       "  [143216, 0],\n",
       "  [143222, 0],\n",
       "  [143226, 0],\n",
       "  [143224, 0],\n",
       "  [143238, 0],\n",
       "  [143242, 0],\n",
       "  [143240, 0],\n",
       "  [143246, 0],\n",
       "  [143636, 0],\n",
       "  [143648, 0],\n",
       "  [143656, 0],\n",
       "  [143666, 0],\n",
       "  [143668, 0],\n",
       "  [143916, 0],\n",
       "  [145202, 0],\n",
       "  [145204, 0],\n",
       "  [145234, 0],\n",
       "  [145242, 0],\n",
       "  [145250, 0],\n",
       "  [145454, 0],\n",
       "  [145470, 0],\n",
       "  [145498, 0],\n",
       "  [145506, 0],\n",
       "  [145604, 0],\n",
       "  [145610, 0],\n",
       "  [145616, 0],\n",
       "  [147749, 1],\n",
       "  [17189, 1],\n",
       "  [21179, 0],\n",
       "  [154751, 0],\n",
       "  [23989, 0],\n",
       "  [156605, 0],\n",
       "  [157747, 0],\n",
       "  [157757, 0],\n",
       "  [157787, 0],\n",
       "  [157785, 0],\n",
       "  [157837, 0],\n",
       "  [157845, 0],\n",
       "  [157861, 0],\n",
       "  [157871, 0],\n",
       "  [157877, 0],\n",
       "  [157935, 0],\n",
       "  [162145, 0],\n",
       "  [31243, 0],\n",
       "  [162845, 1],\n",
       "  [168327, 0],\n",
       "  [171059, 1],\n",
       "  [171919, 0],\n",
       "  [43305, 0],\n",
       "  [174451, 0],\n",
       "  [174855, 0],\n",
       "  [46215, 1],\n",
       "  [54907, 0],\n",
       "  [75827, 0],\n",
       "  [77405, 0],\n",
       "  [85113, 0],\n",
       "  [98259, 0],\n",
       "  [104760, 0],\n",
       "  [107082, 1],\n",
       "  [107096, 1],\n",
       "  [108274, 0],\n",
       "  [108364, 0],\n",
       "  [108366, 0],\n",
       "  [113486, 0],\n",
       "  [116413, 0],\n",
       "  [126487, 0],\n",
       "  [128195, 0]]}"
      ]
     },
     "execution_count": 14,
     "metadata": {},
     "output_type": "execute_result"
    }
   ],
   "source": [
    "response.json()"
   ]
  },
  {
   "cell_type": "code",
   "execution_count": 15,
   "id": "6fd5cd39",
   "metadata": {},
   "outputs": [],
   "source": [
    "#drop the location_type now that we have filtered for outdoor sensors only\n",
    "df_historic = outside_sensors.drop('location_type', axis=1)"
   ]
  },
  {
   "cell_type": "markdown",
   "id": "34c401b0",
   "metadata": {
    "jp-MarkdownHeadingCollapsed": true,
    "tags": []
   },
   "source": [
    "## Pulling Historic Sensor CSVs"
   ]
  },
  {
   "cell_type": "markdown",
   "id": "c22b8829",
   "metadata": {},
   "source": [
    "### Setting time period"
   ]
  },
  {
   "cell_type": "code",
   "execution_count": 16,
   "id": "50578d7b",
   "metadata": {},
   "outputs": [],
   "source": [
    "#pulling from 9/1/22 - 4/2/23 \n",
    "\n",
    "# Start time\n",
    "\n",
    "end_datetime = dt.datetime(2023,4,2) # April 2, 2023\n",
    "end_timestamp = int(dt.datetime.timestamp(end_datetime))\n",
    "\n",
    "# End time\n",
    "\n",
    "start_datetime = dt.datetime(2022,9,1) # September 1, 2022\n",
    "start_timestamp = int(dt.datetime.timestamp(start_datetime))\n",
    "\n",
    "# Sensors\n",
    "\n",
    "sensor_ids = outside_sensors.sensor_index.apply(lambda x: int(x))"
   ]
  },
  {
   "cell_type": "markdown",
   "id": "4adcad01",
   "metadata": {},
   "source": [
    "### Creating the Query for the API"
   ]
  },
  {
   "cell_type": "code",
   "execution_count": 26,
   "id": "fd2c929b",
   "metadata": {},
   "outputs": [
    {
     "data": {
      "text/html": [
       "<div>\n",
       "<style scoped>\n",
       "    .dataframe tbody tr th:only-of-type {\n",
       "        vertical-align: middle;\n",
       "    }\n",
       "\n",
       "    .dataframe tbody tr th {\n",
       "        vertical-align: top;\n",
       "    }\n",
       "\n",
       "    .dataframe thead th {\n",
       "        text-align: right;\n",
       "    }\n",
       "</style>\n",
       "<table border=\"1\" class=\"dataframe\">\n",
       "  <thead>\n",
       "    <tr style=\"text-align: right;\">\n",
       "      <th></th>\n",
       "      <th>humidity</th>\n",
       "      <th>temperature</th>\n",
       "      <th>pressure</th>\n",
       "      <th>pm2.5_cf_1</th>\n",
       "      <th>timestamp</th>\n",
       "    </tr>\n",
       "  </thead>\n",
       "  <tbody>\n",
       "    <tr>\n",
       "      <th>time_stamp</th>\n",
       "      <td>sensor_index</td>\n",
       "      <td>humidity</td>\n",
       "      <td>temperature</td>\n",
       "      <td>pressure</td>\n",
       "      <td>pm2.5_cf_1</td>\n",
       "    </tr>\n",
       "    <tr>\n",
       "      <th>1674864000</th>\n",
       "      <td>3088</td>\n",
       "      <td>40.201</td>\n",
       "      <td>17.581</td>\n",
       "      <td>991.743</td>\n",
       "      <td>0.633</td>\n",
       "    </tr>\n",
       "    <tr>\n",
       "      <th>1671753600</th>\n",
       "      <td>3088</td>\n",
       "      <td>42.605</td>\n",
       "      <td>0.743</td>\n",
       "      <td>987.762</td>\n",
       "      <td>0.0785</td>\n",
       "    </tr>\n",
       "    <tr>\n",
       "      <th>1668729600</th>\n",
       "      <td>3088</td>\n",
       "      <td>48.795</td>\n",
       "      <td>29.08</td>\n",
       "      <td>990.701</td>\n",
       "      <td>54.419000000000004</td>\n",
       "    </tr>\n",
       "    <tr>\n",
       "      <th>1672531200</th>\n",
       "      <td>3088</td>\n",
       "      <td>53.942</td>\n",
       "      <td>42.17</td>\n",
       "      <td>980.359</td>\n",
       "      <td>8.882</td>\n",
       "    </tr>\n",
       "    <tr>\n",
       "      <th>...</th>\n",
       "      <td>...</td>\n",
       "      <td>...</td>\n",
       "      <td>...</td>\n",
       "      <td>...</td>\n",
       "      <td>...</td>\n",
       "    </tr>\n",
       "    <tr>\n",
       "      <th>1677628800</th>\n",
       "      <td>3088</td>\n",
       "      <td>52.806</td>\n",
       "      <td>44.6</td>\n",
       "      <td>977.058</td>\n",
       "      <td>3.9945</td>\n",
       "    </tr>\n",
       "    <tr>\n",
       "      <th>1679356800</th>\n",
       "      <td>3088</td>\n",
       "      <td>41.454</td>\n",
       "      <td>42.326</td>\n",
       "      <td>987.113</td>\n",
       "      <td>2.38</td>\n",
       "    </tr>\n",
       "    <tr>\n",
       "      <th>1676592000</th>\n",
       "      <td>3088</td>\n",
       "      <td>38.144</td>\n",
       "      <td>22.964</td>\n",
       "      <td>995.503</td>\n",
       "      <td>0.56</td>\n",
       "    </tr>\n",
       "    <tr>\n",
       "      <th>1679529600</th>\n",
       "      <td>3088</td>\n",
       "      <td>41.673</td>\n",
       "      <td>41.035</td>\n",
       "      <td>988.664</td>\n",
       "      <td>3.2915</td>\n",
       "    </tr>\n",
       "    <tr>\n",
       "      <th>1668038400</th>\n",
       "      <td>3088</td>\n",
       "      <td>62.755</td>\n",
       "      <td>67.122</td>\n",
       "      <td>977.428</td>\n",
       "      <td>7.2415</td>\n",
       "    </tr>\n",
       "  </tbody>\n",
       "</table>\n",
       "<p>214 rows × 5 columns</p>\n",
       "</div>"
      ],
      "text/plain": [
       "                humidity temperature     pressure pm2.5_cf_1  \\\n",
       "time_stamp  sensor_index    humidity  temperature   pressure   \n",
       "1674864000          3088      40.201       17.581    991.743   \n",
       "1671753600          3088      42.605        0.743    987.762   \n",
       "1668729600          3088      48.795        29.08    990.701   \n",
       "1672531200          3088      53.942        42.17    980.359   \n",
       "...                  ...         ...          ...        ...   \n",
       "1677628800          3088      52.806         44.6    977.058   \n",
       "1679356800          3088      41.454       42.326    987.113   \n",
       "1676592000          3088      38.144       22.964    995.503   \n",
       "1679529600          3088      41.673       41.035    988.664   \n",
       "1668038400          3088      62.755       67.122    977.428   \n",
       "\n",
       "                     timestamp  \n",
       "time_stamp          pm2.5_cf_1  \n",
       "1674864000               0.633  \n",
       "1671753600              0.0785  \n",
       "1668729600  54.419000000000004  \n",
       "1672531200               8.882  \n",
       "...                        ...  \n",
       "1677628800              3.9945  \n",
       "1679356800                2.38  \n",
       "1676592000                0.56  \n",
       "1679529600              3.2915  \n",
       "1668038400              7.2415  \n",
       "\n",
       "[214 rows x 5 columns]"
      ]
     },
     "execution_count": 26,
     "metadata": {},
     "output_type": "execute_result"
    }
   ],
   "source": [
    "# Sensor id\n",
    "\n",
    "sensor_id = sensor_ids[0]\n",
    "\n",
    "# Timestamp String\n",
    "\n",
    "time_string = 'start_timestamp=' + str(start_timestamp) + '&end_timestamp=' + str(end_timestamp)\n",
    "\n",
    "# Average string (in minutes) 1440 is 1 day average\n",
    "\n",
    "avg_string = 'average=1440'\n",
    "\n",
    "# Environmental fields\n",
    "\n",
    "env_fields = ['humidity', 'temperature', 'pressure', 'pm2.5_cf_1']\n",
    "\n",
    "env_fields_string = 'fields=' + '%2C%20'.join(env_fields)\n",
    "\n",
    "# Base URL\n",
    "\n",
    "base_url = f'https://api.purpleair.com/v1/sensors/{sensor_id}/history/csv?'\n",
    "\n",
    "# Put it all together\n",
    "\n",
    "query_url = base_url + '&'.join([time_string, avg_string, env_fields_string])\n",
    "\n",
    "my_headers = {'X-API-Key':api}\n",
    "\n",
    "# This line creates and sends the request and then assigns its response to the\n",
    "# variable, r.\n",
    "r = requests.get(query_url, headers=my_headers)\n",
    "\n",
    "# Read response as CSV data\n",
    "csv_data = r.content.decode('utf-8')\n",
    "\n",
    "# Parse CSV data into pandas DataFrame\n",
    "df_historic = pd.read_csv(io.StringIO(csv_data), header=None, names=env_fields + ['timestamp'])\n",
    "df_historic"
   ]
  },
  {
   "cell_type": "code",
   "execution_count": 22,
   "id": "af5c2dfb",
   "metadata": {},
   "outputs": [
    {
     "ename": "JSONDecodeError",
     "evalue": "[Errno Expecting value] time_stamp,sensor_index,humidity,temperature,pressure,pm2.5_cf_1\n1674864000,3088,40.201,17.581,991.743,0.633\n1671753600,3088,42.605,0.743,987.762,0.0785\n1668729600,3088,48.795,29.08,990.701,54.419000000000004\n1672531200,3088,53.942,42.17,980.359,8.882\n1676764800,3088,50.66,40.259,978.572,7.806000000000001\n1679875200,3088,30.287,43.825,993.008,2.356\n1670198400,3088,43.188,37.943,980.436,2.352\n1664668800,3088,46.151,72.548,996.869,4.325\n1664755200,3088,42.182,74.594,994.996,3.458\n1675209600,3088,35.599,22.992,991.576,6.7555\n1677974400,3088,44.411,40.873,990.663,9.638\n1677456000,3088,49.32,42.39,968.441,5.535\n1672790400,3088,62.39,40.904,974.7,0.957\n1668297600,3088,35.871,38.463,996.327,0.446\n1670544000,3088,51.125,39.365,993.775,11.072\n1666483200,3088,39.845,75.349,972.201,6.134500000000001\n1671321600,3088,46.182,18.951,989.357,0.637\n1675382400,3088,32.033,7.196,1005.455,0.4365\n1677196800,3088,38.239,19.432,1005.852,2.3689999999999998\n1668384000,3088,47.281,38.103,994.459,3.517\n1667347200,3088,36.208,70.398,985.18,3.3899999999999997\n1677283200,3088,40.459,26.584,993.56,5.5435\n1667260800,3088,34.911,61.267,983.612,14.0525\n1667088000,3088,39.304,63.026,986.672,8.202\n1678838400,3088,45.454,44.408,985.077,7.506\n1670716800,3088,52.974,45.321,992.805,12.078\n1666828800,3088,42.768,56.854,991.944,5.554\n1670976000,3088,62.533,43.45,976.015,2.904\n1666656000,3088,47.49,53.027,977.738,0.5625\n1674259200,3088,55.458,32.415,990.489,3.9770000000000003\n1663718400,3088,42.835,74.726,985.199,3.566\n1665878400,3088,42.14,53.478,986.496,0.754\n1672185600,3088,49.699,39.428,968.407,4.845000000000001\n1673913600,3088,60.112,43.667,972.488,3.5455\n1679097600,3088,42.347,23.71,989.223,1.089\n1663286400,3088,52.275,80.138,984.387,10.022499999999999\n1663372800,3088,55.647,81.015,981.256,9.136\n1662336000,3088,49.257,75.839,990.032,3.002\n1674604800,3088,53.121,38.274,982.903,13.28\n1679616000,3088,34.888,43.156,987.745,4.432\n1663891200,3088,50.085,63.218,989.776,0.9295\n1673654400,3088,52.395,30.687,990.074,8.9785\n1678924800,3088,55.252,48.044,974.357,6.689\n1663027200,3088,44.392,74.675,983.728,5.631\n1667433600,3088,45.473,70.25,980.472,7.0465\n1663545600,3088,52.078,74.961,985.413,9.985\n1670630400,3088,55.878,42.674,991.372,6.8745\n1671494400,3088,43.178,15.979,1001.955,2.2995\n1673136000,3088,43.742,25.469,993.871,26.4855\n1669939200,3088,45.026,42.194,975.279,1.8495\n1668988800,3088,43.629,37.799,987.467,5.426\n1675468800,3088,37.438,23.98,985.856,2.623\n1665446400,3088,37.217,72.706,978.497,6.2615\n1665187200,3088,38.383,54.96,996.125,2.487\n1663113600,3088,47.975,75.687,987.495,8.146\n1678492800,3088,51.018,40.374,987.547,1.087\n1671062400,3088,59.447,44.855,965.902,2.3215\n1667001600,3088,39.927,62.54,993.031,5.3575\n1666051200,3088,35.157,41.286,996.572,0.06\n1668124800,3088,50.84,36.576,985.052,0.126\n1664323200,3088,42.627,58.451,1001.375,2.404\n1677888000,3088,47.33,43.723,980.474,11.0295\n1669766400,3088,46.276,27.643,983.786,0.8724999999999999\n1673740800,3088,51.641,41.804,979.084,5.722\n1674950400,3088,34.392,14.193,999.315,0.6595\n1672358400,3088,48.318,32.735,983.241,5.4735\n1661990400,3088,47.624,86.69,983.783,4.834\n1680134400,3088,37.633,36.349,990.988,5.0535\n1676160000,3088,45.142,43.447,984.368,6.814\n1666137600,3088,32.199,46.241,990.588,0.79\n1672704000,3088,57.46,34.77,980.246,13.107999999999999\n1664236800,3088,35.625,61.925,992.069,0.38899999999999996\n1680048000,3088,38.001,31.234,996.325,4.244\n1674086400,3088,56.504,40.904,977.945,0.7675\n1675987200,3088,35.152,31.561,996.647,0.49349999999999994\n1673568000,3088,49.999,31.55,999.056,3.859\n1676937600,3088,44.093,23.293,978.319,1.8085\n1667865600,3088,44.476,49.011,1001.817,1.7345000000000002\n1662422400,3088,48.7,79.822,989.484,4.0865\n1671408000,3088,42.475,20.403,997.619,3.051\n1662681600,3088,53.656,77.645,979.683,5.491\n1663804800,3088,45.843,65.794,994.204,0.2815\n1673222400,3088,46.675,31.158,985.429,25.3605\n1672444800,3088,52.84,36.586,980.789,7.1385000000000005\n1662854400,3088,44.492,71.013,991.606,12.466000000000001\n1666224000,3088,30.927,53.354,978.794,4.77\n1662508800,3088,51.615,85.5,991.25,9.2915\n1673308800,3088,52.578,39.365,980.636,36.8945\n1673049600,3088,41.581,24.021,998.696,24.892\n1675296000,3088,38.389,22.594,992.177,8.0305\n1676851200,3088,47.949,35.111,977.213,3.6165000000000003\n1669680000,3088,51.594,39.6,975.992,2.846\n1675036800,3088,36.868,10.692,1000.96,0.984\n1673481600,3088,55.118,36.409,990.612,15.939\n1674777600,3088,50.155,30.739,974.067,3.965\n1670889600,3088,55.039,43.128,987.475,11.211500000000001\n1678406400,3088,51.355,42.313,993.784,0.856\n1680307200,3088,50.444,43.552,976.954,1.063\n1678320000,3088,52.037,44.109,998.373,2.9285\n1677542400,3088,45.198,42.745,978.734,6.1865000000000006\n1676505600,3088,40.471,26.952,992.662,0.2145\n1662940800,3088,43.722,72.086,986.154,7.008\n1666569600,3088,50.501,70.511,971.475,4.34\n1666742400,3088,44.383,52.305,985.905,4.4510000000000005\n1679184000,3088,35.168,31.629,992.597,0.903\n1678147200,3088,47.965,44.547,1000.473,1.1375\n1667692800,3088,48.74,51.314,973.943,2.238\n1679443200,3088,53.694,44.7,981.783,6.6594999999999995\n1679270400,3088,41.03,42.834,983.774,2.1935000000000002\n1665705600,3088,47.5,47.739,972.805,1.3715\n1670284800,3088,40.518,31.801,987.448,2.1625\n1663977600,3088,58.28,66.954,980.745,4.193\n1675123200,3088,34.63,12.214,996.96,1.9385000000000001\n1665014400,3088,47.011,65.471,990.862,10.068999999999999\n1678233600,3088,41.318,44.583,1001.09,1.4625\n1675814400,3088,46.271,43.075,989.331,4.89\n1673827200,3088,56.458,45.814,971.825,8.271\n1665532800,3088,47.329,65.201,973.203,4.0675\n1676678400,3088,43.488,48.357,984.975,6.545\n1672272000,3088,52.302,46.262,971.813,11.601500000000001\n1670371200,3088,44.054,30.62,994.758,4.171\n1664064000,3088,48.961,68.603,981.826,1.3765\n1664928000,3088,43.611,75.858,986.815,5.299\n1672963200,3088,48.568,29.904,990.655,8.7465\n1669593600,3088,48.405,41.797,977.768,6.114\n1680220800,3088,61.289,43.874,972.402,6.702999999999999\n1666310400,3088,36.354,62.917,971.775,13.55\n1671926400,3088,38.381,11.583,991.182,0.47450000000000003\n1666396800,3088,38.764,64.947,971.915,20.619\n1678579200,3088,53.498,41.38,981.208,3.8245\n1662595200,3088,48.382,85.646,982.408,9.255\n1678665600,3088,45.241,35.907,993.042,0.45\n1679702400,3088,33.608,47.673,978.403,4.9825\n1676073600,3088,42.193,40.478,991.007,1.0075\n1668470400,3088,54.967,42.483,993.684,9.901\n1676246400,3088,46.219,43.631,979.391,4.8759999999999994\n1672876800,3088,56.554,37.677,982.528,1.7005\n1668211200,3088,44.145,37.151,991.138,0.0455\n1665273600,3088,34.551,64.638,988.073,3.5075\n1667520000,3088,53.648,54.731,980.633,5.5\n1668643200,3088,51.975,34.513,988.521,11.2905\n1672617600,3088,52.859,36.032,989.137,13.39\n1667952000,3088,62.928,61.278,986.681,8.6345\n1665619200,3088,41.925,51.508,975.673,5.0305\n1664582400,3088,41.284,72.318,993.177,2.5524999999999998\n1670112000,3088,41.432,28.262,989.249,2.7140000000000004\n1669075200,3088,44.868,39.315,991.518,12.531\n1663200000,3088,44.799,81.789,986.398,5.2015\n1669852800,3088,42.192,28.76,992.828,0.95\n1669420800,3088,38.708,53.061,980.085,1.522\n1667606400,3088,54.912,47.11,972.95,2.801\n1679011200,3088,46.129,23.512,981.923,0.9015\n1677024000,3088,51.009,26.002,981.877,0.54\n1679961600,3088,35.623,36.235,996.551,2.7225\n1678752000,3088,40.473,34.233,996.656,5.4030000000000005\n1676332800,3088,53.075,46.563,969.172,4.23\n1674172800,3088,51.186,37.205,988.256,1.288\n1662768000,3088,55.435,72.949,988.961,6.405\n1672099200,3088,40.475,23.723,983.622,1.268\n1671667200,3088,41.244,5.368,990.302,1.0245\n1664150400,3088,35.337,64.435,986.266,0.35550000000000004\n1663459200,3088,55.604,77.98,981.605,5.5725\n1662163200,3088,41.749,77.801,991.159,1.3235000000000001\n1679788800,3088,39.756,45.375,985.193,6.4719999999999995\n1675728000,3088,52.167,43.51,980.775,7.737\n1662249600,3088,43.297,74.176,993.32,0.4255\n1674518400,3088,51.282,36.119,987.903,7.0200000000000005\n1666915200,3088,38.189,62.204,995.74,4.3125\n1665792000,3088,48.263,50.52,978.528,0.617\n1677801600,3088,48.605,42.556,977.982,8.257\n1677369600,3088,36.869,33.155,984.532,7.048\n1669334400,3088,48.656,45.34,991.626,6.5175\n1664409600,3088,35.421,64.461,998.415,0.4465\n1677715200,3088,47.614,35.901,986.225,1.665\n1677110400,3088,50.98,25.778,984.885,0.19699999999999998\n1662076800,3088,46.108,88.351,981.196,3.4699999999999998\n1674432000,3088,52.539,30.499,985.579,10.423\n1665360000,3088,39.075,66.08,989.318,3.7915\n1673395200,3088,52.694,42.79,980.71,40.847500000000004\n1667779200,3088,37.649,42.809,999.38,1.1315\n1670803200,3088,50.753,41.939,993.718,8.3635\n1674000000,3088,53.469,43.418,984.919,3.0309999999999997\n1667174400,3088,41.221,59.047,981.858,35.5225\n1664496000,3088,35.705,69.975,992.578,0.7825\n1674345600,3088,51.829,33.121,985.288,10.3585\n1671235200,3088,54.315,31.434,975.603,1.361\n1675641600,3088,47.31,35.801,984.713,15.240499999999999\n1669161600,3088,45.515,42.585,987.057,19.819499999999998\n1665964800,3088,35.644,43.267,991.817,0.0425\n1664841600,3088,36.46,75.898,990.601,2.7045\n1663632000,3088,47.663,84.744,980.002,7.671\n1671580800,3088,38.683,9.782,1000.946,2.1385\n1675555200,3088,44.693,35.5,983.103,12.597999999999999\n1671840000,3088,44.097,6.799,990.883,0.05450000000000001\n1674691200,3088,43.967,25.134,986.324,0.44949999999999996\n1671148800,3088,55.728,41.66,964.968,3.3325\n1675900800,3088,51.507,42.106,983.603,9.4475\n1665100800,3088,48.783,54.165,1002.293,0.106\n1669507200,3088,46.939,47.085,979.315,8.1355\n1670457600,3088,43.837,28.125,999.079,6.8465\n1672012800,3088,38.569,19.561,992.82,1.7645\n1678060800,3088,59.505,43.149,988.693,0.6759999999999999\n1668816000,3088,42.451,27.148,985.557,0.538\n1670025600,3088,45.521,21.555,993.332,1.0635\n1668902400,3088,41.654,29.813,990.352,1.2235\n1676419200,3088,56.689,41.321,969.103,2.6719999999999997\n1669248000,3088,54.525,46.331,987.268,15.6935\n1668556800,3088,55.091,42.8,992.586,12.7225\n1677628800,3088,52.806,44.6,977.058,3.9945\n1679356800,3088,41.454,42.326,987.113,2.38\n1676592000,3088,38.144,22.964,995.503,0.56\n1679529600,3088,41.673,41.035,988.664,3.2915\n1668038400,3088,62.755,67.122,977.428,7.2415\n: 0",
     "output_type": "error",
     "traceback": [
      "\u001b[1;31m---------------------------------------------------------------------------\u001b[0m",
      "\u001b[1;31mJSONDecodeError\u001b[0m                           Traceback (most recent call last)",
      "\u001b[1;32m~\\AppData\\Local\\ESRI\\conda\\envs\\gis5572\\lib\\site-packages\\requests\\models.py\u001b[0m in \u001b[0;36mjson\u001b[1;34m(self, **kwargs)\u001b[0m\n\u001b[0;32m    909\u001b[0m         \u001b[1;32mtry\u001b[0m\u001b[1;33m:\u001b[0m\u001b[1;33m\u001b[0m\u001b[1;33m\u001b[0m\u001b[0m\n\u001b[1;32m--> 910\u001b[1;33m             \u001b[1;32mreturn\u001b[0m \u001b[0mcomplexjson\u001b[0m\u001b[1;33m.\u001b[0m\u001b[0mloads\u001b[0m\u001b[1;33m(\u001b[0m\u001b[0mself\u001b[0m\u001b[1;33m.\u001b[0m\u001b[0mtext\u001b[0m\u001b[1;33m,\u001b[0m \u001b[1;33m**\u001b[0m\u001b[0mkwargs\u001b[0m\u001b[1;33m)\u001b[0m\u001b[1;33m\u001b[0m\u001b[1;33m\u001b[0m\u001b[0m\n\u001b[0m\u001b[0;32m    911\u001b[0m         \u001b[1;32mexcept\u001b[0m \u001b[0mJSONDecodeError\u001b[0m \u001b[1;32mas\u001b[0m \u001b[0me\u001b[0m\u001b[1;33m:\u001b[0m\u001b[1;33m\u001b[0m\u001b[1;33m\u001b[0m\u001b[0m\n",
      "\u001b[1;32m~\\AppData\\Local\\ESRI\\conda\\envs\\gis5572\\lib\\json\\__init__.py\u001b[0m in \u001b[0;36mloads\u001b[1;34m(s, cls, object_hook, parse_float, parse_int, parse_constant, object_pairs_hook, **kw)\u001b[0m\n\u001b[0;32m    345\u001b[0m             parse_constant is None and object_pairs_hook is None and not kw):\n\u001b[1;32m--> 346\u001b[1;33m         \u001b[1;32mreturn\u001b[0m \u001b[0m_default_decoder\u001b[0m\u001b[1;33m.\u001b[0m\u001b[0mdecode\u001b[0m\u001b[1;33m(\u001b[0m\u001b[0ms\u001b[0m\u001b[1;33m)\u001b[0m\u001b[1;33m\u001b[0m\u001b[1;33m\u001b[0m\u001b[0m\n\u001b[0m\u001b[0;32m    347\u001b[0m     \u001b[1;32mif\u001b[0m \u001b[0mcls\u001b[0m \u001b[1;32mis\u001b[0m \u001b[1;32mNone\u001b[0m\u001b[1;33m:\u001b[0m\u001b[1;33m\u001b[0m\u001b[1;33m\u001b[0m\u001b[0m\n",
      "\u001b[1;32m~\\AppData\\Local\\ESRI\\conda\\envs\\gis5572\\lib\\json\\decoder.py\u001b[0m in \u001b[0;36mdecode\u001b[1;34m(self, s, _w)\u001b[0m\n\u001b[0;32m    336\u001b[0m         \"\"\"\n\u001b[1;32m--> 337\u001b[1;33m         \u001b[0mobj\u001b[0m\u001b[1;33m,\u001b[0m \u001b[0mend\u001b[0m \u001b[1;33m=\u001b[0m \u001b[0mself\u001b[0m\u001b[1;33m.\u001b[0m\u001b[0mraw_decode\u001b[0m\u001b[1;33m(\u001b[0m\u001b[0ms\u001b[0m\u001b[1;33m,\u001b[0m \u001b[0midx\u001b[0m\u001b[1;33m=\u001b[0m\u001b[0m_w\u001b[0m\u001b[1;33m(\u001b[0m\u001b[0ms\u001b[0m\u001b[1;33m,\u001b[0m \u001b[1;36m0\u001b[0m\u001b[1;33m)\u001b[0m\u001b[1;33m.\u001b[0m\u001b[0mend\u001b[0m\u001b[1;33m(\u001b[0m\u001b[1;33m)\u001b[0m\u001b[1;33m)\u001b[0m\u001b[1;33m\u001b[0m\u001b[1;33m\u001b[0m\u001b[0m\n\u001b[0m\u001b[0;32m    338\u001b[0m         \u001b[0mend\u001b[0m \u001b[1;33m=\u001b[0m \u001b[0m_w\u001b[0m\u001b[1;33m(\u001b[0m\u001b[0ms\u001b[0m\u001b[1;33m,\u001b[0m \u001b[0mend\u001b[0m\u001b[1;33m)\u001b[0m\u001b[1;33m.\u001b[0m\u001b[0mend\u001b[0m\u001b[1;33m(\u001b[0m\u001b[1;33m)\u001b[0m\u001b[1;33m\u001b[0m\u001b[1;33m\u001b[0m\u001b[0m\n",
      "\u001b[1;32m~\\AppData\\Local\\ESRI\\conda\\envs\\gis5572\\lib\\json\\decoder.py\u001b[0m in \u001b[0;36mraw_decode\u001b[1;34m(self, s, idx)\u001b[0m\n\u001b[0;32m    354\u001b[0m         \u001b[1;32mexcept\u001b[0m \u001b[0mStopIteration\u001b[0m \u001b[1;32mas\u001b[0m \u001b[0merr\u001b[0m\u001b[1;33m:\u001b[0m\u001b[1;33m\u001b[0m\u001b[1;33m\u001b[0m\u001b[0m\n\u001b[1;32m--> 355\u001b[1;33m             \u001b[1;32mraise\u001b[0m \u001b[0mJSONDecodeError\u001b[0m\u001b[1;33m(\u001b[0m\u001b[1;34m\"Expecting value\"\u001b[0m\u001b[1;33m,\u001b[0m \u001b[0ms\u001b[0m\u001b[1;33m,\u001b[0m \u001b[0merr\u001b[0m\u001b[1;33m.\u001b[0m\u001b[0mvalue\u001b[0m\u001b[1;33m)\u001b[0m \u001b[1;32mfrom\u001b[0m \u001b[1;32mNone\u001b[0m\u001b[1;33m\u001b[0m\u001b[1;33m\u001b[0m\u001b[0m\n\u001b[0m\u001b[0;32m    356\u001b[0m         \u001b[1;32mreturn\u001b[0m \u001b[0mobj\u001b[0m\u001b[1;33m,\u001b[0m \u001b[0mend\u001b[0m\u001b[1;33m\u001b[0m\u001b[1;33m\u001b[0m\u001b[0m\n",
      "\u001b[1;31mJSONDecodeError\u001b[0m: Expecting value: line 1 column 1 (char 0)",
      "\nDuring handling of the above exception, another exception occurred:\n",
      "\u001b[1;31mJSONDecodeError\u001b[0m                           Traceback (most recent call last)",
      "\u001b[1;32m<ipython-input-22-825b4bb01167>\u001b[0m in \u001b[0;36m<module>\u001b[1;34m\u001b[0m\n\u001b[1;32m----> 1\u001b[1;33m \u001b[0mr_dict\u001b[0m \u001b[1;33m=\u001b[0m \u001b[0mr\u001b[0m\u001b[1;33m.\u001b[0m\u001b[0mjson\u001b[0m\u001b[1;33m(\u001b[0m\u001b[1;33m)\u001b[0m \u001b[1;31m# Read response as a json (dictionary)\u001b[0m\u001b[1;33m\u001b[0m\u001b[1;33m\u001b[0m\u001b[0m\n\u001b[0m\u001b[0;32m      2\u001b[0m \u001b[0mr_timestamp\u001b[0m \u001b[1;33m=\u001b[0m \u001b[0mr_dict\u001b[0m\u001b[1;33m[\u001b[0m\u001b[1;34m'time_stamp'\u001b[0m\u001b[1;33m]\u001b[0m\u001b[1;33m\u001b[0m\u001b[1;33m\u001b[0m\u001b[0m\n\u001b[0;32m      3\u001b[0m \u001b[0mr_col_names\u001b[0m \u001b[1;33m=\u001b[0m \u001b[0mr_dict\u001b[0m\u001b[1;33m[\u001b[0m\u001b[1;34m'evn_fields'\u001b[0m\u001b[1;33m]\u001b[0m\u001b[1;33m\u001b[0m\u001b[1;33m\u001b[0m\u001b[0m\n\u001b[0;32m      4\u001b[0m \u001b[0mr_data\u001b[0m \u001b[1;33m=\u001b[0m \u001b[0mnp\u001b[0m\u001b[1;33m.\u001b[0m\u001b[0marray\u001b[0m\u001b[1;33m(\u001b[0m\u001b[0mr_dict\u001b[0m\u001b[1;33m[\u001b[0m\u001b[1;34m'r_data'\u001b[0m\u001b[1;33m]\u001b[0m\u001b[1;33m)\u001b[0m\u001b[1;33m\u001b[0m\u001b[1;33m\u001b[0m\u001b[0m\n\u001b[0;32m      5\u001b[0m \u001b[1;33m\u001b[0m\u001b[0m\n",
      "\u001b[1;32m~\\AppData\\Local\\ESRI\\conda\\envs\\gis5572\\lib\\site-packages\\requests\\models.py\u001b[0m in \u001b[0;36mjson\u001b[1;34m(self, **kwargs)\u001b[0m\n\u001b[0;32m    915\u001b[0m                 \u001b[1;32mraise\u001b[0m \u001b[0mRequestsJSONDecodeError\u001b[0m\u001b[1;33m(\u001b[0m\u001b[0me\u001b[0m\u001b[1;33m.\u001b[0m\u001b[0mmessage\u001b[0m\u001b[1;33m)\u001b[0m\u001b[1;33m\u001b[0m\u001b[1;33m\u001b[0m\u001b[0m\n\u001b[0;32m    916\u001b[0m             \u001b[1;32melse\u001b[0m\u001b[1;33m:\u001b[0m\u001b[1;33m\u001b[0m\u001b[1;33m\u001b[0m\u001b[0m\n\u001b[1;32m--> 917\u001b[1;33m                 \u001b[1;32mraise\u001b[0m \u001b[0mRequestsJSONDecodeError\u001b[0m\u001b[1;33m(\u001b[0m\u001b[0me\u001b[0m\u001b[1;33m.\u001b[0m\u001b[0mmsg\u001b[0m\u001b[1;33m,\u001b[0m \u001b[0me\u001b[0m\u001b[1;33m.\u001b[0m\u001b[0mdoc\u001b[0m\u001b[1;33m,\u001b[0m \u001b[0me\u001b[0m\u001b[1;33m.\u001b[0m\u001b[0mpos\u001b[0m\u001b[1;33m)\u001b[0m\u001b[1;33m\u001b[0m\u001b[1;33m\u001b[0m\u001b[0m\n\u001b[0m\u001b[0;32m    918\u001b[0m \u001b[1;33m\u001b[0m\u001b[0m\n\u001b[0;32m    919\u001b[0m     \u001b[1;33m@\u001b[0m\u001b[0mproperty\u001b[0m\u001b[1;33m\u001b[0m\u001b[1;33m\u001b[0m\u001b[0m\n",
      "\u001b[1;31mJSONDecodeError\u001b[0m: [Errno Expecting value] time_stamp,sensor_index,humidity,temperature,pressure,pm2.5_cf_1\n1674864000,3088,40.201,17.581,991.743,0.633\n1671753600,3088,42.605,0.743,987.762,0.0785\n1668729600,3088,48.795,29.08,990.701,54.419000000000004\n1672531200,3088,53.942,42.17,980.359,8.882\n1676764800,3088,50.66,40.259,978.572,7.806000000000001\n1679875200,3088,30.287,43.825,993.008,2.356\n1670198400,3088,43.188,37.943,980.436,2.352\n1664668800,3088,46.151,72.548,996.869,4.325\n1664755200,3088,42.182,74.594,994.996,3.458\n1675209600,3088,35.599,22.992,991.576,6.7555\n1677974400,3088,44.411,40.873,990.663,9.638\n1677456000,3088,49.32,42.39,968.441,5.535\n1672790400,3088,62.39,40.904,974.7,0.957\n1668297600,3088,35.871,38.463,996.327,0.446\n1670544000,3088,51.125,39.365,993.775,11.072\n1666483200,3088,39.845,75.349,972.201,6.134500000000001\n1671321600,3088,46.182,18.951,989.357,0.637\n1675382400,3088,32.033,7.196,1005.455,0.4365\n1677196800,3088,38.239,19.432,1005.852,2.3689999999999998\n1668384000,3088,47.281,38.103,994.459,3.517\n1667347200,3088,36.208,70.398,985.18,3.3899999999999997\n1677283200,3088,40.459,26.584,993.56,5.5435\n1667260800,3088,34.911,61.267,983.612,14.0525\n1667088000,3088,39.304,63.026,986.672,8.202\n1678838400,3088,45.454,44.408,985.077,7.506\n1670716800,3088,52.974,45.321,992.805,12.078\n1666828800,3088,42.768,56.854,991.944,5.554\n1670976000,3088,62.533,43.45,976.015,2.904\n1666656000,3088,47.49,53.027,977.738,0.5625\n1674259200,3088,55.458,32.415,990.489,3.9770000000000003\n1663718400,3088,42.835,74.726,985.199,3.566\n1665878400,3088,42.14,53.478,986.496,0.754\n1672185600,3088,49.699,39.428,968.407,4.845000000000001\n1673913600,3088,60.112,43.667,972.488,3.5455\n1679097600,3088,42.347,23.71,989.223,1.089\n1663286400,3088,52.275,80.138,984.387,10.022499999999999\n1663372800,3088,55.647,81.015,981.256,9.136\n1662336000,3088,49.257,75.839,990.032,3.002\n1674604800,3088,53.121,38.274,982.903,13.28\n1679616000,3088,34.888,43.156,987.745,4.432\n1663891200,3088,50.085,63.218,989.776,0.9295\n1673654400,3088,52.395,30.687,990.074,8.9785\n1678924800,3088,55.252,48.044,974.357,6.689\n1663027200,3088,44.392,74.675,983.728,5.631\n1667433600,3088,45.473,70.25,980.472,7.0465\n1663545600,3088,52.078,74.961,985.413,9.985\n1670630400,3088,55.878,42.674,991.372,6.8745\n1671494400,3088,43.178,15.979,1001.955,2.2995\n1673136000,3088,43.742,25.469,993.871,26.4855\n1669939200,3088,45.026,42.194,975.279,1.8495\n1668988800,3088,43.629,37.799,987.467,5.426\n1675468800,3088,37.438,23.98,985.856,2.623\n1665446400,3088,37.217,72.706,978.497,6.2615\n1665187200,3088,38.383,54.96,996.125,2.487\n1663113600,3088,47.975,75.687,987.495,8.146\n1678492800,3088,51.018,40.374,987.547,1.087\n1671062400,3088,59.447,44.855,965.902,2.3215\n1667001600,3088,39.927,62.54,993.031,5.3575\n1666051200,3088,35.157,41.286,996.572,0.06\n1668124800,3088,50.84,36.576,985.052,0.126\n1664323200,3088,42.627,58.451,1001.375,2.404\n1677888000,3088,47.33,43.723,980.474,11.0295\n1669766400,3088,46.276,27.643,983.786,0.8724999999999999\n1673740800,3088,51.641,41.804,979.084,5.722\n1674950400,3088,34.392,14.193,999.315,0.6595\n1672358400,3088,48.318,32.735,983.241,5.4735\n1661990400,3088,47.624,86.69,983.783,4.834\n1680134400,3088,37.633,36.349,990.988,5.0535\n1676160000,3088,45.142,43.447,984.368,6.814\n1666137600,3088,32.199,46.241,990.588,0.79\n1672704000,3088,57.46,34.77,980.246,13.107999999999999\n1664236800,3088,35.625,61.925,992.069,0.38899999999999996\n1680048000,3088,38.001,31.234,996.325,4.244\n1674086400,3088,56.504,40.904,977.945,0.7675\n1675987200,3088,35.152,31.561,996.647,0.49349999999999994\n1673568000,3088,49.999,31.55,999.056,3.859\n1676937600,3088,44.093,23.293,978.319,1.8085\n1667865600,3088,44.476,49.011,1001.817,1.7345000000000002\n1662422400,3088,48.7,79.822,989.484,4.0865\n1671408000,3088,42.475,20.403,997.619,3.051\n1662681600,3088,53.656,77.645,979.683,5.491\n1663804800,3088,45.843,65.794,994.204,0.2815\n1673222400,3088,46.675,31.158,985.429,25.3605\n1672444800,3088,52.84,36.586,980.789,7.1385000000000005\n1662854400,3088,44.492,71.013,991.606,12.466000000000001\n1666224000,3088,30.927,53.354,978.794,4.77\n1662508800,3088,51.615,85.5,991.25,9.2915\n1673308800,3088,52.578,39.365,980.636,36.8945\n1673049600,3088,41.581,24.021,998.696,24.892\n1675296000,3088,38.389,22.594,992.177,8.0305\n1676851200,3088,47.949,35.111,977.213,3.6165000000000003\n1669680000,3088,51.594,39.6,975.992,2.846\n1675036800,3088,36.868,10.692,1000.96,0.984\n1673481600,3088,55.118,36.409,990.612,15.939\n1674777600,3088,50.155,30.739,974.067,3.965\n1670889600,3088,55.039,43.128,987.475,11.211500000000001\n1678406400,3088,51.355,42.313,993.784,0.856\n1680307200,3088,50.444,43.552,976.954,1.063\n1678320000,3088,52.037,44.109,998.373,2.9285\n1677542400,3088,45.198,42.745,978.734,6.1865000000000006\n1676505600,3088,40.471,26.952,992.662,0.2145\n1662940800,3088,43.722,72.086,986.154,7.008\n1666569600,3088,50.501,70.511,971.475,4.34\n1666742400,3088,44.383,52.305,985.905,4.4510000000000005\n1679184000,3088,35.168,31.629,992.597,0.903\n1678147200,3088,47.965,44.547,1000.473,1.1375\n1667692800,3088,48.74,51.314,973.943,2.238\n1679443200,3088,53.694,44.7,981.783,6.6594999999999995\n1679270400,3088,41.03,42.834,983.774,2.1935000000000002\n1665705600,3088,47.5,47.739,972.805,1.3715\n1670284800,3088,40.518,31.801,987.448,2.1625\n1663977600,3088,58.28,66.954,980.745,4.193\n1675123200,3088,34.63,12.214,996.96,1.9385000000000001\n1665014400,3088,47.011,65.471,990.862,10.068999999999999\n1678233600,3088,41.318,44.583,1001.09,1.4625\n1675814400,3088,46.271,43.075,989.331,4.89\n1673827200,3088,56.458,45.814,971.825,8.271\n1665532800,3088,47.329,65.201,973.203,4.0675\n1676678400,3088,43.488,48.357,984.975,6.545\n1672272000,3088,52.302,46.262,971.813,11.601500000000001\n1670371200,3088,44.054,30.62,994.758,4.171\n1664064000,3088,48.961,68.603,981.826,1.3765\n1664928000,3088,43.611,75.858,986.815,5.299\n1672963200,3088,48.568,29.904,990.655,8.7465\n1669593600,3088,48.405,41.797,977.768,6.114\n1680220800,3088,61.289,43.874,972.402,6.702999999999999\n1666310400,3088,36.354,62.917,971.775,13.55\n1671926400,3088,38.381,11.583,991.182,0.47450000000000003\n1666396800,3088,38.764,64.947,971.915,20.619\n1678579200,3088,53.498,41.38,981.208,3.8245\n1662595200,3088,48.382,85.646,982.408,9.255\n1678665600,3088,45.241,35.907,993.042,0.45\n1679702400,3088,33.608,47.673,978.403,4.9825\n1676073600,3088,42.193,40.478,991.007,1.0075\n1668470400,3088,54.967,42.483,993.684,9.901\n1676246400,3088,46.219,43.631,979.391,4.8759999999999994\n1672876800,3088,56.554,37.677,982.528,1.7005\n1668211200,3088,44.145,37.151,991.138,0.0455\n1665273600,3088,34.551,64.638,988.073,3.5075\n1667520000,3088,53.648,54.731,980.633,5.5\n1668643200,3088,51.975,34.513,988.521,11.2905\n1672617600,3088,52.859,36.032,989.137,13.39\n1667952000,3088,62.928,61.278,986.681,8.6345\n1665619200,3088,41.925,51.508,975.673,5.0305\n1664582400,3088,41.284,72.318,993.177,2.5524999999999998\n1670112000,3088,41.432,28.262,989.249,2.7140000000000004\n1669075200,3088,44.868,39.315,991.518,12.531\n1663200000,3088,44.799,81.789,986.398,5.2015\n1669852800,3088,42.192,28.76,992.828,0.95\n1669420800,3088,38.708,53.061,980.085,1.522\n1667606400,3088,54.912,47.11,972.95,2.801\n1679011200,3088,46.129,23.512,981.923,0.9015\n1677024000,3088,51.009,26.002,981.877,0.54\n1679961600,3088,35.623,36.235,996.551,2.7225\n1678752000,3088,40.473,34.233,996.656,5.4030000000000005\n1676332800,3088,53.075,46.563,969.172,4.23\n1674172800,3088,51.186,37.205,988.256,1.288\n1662768000,3088,55.435,72.949,988.961,6.405\n1672099200,3088,40.475,23.723,983.622,1.268\n1671667200,3088,41.244,5.368,990.302,1.0245\n1664150400,3088,35.337,64.435,986.266,0.35550000000000004\n1663459200,3088,55.604,77.98,981.605,5.5725\n1662163200,3088,41.749,77.801,991.159,1.3235000000000001\n1679788800,3088,39.756,45.375,985.193,6.4719999999999995\n1675728000,3088,52.167,43.51,980.775,7.737\n1662249600,3088,43.297,74.176,993.32,0.4255\n1674518400,3088,51.282,36.119,987.903,7.0200000000000005\n1666915200,3088,38.189,62.204,995.74,4.3125\n1665792000,3088,48.263,50.52,978.528,0.617\n1677801600,3088,48.605,42.556,977.982,8.257\n1677369600,3088,36.869,33.155,984.532,7.048\n1669334400,3088,48.656,45.34,991.626,6.5175\n1664409600,3088,35.421,64.461,998.415,0.4465\n1677715200,3088,47.614,35.901,986.225,1.665\n1677110400,3088,50.98,25.778,984.885,0.19699999999999998\n1662076800,3088,46.108,88.351,981.196,3.4699999999999998\n1674432000,3088,52.539,30.499,985.579,10.423\n1665360000,3088,39.075,66.08,989.318,3.7915\n1673395200,3088,52.694,42.79,980.71,40.847500000000004\n1667779200,3088,37.649,42.809,999.38,1.1315\n1670803200,3088,50.753,41.939,993.718,8.3635\n1674000000,3088,53.469,43.418,984.919,3.0309999999999997\n1667174400,3088,41.221,59.047,981.858,35.5225\n1664496000,3088,35.705,69.975,992.578,0.7825\n1674345600,3088,51.829,33.121,985.288,10.3585\n1671235200,3088,54.315,31.434,975.603,1.361\n1675641600,3088,47.31,35.801,984.713,15.240499999999999\n1669161600,3088,45.515,42.585,987.057,19.819499999999998\n1665964800,3088,35.644,43.267,991.817,0.0425\n1664841600,3088,36.46,75.898,990.601,2.7045\n1663632000,3088,47.663,84.744,980.002,7.671\n1671580800,3088,38.683,9.782,1000.946,2.1385\n1675555200,3088,44.693,35.5,983.103,12.597999999999999\n1671840000,3088,44.097,6.799,990.883,0.05450000000000001\n1674691200,3088,43.967,25.134,986.324,0.44949999999999996\n1671148800,3088,55.728,41.66,964.968,3.3325\n1675900800,3088,51.507,42.106,983.603,9.4475\n1665100800,3088,48.783,54.165,1002.293,0.106\n1669507200,3088,46.939,47.085,979.315,8.1355\n1670457600,3088,43.837,28.125,999.079,6.8465\n1672012800,3088,38.569,19.561,992.82,1.7645\n1678060800,3088,59.505,43.149,988.693,0.6759999999999999\n1668816000,3088,42.451,27.148,985.557,0.538\n1670025600,3088,45.521,21.555,993.332,1.0635\n1668902400,3088,41.654,29.813,990.352,1.2235\n1676419200,3088,56.689,41.321,969.103,2.6719999999999997\n1669248000,3088,54.525,46.331,987.268,15.6935\n1668556800,3088,55.091,42.8,992.586,12.7225\n1677628800,3088,52.806,44.6,977.058,3.9945\n1679356800,3088,41.454,42.326,987.113,2.38\n1676592000,3088,38.144,22.964,995.503,0.56\n1679529600,3088,41.673,41.035,988.664,3.2915\n1668038400,3088,62.755,67.122,977.428,7.2415\n: 0"
     ]
    }
   ],
   "source": [
    "r_dict = r.json() # Read response as a json (dictionary)\n",
    "r_timestamp = r_dict['time_stamp']\n",
    "r_col_names = r_dict['evn_fields']\n",
    "r_data = np.array(r_dict['r_data'])\n",
    "\n",
    "df_historic = pd.DataFrame(r_data, columns = r_col_names)\n",
    "df_historic['timestamp'] = r_timestamp\n",
    "\n",
    "df_historic.info()"
   ]
  },
  {
   "cell_type": "markdown",
   "id": "ef271446",
   "metadata": {},
   "source": [
    "### Creating a 'for' loop to parse through all sensor_ids"
   ]
  },
  {
   "cell_type": "code",
   "execution_count": null,
   "id": "8ed86d5a",
   "metadata": {},
   "outputs": [],
   "source": [
    "#need to add timestamp of reading\n",
    "#call the df df_historic"
   ]
  },
  {
   "cell_type": "markdown",
   "id": "c69c2c65",
   "metadata": {},
   "source": [
    "## Cleaning Historic Data for Analysis"
   ]
  },
  {
   "cell_type": "code",
   "execution_count": null,
   "id": "27f3a6d1",
   "metadata": {},
   "outputs": [],
   "source": [
    "#rename pm2.5 column to pm2_5 for SQL\n",
    "df_historic = df_historic.rename(columns={'pm2.5_cf_1' : 'pm2_5'})"
   ]
  },
  {
   "cell_type": "code",
   "execution_count": null,
   "id": "89ebe24a",
   "metadata": {},
   "outputs": [],
   "source": [
    "#changing UNIX date to pd date\n",
    "df_historic['timestamp'] = pd.to_datetime(df_historic['timestamp'], unit='s')"
   ]
  },
  {
   "cell_type": "markdown",
   "id": "c8c016dd",
   "metadata": {},
   "source": [
    "## QAQC"
   ]
  },
  {
   "cell_type": "code",
   "execution_count": null,
   "id": "b205f506",
   "metadata": {},
   "outputs": [],
   "source": [
    "#create a blank dataframe to hold the errors\n",
    "\n",
    "purpleair_historic_errors = pd.DataFrame(columns = ['humidity_error', 'temperature_error', 'pressure_error', 'pm2_5_error'])\n",
    "purpleair_historic_errors['sensor_index'] = df_historic['sensor_index']\n",
    "purpleair_historic_errors['timestamp'] = df_historic['timestamp']"
   ]
  },
  {
   "cell_type": "markdown",
   "id": "ca8e2199",
   "metadata": {},
   "source": [
    "### Humidity Check"
   ]
  },
  {
   "cell_type": "code",
   "execution_count": null,
   "id": "c0d9a975",
   "metadata": {},
   "outputs": [],
   "source": [
    "#ranges pulled from https://www.currentresults.com/Weather/Minnesota/humidity-annual.php\n",
    "#range is actually 40-90 but I was getting tons of errors so I reduced it to 10-90\n",
    "\n",
    "def check_range(value):\n",
    "    if value is None:\n",
    "        return 'no value given'  # or any other value that indicates a missing value\n",
    "    elif value >= 10 and value <= 90:\n",
    "        pass\n",
    "    else:\n",
    "        return 'out of range (10%-90%)'\n",
    "    \n",
    "purpleair_historic_errors['humidity_error'] = df_historic['humidity'].apply(check_range)\n",
    "\n",
    "print(purpleair_historic_errors)"
   ]
  },
  {
   "cell_type": "markdown",
   "id": "1cbb9df4",
   "metadata": {},
   "source": [
    "### Temperature Check"
   ]
  },
  {
   "cell_type": "code",
   "execution_count": null,
   "id": "805bf85e",
   "metadata": {},
   "outputs": [],
   "source": [
    "#winter -4 - 28\n",
    "#spring 22 - 57\n",
    "#summer 48 - 81\n",
    "#fall 29 - 59\n",
    "#ref from https://www.dnr.state.mn.us/climate/summaries_and_publications/normalsportal.html\n",
    "\n",
    "def check_range(value):\n",
    "    if value is None:\n",
    "        return 'no value given'  # or any other value that indicates a missing value\n",
    "    elif value >= -20 and value <= 100:\n",
    "        pass\n",
    "    else:\n",
    "        return 'out of range (-20-100F)'\n",
    "'''\n",
    "#if we can get time stamp we should use this with a date check too\n",
    "#this is not correct - we can do seasonal if we can relate it to date range\n",
    "def check_range(value):\n",
    "    if value is None:\n",
    "        return -1\n",
    "    if value >= -20 and value <=35:\n",
    "        return 'winter (-20-35F)'\n",
    "    if value >10 and value <=70:\n",
    "        return 'spring (10-70F)'\n",
    "    if value >30 and value <=100:\n",
    "        return 'summer (30-100F)'\n",
    "    if value >15 and value <=70:\n",
    "        return 'fall (15-70F)'\n",
    "    else:\n",
    "        return 'out of range'\n",
    "'''\n",
    "\n",
    "purpleair_historic_errors['temperature_error'] = df_historic['temperature'].apply(check_range)\n",
    "\n",
    "print(purpleair_historic_errors)"
   ]
  },
  {
   "cell_type": "markdown",
   "id": "e85c38ad",
   "metadata": {},
   "source": [
    "### Pressure Check"
   ]
  },
  {
   "cell_type": "code",
   "execution_count": null,
   "id": "050d3dd8",
   "metadata": {},
   "outputs": [],
   "source": [
    "# range is 25 - 35 Hg according to https://barometricpressure.app/minneapolis\n",
    "# PurpleAir uses Millibars so I used https://www.weather.gov/epz/wxcalc_pressureconvert to convert\n",
    "# rage is 846.6 - 1185.24\n",
    "\n",
    "def check_range(value):\n",
    "    if value is None:\n",
    "        return 'no value given'  # or any other value that indicates a missing value\n",
    "    elif value >= 830 and value <= 1200:\n",
    "        pass\n",
    "    else:\n",
    "        return 'out of range (830 - 1200 Millibars)'\n",
    "    \n",
    "purpleair_historic_errors['pressure_error'] = df_historic['pressure'].apply(check_range)\n",
    "\n",
    "print(purpleair_historic_errors)"
   ]
  },
  {
   "cell_type": "markdown",
   "id": "9caaf512",
   "metadata": {},
   "source": [
    "### PM Check"
   ]
  },
  {
   "cell_type": "code",
   "execution_count": null,
   "id": "713faa44",
   "metadata": {},
   "outputs": [],
   "source": [
    "#Average reading in MPLS is 30 ug/m3 per https://www.epa.gov/air-trends/air-quality-cities-and-counties\n",
    "\n",
    "def check_range(value):\n",
    "    if value is None:\n",
    "        return 'no value given'\n",
    "#    if value == 0:\n",
    " #       return '0'\n",
    "#    if value >0.1 and value <=10:\n",
    "#        return 'PM2.5 0.1-10'\n",
    "#    if value >10 and value <=20:\n",
    "#        return 'PM2.5 10-20'\n",
    "#    if value >20 and value <=30:\n",
    "#        return 'PM2.5 20-30'\n",
    "#    if value >30 and value <=40:\n",
    "#        return 'PM2.5 30-40'\n",
    "#    if value >40 and value <=50:\n",
    "#        return 'PM2.5 40-50'\n",
    "#    if value >50 and value <=60:\n",
    "#        return 'PM2.5 50-60'\n",
    "#    if value >60 and value <=70:\n",
    "#        return 'PM2.5 60-70'\n",
    "    if value >0.1 and value <70:\n",
    "        pass\n",
    "    else:\n",
    "        return 'above 70'\n",
    "    \n",
    "purpleair_historic_errors['pm2_5_error'] = df_historic['pm2_5'].apply(check_range)\n",
    "\n",
    "print(purpleair_historic_errors)"
   ]
  },
  {
   "cell_type": "code",
   "execution_count": null,
   "id": "630ce442",
   "metadata": {},
   "outputs": [],
   "source": [
    "# Removing rows from the error table that don't have any errors\n",
    "\n",
    "purpleair_historic_errors = purpleair_historic_errors.dropna(subset=purpleair_historic_errors.columns.difference(['sensor_index', 'timestamp']), how='all')\n",
    "purpleair_historic_errors"
   ]
  },
  {
   "cell_type": "markdown",
   "id": "460d3e75",
   "metadata": {},
   "source": [
    "## Connecting to the Server"
   ]
  },
  {
   "cell_type": "code",
   "execution_count": null,
   "id": "0660e071",
   "metadata": {},
   "outputs": [],
   "source": [
    "import psycopg2\n",
    "from psycopg2 import sql"
   ]
  },
  {
   "cell_type": "code",
   "execution_count": null,
   "id": "1c371ec5",
   "metadata": {},
   "outputs": [],
   "source": [
    "connection = psycopg2.connect(host = '34.132.44.118',\n",
    "                              database = 'lab1-2',\n",
    "                              user = 'postgres',\n",
    "                              password = 'password',\n",
    "                              port = '5432')\n",
    "connection.closed"
   ]
  },
  {
   "cell_type": "markdown",
   "id": "3ea749cd",
   "metadata": {},
   "source": [
    "## Insert Data into SQL Table"
   ]
  },
  {
   "cell_type": "code",
   "execution_count": null,
   "id": "afaeea2b",
   "metadata": {},
   "outputs": [],
   "source": [
    "#connect to the cursor\n",
    "cur = connection.cursor()\n",
    "\n",
    "# iterate over the dataframe and insert each row into the database using a SQL INSERT statement\n",
    "for index, row in df_historic.iterrows():\n",
    "    cur.execute('''\n",
    "    INSERT INTO PURPLEAIR_HISTORIC (sensor_index, timestamp, humidity, temperature, pressure, pm2_5) \n",
    "    VALUES (%s, %s, %s, %s, %s) \n",
    "    ''', (row['sensor_index'], row['timestamp'], row['humidity'], row['temperature'], row['pressure'], row['pm2_5']))\n",
    "    connection.commit()\n",
    "    \n",
    "for i, r in purpleair_historic_errors.iterrows():\n",
    "    cur.execute('''\n",
    "    INSERT INTO PURPLEAIR_HISTORIC_ERRORS (sensor_index, timestamp, humidity_error, temperature_error, pressure_error, pm2_5_error) \n",
    "    VALUES (%s, %s, %s, %s, %s) \n",
    "    ''', (r['sensor_index'], r['timestamp'], r['humidity_error'], r['temperature_error'], r['pressure_error'], r['pm2_5_error']))\n",
    "    connection.commit()\n",
    "# commit the changes to the database and close the cursor and connection\n",
    "cur.close()\n",
    "connection.close()"
   ]
  }
 ],
 "metadata": {
  "kernelspec": {
   "display_name": "Python 3",
   "language": "python",
   "name": "python3"
  },
  "language_info": {
   "codemirror_mode": {
    "name": "ipython",
    "version": 3
   },
   "file_extension": ".py",
   "mimetype": "text/x-python",
   "name": "python",
   "nbconvert_exporter": "python",
   "pygments_lexer": "ipython3",
   "version": "3.9.11"
  }
 },
 "nbformat": 4,
 "nbformat_minor": 5
}
