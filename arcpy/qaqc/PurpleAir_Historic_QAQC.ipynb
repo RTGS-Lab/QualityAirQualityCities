{
 "cells": [
  {
   "cell_type": "markdown",
   "id": "9f9574e1",
   "metadata": {
    "tags": []
   },
   "source": [
    "# Observed Air Quality (PurpleAir)\n",
    "\n",
    "This notebook retrieves readings from PurpleAir Sensors in Minneapolis and cleans the entries and saves the results as a csv file.\n",
    "\n",
    "Documentation is available here: https://api.purpleair.com.\n",
    "You can read this article for help getting started: https://community.purpleair.com/t/making-api-calls-with-the-purpleair-api/180.\n",
    "\n",
    "From PurpleAir: \n",
    "\n",
    "\"The data from individual sensors will update no less than every 30 seconds. As a courtesy, we ask that you limit the number of requests to no more than once every 1 to 10 minutes, assuming you are only using the API to obtain data from sensors. If retrieving data from multiple sensors at once, please send a single request rather than individual requests in succession.\n",
    "\n",
    "The PurpleAir historical API is released as of July 18, 2022. For more information, view this post: https://community.purpleair.com/t/new-version-of-the-purpleair-api-on-july-18th/1251.\n",
    "\n",
    "Please let us know if you have any questions or concerns, and have a great day!\"\n",
    "\n",
    "A paper on this process: https://doi.org/10.5194/amt-14-4617-2021 (Link for [Download](https://www.researchgate.net/publication/352663348_Development_and_application_of_a_United_States-wide_correction_for_PM25_data_collected_with_the_PurpleAir_sensor) )\n",
    "\n",
    "Chat on which PM Estimate to use: https://community.purpleair.com/t/pm2-5-algorithms/3972/6"
   ]
  },
  {
   "cell_type": "code",
   "execution_count": 3,
   "id": "46a43900",
   "metadata": {},
   "outputs": [],
   "source": [
    "import os\n",
    "import requests \n",
    "import datetime as dt\n",
    "import pandas as pd\n",
    "import arcpy\n",
    "import numpy as np"
   ]
  },
  {
   "cell_type": "code",
   "execution_count": 4,
   "id": "f68d9646",
   "metadata": {},
   "outputs": [],
   "source": [
    "cwd = os.getcwd() # This is a global variable for where the notebook is (must change if running in arcpro)\n",
    "\n",
    "# Make it workspace\n",
    "\n",
    "arcpy.env.workspace = os.path.join(cwd, '..', '..', 'data', 'QAQC.gdb')\n",
    "\n",
    "arcpy.env.overwriteOutput = True # Overwrite layers is okay"
   ]
  },
  {
   "cell_type": "markdown",
   "id": "979b5637",
   "metadata": {},
   "source": [
    "## Setting MPLS Bounds"
   ]
  },
  {
   "cell_type": "code",
   "execution_count": 5,
   "id": "8f896852",
   "metadata": {},
   "outputs": [
    {
     "name": "stdout",
     "output_type": "stream",
     "text": [
      "nwlng=-93.43083707299996&nwlat=45.12366876300007&selng=-93.09225748799997&selat=44.81791263300005\n"
     ]
    }
   ],
   "source": [
    "#bound strings\n",
    "\n",
    "mpls_8km = \"mpls_8km\"\n",
    "\n",
    "bounds_strings = [f'nwlng=-93.43083707299996',\n",
    "                  f'nwlat=45.12366876300007',\n",
    "                  f'selng=-93.09225748799997',\n",
    "                  f'selat=44.81791263300005']\n",
    "bounds_string = '&'.join(bounds_strings)\n",
    "\n",
    "print(bounds_string)"
   ]
  },
  {
   "cell_type": "markdown",
   "id": "2bd6daf4",
   "metadata": {},
   "source": [
    "## Get Station IDs"
   ]
  },
  {
   "cell_type": "code",
   "execution_count": 6,
   "id": "dcc6e59b",
   "metadata": {},
   "outputs": [],
   "source": [
    "# This function will be used to collect data for multiple public PurpleAir sensors.\n",
    "def getSensorsData(query='', api_read_key=''):\n",
    "\n",
    "    # my_url is assigned the URL we are going to send our request to.\n",
    "    url = 'https://api.purpleair.com/v1/sensors?' + query\n",
    "    \n",
    "    print('Here is the full url for the API call:\\n\\n', url)\n",
    "\n",
    "    # my_headers is assigned the context of our request we want to make. In this case\n",
    "    # we will pass through our API read key using the variable created above.\n",
    "    my_headers = {'X-API-Key':api_read_key}\n",
    "\n",
    "    # This line creates and sends the request and then assigns its response to the\n",
    "    # variable, r.\n",
    "    response = requests.get(url, headers=my_headers)\n",
    "\n",
    "    # We then return the response we received.\n",
    "    return response"
   ]
  },
  {
   "cell_type": "code",
   "execution_count": 7,
   "id": "7e54a0d1",
   "metadata": {},
   "outputs": [
    {
     "name": "stdin",
     "output_type": "stream",
     "text": [
      "Please enter your Purple Air api key 51592903-B445-11ED-B6F4-42010A800007\n"
     ]
    }
   ],
   "source": [
    "# This is my personal API key... Please use responsibly!\n",
    "# 51592903-B445-11ED-B6F4-42010A800007\n",
    "\n",
    "api = input('Please enter your Purple Air api key')"
   ]
  },
  {
   "cell_type": "code",
   "execution_count": 8,
   "id": "ab06f215",
   "metadata": {},
   "outputs": [
    {
     "name": "stdout",
     "output_type": "stream",
     "text": [
      "fields=location_type\n"
     ]
    }
   ],
   "source": [
    "# Designating and formatting the fields to request\n",
    "\n",
    "fields = ['location_type']\n",
    "\n",
    "fields_string = 'fields=' + '%2C'.join(fields)\n",
    "\n",
    "print(fields_string)"
   ]
  },
  {
   "cell_type": "code",
   "execution_count": 9,
   "id": "38123ce8",
   "metadata": {},
   "outputs": [
    {
     "name": "stdout",
     "output_type": "stream",
     "text": [
      "fields=location_type&nwlng=-93.43083707299996&nwlat=45.12366876300007&selng=-93.09225748799997&selat=44.81791263300005\n"
     ]
    }
   ],
   "source": [
    "# Put it all together\n",
    "\n",
    "query_string = '&'.join([fields_string, bounds_string])\n",
    "\n",
    "print(query_string)"
   ]
  },
  {
   "cell_type": "code",
   "execution_count": 10,
   "id": "0a58cc5d",
   "metadata": {},
   "outputs": [
    {
     "name": "stdout",
     "output_type": "stream",
     "text": [
      "Here is the full url for the API call:\n",
      "\n",
      " https://api.purpleair.com/v1/sensors?fields=location_type&nwlng=-93.43083707299996&nwlat=45.12366876300007&selng=-93.09225748799997&selat=44.81791263300005\n"
     ]
    }
   ],
   "source": [
    "# Make the request\n",
    "\n",
    "response = getSensorsData(query_string, api)"
   ]
  },
  {
   "cell_type": "code",
   "execution_count": 11,
   "id": "6da426c9",
   "metadata": {},
   "outputs": [
    {
     "name": "stdout",
     "output_type": "stream",
     "text": [
      "<class 'pandas.core.frame.DataFrame'>\n",
      "RangeIndex: 88 entries, 0 to 87\n",
      "Data columns (total 2 columns):\n",
      " #   Column         Non-Null Count  Dtype\n",
      "---  ------         --------------  -----\n",
      " 0   sensor_index   88 non-null     int32\n",
      " 1   location_type  88 non-null     int32\n",
      "dtypes: int32(2)\n",
      "memory usage: 832.0 bytes\n"
     ]
    }
   ],
   "source": [
    "# Get response into Pandas DataFrame\n",
    "\n",
    "response_dict = response.json() # Read response as a json (dictionary)\n",
    "\n",
    "col_names = response_dict['fields']\n",
    "data = np.array(response_dict['data'])\n",
    "\n",
    "df = pd.DataFrame(data, columns = col_names)\n",
    "\n",
    "df.info()"
   ]
  },
  {
   "cell_type": "code",
   "execution_count": 12,
   "id": "6f5e6c6c",
   "metadata": {},
   "outputs": [
    {
     "data": {
      "text/html": [
       "<div>\n",
       "<style scoped>\n",
       "    .dataframe tbody tr th:only-of-type {\n",
       "        vertical-align: middle;\n",
       "    }\n",
       "\n",
       "    .dataframe tbody tr th {\n",
       "        vertical-align: top;\n",
       "    }\n",
       "\n",
       "    .dataframe thead th {\n",
       "        text-align: right;\n",
       "    }\n",
       "</style>\n",
       "<table border=\"1\" class=\"dataframe\">\n",
       "  <thead>\n",
       "    <tr style=\"text-align: right;\">\n",
       "      <th></th>\n",
       "      <th>sensor_index</th>\n",
       "      <th>location_type</th>\n",
       "    </tr>\n",
       "  </thead>\n",
       "  <tbody>\n",
       "    <tr>\n",
       "      <th>0</th>\n",
       "      <td>3088</td>\n",
       "      <td>0</td>\n",
       "    </tr>\n",
       "    <tr>\n",
       "      <th>1</th>\n",
       "      <td>5582</td>\n",
       "      <td>0</td>\n",
       "    </tr>\n",
       "    <tr>\n",
       "      <th>2</th>\n",
       "      <td>137876</td>\n",
       "      <td>1</td>\n",
       "    </tr>\n",
       "    <tr>\n",
       "      <th>3</th>\n",
       "      <td>11134</td>\n",
       "      <td>0</td>\n",
       "    </tr>\n",
       "    <tr>\n",
       "      <th>4</th>\n",
       "      <td>142718</td>\n",
       "      <td>0</td>\n",
       "    </tr>\n",
       "  </tbody>\n",
       "</table>\n",
       "</div>"
      ],
      "text/plain": [
       "   sensor_index  location_type\n",
       "0          3088              0\n",
       "1          5582              0\n",
       "2        137876              1\n",
       "3         11134              0\n",
       "4        142718              0"
      ]
     },
     "execution_count": 12,
     "metadata": {},
     "output_type": "execute_result"
    }
   ],
   "source": [
    "df.head()"
   ]
  },
  {
   "cell_type": "code",
   "execution_count": 13,
   "id": "11ca7bb3",
   "metadata": {},
   "outputs": [
    {
     "data": {
      "text/plain": [
       "80"
      ]
     },
     "execution_count": 13,
     "metadata": {},
     "output_type": "execute_result"
    }
   ],
   "source": [
    "# Only want outside sensors\n",
    "\n",
    "outside_sensors = df[df['location_type']==0] # 0 = outside\n",
    "\n",
    "len(outside_sensors)"
   ]
  },
  {
   "cell_type": "code",
   "execution_count": 32,
   "id": "306b0b09",
   "metadata": {
    "collapsed": true,
    "jupyter": {
     "outputs_hidden": true
    }
   },
   "outputs": [
    {
     "data": {
      "text/plain": [
       "{'api_version': 'V1.0.11-0.0.42',\n",
       " 'time_stamp': 1680553668,\n",
       " 'data_time_stamp': 1680553632,\n",
       " 'max_age': 604800,\n",
       " 'firmware_default_version': '7.02',\n",
       " 'fields': ['sensor_index', 'location_type'],\n",
       " 'location_types': ['outside', 'inside'],\n",
       " 'data': [[3088, 0],\n",
       "  [5582, 0],\n",
       "  [137876, 1],\n",
       "  [11134, 0],\n",
       "  [142718, 0],\n",
       "  [142720, 0],\n",
       "  [142726, 0],\n",
       "  [142730, 0],\n",
       "  [142728, 0],\n",
       "  [142734, 0],\n",
       "  [142732, 0],\n",
       "  [142736, 0],\n",
       "  [142744, 0],\n",
       "  [142750, 0],\n",
       "  [142748, 0],\n",
       "  [142752, 0],\n",
       "  [142756, 0],\n",
       "  [142774, 0],\n",
       "  [142772, 0],\n",
       "  [142852, 0],\n",
       "  [143214, 0],\n",
       "  [143216, 0],\n",
       "  [143222, 0],\n",
       "  [143226, 0],\n",
       "  [143224, 0],\n",
       "  [143238, 0],\n",
       "  [143242, 0],\n",
       "  [143240, 0],\n",
       "  [143246, 0],\n",
       "  [143636, 0],\n",
       "  [143648, 0],\n",
       "  [143656, 0],\n",
       "  [143666, 0],\n",
       "  [143668, 0],\n",
       "  [143916, 0],\n",
       "  [145202, 0],\n",
       "  [145204, 0],\n",
       "  [145234, 0],\n",
       "  [145242, 0],\n",
       "  [145250, 0],\n",
       "  [145454, 0],\n",
       "  [145470, 0],\n",
       "  [145498, 0],\n",
       "  [145506, 0],\n",
       "  [145604, 0],\n",
       "  [145610, 0],\n",
       "  [145616, 0],\n",
       "  [147749, 1],\n",
       "  [17189, 1],\n",
       "  [21179, 0],\n",
       "  [154751, 0],\n",
       "  [23989, 0],\n",
       "  [156605, 0],\n",
       "  [157747, 0],\n",
       "  [157757, 0],\n",
       "  [157787, 0],\n",
       "  [157785, 0],\n",
       "  [157837, 0],\n",
       "  [157845, 0],\n",
       "  [157861, 0],\n",
       "  [157871, 0],\n",
       "  [157877, 0],\n",
       "  [157935, 0],\n",
       "  [162145, 0],\n",
       "  [31243, 0],\n",
       "  [162845, 1],\n",
       "  [168327, 0],\n",
       "  [171059, 1],\n",
       "  [171919, 0],\n",
       "  [43305, 0],\n",
       "  [174451, 0],\n",
       "  [174855, 0],\n",
       "  [46215, 1],\n",
       "  [54907, 0],\n",
       "  [75827, 0],\n",
       "  [77405, 0],\n",
       "  [85113, 0],\n",
       "  [98259, 0],\n",
       "  [104760, 0],\n",
       "  [107082, 1],\n",
       "  [107096, 1],\n",
       "  [108274, 0],\n",
       "  [108364, 0],\n",
       "  [108366, 0],\n",
       "  [113486, 0],\n",
       "  [116413, 0],\n",
       "  [126487, 0],\n",
       "  [128195, 0]]}"
      ]
     },
     "execution_count": 32,
     "metadata": {},
     "output_type": "execute_result"
    }
   ],
   "source": [
    "response.json()"
   ]
  },
  {
   "cell_type": "code",
   "execution_count": 15,
   "id": "4601243d",
   "metadata": {},
   "outputs": [],
   "source": [
    "#drop the location_type now that we have filtered for outdoor sensors only\n",
    "df_historic = outside_sensors.drop('location_type', axis=1)"
   ]
  },
  {
   "cell_type": "markdown",
   "id": "7ff21cfd",
   "metadata": {
    "jp-MarkdownHeadingCollapsed": true,
    "tags": []
   },
   "source": [
    "## Pulling Historic Sensor CSVs"
   ]
  },
  {
   "cell_type": "markdown",
   "id": "f21cd6d7",
   "metadata": {},
   "source": [
    "### Setting time period"
   ]
  },
  {
   "cell_type": "code",
   "execution_count": 17,
   "id": "22a18595",
   "metadata": {},
   "outputs": [
    {
     "data": {
      "text/plain": [
       "1662008400"
      ]
     },
     "execution_count": 17,
     "metadata": {},
     "output_type": "execute_result"
    }
   ],
   "source": [
    "#pulling from 9/1/22 - 4/2/23 \n",
    "\n",
    "# Start time\n",
    "\n",
    "end_datetime = dt.datetime(2023,4,2) # April 2, 2023\n",
    "end_timestamp = int(dt.datetime.timestamp(end_datetime))\n",
    "\n",
    "# End time\n",
    "\n",
    "start_datetime = dt.datetime(2022,9,1) # September 1, 2022\n",
    "start_timestamp = int(dt.datetime.timestamp(start_datetime))\n",
    "\n",
    "# Sensors\n",
    "\n",
    "sensor_ids = outside_sensors.sensor_index.apply(lambda x: int(x))"
   ]
  },
  {
   "cell_type": "markdown",
   "id": "2049564a",
   "metadata": {},
   "source": [
    "### Creating the Query for the API"
   ]
  },
  {
   "cell_type": "code",
   "execution_count": 21,
   "id": "2af2d92a",
   "metadata": {},
   "outputs": [],
   "source": [
    "# Sensor id\n",
    "\n",
    "sensor_id = sensor_ids[0]\n",
    "\n",
    "# Timestamp String\n",
    "\n",
    "time_string = 'start_timestamp=' + str(start_timestamp) + '&end_timestamp=' + str(end_timestamp)\n",
    "\n",
    "# Average string (in minutes) 1440 is 1 day average\n",
    "\n",
    "avg_string = 'average=1440'\n",
    "\n",
    "# Environmental fields\n",
    "\n",
    "env_fields = ['humidity', 'temperature', 'pressure', 'pm2.5_cf_1']\n",
    "\n",
    "env_fields_string = 'fields=' + '%2C%20'.join(env_fields)\n",
    "\n",
    "# Base URL\n",
    "\n",
    "base_url = f'https://api.purpleair.com/v1/sensors/{sensor_id}/history/csv?'\n",
    "\n",
    "# Put it all together\n",
    "\n",
    "query_url = base_url + '&'.join([time_string, avg_string, env_fields_string])\n",
    "\n",
    "my_headers = {'X-API-Key':api}\n",
    "\n",
    "# This line creates and sends the request and then assigns its response to the\n",
    "# variable, r.\n",
    "r = requests.get(query_url, headers=my_headers)"
   ]
  },
  {
   "cell_type": "markdown",
   "id": "915d9bc9",
   "metadata": {},
   "source": [
    "### Creating a 'for' loop to parse through all sensor_ids"
   ]
  },
  {
   "cell_type": "code",
   "execution_count": null,
   "id": "65839e64",
   "metadata": {},
   "outputs": [],
   "source": [
    "#need to add timestamp of reading\n",
    "#call the df df_historic"
   ]
  },
  {
   "cell_type": "markdown",
   "id": "abdba0c2",
   "metadata": {},
   "source": [
    "## Cleaning Historic Data for Analysis"
   ]
  },
  {
   "cell_type": "code",
   "execution_count": null,
   "id": "7067d04d",
   "metadata": {},
   "outputs": [],
   "source": [
    "#rename pm2.5 column to pm2_5 for SQL\n",
    "df_historic = df_historic.rename(columns={'pm2.5_cf_1' : 'pm2_5'})"
   ]
  },
  {
   "cell_type": "code",
   "execution_count": null,
   "id": "5f122301",
   "metadata": {},
   "outputs": [],
   "source": [
    "#changing UNIX date to pd date\n",
    "df_historic['timestamp'] = pd.to_datetime(df_historic['timestamp'], unit='s')"
   ]
  },
  {
   "cell_type": "markdown",
   "id": "d4fdf7ef",
   "metadata": {},
   "source": [
    "## QAQC"
   ]
  },
  {
   "cell_type": "code",
   "execution_count": null,
   "id": "e7c09d67",
   "metadata": {},
   "outputs": [],
   "source": [
    "#create a blank dataframe to hold the errors\n",
    "\n",
    "purpleair_historic_errors = pd.DataFrame(columns = ['humidity_error', 'temperature_error', 'pressure_error', 'pm2_5_error'])\n",
    "purpleair_historic_errors['sensor_index'] = df_historic['sensor_index']\n",
    "purpleair_historic_errors['timestamp'] = df_historic['timestamp']"
   ]
  },
  {
   "cell_type": "markdown",
   "id": "eccdf160",
   "metadata": {},
   "source": [
    "### Humidity Check"
   ]
  },
  {
   "cell_type": "code",
   "execution_count": null,
   "id": "89ccad09",
   "metadata": {},
   "outputs": [],
   "source": [
    "#ranges pulled from https://www.currentresults.com/Weather/Minnesota/humidity-annual.php\n",
    "#range is actually 40-90 but I was getting tons of errors so I reduced it to 10-90\n",
    "\n",
    "def check_range(value):\n",
    "    if value is None:\n",
    "        return 'no value given'  # or any other value that indicates a missing value\n",
    "    elif value >= 10 and value <= 90:\n",
    "        pass\n",
    "    else:\n",
    "        return 'out of range (10%-90%)'\n",
    "    \n",
    "purpleair_historic_errors['humidity_error'] = df_historic['humidity'].apply(check_range)\n",
    "\n",
    "print(purpleair_historic_errors)"
   ]
  },
  {
   "cell_type": "markdown",
   "id": "83c89e7b",
   "metadata": {},
   "source": [
    "### Temperature Check"
   ]
  },
  {
   "cell_type": "code",
   "execution_count": null,
   "id": "e68f7557",
   "metadata": {},
   "outputs": [],
   "source": [
    "#winter -4 - 28\n",
    "#spring 22 - 57\n",
    "#summer 48 - 81\n",
    "#fall 29 - 59\n",
    "#ref from https://www.dnr.state.mn.us/climate/summaries_and_publications/normalsportal.html\n",
    "\n",
    "def check_range(value):\n",
    "    if value is None:\n",
    "        return 'no value given'  # or any other value that indicates a missing value\n",
    "    elif value >= -20 and value <= 100:\n",
    "        pass\n",
    "    else:\n",
    "        return 'out of range (-20-100F)'\n",
    "'''\n",
    "#if we can get time stamp we should use this with a date check too\n",
    "#this is not correct - we can do seasonal if we can relate it to date range\n",
    "def check_range(value):\n",
    "    if value is None:\n",
    "        return -1\n",
    "    if value >= -20 and value <=35:\n",
    "        return 'winter (-20-35F)'\n",
    "    if value >10 and value <=70:\n",
    "        return 'spring (10-70F)'\n",
    "    if value >30 and value <=100:\n",
    "        return 'summer (30-100F)'\n",
    "    if value >15 and value <=70:\n",
    "        return 'fall (15-70F)'\n",
    "    else:\n",
    "        return 'out of range'\n",
    "'''\n",
    "\n",
    "purpleair_historic_errors['temperature_error'] = df_historic['temperature'].apply(check_range)\n",
    "\n",
    "print(purpleair_historic_errors)"
   ]
  },
  {
   "cell_type": "markdown",
   "id": "8cca9a28",
   "metadata": {},
   "source": [
    "### Pressure Check"
   ]
  },
  {
   "cell_type": "code",
   "execution_count": null,
   "id": "33c1a96f",
   "metadata": {},
   "outputs": [],
   "source": [
    "# range is 25 - 35 Hg according to https://barometricpressure.app/minneapolis\n",
    "# PurpleAir uses Millibars so I used https://www.weather.gov/epz/wxcalc_pressureconvert to convert\n",
    "# rage is 846.6 - 1185.24\n",
    "\n",
    "def check_range(value):\n",
    "    if value is None:\n",
    "        return 'no value given'  # or any other value that indicates a missing value\n",
    "    elif value >= 830 and value <= 1200:\n",
    "        pass\n",
    "    else:\n",
    "        return 'out of range (830 - 1200 Millibars)'\n",
    "    \n",
    "purpleair_historic_errors['pressure_error'] = df_historic['pressure'].apply(check_range)\n",
    "\n",
    "print(purpleair_historic_errors)"
   ]
  },
  {
   "cell_type": "markdown",
   "id": "566c1e6b",
   "metadata": {},
   "source": [
    "### PM Check"
   ]
  },
  {
   "cell_type": "code",
   "execution_count": null,
   "id": "26493c2e",
   "metadata": {},
   "outputs": [],
   "source": [
    "#Average reading in MPLS is 30 ug/m3 per https://www.epa.gov/air-trends/air-quality-cities-and-counties\n",
    "\n",
    "def check_range(value):\n",
    "    if value is None:\n",
    "        return 'no value given'\n",
    "#    if value == 0:\n",
    " #       return '0'\n",
    "#    if value >0.1 and value <=10:\n",
    "#        return 'PM2.5 0.1-10'\n",
    "#    if value >10 and value <=20:\n",
    "#        return 'PM2.5 10-20'\n",
    "#    if value >20 and value <=30:\n",
    "#        return 'PM2.5 20-30'\n",
    "#    if value >30 and value <=40:\n",
    "#        return 'PM2.5 30-40'\n",
    "#    if value >40 and value <=50:\n",
    "#        return 'PM2.5 40-50'\n",
    "#    if value >50 and value <=60:\n",
    "#        return 'PM2.5 50-60'\n",
    "#    if value >60 and value <=70:\n",
    "#        return 'PM2.5 60-70'\n",
    "    if value >0.1 and value <70:\n",
    "        pass\n",
    "    else:\n",
    "        return 'above 70'\n",
    "    \n",
    "purpleair_historic_errors['pm2_5_error'] = df_historic['pm2_5'].apply(check_range)\n",
    "\n",
    "print(purpleair_historic_errors)"
   ]
  },
  {
   "cell_type": "code",
   "execution_count": null,
   "id": "372dc257",
   "metadata": {},
   "outputs": [],
   "source": [
    "# Removing rows from the error table that don't have any errors\n",
    "\n",
    "purpleair_historic_errors = purpleair_historic_errors.dropna(subset=purpleair_historic_errors.columns.difference(['sensor_index', 'timestamp']), how='all')\n",
    "purpleair_historic_errors"
   ]
  },
  {
   "cell_type": "markdown",
   "id": "296bae1c",
   "metadata": {},
   "source": [
    "## Connecting to the Server"
   ]
  },
  {
   "cell_type": "code",
   "execution_count": null,
   "id": "78161903",
   "metadata": {},
   "outputs": [],
   "source": [
    "import psycopg2\n",
    "from psycopg2 import sql"
   ]
  },
  {
   "cell_type": "code",
   "execution_count": null,
   "id": "83a34517",
   "metadata": {},
   "outputs": [],
   "source": [
    "connection = psycopg2.connect(host = '34.132.44.118',\n",
    "                              database = 'lab1-2',\n",
    "                              user = 'postgres',\n",
    "                              password = 'password',\n",
    "                              port = '5432')\n",
    "connection.closed"
   ]
  },
  {
   "cell_type": "markdown",
   "id": "485ada1c",
   "metadata": {},
   "source": [
    "## Insert Data into SQL Table"
   ]
  },
  {
   "cell_type": "code",
   "execution_count": null,
   "id": "20bf6da8",
   "metadata": {},
   "outputs": [],
   "source": [
    "#connect to the cursor\n",
    "cur = connection.cursor()\n",
    "\n",
    "# iterate over the dataframe and insert each row into the database using a SQL INSERT statement\n",
    "for index, row in df_historic.iterrows():\n",
    "    cur.execute('''\n",
    "    INSERT INTO PURPLEAIR_HISTORIC (sensor_index, timestamp, humidity, temperature, pressure, pm2_5) \n",
    "    VALUES (%s, %s, %s, %s, %s) \n",
    "    ''', (row['sensor_index'], row['timestamp'], row['humidity'], row['temperature'], row['pressure'], row['pm2_5']))\n",
    "    connection.commit()\n",
    "    \n",
    "for i, r in purpleair_historic_errors.iterrows():\n",
    "    cur.execute('''\n",
    "    INSERT INTO PURPLEAIR_HISTORIC_ERRORS (sensor_index, timestamp, humidity_error, temperature_error, pressure_error, pm2_5_error) \n",
    "    VALUES (%s, %s, %s, %s, %s) \n",
    "    ''', (r['sensor_index'], r['timestamp'], r['humidity_error'], r['temperature_error'], r['pressure_error'], r['pm2_5_error']))\n",
    "    connection.commit()\n",
    "# commit the changes to the database and close the cursor and connection\n",
    "cur.close()\n",
    "connection.close()"
   ]
  }
 ],
 "metadata": {
  "kernelspec": {
   "display_name": "Python 3",
   "language": "python",
   "name": "python3"
  },
  "language_info": {
   "codemirror_mode": {
    "name": "ipython",
    "version": 3
   },
   "file_extension": ".py",
   "mimetype": "text/x-python",
   "name": "python",
   "nbconvert_exporter": "python",
   "pygments_lexer": "ipython3",
   "version": "3.9.11"
  }
 },
 "nbformat": 4,
 "nbformat_minor": 5
}
