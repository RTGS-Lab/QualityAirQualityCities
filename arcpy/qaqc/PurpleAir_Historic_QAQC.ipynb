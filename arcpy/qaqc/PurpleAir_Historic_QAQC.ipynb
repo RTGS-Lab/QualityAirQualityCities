{
 "cells": [
  {
   "cell_type": "markdown",
   "id": "b91a7c3f",
   "metadata": {
    "tags": []
   },
   "source": [
    "# Observed Air Quality (PurpleAir)\n",
    "\n",
    "This notebook retrieves readings from PurpleAir Sensors in Minneapolis and cleans the entries and saves the results as a csv file.\n",
    "\n",
    "Documentation is available here: https://api.purpleair.com.\n",
    "You can read this article for help getting started: https://community.purpleair.com/t/making-api-calls-with-the-purpleair-api/180.\n",
    "\n",
    "From PurpleAir: \n",
    "\n",
    "\"The data from individual sensors will update no less than every 30 seconds. As a courtesy, we ask that you limit the number of requests to no more than once every 1 to 10 minutes, assuming you are only using the API to obtain data from sensors. If retrieving data from multiple sensors at once, please send a single request rather than individual requests in succession.\n",
    "\n",
    "The PurpleAir historical API is released as of July 18, 2022. For more information, view this post: https://community.purpleair.com/t/new-version-of-the-purpleair-api-on-july-18th/1251.\n",
    "\n",
    "Please let us know if you have any questions or concerns, and have a great day!\"\n",
    "\n",
    "A paper on this process: https://doi.org/10.5194/amt-14-4617-2021 (Link for [Download](https://www.researchgate.net/publication/352663348_Development_and_application_of_a_United_States-wide_correction_for_PM25_data_collected_with_the_PurpleAir_sensor) )\n",
    "\n",
    "Chat on which PM Estimate to use: https://community.purpleair.com/t/pm2-5-algorithms/3972/6"
   ]
  },
  {
   "cell_type": "code",
   "execution_count": 1,
   "id": "9f319216",
   "metadata": {},
   "outputs": [],
   "source": [
    "### Import Packages\n",
    "\n",
    "# File manipulation\n",
    "\n",
    "import os # For working with Operating System\n",
    "import requests # Accessing the Web\n",
    "import datetime as dt # Working with dates/times\n",
    "import io # Input/Output Bytes objects\n",
    "\n",
    "# Database \n",
    "\n",
    "import psycopg2\n",
    "from psycopg2 import sql\n",
    "\n",
    "# Analysis\n",
    "\n",
    "import numpy as np\n",
    "import arcpy\n",
    "import pandas as pd"
   ]
  },
  {
   "cell_type": "markdown",
   "id": "cacecd5a",
   "metadata": {},
   "source": [
    "## Set Working Environment"
   ]
  },
  {
   "cell_type": "code",
   "execution_count": 2,
   "id": "b2d33a0e",
   "metadata": {},
   "outputs": [],
   "source": [
    "# Get CWD\n",
    "\n",
    "cwd = os.getcwd() # This is a global variable for where the notebook is (must change if running in arcpro)\n",
    "\n",
    "# Create GeoDataBase\n",
    "# This is the communal GeoDataBase\n",
    "\n",
    "if not os.path.exists(os.path.join(cwd, '..', '..', 'data', 'QAQC.gdb')): # If it doesn't exist, create it\n",
    "\n",
    "    arcpy.management.CreateFileGDB(os.path.join(cwd, '..', '..', 'data'), 'QAQC')\n",
    "\n",
    "# Make it workspace\n",
    "\n",
    "arcpy.env.workspace = os.path.join(cwd, '..', '..', 'data', 'QAQC.gdb')\n",
    "\n",
    "arcpy.env.overwriteOutput = True # Overwrite layers is okay"
   ]
  },
  {
   "cell_type": "markdown",
   "id": "cc473325",
   "metadata": {},
   "source": [
    "## Set Bounds for PurpleAir Parameters"
   ]
  },
  {
   "cell_type": "code",
   "execution_count": 3,
   "id": "364e533a",
   "metadata": {},
   "outputs": [],
   "source": [
    "#Setting lat/long for PurpleAir API Parameters\n",
    "nwlng = arcpy.Describe(\"mpls_8km_wgs\").extent.XMin\n",
    "nwlat = arcpy.Describe(\"mpls_8km_wgs\").extent.YMax\n",
    "selng = arcpy.Describe(\"mpls_8km_wgs\").extent.XMax\n",
    "selat = arcpy.Describe(\"mpls_8km_wgs\").extent.YMin"
   ]
  },
  {
   "cell_type": "markdown",
   "id": "96ae2cb3",
   "metadata": {},
   "source": [
    "## Get Station IDs"
   ]
  },
  {
   "cell_type": "code",
   "execution_count": 4,
   "id": "f412be3e",
   "metadata": {},
   "outputs": [],
   "source": [
    "# This function will be used to collect data for multiple public PurpleAir sensors.\n",
    "def getSensorsData(query='', api_read_key=''):\n",
    "\n",
    "    # my_url is assigned the URL we are going to send our request to.\n",
    "    url = 'https://api.purpleair.com/v1/sensors?' + query\n",
    "    \n",
    "    print('Here is the full url for the API call:\\n\\n', url)\n",
    "\n",
    "    # my_headers is assigned the context of our request we want to make. In this case\n",
    "    # we will pass through our API read key using the variable created above.\n",
    "    my_headers = {'X-API-Key':api_read_key}\n",
    "\n",
    "    # This line creates and sends the request and then assigns its response to the\n",
    "    # variable, r.\n",
    "    response = requests.get(url, headers=my_headers)\n",
    "\n",
    "    # We then return the response we received.\n",
    "    return response"
   ]
  },
  {
   "cell_type": "code",
   "execution_count": 5,
   "id": "8dbe69f9",
   "metadata": {},
   "outputs": [
    {
     "name": "stdin",
     "output_type": "stream",
     "text": [
      "Please enter your Purple Air api key 51592903-B445-11ED-B6F4-42010A800007\n"
     ]
    }
   ],
   "source": [
    "# This is my personal API key... Please use responsibly!\n",
    "\n",
    "api = input('Please enter your Purple Air api key')"
   ]
  },
  {
   "cell_type": "code",
   "execution_count": 6,
   "id": "afdb3e46",
   "metadata": {},
   "outputs": [
    {
     "name": "stdout",
     "output_type": "stream",
     "text": [
      "nwlng=-93.43047670599998&nwlat=45.12326797900003&selng=-93.09299994199998&selat=44.81858013100003\n"
     ]
    }
   ],
   "source": [
    "#Set bounding strings for API parameters\n",
    "bounds_strings = [f'nwlng={nwlng}',\n",
    "                  f'nwlat={nwlat}',\n",
    "                  f'selng={selng}',\n",
    "                  f'selat={selat}']\n",
    "\n",
    "bounds_string = '&'.join(bounds_strings)\n",
    "\n",
    "print(bounds_string)"
   ]
  },
  {
   "cell_type": "code",
   "execution_count": 7,
   "id": "3677e588",
   "metadata": {},
   "outputs": [
    {
     "name": "stdout",
     "output_type": "stream",
     "text": [
      "fields=location_type\n"
     ]
    }
   ],
   "source": [
    "# Designating and formatting the fields to request\n",
    "\n",
    "fields = ['location_type']\n",
    "\n",
    "fields_string = 'fields=' + '%2C'.join(fields)\n",
    "\n",
    "print(fields_string)"
   ]
  },
  {
   "cell_type": "code",
   "execution_count": 8,
   "id": "0497a6a1",
   "metadata": {},
   "outputs": [
    {
     "name": "stdout",
     "output_type": "stream",
     "text": [
      "fields=location_type&nwlng=-93.43047670599998&nwlat=45.12326797900003&selng=-93.09299994199998&selat=44.81858013100003\n"
     ]
    }
   ],
   "source": [
    "# Put it all together\n",
    "\n",
    "query_string = '&'.join([fields_string, bounds_string])\n",
    "\n",
    "print(query_string)"
   ]
  },
  {
   "cell_type": "code",
   "execution_count": 9,
   "id": "e893e12e",
   "metadata": {},
   "outputs": [
    {
     "name": "stdout",
     "output_type": "stream",
     "text": [
      "Here is the full url for the API call:\n",
      "\n",
      " https://api.purpleair.com/v1/sensors?fields=location_type&nwlng=-93.43047670599998&nwlat=45.12326797900003&selng=-93.09299994199998&selat=44.81858013100003\n"
     ]
    }
   ],
   "source": [
    "# Make the request\n",
    "\n",
    "response = getSensorsData(query_string, api)"
   ]
  },
  {
   "cell_type": "code",
   "execution_count": 10,
   "id": "f1bc4220",
   "metadata": {},
   "outputs": [
    {
     "name": "stdout",
     "output_type": "stream",
     "text": [
      "<class 'pandas.core.frame.DataFrame'>\n",
      "RangeIndex: 88 entries, 0 to 87\n",
      "Data columns (total 2 columns):\n",
      " #   Column         Non-Null Count  Dtype\n",
      "---  ------         --------------  -----\n",
      " 0   sensor_index   88 non-null     int32\n",
      " 1   location_type  88 non-null     int32\n",
      "dtypes: int32(2)\n",
      "memory usage: 832.0 bytes\n"
     ]
    }
   ],
   "source": [
    "# Get response into Pandas DataFrame\n",
    "\n",
    "response_dict = response.json() # Read response as a json (dictionary)\n",
    "\n",
    "col_names = response_dict['fields']\n",
    "data = np.array(response_dict['data'])\n",
    "\n",
    "df = pd.DataFrame(data, columns = col_names)\n",
    "\n",
    "df.info()"
   ]
  },
  {
   "cell_type": "code",
   "execution_count": 11,
   "id": "27d82711",
   "metadata": {},
   "outputs": [
    {
     "data": {
      "text/plain": [
       "80"
      ]
     },
     "execution_count": 11,
     "metadata": {},
     "output_type": "execute_result"
    }
   ],
   "source": [
    "# Only want outside sensors\n",
    "\n",
    "outside_sensors = df[df['location_type']==0] # 0 = outside\n",
    "\n",
    "len(outside_sensors)"
   ]
  },
  {
   "cell_type": "code",
   "execution_count": 12,
   "id": "f085131e",
   "metadata": {},
   "outputs": [],
   "source": [
    "#drop the location_type now that we have filtered for outdoor sensors only\n",
    "df_historic = outside_sensors.drop('location_type', axis=1)"
   ]
  },
  {
   "cell_type": "markdown",
   "id": "e1f0a325",
   "metadata": {
    "tags": []
   },
   "source": [
    "## Pulling Historic Sensor CSVs"
   ]
  },
  {
   "cell_type": "markdown",
   "id": "8c8549f7",
   "metadata": {},
   "source": [
    "### Setting time period"
   ]
  },
  {
   "cell_type": "code",
   "execution_count": 13,
   "id": "310fd8b6",
   "metadata": {},
   "outputs": [],
   "source": [
    "#pulling from 9/1/22 - 4/2/23 \n",
    "\n",
    "# Start time\n",
    "\n",
    "end_datetime = dt.datetime(2023,4,30) # April 2, 2023\n",
    "end_timestamp = int(dt.datetime.timestamp(end_datetime))\n",
    "\n",
    "# End time\n",
    "\n",
    "start_datetime = dt.datetime(2022,6,15) # September 1, 2022\n",
    "start_timestamp = int(dt.datetime.timestamp(start_datetime))\n",
    "\n",
    "# Sensors\n",
    "\n",
    "sensor_ids = df_historic.sensor_index.apply(lambda x: int(x))"
   ]
  },
  {
   "cell_type": "code",
   "execution_count": 14,
   "id": "79cfe8c8",
   "metadata": {},
   "outputs": [
    {
     "data": {
      "text/plain": [
       "0       3088\n",
       "2      11134\n",
       "3     142718\n",
       "4     142720\n",
       "5     142726\n",
       "       ...  \n",
       "83    110979\n",
       "84    113486\n",
       "85    116413\n",
       "86    126487\n",
       "87    128195\n",
       "Name: sensor_index, Length: 80, dtype: int64"
      ]
     },
     "execution_count": 14,
     "metadata": {},
     "output_type": "execute_result"
    }
   ],
   "source": [
    "sensor_ids"
   ]
  },
  {
   "cell_type": "markdown",
   "id": "a0f514f6",
   "metadata": {},
   "source": [
    "### Creating the Query for the API"
   ]
  },
  {
   "cell_type": "markdown",
   "id": "6546aaee",
   "metadata": {},
   "source": [
    "### Calling a SINGLE sensor"
   ]
  },
  {
   "cell_type": "code",
   "execution_count": 32,
   "id": "0181f0f3",
   "metadata": {
    "collapsed": true,
    "jupyter": {
     "outputs_hidden": true,
     "source_hidden": true
    },
    "tags": []
   },
   "outputs": [
    {
     "data": {
      "text/html": [
       "<div>\n",
       "<style scoped>\n",
       "    .dataframe tbody tr th:only-of-type {\n",
       "        vertical-align: middle;\n",
       "    }\n",
       "\n",
       "    .dataframe tbody tr th {\n",
       "        vertical-align: top;\n",
       "    }\n",
       "\n",
       "    .dataframe thead th {\n",
       "        text-align: right;\n",
       "    }\n",
       "</style>\n",
       "<table border=\"1\" class=\"dataframe\">\n",
       "  <thead>\n",
       "    <tr style=\"text-align: right;\">\n",
       "      <th></th>\n",
       "      <th>humidity</th>\n",
       "      <th>temperature</th>\n",
       "      <th>pressure</th>\n",
       "      <th>pm2.5_cf_1</th>\n",
       "      <th>timestamp</th>\n",
       "      <th>pm2.5_cf_1</th>\n",
       "    </tr>\n",
       "  </thead>\n",
       "  <tbody>\n",
       "    <tr>\n",
       "      <th>0</th>\n",
       "      <td>1674864000</td>\n",
       "      <td>3088</td>\n",
       "      <td>40.201</td>\n",
       "      <td>17.581</td>\n",
       "      <td>991.743</td>\n",
       "      <td>0.6330</td>\n",
       "    </tr>\n",
       "    <tr>\n",
       "      <th>1</th>\n",
       "      <td>1671753600</td>\n",
       "      <td>3088</td>\n",
       "      <td>42.605</td>\n",
       "      <td>0.743</td>\n",
       "      <td>987.762</td>\n",
       "      <td>0.0785</td>\n",
       "    </tr>\n",
       "    <tr>\n",
       "      <th>2</th>\n",
       "      <td>1668729600</td>\n",
       "      <td>3088</td>\n",
       "      <td>48.795</td>\n",
       "      <td>29.080</td>\n",
       "      <td>990.701</td>\n",
       "      <td>54.4190</td>\n",
       "    </tr>\n",
       "    <tr>\n",
       "      <th>3</th>\n",
       "      <td>1672531200</td>\n",
       "      <td>3088</td>\n",
       "      <td>53.942</td>\n",
       "      <td>42.170</td>\n",
       "      <td>980.359</td>\n",
       "      <td>8.8820</td>\n",
       "    </tr>\n",
       "    <tr>\n",
       "      <th>4</th>\n",
       "      <td>1676764800</td>\n",
       "      <td>3088</td>\n",
       "      <td>50.660</td>\n",
       "      <td>40.259</td>\n",
       "      <td>978.572</td>\n",
       "      <td>7.8060</td>\n",
       "    </tr>\n",
       "    <tr>\n",
       "      <th>...</th>\n",
       "      <td>...</td>\n",
       "      <td>...</td>\n",
       "      <td>...</td>\n",
       "      <td>...</td>\n",
       "      <td>...</td>\n",
       "      <td>...</td>\n",
       "    </tr>\n",
       "    <tr>\n",
       "      <th>208</th>\n",
       "      <td>1677628800</td>\n",
       "      <td>3088</td>\n",
       "      <td>52.806</td>\n",
       "      <td>44.600</td>\n",
       "      <td>977.058</td>\n",
       "      <td>3.9945</td>\n",
       "    </tr>\n",
       "    <tr>\n",
       "      <th>209</th>\n",
       "      <td>1679356800</td>\n",
       "      <td>3088</td>\n",
       "      <td>41.454</td>\n",
       "      <td>42.326</td>\n",
       "      <td>987.113</td>\n",
       "      <td>2.3800</td>\n",
       "    </tr>\n",
       "    <tr>\n",
       "      <th>210</th>\n",
       "      <td>1676592000</td>\n",
       "      <td>3088</td>\n",
       "      <td>38.144</td>\n",
       "      <td>22.964</td>\n",
       "      <td>995.503</td>\n",
       "      <td>0.5600</td>\n",
       "    </tr>\n",
       "    <tr>\n",
       "      <th>211</th>\n",
       "      <td>1679529600</td>\n",
       "      <td>3088</td>\n",
       "      <td>41.673</td>\n",
       "      <td>41.035</td>\n",
       "      <td>988.664</td>\n",
       "      <td>3.2915</td>\n",
       "    </tr>\n",
       "    <tr>\n",
       "      <th>212</th>\n",
       "      <td>1668038400</td>\n",
       "      <td>3088</td>\n",
       "      <td>62.755</td>\n",
       "      <td>67.122</td>\n",
       "      <td>977.428</td>\n",
       "      <td>7.2415</td>\n",
       "    </tr>\n",
       "  </tbody>\n",
       "</table>\n",
       "<p>213 rows × 6 columns</p>\n",
       "</div>"
      ],
      "text/plain": [
       "       humidity  temperature  pressure  pm2.5_cf_1  timestamp  pm2.5_cf_1\n",
       "0    1674864000         3088    40.201      17.581    991.743      0.6330\n",
       "1    1671753600         3088    42.605       0.743    987.762      0.0785\n",
       "2    1668729600         3088    48.795      29.080    990.701     54.4190\n",
       "3    1672531200         3088    53.942      42.170    980.359      8.8820\n",
       "4    1676764800         3088    50.660      40.259    978.572      7.8060\n",
       "..          ...          ...       ...         ...        ...         ...\n",
       "208  1677628800         3088    52.806      44.600    977.058      3.9945\n",
       "209  1679356800         3088    41.454      42.326    987.113      2.3800\n",
       "210  1676592000         3088    38.144      22.964    995.503      0.5600\n",
       "211  1679529600         3088    41.673      41.035    988.664      3.2915\n",
       "212  1668038400         3088    62.755      67.122    977.428      7.2415\n",
       "\n",
       "[213 rows x 6 columns]"
      ]
     },
     "execution_count": 32,
     "metadata": {},
     "output_type": "execute_result"
    }
   ],
   "source": [
    "#DO NOT EDIT - KEEP AS IS FOR NOW\n",
    "# Sensor id\n",
    "\n",
    "sensor_id = sensor_ids[0]\n",
    "\n",
    "# Timestamp String\n",
    "\n",
    "time_string = 'start_timestamp=' + str(start_timestamp) + '&end_timestamp=' + str(end_timestamp)\n",
    "\n",
    "# Average string (in minutes) 1440 is 1 day average\n",
    "\n",
    "avg_string = 'average=1440'\n",
    "\n",
    "# Environmental fields\n",
    "\n",
    "env_fields = ['humidity', 'temperature', 'pressure', 'pm2.5_cf_1']\n",
    "\n",
    "env_fields_string = 'fields=' + '%2C%20'.join(env_fields)\n",
    "\n",
    "# Base URL\n",
    "\n",
    "base_url = f'https://api.purpleair.com/v1/sensors/{sensor_id}/history/csv?'\n",
    "\n",
    "# Put it all together\n",
    "\n",
    "query_url = base_url + '&'.join([time_string, avg_string, env_fields_string])\n",
    "\n",
    "my_headers = {'X-API-Key':api}\n",
    "\n",
    "# This line creates and sends the request and then assigns its response to the\n",
    "# variable, r.\n",
    "r = requests.get(query_url, headers=my_headers)\n",
    "\n",
    "# Read response as CSV data\n",
    "csv_data = r.content.decode('utf-8')\n",
    "\n",
    "# Parse CSV data into pandas DataFrame\n",
    "df_historic = pd.read_csv(io.StringIO(csv_data), header=None)\n",
    "df_historic = df_historic.iloc[1:]  # exclude the header row\n",
    "df_historic.columns = ['timestamp'] + ['sensor_index'] + env_fields\n",
    "df_historic"
   ]
  },
  {
   "cell_type": "markdown",
   "id": "2be99c00",
   "metadata": {},
   "source": [
    "### Creating a 'for' loop to parse through ALL sensor_ids"
   ]
  },
  {
   "cell_type": "markdown",
   "id": "81ccedd9",
   "metadata": {},
   "source": [
    "### Setting Parameters for API"
   ]
  },
  {
   "cell_type": "code",
   "execution_count": 15,
   "id": "f943fdec",
   "metadata": {},
   "outputs": [],
   "source": [
    " # Timestamp String\n",
    "\n",
    "time_string = 'start_timestamp=' + str(start_timestamp) + '&end_timestamp=' + str(end_timestamp)\n",
    "\n",
    "# Average string (in minutes) 1440 is 1 day average\n",
    "\n",
    "avg_string = 'average=1440'\n",
    "\n",
    "# Environmental fields\n",
    "\n",
    "env_fields = ['humidity', 'temperature', 'pressure', 'pm2.5_cf_1']\n",
    "\n",
    "env_fields_string = 'fields=' + '%2C%20'.join(env_fields)\n",
    "\n",
    "# My Header\n",
    "\n",
    "my_headers = {'X-API-Key': api}\n",
    "\n",
    "#Creating an empty dataframe to hold all sensor data\n",
    "\n",
    "cols = ['timestamp'] + ['sensor_index'] + env_fields\n",
    "\n",
    "datatypes = [str, int, float, float, float, float]\n",
    "\n",
    "dtypes = np.dtype(list(zip(cols, datatypes)))\n",
    "\n",
    "df_all_sensors = pd.DataFrame(np.empty(0, dtype = dtypes))"
   ]
  },
  {
   "cell_type": "markdown",
   "id": "d5f0d126",
   "metadata": {},
   "source": [
    "### The For Loop"
   ]
  },
  {
   "cell_type": "code",
   "execution_count": 16,
   "id": "cdbba671",
   "metadata": {},
   "outputs": [
    {
     "data": {
      "text/html": [
       "<div>\n",
       "<style scoped>\n",
       "    .dataframe tbody tr th:only-of-type {\n",
       "        vertical-align: middle;\n",
       "    }\n",
       "\n",
       "    .dataframe tbody tr th {\n",
       "        vertical-align: top;\n",
       "    }\n",
       "\n",
       "    .dataframe thead th {\n",
       "        text-align: right;\n",
       "    }\n",
       "</style>\n",
       "<table border=\"1\" class=\"dataframe\">\n",
       "  <thead>\n",
       "    <tr style=\"text-align: right;\">\n",
       "      <th></th>\n",
       "      <th>timestamp</th>\n",
       "      <th>sensor_index</th>\n",
       "      <th>humidity</th>\n",
       "      <th>temperature</th>\n",
       "      <th>pressure</th>\n",
       "      <th>pm2.5_cf_1</th>\n",
       "    </tr>\n",
       "  </thead>\n",
       "  <tbody>\n",
       "    <tr>\n",
       "      <th>0</th>\n",
       "      <td>1662249600</td>\n",
       "      <td>3088</td>\n",
       "      <td>43.297</td>\n",
       "      <td>74.176</td>\n",
       "      <td>993.320</td>\n",
       "      <td>0.4255</td>\n",
       "    </tr>\n",
       "    <tr>\n",
       "      <th>1</th>\n",
       "      <td>1680220800</td>\n",
       "      <td>3088</td>\n",
       "      <td>61.289</td>\n",
       "      <td>43.874</td>\n",
       "      <td>972.402</td>\n",
       "      <td>6.7030</td>\n",
       "    </tr>\n",
       "    <tr>\n",
       "      <th>2</th>\n",
       "      <td>1681257600</td>\n",
       "      <td>3088</td>\n",
       "      <td>30.396</td>\n",
       "      <td>81.503</td>\n",
       "      <td>976.471</td>\n",
       "      <td>5.7295</td>\n",
       "    </tr>\n",
       "    <tr>\n",
       "      <th>3</th>\n",
       "      <td>1670976000</td>\n",
       "      <td>3088</td>\n",
       "      <td>62.533</td>\n",
       "      <td>43.450</td>\n",
       "      <td>976.015</td>\n",
       "      <td>2.9040</td>\n",
       "    </tr>\n",
       "    <tr>\n",
       "      <th>4</th>\n",
       "      <td>1674950400</td>\n",
       "      <td>3088</td>\n",
       "      <td>34.392</td>\n",
       "      <td>14.193</td>\n",
       "      <td>999.315</td>\n",
       "      <td>0.6595</td>\n",
       "    </tr>\n",
       "    <tr>\n",
       "      <th>...</th>\n",
       "      <td>...</td>\n",
       "      <td>...</td>\n",
       "      <td>...</td>\n",
       "      <td>...</td>\n",
       "      <td>...</td>\n",
       "      <td>...</td>\n",
       "    </tr>\n",
       "    <tr>\n",
       "      <th>16708</th>\n",
       "      <td>1665446400</td>\n",
       "      <td>128195</td>\n",
       "      <td>36.957</td>\n",
       "      <td>70.990</td>\n",
       "      <td>976.219</td>\n",
       "      <td>7.3895</td>\n",
       "    </tr>\n",
       "    <tr>\n",
       "      <th>16709</th>\n",
       "      <td>1667260800</td>\n",
       "      <td>128195</td>\n",
       "      <td>32.001</td>\n",
       "      <td>61.188</td>\n",
       "      <td>981.327</td>\n",
       "      <td>10.2005</td>\n",
       "    </tr>\n",
       "    <tr>\n",
       "      <th>16710</th>\n",
       "      <td>1657411200</td>\n",
       "      <td>128195</td>\n",
       "      <td>47.633</td>\n",
       "      <td>84.253</td>\n",
       "      <td>983.682</td>\n",
       "      <td>4.9420</td>\n",
       "    </tr>\n",
       "    <tr>\n",
       "      <th>16711</th>\n",
       "      <td>1679875200</td>\n",
       "      <td>128195</td>\n",
       "      <td>33.946</td>\n",
       "      <td>40.133</td>\n",
       "      <td>990.732</td>\n",
       "      <td>2.1750</td>\n",
       "    </tr>\n",
       "    <tr>\n",
       "      <th>16712</th>\n",
       "      <td>1660694400</td>\n",
       "      <td>128195</td>\n",
       "      <td>45.879</td>\n",
       "      <td>81.750</td>\n",
       "      <td>988.424</td>\n",
       "      <td>4.6280</td>\n",
       "    </tr>\n",
       "  </tbody>\n",
       "</table>\n",
       "<p>16713 rows × 6 columns</p>\n",
       "</div>"
      ],
      "text/plain": [
       "        timestamp  sensor_index  humidity  temperature  pressure  pm2.5_cf_1\n",
       "0      1662249600          3088    43.297       74.176   993.320      0.4255\n",
       "1      1680220800          3088    61.289       43.874   972.402      6.7030\n",
       "2      1681257600          3088    30.396       81.503   976.471      5.7295\n",
       "3      1670976000          3088    62.533       43.450   976.015      2.9040\n",
       "4      1674950400          3088    34.392       14.193   999.315      0.6595\n",
       "...           ...           ...       ...          ...       ...         ...\n",
       "16708  1665446400        128195    36.957       70.990   976.219      7.3895\n",
       "16709  1667260800        128195    32.001       61.188   981.327     10.2005\n",
       "16710  1657411200        128195    47.633       84.253   983.682      4.9420\n",
       "16711  1679875200        128195    33.946       40.133   990.732      2.1750\n",
       "16712  1660694400        128195    45.879       81.750   988.424      4.6280\n",
       "\n",
       "[16713 rows x 6 columns]"
      ]
     },
     "execution_count": 16,
     "metadata": {},
     "output_type": "execute_result"
    }
   ],
   "source": [
    "for sensor_id in sensor_ids:\n",
    "    # Base URL\n",
    "    base_url = f'https://api.purpleair.com/v1/sensors/{sensor_id}/history/csv?'\n",
    "\n",
    "    # Put it all together\n",
    "    query_url = base_url + '&'.join([time_string, avg_string, env_fields_string])\n",
    "\n",
    "    r = requests.get(query_url, headers=my_headers)\n",
    "\n",
    "    if r.status_code == 200:\n",
    "        \n",
    "        # Read response as CSV data\n",
    "        csv_data = r.content.decode('utf-8')\n",
    "        \n",
    "        if csv_data.count('\\n') == 1: # There is only one line (empty data)\n",
    "            print(f\"No data for sensor {sensor_id}\")\n",
    "        else:\n",
    "\n",
    "            # Parse CSV data into pandas DataFrame\n",
    "            df_individual_sensor = pd.read_csv(io.StringIO(csv_data), header=0, dtype = dtypes)\n",
    "    #         df_individual_sensor = df_individual_sensor.iloc[1:]  # exclude the header row\n",
    "            df_individual_sensor.columns = ['timestamp'] + ['sensor_index'] + env_fields\n",
    "\n",
    "            # Concatenate the individual sensor data with the main DataFrame\n",
    "            df_all_sensors = pd.concat([df_all_sensors, df_individual_sensor], ignore_index=True)\n",
    "    else:\n",
    "        print(f\"Error fetching data for sensor {sensor_id}: {r.status_code}\")\n",
    "\n",
    "# Display the concatenated DataFrame for all sensors\n",
    "df_all_sensors"
   ]
  },
  {
   "cell_type": "markdown",
   "id": "9e0dbf81",
   "metadata": {},
   "source": [
    "## Cleaning Historic Data for Analysis"
   ]
  },
  {
   "cell_type": "code",
   "execution_count": 26,
   "id": "6f92b5b5",
   "metadata": {},
   "outputs": [],
   "source": [
    "#rename pm2.5 column to pm2_5 for SQL\n",
    "df_historic = df_all_sensors.rename(columns={'pm2.5_cf_1' : 'pm2_5'})\n",
    "\n",
    "#changing UNIX date to pd date\n",
    "df_historic['timestamp'] = pd.to_datetime(df_historic['timestamp'], unit='s')\n",
    "df_historic.to_csv('historicAirQuality_4-30.csv', index=False)"
   ]
  },
  {
   "cell_type": "markdown",
   "id": "5c4fdce8-a70c-426c-9d16-5e79ed31d71a",
   "metadata": {},
   "source": [
    "## Finding Most Recent Use Date"
   ]
  },
  {
   "cell_type": "code",
   "execution_count": 23,
   "id": "b7e21e1f-0da6-497d-840a-66a06e6ee60b",
   "metadata": {},
   "outputs": [],
   "source": [
    "most_recent_timestamps = df_historic.groupby('sensor_index')['timestamp'].max()\n",
    "most_recent_use = pd.DataFrame({'sensor_index' : most_recent_timestamps.index,\n",
    "                                'most_recent_timestamp' : most_recent_timestamps.values})\n",
    "most_recent_use.to_csv('most_recent_sensor_history.csv', index=False)"
   ]
  },
  {
   "cell_type": "markdown",
   "id": "b66783b1",
   "metadata": {},
   "source": [
    "## QAQC"
   ]
  },
  {
   "cell_type": "code",
   "execution_count": 20,
   "id": "000bb8ec",
   "metadata": {},
   "outputs": [],
   "source": [
    "#create a blank dataframe to hold the errors\n",
    "\n",
    "purpleair_historic_errors = pd.DataFrame(columns = ['humidity_error', 'temperature_error', 'pressure_error', 'pm2_5_error'])\n",
    "purpleair_historic_errors['sensor_index'] = df_historic['sensor_index']\n",
    "purpleair_historic_errors['timestamp'] = df_historic['timestamp']"
   ]
  },
  {
   "cell_type": "markdown",
   "id": "f9668dc4",
   "metadata": {},
   "source": [
    "### Humidity Check"
   ]
  },
  {
   "cell_type": "code",
   "execution_count": 21,
   "id": "e0b000d1",
   "metadata": {},
   "outputs": [],
   "source": [
    "#ranges pulled from https://www.currentresults.com/Weather/Minnesota/humidity-annual.php\n",
    "#range is actually 40-90 but I was getting tons of errors so I reduced it to 10-90\n",
    "\n",
    "def check_range(value):\n",
    "    if pd.isna(value):\n",
    "        return 'no value given'\n",
    "    elif value >= 10 and value <= 90:\n",
    "        pass\n",
    "    else:\n",
    "        return 'out of range (10%-90%)'\n",
    "\n",
    "# Assuming 'df_historic' is your original dataframe\n",
    "\n",
    "# # Convert 'humidity' column to float\n",
    "# df_historic['humidity'] = pd.to_numeric(df_historic['humidity'], errors='coerce')\n",
    "\n",
    "# Apply 'check_range' function to 'humidity' column and store the result in a new column 'humidity_error'\n",
    "purpleair_historic_errors['humidity_error'] = df_historic['humidity'].apply(check_range)"
   ]
  },
  {
   "cell_type": "markdown",
   "id": "d377ff35",
   "metadata": {},
   "source": [
    "### Temperature Check"
   ]
  },
  {
   "cell_type": "code",
   "execution_count": 22,
   "id": "9ac72954",
   "metadata": {},
   "outputs": [],
   "source": [
    "#winter -4 - 28\n",
    "#spring 22 - 57\n",
    "#summer 48 - 81\n",
    "#fall 29 - 59\n",
    "#ref from https://www.dnr.state.mn.us/climate/summaries_and_publications/normalsportal.html\n",
    "\n",
    "\n",
    "def check_range(value):\n",
    "    if pd.isna(value):\n",
    "        return 'no value given'\n",
    "    elif float(value) >= -20 and float(value) <= 100:\n",
    "        pass\n",
    "    else:\n",
    "        return 'out of range (-20-100F)'\n",
    "\n",
    "'''\n",
    "#if we can get time stamp we should use this with a date check too\n",
    "#this is not correct - we can do seasonal if we can relate it to date range\n",
    "def check_range(value):\n",
    "    if value is None:\n",
    "        return -1\n",
    "    if value >= -20 and value <=35:\n",
    "        return 'winter (-20-35F)'\n",
    "    if value >10 and value <=70:\n",
    "        return 'spring (10-70F)'\n",
    "    if value >30 and value <=100:\n",
    "        return 'summer (30-100F)'\n",
    "    if value >15 and value <=70:\n",
    "        return 'fall (15-70F)'\n",
    "    else:\n",
    "        return 'out of range'\n",
    "'''\n",
    "\n",
    "# Assuming 'df_historic' is your original dataframe\n",
    "\n",
    "# Convert 'temperature' column to float\n",
    "# df_historic['temperature'] = pd.to_numeric(df_historic['temperature'], errors='coerce')\n",
    "\n",
    "# Apply 'check_range' function to 'temperature' column and store the result in a new column 'temperature_error'\n",
    "purpleair_historic_errors['temperature_error'] = df_historic['temperature'].apply(check_range)"
   ]
  },
  {
   "cell_type": "markdown",
   "id": "613f5fec",
   "metadata": {},
   "source": [
    "### Pressure Check"
   ]
  },
  {
   "cell_type": "code",
   "execution_count": 23,
   "id": "138dbf72",
   "metadata": {},
   "outputs": [],
   "source": [
    "# range is 25 - 35 Hg according to https://barometricpressure.app/minneapolis\n",
    "# PurpleAir uses Millibars so I used https://www.weather.gov/epz/wxcalc_pressureconvert to convert\n",
    "# rage is 846.6 - 1185.24\n",
    "\n",
    "def check_range(value):\n",
    "    if pd.isna(value):\n",
    "        return 'no value given'\n",
    "    elif float(value) >= 830 and float(value) <= 1200:\n",
    "        pass\n",
    "    else:\n",
    "        return 'out of range (830 - 1200 Millibars)'\n",
    "\n",
    "# Assuming 'df_historic' is your original dataframe\n",
    "\n",
    "# Convert 'pressure' column to float\n",
    "# df_historic['pressure'] = pd.to_numeric(df_historic['pressure'], errors='coerce')\n",
    "\n",
    "# Apply 'check_range' function to 'pressure' column and store the result in a new column 'pressure_error'\n",
    "purpleair_historic_errors['pressure_error'] = df_historic['pressure'].apply(check_range)"
   ]
  },
  {
   "cell_type": "markdown",
   "id": "96f05cbe",
   "metadata": {},
   "source": [
    "### PM Check"
   ]
  },
  {
   "cell_type": "code",
   "execution_count": 24,
   "id": "a76c17b0",
   "metadata": {},
   "outputs": [],
   "source": [
    "#Average reading in MPLS is 30 ug/m3 per https://www.epa.gov/air-trends/air-quality-cities-and-counties\n",
    "\n",
    "def check_range(value):\n",
    "    if value is None:\n",
    "        return 'no value given'\n",
    "    try:\n",
    "        value = float(value)  # Convert value to float\n",
    "    except ValueError:\n",
    "        return 'invalid value'\n",
    "    \n",
    "    if 0.1 < value < 1000:  # Use numerical comparison on float value\n",
    "        pass\n",
    "    else:\n",
    "        return 'above 1000'\n",
    "\n",
    "\n",
    "#    if value == 0:\n",
    " #       return '0'\n",
    "#    if value >0.1 and value <=10:\n",
    "#        return 'PM2.5 0.1-10'\n",
    "#    if value >10 and value <=20:\n",
    "#        return 'PM2.5 10-20'\n",
    "#    if value >20 and value <=30:\n",
    "#        return 'PM2.5 20-30'\n",
    "#    if value >30 and value <=40:\n",
    "#        return 'PM2.5 30-40'\n",
    "#    if value >40 and value <=50:\n",
    "#        return 'PM2.5 40-50'\n",
    "#    if value >50 and value <=60:\n",
    "#        return 'PM2.5 50-60'\n",
    "#    if value >60 and value <=70:\n",
    "#        return 'PM2.5 60-70'\n",
    "\n",
    "# Convert 'pm2_5' column to float\n",
    "# df_historic['pm2_5'] = pd.to_numeric(df_historic['pm2_5'], errors='coerce')\n",
    "\n",
    "    \n",
    "purpleair_historic_errors['pm2_5_error'] = df_historic['pm2_5'].apply(check_range)"
   ]
  },
  {
   "cell_type": "code",
   "execution_count": 25,
   "id": "13ec5985",
   "metadata": {},
   "outputs": [
    {
     "data": {
      "text/html": [
       "<div>\n",
       "<style scoped>\n",
       "    .dataframe tbody tr th:only-of-type {\n",
       "        vertical-align: middle;\n",
       "    }\n",
       "\n",
       "    .dataframe tbody tr th {\n",
       "        vertical-align: top;\n",
       "    }\n",
       "\n",
       "    .dataframe thead th {\n",
       "        text-align: right;\n",
       "    }\n",
       "</style>\n",
       "<table border=\"1\" class=\"dataframe\">\n",
       "  <thead>\n",
       "    <tr style=\"text-align: right;\">\n",
       "      <th></th>\n",
       "      <th>humidity_error</th>\n",
       "      <th>temperature_error</th>\n",
       "      <th>pressure_error</th>\n",
       "      <th>pm2_5_error</th>\n",
       "      <th>sensor_index</th>\n",
       "      <th>timestamp</th>\n",
       "    </tr>\n",
       "  </thead>\n",
       "  <tbody>\n",
       "    <tr>\n",
       "      <th>4</th>\n",
       "      <td>None</td>\n",
       "      <td>None</td>\n",
       "      <td>None</td>\n",
       "      <td>above 1000</td>\n",
       "      <td>3088</td>\n",
       "      <td>2022-10-17</td>\n",
       "    </tr>\n",
       "    <tr>\n",
       "      <th>46</th>\n",
       "      <td>None</td>\n",
       "      <td>None</td>\n",
       "      <td>None</td>\n",
       "      <td>above 1000</td>\n",
       "      <td>3088</td>\n",
       "      <td>2022-12-23</td>\n",
       "    </tr>\n",
       "    <tr>\n",
       "      <th>61</th>\n",
       "      <td>None</td>\n",
       "      <td>None</td>\n",
       "      <td>None</td>\n",
       "      <td>above 1000</td>\n",
       "      <td>3088</td>\n",
       "      <td>2022-12-24</td>\n",
       "    </tr>\n",
       "    <tr>\n",
       "      <th>177</th>\n",
       "      <td>None</td>\n",
       "      <td>None</td>\n",
       "      <td>None</td>\n",
       "      <td>above 1000</td>\n",
       "      <td>3088</td>\n",
       "      <td>2022-10-18</td>\n",
       "    </tr>\n",
       "    <tr>\n",
       "      <th>207</th>\n",
       "      <td>None</td>\n",
       "      <td>None</td>\n",
       "      <td>None</td>\n",
       "      <td>above 1000</td>\n",
       "      <td>3088</td>\n",
       "      <td>2022-11-12</td>\n",
       "    </tr>\n",
       "    <tr>\n",
       "      <th>...</th>\n",
       "      <td>...</td>\n",
       "      <td>...</td>\n",
       "      <td>...</td>\n",
       "      <td>...</td>\n",
       "      <td>...</td>\n",
       "      <td>...</td>\n",
       "    </tr>\n",
       "    <tr>\n",
       "      <th>12498</th>\n",
       "      <td>None</td>\n",
       "      <td>None</td>\n",
       "      <td>None</td>\n",
       "      <td>above 1000</td>\n",
       "      <td>128195</td>\n",
       "      <td>2022-09-22</td>\n",
       "    </tr>\n",
       "    <tr>\n",
       "      <th>12500</th>\n",
       "      <td>None</td>\n",
       "      <td>None</td>\n",
       "      <td>None</td>\n",
       "      <td>above 1000</td>\n",
       "      <td>128195</td>\n",
       "      <td>2022-11-13</td>\n",
       "    </tr>\n",
       "    <tr>\n",
       "      <th>12503</th>\n",
       "      <td>None</td>\n",
       "      <td>None</td>\n",
       "      <td>None</td>\n",
       "      <td>above 1000</td>\n",
       "      <td>128195</td>\n",
       "      <td>2023-02-10</td>\n",
       "    </tr>\n",
       "    <tr>\n",
       "      <th>12508</th>\n",
       "      <td>None</td>\n",
       "      <td>None</td>\n",
       "      <td>None</td>\n",
       "      <td>above 1000</td>\n",
       "      <td>128195</td>\n",
       "      <td>2023-02-03</td>\n",
       "    </tr>\n",
       "    <tr>\n",
       "      <th>12513</th>\n",
       "      <td>None</td>\n",
       "      <td>None</td>\n",
       "      <td>None</td>\n",
       "      <td>above 1000</td>\n",
       "      <td>128195</td>\n",
       "      <td>2022-09-26</td>\n",
       "    </tr>\n",
       "  </tbody>\n",
       "</table>\n",
       "<p>1009 rows × 6 columns</p>\n",
       "</div>"
      ],
      "text/plain": [
       "      humidity_error temperature_error pressure_error pm2_5_error  \\\n",
       "4               None              None           None  above 1000   \n",
       "46              None              None           None  above 1000   \n",
       "61              None              None           None  above 1000   \n",
       "177             None              None           None  above 1000   \n",
       "207             None              None           None  above 1000   \n",
       "...              ...               ...            ...         ...   \n",
       "12498           None              None           None  above 1000   \n",
       "12500           None              None           None  above 1000   \n",
       "12503           None              None           None  above 1000   \n",
       "12508           None              None           None  above 1000   \n",
       "12513           None              None           None  above 1000   \n",
       "\n",
       "       sensor_index  timestamp  \n",
       "4              3088 2022-10-17  \n",
       "46             3088 2022-12-23  \n",
       "61             3088 2022-12-24  \n",
       "177            3088 2022-10-18  \n",
       "207            3088 2022-11-12  \n",
       "...             ...        ...  \n",
       "12498        128195 2022-09-22  \n",
       "12500        128195 2022-11-13  \n",
       "12503        128195 2023-02-10  \n",
       "12508        128195 2023-02-03  \n",
       "12513        128195 2022-09-26  \n",
       "\n",
       "[1009 rows x 6 columns]"
      ]
     },
     "execution_count": 25,
     "metadata": {},
     "output_type": "execute_result"
    }
   ],
   "source": [
    "# Removing rows from the error table that don't have any errors\n",
    "\n",
    "#This may not be doing what we think it's doing... \n",
    "\n",
    "purpleair_historic_errors = purpleair_historic_errors.dropna(subset=purpleair_historic_errors.columns.difference(['sensor_index', 'timestamp']), how='all')\n",
    "purpleair_historic_errors"
   ]
  },
  {
   "cell_type": "markdown",
   "id": "44e55e48",
   "metadata": {},
   "source": [
    "## Save to Local and Remote Databases"
   ]
  },
  {
   "cell_type": "code",
   "execution_count": 26,
   "id": "c2797c31",
   "metadata": {},
   "outputs": [
    {
     "name": "stderr",
     "output_type": "stream",
     "text": [
      "<ipython-input-26-039595eaf058>:16: FutureWarning: fromrecords expected a list of tuples, may have received a list of lists instead. In the future that will raise an error\n",
      "  array_for_gdb = numpy.rec.fromrecords(vals, names = cols_for_gdb, dtype=dtypes)\n"
     ]
    }
   ],
   "source": [
    "### Local (Values)\n",
    "\n",
    "table_name = 'purpleair_historic'\n",
    "\n",
    "if table_name in arcpy.ListTables(): # Delete table if it exists\n",
    "    arcpy.management.Delete(table_name)\n",
    "\n",
    "cols_for_gdb = ['sensor_index', 'timestamp', 'humidity', 'temperature', 'pressure', 'pm2_5']\n",
    "\n",
    "vals = df_historic[cols_for_gdb].values\n",
    "\n",
    "dtypes = [('sensor_index', '<U6'), ('timestamp', 'M8[us]'),\n",
    "          ('humidity', '<f8'), ('temperature', '<f8'),\n",
    "          ('pressure', '<f8'), ('pm2_5', '<f8')]\n",
    "\n",
    "array_for_gdb = numpy.rec.fromrecords(vals, names = cols_for_gdb, dtype=dtypes)\n",
    "\n",
    "arcpy.da.NumPyArrayToTable(array_for_gdb, os.path.join(arcpy.env.workspace,table_name))\n",
    "\n",
    "# df_historic.to_csv(os.path.join(save_path, \"purpleair_historic.csv\"), index=False)"
   ]
  },
  {
   "cell_type": "code",
   "execution_count": 32,
   "id": "37b66824",
   "metadata": {},
   "outputs": [
    {
     "name": "stderr",
     "output_type": "stream",
     "text": [
      "<ipython-input-32-ef69d266fc1e>:16: FutureWarning: fromrecords expected a list of tuples, may have received a list of lists instead. In the future that will raise an error\n",
      "  array_for_gdb = numpy.rec.fromrecords(vals, names = cols_for_gdb, dtype=dtypes)\n"
     ]
    }
   ],
   "source": [
    "### Local (Errors)\n",
    "\n",
    "table_name = 'purpleair_historic_errors'\n",
    "\n",
    "if table_name in arcpy.ListTables(): # Delete table if it exists\n",
    "    arcpy.management.Delete(table_name)\n",
    "\n",
    "cols_for_gdb = ['sensor_index', 'timestamp', 'humidity_error', 'temperature_error', 'pressure_error', 'pm2_5_error']\n",
    "\n",
    "vals = purpleair_historic_errors[cols_for_gdb].values\n",
    "\n",
    "dtypes = [('sensor_index', '<U6'), ('timestamp', 'M8[us]'),\n",
    "          ('humidity_error', str), ('temperature_error', str),\n",
    "          ('pressure_error', str), ('pm2_5_error', str)]\n",
    "\n",
    "array_for_gdb = numpy.rec.fromrecords(vals, names = cols_for_gdb, dtype=dtypes)\n",
    "\n",
    "arcpy.da.NumPyArrayToTable(array_for_gdb, os.path.join(arcpy.env.workspace,table_name))"
   ]
  },
  {
   "cell_type": "markdown",
   "id": "11eda7ba",
   "metadata": {},
   "source": [
    "## Connecting to the Server"
   ]
  },
  {
   "cell_type": "code",
   "execution_count": 11,
   "id": "03feb09e",
   "metadata": {},
   "outputs": [
    {
     "data": {
      "text/plain": [
       "0"
      ]
     },
     "execution_count": 11,
     "metadata": {},
     "output_type": "execute_result"
    }
   ],
   "source": [
    "# Get credentials\n",
    "\n",
    "cred_pth = os.path.join(os.getcwd(), '..', '..', 'database', 'db_credentials.txt')\n",
    "\n",
    "with open(cred_pth, 'r') as f:\n",
    "    \n",
    "    creds = f.readlines()[0].rstrip('\\n').split(', ')\n",
    "    \n",
    "# Connect to PostGIS Database\n",
    "\n",
    "pg_connection_dict = dict(zip(['dbname', 'user', 'password', 'port', 'host'], creds))\n",
    "\n",
    "connection = psycopg2.connect(**pg_connection_dict)"
   ]
  },
  {
   "cell_type": "markdown",
   "id": "1b0510da",
   "metadata": {},
   "source": [
    "## Insert Data into SQL Table"
   ]
  },
  {
   "cell_type": "code",
   "execution_count": 70,
   "id": "e966512d",
   "metadata": {},
   "outputs": [],
   "source": [
    "# connect to the cursor\n",
    "cur = connection.cursor()\n",
    "\n",
    "# iterate over the dataframe and insert each row into the database using a SQL INSERT statement\n",
    "for index, row in df_historic.iterrows():\n",
    "    cur.execute('''\n",
    "    INSERT INTO PURPLEAIR_HISTORIC (sensor_index, timestamp, humidity, temperature, pressure, pm2_5) \n",
    "    VALUES (%s, %s, %s, %s, %s, %s) \n",
    "    ''', (row['sensor_index'], row['timestamp'], row['humidity'], row['temperature'], row['pressure'], row['pm2_5']))\n",
    "    connection.commit()\n",
    "\n",
    "for i, r in purpleair_historic_errors.iterrows():\n",
    "    cur.execute('''\n",
    "    INSERT INTO PURPLEAIR_HISTORIC_ERRORS (sensor_index, timestamp, humidity_error, temperature_error, pressure_error, pm2_5_error) \n",
    "    VALUES (%s, %s, %s, %s, %s, %s) \n",
    "    ''', (r['sensor_index'], r['timestamp'], r['humidity_error'], r['temperature_error'], r['pressure_error'], r['pm2_5_error']))\n",
    "    connection.commit()\n",
    "\n",
    "# commit the changes to the database and close the cursor and connection\n",
    "cur.close()\n",
    "connection.close()"
   ]
  }
 ],
 "metadata": {
  "kernelspec": {
   "display_name": "Python 3 (ipykernel)",
   "language": "python",
   "name": "python3"
  },
  "language_info": {
   "codemirror_mode": {
    "name": "ipython",
    "version": 3
   },
   "file_extension": ".py",
   "mimetype": "text/x-python",
   "name": "python",
   "nbconvert_exporter": "python",
   "pygments_lexer": "ipython3",
   "version": "3.9.16"
  }
 },
 "nbformat": 4,
 "nbformat_minor": 5
}
