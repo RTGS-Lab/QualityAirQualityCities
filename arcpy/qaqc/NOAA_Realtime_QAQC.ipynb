{
 "cells": [
  {
   "cell_type": "markdown",
   "id": "e7a831d3-23df-45ed-ab67-61db1b18472c",
   "metadata": {},
   "source": [
    "# NOAA Real-Time Weather Data"
   ]
  },
  {
   "cell_type": "markdown",
   "id": "206f7352-894d-4131-90d0-f21454ff89da",
   "metadata": {},
   "source": [
    "## Set Up"
   ]
  },
  {
   "cell_type": "markdown",
   "id": "b82ebde2-bb8c-4761-b02a-5446491e5ee4",
   "metadata": {},
   "source": [
    "### Import Packages"
   ]
  },
  {
   "cell_type": "code",
   "execution_count": 1,
   "id": "e245e3cc-3d99-40aa-a771-a5d2a77304f7",
   "metadata": {},
   "outputs": [],
   "source": [
    "### Import Packages\n",
    "\n",
    "# File manipulation\n",
    "\n",
    "import os # For working with Operating System\n",
    "import requests # Accessing the Web\n",
    "import datetime as dt # Working with dates/times\n",
    "import io # Input/Output Bytes objects\n",
    "\n",
    "# Database \n",
    "\n",
    "import psycopg2\n",
    "from psycopg2 import sql\n",
    "\n",
    "# Analysis\n",
    "\n",
    "import numpy as np\n",
    "import arcpy\n",
    "import pandas as pd"
   ]
  },
  {
   "cell_type": "markdown",
   "id": "5bf593dc-a1fb-48fa-9197-f193b1de6885",
   "metadata": {},
   "source": [
    "## API Pulls"
   ]
  },
  {
   "cell_type": "markdown",
   "id": "e33fa463-9a8c-4057-b9eb-39e4ef9fe320",
   "metadata": {},
   "source": [
    "### Last Year"
   ]
  },
  {
   "cell_type": "code",
   "execution_count": 9,
   "id": "f845da24-be9d-4f7f-aa6f-58ddd8bf7c4e",
   "metadata": {},
   "outputs": [
    {
     "name": "stdout",
     "output_type": "stream",
     "text": [
      "Retrieved 154 observations\n"
     ]
    }
   ],
   "source": [
    "import requests\n",
    "\n",
    "# Define the URL for the API endpoint\n",
    "url = \"https://api.weather.gov/stations/{station_id}/observations\"\n",
    "\n",
    "# Replace {station_id} with the station ID for Minneapolis-St. Paul International Airport (ICAO code KMSP)\n",
    "station_id = \"KMSP\"\n",
    "\n",
    "# Define the date range for the observations\n",
    "start_date = \"2022-06-15T00:00:00Z\"\n",
    "end_date = \"2023-04-29T23:59:59Z\"\n",
    "\n",
    "# Define the headers for the request\n",
    "headers = {\"Accept\": \"application/json\"}\n",
    "\n",
    "# Define the query parameters for the request\n",
    "params = {\"start\": start_date, \"end\": end_date}\n",
    "\n",
    "# Send the request and get the response\n",
    "response = requests.get(url.format(station_id=station_id), headers=headers, params=params)\n",
    "\n",
    "# Check if the request was successful\n",
    "if response.status_code == 200:\n",
    "    # Extract the JSON data from the response\n",
    "    data = response.json()\n",
    "\n",
    "    # Print the number of observations retrieved\n",
    "    print(\"Retrieved {} observations\".format(len(data[\"features\"])))\n",
    "else:\n",
    "    print(\"Request failed with status code {}\".format(response.status_code))\n",
    "    print(\"Error message: {}\".format(response.text))"
   ]
  },
  {
   "cell_type": "markdown",
   "id": "ac8b3f7b-33ef-494b-b6d4-d0d0e739fc15",
   "metadata": {},
   "source": [
    "### Current"
   ]
  },
  {
   "cell_type": "code",
   "execution_count": 4,
   "id": "b350cf9c-7c7b-438c-91a6-569d58bbe6bb",
   "metadata": {},
   "outputs": [
    {
     "name": "stdout",
     "output_type": "stream",
     "text": [
      "{\"temperature\": 8.9, \"humidity\": 53.653768310944, \"wind_speed\": null, \"wind_direction\": null}\n"
     ]
    }
   ],
   "source": [
    "import requests\n",
    "import json\n",
    "\n",
    "# Define the URL for the API endpoint\n",
    "url = \"https://api.weather.gov/stations/{station_id}/observations/latest\"\n",
    "\n",
    "# Replace {station_id} with the ID of the station you want to get the data for\n",
    "station_id = \"KMSP\"\n",
    "\n",
    "# Define the headers for the request\n",
    "headers = {\"Accept\": \"application/geo+json\"}\n",
    "\n",
    "# Send the request and get the response\n",
    "response = requests.get(url.format(station_id=station_id), headers=headers)\n",
    "\n",
    "# Check if the request was successful\n",
    "if response.status_code == 200:\n",
    "    # Extract the JSON data from the response\n",
    "    data = response.json()\n",
    "\n",
    "    # Extract the weather information from the data\n",
    "    temperature = data[\"properties\"][\"temperature\"][\"value\"]\n",
    "    humidity = data[\"properties\"][\"relativeHumidity\"][\"value\"]\n",
    "    wind_speed = data[\"properties\"][\"windSpeed\"][\"value\"]\n",
    "    wind_direction = data[\"properties\"][\"windDirection\"][\"value\"]\n",
    "\n",
    "    # Create a dictionary to store the weather information\n",
    "    weather_data = {\n",
    "        \"temperature\": temperature,\n",
    "        \"humidity\": humidity,\n",
    "        \"wind_speed\": wind_speed,\n",
    "        \"wind_direction\": wind_direction\n",
    "    }\n",
    "\n",
    "    # Convert the dictionary to a JSON object\n",
    "    json_data = json.dumps(weather_data)\n",
    "\n",
    "    # Print the JSON object to the console\n",
    "    print(json_data)\n",
    "else:\n",
    "    print(\"Request failed with status code {}\".format(response.status_code))"
   ]
  },
  {
   "cell_type": "markdown",
   "id": "7c667df1-8744-4fd6-8a9e-eb5b92c1b6d4",
   "metadata": {},
   "source": [
    "### Forecast"
   ]
  },
  {
   "cell_type": "code",
   "execution_count": 7,
   "id": "c942e394-2a19-4012-ab05-e6af590be8b8",
   "metadata": {},
   "outputs": [
    {
     "name": "stdout",
     "output_type": "stream",
     "text": [
      "Request failed with status code 404\n",
      "Error message: {\n",
      "    \"correlationId\": \"1ddc006a\",\n",
      "    \"title\": \"Not Found\",\n",
      "    \"type\": \"https://api.weather.gov/problems/NotFound\",\n",
      "    \"status\": 404,\n",
      "    \"detail\": \"'/points/44.9778,-93.265/forecast/' is not a valid resource path\",\n",
      "    \"instance\": \"https://api.weather.gov/requests/1ddc006a\"\n",
      "}\n"
     ]
    }
   ],
   "source": [
    "import requests\n",
    "\n",
    "# Define the URL for the API endpoint\n",
    "url = \"https://api.weather.gov/points/{lat},{lon}/forecast/\"\n",
    "\n",
    "# Replace {lat} and {lon} with the latitude and longitude of Minneapolis, MN\n",
    "lat = 44.9778\n",
    "lon = -93.2650\n",
    "\n",
    "# Define the headers for the request\n",
    "headers = {\"Accept\": \"application/json\"}\n",
    "\n",
    "# Send the request and get the response\n",
    "response = requests.get(url.format(lat=lat, lon=lon), headers=headers)\n",
    "\n",
    "# Check if the request was successful\n",
    "if response.status_code == 200:\n",
    "    # Extract the JSON data from the response\n",
    "    data = response.json()\n",
    "\n",
    "    # Extract the forecast information from the data\n",
    "    forecast = data[\"properties\"][\"periods\"][0]\n",
    "\n",
    "    # Print the forecast as a JSON object\n",
    "    print(forecast)\n",
    "else:\n",
    "    print(\"Request failed with status code {}\".format(response.status_code))\n",
    "    print(\"Error message: {}\".format(response.text))\n"
   ]
  }
 ],
 "metadata": {
  "kernelspec": {
   "display_name": "Python 3 (ipykernel)",
   "language": "python",
   "name": "python3"
  },
  "language_info": {
   "codemirror_mode": {
    "name": "ipython",
    "version": 3
   },
   "file_extension": ".py",
   "mimetype": "text/x-python",
   "name": "python",
   "nbconvert_exporter": "python",
   "pygments_lexer": "ipython3",
   "version": "3.9.16"
  }
 },
 "nbformat": 4,
 "nbformat_minor": 5
}
