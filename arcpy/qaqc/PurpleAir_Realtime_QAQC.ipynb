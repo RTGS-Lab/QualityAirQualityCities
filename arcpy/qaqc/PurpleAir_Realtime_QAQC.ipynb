{
 "cells": [
  {
   "cell_type": "markdown",
   "metadata": {},
   "source": [
    "# PurpleAir Real-Time QAQC"
   ]
  },
  {
   "cell_type": "markdown",
   "metadata": {},
   "source": [
    "## Import Packages"
   ]
  },
  {
   "cell_type": "code",
   "execution_count": 34,
   "metadata": {},
   "outputs": [],
   "source": [
    "import os\n",
    "import requests \n",
    "import pandas as pd\n",
    "import arcpy\n",
    "import numpy as np"
   ]
  },
  {
   "cell_type": "markdown",
   "metadata": {},
   "source": [
    "## Set Working Environment"
   ]
  },
  {
   "cell_type": "code",
   "execution_count": 35,
   "metadata": {},
   "outputs": [],
   "source": [
    "cwd = os.getcwd() # This is a global variable for where the notebook is (must change if running in arcpro)\n",
    "\n",
    "# Make it workspace\n",
    "\n",
    "arcpy.env.workspace = os.path.join(cwd, '..', '..', 'data', 'QAQC.gdb')\n",
    "\n",
    "arcpy.env.overwriteOutput = True # Overwrite layers is okay"
   ]
  },
  {
   "cell_type": "markdown",
   "metadata": {},
   "source": [
    "## Set Bounds for PurpleAir Parameters"
   ]
  },
  {
   "cell_type": "code",
   "execution_count": 36,
   "metadata": {},
   "outputs": [
    {
     "data": {
      "text/html": [
       "<div class='gpresult'><h2>Messages</h2><div id='messages' data-messages='[\"Start Time: Monday, April 3, 2023 4:58:43 PM\",\"Succeeded at Monday, April 3, 2023 4:58:44 PM (Elapsed Time: 0.82 seconds)\"]' data-show='true'><div id = 'default' /></div></div>"
      ],
      "text/plain": [
       "<Result 'C:\\\\Users\\\\tande\\\\Documents\\\\GitHub\\\\QualityAirQualityCities\\\\arcpy\\\\qaqc\\\\..\\\\..\\\\data\\\\QAQC.gdb\\\\mpls_8km_Project'>"
      ]
     },
     "execution_count": 36,
     "metadata": {},
     "output_type": "execute_result"
    }
   ],
   "source": [
    "#Changing the projection from UMT 15 to NAD 84\n",
    "arcpy.management.Project(\"mpls_8km\", \"mpls_8km_Project\", 'GEOGCS[\"GCS_WGS_1984\",DATUM[\"D_WGS_1984\",SPHEROID[\"WGS_1984\",6378137.0,298.257223563]],PRIMEM[\"Greenwich\",0.0],UNIT[\"Degree\",0.0174532925199433]]', \"WGS_1984_(ITRF00)_To_NAD_1983\", 'PROJCS[\"NAD_1983_UTM_Zone_15N\",GEOGCS[\"GCS_North_American_1983\",DATUM[\"D_North_American_1983\",SPHEROID[\"GRS_1980\",6378137.0,298.257222101]],PRIMEM[\"Greenwich\",0.0],UNIT[\"Degree\",0.0174532925199433]],PROJECTION[\"Transverse_Mercator\"],PARAMETER[\"False_Easting\",500000.0],PARAMETER[\"False_Northing\",0.0],PARAMETER[\"Central_Meridian\",-93.0],PARAMETER[\"Scale_Factor\",0.9996],PARAMETER[\"Latitude_Of_Origin\",0.0],UNIT[\"Meter\",1.0]]', \"NO_PRESERVE_SHAPE\", None, \"NO_VERTICAL\")"
   ]
  },
  {
   "cell_type": "code",
   "execution_count": 37,
   "metadata": {},
   "outputs": [
    {
     "data": {
      "text/html": [
       "<div class='gpresult'><h2>Messages</h2><div id='messages' data-messages='[\"Start Time: Monday, April 3, 2023 4:58:46 PM\",\"Succeeded at Monday, April 3, 2023 4:58:46 PM (Elapsed Time: 0.43 seconds)\"]' data-show='true'><div id = 'default' /></div></div>"
      ],
      "text/plain": [
       "<Result 'C:\\\\Users\\\\tande\\\\Documents\\\\GitHub\\\\QualityAirQualityCities\\\\arcpy\\\\qaqc\\\\..\\\\..\\\\data\\\\QAQC.gdb\\\\mpls_8km_Proje_MinimumBoundi'>"
      ]
     },
     "execution_count": 37,
     "metadata": {},
     "output_type": "execute_result"
    }
   ],
   "source": [
    "#Create bounding box\n",
    "arcpy.management.MinimumBoundingGeometry(\"mpls_8km_Project\", \"mpls_8km_Proje_MinimumBoundi\", \"RECTANGLE_BY_AREA\")"
   ]
  },
  {
   "cell_type": "code",
   "execution_count": 38,
   "metadata": {},
   "outputs": [],
   "source": [
    "#Setting lat/long for PurpleAir API Parameters\n",
    "nwlng = arcpy.Describe(\"mpls_8km_Proje_MinimumBoundi\").extent.XMin\n",
    "nwlat = arcpy.Describe(\"mpls_8km_Proje_MinimumBoundi\").extent.YMax\n",
    "selng = arcpy.Describe(\"mpls_8km_Proje_MinimumBoundi\").extent.XMax\n",
    "selat = arcpy.Describe(\"mpls_8km_Proje_MinimumBoundi\").extent.YMin"
   ]
  },
  {
   "cell_type": "markdown",
   "metadata": {},
   "source": [
    "## Importing PurpleAir Real-Time Data from PurpleAir API"
   ]
  },
  {
   "cell_type": "code",
   "execution_count": 39,
   "metadata": {},
   "outputs": [],
   "source": [
    "def getSensorsData(query='', api_read_key=''):\n",
    "\n",
    "    # my_url is assigned the URL we are going to send our request to.\n",
    "    url = 'https://api.purpleair.com/v1/sensors?' + query\n",
    "    \n",
    "    print('Here is the full url for the API call:\\n\\n', url)\n",
    "\n",
    "    # my_headers is assigned the context of our request we want to make. In this case\n",
    "    # we will pass through our API read key using the variable created above.\n",
    "    my_headers = {'X-API-Key':api_read_key}\n",
    "\n",
    "    # This line creates and sends the request and then assigns its response to the\n",
    "    # variable, r.\n",
    "    response = requests.get(url, headers=my_headers)\n",
    "\n",
    "    # We then return the response we received.\n",
    "    return response"
   ]
  },
  {
   "cell_type": "code",
   "execution_count": 40,
   "metadata": {},
   "outputs": [
    {
     "name": "stdin",
     "output_type": "stream",
     "text": [
      "Please enter your Purple Air api key 51592903-B445-11ED-B6F4-42010A800007\n"
     ]
    }
   ],
   "source": [
    "#PurpleAir API 'read' key\n",
    "api = input('Please enter your Purple Air api key')\n"
   ]
  },
  {
   "cell_type": "code",
   "execution_count": 41,
   "metadata": {},
   "outputs": [
    {
     "name": "stdout",
     "output_type": "stream",
     "text": [
      "nwlng=-93.43083707299996&nwlat=45.12366876300007&selng=-93.09225748799997&selat=44.81791263300005\n"
     ]
    }
   ],
   "source": [
    "#Set bounding strings for API parameters\n",
    "bounds_strings = [f'nwlng={nwlng}',\n",
    "                  f'nwlat={nwlat}',\n",
    "                  f'selng={selng}',\n",
    "                  f'selat={selat}']\n",
    "\n",
    "bounds_string = '&'.join(bounds_strings)\n",
    "\n",
    "print(bounds_string)"
   ]
  },
  {
   "cell_type": "code",
   "execution_count": 42,
   "metadata": {},
   "outputs": [
    {
     "name": "stdout",
     "output_type": "stream",
     "text": [
      "fields=humidity%2Ctemperature%2Cpressure%2Cpm2.5_cf_1%2Clocation_type\n"
     ]
    }
   ],
   "source": [
    "#Setting parameters for API\n",
    "\n",
    "fields = ['humidity', 'temperature', 'pressure', 'pm2.5_cf_1', 'location_type']\n",
    "\n",
    "\n",
    "fields_string = 'fields=' + '%2C'.join(fields)\n",
    "\n",
    "print(fields_string)"
   ]
  },
  {
   "cell_type": "code",
   "execution_count": 43,
   "metadata": {},
   "outputs": [
    {
     "name": "stdout",
     "output_type": "stream",
     "text": [
      "fields=humidity%2Ctemperature%2Cpressure%2Cpm2.5_cf_1%2Clocation_type&nwlng=-93.43083707299996&nwlat=45.12366876300007&selng=-93.09225748799997&selat=44.81791263300005\n"
     ]
    }
   ],
   "source": [
    "#finalizing query for API function\n",
    "query_string = '&'.join([fields_string, bounds_string])\n",
    "\n",
    "print(query_string)"
   ]
  },
  {
   "cell_type": "code",
   "execution_count": 44,
   "metadata": {},
   "outputs": [
    {
     "name": "stdout",
     "output_type": "stream",
     "text": [
      "Here is the full url for the API call:\n",
      "\n",
      " https://api.purpleair.com/v1/sensors?fields=humidity%2Ctemperature%2Cpressure%2Cpm2.5_cf_1%2Clocation_type&nwlng=-93.43083707299996&nwlat=45.12366876300007&selng=-93.09225748799997&selat=44.81791263300005\n"
     ]
    }
   ],
   "source": [
    "#calling the API\n",
    "response = getSensorsData(query_string, api)"
   ]
  },
  {
   "cell_type": "code",
   "execution_count": 45,
   "metadata": {},
   "outputs": [
    {
     "name": "stdout",
     "output_type": "stream",
     "text": [
      "<class 'pandas.core.frame.DataFrame'>\n",
      "RangeIndex: 88 entries, 0 to 87\n",
      "Data columns (total 7 columns):\n",
      " #   Column         Non-Null Count  Dtype \n",
      "---  ------         --------------  ----- \n",
      " 0   sensor_index   88 non-null     object\n",
      " 1   location_type  88 non-null     object\n",
      " 2   humidity       85 non-null     object\n",
      " 3   temperature    85 non-null     object\n",
      " 4   pressure       84 non-null     object\n",
      " 5   pm2.5_cf_1     88 non-null     object\n",
      " 6   timestamp      88 non-null     int64 \n",
      "dtypes: int64(1), object(6)\n",
      "memory usage: 4.9+ KB\n"
     ]
    }
   ],
   "source": [
    "response_dict = response.json() # Read response as a json (dictionary)\n",
    "timestamp = response_dict['data_time_stamp']\n",
    "col_names = response_dict['fields']\n",
    "data = np.array(response_dict['data'])\n",
    "\n",
    "df_realtime = pd.DataFrame(data, columns = col_names)\n",
    "df_realtime['timestamp'] = timestamp\n",
    "\n",
    "df_realtime.info()"
   ]
  },
  {
   "cell_type": "markdown",
   "metadata": {},
   "source": [
    "## Cleaning PurpleAir Station Data"
   ]
  },
  {
   "cell_type": "code",
   "execution_count": 46,
   "metadata": {},
   "outputs": [
    {
     "data": {
      "text/html": [
       "<div>\n",
       "<style scoped>\n",
       "    .dataframe tbody tr th:only-of-type {\n",
       "        vertical-align: middle;\n",
       "    }\n",
       "\n",
       "    .dataframe tbody tr th {\n",
       "        vertical-align: top;\n",
       "    }\n",
       "\n",
       "    .dataframe thead th {\n",
       "        text-align: right;\n",
       "    }\n",
       "</style>\n",
       "<table border=\"1\" class=\"dataframe\">\n",
       "  <thead>\n",
       "    <tr style=\"text-align: right;\">\n",
       "      <th></th>\n",
       "      <th>sensor_index</th>\n",
       "      <th>location_type</th>\n",
       "      <th>humidity</th>\n",
       "      <th>temperature</th>\n",
       "      <th>pressure</th>\n",
       "      <th>pm2.5_cf_1</th>\n",
       "      <th>timestamp</th>\n",
       "    </tr>\n",
       "  </thead>\n",
       "  <tbody>\n",
       "    <tr>\n",
       "      <th>0</th>\n",
       "      <td>3088</td>\n",
       "      <td>0</td>\n",
       "      <td>37</td>\n",
       "      <td>54</td>\n",
       "      <td>981.19</td>\n",
       "      <td>3.6</td>\n",
       "      <td>1680559083</td>\n",
       "    </tr>\n",
       "    <tr>\n",
       "      <th>1</th>\n",
       "      <td>5582</td>\n",
       "      <td>0</td>\n",
       "      <td>34</td>\n",
       "      <td>53</td>\n",
       "      <td>979.28</td>\n",
       "      <td>4.6</td>\n",
       "      <td>1680559083</td>\n",
       "    </tr>\n",
       "    <tr>\n",
       "      <th>2</th>\n",
       "      <td>137876</td>\n",
       "      <td>1</td>\n",
       "      <td>32</td>\n",
       "      <td>75</td>\n",
       "      <td>979.72</td>\n",
       "      <td>0.5</td>\n",
       "      <td>1680559083</td>\n",
       "    </tr>\n",
       "    <tr>\n",
       "      <th>3</th>\n",
       "      <td>11134</td>\n",
       "      <td>0</td>\n",
       "      <td>0</td>\n",
       "      <td>32</td>\n",
       "      <td>None</td>\n",
       "      <td>6.4</td>\n",
       "      <td>1680559083</td>\n",
       "    </tr>\n",
       "    <tr>\n",
       "      <th>4</th>\n",
       "      <td>142718</td>\n",
       "      <td>0</td>\n",
       "      <td>42</td>\n",
       "      <td>51</td>\n",
       "      <td>981.77</td>\n",
       "      <td>7.8</td>\n",
       "      <td>1680559083</td>\n",
       "    </tr>\n",
       "  </tbody>\n",
       "</table>\n",
       "</div>"
      ],
      "text/plain": [
       "  sensor_index location_type humidity temperature pressure pm2.5_cf_1  \\\n",
       "0         3088             0       37          54   981.19        3.6   \n",
       "1         5582             0       34          53   979.28        4.6   \n",
       "2       137876             1       32          75   979.72        0.5   \n",
       "3        11134             0        0          32     None        6.4   \n",
       "4       142718             0       42          51   981.77        7.8   \n",
       "\n",
       "    timestamp  \n",
       "0  1680559083  \n",
       "1  1680559083  \n",
       "2  1680559083  \n",
       "3  1680559083  \n",
       "4  1680559083  "
      ]
     },
     "execution_count": 46,
     "metadata": {},
     "output_type": "execute_result"
    }
   ],
   "source": [
    "#visualizing API response\n",
    "df_realtime.head()"
   ]
  },
  {
   "cell_type": "code",
   "execution_count": 47,
   "metadata": {},
   "outputs": [
    {
     "name": "stdout",
     "output_type": "stream",
     "text": [
      "<class 'pandas.core.frame.DataFrame'>\n",
      "RangeIndex: 88 entries, 0 to 87\n",
      "Data columns (total 7 columns):\n",
      " #   Column         Non-Null Count  Dtype \n",
      "---  ------         --------------  ----- \n",
      " 0   sensor_index   88 non-null     object\n",
      " 1   location_type  88 non-null     object\n",
      " 2   humidity       85 non-null     object\n",
      " 3   temperature    85 non-null     object\n",
      " 4   pressure       84 non-null     object\n",
      " 5   pm2.5_cf_1     88 non-null     object\n",
      " 6   timestamp      88 non-null     int64 \n",
      "dtypes: int64(1), object(6)\n",
      "memory usage: 4.9+ KB\n"
     ]
    }
   ],
   "source": [
    "df_realtime.info()"
   ]
  },
  {
   "cell_type": "markdown",
   "metadata": {},
   "source": [
    "## Removing 'inside' Sensors"
   ]
  },
  {
   "cell_type": "code",
   "execution_count": 48,
   "metadata": {},
   "outputs": [
    {
     "data": {
      "text/plain": [
       "80"
      ]
     },
     "execution_count": 48,
     "metadata": {},
     "output_type": "execute_result"
    }
   ],
   "source": [
    "#find outside sensors\n",
    "df_realtime = df_realtime[df_realtime['location_type'] ==0]\n",
    "len(df_realtime)"
   ]
  },
  {
   "cell_type": "code",
   "execution_count": 49,
   "metadata": {},
   "outputs": [],
   "source": [
    "#drop the location_type now that we have filtered for outdoor sensors only\n",
    "df_realtime = df_realtime.drop('location_type', axis=1)"
   ]
  },
  {
   "cell_type": "code",
   "execution_count": 50,
   "metadata": {},
   "outputs": [],
   "source": [
    "#rename pm2.5 column to pm2_5 for SQL\n",
    "df_realtime = df_realtime.rename(columns={'pm2.5_cf_1' : 'pm2_5'})"
   ]
  },
  {
   "cell_type": "code",
   "execution_count": 51,
   "metadata": {},
   "outputs": [],
   "source": [
    "df_realtime['timestamp'] = pd.to_datetime(df_realtime['timestamp'], unit='s')"
   ]
  },
  {
   "cell_type": "markdown",
   "metadata": {},
   "source": [
    "## Let the QAQC Begin!"
   ]
  },
  {
   "cell_type": "code",
   "execution_count": 52,
   "metadata": {},
   "outputs": [],
   "source": [
    "#create a blank dataframe to hold the errors\n",
    "\n",
    "purpleair_realtime_errors = pd.DataFrame(columns = ['humidity_error', 'temperature_error', 'pressure_error', 'pm2_5_error'])\n",
    "purpleair_realtime_errors['sensor_index'] = df_realtime['sensor_index']\n",
    "purpleair_realtime_errors['timestamp'] = df_realtime['timestamp']"
   ]
  },
  {
   "cell_type": "markdown",
   "metadata": {},
   "source": [
    "### Humidity Check"
   ]
  },
  {
   "cell_type": "code",
   "execution_count": 59,
   "metadata": {},
   "outputs": [
    {
     "name": "stdout",
     "output_type": "stream",
     "text": [
      "            humidity_error temperature_error  \\\n",
      "0                     None              None   \n",
      "1                     None              None   \n",
      "3   out of range (10%-90%)              None   \n",
      "7                     None              None   \n",
      "10                    None              None   \n",
      "13                    None              None   \n",
      "14          no value given    no value given   \n",
      "15                    None              None   \n",
      "18                    None              None   \n",
      "22          no value given    no value given   \n",
      "23                    None              None   \n",
      "25                    None              None   \n",
      "27                    None              None   \n",
      "29                    None              None   \n",
      "31                    None              None   \n",
      "32                    None              None   \n",
      "39                    None              None   \n",
      "53                    None              None   \n",
      "54                    None              None   \n",
      "58                    None              None   \n",
      "59                    None              None   \n",
      "63                    None              None   \n",
      "64  out of range (10%-90%)              None   \n",
      "68                    None              None   \n",
      "69                    None              None   \n",
      "70                    None              None   \n",
      "71                    None              None   \n",
      "73                    None              None   \n",
      "74          no value given    no value given   \n",
      "75                    None              None   \n",
      "76                    None              None   \n",
      "77                    None              None   \n",
      "78                    None              None   \n",
      "81                    None              None   \n",
      "82                    None              None   \n",
      "87                    None              None   \n",
      "\n",
      "                         pressure_error pm2_5_error sensor_index  \\\n",
      "0                                  None        None         3088   \n",
      "1                                  None        None         5582   \n",
      "3                        no value given        None        11134   \n",
      "7                                  None        None       142730   \n",
      "10                                 None        None       142732   \n",
      "13                                 None        None       142750   \n",
      "14                       no value given        None       142748   \n",
      "15  out of range (830 - 1200 Millibars)        None       142752   \n",
      "18                                 None        None       142772   \n",
      "22                       no value given        None       143222   \n",
      "23                                 None        None       143226   \n",
      "25                                 None        None       143238   \n",
      "27                                 None        None       143240   \n",
      "29                                 None        None       143636   \n",
      "31                                 None        None       143656   \n",
      "32                                 None        None       143666   \n",
      "39                                 None        None       145250   \n",
      "53                                 None        None       157747   \n",
      "54                                 None        None       157757   \n",
      "58                                 None        None       157845   \n",
      "59                                 None        None       157861   \n",
      "63                                 None        None       162145   \n",
      "64                                 None        None        31243   \n",
      "68                                 None        None       171919   \n",
      "69                                 None        None        43305   \n",
      "70                                 None        None       174451   \n",
      "71                                 None        None       174855   \n",
      "73                                 None        None        54907   \n",
      "74                       no value given        None        75827   \n",
      "75                                 None        None        77405   \n",
      "76                                 None        None        85113   \n",
      "77                                 None    above 70        98259   \n",
      "78                                 None        None       104760   \n",
      "81                                 None        None       108274   \n",
      "82                                 None        None       108364   \n",
      "87                                 None        None       128195   \n",
      "\n",
      "             timestamp  \n",
      "0  2023-04-03 21:58:03  \n",
      "1  2023-04-03 21:58:03  \n",
      "3  2023-04-03 21:58:03  \n",
      "7  2023-04-03 21:58:03  \n",
      "10 2023-04-03 21:58:03  \n",
      "13 2023-04-03 21:58:03  \n",
      "14 2023-04-03 21:58:03  \n",
      "15 2023-04-03 21:58:03  \n",
      "18 2023-04-03 21:58:03  \n",
      "22 2023-04-03 21:58:03  \n",
      "23 2023-04-03 21:58:03  \n",
      "25 2023-04-03 21:58:03  \n",
      "27 2023-04-03 21:58:03  \n",
      "29 2023-04-03 21:58:03  \n",
      "31 2023-04-03 21:58:03  \n",
      "32 2023-04-03 21:58:03  \n",
      "39 2023-04-03 21:58:03  \n",
      "53 2023-04-03 21:58:03  \n",
      "54 2023-04-03 21:58:03  \n",
      "58 2023-04-03 21:58:03  \n",
      "59 2023-04-03 21:58:03  \n",
      "63 2023-04-03 21:58:03  \n",
      "64 2023-04-03 21:58:03  \n",
      "68 2023-04-03 21:58:03  \n",
      "69 2023-04-03 21:58:03  \n",
      "70 2023-04-03 21:58:03  \n",
      "71 2023-04-03 21:58:03  \n",
      "73 2023-04-03 21:58:03  \n",
      "74 2023-04-03 21:58:03  \n",
      "75 2023-04-03 21:58:03  \n",
      "76 2023-04-03 21:58:03  \n",
      "77 2023-04-03 21:58:03  \n",
      "78 2023-04-03 21:58:03  \n",
      "81 2023-04-03 21:58:03  \n",
      "82 2023-04-03 21:58:03  \n",
      "87 2023-04-03 21:58:03  \n"
     ]
    }
   ],
   "source": [
    "#ranges pulled from https://www.currentresults.com/Weather/Minnesota/humidity-annual.php\n",
    "\n",
    "def check_range(value):\n",
    "    if value is None:\n",
    "        return 'no value given'  # or any other value that indicates a missing value\n",
    "    elif value >= 10 and value <= 90:\n",
    "        pass\n",
    "    else:\n",
    "        return 'out of range (10%-90%)'\n",
    "    \n",
    "purpleair_realtime_errors['humidity_error'] = df_realtime['humidity'].apply(check_range)\n",
    "\n",
    "print(purpleair_realtime_errors)"
   ]
  },
  {
   "cell_type": "markdown",
   "metadata": {},
   "source": [
    "### Temperature Check"
   ]
  },
  {
   "cell_type": "code",
   "execution_count": 60,
   "metadata": {},
   "outputs": [
    {
     "name": "stdout",
     "output_type": "stream",
     "text": [
      "            humidity_error temperature_error  \\\n",
      "0                     None              None   \n",
      "1                     None              None   \n",
      "3   out of range (10%-90%)              None   \n",
      "7                     None              None   \n",
      "10                    None              None   \n",
      "13                    None              None   \n",
      "14          no value given    no value given   \n",
      "15                    None              None   \n",
      "18                    None              None   \n",
      "22          no value given    no value given   \n",
      "23                    None              None   \n",
      "25                    None              None   \n",
      "27                    None              None   \n",
      "29                    None              None   \n",
      "31                    None              None   \n",
      "32                    None              None   \n",
      "39                    None              None   \n",
      "53                    None              None   \n",
      "54                    None              None   \n",
      "58                    None              None   \n",
      "59                    None              None   \n",
      "63                    None              None   \n",
      "64  out of range (10%-90%)              None   \n",
      "68                    None              None   \n",
      "69                    None              None   \n",
      "70                    None              None   \n",
      "71                    None              None   \n",
      "73                    None              None   \n",
      "74          no value given    no value given   \n",
      "75                    None              None   \n",
      "76                    None              None   \n",
      "77                    None              None   \n",
      "78                    None              None   \n",
      "81                    None              None   \n",
      "82                    None              None   \n",
      "87                    None              None   \n",
      "\n",
      "                         pressure_error pm2_5_error sensor_index  \\\n",
      "0                                  None        None         3088   \n",
      "1                                  None        None         5582   \n",
      "3                        no value given        None        11134   \n",
      "7                                  None        None       142730   \n",
      "10                                 None        None       142732   \n",
      "13                                 None        None       142750   \n",
      "14                       no value given        None       142748   \n",
      "15  out of range (830 - 1200 Millibars)        None       142752   \n",
      "18                                 None        None       142772   \n",
      "22                       no value given        None       143222   \n",
      "23                                 None        None       143226   \n",
      "25                                 None        None       143238   \n",
      "27                                 None        None       143240   \n",
      "29                                 None        None       143636   \n",
      "31                                 None        None       143656   \n",
      "32                                 None        None       143666   \n",
      "39                                 None        None       145250   \n",
      "53                                 None        None       157747   \n",
      "54                                 None        None       157757   \n",
      "58                                 None        None       157845   \n",
      "59                                 None        None       157861   \n",
      "63                                 None        None       162145   \n",
      "64                                 None        None        31243   \n",
      "68                                 None        None       171919   \n",
      "69                                 None        None        43305   \n",
      "70                                 None        None       174451   \n",
      "71                                 None        None       174855   \n",
      "73                                 None        None        54907   \n",
      "74                       no value given        None        75827   \n",
      "75                                 None        None        77405   \n",
      "76                                 None        None        85113   \n",
      "77                                 None    above 70        98259   \n",
      "78                                 None        None       104760   \n",
      "81                                 None        None       108274   \n",
      "82                                 None        None       108364   \n",
      "87                                 None        None       128195   \n",
      "\n",
      "             timestamp  \n",
      "0  2023-04-03 21:58:03  \n",
      "1  2023-04-03 21:58:03  \n",
      "3  2023-04-03 21:58:03  \n",
      "7  2023-04-03 21:58:03  \n",
      "10 2023-04-03 21:58:03  \n",
      "13 2023-04-03 21:58:03  \n",
      "14 2023-04-03 21:58:03  \n",
      "15 2023-04-03 21:58:03  \n",
      "18 2023-04-03 21:58:03  \n",
      "22 2023-04-03 21:58:03  \n",
      "23 2023-04-03 21:58:03  \n",
      "25 2023-04-03 21:58:03  \n",
      "27 2023-04-03 21:58:03  \n",
      "29 2023-04-03 21:58:03  \n",
      "31 2023-04-03 21:58:03  \n",
      "32 2023-04-03 21:58:03  \n",
      "39 2023-04-03 21:58:03  \n",
      "53 2023-04-03 21:58:03  \n",
      "54 2023-04-03 21:58:03  \n",
      "58 2023-04-03 21:58:03  \n",
      "59 2023-04-03 21:58:03  \n",
      "63 2023-04-03 21:58:03  \n",
      "64 2023-04-03 21:58:03  \n",
      "68 2023-04-03 21:58:03  \n",
      "69 2023-04-03 21:58:03  \n",
      "70 2023-04-03 21:58:03  \n",
      "71 2023-04-03 21:58:03  \n",
      "73 2023-04-03 21:58:03  \n",
      "74 2023-04-03 21:58:03  \n",
      "75 2023-04-03 21:58:03  \n",
      "76 2023-04-03 21:58:03  \n",
      "77 2023-04-03 21:58:03  \n",
      "78 2023-04-03 21:58:03  \n",
      "81 2023-04-03 21:58:03  \n",
      "82 2023-04-03 21:58:03  \n",
      "87 2023-04-03 21:58:03  \n"
     ]
    }
   ],
   "source": [
    "#winter -4 - 28\n",
    "#spring 22 - 57\n",
    "#summer 48 - 81\n",
    "#fall 29 - 59\n",
    "#ref from https://www.dnr.state.mn.us/climate/summaries_and_publications/normalsportal.html\n",
    "\n",
    "def check_range(value):\n",
    "    if value is None:\n",
    "        return 'no value given'  # or any other value that indicates a missing value\n",
    "    elif value >= -20 and value <= 100:\n",
    "        pass\n",
    "    else:\n",
    "        return 'out of range (-20-100F)'\n",
    "'''\n",
    "#if we can get time stamp we should use this with a date check too\n",
    "def check_range(value):\n",
    "    if value is None:\n",
    "        return -1\n",
    "    if value >= -20 and value <=35:\n",
    "        return 'winter (-20-35F)'\n",
    "    if value >10 and value <=70:\n",
    "        return 'spring (10-70F)'\n",
    "    if value >30 and value <=100:\n",
    "        return 'summer (30-100F)'\n",
    "    if value >15 and value <=70:\n",
    "        return 'fall (15-70F)'\n",
    "    else:\n",
    "        return 'out of range'\n",
    "'''\n",
    "\n",
    "purpleair_realtime_errors['temperature_error'] = df_realtime['temperature'].apply(check_range)\n",
    "\n",
    "print(purpleair_realtime_errors)"
   ]
  },
  {
   "cell_type": "markdown",
   "metadata": {},
   "source": [
    "### Pressure Check"
   ]
  },
  {
   "cell_type": "code",
   "execution_count": 55,
   "metadata": {},
   "outputs": [
    {
     "name": "stdout",
     "output_type": "stream",
     "text": [
      "            humidity_error temperature_error  pressure_error pm2_5_error  \\\n",
      "0   out of range (40%-90%)              None            None         NaN   \n",
      "1   out of range (40%-90%)              None            None         NaN   \n",
      "3   out of range (40%-90%)              None  no value given         NaN   \n",
      "4                     None              None            None         NaN   \n",
      "5                     None              None            None         NaN   \n",
      "..                     ...               ...             ...         ...   \n",
      "83                    None              None            None         NaN   \n",
      "84                    None              None            None         NaN   \n",
      "85                    None              None            None         NaN   \n",
      "86                    None              None            None         NaN   \n",
      "87  out of range (40%-90%)              None            None         NaN   \n",
      "\n",
      "   sensor_index           timestamp  \n",
      "0          3088 2023-04-03 21:58:03  \n",
      "1          5582 2023-04-03 21:58:03  \n",
      "3         11134 2023-04-03 21:58:03  \n",
      "4        142718 2023-04-03 21:58:03  \n",
      "5        142720 2023-04-03 21:58:03  \n",
      "..          ...                 ...  \n",
      "83       108366 2023-04-03 21:58:03  \n",
      "84       113486 2023-04-03 21:58:03  \n",
      "85       116413 2023-04-03 21:58:03  \n",
      "86       126487 2023-04-03 21:58:03  \n",
      "87       128195 2023-04-03 21:58:03  \n",
      "\n",
      "[80 rows x 6 columns]\n"
     ]
    }
   ],
   "source": [
    "# range is 25 - 35 Hg according to https://barometricpressure.app/minneapolis\n",
    "# PurpleAir uses Millibars so I used https://www.weather.gov/epz/wxcalc_pressureconvert to convert\n",
    "# rage is 846.6 - 1185.24\n",
    "\n",
    "def check_range(value):\n",
    "    if value is None:\n",
    "        return 'no value given'  # or any other value that indicates a missing value\n",
    "    elif value >= 830 and value <= 1200:\n",
    "        pass\n",
    "    else:\n",
    "        return 'out of range (830 - 1200 Millibars)'\n",
    "    \n",
    "purpleair_realtime_errors['pressure_error'] = df_realtime['pressure'].apply(check_range)\n",
    "\n",
    "print(purpleair_realtime_errors)"
   ]
  },
  {
   "cell_type": "markdown",
   "metadata": {},
   "source": [
    "### PM Check"
   ]
  },
  {
   "cell_type": "code",
   "execution_count": 56,
   "metadata": {},
   "outputs": [
    {
     "name": "stdout",
     "output_type": "stream",
     "text": [
      "            humidity_error temperature_error  pressure_error pm2_5_error  \\\n",
      "0   out of range (40%-90%)              None            None        None   \n",
      "1   out of range (40%-90%)              None            None        None   \n",
      "3   out of range (40%-90%)              None  no value given        None   \n",
      "4                     None              None            None        None   \n",
      "5                     None              None            None        None   \n",
      "..                     ...               ...             ...         ...   \n",
      "83                    None              None            None        None   \n",
      "84                    None              None            None        None   \n",
      "85                    None              None            None        None   \n",
      "86                    None              None            None        None   \n",
      "87  out of range (40%-90%)              None            None        None   \n",
      "\n",
      "   sensor_index           timestamp  \n",
      "0          3088 2023-04-03 21:58:03  \n",
      "1          5582 2023-04-03 21:58:03  \n",
      "3         11134 2023-04-03 21:58:03  \n",
      "4        142718 2023-04-03 21:58:03  \n",
      "5        142720 2023-04-03 21:58:03  \n",
      "..          ...                 ...  \n",
      "83       108366 2023-04-03 21:58:03  \n",
      "84       113486 2023-04-03 21:58:03  \n",
      "85       116413 2023-04-03 21:58:03  \n",
      "86       126487 2023-04-03 21:58:03  \n",
      "87       128195 2023-04-03 21:58:03  \n",
      "\n",
      "[80 rows x 6 columns]\n"
     ]
    }
   ],
   "source": [
    "#Average reading in MPLS is 30 ug/m3 per https://www.epa.gov/air-trends/air-quality-cities-and-counties\n",
    "\n",
    "def check_range(value):\n",
    "    if value is None:\n",
    "        return 'no value given'\n",
    "#    if value == 0:\n",
    " #       return '0'\n",
    "#    if value >0.1 and value <=10:\n",
    "#        return 'PM2.5 0.1-10'\n",
    "#    if value >10 and value <=20:\n",
    "#        return 'PM2.5 10-20'\n",
    "#    if value >20 and value <=30:\n",
    "#        return 'PM2.5 20-30'\n",
    "#    if value >30 and value <=40:\n",
    "#        return 'PM2.5 30-40'\n",
    "#    if value >40 and value <=50:\n",
    "#        return 'PM2.5 40-50'\n",
    "#    if value >50 and value <=60:\n",
    "#        return 'PM2.5 50-60'\n",
    "#    if value >60 and value <=70:\n",
    "#        return 'PM2.5 60-70'\n",
    "    if value >0.1 and value <70:\n",
    "        pass\n",
    "    else:\n",
    "        return 'above 70'\n",
    "    \n",
    "purpleair_realtime_errors['pm2_5_error'] = df_realtime['pm2_5'].apply(check_range)\n",
    "\n",
    "print(purpleair_realtime_errors)"
   ]
  },
  {
   "cell_type": "code",
   "execution_count": 61,
   "metadata": {},
   "outputs": [
    {
     "data": {
      "text/html": [
       "<div>\n",
       "<style scoped>\n",
       "    .dataframe tbody tr th:only-of-type {\n",
       "        vertical-align: middle;\n",
       "    }\n",
       "\n",
       "    .dataframe tbody tr th {\n",
       "        vertical-align: top;\n",
       "    }\n",
       "\n",
       "    .dataframe thead th {\n",
       "        text-align: right;\n",
       "    }\n",
       "</style>\n",
       "<table border=\"1\" class=\"dataframe\">\n",
       "  <thead>\n",
       "    <tr style=\"text-align: right;\">\n",
       "      <th></th>\n",
       "      <th>humidity_error</th>\n",
       "      <th>temperature_error</th>\n",
       "      <th>pressure_error</th>\n",
       "      <th>pm2_5_error</th>\n",
       "      <th>sensor_index</th>\n",
       "      <th>timestamp</th>\n",
       "    </tr>\n",
       "  </thead>\n",
       "  <tbody>\n",
       "    <tr>\n",
       "      <th>3</th>\n",
       "      <td>out of range (10%-90%)</td>\n",
       "      <td>None</td>\n",
       "      <td>no value given</td>\n",
       "      <td>None</td>\n",
       "      <td>11134</td>\n",
       "      <td>2023-04-03 21:58:03</td>\n",
       "    </tr>\n",
       "    <tr>\n",
       "      <th>14</th>\n",
       "      <td>no value given</td>\n",
       "      <td>no value given</td>\n",
       "      <td>no value given</td>\n",
       "      <td>None</td>\n",
       "      <td>142748</td>\n",
       "      <td>2023-04-03 21:58:03</td>\n",
       "    </tr>\n",
       "    <tr>\n",
       "      <th>15</th>\n",
       "      <td>None</td>\n",
       "      <td>None</td>\n",
       "      <td>out of range (830 - 1200 Millibars)</td>\n",
       "      <td>None</td>\n",
       "      <td>142752</td>\n",
       "      <td>2023-04-03 21:58:03</td>\n",
       "    </tr>\n",
       "    <tr>\n",
       "      <th>22</th>\n",
       "      <td>no value given</td>\n",
       "      <td>no value given</td>\n",
       "      <td>no value given</td>\n",
       "      <td>None</td>\n",
       "      <td>143222</td>\n",
       "      <td>2023-04-03 21:58:03</td>\n",
       "    </tr>\n",
       "    <tr>\n",
       "      <th>64</th>\n",
       "      <td>out of range (10%-90%)</td>\n",
       "      <td>None</td>\n",
       "      <td>None</td>\n",
       "      <td>None</td>\n",
       "      <td>31243</td>\n",
       "      <td>2023-04-03 21:58:03</td>\n",
       "    </tr>\n",
       "    <tr>\n",
       "      <th>74</th>\n",
       "      <td>no value given</td>\n",
       "      <td>no value given</td>\n",
       "      <td>no value given</td>\n",
       "      <td>None</td>\n",
       "      <td>75827</td>\n",
       "      <td>2023-04-03 21:58:03</td>\n",
       "    </tr>\n",
       "    <tr>\n",
       "      <th>77</th>\n",
       "      <td>None</td>\n",
       "      <td>None</td>\n",
       "      <td>None</td>\n",
       "      <td>above 70</td>\n",
       "      <td>98259</td>\n",
       "      <td>2023-04-03 21:58:03</td>\n",
       "    </tr>\n",
       "  </tbody>\n",
       "</table>\n",
       "</div>"
      ],
      "text/plain": [
       "            humidity_error temperature_error  \\\n",
       "3   out of range (10%-90%)              None   \n",
       "14          no value given    no value given   \n",
       "15                    None              None   \n",
       "22          no value given    no value given   \n",
       "64  out of range (10%-90%)              None   \n",
       "74          no value given    no value given   \n",
       "77                    None              None   \n",
       "\n",
       "                         pressure_error pm2_5_error sensor_index  \\\n",
       "3                        no value given        None        11134   \n",
       "14                       no value given        None       142748   \n",
       "15  out of range (830 - 1200 Millibars)        None       142752   \n",
       "22                       no value given        None       143222   \n",
       "64                                 None        None        31243   \n",
       "74                       no value given        None        75827   \n",
       "77                                 None    above 70        98259   \n",
       "\n",
       "             timestamp  \n",
       "3  2023-04-03 21:58:03  \n",
       "14 2023-04-03 21:58:03  \n",
       "15 2023-04-03 21:58:03  \n",
       "22 2023-04-03 21:58:03  \n",
       "64 2023-04-03 21:58:03  \n",
       "74 2023-04-03 21:58:03  \n",
       "77 2023-04-03 21:58:03  "
      ]
     },
     "execution_count": 61,
     "metadata": {},
     "output_type": "execute_result"
    }
   ],
   "source": [
    "purpleair_realtime_errors = purpleair_realtime_errors.dropna(subset=purpleair_realtime_errors.columns.difference(['sensor_index', 'timestamp']), how='all')\n",
    "purpleair_realtime_errors"
   ]
  },
  {
   "cell_type": "markdown",
   "metadata": {},
   "source": [
    "## Connecting to the Server"
   ]
  },
  {
   "cell_type": "code",
   "execution_count": 199,
   "metadata": {},
   "outputs": [],
   "source": [
    "import psycopg2\n",
    "from psycopg2 import sql"
   ]
  },
  {
   "cell_type": "code",
   "execution_count": 200,
   "metadata": {},
   "outputs": [
    {
     "data": {
      "text/plain": [
       "0"
      ]
     },
     "execution_count": 200,
     "metadata": {},
     "output_type": "execute_result"
    }
   ],
   "source": [
    "connection = psycopg2.connect(host = '34.132.44.118',\n",
    "                              database = 'lab1-2',\n",
    "                              user = 'postgres',\n",
    "                              password = 'password',\n",
    "                              port = '5432')\n",
    "connection.closed"
   ]
  },
  {
   "cell_type": "markdown",
   "metadata": {},
   "source": [
    "## Insert Data into SQL Table"
   ]
  },
  {
   "cell_type": "code",
   "execution_count": 201,
   "metadata": {},
   "outputs": [],
   "source": [
    "#connect to the cursor\n",
    "cur = connection.cursor()\n",
    "\n",
    "# iterate over the dataframe and insert each row into the database using a SQL INSERT statement\n",
    "for index, row in df_realtime.iterrows():\n",
    "    cur.execute('''\n",
    "    INSERT INTO PURPLEAIR_REALTIME (sensor_index, timestamp, humidity, temperature, pressure, pm2_5) \n",
    "    VALUES (%s, %s, %s, %s, %s) \n",
    "    ''', (row['sensor_index'], row['timestamp'], row['humidity'], row['temperature'], row['pressure'], row['pm2_5']))\n",
    "    connection.commit()\n",
    "    \n",
    "for i, r in purpleair_realtime_errors.iterrows():\n",
    "    cur.execute('''\n",
    "    INSERT INTO PURPLEAIR_ERRORS (sensor_index, humidity_error, temperature_error, pressure_error, pm2_5_error) \n",
    "    VALUES (%s, %s, %s, %s, %s) \n",
    "    ''', (r['sensor_index'], r['humidity_error'], r['temperature_error'], r['pressure_error'], r['pm2_5_error']))\n",
    "    connection.commit()\n",
    "# commit the changes to the database and close the cursor and connection\n",
    "cur.close()\n",
    "connection.close()\n",
    "#CREATE TABLE PURPLEAIR_REALTIME\n",
    "#CREATE TABLE PURPLEAIR_ERRORS"
   ]
  }
 ],
 "metadata": {
  "kernelspec": {
   "display_name": "Python 3",
   "language": "python",
   "name": "python3"
  },
  "language_info": {
   "codemirror_mode": {
    "name": "ipython",
    "version": 3
   },
   "file_extension": ".py",
   "mimetype": "text/x-python",
   "name": "python",
   "nbconvert_exporter": "python",
   "pygments_lexer": "ipython3",
   "version": "3.9.11"
  }
 },
 "nbformat": 4,
 "nbformat_minor": 4
}
