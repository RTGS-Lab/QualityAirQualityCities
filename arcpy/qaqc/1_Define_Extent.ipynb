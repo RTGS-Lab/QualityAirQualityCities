{
 "cells": [
  {
   "cell_type": "markdown",
   "id": "d806cb0b",
   "metadata": {
    "tags": []
   },
   "source": [
    "# Define Spatial Extent of Project\n",
    "\n",
    "This notebook retrieves Metropolitan Council's 2020 boundaries of the Twin Cities area and extracts the Minneapolis's boundary and buffers 8 kilometers (large emissions were [shown to travel this distance](https://plumepgh.org/model_data.html) if the wind blows right). Both Minneapolis and the Extent are saved in geodatabase.\n",
    "\n",
    "Output Coordinate Reference System: UTM 15N - EPSG:26915\n",
    "\n",
    "Source: https://gisdata.mn.gov/dataset/us-mn-state-metc-bdry-census2020counties-ctus\n",
    "\n",
    "Metadata: https://resources.gisdata.mn.gov/pub/gdrs/data/pub/us_mn_state_metc/bdry_census2020counties_ctus/metadata/metadata.html\n"
   ]
  },
  {
   "cell_type": "code",
   "execution_count": 1,
   "id": "b3bc4b08",
   "metadata": {},
   "outputs": [],
   "source": [
    "### Import Packages\n",
    "\n",
    "# File manipulation\n",
    "\n",
    "import os # For working with Operating System\n",
    "import shutil # For deleting folders\n",
    "import urllib # For accessing websites\n",
    "import zipfile # For extracting from Zipfiles\n",
    "from io import BytesIO # For reading bytes objects\n",
    "\n",
    "# Database \n",
    "\n",
    "import psycopg2\n",
    "\n",
    "# Analysis\n",
    "\n",
    "import arcpy\n",
    "import pandas as pd\n",
    "\n",
    "# Get CWD\n",
    "\n",
    "cwd = os.getcwd() # This is a global variable for where the notebook is (must change if running in arcpro)\n",
    "\n",
    "# Create GeoDataBase\n",
    "\n",
    "arcpy.management.CreateFileGDB(os.path.join(cwd, '..', '..', 'data'), 'QAQC') # This is the communal GeoDataBase, only run once\n",
    "\n",
    "# Make it workspace\n",
    "\n",
    "arcpy.env.workspace = os.path.join(cwd, '..', '..', 'data', 'QAQC.gdb')\n",
    "\n",
    "arcpy.env.overwriteOutput = True # Overwrite layers is okay"
   ]
  },
  {
   "cell_type": "code",
   "execution_count": 2,
   "id": "ccbbbfbb",
   "metadata": {},
   "outputs": [],
   "source": [
    "### Definitions\n",
    "\n",
    "def extract_zip_from_url(url=None, path=None):\n",
    "    '''Extract a zipfile from the internet\n",
    "    then unpack it in to it's own folder \n",
    "    within the working directory.\n",
    "    Takes a single url (string).'''\n",
    "\n",
    "    if not os.path.exists(path):\n",
    "        os.mkdir(path)\n",
    "    # Unload zip into the new folder\n",
    "    response = urllib.request.urlopen(url) # Get a response\n",
    "    zip_folder = zipfile.ZipFile(BytesIO(response.read())) # Read Response\n",
    "    zip_folder.extractall(path=path) # Extract files\n",
    "    zip_folder.close() # Close zip object"
   ]
  },
  {
   "cell_type": "code",
   "execution_count": 3,
   "id": "b415f05e",
   "metadata": {},
   "outputs": [],
   "source": [
    "# Download Data\n",
    "\n",
    "## Twin Cities Metro Boundaries - Downloaded from MN GeospatialCommons gisdata.mn.gov  (~ 5mb)\n",
    "\n",
    "url = \"https://resources.gisdata.mn.gov/pub/gdrs/data/pub/us_mn_state_metc/bdry_census2020counties_ctus/shp_bdry_census2020counties_ctus.zip\"\n",
    "\n",
    "# Create folder name for file\n",
    "folder_name = url.split('/')[-1][:-4]\n",
    "# Make folder for files\n",
    "savepath = os.path.join(cwd, '..','..','data', folder_name)\n",
    "\n",
    "extract_zip_from_url(url, savepath)"
   ]
  },
  {
   "cell_type": "code",
   "execution_count": 4,
   "id": "5cc38687",
   "metadata": {},
   "outputs": [
    {
     "data": {
      "text/html": [
       "<div class='gpresult'><h2>Messages</h2><div id='messages' data-messages='[\"Start Time: Monday, March 27, 2023 5:03:06 PM\",\"Succeeded at Monday, March 27, 2023 5:03:07 PM (Elapsed Time: 1.33 seconds)\"]' data-show='true'><div id = 'default' /></div></div>"
      ],
      "text/plain": [
       "<Result 'C:\\\\Users\\\\HAL\\\\Documents\\\\QualityAirQualityCities\\\\arcpy\\\\qaqc\\\\..\\\\..\\\\data\\\\QAQC.gdb\\\\mpls_boundary'>"
      ]
     },
     "execution_count": 4,
     "metadata": {},
     "output_type": "execute_result"
    }
   ],
   "source": [
    "# Read & Select ( THIS DOESN'T WORK, YET)\n",
    "\n",
    "# Get path\n",
    "\n",
    "filename = 'Census2020CTUs.shp'\n",
    "path = os.path.join(savepath, filename)\n",
    "\n",
    "arcpy.MakeFeatureLayer_management(path, \"TCMA_lyr\")\n",
    "\n",
    "# Select Minneapolis\n",
    "\n",
    "mpls_boundary = arcpy.management.SelectLayerByAttribute(\"TCMA_lyr\", \"SUBSET_SELECTION\",\n",
    "                                                        arcpy.AddFieldDelimiters(datasource='TCMA_lyr', field= 'CTU_NAME') + \"= 'Minneapolis'\")\n",
    "\n",
    "# Write the selected features to a new featureclass\n",
    "arcpy.management.CopyFeatures(mpls_boundary, \"mpls_boundary\")"
   ]
  },
  {
   "cell_type": "code",
   "execution_count": 5,
   "id": "042728b0",
   "metadata": {},
   "outputs": [
    {
     "data": {
      "text/html": [
       "<div class='gpresult'><h2>Messages</h2><div id='messages' data-messages='[\"Start Time: Monday, March 27, 2023 5:03:34 PM\",\"Succeeded at Monday, March 27, 2023 5:03:36 PM (Elapsed Time: 1.73 seconds)\"]' data-show='true'><div id = 'default' /></div></div>"
      ],
      "text/plain": [
       "<Result 'C:\\\\Users\\\\HAL\\\\Documents\\\\QualityAirQualityCities\\\\arcpy\\\\qaqc\\\\..\\\\..\\\\data\\\\QAQC.gdb\\\\mpls_8km'>"
      ]
     },
     "execution_count": 5,
     "metadata": {},
     "output_type": "execute_result"
    }
   ],
   "source": [
    "# Buffer\n",
    "\n",
    "arcpy.analysis.Buffer('mpls_boundary', 'mpls_8km', '8 Kilometers')\n",
    "\n",
    "# # Save as a geojson (Don't need)\n",
    "\n",
    "# arcpy.conversion.FeaturesToJSON(mpls_boundary, 'mpls_boundary.geojson', geoJSON='GEOJSON')"
   ]
  },
  {
   "cell_type": "markdown",
   "id": "50ec4290",
   "metadata": {},
   "source": [
    "## For Database"
   ]
  },
  {
   "cell_type": "code",
   "execution_count": 6,
   "id": "72b0c659",
   "metadata": {},
   "outputs": [],
   "source": [
    "# Preparing for Database Insert\n",
    "\n",
    "# Add column for WKT (STOP HERE)\n",
    "\n",
    "arcpy.management.AddField(mpls_boundary, 'WKT', 'TEXT')\n",
    "arcpy.management.CalculateField(mpls_boundary, 'WKT',\n",
    "                                \"!SHAPE.WKT!\",\n",
    "                                \"PYTHON3\")\n",
    "\n",
    "# Convert to pandas dataframe\n",
    "\n",
    "cols = ['CTU_ID', 'CTU_NAME', 'CTU_CODE', 'WKT']\n",
    "\n",
    "df = pd.DataFrame(arcpy.da.FeatureClassToNumPyArray(mpls_boundary, \n",
    "                                                      cols,\n",
    "                                                      skip_nulls=False, null_value=-99999))"
   ]
  },
  {
   "cell_type": "code",
   "execution_count": 7,
   "id": "6d8a841f",
   "metadata": {},
   "outputs": [
    {
     "data": {
      "text/html": [
       "<div>\n",
       "<style scoped>\n",
       "    .dataframe tbody tr th:only-of-type {\n",
       "        vertical-align: middle;\n",
       "    }\n",
       "\n",
       "    .dataframe tbody tr th {\n",
       "        vertical-align: top;\n",
       "    }\n",
       "\n",
       "    .dataframe thead th {\n",
       "        text-align: right;\n",
       "    }\n",
       "</style>\n",
       "<table border=\"1\" class=\"dataframe\">\n",
       "  <thead>\n",
       "    <tr style=\"text-align: right;\">\n",
       "      <th></th>\n",
       "      <th>CTU_ID</th>\n",
       "      <th>CTU_NAME</th>\n",
       "      <th>CTU_CODE</th>\n",
       "      <th>WKT</th>\n",
       "    </tr>\n",
       "  </thead>\n",
       "  <tbody>\n",
       "    <tr>\n",
       "      <th>0</th>\n",
       "      <td>2395345</td>\n",
       "      <td>Minneapolis</td>\n",
       "      <td>43000</td>\n",
       "      <td>MULTIPOLYGON (((477245.59279999975 4988670.720...</td>\n",
       "    </tr>\n",
       "  </tbody>\n",
       "</table>\n",
       "</div>"
      ],
      "text/plain": [
       "    CTU_ID     CTU_NAME CTU_CODE  \\\n",
       "0  2395345  Minneapolis    43000   \n",
       "\n",
       "                                                 WKT  \n",
       "0  MULTIPOLYGON (((477245.59279999975 4988670.720...  "
      ]
     },
     "execution_count": 7,
     "metadata": {},
     "output_type": "execute_result"
    }
   ],
   "source": [
    "df"
   ]
  },
  {
   "cell_type": "code",
   "execution_count": 9,
   "id": "ffc4e92f",
   "metadata": {},
   "outputs": [
    {
     "ename": "InternalError_",
     "evalue": "parse error - invalid geometry\nHINT:  \"...22 4988690.7349999994, 474840.7542000\" <-- parse error at position 252 within geometry\n",
     "output_type": "error",
     "traceback": [
      "\u001b[1;31m---------------------------------------------------------------------------\u001b[0m",
      "\u001b[1;31mInternalError_\u001b[0m                            Traceback (most recent call last)",
      "\u001b[1;32m<ipython-input-9-a01ccda06c65>\u001b[0m in \u001b[0;36m<module>\u001b[1;34m\u001b[0m\n\u001b[0;32m     21\u001b[0m \u001b[1;32mfor\u001b[0m \u001b[0mi\u001b[0m\u001b[1;33m,\u001b[0m \u001b[0mrow\u001b[0m \u001b[1;32min\u001b[0m \u001b[0mdf\u001b[0m\u001b[1;33m.\u001b[0m\u001b[0miterrows\u001b[0m\u001b[1;33m(\u001b[0m\u001b[1;33m)\u001b[0m\u001b[1;33m:\u001b[0m\u001b[1;33m\u001b[0m\u001b[1;33m\u001b[0m\u001b[0m\n\u001b[0;32m     22\u001b[0m \u001b[1;33m\u001b[0m\u001b[0m\n\u001b[1;32m---> 23\u001b[1;33m     cur.execute(\n\u001b[0m\u001b[0;32m     24\u001b[0m         \u001b[1;34m'INSERT INTO Minneapolis_Boundary(CTU_ID, CTU_NAME, CTU_CODE, geometry)'\u001b[0m\u001b[1;33m\u001b[0m\u001b[1;33m\u001b[0m\u001b[0m\n\u001b[0;32m     25\u001b[0m         \u001b[1;34m'VALUES (%(ctu_id)s, %(ctu_name)s, %(ctu_code)s, ST_Transform(ST_SetSRID(ST_GeomFromText(%(geom)s), 26915),4326)::geometry);'\u001b[0m\u001b[1;33m,\u001b[0m\u001b[1;33m\u001b[0m\u001b[1;33m\u001b[0m\u001b[0m\n",
      "\u001b[1;31mInternalError_\u001b[0m: parse error - invalid geometry\nHINT:  \"...22 4988690.7349999994, 474840.7542000\" <-- parse error at position 252 within geometry\n"
     ]
    }
   ],
   "source": [
    "# Upload to Database\n",
    "\n",
    "# Connect to PostGIS Database\n",
    "\n",
    "pg_connection_dict = {\n",
    "    'dbname': 'MplsCommunityAir',\n",
    "    'user': 'postgres',\n",
    "    'password': 'postgres',\n",
    "    'port': '5432',\n",
    "    'host': '35.232.191.92'\n",
    "}\n",
    "\n",
    "conn = psycopg2.connect(**pg_connection_dict)\n",
    "\n",
    "# Create Cursor for commands\n",
    "\n",
    "cur = conn.cursor()\n",
    "\n",
    "# Insert into table\n",
    "\n",
    "for i, row in df.iterrows():\n",
    "    \n",
    "    cur.execute(\n",
    "        'INSERT INTO Minneapolis_Boundary(CTU_ID, CTU_NAME, CTU_CODE, geometry)'\n",
    "        'VALUES (%(ctu_id)s, %(ctu_name)s, %(ctu_code)s, ST_Transform(ST_SetSRID(ST_GeomFromText(%(geom)s), 26915),4326)::geometry);',\n",
    "        {'ctu_id': row.CTU_ID,\n",
    "         'ctu_name' : row.CTU_NAME,\n",
    "         'ctu_code': row.CTU_CODE,\n",
    "         'geom': row.WKT})\n",
    "\n",
    "    # Commit command\n",
    "\n",
    "    conn.commit()\n",
    "\n",
    "# Close cursor\n",
    "\n",
    "cur.close()\n",
    "\n",
    "# Close connection\n",
    "\n",
    "conn.close()"
   ]
  },
  {
   "cell_type": "code",
   "execution_count": null,
   "id": "64718496",
   "metadata": {},
   "outputs": [],
   "source": []
  }
 ],
 "metadata": {
  "kernelspec": {
   "display_name": "Python 3",
   "language": "python",
   "name": "python3"
  },
  "language_info": {
   "codemirror_mode": {
    "name": "ipython",
    "version": 3
   },
   "file_extension": ".py",
   "mimetype": "text/x-python",
   "name": "python",
   "nbconvert_exporter": "python",
   "pygments_lexer": "ipython3",
   "version": "3.9.11"
  }
 },
 "nbformat": 4,
 "nbformat_minor": 5
}
