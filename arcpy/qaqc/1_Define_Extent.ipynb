{
 "cells": [
  {
   "cell_type": "markdown",
   "id": "931907aa",
   "metadata": {
    "tags": []
   },
   "source": [
    "# Define Spatial Extent of Project\n",
    "\n",
    "This notebook retrieves Metropolitan Council's 2010 boundaries of the Twin Cities area and extracts the Minneapolis's boundary and buffers 26 kilometers (large emissions were [shown to travel this distance](https://plumepgh.org/model_data.html) if the wind blows right). Both Minneapolis and the Extent are saved as a geojson.\n",
    "\n",
    "Output Coordinate Reference System: UTM 15N - EPSG:26915\n",
    "\n",
    "Source: https://gisdata.mn.gov/dataset/us-mn-state-metc-bdry-census2010counties-ctus\n",
    "\n",
    "Metadata: https://resources.gisdata.mn.gov/pub/gdrs/data/pub/us_mn_state_metc/bdry_census2010counties_ctus/metadata/metadata.html\n"
   ]
  },
  {
   "cell_type": "code",
   "execution_count": 1,
   "id": "0e4ceebc",
   "metadata": {},
   "outputs": [],
   "source": [
    "### Import Packages\n",
    "\n",
    "# File manipulation\n",
    "\n",
    "import os # For working with Operating System\n",
    "import shutil # For deleting folders\n",
    "import urllib # For accessing websites\n",
    "import zipfile # For extracting from Zipfiles\n",
    "from io import BytesIO # For reading bytes objects\n",
    "\n",
    "# Database \n",
    "\n",
    "import psycopg2\n",
    "\n",
    "# Analysis\n",
    "\n",
    "import arcpy\n",
    "import pandas as pd\n",
    "\n",
    "# Get CWD\n",
    "\n",
    "cwd = os.getcwd()\n",
    "\n",
    "# Create GeoDataBase\n",
    "\n",
    "arcpy.management.CreateFileGDB(cwd, 'extent_gdb')\n",
    "\n",
    "# Make it workspace\n",
    "\n",
    "arcpy.env.workspace = os.path.join(cwd, 'extent_gdb.gdb')"
   ]
  },
  {
   "cell_type": "code",
   "execution_count": 2,
   "id": "590fc459",
   "metadata": {},
   "outputs": [],
   "source": [
    "### Definitions\n",
    "\n",
    "def extract_zip_from_url(url=None):\n",
    "    '''Extract a zipfile from the internet\n",
    "    then unpack it in to it's own folder \n",
    "    within the working directory.\n",
    "    Takes a single url (string).'''\n",
    "    \n",
    "    if type(url) == str: # Single url\n",
    "        # Create folder name for file\n",
    "        folder_name = url.split('/')[-1][:-4]\n",
    "        # Make folder for files\n",
    "        path = os.path.join(os.getcwd(), folder_name)\n",
    "        if folder_name not in os.listdir():\n",
    "            os.mkdir(path)\n",
    "        # Unload zip into the new folder\n",
    "        response = urllib.request.urlopen(url) # Get a response\n",
    "        zip_folder = zipfile.ZipFile(BytesIO(response.read())) # Read Response\n",
    "        zip_folder.extractall(path=path) # Extract files\n",
    "        zip_folder.close() # Close zip object\n",
    "    else:\n",
    "        print('Error Extracting: Invalid Input')"
   ]
  },
  {
   "cell_type": "code",
   "execution_count": 3,
   "id": "9751ab6d",
   "metadata": {},
   "outputs": [],
   "source": [
    "# Download Data\n",
    "\n",
    "## Twin Cities Metro Boundaries - Downloaded from MN GeospatialCommons gisdata.mn.gov  (~ 5mb)\n",
    "\n",
    "url = \"https://resources.gisdata.mn.gov/pub/gdrs/data/pub/us_mn_state_metc/bdry_census2020counties_ctus/shp_bdry_census2020counties_ctus.zip\"\n",
    "\n",
    "extract_zip_from_url(url)"
   ]
  },
  {
   "cell_type": "code",
   "execution_count": 4,
   "id": "5063b0a4",
   "metadata": {},
   "outputs": [
    {
     "data": {
      "text/plain": [
       "<AxesSubplot:>"
      ]
     },
     "execution_count": 4,
     "metadata": {},
     "output_type": "execute_result"
    },
    {
     "data": {
      "image/png": "[encoded data removed]",
      "text/plain": [
       "<Figure size 432x288 with 1 Axes>"
      ]
     },
     "metadata": {
      "needs_background": "light"
     },
     "output_type": "display_data"
    }
   ],
   "source": [
    "# Read & Select\n",
    "\n",
    "# Get path\n",
    "\n",
    "folder = url.split('/')[-1][:-4] # Get folder name (last part of address minus .zip)\n",
    "filename = 'Census2020CTUs.shp'\n",
    "path = os.path.join(folder, filename)\n",
    "\n",
    "arcpy.MakeFeatureLayer_management(path,\"TCMA_lyr\")\n",
    "\n",
    "mpls_boundary = arcpy.management.SelectLayerByAttribute(\"TCMA_lyr\", \"SUBSET_SELECTION\", \"[CTU_NAME] = Minneapolis\")\n",
    "\n",
    "# Write the selected features to a new featureclass\n",
    "# arcpy.CopyFeatures_management(\"TCMA_lyr\", \"mpls_boundary\")\n",
    "\n",
    "# Save as a geojson\n",
    "\n",
    "arcpy.conversion.FeaturesToJSON(mpls_boundary, 'mpls_boundary.geojson', geoJSON='GEOJSON')\n",
    "\n",
    "# Add column for WKT\n",
    "\n",
    "arcpy.management.AddField(mpls_boundary, 'WKT', 'TEXT')\n",
    "arcpy.management.CalculateField(mpls_boundary, 'WKT',\n",
    "                                \"!SHAPE.WKT!\",\n",
    "                                \"PYTHON3\")\n",
    "\n",
    "# Convert to pandas dataframe\n",
    "\n",
    "cols = ['CTU_ID', 'CTU_NAME', 'CTU_CODE', 'WKT']\n",
    "\n",
    "df = pd.DataFrame(arcpy.da.FeatureClassToNumPyArray(mpls_boundary, \n",
    "                                                      cols,\n",
    "                                                      skip_nulls=False, null_value=-99999))"
   ]
  },
  {
   "cell_type": "code",
   "execution_count": null,
   "id": "d7155c41-5bc8-4293-bfc7-0ab1809186df",
   "metadata": {},
   "outputs": [],
   "source": [
    "# Upload to Database\n",
    "\n",
    "# Connect to PostGIS Database\n",
    "\n",
    "pg_connection_dict = {\n",
    "    'dbname': 'MplsCommunityAir',\n",
    "    'user': 'postgres',\n",
    "    'password': 'postgres',\n",
    "    'port': '5432',\n",
    "    'host': '35.232.191.92'\n",
    "}\n",
    "\n",
    "conn = psycopg2.connect(**pg_connection_dict)\n",
    "\n",
    "# Create Cursor for commands\n",
    "\n",
    "cur = conn.cursor()\n",
    "\n",
    "# Insert into table\n",
    "\n",
    "for i, row in df.iterrows():\n",
    "    \n",
    "    cur.execute(\n",
    "        'INSERT INTO PurpleAir.Minneapolis_Boundary(CTU_ID, CTU_NAME, CTU_CODE, geometry)'\n",
    "        'VALUES (%(ctu_id)s, %(ctu_name)s, %(ctu_code)s, ST_Transform(ST_SetSRID(ST_GeomFromText(%(geom)s), 26915),4326)::geometry);',\n",
    "        {'ctu_id': row.CTU_ID,\n",
    "         'ctu_name' : row.CTU_NAME,\n",
    "         'ctu_code': row.CTU_CODE,\n",
    "         'geom': row.WKT})\n",
    "\n",
    "    # Commit command\n",
    "\n",
    "    conn.commit()\n",
    "\n",
    "# Close cursor\n",
    "\n",
    "cur.close()\n",
    "\n",
    "# Close connection\n",
    "\n",
    "conn.close()"
   ]
  }
 ],
 "metadata": {
  "kernelspec": {
   "display_name": "Python 3 (ipykernel)",
   "language": "python",
   "name": "python3"
  },
  "language_info": {
   "codemirror_mode": {
    "name": "ipython",
    "version": 3
   },
   "file_extension": ".py",
   "mimetype": "text/x-python",
   "name": "python",
   "nbconvert_exporter": "python",
   "pygments_lexer": "ipython3",
   "version": "3.10.8"
  }
 },
 "nbformat": 4,
 "nbformat_minor": 5
}
