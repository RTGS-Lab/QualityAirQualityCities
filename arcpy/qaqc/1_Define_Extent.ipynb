{
 "cells": [
  {
   "cell_type": "markdown",
   "id": "10e83a08",
   "metadata": {
    "tags": []
   },
   "source": [
    "# Define Spatial Extent of Project\n",
    "\n",
    "This notebook retrieves Metropolitan Council's 2020 boundaries of the Twin Cities area and extracts the Minneapolis's boundary and buffers 8 kilometers (large emissions were [shown to travel this distance](https://plumepgh.org/model_data.html) if the wind blows right). Both Minneapolis and the Extent are saved in geodatabase.\n",
    "\n",
    "Output Coordinate Reference System: UTM 15N - EPSG:26915\n",
    "\n",
    "Source: https://gisdata.mn.gov/dataset/us-mn-state-metc-bdry-census2020counties-ctus\n",
    "\n",
    "Metadata: https://resources.gisdata.mn.gov/pub/gdrs/data/pub/us_mn_state_metc/bdry_census2020counties_ctus/metadata/metadata.html\n"
   ]
  },
  {
   "cell_type": "code",
   "execution_count": 1,
   "id": "d5564b30",
   "metadata": {},
   "outputs": [],
   "source": [
    "### Import Packages\n",
    "\n",
    "# File manipulation\n",
    "\n",
    "import os # For working with Operating System\n",
    "import shutil # For deleting folders\n",
    "import urllib # For accessing websites\n",
    "import zipfile # For extracting from Zipfiles\n",
    "from io import BytesIO # For reading bytes objects\n",
    "\n",
    "# Database \n",
    "\n",
    "import psycopg2\n",
    "\n",
    "# Analysis\n",
    "\n",
    "import arcpy\n",
    "import pandas as pd\n",
    "\n",
    "# Get CWD\n",
    "\n",
    "cwd = os.getcwd() # This is a global variable for where the notebook is (must change if running in arcpro)\n",
    "\n",
    "# Create GeoDataBase\n",
    "# This is the communal GeoDataBase, only run once\n",
    "\n",
    "if not os.path.exists(os.path.join(cwd, '..', '..', 'data', 'QAQC.gdb')): # If it doesn't exist, create it\n",
    "\n",
    "    arcpy.management.CreateFileGDB(os.path.join(cwd, '..', '..', 'data'), 'QAQC')\n",
    "\n",
    "# Make it workspace\n",
    "\n",
    "arcpy.env.workspace = os.path.join(cwd, '..', '..', 'data', 'QAQC.gdb')\n",
    "\n",
    "arcpy.env.overwriteOutput = True # Overwrite layers is okay"
   ]
  },
  {
   "cell_type": "code",
   "execution_count": 2,
   "id": "6d98f4a9",
   "metadata": {},
   "outputs": [],
   "source": [
    "### Definitions\n",
    "\n",
    "def extract_zip_from_url(url=None, path=None):\n",
    "    '''Extract a zipfile from the internet\n",
    "    then unpack it in to it's own folder \n",
    "    within the working directory.\n",
    "    Takes a single url (string).'''\n",
    "\n",
    "    if not os.path.exists(path):\n",
    "        os.mkdir(path)\n",
    "    # Unload zip into the new folder\n",
    "    response = urllib.request.urlopen(url) # Get a response\n",
    "    zip_folder = zipfile.ZipFile(BytesIO(response.read())) # Read Response\n",
    "    zip_folder.extractall(path=path) # Extract files\n",
    "    zip_folder.close() # Close zip object"
   ]
  },
  {
   "cell_type": "code",
   "execution_count": 3,
   "id": "5085c27c",
   "metadata": {},
   "outputs": [],
   "source": [
    "# Download Data\n",
    "\n",
    "## Twin Cities Metro Boundaries - Downloaded from MN GeospatialCommons gisdata.mn.gov  (~ 5mb)\n",
    "\n",
    "url = \"https://resources.gisdata.mn.gov/pub/gdrs/data/pub/us_mn_state_metc/bdry_census2020counties_ctus/shp_bdry_census2020counties_ctus.zip\"\n",
    "\n",
    "# Create folder name for file\n",
    "folder_name = url.split('/')[-1][:-4]\n",
    "# Make folder for files\n",
    "savepath = os.path.join(cwd, '..','..','data', folder_name)\n",
    "\n",
    "extract_zip_from_url(url, savepath)"
   ]
  },
  {
   "cell_type": "code",
   "execution_count": 4,
   "id": "d5d012ff",
   "metadata": {},
   "outputs": [
    {
     "data": {
      "text/html": [
       "<div class='gpresult'><h2>Messages</h2><div id='messages' data-messages='[\"Start Time: Monday, April 10, 2023 7:45:25 AM\",\"Succeeded at Monday, April 10, 2023 7:45:26 AM (Elapsed Time: 0.88 seconds)\"]' data-show='true'><div id = 'default' /></div></div>"
      ],
      "text/plain": [
       "<Result 'D:\\\\QualityAirQualityCities\\\\arcpy\\\\qaqc\\\\..\\\\..\\\\data\\\\QAQC.gdb\\\\mpls_boundary'>"
      ]
     },
     "execution_count": 4,
     "metadata": {},
     "output_type": "execute_result"
    }
   ],
   "source": [
    "# Read & Select\n",
    "\n",
    "# Get path\n",
    "\n",
    "filename = 'Census2020CTUs.shp'\n",
    "path = os.path.join(savepath, filename)\n",
    "\n",
    "arcpy.MakeFeatureLayer_management(path, \"TCMA_lyr\")\n",
    "\n",
    "# Select Minneapolis\n",
    "\n",
    "mpls_boundary = arcpy.management.SelectLayerByAttribute(\"TCMA_lyr\", \"SUBSET_SELECTION\",\n",
    "                                                        arcpy.AddFieldDelimiters(datasource='TCMA_lyr', field= 'CTU_NAME') + \"= 'Minneapolis'\")\n",
    "\n",
    "# Write the selected features to a new featureclass\n",
    "arcpy.management.CopyFeatures(mpls_boundary, \"mpls_boundary\")"
   ]
  },
  {
   "cell_type": "code",
   "execution_count": 5,
   "id": "b43daf77",
   "metadata": {},
   "outputs": [
    {
     "data": {
      "text/html": [
       "<div class='gpresult'><h2>Messages</h2><div id='messages' data-messages='[\"Start Time: Monday, April 10, 2023 7:45:35 AM\",\"Succeeded at Monday, April 10, 2023 7:45:36 AM (Elapsed Time: 0.67 seconds)\"]' data-show='true'><div id = 'default' /></div></div>"
      ],
      "text/plain": [
       "<Result 'D:\\\\QualityAirQualityCities\\\\arcpy\\\\qaqc\\\\..\\\\..\\\\data\\\\QAQC.gdb\\\\mpls_8km'>"
      ]
     },
     "execution_count": 5,
     "metadata": {},
     "output_type": "execute_result"
    }
   ],
   "source": [
    "# Buffer\n",
    "\n",
    "arcpy.analysis.Buffer('mpls_boundary', 'mpls_8km', '8 Kilometers')\n",
    "\n",
    "# # Save as a geojson (Don't need)\n",
    "\n",
    "# arcpy.conversion.FeaturesToJSON(mpls_boundary, 'mpls_boundary.geojson', geoJSON='GEOJSON')"
   ]
  },
  {
   "cell_type": "markdown",
   "id": "df67a803",
   "metadata": {},
   "source": [
    "## For Database"
   ]
  },
  {
   "cell_type": "code",
   "execution_count": 8,
   "id": "f3c43589",
   "metadata": {},
   "outputs": [],
   "source": [
    "# Upload to Database\n",
    "\n",
    "# Get credentials\n",
    "\n",
    "cred_pth = os.path.join(os.getcwd(), '..', '..', 'database', 'db_credentials.txt')\n",
    "\n",
    "with open(cred_pth, 'r') as f:\n",
    "    \n",
    "    creds = f.readlines()[0].rstrip('\\n').split(', ')\n",
    "    \n",
    "# Connect to PostGIS Database\n",
    "\n",
    "pg_connection_dict = dict(zip(['dbname', 'user', 'password', 'port', 'host'], creds))\n",
    "\n",
    "conn = psycopg2.connect(**pg_connection_dict)\n",
    "\n",
    "# Create Cursor for commands\n",
    "\n",
    "cur = conn.cursor()\n",
    "\n",
    "# Insert into table\n",
    "\n",
    "cols = ['CTU_ID', 'CTU_NAME', 'CTU_CODE', 'SHAPE@WKT'] # Relative columns\n",
    "\n",
    "cursor = arcpy.da.SearchCursor(mpls_boundary, cols)\n",
    "\n",
    "for row in cursor:\n",
    "    \n",
    "    cur.execute(\n",
    "        'INSERT INTO Minneapolis_Boundary(CTU_ID, CTU_NAME, CTU_CODE, geometry)'\n",
    "        'VALUES (%(ctu_id)s, %(ctu_name)s, %(ctu_code)s, ST_Transform(ST_SetSRID(ST_GeomFromText(%(geom)s), 26915),4326)::geometry);',\n",
    "        {'ctu_id': row[0],\n",
    "         'ctu_name' : row[1],\n",
    "         'ctu_code': row[2],\n",
    "         'geom': row[3]})\n",
    "\n",
    "    # Commit command\n",
    "\n",
    "    conn.commit()\n",
    "\n",
    "# Close cursor\n",
    "\n",
    "cur.close()\n",
    "\n",
    "# Close connection\n",
    "\n",
    "conn.close()"
   ]
  }
 ],
 "metadata": {
  "kernelspec": {
   "display_name": "Python 3",
   "language": "python",
   "name": "python3"
  },
  "language_info": {
   "codemirror_mode": {
    "name": "ipython",
    "version": 3
   },
   "file_extension": ".py",
   "mimetype": "text/x-python",
   "name": "python",
   "nbconvert_exporter": "python",
   "pygments_lexer": "ipython3",
   "version": "3.9.11"
  }
 },
 "nbformat": 4,
 "nbformat_minor": 5
}
