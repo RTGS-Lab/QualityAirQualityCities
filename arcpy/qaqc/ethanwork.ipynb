{
 "cells": [
  {
   "cell_type": "code",
   "execution_count": null,
   "metadata": {},
   "outputs": [],
   "source": [
    "import requests\n",
    "import psycopg2\n",
    "import json\n",
    "\n",
    "# Make a GET request to the URL and parse the response as JSON\n",
    "url = 'https://services.arcgis.com/afSMGVsC7QlRK1kZ/arcgis/rest/services/Planning_Primary_Zoning/FeatureServer/0/query?outFields=ZONE_CODE&where=1%3D1&f=geojson'\n",
    "response = requests.get(url)\n",
    "data = json.loads(response.content)\n",
    "\n",
    "features = data['features']\n",
    "    \n",
    "conn = psycopg2.connect(database=\"lab0\", user=\"postgres\", password=\"Homework13\", host=\"34.27.240.213\")\n",
    "cur = conn.cursor()\n",
    "\n",
    "for feature in features:\n",
    "    zone_code = feature['properties']['ZONE_CODE']\n",
    "    geometry = json.dumps(feature['geometry'])\n",
    "    cur.execute(\"SELECT ST_AsText(ST_GeomFromGeoJSON(%s))\", (geometry,))\n",
    "    wkt_geometry = cur.fetchone()[0]\n",
    "\n",
    "    # Check for null values in zone_code and wkt_geometry\n",
    "    error_code = None\n",
    "    if zone_code is None:\n",
    "        error_code = 'ZoneError'\n",
    "    elif wkt_geometry is None:\n",
    "        error_code = 'GeomError'\n",
    "    \n",
    "    cur.execute(\"INSERT INTO MPLSZoning (zone_code, geometry, error_code) VALUES (%s, %s, %s)\", (zone_code, wkt_geometry, error_code))\n",
    "    conn.commit()\n",
    "\n",
    "cur.close()\n",
    "conn.close()\n"
   ]
  }
 ],
 "metadata": {
  "language_info": {
   "name": "python"
  },
  "orig_nbformat": 4
 },
 "nbformat": 4,
 "nbformat_minor": 2
}
