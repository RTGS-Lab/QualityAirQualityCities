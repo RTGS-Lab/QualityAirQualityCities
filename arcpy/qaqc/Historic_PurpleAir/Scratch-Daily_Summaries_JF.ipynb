{
 "cells": [
  {
   "cell_type": "code",
   "execution_count": 2,
   "id": "9f319216",
   "metadata": {},
   "outputs": [],
   "source": [
    "### Import Packages\n",
    "\n",
    "# File manipulation\n",
    "\n",
    "import os # For working with Operating System\n",
    "import requests # Accessing the Web\n",
    "import datetime as dt # Working with dates/times\n",
    "import io # Input/Output Bytes objects\n",
    "\n",
    "# Analysis\n",
    "\n",
    "import numpy as np\n",
    "import pandas as pd"
   ]
  },
  {
   "cell_type": "markdown",
   "id": "cc473325",
   "metadata": {},
   "source": [
    "## Data"
   ]
  },
  {
   "cell_type": "code",
   "execution_count": 3,
   "id": "be191689-8ba3-4e7b-80d0-5e40381bb8c2",
   "metadata": {},
   "outputs": [],
   "source": [
    "df = pd.read_csv('example_df.csv')"
   ]
  },
  {
   "cell_type": "code",
   "execution_count": 4,
   "id": "64481d31-e7b0-429d-b74b-37421d31be05",
   "metadata": {},
   "outputs": [
    {
     "data": {
      "text/html": [
       "<div>\n",
       "<style scoped>\n",
       "    .dataframe tbody tr th:only-of-type {\n",
       "        vertical-align: middle;\n",
       "    }\n",
       "\n",
       "    .dataframe tbody tr th {\n",
       "        vertical-align: top;\n",
       "    }\n",
       "\n",
       "    .dataframe thead th {\n",
       "        text-align: right;\n",
       "    }\n",
       "</style>\n",
       "<table border=\"1\" class=\"dataframe\">\n",
       "  <thead>\n",
       "    <tr style=\"text-align: right;\">\n",
       "      <th></th>\n",
       "      <th>timestamp</th>\n",
       "      <th>pm25</th>\n",
       "    </tr>\n",
       "  </thead>\n",
       "  <tbody>\n",
       "    <tr>\n",
       "      <th>0</th>\n",
       "      <td>2022-06-15 22:10:00</td>\n",
       "      <td>1.374</td>\n",
       "    </tr>\n",
       "    <tr>\n",
       "      <th>1</th>\n",
       "      <td>2022-06-15 02:50:00</td>\n",
       "      <td>2.326</td>\n",
       "    </tr>\n",
       "    <tr>\n",
       "      <th>2</th>\n",
       "      <td>2022-06-15 06:20:00</td>\n",
       "      <td>1.310</td>\n",
       "    </tr>\n",
       "    <tr>\n",
       "      <th>3</th>\n",
       "      <td>2022-06-15 21:00:00</td>\n",
       "      <td>1.362</td>\n",
       "    </tr>\n",
       "    <tr>\n",
       "      <th>4</th>\n",
       "      <td>2022-06-15 23:40:00</td>\n",
       "      <td>1.853</td>\n",
       "    </tr>\n",
       "    <tr>\n",
       "      <th>...</th>\n",
       "      <td>...</td>\n",
       "      <td>...</td>\n",
       "    </tr>\n",
       "    <tr>\n",
       "      <th>139</th>\n",
       "      <td>2022-06-15 20:20:00</td>\n",
       "      <td>2.952</td>\n",
       "    </tr>\n",
       "    <tr>\n",
       "      <th>140</th>\n",
       "      <td>2022-06-15 19:00:00</td>\n",
       "      <td>3.773</td>\n",
       "    </tr>\n",
       "    <tr>\n",
       "      <th>141</th>\n",
       "      <td>2022-06-15 17:00:00</td>\n",
       "      <td>0.886</td>\n",
       "    </tr>\n",
       "    <tr>\n",
       "      <th>142</th>\n",
       "      <td>2022-06-15 05:00:00</td>\n",
       "      <td>2.331</td>\n",
       "    </tr>\n",
       "    <tr>\n",
       "      <th>143</th>\n",
       "      <td>2022-06-15 04:40:00</td>\n",
       "      <td>2.365</td>\n",
       "    </tr>\n",
       "  </tbody>\n",
       "</table>\n",
       "<p>144 rows × 2 columns</p>\n",
       "</div>"
      ],
      "text/plain": [
       "               timestamp   pm25\n",
       "0    2022-06-15 22:10:00  1.374\n",
       "1    2022-06-15 02:50:00  2.326\n",
       "2    2022-06-15 06:20:00  1.310\n",
       "3    2022-06-15 21:00:00  1.362\n",
       "4    2022-06-15 23:40:00  1.853\n",
       "..                   ...    ...\n",
       "139  2022-06-15 20:20:00  2.952\n",
       "140  2022-06-15 19:00:00  3.773\n",
       "141  2022-06-15 17:00:00  0.886\n",
       "142  2022-06-15 05:00:00  2.331\n",
       "143  2022-06-15 04:40:00  2.365\n",
       "\n",
       "[144 rows x 2 columns]"
      ]
     },
     "execution_count": 4,
     "metadata": {},
     "output_type": "execute_result"
    }
   ],
   "source": [
    "df"
   ]
  },
  {
   "cell_type": "code",
   "execution_count": 21,
   "id": "7cbd3f18",
   "metadata": {},
   "outputs": [],
   "source": [
    "#daily time above 12 ug\n",
    "\n",
    "# AQI 24 hr average index values from https://www.airnow.gov/sites/default/files/2020-05/aqi-technical-assistance-document-sept2018.pdf\n",
    "# 0 - 12 Good\n",
    "# 12.1 - 35.4 Moderate\n",
    "# 35.5 - 55.4 Unhealthy for Sensative Groups\n",
    "# 55.5 - 150.4 Unhealthy\n",
    "# 150.5 - 250.4 Very Unhealthy\n",
    "# 250.5 - 500.4 Hazardous\n",
    "# 500.4 + Beyond the AQI, use Hazardous information\n",
    "\n",
    "def minutes_above_12ug(df):\n",
    "    #convert timestamp to pandas datetime object for comparison\n",
    "    df['timestamp'] = pd.to_datetime(df.timestamp)\n",
    "\n",
    "    # Filter rows where pm25 values are above 12\n",
    "    df_above_12 = df[df['pm25'] > 12]\n",
    "\n",
    "    # Calculate time difference between timestamps\n",
    "    # time_diff = df_above_12['timestamp'].diff()\n",
    "    time_diff = (df_above_12['timestamp'].min() - df_above_12['timestamp'].min())\n",
    "\n",
    "    # Sum up the time differences to get the total time above 12\n",
    "    total_time_above_12 = time_diff.sum()\n",
    "\n",
    "    # Get the total time in minutes\n",
    "    # Calculate total time above 12 in seconds (only way to get total time back, with the .total_seconds attribute) \n",
    "    total_seconds = total_time_above_12.total_seconds()\n",
    "\n",
    "    # Convert total seconds to hours\n",
    " \n",
    "    minutes = int(total_seconds * 0.01666667)\n",
    "    \n",
    "    # Print the result\n",
    "    print(minutes)\n",
    "\n",
    "\n",
    "\n"
   ]
  },
  {
   "cell_type": "code",
   "execution_count": 41,
   "id": "680fbe77",
   "metadata": {},
   "outputs": [
    {
     "data": {
      "text/plain": [
       "50"
      ]
     },
     "execution_count": 41,
     "metadata": {},
     "output_type": "execute_result"
    }
   ],
   "source": [
    "def daily_minutes_above_12ug(df):\n",
    "    #convert timestamp to pandas datetime object for comparison\n",
    "    df['timestamp'] = pd.to_datetime(df.timestamp)\n",
    "\n",
    "    # Filter rows where pm25 values are above 12\n",
    "    df_above_12 = df[df['pm25'] > 5]\n",
    "\n",
    "    # each reading in the new df represents a ten minute average for that time block, so I'll multiply the length of the column by 10 to get the total time in minutes!\n",
    "    mins_above_12ug = len(df_above_12) * 10\n",
    "\n",
    "    return mins_above_12ug \n",
    "\n",
    "\n",
    "# Calculate time difference between timestamps\n",
    "# time_diff = df_above_12['timestamp'].diff()\n",
    "#time_diff = (df_above_12['timestamp'].max() - df_above_12['timestamp'].min())\n",
    "\n",
    "# Sum up the time differences to get the total time above 12\n",
    "#total_time_above_12 = time_diff.sum()\n",
    "\n",
    "# Get the total time in minutes\n",
    "# Calculate total time above 12 in seconds (only way to get total time back, with the .total_seconds attribute) \n",
    "#total_seconds = total_time_above_12.total_seconds()\n",
    "\n",
    "# Convert total seconds to hours\n",
    "\n",
    "#minutes = int(total_seconds * 0.01666667)\n",
    "\n",
    "# Print the result\n",
    "# print(minutes)\n",
    "# print(time_diff)\n"
   ]
  },
  {
   "cell_type": "code",
   "execution_count": 43,
   "id": "548e7017",
   "metadata": {},
   "outputs": [
    {
     "data": {
      "text/plain": [
       "int"
      ]
     },
     "execution_count": 43,
     "metadata": {},
     "output_type": "execute_result"
    }
   ],
   "source": [
    "type(mins_above_12ug)"
   ]
  },
  {
   "cell_type": "code",
   "execution_count": 22,
   "id": "8f4399a6",
   "metadata": {},
   "outputs": [
    {
     "ename": "AttributeError",
     "evalue": "'NaTType' object has no attribute 'sum'",
     "output_type": "error",
     "traceback": [
      "\u001b[1;31m---------------------------------------------------------------------------\u001b[0m",
      "\u001b[1;31mAttributeError\u001b[0m                            Traceback (most recent call last)",
      "\u001b[1;32m<ipython-input-22-762b5ac99cff>\u001b[0m in \u001b[0;36m<module>\u001b[1;34m\u001b[0m\n\u001b[1;32m----> 1\u001b[1;33m \u001b[0mminutes_above_12ug\u001b[0m\u001b[1;33m(\u001b[0m\u001b[0mdf\u001b[0m\u001b[1;33m)\u001b[0m\u001b[1;33m\u001b[0m\u001b[1;33m\u001b[0m\u001b[0m\n\u001b[0m",
      "\u001b[1;32m<ipython-input-21-44f27691233e>\u001b[0m in \u001b[0;36mminutes_above_12ug\u001b[1;34m(df)\u001b[0m\n\u001b[0;32m     22\u001b[0m \u001b[1;33m\u001b[0m\u001b[0m\n\u001b[0;32m     23\u001b[0m     \u001b[1;31m# Sum up the time differences to get the total time above 12\u001b[0m\u001b[1;33m\u001b[0m\u001b[1;33m\u001b[0m\u001b[0m\n\u001b[1;32m---> 24\u001b[1;33m     \u001b[0mtotal_time_above_12\u001b[0m \u001b[1;33m=\u001b[0m \u001b[0mtime_diff\u001b[0m\u001b[1;33m.\u001b[0m\u001b[0msum\u001b[0m\u001b[1;33m(\u001b[0m\u001b[1;33m)\u001b[0m\u001b[1;33m\u001b[0m\u001b[1;33m\u001b[0m\u001b[0m\n\u001b[0m\u001b[0;32m     25\u001b[0m \u001b[1;33m\u001b[0m\u001b[0m\n\u001b[0;32m     26\u001b[0m     \u001b[1;31m# Get the total time in minutes\u001b[0m\u001b[1;33m\u001b[0m\u001b[1;33m\u001b[0m\u001b[0m\n",
      "\u001b[1;31mAttributeError\u001b[0m: 'NaTType' object has no attribute 'sum'"
     ]
    }
   ],
   "source": [
    "minutes_above_12ug(df)"
   ]
  },
  {
   "cell_type": "code",
   "execution_count": 8,
   "id": "0e5462f6",
   "metadata": {},
   "outputs": [
    {
     "ename": "AttributeError",
     "evalue": "'Timedelta' object has no attribute 'as_unit'",
     "output_type": "error",
     "traceback": [
      "\u001b[1;31m---------------------------------------------------------------------------\u001b[0m",
      "\u001b[1;31mAttributeError\u001b[0m                            Traceback (most recent call last)",
      "\u001b[1;32m<ipython-input-8-b521d04e863c>\u001b[0m in \u001b[0;36m<module>\u001b[1;34m\u001b[0m\n\u001b[1;32m----> 1\u001b[1;33m \u001b[0mtotal_time_above_12\u001b[0m\u001b[1;33m.\u001b[0m\u001b[0mas_unit\u001b[0m\u001b[1;33m(\u001b[0m\u001b[1;34m'hr'\u001b[0m\u001b[1;33m)\u001b[0m\u001b[1;33m\u001b[0m\u001b[1;33m\u001b[0m\u001b[0m\n\u001b[0m",
      "\u001b[1;31mAttributeError\u001b[0m: 'Timedelta' object has no attribute 'as_unit'"
     ]
    }
   ],
   "source": [
    "Timedelta.as_unit('hr')"
   ]
  }
 ],
 "metadata": {
  "kernelspec": {
   "display_name": "Python 3",
   "language": "python",
   "name": "python3"
  },
  "language_info": {
   "codemirror_mode": {
    "name": "ipython",
    "version": 3
   },
   "file_extension": ".py",
   "mimetype": "text/x-python",
   "name": "python",
   "nbconvert_exporter": "python",
   "pygments_lexer": "ipython3",
   "version": "3.9.11"
  },
  "vscode": {
   "interpreter": {
    "hash": "8aaf0cbf6ca12b9026f66bc3bca7f21734839ea07af9c2d4802583a78f11ee0f"
   }
  }
 },
 "nbformat": 4,
 "nbformat_minor": 5
}
