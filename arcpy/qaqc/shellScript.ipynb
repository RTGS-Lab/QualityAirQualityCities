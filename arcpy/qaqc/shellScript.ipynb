{
 "cells": [
  {
   "cell_type": "code",
   "execution_count": null,
   "id": "b98ea72f",
   "metadata": {},
   "outputs": [],
   "source": [
    "# Define the notebooks to run\n",
    "notebooks=(\n",
    "    \"1_Define_Extent.ipynb\"\n",
    "    \"zoning.ipynb\"\n",
    "    \"mpls_prplair_elevation_qaqc_v02.ipynb\"\n",
    "    \"PurpleAir_Stations_QAQC\"\n",
    "    \"temperature_qaqc_ethan\"\n",
    "    \n",
    "    \n",
    ")\n",
    "\n",
    "# Loop through each notebook and run it\n",
    "for nb in \"${notebooks[@]}\"\n",
    "do\n",
    "    jupyter nbconvert --execute \"$nb\"\n",
    "done"
   ]
  }
 ],
 "metadata": {
  "kernelspec": {
   "display_name": "Python 3",
   "language": "python",
   "name": "python3"
  },
  "language_info": {
   "codemirror_mode": {
    "name": "ipython",
    "version": 3
   },
   "file_extension": ".py",
   "mimetype": "text/x-python",
   "name": "python",
   "nbconvert_exporter": "python",
   "pygments_lexer": "ipython3",
   "version": "3.9.11"
  }
 },
 "nbformat": 4,
 "nbformat_minor": 5
}
