{
 "cells": [
  {
   "cell_type": "markdown",
   "metadata": {},
   "source": [
    "# PurpleAir Stations QAQC"
   ]
  },
  {
   "cell_type": "markdown",
   "metadata": {},
   "source": [
    "## Import Packages"
   ]
  },
  {
   "cell_type": "code",
   "execution_count": 131,
   "metadata": {},
   "outputs": [],
   "source": [
    "import os\n",
    "import requests \n",
    "import datetime as dt\n",
    "import pandas as pd\n",
    "import arcpy"
   ]
  },
  {
   "cell_type": "markdown",
   "metadata": {},
   "source": [
    "## Set Working Environment"
   ]
  },
  {
   "cell_type": "code",
   "execution_count": 74,
   "metadata": {},
   "outputs": [],
   "source": [
    "cwd = os.getcwd() # This is a global variable for where the notebook is (must change if running in arcpro)\n",
    "\n",
    "# Make it workspace\n",
    "\n",
    "arcpy.env.workspace = os.path.join(cwd, '..', '..', 'data', 'QAQC.gdb')\n",
    "\n",
    "arcpy.env.overwriteOutput = True # Overwrite layers is okay"
   ]
  },
  {
   "cell_type": "markdown",
   "metadata": {},
   "source": [
    "## Set Bounds for PurpleAir Parameters"
   ]
  },
  {
   "cell_type": "code",
   "execution_count": 75,
   "metadata": {},
   "outputs": [
    {
     "data": {
      "text/html": [
       "<div class='gpresult'><h2>Messages</h2><div id='messages' data-messages='[\"Start Time: Thursday, March 30, 2023 5:24:13 PM\",\"Succeeded at Thursday, March 30, 2023 5:24:14 PM (Elapsed Time: 0.75 seconds)\"]' data-show='true'><div id = 'default' /></div></div>"
      ],
      "text/plain": [
       "<Result 'C:\\\\Users\\\\tande\\\\Documents\\\\GitHub\\\\QualityAirQualityCities\\\\arcpy\\\\qaqc\\\\..\\\\..\\\\data\\\\QAQC.gdb\\\\mpls_8km_Project'>"
      ]
     },
     "execution_count": 75,
     "metadata": {},
     "output_type": "execute_result"
    }
   ],
   "source": [
    "#Changing the projection from UMT 15 to NAD 84\n",
    "arcpy.management.Project(\"mpls_8km\", \"mpls_8km_Project\", 'GEOGCS[\"GCS_WGS_1984\",DATUM[\"D_WGS_1984\",SPHEROID[\"WGS_1984\",6378137.0,298.257223563]],PRIMEM[\"Greenwich\",0.0],UNIT[\"Degree\",0.0174532925199433]]', \"WGS_1984_(ITRF00)_To_NAD_1983\", 'PROJCS[\"NAD_1983_UTM_Zone_15N\",GEOGCS[\"GCS_North_American_1983\",DATUM[\"D_North_American_1983\",SPHEROID[\"GRS_1980\",6378137.0,298.257222101]],PRIMEM[\"Greenwich\",0.0],UNIT[\"Degree\",0.0174532925199433]],PROJECTION[\"Transverse_Mercator\"],PARAMETER[\"False_Easting\",500000.0],PARAMETER[\"False_Northing\",0.0],PARAMETER[\"Central_Meridian\",-93.0],PARAMETER[\"Scale_Factor\",0.9996],PARAMETER[\"Latitude_Of_Origin\",0.0],UNIT[\"Meter\",1.0]]', \"NO_PRESERVE_SHAPE\", None, \"NO_VERTICAL\")"
   ]
  },
  {
   "cell_type": "code",
   "execution_count": 76,
   "metadata": {},
   "outputs": [
    {
     "data": {
      "text/html": [
       "<div class='gpresult'><h2>Messages</h2><div id='messages' data-messages='[\"Start Time: Thursday, March 30, 2023 5:24:15 PM\",\"Succeeded at Thursday, March 30, 2023 5:24:16 PM (Elapsed Time: 0.45 seconds)\"]' data-show='true'><div id = 'default' /></div></div>"
      ],
      "text/plain": [
       "<Result 'C:\\\\Users\\\\tande\\\\Documents\\\\GitHub\\\\QualityAirQualityCities\\\\arcpy\\\\qaqc\\\\..\\\\..\\\\data\\\\QAQC.gdb\\\\mpls_8km_Proje_MinimumBoundi'>"
      ]
     },
     "execution_count": 76,
     "metadata": {},
     "output_type": "execute_result"
    }
   ],
   "source": [
    "#Create bounding box\n",
    "arcpy.management.MinimumBoundingGeometry(\"mpls_8km_Project\", \"mpls_8km_Proje_MinimumBoundi\", \"RECTANGLE_BY_AREA\")"
   ]
  },
  {
   "cell_type": "code",
   "execution_count": 77,
   "metadata": {},
   "outputs": [],
   "source": [
    "#Setting lat/long for PurpleAir API Parameters\n",
    "nwlng = arcpy.Describe(\"mpls_8km_Proje_MinimumBoundi\").extent.XMin\n",
    "nwlat = arcpy.Describe(\"mpls_8km_Proje_MinimumBoundi\").extent.YMax\n",
    "selng = arcpy.Describe(\"mpls_8km_Proje_MinimumBoundi\").extent.XMax\n",
    "selat = arcpy.Describe(\"mpls_8km_Proje_MinimumBoundi\").extent.YMin"
   ]
  },
  {
   "cell_type": "markdown",
   "metadata": {},
   "source": [
    "## Importing PurpleAir Station Data from PurpleAir API"
   ]
  },
  {
   "cell_type": "code",
   "execution_count": 78,
   "metadata": {},
   "outputs": [],
   "source": [
    "def getSensorsData(query='', api_read_key=''):\n",
    "\n",
    "    # my_url is assigned the URL we are going to send our request to.\n",
    "    url = 'https://api.purpleair.com/v1/sensors?' + query\n",
    "    \n",
    "    print('Here is the full url for the API call:\\n\\n', url)\n",
    "\n",
    "    # my_headers is assigned the context of our request we want to make. In this case\n",
    "    # we will pass through our API read key using the variable created above.\n",
    "    my_headers = {'X-API-Key':api_read_key}\n",
    "\n",
    "    # This line creates and sends the request and then assigns its response to the\n",
    "    # variable, r.\n",
    "    response = requests.get(url, headers=my_headers)\n",
    "\n",
    "    # We then return the response we received.\n",
    "    return response"
   ]
  },
  {
   "cell_type": "code",
   "execution_count": 79,
   "metadata": {},
   "outputs": [
    {
     "name": "stdin",
     "output_type": "stream",
     "text": [
      "Please enter your Purple Air api key 51592903-B445-11ED-B6F4-42010A800007\n"
     ]
    }
   ],
   "source": [
    "#PurpleAir API 'read' key\n",
    "api = input('Please enter your Purple Air api key')"
   ]
  },
  {
   "cell_type": "code",
   "execution_count": 187,
   "metadata": {},
   "outputs": [
    {
     "name": "stdout",
     "output_type": "stream",
     "text": [
      "nwlng=-93.43083707299996&nwlat=45.12366876300007&selng=-93.09225748799997&selat=44.81791263300005\n"
     ]
    }
   ],
   "source": [
    "#Set bounding strings for API parameters\n",
    "bounds_strings = [f'nwlng={nwlng}',\n",
    "                  f'nwlat={nwlat}',\n",
    "                  f'selng={selng}',\n",
    "                  f'selat={selat}']\n",
    "\n",
    "bounds_string = '&'.join(bounds_strings)\n",
    "\n",
    "print(bounds_string)"
   ]
  },
  {
   "cell_type": "code",
   "execution_count": 81,
   "metadata": {},
   "outputs": [
    {
     "name": "stdout",
     "output_type": "stream",
     "text": [
      "fields=name%2Cfirmware_version%2Cdate_created%2Clast_modified%2Clast_seen%2Cuptime%2Cposition_rating%2Cchannel_state%2Cchannel_flags%2Caltitude%2Clocation_type%2Clatitude%2Clongitude\n"
     ]
    }
   ],
   "source": [
    "#Setting parameters for API\n",
    "fields = ['name', 'firmware_version','date_created','last_modified','last_seen','uptime','position_rating','channel_state','channel_flags','altitude',\n",
    "          'location_type','latitude', 'longitude']\n",
    "\n",
    "fields_string = 'fields=' + '%2C'.join(fields)\n",
    "\n",
    "print(fields_string)"
   ]
  },
  {
   "cell_type": "code",
   "execution_count": 82,
   "metadata": {},
   "outputs": [
    {
     "name": "stdout",
     "output_type": "stream",
     "text": [
      "fields=name%2Cfirmware_version%2Cdate_created%2Clast_modified%2Clast_seen%2Cuptime%2Cposition_rating%2Cchannel_state%2Cchannel_flags%2Caltitude%2Clocation_type%2Clatitude%2Clongitude&nwlng=-93.43083707299996&nwlat=45.12366876300007&selng=-93.09225748799997&selat=44.81791263300005\n"
     ]
    }
   ],
   "source": [
    "#finalizing query for API function\n",
    "query_string = '&'.join([fields_string, bounds_string])\n",
    "\n",
    "print(query_string)"
   ]
  },
  {
   "cell_type": "code",
   "execution_count": 83,
   "metadata": {},
   "outputs": [
    {
     "name": "stdout",
     "output_type": "stream",
     "text": [
      "Here is the full url for the API call:\n",
      "\n",
      " https://api.purpleair.com/v1/sensors?fields=name%2Cfirmware_version%2Cdate_created%2Clast_modified%2Clast_seen%2Cuptime%2Cposition_rating%2Cchannel_state%2Cchannel_flags%2Caltitude%2Clocation_type%2Clatitude%2Clongitude&nwlng=-93.43083707299996&nwlat=45.12366876300007&selng=-93.09225748799997&selat=44.81791263300005\n"
     ]
    }
   ],
   "source": [
    "#calling the API\n",
    "response = getSensorsData(query_string, api)"
   ]
  },
  {
   "cell_type": "code",
   "execution_count": 180,
   "metadata": {},
   "outputs": [
    {
     "name": "stdout",
     "output_type": "stream",
     "text": [
      "<class 'pandas.core.frame.DataFrame'>\n",
      "RangeIndex: 88 entries, 0 to 87\n",
      "Data columns (total 14 columns):\n",
      " #   Column            Non-Null Count  Dtype \n",
      "---  ------            --------------  ----- \n",
      " 0   sensor_index      88 non-null     object\n",
      " 1   last_modified     88 non-null     object\n",
      " 2   date_created      88 non-null     object\n",
      " 3   last_seen         88 non-null     object\n",
      " 4   name              88 non-null     object\n",
      " 5   location_type     88 non-null     object\n",
      " 6   firmware_version  88 non-null     object\n",
      " 7   uptime            88 non-null     object\n",
      " 8   position_rating   88 non-null     object\n",
      " 9   latitude          88 non-null     object\n",
      " 10  longitude         88 non-null     object\n",
      " 11  altitude          88 non-null     object\n",
      " 12  channel_state     88 non-null     object\n",
      " 13  channel_flags     88 non-null     object\n",
      "dtypes: object(14)\n",
      "memory usage: 9.8+ KB\n"
     ]
    }
   ],
   "source": [
    "response_dict = response.json() # Read response as a json (dictionary)\n",
    "\n",
    "col_names = response_dict['fields']\n",
    "data = np.array(response_dict['data'])\n",
    "\n",
    "df = pd.DataFrame(data, columns = col_names)\n",
    "\n",
    "df.info()"
   ]
  },
  {
   "cell_type": "markdown",
   "metadata": {},
   "source": [
    "## Cleaning PurpleAir Station Data"
   ]
  },
  {
   "cell_type": "code",
   "execution_count": 181,
   "metadata": {},
   "outputs": [
    {
     "data": {
      "text/html": [
       "<div>\n",
       "<style scoped>\n",
       "    .dataframe tbody tr th:only-of-type {\n",
       "        vertical-align: middle;\n",
       "    }\n",
       "\n",
       "    .dataframe tbody tr th {\n",
       "        vertical-align: top;\n",
       "    }\n",
       "\n",
       "    .dataframe thead th {\n",
       "        text-align: right;\n",
       "    }\n",
       "</style>\n",
       "<table border=\"1\" class=\"dataframe\">\n",
       "  <thead>\n",
       "    <tr style=\"text-align: right;\">\n",
       "      <th></th>\n",
       "      <th>sensor_index</th>\n",
       "      <th>last_modified</th>\n",
       "      <th>date_created</th>\n",
       "      <th>last_seen</th>\n",
       "      <th>name</th>\n",
       "      <th>location_type</th>\n",
       "      <th>firmware_version</th>\n",
       "      <th>uptime</th>\n",
       "      <th>position_rating</th>\n",
       "      <th>latitude</th>\n",
       "      <th>longitude</th>\n",
       "      <th>altitude</th>\n",
       "      <th>channel_state</th>\n",
       "      <th>channel_flags</th>\n",
       "    </tr>\n",
       "  </thead>\n",
       "  <tbody>\n",
       "    <tr>\n",
       "      <th>0</th>\n",
       "      <td>3088</td>\n",
       "      <td>1504993349</td>\n",
       "      <td>1504040633</td>\n",
       "      <td>1680215003</td>\n",
       "      <td>Howe Neighborhood</td>\n",
       "      <td>0</td>\n",
       "      <td>6.06b</td>\n",
       "      <td>5222</td>\n",
       "      <td>5</td>\n",
       "      <td>44.935818</td>\n",
       "      <td>-93.21752</td>\n",
       "      <td>833</td>\n",
       "      <td>3</td>\n",
       "      <td>0</td>\n",
       "    </tr>\n",
       "    <tr>\n",
       "      <th>1</th>\n",
       "      <td>5582</td>\n",
       "      <td>1660166545</td>\n",
       "      <td>1514335701</td>\n",
       "      <td>1680215014</td>\n",
       "      <td>Vircroft Ashnia</td>\n",
       "      <td>0</td>\n",
       "      <td>7.02</td>\n",
       "      <td>810</td>\n",
       "      <td>5</td>\n",
       "      <td>44.891655</td>\n",
       "      <td>-93.34291</td>\n",
       "      <td>899</td>\n",
       "      <td>3</td>\n",
       "      <td>0</td>\n",
       "    </tr>\n",
       "    <tr>\n",
       "      <th>2</th>\n",
       "      <td>137876</td>\n",
       "      <td>1637086469</td>\n",
       "      <td>1637082783</td>\n",
       "      <td>1680215021</td>\n",
       "      <td>King Field Indoors</td>\n",
       "      <td>1</td>\n",
       "      <td>7.02</td>\n",
       "      <td>29104</td>\n",
       "      <td>0</td>\n",
       "      <td>44.928917</td>\n",
       "      <td>-93.284706</td>\n",
       "      <td>886</td>\n",
       "      <td>3</td>\n",
       "      <td>0</td>\n",
       "    </tr>\n",
       "    <tr>\n",
       "      <th>3</th>\n",
       "      <td>11134</td>\n",
       "      <td>1529977499</td>\n",
       "      <td>1527023589</td>\n",
       "      <td>1680215020</td>\n",
       "      <td>Linden Hills</td>\n",
       "      <td>0</td>\n",
       "      <td>7.02</td>\n",
       "      <td>10036</td>\n",
       "      <td>5</td>\n",
       "      <td>44.92776</td>\n",
       "      <td>-93.32235</td>\n",
       "      <td>886</td>\n",
       "      <td>3</td>\n",
       "      <td>0</td>\n",
       "    </tr>\n",
       "    <tr>\n",
       "      <th>4</th>\n",
       "      <td>142718</td>\n",
       "      <td>1675359061</td>\n",
       "      <td>1642013869</td>\n",
       "      <td>1680214953</td>\n",
       "      <td>City of Minneapolis Community Air Monitoring P...</td>\n",
       "      <td>0</td>\n",
       "      <td>7.02</td>\n",
       "      <td>14557</td>\n",
       "      <td>5</td>\n",
       "      <td>44.995792</td>\n",
       "      <td>-93.295395</td>\n",
       "      <td>865</td>\n",
       "      <td>3</td>\n",
       "      <td>0</td>\n",
       "    </tr>\n",
       "  </tbody>\n",
       "</table>\n",
       "</div>"
      ],
      "text/plain": [
       "  sensor_index last_modified date_created   last_seen  \\\n",
       "0         3088    1504993349   1504040633  1680215003   \n",
       "1         5582    1660166545   1514335701  1680215014   \n",
       "2       137876    1637086469   1637082783  1680215021   \n",
       "3        11134    1529977499   1527023589  1680215020   \n",
       "4       142718    1675359061   1642013869  1680214953   \n",
       "\n",
       "                                                name location_type  \\\n",
       "0                                  Howe Neighborhood             0   \n",
       "1                                    Vircroft Ashnia             0   \n",
       "2                                 King Field Indoors             1   \n",
       "3                                       Linden Hills             0   \n",
       "4  City of Minneapolis Community Air Monitoring P...             0   \n",
       "\n",
       "  firmware_version uptime position_rating   latitude   longitude altitude  \\\n",
       "0            6.06b   5222               5  44.935818   -93.21752      833   \n",
       "1             7.02    810               5  44.891655   -93.34291      899   \n",
       "2             7.02  29104               0  44.928917  -93.284706      886   \n",
       "3             7.02  10036               5   44.92776   -93.32235      886   \n",
       "4             7.02  14557               5  44.995792  -93.295395      865   \n",
       "\n",
       "  channel_state channel_flags  \n",
       "0             3             0  \n",
       "1             3             0  \n",
       "2             3             0  \n",
       "3             3             0  \n",
       "4             3             0  "
      ]
     },
     "execution_count": 181,
     "metadata": {},
     "output_type": "execute_result"
    }
   ],
   "source": [
    "#visualizing API response\n",
    "df.head()"
   ]
  },
  {
   "cell_type": "code",
   "execution_count": 183,
   "metadata": {},
   "outputs": [
    {
     "data": {
      "text/plain": [
       "80"
      ]
     },
     "execution_count": 183,
     "metadata": {},
     "output_type": "execute_result"
    }
   ],
   "source": [
    "#find outside sensors\n",
    "df_outside = df[df.location_type =='0']\n",
    "len(df_outside)\n"
   ]
  },
  {
   "cell_type": "code",
   "execution_count": 184,
   "metadata": {},
   "outputs": [
    {
     "data": {
      "text/html": [
       "<div>\n",
       "<style scoped>\n",
       "    .dataframe tbody tr th:only-of-type {\n",
       "        vertical-align: middle;\n",
       "    }\n",
       "\n",
       "    .dataframe tbody tr th {\n",
       "        vertical-align: top;\n",
       "    }\n",
       "\n",
       "    .dataframe thead th {\n",
       "        text-align: right;\n",
       "    }\n",
       "</style>\n",
       "<table border=\"1\" class=\"dataframe\">\n",
       "  <thead>\n",
       "    <tr style=\"text-align: right;\">\n",
       "      <th></th>\n",
       "      <th>sensor_index</th>\n",
       "      <th>last_modified</th>\n",
       "      <th>date_created</th>\n",
       "      <th>last_seen</th>\n",
       "      <th>name</th>\n",
       "      <th>firmware_version</th>\n",
       "      <th>uptime</th>\n",
       "      <th>position_rating</th>\n",
       "      <th>latitude</th>\n",
       "      <th>longitude</th>\n",
       "      <th>altitude</th>\n",
       "      <th>channel_state</th>\n",
       "      <th>channel_flags</th>\n",
       "    </tr>\n",
       "  </thead>\n",
       "  <tbody>\n",
       "    <tr>\n",
       "      <th>0</th>\n",
       "      <td>3088</td>\n",
       "      <td>1504993349</td>\n",
       "      <td>1504040633</td>\n",
       "      <td>1680215003</td>\n",
       "      <td>Howe Neighborhood</td>\n",
       "      <td>6.06b</td>\n",
       "      <td>5222</td>\n",
       "      <td>5</td>\n",
       "      <td>44.935818</td>\n",
       "      <td>-93.21752</td>\n",
       "      <td>833</td>\n",
       "      <td>3</td>\n",
       "      <td>0</td>\n",
       "    </tr>\n",
       "    <tr>\n",
       "      <th>1</th>\n",
       "      <td>5582</td>\n",
       "      <td>1660166545</td>\n",
       "      <td>1514335701</td>\n",
       "      <td>1680215014</td>\n",
       "      <td>Vircroft Ashnia</td>\n",
       "      <td>7.02</td>\n",
       "      <td>810</td>\n",
       "      <td>5</td>\n",
       "      <td>44.891655</td>\n",
       "      <td>-93.34291</td>\n",
       "      <td>899</td>\n",
       "      <td>3</td>\n",
       "      <td>0</td>\n",
       "    </tr>\n",
       "    <tr>\n",
       "      <th>3</th>\n",
       "      <td>11134</td>\n",
       "      <td>1529977499</td>\n",
       "      <td>1527023589</td>\n",
       "      <td>1680215020</td>\n",
       "      <td>Linden Hills</td>\n",
       "      <td>7.02</td>\n",
       "      <td>10036</td>\n",
       "      <td>5</td>\n",
       "      <td>44.92776</td>\n",
       "      <td>-93.32235</td>\n",
       "      <td>886</td>\n",
       "      <td>3</td>\n",
       "      <td>0</td>\n",
       "    </tr>\n",
       "    <tr>\n",
       "      <th>4</th>\n",
       "      <td>142718</td>\n",
       "      <td>1675359061</td>\n",
       "      <td>1642013869</td>\n",
       "      <td>1680214953</td>\n",
       "      <td>City of Minneapolis Community Air Monitoring P...</td>\n",
       "      <td>7.02</td>\n",
       "      <td>14557</td>\n",
       "      <td>5</td>\n",
       "      <td>44.995792</td>\n",
       "      <td>-93.295395</td>\n",
       "      <td>865</td>\n",
       "      <td>3</td>\n",
       "      <td>0</td>\n",
       "    </tr>\n",
       "    <tr>\n",
       "      <th>5</th>\n",
       "      <td>142720</td>\n",
       "      <td>1675359105</td>\n",
       "      <td>1642013875</td>\n",
       "      <td>1680214975</td>\n",
       "      <td>City of Minneapolis community air monitoring p...</td>\n",
       "      <td>7.02</td>\n",
       "      <td>69160</td>\n",
       "      <td>5</td>\n",
       "      <td>44.95617</td>\n",
       "      <td>-93.25471</td>\n",
       "      <td>856</td>\n",
       "      <td>3</td>\n",
       "      <td>0</td>\n",
       "    </tr>\n",
       "    <tr>\n",
       "      <th>...</th>\n",
       "      <td>...</td>\n",
       "      <td>...</td>\n",
       "      <td>...</td>\n",
       "      <td>...</td>\n",
       "      <td>...</td>\n",
       "      <td>...</td>\n",
       "      <td>...</td>\n",
       "      <td>...</td>\n",
       "      <td>...</td>\n",
       "      <td>...</td>\n",
       "      <td>...</td>\n",
       "      <td>...</td>\n",
       "      <td>...</td>\n",
       "    </tr>\n",
       "    <tr>\n",
       "      <th>83</th>\n",
       "      <td>108366</td>\n",
       "      <td>1628110951</td>\n",
       "      <td>1623277596</td>\n",
       "      <td>1680215030</td>\n",
       "      <td>Dakota Trail</td>\n",
       "      <td>7.02</td>\n",
       "      <td>46201</td>\n",
       "      <td>5</td>\n",
       "      <td>44.87984</td>\n",
       "      <td>-93.38967</td>\n",
       "      <td>889</td>\n",
       "      <td>3</td>\n",
       "      <td>0</td>\n",
       "    </tr>\n",
       "    <tr>\n",
       "      <th>84</th>\n",
       "      <td>113486</td>\n",
       "      <td>1628274672</td>\n",
       "      <td>1625862371</td>\n",
       "      <td>1680215020</td>\n",
       "      <td>Bancroft</td>\n",
       "      <td>7.02</td>\n",
       "      <td>67860</td>\n",
       "      <td>5</td>\n",
       "      <td>44.928123</td>\n",
       "      <td>-93.25389</td>\n",
       "      <td>821</td>\n",
       "      <td>3</td>\n",
       "      <td>0</td>\n",
       "    </tr>\n",
       "    <tr>\n",
       "      <th>85</th>\n",
       "      <td>116413</td>\n",
       "      <td>1667066761</td>\n",
       "      <td>1627341088</td>\n",
       "      <td>1680215040</td>\n",
       "      <td>Seward</td>\n",
       "      <td>7.02</td>\n",
       "      <td>14793</td>\n",
       "      <td>5</td>\n",
       "      <td>44.961216</td>\n",
       "      <td>-93.2424</td>\n",
       "      <td>839</td>\n",
       "      <td>3</td>\n",
       "      <td>0</td>\n",
       "    </tr>\n",
       "    <tr>\n",
       "      <th>86</th>\n",
       "      <td>126487</td>\n",
       "      <td>1656379563</td>\n",
       "      <td>1631137483</td>\n",
       "      <td>1680214415</td>\n",
       "      <td>Northwoods Berry Clan</td>\n",
       "      <td>7.02</td>\n",
       "      <td>38415</td>\n",
       "      <td>5</td>\n",
       "      <td>45.040394</td>\n",
       "      <td>-93.21327</td>\n",
       "      <td>939</td>\n",
       "      <td>3</td>\n",
       "      <td>0</td>\n",
       "    </tr>\n",
       "    <tr>\n",
       "      <th>87</th>\n",
       "      <td>128195</td>\n",
       "      <td>1644522903</td>\n",
       "      <td>1631832018</td>\n",
       "      <td>1680214993</td>\n",
       "      <td>Groveland Park</td>\n",
       "      <td>7.02</td>\n",
       "      <td>6237</td>\n",
       "      <td>5</td>\n",
       "      <td>44.93578</td>\n",
       "      <td>-93.18634</td>\n",
       "      <td>926</td>\n",
       "      <td>3</td>\n",
       "      <td>0</td>\n",
       "    </tr>\n",
       "  </tbody>\n",
       "</table>\n",
       "<p>80 rows × 13 columns</p>\n",
       "</div>"
      ],
      "text/plain": [
       "   sensor_index last_modified date_created   last_seen  \\\n",
       "0          3088    1504993349   1504040633  1680215003   \n",
       "1          5582    1660166545   1514335701  1680215014   \n",
       "3         11134    1529977499   1527023589  1680215020   \n",
       "4        142718    1675359061   1642013869  1680214953   \n",
       "5        142720    1675359105   1642013875  1680214975   \n",
       "..          ...           ...          ...         ...   \n",
       "83       108366    1628110951   1623277596  1680215030   \n",
       "84       113486    1628274672   1625862371  1680215020   \n",
       "85       116413    1667066761   1627341088  1680215040   \n",
       "86       126487    1656379563   1631137483  1680214415   \n",
       "87       128195    1644522903   1631832018  1680214993   \n",
       "\n",
       "                                                 name firmware_version uptime  \\\n",
       "0                                   Howe Neighborhood            6.06b   5222   \n",
       "1                                     Vircroft Ashnia             7.02    810   \n",
       "3                                        Linden Hills             7.02  10036   \n",
       "4   City of Minneapolis Community Air Monitoring P...             7.02  14557   \n",
       "5   City of Minneapolis community air monitoring p...             7.02  69160   \n",
       "..                                                ...              ...    ...   \n",
       "83                                       Dakota Trail             7.02  46201   \n",
       "84                                           Bancroft             7.02  67860   \n",
       "85                                             Seward             7.02  14793   \n",
       "86                              Northwoods Berry Clan             7.02  38415   \n",
       "87                                     Groveland Park             7.02   6237   \n",
       "\n",
       "   position_rating   latitude   longitude altitude channel_state channel_flags  \n",
       "0                5  44.935818   -93.21752      833             3             0  \n",
       "1                5  44.891655   -93.34291      899             3             0  \n",
       "3                5   44.92776   -93.32235      886             3             0  \n",
       "4                5  44.995792  -93.295395      865             3             0  \n",
       "5                5   44.95617   -93.25471      856             3             0  \n",
       "..             ...        ...         ...      ...           ...           ...  \n",
       "83               5   44.87984   -93.38967      889             3             0  \n",
       "84               5  44.928123   -93.25389      821             3             0  \n",
       "85               5  44.961216    -93.2424      839             3             0  \n",
       "86               5  45.040394   -93.21327      939             3             0  \n",
       "87               5   44.93578   -93.18634      926             3             0  \n",
       "\n",
       "[80 rows x 13 columns]"
      ]
     },
     "execution_count": 184,
     "metadata": {},
     "output_type": "execute_result"
    }
   ],
   "source": [
    "#drop the location_type now that we have filtered for outdoor sensors only\n",
    "df_stations = df_outside.drop('location_type', axis=1)\n",
    "df_stations"
   ]
  },
  {
   "cell_type": "code",
   "execution_count": 185,
   "metadata": {},
   "outputs": [],
   "source": [
    "#Converting UNIX date/time to pd\n",
    "df_stations['last_modified'] = pd.to_datetime(df_stations['last_modified'], unit='s')\n",
    "df_stations['date_created'] = pd.to_datetime(df_stations['date_created'], unit='s')\n",
    "df_stations['last_seen'] = pd.to_datetime(df_stations['last_seen'], unit='s')"
   ]
  },
  {
   "cell_type": "code",
   "execution_count": 186,
   "metadata": {},
   "outputs": [
    {
     "data": {
      "text/html": [
       "<div>\n",
       "<style scoped>\n",
       "    .dataframe tbody tr th:only-of-type {\n",
       "        vertical-align: middle;\n",
       "    }\n",
       "\n",
       "    .dataframe tbody tr th {\n",
       "        vertical-align: top;\n",
       "    }\n",
       "\n",
       "    .dataframe thead th {\n",
       "        text-align: right;\n",
       "    }\n",
       "</style>\n",
       "<table border=\"1\" class=\"dataframe\">\n",
       "  <thead>\n",
       "    <tr style=\"text-align: right;\">\n",
       "      <th></th>\n",
       "      <th>sensor_index</th>\n",
       "      <th>last_modified</th>\n",
       "      <th>date_created</th>\n",
       "      <th>last_seen</th>\n",
       "      <th>name</th>\n",
       "      <th>firmware_version</th>\n",
       "      <th>uptime</th>\n",
       "      <th>position_rating</th>\n",
       "      <th>latitude</th>\n",
       "      <th>longitude</th>\n",
       "      <th>altitude</th>\n",
       "      <th>channel_state</th>\n",
       "      <th>channel_flags</th>\n",
       "    </tr>\n",
       "  </thead>\n",
       "  <tbody>\n",
       "    <tr>\n",
       "      <th>0</th>\n",
       "      <td>3088</td>\n",
       "      <td>2017-09-09 21:42:29</td>\n",
       "      <td>2017-08-29 21:03:53</td>\n",
       "      <td>2023-03-30 22:23:23</td>\n",
       "      <td>Howe Neighborhood</td>\n",
       "      <td>6.06b</td>\n",
       "      <td>5222</td>\n",
       "      <td>5</td>\n",
       "      <td>44.935818</td>\n",
       "      <td>-93.21752</td>\n",
       "      <td>833</td>\n",
       "      <td>3</td>\n",
       "      <td>0</td>\n",
       "    </tr>\n",
       "    <tr>\n",
       "      <th>1</th>\n",
       "      <td>5582</td>\n",
       "      <td>2022-08-10 21:22:25</td>\n",
       "      <td>2017-12-27 00:48:21</td>\n",
       "      <td>2023-03-30 22:23:34</td>\n",
       "      <td>Vircroft Ashnia</td>\n",
       "      <td>7.02</td>\n",
       "      <td>810</td>\n",
       "      <td>5</td>\n",
       "      <td>44.891655</td>\n",
       "      <td>-93.34291</td>\n",
       "      <td>899</td>\n",
       "      <td>3</td>\n",
       "      <td>0</td>\n",
       "    </tr>\n",
       "    <tr>\n",
       "      <th>3</th>\n",
       "      <td>11134</td>\n",
       "      <td>2018-06-26 01:44:59</td>\n",
       "      <td>2018-05-22 21:13:09</td>\n",
       "      <td>2023-03-30 22:23:40</td>\n",
       "      <td>Linden Hills</td>\n",
       "      <td>7.02</td>\n",
       "      <td>10036</td>\n",
       "      <td>5</td>\n",
       "      <td>44.92776</td>\n",
       "      <td>-93.32235</td>\n",
       "      <td>886</td>\n",
       "      <td>3</td>\n",
       "      <td>0</td>\n",
       "    </tr>\n",
       "    <tr>\n",
       "      <th>4</th>\n",
       "      <td>142718</td>\n",
       "      <td>2023-02-02 17:31:01</td>\n",
       "      <td>2022-01-12 18:57:49</td>\n",
       "      <td>2023-03-30 22:22:33</td>\n",
       "      <td>City of Minneapolis Community Air Monitoring P...</td>\n",
       "      <td>7.02</td>\n",
       "      <td>14557</td>\n",
       "      <td>5</td>\n",
       "      <td>44.995792</td>\n",
       "      <td>-93.295395</td>\n",
       "      <td>865</td>\n",
       "      <td>3</td>\n",
       "      <td>0</td>\n",
       "    </tr>\n",
       "    <tr>\n",
       "      <th>5</th>\n",
       "      <td>142720</td>\n",
       "      <td>2023-02-02 17:31:45</td>\n",
       "      <td>2022-01-12 18:57:55</td>\n",
       "      <td>2023-03-30 22:22:55</td>\n",
       "      <td>City of Minneapolis community air monitoring p...</td>\n",
       "      <td>7.02</td>\n",
       "      <td>69160</td>\n",
       "      <td>5</td>\n",
       "      <td>44.95617</td>\n",
       "      <td>-93.25471</td>\n",
       "      <td>856</td>\n",
       "      <td>3</td>\n",
       "      <td>0</td>\n",
       "    </tr>\n",
       "  </tbody>\n",
       "</table>\n",
       "</div>"
      ],
      "text/plain": [
       "  sensor_index       last_modified        date_created           last_seen  \\\n",
       "0         3088 2017-09-09 21:42:29 2017-08-29 21:03:53 2023-03-30 22:23:23   \n",
       "1         5582 2022-08-10 21:22:25 2017-12-27 00:48:21 2023-03-30 22:23:34   \n",
       "3        11134 2018-06-26 01:44:59 2018-05-22 21:13:09 2023-03-30 22:23:40   \n",
       "4       142718 2023-02-02 17:31:01 2022-01-12 18:57:49 2023-03-30 22:22:33   \n",
       "5       142720 2023-02-02 17:31:45 2022-01-12 18:57:55 2023-03-30 22:22:55   \n",
       "\n",
       "                                                name firmware_version uptime  \\\n",
       "0                                  Howe Neighborhood            6.06b   5222   \n",
       "1                                    Vircroft Ashnia             7.02    810   \n",
       "3                                       Linden Hills             7.02  10036   \n",
       "4  City of Minneapolis Community Air Monitoring P...             7.02  14557   \n",
       "5  City of Minneapolis community air monitoring p...             7.02  69160   \n",
       "\n",
       "  position_rating   latitude   longitude altitude channel_state channel_flags  \n",
       "0               5  44.935818   -93.21752      833             3             0  \n",
       "1               5  44.891655   -93.34291      899             3             0  \n",
       "3               5   44.92776   -93.32235      886             3             0  \n",
       "4               5  44.995792  -93.295395      865             3             0  \n",
       "5               5   44.95617   -93.25471      856             3             0  "
      ]
     },
     "execution_count": 186,
     "metadata": {},
     "output_type": "execute_result"
    }
   ],
   "source": [
    "df_stations.head()"
   ]
  },
  {
   "cell_type": "markdown",
   "metadata": {},
   "source": [
    "### Converting lat/long to WKT for SQL"
   ]
  },
  {
   "cell_type": "code",
   "execution_count": 155,
   "metadata": {},
   "outputs": [],
   "source": [
    "# Create a list to store the WKT values\n",
    "wkt_list = []\n",
    "\n",
    "# Iterate over each row and add the WKT representation of a point geometry\n",
    "for index, row in df_stations.iterrows():\n",
    "    latitude, longitude = row['latitude'], row['longitude']\n",
    "    point = arcpy.Point(longitude, latitude)\n",
    "    point_geom = arcpy.PointGeometry(point, 4326)\n",
    "    wkt = point_geom.WKT\n",
    "    wkt_list.append(wkt)\n",
    "\n",
    "# Add the WKT column to the DataFrame\n",
    "df_stations['WKT'] = wkt_list"
   ]
  },
  {
   "cell_type": "markdown",
   "metadata": {},
   "source": [
    "## Let the QAQC Begin!"
   ]
  },
  {
   "cell_type": "code",
   "execution_count": 175,
   "metadata": {},
   "outputs": [],
   "source": [
    "#visual inspection that all the points fall within the boundary + 8KM buffer"
   ]
  },
  {
   "cell_type": "markdown",
   "metadata": {},
   "source": [
    "### Altitude Check"
   ]
  },
  {
   "cell_type": "code",
   "execution_count": 152,
   "metadata": {},
   "outputs": [
    {
     "name": "stdout",
     "output_type": "stream",
     "text": [
      "   sensor_index       last_modified        date_created           last_seen  \\\n",
      "0          3088 2017-09-09 21:42:29 2017-08-29 21:03:53 2023-03-30 22:23:23   \n",
      "1          5582 2022-08-10 21:22:25 2017-12-27 00:48:21 2023-03-30 22:23:34   \n",
      "2        137876 2021-11-16 18:14:29 2021-11-16 17:13:03 2023-03-30 22:23:41   \n",
      "3         11134 2018-06-26 01:44:59 2018-05-22 21:13:09 2023-03-30 22:23:40   \n",
      "4        142718 2023-02-02 17:31:01 2022-01-12 18:57:49 2023-03-30 22:22:33   \n",
      "..          ...                 ...                 ...                 ...   \n",
      "83       108366 2021-08-04 21:02:31 2021-06-09 22:26:36 2023-03-30 22:23:50   \n",
      "84       113486 2021-08-06 18:31:12 2021-07-09 20:26:11 2023-03-30 22:23:40   \n",
      "85       116413 2022-10-29 18:06:01 2021-07-26 23:11:28 2023-03-30 22:24:00   \n",
      "86       126487 2022-06-28 01:26:03 2021-09-08 21:44:43 2023-03-30 22:13:35   \n",
      "87       128195 2022-02-10 19:55:03 2021-09-16 22:40:18 2023-03-30 22:23:13   \n",
      "\n",
      "                                                 name location_type  \\\n",
      "0                                   Howe Neighborhood             0   \n",
      "1                                     Vircroft Ashnia             0   \n",
      "2                                  King Field Indoors             1   \n",
      "3                                        Linden Hills             0   \n",
      "4   City of Minneapolis Community Air Monitoring P...             0   \n",
      "..                                                ...           ...   \n",
      "83                                       Dakota Trail             0   \n",
      "84                                           Bancroft             0   \n",
      "85                                             Seward             0   \n",
      "86                              Northwoods Berry Clan             0   \n",
      "87                                     Groveland Park             0   \n",
      "\n",
      "   firmware_version uptime position_rating   latitude  longitude  altitude  \\\n",
      "0             6.06b   5222               5  44.935818 -93.217520       833   \n",
      "1              7.02    810               5  44.891655 -93.342910       899   \n",
      "2              7.02  29104               0  44.928917 -93.284706       886   \n",
      "3              7.02  10036               5  44.927760 -93.322350       886   \n",
      "4              7.02  14557               5  44.995792 -93.295395       865   \n",
      "..              ...    ...             ...        ...        ...       ...   \n",
      "83             7.02  46201               5  44.879840 -93.389670       889   \n",
      "84             7.02  67860               5  44.928123 -93.253890       821   \n",
      "85             7.02  14793               5  44.961216 -93.242400       839   \n",
      "86             7.02  38415               5  45.040394 -93.213270       939   \n",
      "87             7.02   6237               5  44.935780 -93.186340       926   \n",
      "\n",
      "   channel_state channel_flags altitude_error  \n",
      "0              3             0           None  \n",
      "1              3             0           None  \n",
      "2              3             0           None  \n",
      "3              3             0           None  \n",
      "4              3             0           None  \n",
      "..           ...           ...            ...  \n",
      "83             3             0           None  \n",
      "84             3             0           None  \n",
      "85             3             0           None  \n",
      "86             3             0           None  \n",
      "87             3             0           None  \n",
      "\n",
      "[88 rows x 15 columns]\n"
     ]
    }
   ],
   "source": [
    "df_stations['altitude'] = pd.to_numeric(df_stations['altitude'], errors='coerce')\n",
    "def check_range(value):\n",
    "    if value is None:\n",
    "        return 'no value given'  # or any other value that indicates a missing value\n",
    "    elif value >= 680 and value <= 1120:\n",
    "        pass\n",
    "    else:\n",
    "        return 'out of range (680-1120ft)'\n",
    "    \n",
    "df_stations['altitude_error'] = df_stations['altitude'].apply(check_range)\n",
    "\n",
    "print(df_stations)\n",
    "#680 - 1120 Ref https://en-us.topographic-map.com/map-bbpz4/Minneapolis/"
   ]
  },
  {
   "cell_type": "markdown",
   "metadata": {},
   "source": [
    "## Connecting to the Server"
   ]
  },
  {
   "cell_type": "code",
   "execution_count": 63,
   "metadata": {},
   "outputs": [],
   "source": [
    "import psycopg2\n",
    "from psycopg2 import sql"
   ]
  },
  {
   "cell_type": "code",
   "execution_count": 64,
   "metadata": {},
   "outputs": [
    {
     "data": {
      "text/plain": [
       "0"
      ]
     },
     "execution_count": 64,
     "metadata": {},
     "output_type": "execute_result"
    }
   ],
   "source": [
    "# Get credentials\n",
    "\n",
    "cred_pth = os.path.join(os.getcwd(), '..', '..', 'database', 'db_credentials.txt')\n",
    "\n",
    "with open(cred_pth, 'r') as f:\n",
    "    \n",
    "    creds = f.readlines()[0].rstrip('\\n').split(', ')\n",
    "    \n",
    "# Connect to PostGIS Database\n",
    "\n",
    "pg_connection_dict = dict(zip(['dbname', 'user', 'password', 'port', 'host'], creds))\n",
    "\n",
    "connection = psycopg2.connect(**pg_connection_dict)"
   ]
  },
  {
   "cell_type": "markdown",
   "metadata": {},
   "source": [
    "## Insert Data into SQL Table"
   ]
  },
  {
   "cell_type": "code",
   "execution_count": 66,
   "metadata": {},
   "outputs": [],
   "source": [
    "#connect to the cursor\n",
    "cur = connection.cursor()\n",
    "\n",
    "# iterate over the dataframe and insert each row into the database using a SQL INSERT statement\n",
    "for index, row in df_stations.iterrows():\n",
    "    cur.execute('''\n",
    "    INSERT INTO PURPLEAIR_STATIONS (sensor_index, last_modified, date_created, last_seen, name, firmware_version, uptime, \n",
    "                        position_rating, latitude, longitude, altitude, channel_state, channel_flags, WKT)\n",
    "    VALUES (%s, %s, %s, %s, %s, %s, %s, %s, %s, %s, %s, %s, %s, ST_SetSRID(ST_GeomFromText(%s), 4326)::geometry)\n",
    "    ''', (row['sensor_index'], row['last_modified'], row['date_created'], row['last_seen'], row['name'], row['firmware_version'], \n",
    "          row['uptime'], row['position_rating'], row['latitude'], row['longitude'], row['altitude'], \n",
    "          row['channel_state'], row['channel_flags'], row['WKT']))\n",
    "    connection.commit()\n",
    "\n",
    "# Close the cursor and connection\n",
    "cursor.close()\n",
    "connection.close()"
   ]
  }
 ],
 "metadata": {
  "kernelspec": {
   "display_name": "Python 3",
   "language": "python",
   "name": "python3"
  },
  "language_info": {
   "codemirror_mode": {
    "name": "ipython",
    "version": 3
   },
   "file_extension": ".py",
   "mimetype": "text/x-python",
   "name": "python",
   "nbconvert_exporter": "python",
   "pygments_lexer": "ipython3",
   "version": "3.9.11"
  }
 },
 "nbformat": 4,
 "nbformat_minor": 4
}
