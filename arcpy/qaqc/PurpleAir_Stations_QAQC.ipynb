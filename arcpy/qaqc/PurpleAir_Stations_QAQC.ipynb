{
 "cells": [
  {
   "cell_type": "markdown",
   "metadata": {},
   "source": [
    "# PurpleAir Stations QAQC"
   ]
  },
  {
   "cell_type": "markdown",
   "metadata": {},
   "source": [
    "## Set Working Environment"
   ]
  },
  {
   "cell_type": "code",
   "execution_count": 1,
   "metadata": {},
   "outputs": [],
   "source": [
    "arcpy.env.workspace = r\"C:\\Users\\tande\\Documents\\GitHub\\QualityAirQualityCities\\PurpleAirQAQC\""
   ]
  },
  {
   "cell_type": "markdown",
   "metadata": {},
   "source": [
    "## Import Packages"
   ]
  },
  {
   "cell_type": "code",
   "execution_count": 2,
   "metadata": {},
   "outputs": [],
   "source": [
    "import os # For working with Operating System\n",
    "from sys import platform # Diagnose operating system\n",
    "import requests \n",
    "import datetime as dt # Converting unix time\n",
    "import json"
   ]
  },
  {
   "cell_type": "code",
   "execution_count": 3,
   "metadata": {},
   "outputs": [],
   "source": [
    "import numpy as np # For working with Arrays\n",
    "import pandas as pd # Data Manipulation\n",
    "import arcpy"
   ]
  },
  {
   "cell_type": "code",
   "execution_count": 4,
   "metadata": {},
   "outputs": [],
   "source": [
    "from pprint import pprint # Pretty Printing\n",
    "import matplotlib.pyplot as plt # Basic Plotting"
   ]
  },
  {
   "cell_type": "markdown",
   "metadata": {},
   "source": [
    "## Import Minneapolis Boundary"
   ]
  },
  {
   "cell_type": "code",
   "execution_count": 5,
   "metadata": {},
   "outputs": [],
   "source": [
    "#Importing the GeoJSON of MPLS boundary\n",
    "mpls_bndry_path = os.path.join(os.getcwd(), 'mpls_boundary.geojson')"
   ]
  },
  {
   "cell_type": "code",
   "execution_count": 6,
   "metadata": {},
   "outputs": [
    {
     "data": {
      "text/html": [
       "<div class='gpresult'><h2>Messages</h2><div id='messages' data-messages='[\"Start Time: Sunday, March 26, 2023 4:32:36 PM\",\"Succeeded at Sunday, March 26, 2023 4:32:36 PM (Elapsed Time: 0.08 seconds)\"]' data-show='true'><div id = 'default' /></div></div>"
      ],
      "text/plain": [
       "<Result 'C:\\\\Users\\\\tande\\\\Documents\\\\GitHub\\\\QualityAirQualityCities\\\\PurpleAirQAQC\\\\mpls_boundary_JSONToFeatures.shp'>"
      ]
     },
     "execution_count": 6,
     "metadata": {},
     "output_type": "execute_result"
    }
   ],
   "source": [
    "#converting the GeoJSON to a Feature\n",
    "arcpy.conversion.JSONToFeatures(r\"C:\\Users\\tande\\Documents\\GitHub\\QualityAirQualityCities\\PurpleAirQAQC\\mpls_boundary.geojson\", r\"C:\\Users\\tande\\Documents\\GitHub\\QualityAirQualityCities\\PurpleAirQAQC\\mpls_boundary_JSONToFeatures.shp\", \"POLYGON\")"
   ]
  },
  {
   "cell_type": "markdown",
   "metadata": {},
   "source": [
    "## Buffering Boundary by 8km"
   ]
  },
  {
   "cell_type": "code",
   "execution_count": 7,
   "metadata": {},
   "outputs": [
    {
     "data": {
      "text/html": [
       "<div class='gpresult'><h2>Messages</h2><div id='messages' data-messages='[\"Start Time: Sunday, March 26, 2023 4:32:38 PM\",\"Succeeded at Sunday, March 26, 2023 4:32:38 PM (Elapsed Time: 0.08 seconds)\"]' data-show='true'><div id = 'default' /></div></div>"
      ],
      "text/plain": [
       "<Result 'C:\\\\Users\\\\tande\\\\Documents\\\\GitHub\\\\QualityAirQualityCities\\\\PurpleAirQAQC\\\\mpls_8km.shp'>"
      ]
     },
     "execution_count": 7,
     "metadata": {},
     "output_type": "execute_result"
    }
   ],
   "source": [
    "arcpy.analysis.Buffer(\"mpls_boundary_JSONToFeatures\", r\"C:\\Users\\tande\\Documents\\GitHub\\QualityAirQualityCities\\PurpleAirQAQC\\mpls_8km.shp\", \"8 Kilometers\")"
   ]
  },
  {
   "cell_type": "markdown",
   "metadata": {},
   "source": [
    "## Set Bounds for PurpleAir Parameters"
   ]
  },
  {
   "cell_type": "code",
   "execution_count": 8,
   "metadata": {},
   "outputs": [
    {
     "ename": "ExecuteError",
     "evalue": "ERROR 000601: Cannot delete C:\\Users\\tande\\Documents\\GitHub\\QualityAirQualityCities\\PurpleAirQAQC\\mpls_8km_Project.shp.  May be locked by another application.\nFailed to execute (Project).\n",
     "output_type": "error",
     "traceback": [
      "\u001b[0;31m---------------------------------------------------------------------------\u001b[0m\n\u001b[0;31mExecuteError\u001b[0m                              Traceback (most recent call last)",
      "In  \u001b[0;34m[8]\u001b[0m:\nLine \u001b[0;34m2\u001b[0m:     arcpy.management.Project(\u001b[33mr\u001b[39;49;00m\u001b[33m\"\u001b[39;49;00m\u001b[33mC:\u001b[39;49;00m\u001b[33m\\\u001b[39;49;00m\u001b[33mUsers\u001b[39;49;00m\u001b[33m\\\u001b[39;49;00m\u001b[33mtande\u001b[39;49;00m\u001b[33m\\\u001b[39;49;00m\u001b[33mDocuments\u001b[39;49;00m\u001b[33m\\\u001b[39;49;00m\u001b[33mGitHub\u001b[39;49;00m\u001b[33m\\\u001b[39;49;00m\u001b[33mQualityAirQualityCities\u001b[39;49;00m\u001b[33m\\\u001b[39;49;00m\u001b[33mPurpleAirQAQC\u001b[39;49;00m\u001b[33m\\\u001b[39;49;00m\u001b[33mmpls_8km.shp\u001b[39;49;00m\u001b[33m\"\u001b[39;49;00m, \u001b[33mr\u001b[39;49;00m\u001b[33m\"\u001b[39;49;00m\u001b[33mC:\u001b[39;49;00m\u001b[33m\\\u001b[39;49;00m\u001b[33mUsers\u001b[39;49;00m\u001b[33m\\\u001b[39;49;00m\u001b[33mtande\u001b[39;49;00m\u001b[33m\\\u001b[39;49;00m\u001b[33mDocuments\u001b[39;49;00m\u001b[33m\\\u001b[39;49;00m\u001b[33mGitHub\u001b[39;49;00m\u001b[33m\\\u001b[39;49;00m\u001b[33mQualityAirQualityCities\u001b[39;49;00m\u001b[33m\\\u001b[39;49;00m\u001b[33mPurpleAirQAQC\u001b[39;49;00m\u001b[33m\\\u001b[39;49;00m\u001b[33mmpls_8km_Project\u001b[39;49;00m\u001b[33m\"\u001b[39;49;00m, \u001b[33m'\u001b[39;49;00m\u001b[33mGEOGCS[\u001b[39;49;00m\u001b[33m\"\u001b[39;49;00m\u001b[33mGCS_WGS_1984\u001b[39;49;00m\u001b[33m\"\u001b[39;49;00m\u001b[33m,DATUM[\u001b[39;49;00m\u001b[33m\"\u001b[39;49;00m\u001b[33mD_WGS_1984\u001b[39;49;00m\u001b[33m\"\u001b[39;49;00m\u001b[33m,SPHEROID[\u001b[39;49;00m\u001b[33m\"\u001b[39;49;00m\u001b[33mWGS_1984\u001b[39;49;00m\u001b[33m\"\u001b[39;49;00m\u001b[33m,6378137.0,298.257223563]],PRIMEM[\u001b[39;49;00m\u001b[33m\"\u001b[39;49;00m\u001b[33mGreenwich\u001b[39;49;00m\u001b[33m\"\u001b[39;49;00m\u001b[33m,0.0],UNIT[\u001b[39;49;00m\u001b[33m\"\u001b[39;49;00m\u001b[33mDegree\u001b[39;49;00m\u001b[33m\"\u001b[39;49;00m\u001b[33m,0.0174532925199433]]\u001b[39;49;00m\u001b[33m'\u001b[39;49;00m, \u001b[33m\"\u001b[39;49;00m\u001b[33mWGS_1984_(ITRF00)_To_NAD_1983\u001b[39;49;00m\u001b[33m\"\u001b[39;49;00m, \u001b[33m'\u001b[39;49;00m\u001b[33mPROJCS[\u001b[39;49;00m\u001b[33m\"\u001b[39;49;00m\u001b[33mNAD_1983_UTM_Zone_15N\u001b[39;49;00m\u001b[33m\"\u001b[39;49;00m\u001b[33m,GEOGCS[\u001b[39;49;00m\u001b[33m\"\u001b[39;49;00m\u001b[33mGCS_North_American_1983\u001b[39;49;00m\u001b[33m\"\u001b[39;49;00m\u001b[33m,DATUM[\u001b[39;49;00m\u001b[33m\"\u001b[39;49;00m\u001b[33mD_North_American_1983\u001b[39;49;00m\u001b[33m\"\u001b[39;49;00m\u001b[33m,SPHEROID[\u001b[39;49;00m\u001b[33m\"\u001b[39;49;00m\u001b[33mGRS_1980\u001b[39;49;00m\u001b[33m\"\u001b[39;49;00m\u001b[33m,6378137.0,298.257222101]],PRIMEM[\u001b[39;49;00m\u001b[33m\"\u001b[39;49;00m\u001b[33mGreenwich\u001b[39;49;00m\u001b[33m\"\u001b[39;49;00m\u001b[33m,0.0],UNIT[\u001b[39;49;00m\u001b[33m\"\u001b[39;49;00m\u001b[33mDegree\u001b[39;49;00m\u001b[33m\"\u001b[39;49;00m\u001b[33m,0.0174532925199433]],PROJECTION[\u001b[39;49;00m\u001b[33m\"\u001b[39;49;00m\u001b[33mTransverse_Mercator\u001b[39;49;00m\u001b[33m\"\u001b[39;49;00m\u001b[33m],PARAMETER[\u001b[39;49;00m\u001b[33m\"\u001b[39;49;00m\u001b[33mFalse_Easting\u001b[39;49;00m\u001b[33m\"\u001b[39;49;00m\u001b[33m,500000.0],PARAMETER[\u001b[39;49;00m\u001b[33m\"\u001b[39;49;00m\u001b[33mFalse_Northing\u001b[39;49;00m\u001b[33m\"\u001b[39;49;00m\u001b[33m,0.0],PARAMETER[\u001b[39;49;00m\u001b[33m\"\u001b[39;49;00m\u001b[33mCentral_Meridian\u001b[39;49;00m\u001b[33m\"\u001b[39;49;00m\u001b[33m,-93.0],PARAMETER[\u001b[39;49;00m\u001b[33m\"\u001b[39;49;00m\u001b[33mScale_Factor\u001b[39;49;00m\u001b[33m\"\u001b[39;49;00m\u001b[33m,0.9996],PARAMETER[\u001b[39;49;00m\u001b[33m\"\u001b[39;49;00m\u001b[33mLatitude_Of_Origin\u001b[39;49;00m\u001b[33m\"\u001b[39;49;00m\u001b[33m,0.0],UNIT[\u001b[39;49;00m\u001b[33m\"\u001b[39;49;00m\u001b[33mMeter\u001b[39;49;00m\u001b[33m\"\u001b[39;49;00m\u001b[33m,1.0]]\u001b[39;49;00m\u001b[33m'\u001b[39;49;00m, \u001b[33m\"\u001b[39;49;00m\u001b[33mNO_PRESERVE_SHAPE\u001b[39;49;00m\u001b[33m\"\u001b[39;49;00m, \u001b[34mNone\u001b[39;49;00m, \u001b[33m\"\u001b[39;49;00m\u001b[33mNO_VERTICAL\u001b[39;49;00m\u001b[33m\"\u001b[39;49;00m)\n",
      "File \u001b[0;34mC:\\Program Files\\ArcGIS\\Pro\\Resources\\ArcPy\\arcpy\\management.py\u001b[0m, in \u001b[0;32mProject\u001b[0m:\nLine \u001b[0;34m13779\u001b[0m: \u001b[34mraise\u001b[39;49;00m e\n",
      "File \u001b[0;34mC:\\Program Files\\ArcGIS\\Pro\\Resources\\ArcPy\\arcpy\\management.py\u001b[0m, in \u001b[0;32mProject\u001b[0m:\nLine \u001b[0;34m13776\u001b[0m: retval = convertArcObjectToPythonObject(gp.Project_management(*gp_fixargs((in_dataset, out_dataset, out_coor_system, transform_method, in_coor_system, preserve_shape, max_deviation, vertical), \u001b[34mTrue\u001b[39;49;00m)))\n",
      "File \u001b[0;34mC:\\Program Files\\ArcGIS\\Pro\\Resources\\ArcPy\\arcpy\\geoprocessing\\_base.py\u001b[0m, in \u001b[0;32m<lambda>\u001b[0m:\nLine \u001b[0;34m512\u001b[0m:   \u001b[34mreturn\u001b[39;49;00m \u001b[34mlambda\u001b[39;49;00m *args: val(*gp_fixargs(args, \u001b[34mTrue\u001b[39;49;00m))\n",
      "\u001b[0;31mExecuteError\u001b[0m: ERROR 000601: Cannot delete C:\\Users\\tande\\Documents\\GitHub\\QualityAirQualityCities\\PurpleAirQAQC\\mpls_8km_Project.shp.  May be locked by another application.\nFailed to execute (Project).\n\n\u001b[0;31m---------------------------------------------------------------------------\u001b[0m"
     ]
    }
   ],
   "source": [
    "#Changing the projection from UMT 15 to NAD 84\n",
    "arcpy.management.Project(r\"C:\\Users\\tande\\Documents\\GitHub\\QualityAirQualityCities\\PurpleAirQAQC\\mpls_8km.shp\", r\"C:\\Users\\tande\\Documents\\GitHub\\QualityAirQualityCities\\PurpleAirQAQC\\mpls_8km_Project\", 'GEOGCS[\"GCS_WGS_1984\",DATUM[\"D_WGS_1984\",SPHEROID[\"WGS_1984\",6378137.0,298.257223563]],PRIMEM[\"Greenwich\",0.0],UNIT[\"Degree\",0.0174532925199433]]', \"WGS_1984_(ITRF00)_To_NAD_1983\", 'PROJCS[\"NAD_1983_UTM_Zone_15N\",GEOGCS[\"GCS_North_American_1983\",DATUM[\"D_North_American_1983\",SPHEROID[\"GRS_1980\",6378137.0,298.257222101]],PRIMEM[\"Greenwich\",0.0],UNIT[\"Degree\",0.0174532925199433]],PROJECTION[\"Transverse_Mercator\"],PARAMETER[\"False_Easting\",500000.0],PARAMETER[\"False_Northing\",0.0],PARAMETER[\"Central_Meridian\",-93.0],PARAMETER[\"Scale_Factor\",0.9996],PARAMETER[\"Latitude_Of_Origin\",0.0],UNIT[\"Meter\",1.0]]', \"NO_PRESERVE_SHAPE\", None, \"NO_VERTICAL\")"
   ]
  },
  {
   "cell_type": "code",
   "execution_count": 221,
   "metadata": {},
   "outputs": [
    {
     "data": {
      "text/html": [
       "<div class='gpresult'><h2>Messages</h2><div id='messages' data-messages='[\"Start Time: Sunday, March 26, 2023 4:23:08 PM\",\"Succeeded at Sunday, March 26, 2023 4:23:09 PM (Elapsed Time: 0.12 seconds)\"]' data-show='true'><div id = 'default' /></div></div>"
      ],
      "text/plain": [
       "<Result 'C:\\\\Users\\\\tande\\\\Documents\\\\GitHub\\\\QualityAirQualityCities\\\\PurpleAirQAQC\\\\mpls_8km_Proje_MinimumBoundi.shp'>"
      ]
     },
     "execution_count": 221,
     "metadata": {},
     "output_type": "execute_result"
    }
   ],
   "source": [
    "#Create bounding box\n",
    "arcpy.management.MinimumBoundingGeometry(r\"C:\\Users\\tande\\Documents\\GitHub\\QualityAirQualityCities\\PurpleAirQAQC\\mpls_8km_Project.shp\", r\"C:\\Users\\tande\\Documents\\GitHub\\QualityAirQualityCities\\PurpleAirQAQC\\mpls_8km_Proje_MinimumBoundi.shp\", \"RECTANGLE_BY_AREA\")"
   ]
  },
  {
   "cell_type": "code",
   "execution_count": 222,
   "metadata": {},
   "outputs": [
    {
     "data": {
      "text/html": [
       "<div class='gpresult'><h2>Messages</h2><div id='messages' data-messages='[\"Start Time: Sunday, March 26, 2023 4:23:11 PM\",\"Succeeded at Sunday, March 26, 2023 4:23:11 PM (Elapsed Time: 0.28 seconds)\"]' data-show='true'><div id = 'default' /></div></div>"
      ],
      "text/plain": [
       "<Result 'C:\\\\Users\\\\tande\\\\Documents\\\\GitHub\\\\QualityAirQualityCities\\\\PurpleAirQAQC\\\\mpls_bounds.shp'>"
      ]
     },
     "execution_count": 222,
     "metadata": {},
     "output_type": "execute_result"
    }
   ],
   "source": [
    "#Converting bounding box to feature class\n",
    "arcpy.conversion.FeatureClassToFeatureClass(\"mpls_8km_Proje_MinimumBoundi\", r\"C:\\Users\\tande\\Documents\\GitHub\\QualityAirQualityCities\\PurpleAirQAQC\", \"mpls_bounds.shp\", '', 'CTU_ID \"CTU_ID\" true true false 19 Double 0 0,First,#,mpls_8km_Proje_MinimumBoundi,CTU_ID,-1,-1;CTU_NAME \"CTU_NAME\" true true false 254 Text 0 0,First,#,mpls_8km_Proje_MinimumBoundi,CTU_NAME,0,254;CTU_CODE \"CTU_CODE\" true true false 254 Text 0 0,First,#,mpls_8km_Proje_MinimumBoundi,CTU_CODE,0,254;BUFF_DIST \"BUFF_DIST\" true true false 19 Double 0 0,First,#,mpls_8km_Proje_MinimumBoundi,BUFF_DIST,-1,-1;ORIG_FID \"ORIG_FID\" true true false 10 Long 0 10,First,#,mpls_8km_Proje_MinimumBoundi,ORIG_FID,-1,-1;ORIG_FID_1 \"ORIG_FID_1\" true true false 10 Long 0 10,First,#,mpls_8km_Proje_MinimumBoundi,ORIG_FID_1,-1,-1', '')"
   ]
  },
  {
   "cell_type": "code",
   "execution_count": 12,
   "metadata": {},
   "outputs": [],
   "source": [
    "#Setting lat/long for PurpleAir API Parameters\n",
    "nwlng = arcpy.Describe(r\"C:\\Users\\tande\\Documents\\GitHub\\QualityAirQualityCities\\PurpleAirQAQC\\mpls_bounds.shp\").extent.XMin\n",
    "nwlat = arcpy.Describe(r\"C:\\Users\\tande\\Documents\\GitHub\\QualityAirQualityCities\\PurpleAirQAQC\\mpls_bounds.shp\").extent.YMax\n",
    "selng = arcpy.Describe(r\"C:\\Users\\tande\\Documents\\GitHub\\QualityAirQualityCities\\PurpleAirQAQC\\mpls_bounds.shp\").extent.XMax\n",
    "selat = arcpy.Describe(r\"C:\\Users\\tande\\Documents\\GitHub\\QualityAirQualityCities\\PurpleAirQAQC\\mpls_bounds.shp\").extent.YMin"
   ]
  },
  {
   "cell_type": "markdown",
   "metadata": {},
   "source": [
    "## Importing PurpleAir STATION Data from PurpleAir API"
   ]
  },
  {
   "cell_type": "code",
   "execution_count": 9,
   "metadata": {},
   "outputs": [],
   "source": [
    "def getSensorsData(query='', api_read_key=''):\n",
    "\n",
    "    # my_url is assigned the URL we are going to send our request to.\n",
    "    url = 'https://api.purpleair.com/v1/sensors?' + query\n",
    "    \n",
    "    print('Here is the full url for the API call:\\n\\n', url)\n",
    "\n",
    "    # my_headers is assigned the context of our request we want to make. In this case\n",
    "    # we will pass through our API read key using the variable created above.\n",
    "    my_headers = {'X-API-Key':api_read_key}\n",
    "\n",
    "    # This line creates and sends the request and then assigns its response to the\n",
    "    # variable, r.\n",
    "    response = requests.get(url, headers=my_headers)\n",
    "\n",
    "    # We then return the response we received.\n",
    "    return response"
   ]
  },
  {
   "cell_type": "code",
   "execution_count": 10,
   "metadata": {},
   "outputs": [
    {
     "name": "stdout",
     "output_type": "stream",
     "text": [
      "Please enter your Purple Air api key51592903-B445-11ED-B6F4-42010A800007\n"
     ]
    }
   ],
   "source": [
    "#PurpleAir API 'read' key\n",
    "api = input('Please enter your Purple Air api key')"
   ]
  },
  {
   "cell_type": "code",
   "execution_count": 13,
   "metadata": {},
   "outputs": [
    {
     "name": "stdout",
     "output_type": "stream",
     "text": [
      "nwlng=-93.43083716771733&nwlat=45.12366876357701&selng=-93.09225748816463&selat=44.81791263266678\n"
     ]
    }
   ],
   "source": [
    "#Set bounding strings for API parameters\n",
    "bounds_strings = [f'nwlng={nwlng}',\n",
    "                  f'nwlat={nwlat}',\n",
    "                  f'selng={selng}',\n",
    "                  f'selat={selat}']\n",
    "\n",
    "bounds_string = '&'.join(bounds_strings)\n",
    "\n",
    "print(bounds_string)"
   ]
  },
  {
   "cell_type": "code",
   "execution_count": 14,
   "metadata": {},
   "outputs": [
    {
     "name": "stdout",
     "output_type": "stream",
     "text": [
      "fields=name%2Cfirmware_version%2Cdate_created%2Clast_modified%2Clast_seen%2Cuptime%2Cposition_rating%2Cchannel_state%2Cchannel_flags%2Caltitude%2Clocation_type%2Clatitude%2Clongitude\n"
     ]
    }
   ],
   "source": [
    "#Setting parameters for API\n",
    "fields = ['name', 'firmware_version','date_created','last_modified','last_seen','uptime','position_rating','channel_state','channel_flags','altitude',\n",
    "          'location_type','latitude', 'longitude']\n",
    "\n",
    "\n",
    "#ignore this - I am trying to pull both station params as well as real-time\n",
    "#fields = ['time_stamp', 'humidity', 'temperature', 'pressure', 'pm2.5']\n",
    "\n",
    "fields_string = 'fields=' + '%2C'.join(fields)\n",
    "\n",
    "print(fields_string)"
   ]
  },
  {
   "cell_type": "code",
   "execution_count": 15,
   "metadata": {},
   "outputs": [
    {
     "name": "stdout",
     "output_type": "stream",
     "text": [
      "fields=name%2Cfirmware_version%2Cdate_created%2Clast_modified%2Clast_seen%2Cuptime%2Cposition_rating%2Cchannel_state%2Cchannel_flags%2Caltitude%2Clocation_type%2Clatitude%2Clongitude&nwlng=-93.43083716771733&nwlat=45.12366876357701&selng=-93.09225748816463&selat=44.81791263266678\n"
     ]
    }
   ],
   "source": [
    "#finalizing query for API function\n",
    "query_string = '&'.join([fields_string, bounds_string])\n",
    "\n",
    "print(query_string)"
   ]
  },
  {
   "cell_type": "code",
   "execution_count": 16,
   "metadata": {},
   "outputs": [
    {
     "name": "stdout",
     "output_type": "stream",
     "text": [
      "Here is the full url for the API call:\n",
      "\n",
      " https://api.purpleair.com/v1/sensors?fields=name%2Cfirmware_version%2Cdate_created%2Clast_modified%2Clast_seen%2Cuptime%2Cposition_rating%2Cchannel_state%2Cchannel_flags%2Caltitude%2Clocation_type%2Clatitude%2Clongitude&nwlng=-93.43083716771733&nwlat=45.12366876357701&selng=-93.09225748816463&selat=44.81791263266678\n"
     ]
    }
   ],
   "source": [
    "#calling the API\n",
    "response = getSensorsData(query_string, api)"
   ]
  },
  {
   "cell_type": "code",
   "execution_count": 17,
   "metadata": {},
   "outputs": [
    {
     "name": "stdout",
     "output_type": "stream",
     "text": [
      "<class 'pandas.core.frame.DataFrame'>\n",
      "RangeIndex: 88 entries, 0 to 87\n",
      "Data columns (total 14 columns):\n",
      " #   Column            Non-Null Count  Dtype \n",
      "---  ------            --------------  ----- \n",
      " 0   sensor_index      88 non-null     object\n",
      " 1   last_modified     88 non-null     object\n",
      " 2   date_created      88 non-null     object\n",
      " 3   last_seen         88 non-null     object\n",
      " 4   name              88 non-null     object\n",
      " 5   location_type     88 non-null     object\n",
      " 6   firmware_version  88 non-null     object\n",
      " 7   uptime            88 non-null     object\n",
      " 8   position_rating   88 non-null     object\n",
      " 9   latitude          88 non-null     object\n",
      " 10  longitude         88 non-null     object\n",
      " 11  altitude          88 non-null     object\n",
      " 12  channel_state     88 non-null     object\n",
      " 13  channel_flags     88 non-null     object\n",
      "dtypes: object(14)\n",
      "memory usage: 9.8+ KB\n"
     ]
    }
   ],
   "source": [
    "response_dict = response.json() # Read response as a json (dictionary)\n",
    "\n",
    "col_names = response_dict['fields']\n",
    "data = np.array(response_dict['data'])\n",
    "\n",
    "df_stations = pd.DataFrame(data, columns = col_names)\n",
    "\n",
    "df_stations.info()"
   ]
  },
  {
   "cell_type": "markdown",
   "metadata": {},
   "source": [
    "## Cleaning PurpleAir Station Data"
   ]
  },
  {
   "cell_type": "code",
   "execution_count": 23,
   "metadata": {},
   "outputs": [
    {
     "data": {
      "text/html": [
       "<div>\n",
       "<style scoped>\n",
       "    .dataframe tbody tr th:only-of-type {\n",
       "        vertical-align: middle;\n",
       "    }\n",
       "\n",
       "    .dataframe tbody tr th {\n",
       "        vertical-align: top;\n",
       "    }\n",
       "\n",
       "    .dataframe thead th {\n",
       "        text-align: right;\n",
       "    }\n",
       "</style>\n",
       "<table border=\"1\" class=\"dataframe\">\n",
       "  <thead>\n",
       "    <tr style=\"text-align: right;\">\n",
       "      <th></th>\n",
       "      <th>sensor_index</th>\n",
       "      <th>last_modified</th>\n",
       "      <th>date_created</th>\n",
       "      <th>last_seen</th>\n",
       "      <th>name</th>\n",
       "      <th>location_type</th>\n",
       "      <th>firmware_version</th>\n",
       "      <th>uptime</th>\n",
       "      <th>position_rating</th>\n",
       "      <th>latitude</th>\n",
       "      <th>longitude</th>\n",
       "      <th>altitude</th>\n",
       "      <th>channel_state</th>\n",
       "      <th>channel_flags</th>\n",
       "    </tr>\n",
       "  </thead>\n",
       "  <tbody>\n",
       "    <tr>\n",
       "      <th>0</th>\n",
       "      <td>3088</td>\n",
       "      <td>1504993349</td>\n",
       "      <td>1504040633</td>\n",
       "      <td>1679866346</td>\n",
       "      <td>Howe Neighborhood</td>\n",
       "      <td>0</td>\n",
       "      <td>6.06b</td>\n",
       "      <td>34880</td>\n",
       "      <td>5</td>\n",
       "      <td>44.935818</td>\n",
       "      <td>-93.21752</td>\n",
       "      <td>833</td>\n",
       "      <td>3</td>\n",
       "      <td>0</td>\n",
       "    </tr>\n",
       "    <tr>\n",
       "      <th>1</th>\n",
       "      <td>5582</td>\n",
       "      <td>1660166545</td>\n",
       "      <td>1514335701</td>\n",
       "      <td>1679866313</td>\n",
       "      <td>Vircroft Ashnia</td>\n",
       "      <td>0</td>\n",
       "      <td>7.02</td>\n",
       "      <td>636</td>\n",
       "      <td>5</td>\n",
       "      <td>44.891655</td>\n",
       "      <td>-93.34291</td>\n",
       "      <td>899</td>\n",
       "      <td>3</td>\n",
       "      <td>0</td>\n",
       "    </tr>\n",
       "    <tr>\n",
       "      <th>2</th>\n",
       "      <td>137876</td>\n",
       "      <td>1637086469</td>\n",
       "      <td>1637082783</td>\n",
       "      <td>1679866266</td>\n",
       "      <td>King Field Indoors</td>\n",
       "      <td>1</td>\n",
       "      <td>7.02</td>\n",
       "      <td>23292</td>\n",
       "      <td>0</td>\n",
       "      <td>44.928917</td>\n",
       "      <td>-93.284706</td>\n",
       "      <td>886</td>\n",
       "      <td>3</td>\n",
       "      <td>0</td>\n",
       "    </tr>\n",
       "    <tr>\n",
       "      <th>3</th>\n",
       "      <td>11134</td>\n",
       "      <td>1529977499</td>\n",
       "      <td>1527023589</td>\n",
       "      <td>1679866266</td>\n",
       "      <td>Linden Hills</td>\n",
       "      <td>0</td>\n",
       "      <td>7.02</td>\n",
       "      <td>4224</td>\n",
       "      <td>5</td>\n",
       "      <td>44.92776</td>\n",
       "      <td>-93.32235</td>\n",
       "      <td>886</td>\n",
       "      <td>3</td>\n",
       "      <td>0</td>\n",
       "    </tr>\n",
       "    <tr>\n",
       "      <th>4</th>\n",
       "      <td>142718</td>\n",
       "      <td>1675359061</td>\n",
       "      <td>1642013869</td>\n",
       "      <td>1679866315</td>\n",
       "      <td>City of Minneapolis Community Air Monitoring P...</td>\n",
       "      <td>0</td>\n",
       "      <td>7.02</td>\n",
       "      <td>8746</td>\n",
       "      <td>5</td>\n",
       "      <td>44.995792</td>\n",
       "      <td>-93.295395</td>\n",
       "      <td>865</td>\n",
       "      <td>3</td>\n",
       "      <td>0</td>\n",
       "    </tr>\n",
       "  </tbody>\n",
       "</table>\n",
       "</div>"
      ],
      "text/plain": [
       "  sensor_index last_modified date_created  ... altitude channel_state channel_flags\n",
       "0         3088    1504993349   1504040633  ...      833             3             0\n",
       "1         5582    1660166545   1514335701  ...      899             3             0\n",
       "2       137876    1637086469   1637082783  ...      886             3             0\n",
       "3        11134    1529977499   1527023589  ...      886             3             0\n",
       "4       142718    1675359061   1642013869  ...      865             3             0\n",
       "\n",
       "[5 rows x 14 columns]"
      ]
     },
     "execution_count": 23,
     "metadata": {},
     "output_type": "execute_result"
    }
   ],
   "source": [
    "#visualizing API response\n",
    "df_stations.head()"
   ]
  },
  {
   "cell_type": "code",
   "execution_count": 28,
   "metadata": {},
   "outputs": [
    {
     "data": {
      "text/plain": [
       "80"
      ]
     },
     "execution_count": 28,
     "metadata": {},
     "output_type": "execute_result"
    }
   ],
   "source": [
    "#filtering for all 'outside' sensors and removing 'inside' sensors\n",
    "outside_sensors = df_stations[df_stations.location_type=='0'] # 0 = outside\n",
    "\n",
    "len(outside_sensors)"
   ]
  },
  {
   "cell_type": "code",
   "execution_count": 27,
   "metadata": {},
   "outputs": [],
   "source": [
    "#Converting the UNIX dates to time stamps\n",
    "\n",
    "#keeping commented for now because this is a new addition and I will need to update my SQL table to accommodate\n",
    "#outside_sensors['last_seen'] = outside_sensors.last_seen.apply(lambda x: dt.datetime.fromtimestamp(int(x))).values\n",
    "#outside_sensors['last_modified'] = outside_sensors.last_modified.apply(lambda x: dt.datetime.fromtimestamp(int(x))).values\n",
    "#outside_sensors['date_created'] = outside_sensors.date_created.apply(lambda x: dt.datetime.fromtimestamp(int(x))).values\n",
    "\n",
    "#print('Least recent sensor was seen: ', last_seen.min())\n",
    "#print('Most recent sensor was seen: ', last_seen.max())"
   ]
  },
  {
   "cell_type": "code",
   "execution_count": 29,
   "metadata": {},
   "outputs": [
    {
     "data": {
      "text/html": [
       "<div>\n",
       "<style scoped>\n",
       "    .dataframe tbody tr th:only-of-type {\n",
       "        vertical-align: middle;\n",
       "    }\n",
       "\n",
       "    .dataframe tbody tr th {\n",
       "        vertical-align: top;\n",
       "    }\n",
       "\n",
       "    .dataframe thead th {\n",
       "        text-align: right;\n",
       "    }\n",
       "</style>\n",
       "<table border=\"1\" class=\"dataframe\">\n",
       "  <thead>\n",
       "    <tr style=\"text-align: right;\">\n",
       "      <th></th>\n",
       "      <th>sensor_index</th>\n",
       "      <th>last_modified</th>\n",
       "      <th>date_created</th>\n",
       "      <th>last_seen</th>\n",
       "      <th>name</th>\n",
       "      <th>location_type</th>\n",
       "      <th>firmware_version</th>\n",
       "      <th>uptime</th>\n",
       "      <th>position_rating</th>\n",
       "      <th>latitude</th>\n",
       "      <th>longitude</th>\n",
       "      <th>altitude</th>\n",
       "      <th>channel_state</th>\n",
       "      <th>channel_flags</th>\n",
       "    </tr>\n",
       "  </thead>\n",
       "  <tbody>\n",
       "    <tr>\n",
       "      <th>0</th>\n",
       "      <td>3088</td>\n",
       "      <td>1504993349</td>\n",
       "      <td>1504040633</td>\n",
       "      <td>1679866346</td>\n",
       "      <td>Howe Neighborhood</td>\n",
       "      <td>0</td>\n",
       "      <td>6.06b</td>\n",
       "      <td>34880</td>\n",
       "      <td>5</td>\n",
       "      <td>44.935818</td>\n",
       "      <td>-93.21752</td>\n",
       "      <td>833</td>\n",
       "      <td>3</td>\n",
       "      <td>0</td>\n",
       "    </tr>\n",
       "    <tr>\n",
       "      <th>1</th>\n",
       "      <td>5582</td>\n",
       "      <td>1660166545</td>\n",
       "      <td>1514335701</td>\n",
       "      <td>1679866313</td>\n",
       "      <td>Vircroft Ashnia</td>\n",
       "      <td>0</td>\n",
       "      <td>7.02</td>\n",
       "      <td>636</td>\n",
       "      <td>5</td>\n",
       "      <td>44.891655</td>\n",
       "      <td>-93.34291</td>\n",
       "      <td>899</td>\n",
       "      <td>3</td>\n",
       "      <td>0</td>\n",
       "    </tr>\n",
       "    <tr>\n",
       "      <th>3</th>\n",
       "      <td>11134</td>\n",
       "      <td>1529977499</td>\n",
       "      <td>1527023589</td>\n",
       "      <td>1679866266</td>\n",
       "      <td>Linden Hills</td>\n",
       "      <td>0</td>\n",
       "      <td>7.02</td>\n",
       "      <td>4224</td>\n",
       "      <td>5</td>\n",
       "      <td>44.92776</td>\n",
       "      <td>-93.32235</td>\n",
       "      <td>886</td>\n",
       "      <td>3</td>\n",
       "      <td>0</td>\n",
       "    </tr>\n",
       "    <tr>\n",
       "      <th>4</th>\n",
       "      <td>142718</td>\n",
       "      <td>1675359061</td>\n",
       "      <td>1642013869</td>\n",
       "      <td>1679866315</td>\n",
       "      <td>City of Minneapolis Community Air Monitoring P...</td>\n",
       "      <td>0</td>\n",
       "      <td>7.02</td>\n",
       "      <td>8746</td>\n",
       "      <td>5</td>\n",
       "      <td>44.995792</td>\n",
       "      <td>-93.295395</td>\n",
       "      <td>865</td>\n",
       "      <td>3</td>\n",
       "      <td>0</td>\n",
       "    </tr>\n",
       "    <tr>\n",
       "      <th>5</th>\n",
       "      <td>142720</td>\n",
       "      <td>1675359105</td>\n",
       "      <td>1642013875</td>\n",
       "      <td>1679866332</td>\n",
       "      <td>City of Minneapolis community air monitoring p...</td>\n",
       "      <td>0</td>\n",
       "      <td>7.02</td>\n",
       "      <td>63349</td>\n",
       "      <td>5</td>\n",
       "      <td>44.95617</td>\n",
       "      <td>-93.25471</td>\n",
       "      <td>856</td>\n",
       "      <td>3</td>\n",
       "      <td>0</td>\n",
       "    </tr>\n",
       "  </tbody>\n",
       "</table>\n",
       "</div>"
      ],
      "text/plain": [
       "  sensor_index last_modified date_created  ... altitude channel_state channel_flags\n",
       "0         3088    1504993349   1504040633  ...      833             3             0\n",
       "1         5582    1660166545   1514335701  ...      899             3             0\n",
       "3        11134    1529977499   1527023589  ...      886             3             0\n",
       "4       142718    1675359061   1642013869  ...      865             3             0\n",
       "5       142720    1675359105   1642013875  ...      856             3             0\n",
       "\n",
       "[5 rows x 14 columns]"
      ]
     },
     "execution_count": 29,
     "metadata": {},
     "output_type": "execute_result"
    }
   ],
   "source": [
    "outside_sensors.head()"
   ]
  },
  {
   "cell_type": "markdown",
   "metadata": {},
   "source": [
    "## Exporting cleaned data CSV to use with Arcpy"
   ]
  },
  {
   "cell_type": "code",
   "execution_count": 30,
   "metadata": {},
   "outputs": [
    {
     "ename": "FileNotFoundError",
     "evalue": "[Errno 2] No such file or directory: 'purpleair_stations_df.csv'",
     "output_type": "error",
     "traceback": [
      "\u001b[0;31m---------------------------------------------------------------------------\u001b[0m\n\u001b[0;31mFileNotFoundError\u001b[0m                         Traceback (most recent call last)",
      "In  \u001b[0;34m[30]\u001b[0m:\nLine \u001b[0;34m2\u001b[0m:     purpleair_stations_df = pd.read_csv(\u001b[33m'\u001b[39;49;00m\u001b[33mpurpleair_stations_df.csv\u001b[39;49;00m\u001b[33m'\u001b[39;49;00m)\n",
      "File \u001b[0;34mC:\\Users\\tande\\AppData\\Local\\ESRI\\conda\\envs\\gis5572\\lib\\site-packages\\pandas\\util\\_decorators.py\u001b[0m, in \u001b[0;32mwrapper\u001b[0m:\nLine \u001b[0;34m311\u001b[0m:   \u001b[34mreturn\u001b[39;49;00m func(*args, **kwargs)\n",
      "File \u001b[0;34mC:\\Users\\tande\\AppData\\Local\\ESRI\\conda\\envs\\gis5572\\lib\\site-packages\\pandas\\io\\parsers\\readers.py\u001b[0m, in \u001b[0;32mread_csv\u001b[0m:\nLine \u001b[0;34m586\u001b[0m:   \u001b[34mreturn\u001b[39;49;00m _read(filepath_or_buffer, kwds)\n",
      "File \u001b[0;34mC:\\Users\\tande\\AppData\\Local\\ESRI\\conda\\envs\\gis5572\\lib\\site-packages\\pandas\\io\\parsers\\readers.py\u001b[0m, in \u001b[0;32m_read\u001b[0m:\nLine \u001b[0;34m482\u001b[0m:   parser = TextFileReader(filepath_or_buffer, **kwds)\n",
      "File \u001b[0;34mC:\\Users\\tande\\AppData\\Local\\ESRI\\conda\\envs\\gis5572\\lib\\site-packages\\pandas\\io\\parsers\\readers.py\u001b[0m, in \u001b[0;32m__init__\u001b[0m:\nLine \u001b[0;34m811\u001b[0m:   \u001b[36mself\u001b[39;49;00m._engine = \u001b[36mself\u001b[39;49;00m._make_engine(\u001b[36mself\u001b[39;49;00m.engine)\n",
      "File \u001b[0;34mC:\\Users\\tande\\AppData\\Local\\ESRI\\conda\\envs\\gis5572\\lib\\site-packages\\pandas\\io\\parsers\\readers.py\u001b[0m, in \u001b[0;32m_make_engine\u001b[0m:\nLine \u001b[0;34m1040\u001b[0m:  \u001b[34mreturn\u001b[39;49;00m mapping[engine](\u001b[36mself\u001b[39;49;00m.f, **\u001b[36mself\u001b[39;49;00m.options)  \u001b[37m# type: ignore[call-arg]\u001b[39;49;00m\n",
      "File \u001b[0;34mC:\\Users\\tande\\AppData\\Local\\ESRI\\conda\\envs\\gis5572\\lib\\site-packages\\pandas\\io\\parsers\\c_parser_wrapper.py\u001b[0m, in \u001b[0;32m__init__\u001b[0m:\nLine \u001b[0;34m51\u001b[0m:    \u001b[36mself\u001b[39;49;00m._open_handles(src, kwds)\n",
      "File \u001b[0;34mC:\\Users\\tande\\AppData\\Local\\ESRI\\conda\\envs\\gis5572\\lib\\site-packages\\pandas\\io\\parsers\\base_parser.py\u001b[0m, in \u001b[0;32m_open_handles\u001b[0m:\nLine \u001b[0;34m222\u001b[0m:   \u001b[36mself\u001b[39;49;00m.handles = get_handle(\n",
      "File \u001b[0;34mC:\\Users\\tande\\AppData\\Local\\ESRI\\conda\\envs\\gis5572\\lib\\site-packages\\pandas\\io\\common.py\u001b[0m, in \u001b[0;32mget_handle\u001b[0m:\nLine \u001b[0;34m702\u001b[0m:   handle = \u001b[36mopen\u001b[39;49;00m(\n",
      "\u001b[0;31mFileNotFoundError\u001b[0m: [Errno 2] No such file or directory: 'purpleair_stations_df.csv'\n\u001b[0;31m---------------------------------------------------------------------------\u001b[0m"
     ]
    }
   ],
   "source": [
    "purpleair_stations_df = outside_sensors.to_csv(r'C:\\Users\\tande\\Documents\\GitHub\\QualityAirQualityCities\\PurpleAirQAQC\\purpleair_stations_df.csv', index = False)\n",
    "purpleair_stations_df = pd.read_csv('purpleair_stations_df.csv')"
   ]
  },
  {
   "cell_type": "markdown",
   "metadata": {},
   "source": [
    "## Let the QAQC Begin!"
   ]
  },
  {
   "cell_type": "code",
   "execution_count": 26,
   "metadata": {},
   "outputs": [
    {
     "data": {
      "text/html": [
       "<div class='gpresult'><h2>Messages</h2><div id='messages' data-messages='[\"Start Time: Saturday, March 25, 2023 10:22:28 AM\",\"Succeeded at Saturday, March 25, 2023 10:22:29 AM (Elapsed Time: 1.74 seconds)\"]' data-show='true'><div id = 'default' /></div></div>"
      ],
      "text/plain": [
       "<Result 'C:\\\\Users\\\\tande\\\\Documents\\\\ArcGIS\\\\Projects\\\\PurpleAir_PM_QAQC\\\\PurpleAir_PM_QAQC.gdb\\\\purpleair_stations_XYTableToPoint'>"
      ]
     },
     "execution_count": 26,
     "metadata": {},
     "output_type": "execute_result"
    }
   ],
   "source": [
    "#visual inspection of points\n",
    "\n",
    "arcpy.management.XYTableToPoint(r\"C:\\Users\\tande\\Documents\\GitHub\\QualityAirQualityCities\\PurpleAirQAQC\\purpleair_stations_df.csv\", r\"C:\\Users\\tande\\Documents\\ArcGIS\\Projects\\PurpleAir_PM_QAQC\\PurpleAir_PM_QAQC.gdb\\purpleair_stations_XYTableToPoint\", \"longitude\", \"latitude\", None, 'GEOGCS[\"GCS_WGS_1984\",DATUM[\"D_WGS_1984\",SPHEROID[\"WGS_1984\",6378137.0,298.257223563]],PRIMEM[\"Greenwich\",0.0],UNIT[\"Degree\",0.0174532925199433]];-400 -400 1000000000;-100000 10000;-100000 10000;8.98315284119521E-09;0.001;0.001;IsHighPrecision')"
   ]
  },
  {
   "cell_type": "code",
   "execution_count": 27,
   "metadata": {},
   "outputs": [
    {
     "name": "stdout",
     "output_type": "stream",
     "text": [
      "No problems found\n"
     ]
    }
   ],
   "source": [
    "#checking the geometry of lat/longs\n",
    "result = arcpy.management.CheckGeometry(\"purpleair_stations_XYTableToPoint\", r\"C:\\Users\\tande\\Documents\\ArcGIS\\Projects\\PurpleAir_PM_QAQC\\PurpleAir_PM_QAQC.gdb\\purpleair_stat_CheckGeometry\", \"OGC\")\n",
    "if result[0] == 'true':\n",
    "    print(result.getMessages())\n",
    "\n",
    "else:\n",
    "    # No problems found\n",
    "    print(\"No problems found\")"
   ]
  },
  {
   "cell_type": "code",
   "execution_count": 162,
   "metadata": {},
   "outputs": [
    {
     "data": {
      "text/html": [
       "<div>\n",
       "<style scoped>\n",
       "    .dataframe tbody tr th:only-of-type {\n",
       "        vertical-align: middle;\n",
       "    }\n",
       "\n",
       "    .dataframe tbody tr th {\n",
       "        vertical-align: top;\n",
       "    }\n",
       "\n",
       "    .dataframe thead th {\n",
       "        text-align: right;\n",
       "    }\n",
       "</style>\n",
       "<table border=\"1\" class=\"dataframe\">\n",
       "  <thead>\n",
       "    <tr style=\"text-align: right;\">\n",
       "      <th></th>\n",
       "      <th>sensor_index</th>\n",
       "      <th>last_modified</th>\n",
       "      <th>date_created</th>\n",
       "      <th>last_seen</th>\n",
       "      <th>name</th>\n",
       "      <th>location_type</th>\n",
       "      <th>firmware_version</th>\n",
       "      <th>uptime</th>\n",
       "      <th>position_rating</th>\n",
       "      <th>latitude</th>\n",
       "      <th>longitude</th>\n",
       "      <th>altitude</th>\n",
       "      <th>channel_state</th>\n",
       "      <th>channel_flags</th>\n",
       "    </tr>\n",
       "  </thead>\n",
       "  <tbody>\n",
       "    <tr>\n",
       "      <th>0</th>\n",
       "      <td>3088</td>\n",
       "      <td>1504993349</td>\n",
       "      <td>1504040633</td>\n",
       "      <td>1679705643</td>\n",
       "      <td>Howe Neighborhood</td>\n",
       "      <td>0</td>\n",
       "      <td>6.06b</td>\n",
       "      <td>32201</td>\n",
       "      <td>5</td>\n",
       "      <td>44.935818</td>\n",
       "      <td>-93.217520</td>\n",
       "      <td>833</td>\n",
       "      <td>3</td>\n",
       "      <td>0</td>\n",
       "    </tr>\n",
       "    <tr>\n",
       "      <th>1</th>\n",
       "      <td>5582</td>\n",
       "      <td>1660166545</td>\n",
       "      <td>1514335701</td>\n",
       "      <td>1679705566</td>\n",
       "      <td>Vircroft Ashnia</td>\n",
       "      <td>0</td>\n",
       "      <td>7.02</td>\n",
       "      <td>344</td>\n",
       "      <td>5</td>\n",
       "      <td>44.891655</td>\n",
       "      <td>-93.342910</td>\n",
       "      <td>899</td>\n",
       "      <td>3</td>\n",
       "      <td>0</td>\n",
       "    </tr>\n",
       "    <tr>\n",
       "      <th>2</th>\n",
       "      <td>11134</td>\n",
       "      <td>1529977499</td>\n",
       "      <td>1527023589</td>\n",
       "      <td>1679705568</td>\n",
       "      <td>Linden Hills</td>\n",
       "      <td>0</td>\n",
       "      <td>7.02</td>\n",
       "      <td>1545</td>\n",
       "      <td>5</td>\n",
       "      <td>44.927760</td>\n",
       "      <td>-93.322350</td>\n",
       "      <td>886</td>\n",
       "      <td>3</td>\n",
       "      <td>0</td>\n",
       "    </tr>\n",
       "    <tr>\n",
       "      <th>3</th>\n",
       "      <td>142718</td>\n",
       "      <td>1675359061</td>\n",
       "      <td>1642013869</td>\n",
       "      <td>1679705617</td>\n",
       "      <td>City of Minneapolis Community Air Monitoring P...</td>\n",
       "      <td>0</td>\n",
       "      <td>7.02</td>\n",
       "      <td>6068</td>\n",
       "      <td>5</td>\n",
       "      <td>44.995792</td>\n",
       "      <td>-93.295395</td>\n",
       "      <td>865</td>\n",
       "      <td>3</td>\n",
       "      <td>0</td>\n",
       "    </tr>\n",
       "    <tr>\n",
       "      <th>4</th>\n",
       "      <td>142720</td>\n",
       "      <td>1675359105</td>\n",
       "      <td>1642013875</td>\n",
       "      <td>1679705632</td>\n",
       "      <td>City of Minneapolis community air monitoring p...</td>\n",
       "      <td>0</td>\n",
       "      <td>7.02</td>\n",
       "      <td>60671</td>\n",
       "      <td>5</td>\n",
       "      <td>44.956170</td>\n",
       "      <td>-93.254710</td>\n",
       "      <td>856</td>\n",
       "      <td>3</td>\n",
       "      <td>0</td>\n",
       "    </tr>\n",
       "  </tbody>\n",
       "</table>\n",
       "</div>"
      ],
      "text/plain": [
       "   sensor_index  last_modified  ...  channel_state  channel_flags\n",
       "0          3088     1504993349  ...              3              0\n",
       "1          5582     1660166545  ...              3              0\n",
       "2         11134     1529977499  ...              3              0\n",
       "3        142718     1675359061  ...              3              0\n",
       "4        142720     1675359105  ...              3              0\n",
       "\n",
       "[5 rows x 14 columns]"
      ]
     },
     "execution_count": 162,
     "metadata": {},
     "output_type": "execute_result"
    }
   ],
   "source": [
    "#removing null values\n",
    "\n",
    "bool_series = pd.notnull(purpleair_stations_df)\n",
    "purpleair_stations_df = purpleair_stations_df[bool_series]\n",
    "purpleair_stations_df.head()\n",
    "#still 79 rows"
   ]
  },
  {
   "cell_type": "code",
   "execution_count": 163,
   "metadata": {},
   "outputs": [
    {
     "ename": "SyntaxError",
     "evalue": "invalid syntax (<string>, line 6)",
     "output_type": "error",
     "traceback": [
      "\u001b[0;31m---------------------------------------------------------------------------\u001b[0m\n\u001b[0;31mSyntaxError\u001b[0m                               Traceback (most recent call last)",
      "File \u001b[0;34mC:\\Users\\tande\\AppData\\Local\\ESRI\\conda\\envs\\gis5572\\lib\\ast.py\u001b[0m, in \u001b[0;32mparse\u001b[0m:\nLine \u001b[0;34m50\u001b[0m:    \u001b[34mreturn\u001b[39;49;00m \u001b[36mcompile\u001b[39;49;00m(source, filename, mode, flags,\n",
      "\u001b[0;31mSyntaxError\u001b[0m: invalid syntax (<string>, line 6)\n\u001b[0;31m---------------------------------------------------------------------------\u001b[0m"
     ]
    }
   ],
   "source": [
    "# Checking altitude\n",
    "\n",
    "# Commented out for now becasue not working properly\n",
    "#Altitude should be between 687 (Minnehaha Falls) to 830\n",
    "\n",
    "#outside_sensors['altitude'].astype(int)\n",
    "#altitude_check = outside_sensors[outside_sensors['altitude'] > 686 and < 831]"
   ]
  },
  {
   "cell_type": "code",
   "execution_count": 192,
   "metadata": {},
   "outputs": [],
   "source": [
    "#converting lat/long to WKT for SQL\n",
    "\n",
    "import csv\n",
    "from shapely.geometry import Point\n",
    "\n",
    "csv_path = r\"C:\\Users\\tande\\Documents\\GitHub\\QualityAirQualityCities\\PurpleAirQAQC\\purpleair_stations_df.csv\"\n",
    "\n",
    "# Load the input DataFrame from a CSV file\n",
    "df = pd.read_csv(csv_path)\n",
    "\n",
    "# Create a list to store the WKT values\n",
    "wkt_list = []\n",
    "\n",
    "# Iterate over each row and add the WKT representation of a point geometry\n",
    "for index, row in df.iterrows():\n",
    "    latitude, longitude = row['latitude'], row['longitude']\n",
    "    point = Point(longitude, latitude)\n",
    "    wkt = point.wkt\n",
    "    wkt_list.append(wkt)\n",
    "\n",
    "# Add the WKT column to the DataFrame\n",
    "df['WKT'] = wkt_list\n",
    "\n",
    "# Write the DataFrame to a CSV file\n",
    "df.to_csv('output.csv', index=False)"
   ]
  },
  {
   "cell_type": "markdown",
   "metadata": {},
   "source": [
    "## Connecting to the Server"
   ]
  },
  {
   "cell_type": "code",
   "execution_count": 31,
   "metadata": {},
   "outputs": [],
   "source": [
    "import psycopg2\n",
    "from psycopg2 import sql"
   ]
  },
  {
   "cell_type": "code",
   "execution_count": 212,
   "metadata": {},
   "outputs": [
    {
     "data": {
      "text/plain": [
       "0"
      ]
     },
     "execution_count": 212,
     "metadata": {},
     "output_type": "execute_result"
    }
   ],
   "source": [
    "connection = psycopg2.connect(host = '34.132.44.118',\n",
    "                              database = 'lab1-2',\n",
    "                              user = 'postgres',\n",
    "                              password = 'password')\n",
    "connection.closed"
   ]
  },
  {
   "cell_type": "markdown",
   "metadata": {},
   "source": [
    "## Create SQL Table"
   ]
  },
  {
   "cell_type": "code",
   "execution_count": 213,
   "metadata": {},
   "outputs": [],
   "source": [
    "cursor = connection.cursor()\n",
    "cursor.execute(\"DROP TABLE IF EXISTS purpleair_stations;\")\n",
    "new_table = sql.SQL(\"CREATE TABLE purpleair_stations (sensor_index integer, last_modified integer, date_created integer, last_seen integer, name varchar(100), location_type integer, firmware_version varchar(30), uptime integer, position_rating integer, latitude float, longitude float, altitude integer, channel_state integer, channel_flags integer, WKT geometry);\")\n",
    "\n",
    "cursor.execute(new_table)\n",
    "connection.commit()"
   ]
  },
  {
   "cell_type": "markdown",
   "metadata": {},
   "source": [
    "## Insert Data into SQL Table"
   ]
  },
  {
   "cell_type": "code",
   "execution_count": 214,
   "metadata": {},
   "outputs": [],
   "source": [
    "# Open the CSV file\n",
    "csv_path = r\"C:\\Users\\tande\\Documents\\ArcGIS\\Projects\\PurpleAir_PM_QAQC\\output.csv\"\n",
    "with open(csv_path) as f:\n",
    "    # Use the CSV reader to read the file\n",
    "    reader = csv.reader(f)\n",
    "    # Skip the header row\n",
    "    next(reader)\n",
    "    # Iterate over each row and insert into the table\n",
    "    for row in reader:\n",
    "        # Unpack the row fields into separate variables\n",
    "        sensor_index, last_modified, date_created, last_seen, name, location_type, firmware_version, uptime, position_rating, latitude, longitude, altitude, channel_state, channel_flags, wkt = row\n",
    "        # Construct the INSERT statement with explicit field names\n",
    "        query = \"\"\"INSERT INTO purpleair_stations (\n",
    "                        sensor_index, last_modified, date_created, last_seen, name, location_type, firmware_version, uptime, \n",
    "                        position_rating, latitude, longitude, altitude, channel_state, channel_flags, WKT) \n",
    "                   VALUES (%s, %s, %s, %s, %s, %s, %s, %s, %s, %s, %s, %s, %s, %s, %s)\"\"\"\n",
    "        # Execute the INSERT statement with the row fields as parameters\n",
    "        cursor.execute(query, (sensor_index, last_modified, date_created, last_seen, name, location_type, firmware_version, \n",
    "                               uptime, position_rating, latitude, longitude, altitude, channel_state, channel_flags, wkt))\n",
    "\n",
    "# Commit the changes to the database\n",
    "connection.commit()\n",
    "\n",
    "# Close the cursor and connection\n",
    "cursor.close()\n",
    "connection.close()"
   ]
  }
 ],
 "metadata": {
  "kernelspec": {
   "display_name": "Python 3",
   "language": "python",
   "name": "python3"
  },
  "language_info": {
   "codemirror_mode": {
    "name": "ipython",
    "version": 3
   },
   "file_extension": ".py",
   "mimetype": "text/x-python",
   "name": "python",
   "nbconvert_exporter": "python",
   "pygments_lexer": "ipython3",
   "version": "3.9.11"
  }
 },
 "nbformat": 4,
 "nbformat_minor": 4
}
