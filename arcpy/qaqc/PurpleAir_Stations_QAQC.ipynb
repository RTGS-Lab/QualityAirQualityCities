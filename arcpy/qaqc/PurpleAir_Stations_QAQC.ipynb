{
 "cells": [
  {
   "cell_type": "markdown",
   "metadata": {},
   "source": [
    "# PurpleAir Stations QAQC"
   ]
  },
  {
   "cell_type": "markdown",
   "metadata": {},
   "source": [
    "## Set Working Environment"
   ]
  },
  {
   "cell_type": "code",
   "execution_count": 9,
   "metadata": {},
   "outputs": [],
   "source": [
    "cwd = os.getcwd() # This is a global variable for where the notebook is (must change if running in arcpro)\n",
    "\n",
    "# Make it workspace\n",
    "\n",
    "arcpy.env.workspace = os.path.join(cwd, '..', '..', 'data', 'QAQC.gdb')\n",
    "\n",
    "arcpy.env.overwriteOutput = True # Overwrite layers is okay"
   ]
  },
  {
   "cell_type": "markdown",
   "metadata": {},
   "source": [
    "## Import Packages"
   ]
  },
  {
   "cell_type": "code",
   "execution_count": 1,
   "metadata": {},
   "outputs": [],
   "source": [
    "import os # For working with Operating System\n",
    "from sys import platform # Diagnose operating system\n",
    "import requests \n",
    "import datetime as dt # Converting unix time\n",
    "import json"
   ]
  },
  {
   "cell_type": "code",
   "execution_count": 2,
   "metadata": {},
   "outputs": [],
   "source": [
    "import numpy as np # For working with Arrays\n",
    "import pandas as pd # Data Manipulation\n",
    "import arcpy"
   ]
  },
  {
   "cell_type": "code",
   "execution_count": 3,
   "metadata": {},
   "outputs": [],
   "source": [
    "from pprint import pprint # Pretty Printing\n",
    "import matplotlib.pyplot as plt # Basic Plotting"
   ]
  },
  {
   "cell_type": "markdown",
   "metadata": {},
   "source": [
    "## Import Minneapolis Boundary"
   ]
  },
  {
   "cell_type": "code",
   "execution_count": 5,
   "metadata": {},
   "outputs": [],
   "source": [
    "#Importing the GeoJSON of MPLS boundary\n",
    "mpls_bndry_path = os.path.join(os.getcwd(), 'mpls_boundary.geojson')"
   ]
  },
  {
   "cell_type": "markdown",
   "metadata": {},
   "source": [
    "## Set Bounds for PurpleAir Parameters"
   ]
  },
  {
   "cell_type": "code",
   "execution_count": 11,
   "metadata": {},
   "outputs": [
    {
     "data": {
      "text/html": [
       "<div class='gpresult'><h2>Messages</h2><div id='messages' data-messages='[\"Start Time: Monday, March 27, 2023 9:43:50 PM\",\"Succeeded at Monday, March 27, 2023 9:43:51 PM (Elapsed Time: 0.90 seconds)\"]' data-show='true'><div id = 'default' /></div></div>"
      ],
      "text/plain": [
       "<Result 'C:\\\\Users\\\\tande\\\\Documents\\\\GitHub\\\\QualityAirQualityCities\\\\arcpy\\\\qaqc\\\\..\\\\..\\\\data\\\\QAQC.gdb\\\\mpls_8km_Project'>"
      ]
     },
     "execution_count": 11,
     "metadata": {},
     "output_type": "execute_result"
    }
   ],
   "source": [
    "#Changing the projection from UMT 15 to NAD 84\n",
    "arcpy.management.Project(\"mpls_8km\", \"mpls_8km_Project\", 'GEOGCS[\"GCS_WGS_1984\",DATUM[\"D_WGS_1984\",SPHEROID[\"WGS_1984\",6378137.0,298.257223563]],PRIMEM[\"Greenwich\",0.0],UNIT[\"Degree\",0.0174532925199433]]', \"WGS_1984_(ITRF00)_To_NAD_1983\", 'PROJCS[\"NAD_1983_UTM_Zone_15N\",GEOGCS[\"GCS_North_American_1983\",DATUM[\"D_North_American_1983\",SPHEROID[\"GRS_1980\",6378137.0,298.257222101]],PRIMEM[\"Greenwich\",0.0],UNIT[\"Degree\",0.0174532925199433]],PROJECTION[\"Transverse_Mercator\"],PARAMETER[\"False_Easting\",500000.0],PARAMETER[\"False_Northing\",0.0],PARAMETER[\"Central_Meridian\",-93.0],PARAMETER[\"Scale_Factor\",0.9996],PARAMETER[\"Latitude_Of_Origin\",0.0],UNIT[\"Meter\",1.0]]', \"NO_PRESERVE_SHAPE\", None, \"NO_VERTICAL\")"
   ]
  },
  {
   "cell_type": "code",
   "execution_count": 12,
   "metadata": {},
   "outputs": [
    {
     "data": {
      "text/html": [
       "<div class='gpresult'><h2>Messages</h2><div id='messages' data-messages='[\"Start Time: Monday, March 27, 2023 9:44:24 PM\",\"Succeeded at Monday, March 27, 2023 9:44:25 PM (Elapsed Time: 0.34 seconds)\"]' data-show='true'><div id = 'default' /></div></div>"
      ],
      "text/plain": [
       "<Result 'C:\\\\Users\\\\tande\\\\Documents\\\\GitHub\\\\QualityAirQualityCities\\\\arcpy\\\\qaqc\\\\..\\\\..\\\\data\\\\QAQC.gdb\\\\mpls_8km_Proje_MinimumBoundi'>"
      ]
     },
     "execution_count": 12,
     "metadata": {},
     "output_type": "execute_result"
    }
   ],
   "source": [
    "#Create bounding box\n",
    "arcpy.management.MinimumBoundingGeometry(\"mpls_8km_Project\", \"mpls_8km_Proje_MinimumBoundi\", \"RECTANGLE_BY_AREA\")"
   ]
  },
  {
   "cell_type": "code",
   "execution_count": 14,
   "metadata": {},
   "outputs": [
    {
     "ename": "ExecuteError",
     "evalue": "Failed to execute. Parameters are not valid.\nERROR 000732: Output Location: Dataset PurpleAirQAQC does not exist or is not supported\nFailed to execute (FeatureClassToFeatureClass).\n",
     "output_type": "error",
     "traceback": [
      "\u001b[1;31m---------------------------------------------------------------------------\u001b[0m",
      "\u001b[1;31mExecuteError\u001b[0m                              Traceback (most recent call last)",
      "\u001b[1;32m<ipython-input-14-a982c94ca1bf>\u001b[0m in \u001b[0;36m<module>\u001b[1;34m\u001b[0m\n\u001b[0;32m      1\u001b[0m \u001b[1;31m#Converting bounding box to feature class\u001b[0m\u001b[1;33m\u001b[0m\u001b[1;33m\u001b[0m\u001b[0m\n\u001b[1;32m----> 2\u001b[1;33m \u001b[0marcpy\u001b[0m\u001b[1;33m.\u001b[0m\u001b[0mconversion\u001b[0m\u001b[1;33m.\u001b[0m\u001b[0mFeatureClassToFeatureClass\u001b[0m\u001b[1;33m(\u001b[0m\u001b[1;34m\"mpls_8km_Proje_MinimumBoundi\"\u001b[0m\u001b[1;33m,\u001b[0m \u001b[1;34m\"PurpleAirQAQC\"\u001b[0m\u001b[1;33m,\u001b[0m \u001b[1;34m\"mpls_8km\"\u001b[0m\u001b[1;33m,\u001b[0m \u001b[1;34m''\u001b[0m\u001b[1;33m,\u001b[0m \u001b[1;34m'CTU_ID \"CTU_ID\" true true false 19 Double 0 0,First,#,mpls_8km_Proje_MinimumBoundi,CTU_ID,-1,-1;CTU_NAME \"CTU_NAME\" true true false 254 Text 0 0,First,#,mpls_8km_Proje_MinimumBoundi,CTU_NAME,0,254;CTU_CODE \"CTU_CODE\" true true false 254 Text 0 0,First,#,mpls_8km_Proje_MinimumBoundi,CTU_CODE,0,254;BUFF_DIST \"BUFF_DIST\" true true false 19 Double 0 0,First,#,mpls_8km_Proje_MinimumBoundi,BUFF_DIST,-1,-1;ORIG_FID \"ORIG_FID\" true true false 10 Long 0 10,First,#,mpls_8km_Proje_MinimumBoundi,ORIG_FID,-1,-1;ORIG_FID_1 \"ORIG_FID_1\" true true false 10 Long 0 10,First,#,mpls_8km_Proje_MinimumBoundi,ORIG_FID_1,-1,-1'\u001b[0m\u001b[1;33m,\u001b[0m \u001b[1;34m''\u001b[0m\u001b[1;33m)\u001b[0m\u001b[1;33m\u001b[0m\u001b[1;33m\u001b[0m\u001b[0m\n\u001b[0m",
      "\u001b[1;32mC:\\Program Files\\ArcGIS\\Pro\\Resources\\ArcPy\\arcpy\\conversion.py\u001b[0m in \u001b[0;36mFeatureClassToFeatureClass\u001b[1;34m(in_features, out_path, out_name, where_clause, field_mapping, config_keyword)\u001b[0m\n\u001b[0;32m   3202\u001b[0m         \u001b[1;32mreturn\u001b[0m \u001b[0mretval\u001b[0m\u001b[1;33m\u001b[0m\u001b[1;33m\u001b[0m\u001b[0m\n\u001b[0;32m   3203\u001b[0m     \u001b[1;32mexcept\u001b[0m \u001b[0mException\u001b[0m \u001b[1;32mas\u001b[0m \u001b[0me\u001b[0m\u001b[1;33m:\u001b[0m\u001b[1;33m\u001b[0m\u001b[1;33m\u001b[0m\u001b[0m\n\u001b[1;32m-> 3204\u001b[1;33m         \u001b[1;32mraise\u001b[0m \u001b[0me\u001b[0m\u001b[1;33m\u001b[0m\u001b[1;33m\u001b[0m\u001b[0m\n\u001b[0m\u001b[0;32m   3205\u001b[0m \u001b[1;33m\u001b[0m\u001b[0m\n\u001b[0;32m   3206\u001b[0m \u001b[1;33m@\u001b[0m\u001b[0mgptooldoc\u001b[0m\u001b[1;33m(\u001b[0m\u001b[1;34m'FeatureClassToGeodatabase_conversion'\u001b[0m\u001b[1;33m,\u001b[0m \u001b[1;32mNone\u001b[0m\u001b[1;33m)\u001b[0m\u001b[1;33m\u001b[0m\u001b[1;33m\u001b[0m\u001b[0m\n",
      "\u001b[1;32mC:\\Program Files\\ArcGIS\\Pro\\Resources\\ArcPy\\arcpy\\conversion.py\u001b[0m in \u001b[0;36mFeatureClassToFeatureClass\u001b[1;34m(in_features, out_path, out_name, where_clause, field_mapping, config_keyword)\u001b[0m\n\u001b[0;32m   3199\u001b[0m     \u001b[1;32mfrom\u001b[0m \u001b[0marcpy\u001b[0m\u001b[1;33m.\u001b[0m\u001b[0marcobjects\u001b[0m\u001b[1;33m.\u001b[0m\u001b[0marcobjectconversion\u001b[0m \u001b[1;32mimport\u001b[0m \u001b[0mconvertArcObjectToPythonObject\u001b[0m\u001b[1;33m\u001b[0m\u001b[1;33m\u001b[0m\u001b[0m\n\u001b[0;32m   3200\u001b[0m     \u001b[1;32mtry\u001b[0m\u001b[1;33m:\u001b[0m\u001b[1;33m\u001b[0m\u001b[1;33m\u001b[0m\u001b[0m\n\u001b[1;32m-> 3201\u001b[1;33m         \u001b[0mretval\u001b[0m \u001b[1;33m=\u001b[0m \u001b[0mconvertArcObjectToPythonObject\u001b[0m\u001b[1;33m(\u001b[0m\u001b[0mgp\u001b[0m\u001b[1;33m.\u001b[0m\u001b[0mFeatureClassToFeatureClass_conversion\u001b[0m\u001b[1;33m(\u001b[0m\u001b[1;33m*\u001b[0m\u001b[0mgp_fixargs\u001b[0m\u001b[1;33m(\u001b[0m\u001b[1;33m(\u001b[0m\u001b[0min_features\u001b[0m\u001b[1;33m,\u001b[0m \u001b[0mout_path\u001b[0m\u001b[1;33m,\u001b[0m \u001b[0mout_name\u001b[0m\u001b[1;33m,\u001b[0m \u001b[0mwhere_clause\u001b[0m\u001b[1;33m,\u001b[0m \u001b[0mfield_mapping\u001b[0m\u001b[1;33m,\u001b[0m \u001b[0mconfig_keyword\u001b[0m\u001b[1;33m)\u001b[0m\u001b[1;33m,\u001b[0m \u001b[1;32mTrue\u001b[0m\u001b[1;33m)\u001b[0m\u001b[1;33m)\u001b[0m\u001b[1;33m)\u001b[0m\u001b[1;33m\u001b[0m\u001b[1;33m\u001b[0m\u001b[0m\n\u001b[0m\u001b[0;32m   3202\u001b[0m         \u001b[1;32mreturn\u001b[0m \u001b[0mretval\u001b[0m\u001b[1;33m\u001b[0m\u001b[1;33m\u001b[0m\u001b[0m\n\u001b[0;32m   3203\u001b[0m     \u001b[1;32mexcept\u001b[0m \u001b[0mException\u001b[0m \u001b[1;32mas\u001b[0m \u001b[0me\u001b[0m\u001b[1;33m:\u001b[0m\u001b[1;33m\u001b[0m\u001b[1;33m\u001b[0m\u001b[0m\n",
      "\u001b[1;32mC:\\Program Files\\ArcGIS\\Pro\\Resources\\ArcPy\\arcpy\\geoprocessing\\_base.py\u001b[0m in \u001b[0;36m<lambda>\u001b[1;34m(*args)\u001b[0m\n\u001b[0;32m    510\u001b[0m         \u001b[0mval\u001b[0m \u001b[1;33m=\u001b[0m \u001b[0mgetattr\u001b[0m\u001b[1;33m(\u001b[0m\u001b[0mself\u001b[0m\u001b[1;33m.\u001b[0m\u001b[0m_gp\u001b[0m\u001b[1;33m,\u001b[0m \u001b[0mattr\u001b[0m\u001b[1;33m)\u001b[0m\u001b[1;33m\u001b[0m\u001b[1;33m\u001b[0m\u001b[0m\n\u001b[0;32m    511\u001b[0m         \u001b[1;32mif\u001b[0m \u001b[0mcallable\u001b[0m\u001b[1;33m(\u001b[0m\u001b[0mval\u001b[0m\u001b[1;33m)\u001b[0m\u001b[1;33m:\u001b[0m\u001b[1;33m\u001b[0m\u001b[1;33m\u001b[0m\u001b[0m\n\u001b[1;32m--> 512\u001b[1;33m             \u001b[1;32mreturn\u001b[0m \u001b[1;32mlambda\u001b[0m \u001b[1;33m*\u001b[0m\u001b[0margs\u001b[0m\u001b[1;33m:\u001b[0m \u001b[0mval\u001b[0m\u001b[1;33m(\u001b[0m\u001b[1;33m*\u001b[0m\u001b[0mgp_fixargs\u001b[0m\u001b[1;33m(\u001b[0m\u001b[0margs\u001b[0m\u001b[1;33m,\u001b[0m \u001b[1;32mTrue\u001b[0m\u001b[1;33m)\u001b[0m\u001b[1;33m)\u001b[0m\u001b[1;33m\u001b[0m\u001b[1;33m\u001b[0m\u001b[0m\n\u001b[0m\u001b[0;32m    513\u001b[0m         \u001b[1;32melse\u001b[0m\u001b[1;33m:\u001b[0m\u001b[1;33m\u001b[0m\u001b[1;33m\u001b[0m\u001b[0m\n\u001b[0;32m    514\u001b[0m             \u001b[1;32mreturn\u001b[0m \u001b[0mconvertArcObjectToPythonObject\u001b[0m\u001b[1;33m(\u001b[0m\u001b[0mval\u001b[0m\u001b[1;33m)\u001b[0m\u001b[1;33m\u001b[0m\u001b[1;33m\u001b[0m\u001b[0m\n",
      "\u001b[1;31mExecuteError\u001b[0m: Failed to execute. Parameters are not valid.\nERROR 000732: Output Location: Dataset PurpleAirQAQC does not exist or is not supported\nFailed to execute (FeatureClassToFeatureClass).\n"
     ]
    }
   ],
   "source": [
    "#Converting bounding box to feature class\n",
    "arcpy.conversion.FeatureClassToFeatureClass(\"mpls_8km_Proje_MinimumBoundi\", \"PurpleAirQAQC\", \"mpls_8km\", '', 'CTU_ID \"CTU_ID\" true true false 19 Double 0 0,First,#,mpls_8km_Proje_MinimumBoundi,CTU_ID,-1,-1;CTU_NAME \"CTU_NAME\" true true false 254 Text 0 0,First,#,mpls_8km_Proje_MinimumBoundi,CTU_NAME,0,254;CTU_CODE \"CTU_CODE\" true true false 254 Text 0 0,First,#,mpls_8km_Proje_MinimumBoundi,CTU_CODE,0,254;BUFF_DIST \"BUFF_DIST\" true true false 19 Double 0 0,First,#,mpls_8km_Proje_MinimumBoundi,BUFF_DIST,-1,-1;ORIG_FID \"ORIG_FID\" true true false 10 Long 0 10,First,#,mpls_8km_Proje_MinimumBoundi,ORIG_FID,-1,-1;ORIG_FID_1 \"ORIG_FID_1\" true true false 10 Long 0 10,First,#,mpls_8km_Proje_MinimumBoundi,ORIG_FID_1,-1,-1', '')"
   ]
  },
  {
   "cell_type": "code",
   "execution_count": 16,
   "metadata": {},
   "outputs": [],
   "source": [
    "#Setting lat/long for PurpleAir API Parameters\n",
    "nwlng = arcpy.Describe(\"mpls_8km_Proje_MinimumBoundi\").extent.XMin\n",
    "nwlat = arcpy.Describe(\"mpls_8km_Proje_MinimumBoundi\").extent.YMax\n",
    "selng = arcpy.Describe(\"mpls_8km_Proje_MinimumBoundi\").extent.XMax\n",
    "selat = arcpy.Describe(\"mpls_8km_Proje_MinimumBoundi\").extent.YMin"
   ]
  },
  {
   "cell_type": "markdown",
   "metadata": {},
   "source": [
    "## Importing PurpleAir STATION Data from PurpleAir API"
   ]
  },
  {
   "cell_type": "code",
   "execution_count": 6,
   "metadata": {},
   "outputs": [],
   "source": [
    "def getSensorsData(query='', api_read_key=''):\n",
    "\n",
    "    # my_url is assigned the URL we are going to send our request to.\n",
    "    url = 'https://api.purpleair.com/v1/sensors?' + query\n",
    "    \n",
    "    print('Here is the full url for the API call:\\n\\n', url)\n",
    "\n",
    "    # my_headers is assigned the context of our request we want to make. In this case\n",
    "    # we will pass through our API read key using the variable created above.\n",
    "    my_headers = {'X-API-Key':api_read_key}\n",
    "\n",
    "    # This line creates and sends the request and then assigns its response to the\n",
    "    # variable, r.\n",
    "    response = requests.get(url, headers=my_headers)\n",
    "\n",
    "    # We then return the response we received.\n",
    "    return response"
   ]
  },
  {
   "cell_type": "code",
   "execution_count": 7,
   "metadata": {},
   "outputs": [
    {
     "name": "stdin",
     "output_type": "stream",
     "text": [
      "Please enter your Purple Air api key 51592903-B445-11ED-B6F4-42010A800007\n"
     ]
    }
   ],
   "source": [
    "#PurpleAir API 'read' key\n",
    "api = input('Please enter your Purple Air api key')"
   ]
  },
  {
   "cell_type": "code",
   "execution_count": 17,
   "metadata": {},
   "outputs": [
    {
     "name": "stdout",
     "output_type": "stream",
     "text": [
      "nwlng=-93.43083707299996&nwlat=45.12366876300007&selng=-93.09225748799997&selat=44.81791263300005\n"
     ]
    }
   ],
   "source": [
    "#Set bounding strings for API parameters\n",
    "bounds_strings = [f'nwlng={nwlng}',\n",
    "                  f'nwlat={nwlat}',\n",
    "                  f'selng={selng}',\n",
    "                  f'selat={selat}']\n",
    "\n",
    "bounds_string = '&'.join(bounds_strings)\n",
    "\n",
    "print(bounds_string)"
   ]
  },
  {
   "cell_type": "code",
   "execution_count": 18,
   "metadata": {},
   "outputs": [
    {
     "name": "stdout",
     "output_type": "stream",
     "text": [
      "fields=name%2Cfirmware_version%2Cdate_created%2Clast_modified%2Clast_seen%2Cuptime%2Cposition_rating%2Cchannel_state%2Cchannel_flags%2Caltitude%2Clocation_type%2Clatitude%2Clongitude\n"
     ]
    }
   ],
   "source": [
    "#Setting parameters for API\n",
    "fields = ['name', 'firmware_version','date_created','last_modified','last_seen','uptime','position_rating','channel_state','channel_flags','altitude',\n",
    "          'location_type','latitude', 'longitude']\n",
    "\n",
    "\n",
    "#ignore this - I am trying to pull both station params as well as real-time\n",
    "#fields = ['time_stamp', 'humidity', 'temperature', 'pressure', 'pm2.5']\n",
    "\n",
    "fields_string = 'fields=' + '%2C'.join(fields)\n",
    "\n",
    "print(fields_string)"
   ]
  },
  {
   "cell_type": "code",
   "execution_count": 19,
   "metadata": {},
   "outputs": [
    {
     "name": "stdout",
     "output_type": "stream",
     "text": [
      "fields=name%2Cfirmware_version%2Cdate_created%2Clast_modified%2Clast_seen%2Cuptime%2Cposition_rating%2Cchannel_state%2Cchannel_flags%2Caltitude%2Clocation_type%2Clatitude%2Clongitude&nwlng=-93.43083707299996&nwlat=45.12366876300007&selng=-93.09225748799997&selat=44.81791263300005\n"
     ]
    }
   ],
   "source": [
    "#finalizing query for API function\n",
    "query_string = '&'.join([fields_string, bounds_string])\n",
    "\n",
    "print(query_string)"
   ]
  },
  {
   "cell_type": "code",
   "execution_count": 20,
   "metadata": {},
   "outputs": [
    {
     "name": "stdout",
     "output_type": "stream",
     "text": [
      "Here is the full url for the API call:\n",
      "\n",
      " https://api.purpleair.com/v1/sensors?fields=name%2Cfirmware_version%2Cdate_created%2Clast_modified%2Clast_seen%2Cuptime%2Cposition_rating%2Cchannel_state%2Cchannel_flags%2Caltitude%2Clocation_type%2Clatitude%2Clongitude&nwlng=-93.43083707299996&nwlat=45.12366876300007&selng=-93.09225748799997&selat=44.81791263300005\n"
     ]
    }
   ],
   "source": [
    "#calling the API\n",
    "response = getSensorsData(query_string, api)"
   ]
  },
  {
   "cell_type": "code",
   "execution_count": 21,
   "metadata": {},
   "outputs": [
    {
     "name": "stdout",
     "output_type": "stream",
     "text": [
      "<class 'pandas.core.frame.DataFrame'>\n",
      "RangeIndex: 88 entries, 0 to 87\n",
      "Data columns (total 14 columns):\n",
      " #   Column            Non-Null Count  Dtype \n",
      "---  ------            --------------  ----- \n",
      " 0   sensor_index      88 non-null     object\n",
      " 1   last_modified     88 non-null     object\n",
      " 2   date_created      88 non-null     object\n",
      " 3   last_seen         88 non-null     object\n",
      " 4   name              88 non-null     object\n",
      " 5   location_type     88 non-null     object\n",
      " 6   firmware_version  88 non-null     object\n",
      " 7   uptime            88 non-null     object\n",
      " 8   position_rating   88 non-null     object\n",
      " 9   latitude          88 non-null     object\n",
      " 10  longitude         88 non-null     object\n",
      " 11  altitude          88 non-null     object\n",
      " 12  channel_state     88 non-null     object\n",
      " 13  channel_flags     88 non-null     object\n",
      "dtypes: object(14)\n",
      "memory usage: 9.8+ KB\n"
     ]
    }
   ],
   "source": [
    "response_dict = response.json() # Read response as a json (dictionary)\n",
    "\n",
    "col_names = response_dict['fields']\n",
    "data = np.array(response_dict['data'])\n",
    "\n",
    "df_stations = pd.DataFrame(data, columns = col_names)\n",
    "\n",
    "df_stations.info()"
   ]
  },
  {
   "cell_type": "markdown",
   "metadata": {},
   "source": [
    "## Cleaning PurpleAir Station Data"
   ]
  },
  {
   "cell_type": "code",
   "execution_count": 114,
   "metadata": {},
   "outputs": [
    {
     "data": {
      "text/html": [
       "<div>\n",
       "<style scoped>\n",
       "    .dataframe tbody tr th:only-of-type {\n",
       "        vertical-align: middle;\n",
       "    }\n",
       "\n",
       "    .dataframe tbody tr th {\n",
       "        vertical-align: top;\n",
       "    }\n",
       "\n",
       "    .dataframe thead th {\n",
       "        text-align: right;\n",
       "    }\n",
       "</style>\n",
       "<table border=\"1\" class=\"dataframe\">\n",
       "  <thead>\n",
       "    <tr style=\"text-align: right;\">\n",
       "      <th></th>\n",
       "      <th>sensor_index</th>\n",
       "      <th>last_modified</th>\n",
       "      <th>date_created</th>\n",
       "      <th>last_seen</th>\n",
       "      <th>name</th>\n",
       "      <th>location_type</th>\n",
       "      <th>firmware_version</th>\n",
       "      <th>uptime</th>\n",
       "      <th>position_rating</th>\n",
       "      <th>latitude</th>\n",
       "      <th>longitude</th>\n",
       "      <th>altitude</th>\n",
       "      <th>channel_state</th>\n",
       "      <th>channel_flags</th>\n",
       "    </tr>\n",
       "  </thead>\n",
       "  <tbody>\n",
       "    <tr>\n",
       "      <th>0</th>\n",
       "      <td>3088</td>\n",
       "      <td>1504993349</td>\n",
       "      <td>1504040633</td>\n",
       "      <td>1679971604</td>\n",
       "      <td>Howe Neighborhood</td>\n",
       "      <td>0</td>\n",
       "      <td>6.06b</td>\n",
       "      <td>1166</td>\n",
       "      <td>5</td>\n",
       "      <td>44.935818</td>\n",
       "      <td>-93.21752</td>\n",
       "      <td>833</td>\n",
       "      <td>3</td>\n",
       "      <td>0</td>\n",
       "    </tr>\n",
       "    <tr>\n",
       "      <th>1</th>\n",
       "      <td>5582</td>\n",
       "      <td>1660166545</td>\n",
       "      <td>1514335701</td>\n",
       "      <td>1679971590</td>\n",
       "      <td>Vircroft Ashnia</td>\n",
       "      <td>0</td>\n",
       "      <td>7.02</td>\n",
       "      <td>664</td>\n",
       "      <td>5</td>\n",
       "      <td>44.891655</td>\n",
       "      <td>-93.34291</td>\n",
       "      <td>899</td>\n",
       "      <td>3</td>\n",
       "      <td>0</td>\n",
       "    </tr>\n",
       "    <tr>\n",
       "      <th>2</th>\n",
       "      <td>137876</td>\n",
       "      <td>1637086469</td>\n",
       "      <td>1637082783</td>\n",
       "      <td>1679971516</td>\n",
       "      <td>King Field Indoors</td>\n",
       "      <td>1</td>\n",
       "      <td>7.02</td>\n",
       "      <td>25046</td>\n",
       "      <td>0</td>\n",
       "      <td>44.928917</td>\n",
       "      <td>-93.284706</td>\n",
       "      <td>886</td>\n",
       "      <td>3</td>\n",
       "      <td>0</td>\n",
       "    </tr>\n",
       "    <tr>\n",
       "      <th>3</th>\n",
       "      <td>11134</td>\n",
       "      <td>1529977499</td>\n",
       "      <td>1527023589</td>\n",
       "      <td>1679971517</td>\n",
       "      <td>Linden Hills</td>\n",
       "      <td>0</td>\n",
       "      <td>7.02</td>\n",
       "      <td>5978</td>\n",
       "      <td>5</td>\n",
       "      <td>44.92776</td>\n",
       "      <td>-93.32235</td>\n",
       "      <td>886</td>\n",
       "      <td>3</td>\n",
       "      <td>0</td>\n",
       "    </tr>\n",
       "    <tr>\n",
       "      <th>4</th>\n",
       "      <td>142718</td>\n",
       "      <td>1675359061</td>\n",
       "      <td>1642013869</td>\n",
       "      <td>1679971567</td>\n",
       "      <td>City of Minneapolis Community Air Monitoring P...</td>\n",
       "      <td>0</td>\n",
       "      <td>7.02</td>\n",
       "      <td>10501</td>\n",
       "      <td>5</td>\n",
       "      <td>44.995792</td>\n",
       "      <td>-93.295395</td>\n",
       "      <td>865</td>\n",
       "      <td>3</td>\n",
       "      <td>0</td>\n",
       "    </tr>\n",
       "  </tbody>\n",
       "</table>\n",
       "</div>"
      ],
      "text/plain": [
       "  sensor_index last_modified date_created   last_seen  \\\n",
       "0         3088    1504993349   1504040633  1679971604   \n",
       "1         5582    1660166545   1514335701  1679971590   \n",
       "2       137876    1637086469   1637082783  1679971516   \n",
       "3        11134    1529977499   1527023589  1679971517   \n",
       "4       142718    1675359061   1642013869  1679971567   \n",
       "\n",
       "                                                name location_type  \\\n",
       "0                                  Howe Neighborhood             0   \n",
       "1                                    Vircroft Ashnia             0   \n",
       "2                                 King Field Indoors             1   \n",
       "3                                       Linden Hills             0   \n",
       "4  City of Minneapolis Community Air Monitoring P...             0   \n",
       "\n",
       "  firmware_version uptime position_rating   latitude   longitude altitude  \\\n",
       "0            6.06b   1166               5  44.935818   -93.21752      833   \n",
       "1             7.02    664               5  44.891655   -93.34291      899   \n",
       "2             7.02  25046               0  44.928917  -93.284706      886   \n",
       "3             7.02   5978               5   44.92776   -93.32235      886   \n",
       "4             7.02  10501               5  44.995792  -93.295395      865   \n",
       "\n",
       "  channel_state channel_flags  \n",
       "0             3             0  \n",
       "1             3             0  \n",
       "2             3             0  \n",
       "3             3             0  \n",
       "4             3             0  "
      ]
     },
     "execution_count": 114,
     "metadata": {},
     "output_type": "execute_result"
    }
   ],
   "source": [
    "#visualizing API response\n",
    "df_stations.head()"
   ]
  },
  {
   "cell_type": "code",
   "execution_count": 115,
   "metadata": {},
   "outputs": [
    {
     "data": {
      "text/plain": [
       "80"
      ]
     },
     "execution_count": 115,
     "metadata": {},
     "output_type": "execute_result"
    }
   ],
   "source": [
    "#filtering for all 'outside' sensors and removing 'inside' sensors\n",
    "outside_sensors = df_stations[df_stations.location_type=='0'] # 0 = outside\n",
    "\n",
    "len(outside_sensors)"
   ]
  },
  {
   "cell_type": "code",
   "execution_count": 113,
   "metadata": {},
   "outputs": [
    {
     "data": {
      "text/plain": [
       "'\\nsavepath_timestamps = os.path.join(cwd, \\'..\\',\\'..\\',\\'data\\', \"outside_sensors.csv\")\\noutside_sensors_timestamp = outside_sensors.to_csv(savepath_timestamps, index = False)\\noutside_sensors_timestamp = pd.read_csv(savepath_timestamps)\\n'"
      ]
     },
     "execution_count": 113,
     "metadata": {},
     "output_type": "execute_result"
    }
   ],
   "source": [
    "'''\n",
    "savepath_timestamps = os.path.join(cwd, '..','..','data', \"outside_sensors.csv\")\n",
    "outside_sensors_timestamp = outside_sensors.to_csv(savepath_timestamps, index = False)\n",
    "outside_sensors_timestamp = pd.read_csv(savepath_timestamps)\n",
    "'''"
   ]
  },
  {
   "cell_type": "code",
   "execution_count": 112,
   "metadata": {},
   "outputs": [
    {
     "data": {
      "text/plain": [
       "\"\\n#Converting the UNIX dates to time stamps\\n\\n#keeping commented for now because this is a new addition and I will need to update my SQL table to accommodate\\n#outside_sensors.loc[:,'last_seen_timestamp'] = outside_sensors.last_seen.apply(lambda x: dt.datetime.fromtimestamp(int(x))).values\\n#outside_sensors.loc[:,'last_modified_timestamp'] = outside_sensors.last_modified.apply(lambda x: dt.datetime.fromtimestamp(int(x))).values\\n#outside_sensors.loc[:,'date_created_timestamp'] = outside_sensors.date_created.apply(lambda x: dt.datetime.fromtimestamp(int(x))).values\\n\\n#print('Least recent sensor was seen: ', last_seen.min())\\n#print('Most recent sensor was seen: ', last_seen.max())\\n\\nimport csv\\nimport datetime\\n\\n# Open the input CSV file\\n#input_path = 'input.csv'\\nwith open(savepath_timestamps, 'r') as input_file:\\n    # Open the output CSV file\\n    output_path = 'output.csv'\\n    with open(output_path, 'w', newline='') as output_file:\\n        # Create a CSV reader and writer\\n        reader = csv.reader(input_file)\\n        writer = csv.writer(output_file)\\n        \\n        # Iterate over each row in the input CSV file\\n        for row in reader:\\n            # Get the UNIX timestamp value from the original date/time column\\n            unix_timestamp = int(row[1])  # Replace 2 with the index of the original date/time column\\n            \\n            # Convert UNIX timestamp to datetime object\\n            datetime_obj = datetime.datetime.fromtimestamp(unix_timestamp)\\n            \\n            # Add the new datetime value to the end of the row\\n            row.append(datetime_obj.strftime('%Y-%m-%d %H:%M:%S'))\\n            \\n            # Write the updated row to the output CSV file\\n            writer.writerow(row)\\n\""
      ]
     },
     "execution_count": 112,
     "metadata": {},
     "output_type": "execute_result"
    }
   ],
   "source": [
    "'''\n",
    "#Converting the UNIX dates to time stamps\n",
    "\n",
    "#keeping commented for now because this is a new addition and I will need to update my SQL table to accommodate\n",
    "#outside_sensors.loc[:,'last_seen_timestamp'] = outside_sensors.last_seen.apply(lambda x: dt.datetime.fromtimestamp(int(x))).values\n",
    "#outside_sensors.loc[:,'last_modified_timestamp'] = outside_sensors.last_modified.apply(lambda x: dt.datetime.fromtimestamp(int(x))).values\n",
    "#outside_sensors.loc[:,'date_created_timestamp'] = outside_sensors.date_created.apply(lambda x: dt.datetime.fromtimestamp(int(x))).values\n",
    "\n",
    "#print('Least recent sensor was seen: ', last_seen.min())\n",
    "#print('Most recent sensor was seen: ', last_seen.max())\n",
    "\n",
    "import csv\n",
    "import datetime\n",
    "\n",
    "# Open the input CSV file\n",
    "#input_path = 'input.csv'\n",
    "with open(savepath_timestamps, 'r') as input_file:\n",
    "    # Open the output CSV file\n",
    "    output_path = 'output.csv'\n",
    "    with open(output_path, 'w', newline='') as output_file:\n",
    "        # Create a CSV reader and writer\n",
    "        reader = csv.reader(input_file)\n",
    "        writer = csv.writer(output_file)\n",
    "        \n",
    "        # Iterate over each row in the input CSV file\n",
    "        for row in reader:\n",
    "            # Get the UNIX timestamp value from the original date/time column\n",
    "            unix_timestamp = int(row[1])  # Replace 2 with the index of the original date/time column\n",
    "            \n",
    "            # Convert UNIX timestamp to datetime object\n",
    "            datetime_obj = datetime.datetime.fromtimestamp(unix_timestamp)\n",
    "            \n",
    "            # Add the new datetime value to the end of the row\n",
    "            row.append(datetime_obj.strftime('%Y-%m-%d %H:%M:%S'))\n",
    "            \n",
    "            # Write the updated row to the output CSV file\n",
    "            writer.writerow(row)\n",
    "'''"
   ]
  },
  {
   "cell_type": "code",
   "execution_count": 116,
   "metadata": {},
   "outputs": [
    {
     "data": {
      "text/html": [
       "<div>\n",
       "<style scoped>\n",
       "    .dataframe tbody tr th:only-of-type {\n",
       "        vertical-align: middle;\n",
       "    }\n",
       "\n",
       "    .dataframe tbody tr th {\n",
       "        vertical-align: top;\n",
       "    }\n",
       "\n",
       "    .dataframe thead th {\n",
       "        text-align: right;\n",
       "    }\n",
       "</style>\n",
       "<table border=\"1\" class=\"dataframe\">\n",
       "  <thead>\n",
       "    <tr style=\"text-align: right;\">\n",
       "      <th></th>\n",
       "      <th>sensor_index</th>\n",
       "      <th>last_modified</th>\n",
       "      <th>date_created</th>\n",
       "      <th>last_seen</th>\n",
       "      <th>name</th>\n",
       "      <th>location_type</th>\n",
       "      <th>firmware_version</th>\n",
       "      <th>uptime</th>\n",
       "      <th>position_rating</th>\n",
       "      <th>latitude</th>\n",
       "      <th>longitude</th>\n",
       "      <th>altitude</th>\n",
       "      <th>channel_state</th>\n",
       "      <th>channel_flags</th>\n",
       "    </tr>\n",
       "  </thead>\n",
       "  <tbody>\n",
       "    <tr>\n",
       "      <th>0</th>\n",
       "      <td>3088</td>\n",
       "      <td>1504993349</td>\n",
       "      <td>1504040633</td>\n",
       "      <td>1679971604</td>\n",
       "      <td>Howe Neighborhood</td>\n",
       "      <td>0</td>\n",
       "      <td>6.06b</td>\n",
       "      <td>1166</td>\n",
       "      <td>5</td>\n",
       "      <td>44.935818</td>\n",
       "      <td>-93.21752</td>\n",
       "      <td>833</td>\n",
       "      <td>3</td>\n",
       "      <td>0</td>\n",
       "    </tr>\n",
       "    <tr>\n",
       "      <th>1</th>\n",
       "      <td>5582</td>\n",
       "      <td>1660166545</td>\n",
       "      <td>1514335701</td>\n",
       "      <td>1679971590</td>\n",
       "      <td>Vircroft Ashnia</td>\n",
       "      <td>0</td>\n",
       "      <td>7.02</td>\n",
       "      <td>664</td>\n",
       "      <td>5</td>\n",
       "      <td>44.891655</td>\n",
       "      <td>-93.34291</td>\n",
       "      <td>899</td>\n",
       "      <td>3</td>\n",
       "      <td>0</td>\n",
       "    </tr>\n",
       "    <tr>\n",
       "      <th>3</th>\n",
       "      <td>11134</td>\n",
       "      <td>1529977499</td>\n",
       "      <td>1527023589</td>\n",
       "      <td>1679971517</td>\n",
       "      <td>Linden Hills</td>\n",
       "      <td>0</td>\n",
       "      <td>7.02</td>\n",
       "      <td>5978</td>\n",
       "      <td>5</td>\n",
       "      <td>44.92776</td>\n",
       "      <td>-93.32235</td>\n",
       "      <td>886</td>\n",
       "      <td>3</td>\n",
       "      <td>0</td>\n",
       "    </tr>\n",
       "    <tr>\n",
       "      <th>4</th>\n",
       "      <td>142718</td>\n",
       "      <td>1675359061</td>\n",
       "      <td>1642013869</td>\n",
       "      <td>1679971567</td>\n",
       "      <td>City of Minneapolis Community Air Monitoring P...</td>\n",
       "      <td>0</td>\n",
       "      <td>7.02</td>\n",
       "      <td>10501</td>\n",
       "      <td>5</td>\n",
       "      <td>44.995792</td>\n",
       "      <td>-93.295395</td>\n",
       "      <td>865</td>\n",
       "      <td>3</td>\n",
       "      <td>0</td>\n",
       "    </tr>\n",
       "    <tr>\n",
       "      <th>5</th>\n",
       "      <td>142720</td>\n",
       "      <td>1675359105</td>\n",
       "      <td>1642013875</td>\n",
       "      <td>1679971586</td>\n",
       "      <td>City of Minneapolis community air monitoring p...</td>\n",
       "      <td>0</td>\n",
       "      <td>7.02</td>\n",
       "      <td>65104</td>\n",
       "      <td>5</td>\n",
       "      <td>44.95617</td>\n",
       "      <td>-93.25471</td>\n",
       "      <td>856</td>\n",
       "      <td>3</td>\n",
       "      <td>0</td>\n",
       "    </tr>\n",
       "  </tbody>\n",
       "</table>\n",
       "</div>"
      ],
      "text/plain": [
       "  sensor_index last_modified date_created   last_seen  \\\n",
       "0         3088    1504993349   1504040633  1679971604   \n",
       "1         5582    1660166545   1514335701  1679971590   \n",
       "3        11134    1529977499   1527023589  1679971517   \n",
       "4       142718    1675359061   1642013869  1679971567   \n",
       "5       142720    1675359105   1642013875  1679971586   \n",
       "\n",
       "                                                name location_type  \\\n",
       "0                                  Howe Neighborhood             0   \n",
       "1                                    Vircroft Ashnia             0   \n",
       "3                                       Linden Hills             0   \n",
       "4  City of Minneapolis Community Air Monitoring P...             0   \n",
       "5  City of Minneapolis community air monitoring p...             0   \n",
       "\n",
       "  firmware_version uptime position_rating   latitude   longitude altitude  \\\n",
       "0            6.06b   1166               5  44.935818   -93.21752      833   \n",
       "1             7.02    664               5  44.891655   -93.34291      899   \n",
       "3             7.02   5978               5   44.92776   -93.32235      886   \n",
       "4             7.02  10501               5  44.995792  -93.295395      865   \n",
       "5             7.02  65104               5   44.95617   -93.25471      856   \n",
       "\n",
       "  channel_state channel_flags  \n",
       "0             3             0  \n",
       "1             3             0  \n",
       "3             3             0  \n",
       "4             3             0  \n",
       "5             3             0  "
      ]
     },
     "execution_count": 116,
     "metadata": {},
     "output_type": "execute_result"
    }
   ],
   "source": [
    "outside_sensors.head()"
   ]
  },
  {
   "cell_type": "markdown",
   "metadata": {},
   "source": [
    "## Exporting cleaned data CSV to use with Arcpy"
   ]
  },
  {
   "cell_type": "code",
   "execution_count": 117,
   "metadata": {},
   "outputs": [],
   "source": [
    "savepath = os.path.join(cwd, '..','..','data', \"purpleair_stations_df.csv\")\n",
    "purpleair_stations_df = outside_sensors.to_csv(savepath, index = False)\n",
    "purpleair_stations_df = pd.read_csv(savepath)"
   ]
  },
  {
   "cell_type": "markdown",
   "metadata": {},
   "source": [
    "## Let the QAQC Begin!"
   ]
  },
  {
   "cell_type": "code",
   "execution_count": 118,
   "metadata": {},
   "outputs": [
    {
     "data": {
      "text/html": [
       "<div class='gpresult'><h2>Messages</h2><div id='messages' data-messages='[\"Start Time: Monday, March 27, 2023 10:40:32 PM\",\"Succeeded at Monday, March 27, 2023 10:40:33 PM (Elapsed Time: 1.05 seconds)\"]' data-show='true'><div id = 'default' /></div></div>"
      ],
      "text/plain": [
       "<Result 'C:\\\\Users\\\\tande\\\\Documents\\\\GitHub\\\\QualityAirQualityCities\\\\arcpy\\\\qaqc\\\\..\\\\..\\\\data\\\\QAQC.gdb\\\\purpleair_stations_XYTableToPoint'>"
      ]
     },
     "execution_count": 118,
     "metadata": {},
     "output_type": "execute_result"
    }
   ],
   "source": [
    "#visual inspection of points\n",
    "\n",
    "arcpy.management.XYTableToPoint(savepath, \"purpleair_stations_XYTableToPoint\", \"longitude\", \"latitude\", None, 'GEOGCS[\"GCS_WGS_1984\",DATUM[\"D_WGS_1984\",SPHEROID[\"WGS_1984\",6378137.0,298.257223563]],PRIMEM[\"Greenwich\",0.0],UNIT[\"Degree\",0.0174532925199433]];-400 -400 1000000000;-100000 10000;-100000 10000;8.98315284119521E-09;0.001;0.001;IsHighPrecision')"
   ]
  },
  {
   "cell_type": "code",
   "execution_count": 119,
   "metadata": {},
   "outputs": [
    {
     "name": "stdout",
     "output_type": "stream",
     "text": [
      "No problems found\n"
     ]
    }
   ],
   "source": [
    "#checking the geometry of lat/longs\n",
    "result = arcpy.management.CheckGeometry(\"purpleair_stations_XYTableToPoint\", \"purpleair_stat_CheckGeometry\", \"OGC\")\n",
    "if result[0] == 'true':\n",
    "    print(result.getMessages())\n",
    "\n",
    "else:\n",
    "    # No problems found\n",
    "    print(\"No problems found\")"
   ]
  },
  {
   "cell_type": "code",
   "execution_count": 120,
   "metadata": {},
   "outputs": [
    {
     "name": "stdout",
     "output_type": "stream",
     "text": [
      "<class 'pandas.core.frame.DataFrame'>\n",
      "RangeIndex: 80 entries, 0 to 79\n",
      "Data columns (total 14 columns):\n",
      " #   Column            Non-Null Count  Dtype  \n",
      "---  ------            --------------  -----  \n",
      " 0   sensor_index      80 non-null     int64  \n",
      " 1   last_modified     80 non-null     int64  \n",
      " 2   date_created      80 non-null     int64  \n",
      " 3   last_seen         80 non-null     int64  \n",
      " 4   name              80 non-null     object \n",
      " 5   location_type     80 non-null     int64  \n",
      " 6   firmware_version  80 non-null     object \n",
      " 7   uptime            80 non-null     int64  \n",
      " 8   position_rating   80 non-null     int64  \n",
      " 9   latitude          80 non-null     float64\n",
      " 10  longitude         80 non-null     float64\n",
      " 11  altitude          80 non-null     int64  \n",
      " 12  channel_state     80 non-null     int64  \n",
      " 13  channel_flags     80 non-null     int64  \n",
      "dtypes: float64(2), int64(10), object(2)\n",
      "memory usage: 8.9+ KB\n"
     ]
    }
   ],
   "source": [
    "#removing null values\n",
    "\n",
    "bool_series = pd.notnull(purpleair_stations_df)\n",
    "purpleair_stations_df = purpleair_stations_df[bool_series]\n",
    "purpleair_stations_df.info()\n",
    "#still 80 rows"
   ]
  },
  {
   "cell_type": "code",
   "execution_count": 163,
   "metadata": {},
   "outputs": [
    {
     "ename": "SyntaxError",
     "evalue": "invalid syntax (<string>, line 6)",
     "output_type": "error",
     "traceback": [
      "\u001b[0;31m---------------------------------------------------------------------------\u001b[0m\n\u001b[0;31mSyntaxError\u001b[0m                               Traceback (most recent call last)",
      "File \u001b[0;34mC:\\Users\\tande\\AppData\\Local\\ESRI\\conda\\envs\\gis5572\\lib\\ast.py\u001b[0m, in \u001b[0;32mparse\u001b[0m:\nLine \u001b[0;34m50\u001b[0m:    \u001b[34mreturn\u001b[39;49;00m \u001b[36mcompile\u001b[39;49;00m(source, filename, mode, flags,\n",
      "\u001b[0;31mSyntaxError\u001b[0m: invalid syntax (<string>, line 6)\n\u001b[0;31m---------------------------------------------------------------------------\u001b[0m"
     ]
    }
   ],
   "source": [
    "# Checking altitude\n",
    "\n",
    "# Commented out for now becasue not working properly\n",
    "#Altitude should be between 687 (Minnehaha Falls) to 830\n",
    "\n",
    "#outside_sensors['altitude'].astype(int)\n",
    "#altitude_check = outside_sensors[outside_sensors['altitude'] > 686 and < 831]"
   ]
  },
  {
   "cell_type": "code",
   "execution_count": 121,
   "metadata": {},
   "outputs": [],
   "source": [
    "#converting lat/long to WKT for SQL\n",
    "\n",
    "import csv\n",
    "from shapely.geometry import Point\n",
    "\n",
    "csv_path = r\"C:\\Users\\tande\\Documents\\GitHub\\QualityAirQualityCities\\PurpleAirQAQC\\purpleair_stations_df.csv\"\n",
    "\n",
    "# Load the input DataFrame from a CSV file\n",
    "df = pd.read_csv(savepath)\n",
    "\n",
    "# Create a list to store the WKT values\n",
    "wkt_list = []\n",
    "\n",
    "# Iterate over each row and add the WKT representation of a point geometry\n",
    "for index, row in df.iterrows():\n",
    "    latitude, longitude = row['latitude'], row['longitude']\n",
    "    point = Point(longitude, latitude)\n",
    "    wkt = point.wkt\n",
    "    wkt_list.append(wkt)\n",
    "\n",
    "# Add the WKT column to the DataFrame\n",
    "df['WKT'] = wkt_list\n",
    "\n",
    "# Write the DataFrame to a CSV file\n",
    "df.to_csv('output.csv', index=False)"
   ]
  },
  {
   "cell_type": "markdown",
   "metadata": {},
   "source": [
    "## Connecting to the Server"
   ]
  },
  {
   "cell_type": "code",
   "execution_count": 100,
   "metadata": {},
   "outputs": [],
   "source": [
    "import psycopg2\n",
    "from psycopg2 import sql"
   ]
  },
  {
   "cell_type": "code",
   "execution_count": 122,
   "metadata": {},
   "outputs": [
    {
     "data": {
      "text/plain": [
       "0"
      ]
     },
     "execution_count": 122,
     "metadata": {},
     "output_type": "execute_result"
    }
   ],
   "source": [
    "connection = psycopg2.connect(host = '34.132.44.118',\n",
    "                              database = 'lab1-2',\n",
    "                              user = 'postgres',\n",
    "                              password = 'password')\n",
    "connection.closed"
   ]
  },
  {
   "cell_type": "markdown",
   "metadata": {},
   "source": [
    "## Create SQL Table"
   ]
  },
  {
   "cell_type": "code",
   "execution_count": 124,
   "metadata": {},
   "outputs": [],
   "source": [
    "cursor = connection.cursor()\n",
    "cursor.execute(\"DROP TABLE IF EXISTS purpleair_stations;\")\n",
    "new_table = sql.SQL(\"CREATE TABLE purpleair_stations (sensor_index integer, last_modified integer, date_created integer, last_seen integer, name varchar(100), location_type integer, firmware_version varchar(30), uptime integer, position_rating integer, latitude float, longitude float, altitude integer, channel_state integer, channel_flags integer, WKT geometry);\")\n",
    "\n",
    "cursor.execute(new_table)\n",
    "connection.commit()"
   ]
  },
  {
   "cell_type": "markdown",
   "metadata": {},
   "source": [
    "## Insert Data into SQL Table"
   ]
  },
  {
   "cell_type": "code",
   "execution_count": 125,
   "metadata": {},
   "outputs": [],
   "source": [
    "# Open the CSV file\n",
    "csv_path = r\"C:\\Users\\tande\\Documents\\ArcGIS\\Projects\\PurpleAir_PM_QAQC\\output.csv\"\n",
    "with open(csv_path) as f:\n",
    "    # Use the CSV reader to read the file\n",
    "    reader = csv.reader(f)\n",
    "    # Skip the header row\n",
    "    next(reader)\n",
    "    # Iterate over each row and insert into the table\n",
    "    for row in reader:\n",
    "        # Unpack the row fields into separate variables\n",
    "        sensor_index, last_modified, date_created, last_seen, name, location_type, firmware_version, uptime, position_rating, latitude, longitude, altitude, channel_state, channel_flags, wkt = row\n",
    "        # Construct the INSERT statement with explicit field names\n",
    "        query = \"\"\"INSERT INTO purpleair_stations (\n",
    "                        sensor_index, last_modified, date_created, last_seen, name, location_type, firmware_version, uptime, \n",
    "                        position_rating, latitude, longitude, altitude, channel_state, channel_flags, WKT) \n",
    "                   VALUES (%s, %s, %s, %s, %s, %s, %s, %s, %s, %s, %s, %s, %s, %s, %s)\"\"\"\n",
    "        # Execute the INSERT statement with the row fields as parameters\n",
    "        cursor.execute(query, (sensor_index, last_modified, date_created, last_seen, name, location_type, firmware_version, \n",
    "                               uptime, position_rating, latitude, longitude, altitude, channel_state, channel_flags, wkt))\n",
    "\n",
    "# Commit the changes to the database\n",
    "connection.commit()\n",
    "\n",
    "# Close the cursor and connection\n",
    "cursor.close()\n",
    "connection.close()"
   ]
  }
 ],
 "metadata": {
  "kernelspec": {
   "display_name": "Python 3",
   "language": "python",
   "name": "python3"
  },
  "language_info": {
   "codemirror_mode": {
    "name": "ipython",
    "version": 3
   },
   "file_extension": ".py",
   "mimetype": "text/x-python",
   "name": "python",
   "nbconvert_exporter": "python",
   "pygments_lexer": "ipython3",
   "version": "3.9.11"
  }
 },
 "nbformat": 4,
 "nbformat_minor": 4
}
