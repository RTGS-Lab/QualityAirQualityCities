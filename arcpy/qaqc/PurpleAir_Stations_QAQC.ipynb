{
 "cells": [
  {
   "cell_type": "markdown",
   "metadata": {},
   "source": [
    "# PurpleAir Stations QAQC"
   ]
  },
  {
   "cell_type": "markdown",
   "metadata": {},
   "source": [
    "## Import Packages"
   ]
  },
  {
   "cell_type": "code",
   "execution_count": 19,
   "metadata": {},
   "outputs": [],
   "source": [
    "### Import Packages\n",
    "\n",
    "# File manipulation\n",
    "\n",
    "import os # For working with Operating System\n",
    "import requests # Accessing the Web\n",
    "import datetime as dt # Working with dates/times\n",
    "\n",
    "# Database \n",
    "\n",
    "import psycopg2\n",
    "from psycopg2 import sql\n",
    "\n",
    "# Analysis\n",
    "\n",
    "import numpy as np\n",
    "import arcpy\n",
    "import pandas as pd"
   ]
  },
  {
   "cell_type": "markdown",
   "metadata": {},
   "source": [
    "## Set Working Environment"
   ]
  },
  {
   "cell_type": "code",
   "execution_count": 2,
   "metadata": {},
   "outputs": [],
   "source": [
    "# Get CWD\n",
    "\n",
    "cwd = os.getcwd() # This is a global variable for where the notebook is (must change if running in arcpro)\n",
    "\n",
    "# Create GeoDataBase\n",
    "# This is the communal GeoDataBase\n",
    "\n",
    "if not os.path.exists(os.path.join(cwd, '..', '..', 'data', 'QAQC.gdb')): # If it doesn't exist, create it\n",
    "\n",
    "    arcpy.management.CreateFileGDB(os.path.join(cwd, '..', '..', 'data'), 'QAQC')\n",
    "\n",
    "# Make it workspace\n",
    "\n",
    "arcpy.env.workspace = os.path.join(cwd, '..', '..', 'data', 'QAQC.gdb')\n",
    "\n",
    "arcpy.env.overwriteOutput = True # Overwrite layers is okay"
   ]
  },
  {
   "cell_type": "markdown",
   "metadata": {},
   "source": [
    "## Set Bounds for PurpleAir Parameters"
   ]
  },
  {
   "cell_type": "code",
   "execution_count": 3,
   "metadata": {},
   "outputs": [],
   "source": [
    "#Setting lat/long for PurpleAir API Parameters\n",
    "nwlng = arcpy.Describe(\"mpls_8km_wgs\").extent.XMin\n",
    "nwlat = arcpy.Describe(\"mpls_8km_wgs\").extent.YMax\n",
    "selng = arcpy.Describe(\"mpls_8km_wgs\").extent.XMax\n",
    "selat = arcpy.Describe(\"mpls_8km_wgs\").extent.YMin"
   ]
  },
  {
   "cell_type": "markdown",
   "metadata": {},
   "source": [
    "## Importing PurpleAir Station Data from PurpleAir API"
   ]
  },
  {
   "cell_type": "code",
   "execution_count": 4,
   "metadata": {},
   "outputs": [],
   "source": [
    "def getSensorsData(query='', api_read_key=''):\n",
    "\n",
    "    # my_url is assigned the URL we are going to send our request to.\n",
    "    url = 'https://api.purpleair.com/v1/sensors?' + query\n",
    "    \n",
    "    print('Here is the full url for the API call:\\n\\n', url)\n",
    "\n",
    "    # my_headers is assigned the context of our request we want to make. In this case\n",
    "    # we will pass through our API read key using the variable created above.\n",
    "    my_headers = {'X-API-Key':api_read_key}\n",
    "\n",
    "    # This line creates and sends the request and then assigns its response to the\n",
    "    # variable, r.\n",
    "    response = requests.get(url, headers=my_headers)\n",
    "\n",
    "    # We then return the response we received.\n",
    "    return response"
   ]
  },
  {
   "cell_type": "code",
   "execution_count": 5,
   "metadata": {},
   "outputs": [
    {
     "name": "stdin",
     "output_type": "stream",
     "text": [
      "Please enter your Purple Air api key 51592903-B445-11ED-B6F4-42010A800007\n"
     ]
    }
   ],
   "source": [
    "#PurpleAir API 'read' key\n",
    "api = input('Please enter your Purple Air api key')"
   ]
  },
  {
   "cell_type": "code",
   "execution_count": 6,
   "metadata": {},
   "outputs": [
    {
     "name": "stdout",
     "output_type": "stream",
     "text": [
      "nwlng=-93.43047670599998&nwlat=45.12326797900003&selng=-93.09299994199998&selat=44.81858013100003\n"
     ]
    }
   ],
   "source": [
    "#Set bounding strings for API parameters\n",
    "bounds_strings = [f'nwlng={nwlng}',\n",
    "                  f'nwlat={nwlat}',\n",
    "                  f'selng={selng}',\n",
    "                  f'selat={selat}']\n",
    "\n",
    "bounds_string = '&'.join(bounds_strings)\n",
    "\n",
    "print(bounds_string)"
   ]
  },
  {
   "cell_type": "code",
   "execution_count": 7,
   "metadata": {},
   "outputs": [
    {
     "name": "stdout",
     "output_type": "stream",
     "text": [
      "fields=name%2Cfirmware_version%2Cdate_created%2Clast_modified%2Clast_seen%2Cuptime%2Cposition_rating%2Cchannel_state%2Cchannel_flags%2Caltitude%2Clocation_type%2Clatitude%2Clongitude\n"
     ]
    }
   ],
   "source": [
    "#Setting parameters for API\n",
    "fields = ['name', 'firmware_version','date_created','last_modified','last_seen','uptime','position_rating','channel_state','channel_flags','altitude',\n",
    "          'location_type','latitude', 'longitude']\n",
    "\n",
    "fields_string = 'fields=' + '%2C'.join(fields)\n",
    "\n",
    "print(fields_string)"
   ]
  },
  {
   "cell_type": "code",
   "execution_count": 8,
   "metadata": {},
   "outputs": [
    {
     "name": "stdout",
     "output_type": "stream",
     "text": [
      "fields=name%2Cfirmware_version%2Cdate_created%2Clast_modified%2Clast_seen%2Cuptime%2Cposition_rating%2Cchannel_state%2Cchannel_flags%2Caltitude%2Clocation_type%2Clatitude%2Clongitude&nwlng=-93.43047670599998&nwlat=45.12326797900003&selng=-93.09299994199998&selat=44.81858013100003\n"
     ]
    }
   ],
   "source": [
    "#finalizing query for API function\n",
    "query_string = '&'.join([fields_string, bounds_string])\n",
    "\n",
    "print(query_string)"
   ]
  },
  {
   "cell_type": "code",
   "execution_count": 9,
   "metadata": {},
   "outputs": [
    {
     "name": "stdout",
     "output_type": "stream",
     "text": [
      "Here is the full url for the API call:\n",
      "\n",
      " https://api.purpleair.com/v1/sensors?fields=name%2Cfirmware_version%2Cdate_created%2Clast_modified%2Clast_seen%2Cuptime%2Cposition_rating%2Cchannel_state%2Cchannel_flags%2Caltitude%2Clocation_type%2Clatitude%2Clongitude&nwlng=-93.43047670599998&nwlat=45.12326797900003&selng=-93.09299994199998&selat=44.81858013100003\n"
     ]
    }
   ],
   "source": [
    "#calling the API\n",
    "response = getSensorsData(query_string, api)"
   ]
  },
  {
   "cell_type": "code",
   "execution_count": 12,
   "metadata": {},
   "outputs": [
    {
     "name": "stdout",
     "output_type": "stream",
     "text": [
      "<class 'pandas.core.frame.DataFrame'>\n",
      "RangeIndex: 87 entries, 0 to 86\n",
      "Data columns (total 14 columns):\n",
      " #   Column            Non-Null Count  Dtype \n",
      "---  ------            --------------  ----- \n",
      " 0   sensor_index      87 non-null     object\n",
      " 1   last_modified     87 non-null     object\n",
      " 2   date_created      87 non-null     object\n",
      " 3   last_seen         87 non-null     object\n",
      " 4   name              87 non-null     object\n",
      " 5   location_type     87 non-null     object\n",
      " 6   firmware_version  87 non-null     object\n",
      " 7   uptime            87 non-null     object\n",
      " 8   position_rating   87 non-null     object\n",
      " 9   latitude          87 non-null     object\n",
      " 10  longitude         87 non-null     object\n",
      " 11  altitude          87 non-null     object\n",
      " 12  channel_state     87 non-null     object\n",
      " 13  channel_flags     87 non-null     object\n",
      "dtypes: object(14)\n",
      "memory usage: 9.6+ KB\n"
     ]
    }
   ],
   "source": [
    "response_dict = response.json() # Read response as a json (dictionary)\n",
    "\n",
    "col_names = response_dict['fields']\n",
    "data = np.array(response_dict['data'])\n",
    "\n",
    "df = pd.DataFrame(data, columns = col_names)\n",
    "\n",
    "df.info()"
   ]
  },
  {
   "cell_type": "markdown",
   "metadata": {},
   "source": [
    "## Cleaning PurpleAir Station Data"
   ]
  },
  {
   "cell_type": "code",
   "execution_count": 13,
   "metadata": {},
   "outputs": [
    {
     "data": {
      "text/html": [
       "<div>\n",
       "<style scoped>\n",
       "    .dataframe tbody tr th:only-of-type {\n",
       "        vertical-align: middle;\n",
       "    }\n",
       "\n",
       "    .dataframe tbody tr th {\n",
       "        vertical-align: top;\n",
       "    }\n",
       "\n",
       "    .dataframe thead th {\n",
       "        text-align: right;\n",
       "    }\n",
       "</style>\n",
       "<table border=\"1\" class=\"dataframe\">\n",
       "  <thead>\n",
       "    <tr style=\"text-align: right;\">\n",
       "      <th></th>\n",
       "      <th>sensor_index</th>\n",
       "      <th>last_modified</th>\n",
       "      <th>date_created</th>\n",
       "      <th>last_seen</th>\n",
       "      <th>name</th>\n",
       "      <th>location_type</th>\n",
       "      <th>firmware_version</th>\n",
       "      <th>uptime</th>\n",
       "      <th>position_rating</th>\n",
       "      <th>latitude</th>\n",
       "      <th>longitude</th>\n",
       "      <th>altitude</th>\n",
       "      <th>channel_state</th>\n",
       "      <th>channel_flags</th>\n",
       "    </tr>\n",
       "  </thead>\n",
       "  <tbody>\n",
       "    <tr>\n",
       "      <th>0</th>\n",
       "      <td>3088</td>\n",
       "      <td>1504993349</td>\n",
       "      <td>1504040633</td>\n",
       "      <td>1681154171</td>\n",
       "      <td>Howe Neighborhood</td>\n",
       "      <td>0</td>\n",
       "      <td>6.06b</td>\n",
       "      <td>9461</td>\n",
       "      <td>5</td>\n",
       "      <td>44.935818</td>\n",
       "      <td>-93.21752</td>\n",
       "      <td>833</td>\n",
       "      <td>3</td>\n",
       "      <td>0</td>\n",
       "    </tr>\n",
       "    <tr>\n",
       "      <th>1</th>\n",
       "      <td>5582</td>\n",
       "      <td>1660166545</td>\n",
       "      <td>1514335701</td>\n",
       "      <td>1681154177</td>\n",
       "      <td>Vircroft Ashnia</td>\n",
       "      <td>0</td>\n",
       "      <td>7.02</td>\n",
       "      <td>4308</td>\n",
       "      <td>5</td>\n",
       "      <td>44.891655</td>\n",
       "      <td>-93.34291</td>\n",
       "      <td>899</td>\n",
       "      <td>3</td>\n",
       "      <td>0</td>\n",
       "    </tr>\n",
       "    <tr>\n",
       "      <th>2</th>\n",
       "      <td>137876</td>\n",
       "      <td>1637086469</td>\n",
       "      <td>1637082783</td>\n",
       "      <td>1681154114</td>\n",
       "      <td>King Field Indoors</td>\n",
       "      <td>1</td>\n",
       "      <td>7.02</td>\n",
       "      <td>44756</td>\n",
       "      <td>0</td>\n",
       "      <td>44.928917</td>\n",
       "      <td>-93.284706</td>\n",
       "      <td>886</td>\n",
       "      <td>3</td>\n",
       "      <td>0</td>\n",
       "    </tr>\n",
       "    <tr>\n",
       "      <th>3</th>\n",
       "      <td>11134</td>\n",
       "      <td>1529977499</td>\n",
       "      <td>1527023589</td>\n",
       "      <td>1681154110</td>\n",
       "      <td>Linden Hills</td>\n",
       "      <td>0</td>\n",
       "      <td>7.02</td>\n",
       "      <td>25688</td>\n",
       "      <td>5</td>\n",
       "      <td>44.92776</td>\n",
       "      <td>-93.32235</td>\n",
       "      <td>886</td>\n",
       "      <td>3</td>\n",
       "      <td>0</td>\n",
       "    </tr>\n",
       "    <tr>\n",
       "      <th>4</th>\n",
       "      <td>142718</td>\n",
       "      <td>1675359061</td>\n",
       "      <td>1642013869</td>\n",
       "      <td>1681154174</td>\n",
       "      <td>City of Minneapolis Community Air Monitoring P...</td>\n",
       "      <td>0</td>\n",
       "      <td>7.02</td>\n",
       "      <td>30211</td>\n",
       "      <td>5</td>\n",
       "      <td>44.995792</td>\n",
       "      <td>-93.295395</td>\n",
       "      <td>865</td>\n",
       "      <td>3</td>\n",
       "      <td>0</td>\n",
       "    </tr>\n",
       "  </tbody>\n",
       "</table>\n",
       "</div>"
      ],
      "text/plain": [
       "  sensor_index last_modified date_created   last_seen  \\\n",
       "0         3088    1504993349   1504040633  1681154171   \n",
       "1         5582    1660166545   1514335701  1681154177   \n",
       "2       137876    1637086469   1637082783  1681154114   \n",
       "3        11134    1529977499   1527023589  1681154110   \n",
       "4       142718    1675359061   1642013869  1681154174   \n",
       "\n",
       "                                                name location_type  \\\n",
       "0                                  Howe Neighborhood             0   \n",
       "1                                    Vircroft Ashnia             0   \n",
       "2                                 King Field Indoors             1   \n",
       "3                                       Linden Hills             0   \n",
       "4  City of Minneapolis Community Air Monitoring P...             0   \n",
       "\n",
       "  firmware_version uptime position_rating   latitude   longitude altitude  \\\n",
       "0            6.06b   9461               5  44.935818   -93.21752      833   \n",
       "1             7.02   4308               5  44.891655   -93.34291      899   \n",
       "2             7.02  44756               0  44.928917  -93.284706      886   \n",
       "3             7.02  25688               5   44.92776   -93.32235      886   \n",
       "4             7.02  30211               5  44.995792  -93.295395      865   \n",
       "\n",
       "  channel_state channel_flags  \n",
       "0             3             0  \n",
       "1             3             0  \n",
       "2             3             0  \n",
       "3             3             0  \n",
       "4             3             0  "
      ]
     },
     "execution_count": 13,
     "metadata": {},
     "output_type": "execute_result"
    }
   ],
   "source": [
    "#visualizing API response\n",
    "df.head()"
   ]
  },
  {
   "cell_type": "code",
   "execution_count": 14,
   "metadata": {},
   "outputs": [
    {
     "data": {
      "text/plain": [
       "79"
      ]
     },
     "execution_count": 14,
     "metadata": {},
     "output_type": "execute_result"
    }
   ],
   "source": [
    "#find outside sensors\n",
    "df_outside = df[df.location_type =='0']\n",
    "len(df_outside)"
   ]
  },
  {
   "cell_type": "code",
   "execution_count": 16,
   "metadata": {},
   "outputs": [],
   "source": [
    "#drop the location_type now that we have filtered for outdoor sensors only\n",
    "df_stations = df_outside.drop('location_type', axis=1)"
   ]
  },
  {
   "cell_type": "code",
   "execution_count": 17,
   "metadata": {},
   "outputs": [],
   "source": [
    "#Converting UNIX date/time to pd\n",
    "df_stations['last_modified'] = pd.to_datetime(df_stations['last_modified'], unit='s')\n",
    "df_stations['date_created'] = pd.to_datetime(df_stations['date_created'], unit='s')\n",
    "df_stations['last_seen'] = pd.to_datetime(df_stations['last_seen'], unit='s')"
   ]
  },
  {
   "cell_type": "code",
   "execution_count": 18,
   "metadata": {},
   "outputs": [
    {
     "data": {
      "text/html": [
       "<div>\n",
       "<style scoped>\n",
       "    .dataframe tbody tr th:only-of-type {\n",
       "        vertical-align: middle;\n",
       "    }\n",
       "\n",
       "    .dataframe tbody tr th {\n",
       "        vertical-align: top;\n",
       "    }\n",
       "\n",
       "    .dataframe thead th {\n",
       "        text-align: right;\n",
       "    }\n",
       "</style>\n",
       "<table border=\"1\" class=\"dataframe\">\n",
       "  <thead>\n",
       "    <tr style=\"text-align: right;\">\n",
       "      <th></th>\n",
       "      <th>sensor_index</th>\n",
       "      <th>last_modified</th>\n",
       "      <th>date_created</th>\n",
       "      <th>last_seen</th>\n",
       "      <th>name</th>\n",
       "      <th>firmware_version</th>\n",
       "      <th>uptime</th>\n",
       "      <th>position_rating</th>\n",
       "      <th>latitude</th>\n",
       "      <th>longitude</th>\n",
       "      <th>altitude</th>\n",
       "      <th>channel_state</th>\n",
       "      <th>channel_flags</th>\n",
       "    </tr>\n",
       "  </thead>\n",
       "  <tbody>\n",
       "    <tr>\n",
       "      <th>0</th>\n",
       "      <td>3088</td>\n",
       "      <td>2017-09-09 21:42:29</td>\n",
       "      <td>2017-08-29 21:03:53</td>\n",
       "      <td>2023-04-10 19:16:11</td>\n",
       "      <td>Howe Neighborhood</td>\n",
       "      <td>6.06b</td>\n",
       "      <td>9461</td>\n",
       "      <td>5</td>\n",
       "      <td>44.935818</td>\n",
       "      <td>-93.21752</td>\n",
       "      <td>833</td>\n",
       "      <td>3</td>\n",
       "      <td>0</td>\n",
       "    </tr>\n",
       "    <tr>\n",
       "      <th>1</th>\n",
       "      <td>5582</td>\n",
       "      <td>2022-08-10 21:22:25</td>\n",
       "      <td>2017-12-27 00:48:21</td>\n",
       "      <td>2023-04-10 19:16:17</td>\n",
       "      <td>Vircroft Ashnia</td>\n",
       "      <td>7.02</td>\n",
       "      <td>4308</td>\n",
       "      <td>5</td>\n",
       "      <td>44.891655</td>\n",
       "      <td>-93.34291</td>\n",
       "      <td>899</td>\n",
       "      <td>3</td>\n",
       "      <td>0</td>\n",
       "    </tr>\n",
       "    <tr>\n",
       "      <th>3</th>\n",
       "      <td>11134</td>\n",
       "      <td>2018-06-26 01:44:59</td>\n",
       "      <td>2018-05-22 21:13:09</td>\n",
       "      <td>2023-04-10 19:15:10</td>\n",
       "      <td>Linden Hills</td>\n",
       "      <td>7.02</td>\n",
       "      <td>25688</td>\n",
       "      <td>5</td>\n",
       "      <td>44.92776</td>\n",
       "      <td>-93.32235</td>\n",
       "      <td>886</td>\n",
       "      <td>3</td>\n",
       "      <td>0</td>\n",
       "    </tr>\n",
       "    <tr>\n",
       "      <th>4</th>\n",
       "      <td>142718</td>\n",
       "      <td>2023-02-02 17:31:01</td>\n",
       "      <td>2022-01-12 18:57:49</td>\n",
       "      <td>2023-04-10 19:16:14</td>\n",
       "      <td>City of Minneapolis Community Air Monitoring P...</td>\n",
       "      <td>7.02</td>\n",
       "      <td>30211</td>\n",
       "      <td>5</td>\n",
       "      <td>44.995792</td>\n",
       "      <td>-93.295395</td>\n",
       "      <td>865</td>\n",
       "      <td>3</td>\n",
       "      <td>0</td>\n",
       "    </tr>\n",
       "    <tr>\n",
       "      <th>5</th>\n",
       "      <td>142720</td>\n",
       "      <td>2023-02-02 17:31:45</td>\n",
       "      <td>2022-01-12 18:57:55</td>\n",
       "      <td>2023-04-10 19:14:49</td>\n",
       "      <td>City of Minneapolis community air monitoring p...</td>\n",
       "      <td>7.02</td>\n",
       "      <td>13229</td>\n",
       "      <td>5</td>\n",
       "      <td>44.95617</td>\n",
       "      <td>-93.25471</td>\n",
       "      <td>856</td>\n",
       "      <td>3</td>\n",
       "      <td>0</td>\n",
       "    </tr>\n",
       "  </tbody>\n",
       "</table>\n",
       "</div>"
      ],
      "text/plain": [
       "  sensor_index       last_modified        date_created           last_seen  \\\n",
       "0         3088 2017-09-09 21:42:29 2017-08-29 21:03:53 2023-04-10 19:16:11   \n",
       "1         5582 2022-08-10 21:22:25 2017-12-27 00:48:21 2023-04-10 19:16:17   \n",
       "3        11134 2018-06-26 01:44:59 2018-05-22 21:13:09 2023-04-10 19:15:10   \n",
       "4       142718 2023-02-02 17:31:01 2022-01-12 18:57:49 2023-04-10 19:16:14   \n",
       "5       142720 2023-02-02 17:31:45 2022-01-12 18:57:55 2023-04-10 19:14:49   \n",
       "\n",
       "                                                name firmware_version uptime  \\\n",
       "0                                  Howe Neighborhood            6.06b   9461   \n",
       "1                                    Vircroft Ashnia             7.02   4308   \n",
       "3                                       Linden Hills             7.02  25688   \n",
       "4  City of Minneapolis Community Air Monitoring P...             7.02  30211   \n",
       "5  City of Minneapolis community air monitoring p...             7.02  13229   \n",
       "\n",
       "  position_rating   latitude   longitude altitude channel_state channel_flags  \n",
       "0               5  44.935818   -93.21752      833             3             0  \n",
       "1               5  44.891655   -93.34291      899             3             0  \n",
       "3               5   44.92776   -93.32235      886             3             0  \n",
       "4               5  44.995792  -93.295395      865             3             0  \n",
       "5               5   44.95617   -93.25471      856             3             0  "
      ]
     },
     "execution_count": 18,
     "metadata": {},
     "output_type": "execute_result"
    }
   ],
   "source": [
    "df_stations.head()"
   ]
  },
  {
   "cell_type": "markdown",
   "metadata": {},
   "source": [
    "## Let the QAQC Begin!"
   ]
  },
  {
   "cell_type": "code",
   "execution_count": 175,
   "metadata": {},
   "outputs": [],
   "source": [
    "#visual inspection that all the points fall within the boundary + 8KM buffer"
   ]
  },
  {
   "cell_type": "markdown",
   "metadata": {},
   "source": [
    "### Altitude Check"
   ]
  },
  {
   "cell_type": "code",
   "execution_count": 20,
   "metadata": {},
   "outputs": [],
   "source": [
    "df_stations['altitude'] = pd.to_numeric(df_stations['altitude'], errors='coerce')\n",
    "def check_range(value):\n",
    "    if value is None:\n",
    "        return 'no value given'  # or any other value that indicates a missing value\n",
    "    elif value >= 680 and value <= 1120:\n",
    "        pass\n",
    "    else:\n",
    "        return 'out of range (680-1120ft)'\n",
    "    \n",
    "df_stations['altitude_error'] = df_stations['altitude'].apply(check_range)\n",
    "\n",
    "#680 - 1120 Ref https://en-us.topographic-map.com/map-bbpz4/Minneapolis/"
   ]
  },
  {
   "cell_type": "code",
   "execution_count": 23,
   "metadata": {},
   "outputs": [
    {
     "data": {
      "text/html": [
       "<div>\n",
       "<style scoped>\n",
       "    .dataframe tbody tr th:only-of-type {\n",
       "        vertical-align: middle;\n",
       "    }\n",
       "\n",
       "    .dataframe tbody tr th {\n",
       "        vertical-align: top;\n",
       "    }\n",
       "\n",
       "    .dataframe thead th {\n",
       "        text-align: right;\n",
       "    }\n",
       "</style>\n",
       "<table border=\"1\" class=\"dataframe\">\n",
       "  <thead>\n",
       "    <tr style=\"text-align: right;\">\n",
       "      <th></th>\n",
       "      <th>sensor_index</th>\n",
       "      <th>last_modified</th>\n",
       "      <th>date_created</th>\n",
       "      <th>last_seen</th>\n",
       "      <th>name</th>\n",
       "      <th>firmware_version</th>\n",
       "      <th>uptime</th>\n",
       "      <th>position_rating</th>\n",
       "      <th>latitude</th>\n",
       "      <th>longitude</th>\n",
       "      <th>altitude</th>\n",
       "      <th>channel_state</th>\n",
       "      <th>channel_flags</th>\n",
       "      <th>altitude_error</th>\n",
       "    </tr>\n",
       "  </thead>\n",
       "  <tbody>\n",
       "    <tr>\n",
       "      <th>0</th>\n",
       "      <td>3088</td>\n",
       "      <td>2017-09-09 21:42:29</td>\n",
       "      <td>2017-08-29 21:03:53</td>\n",
       "      <td>2023-04-10 19:16:11</td>\n",
       "      <td>Howe Neighborhood</td>\n",
       "      <td>6.06b</td>\n",
       "      <td>9461</td>\n",
       "      <td>5</td>\n",
       "      <td>44.935818</td>\n",
       "      <td>-93.21752</td>\n",
       "      <td>833</td>\n",
       "      <td>3</td>\n",
       "      <td>0</td>\n",
       "      <td>None</td>\n",
       "    </tr>\n",
       "    <tr>\n",
       "      <th>1</th>\n",
       "      <td>5582</td>\n",
       "      <td>2022-08-10 21:22:25</td>\n",
       "      <td>2017-12-27 00:48:21</td>\n",
       "      <td>2023-04-10 19:16:17</td>\n",
       "      <td>Vircroft Ashnia</td>\n",
       "      <td>7.02</td>\n",
       "      <td>4308</td>\n",
       "      <td>5</td>\n",
       "      <td>44.891655</td>\n",
       "      <td>-93.34291</td>\n",
       "      <td>899</td>\n",
       "      <td>3</td>\n",
       "      <td>0</td>\n",
       "      <td>None</td>\n",
       "    </tr>\n",
       "    <tr>\n",
       "      <th>3</th>\n",
       "      <td>11134</td>\n",
       "      <td>2018-06-26 01:44:59</td>\n",
       "      <td>2018-05-22 21:13:09</td>\n",
       "      <td>2023-04-10 19:15:10</td>\n",
       "      <td>Linden Hills</td>\n",
       "      <td>7.02</td>\n",
       "      <td>25688</td>\n",
       "      <td>5</td>\n",
       "      <td>44.92776</td>\n",
       "      <td>-93.32235</td>\n",
       "      <td>886</td>\n",
       "      <td>3</td>\n",
       "      <td>0</td>\n",
       "      <td>None</td>\n",
       "    </tr>\n",
       "    <tr>\n",
       "      <th>4</th>\n",
       "      <td>142718</td>\n",
       "      <td>2023-02-02 17:31:01</td>\n",
       "      <td>2022-01-12 18:57:49</td>\n",
       "      <td>2023-04-10 19:16:14</td>\n",
       "      <td>City of Minneapolis Community Air Monitoring P...</td>\n",
       "      <td>7.02</td>\n",
       "      <td>30211</td>\n",
       "      <td>5</td>\n",
       "      <td>44.995792</td>\n",
       "      <td>-93.295395</td>\n",
       "      <td>865</td>\n",
       "      <td>3</td>\n",
       "      <td>0</td>\n",
       "      <td>None</td>\n",
       "    </tr>\n",
       "    <tr>\n",
       "      <th>5</th>\n",
       "      <td>142720</td>\n",
       "      <td>2023-02-02 17:31:45</td>\n",
       "      <td>2022-01-12 18:57:55</td>\n",
       "      <td>2023-04-10 19:14:49</td>\n",
       "      <td>City of Minneapolis community air monitoring p...</td>\n",
       "      <td>7.02</td>\n",
       "      <td>13229</td>\n",
       "      <td>5</td>\n",
       "      <td>44.95617</td>\n",
       "      <td>-93.25471</td>\n",
       "      <td>856</td>\n",
       "      <td>3</td>\n",
       "      <td>0</td>\n",
       "      <td>None</td>\n",
       "    </tr>\n",
       "  </tbody>\n",
       "</table>\n",
       "</div>"
      ],
      "text/plain": [
       "  sensor_index       last_modified        date_created           last_seen  \\\n",
       "0         3088 2017-09-09 21:42:29 2017-08-29 21:03:53 2023-04-10 19:16:11   \n",
       "1         5582 2022-08-10 21:22:25 2017-12-27 00:48:21 2023-04-10 19:16:17   \n",
       "3        11134 2018-06-26 01:44:59 2018-05-22 21:13:09 2023-04-10 19:15:10   \n",
       "4       142718 2023-02-02 17:31:01 2022-01-12 18:57:49 2023-04-10 19:16:14   \n",
       "5       142720 2023-02-02 17:31:45 2022-01-12 18:57:55 2023-04-10 19:14:49   \n",
       "\n",
       "                                                name firmware_version uptime  \\\n",
       "0                                  Howe Neighborhood            6.06b   9461   \n",
       "1                                    Vircroft Ashnia             7.02   4308   \n",
       "3                                       Linden Hills             7.02  25688   \n",
       "4  City of Minneapolis Community Air Monitoring P...             7.02  30211   \n",
       "5  City of Minneapolis community air monitoring p...             7.02  13229   \n",
       "\n",
       "  position_rating   latitude   longitude  altitude channel_state  \\\n",
       "0               5  44.935818   -93.21752       833             3   \n",
       "1               5  44.891655   -93.34291       899             3   \n",
       "3               5   44.92776   -93.32235       886             3   \n",
       "4               5  44.995792  -93.295395       865             3   \n",
       "5               5   44.95617   -93.25471       856             3   \n",
       "\n",
       "  channel_flags altitude_error  \n",
       "0             0           None  \n",
       "1             0           None  \n",
       "3             0           None  \n",
       "4             0           None  \n",
       "5             0           None  "
      ]
     },
     "execution_count": 23,
     "metadata": {},
     "output_type": "execute_result"
    }
   ],
   "source": [
    "df_stations.head()"
   ]
  },
  {
   "cell_type": "markdown",
   "metadata": {},
   "source": [
    "## Upload to Local & Remote Databases"
   ]
  },
  {
   "cell_type": "markdown",
   "metadata": {},
   "source": [
    "### Converting lat/long to WKT for SQL"
   ]
  },
  {
   "cell_type": "code",
   "execution_count": 25,
   "metadata": {},
   "outputs": [],
   "source": [
    "# Create a list to store the WKT values\n",
    "wkt_list = []\n",
    "\n",
    "# Iterate over each row and add the WKT representation of a point geometry\n",
    "for index, row in df_stations.iterrows():\n",
    "    latitude, longitude = row['latitude'], row['longitude']\n",
    "    point = arcpy.Point(longitude, latitude)\n",
    "    point_geom = arcpy.PointGeometry(point, 4326)\n",
    "    wkt = point_geom.WKT\n",
    "    wkt_list.append(wkt)\n",
    "\n",
    "# Add the WKT column to the DataFrame\n",
    "df_stations['WKT'] = wkt_list"
   ]
  },
  {
   "cell_type": "code",
   "execution_count": 26,
   "metadata": {},
   "outputs": [],
   "source": [
    "### Local GDB\n",
    "\n",
    "# Initialize Feature Class\n",
    "\n",
    "table_name = 'PURPLEAIR_STATIONS'\n",
    "geom_type = 'POINT'\n",
    "out_coordinate_system = arcpy.SpatialReference(26915)\n",
    "\n",
    "arcpy.management.CreateFeatureclass(arcpy.env.workspace, table_name, geom_type, \n",
    "                                    spatial_reference = out_coordinate_system)\n",
    "\n",
    "# Initialize Fields\n",
    "\n",
    "cols_for_gdb = ['sensor_index', 'last_modified', 'date_created', 'last_seen', 'name',\n",
    "       'firmware_version', 'uptime', 'position_rating', 'altitude', 'channel_state', 'channel_flags']\n",
    "\n",
    "dtypes_for_gdb = ['LONG', 'DATE', 'DATE', 'DATE', 'TEXT',\n",
    "                  'TEXT', 'LONG', 'SHORT', 'SHORT', 'SHORT', 'SHORT']\n",
    "\n",
    "field_desc = list(zip(cols_for_gdb, dtypes_for_gdb))\n",
    "\n",
    "arcpy.management.AddFields(table_name, field_desc)\n",
    "\n",
    "# Insert into table\n",
    "\n",
    "with arcpy.da.InsertCursor(table_name, cols_for_gdb + ['SHAPE@']) as cursor:\n",
    "\n",
    "    for i, df_row in df_stations.iterrows():\n",
    "\n",
    "        row = [None] * (len(cols_for_gdb)+1)\n",
    "\n",
    "        row[:len(cols_for_gdb)] = df_row[cols_for_gdb]\n",
    "\n",
    "        pt = arcpy.FromWKT(df_row['WKT'], arcpy.SpatialReference(4326)).projectAs(out_coordinate_system)\n",
    "\n",
    "        row[-1] = pt\n",
    "        \n",
    "        cursor.insertRow(row)"
   ]
  },
  {
   "cell_type": "markdown",
   "metadata": {},
   "source": [
    "## Insert Data into SQL Table"
   ]
  },
  {
   "cell_type": "code",
   "execution_count": 64,
   "metadata": {},
   "outputs": [
    {
     "data": {
      "text/plain": [
       "0"
      ]
     },
     "execution_count": 64,
     "metadata": {},
     "output_type": "execute_result"
    }
   ],
   "source": [
    "# Get credentials\n",
    "\n",
    "cred_pth = os.path.join(os.getcwd(), '..', '..', 'database', 'db_credentials.txt')\n",
    "\n",
    "with open(cred_pth, 'r') as f:\n",
    "    \n",
    "    creds = f.readlines()[0].rstrip('\\n').split(', ')\n",
    "    \n",
    "# Connect to PostGIS Database\n",
    "\n",
    "pg_connection_dict = dict(zip(['dbname', 'user', 'password', 'port', 'host'], creds))\n",
    "\n",
    "connection = psycopg2.connect(**pg_connection_dict)"
   ]
  },
  {
   "cell_type": "code",
   "execution_count": 66,
   "metadata": {},
   "outputs": [],
   "source": [
    "#connect to the cursor\n",
    "cur = connection.cursor()\n",
    "\n",
    "# iterate over the dataframe and insert each row into the database using a SQL INSERT statement\n",
    "for index, row in df_stations.iterrows():\n",
    "    cur.execute('''\n",
    "    INSERT INTO PURPLEAIR_STATIONS (sensor_index, last_modified, date_created, last_seen, name, firmware_version, uptime, \n",
    "                        position_rating, latitude, longitude, altitude, channel_state, channel_flags, WKT)\n",
    "    VALUES (%s, %s, %s, %s, %s, %s, %s, %s, %s, %s, %s, ST_SetSRID(ST_GeomFromText(%s), 4326)::geometry)\n",
    "    ''', (row['sensor_index'], row['last_modified'], row['date_created'], row['last_seen'], row['name'], row['firmware_version'], \n",
    "          row['uptime'], row['position_rating'], row['altitude'], \n",
    "          row['channel_state'], row['channel_flags'], row['WKT']))\n",
    "    connection.commit()\n",
    "\n",
    "# Close the cursor and connection\n",
    "cursor.close()\n",
    "connection.close()"
   ]
  }
 ],
 "metadata": {
  "kernelspec": {
   "display_name": "Python 3",
   "language": "python",
   "name": "python3"
  },
  "language_info": {
   "codemirror_mode": {
    "name": "ipython",
    "version": 3
   },
   "file_extension": ".py",
   "mimetype": "text/x-python",
   "name": "python",
   "nbconvert_exporter": "python",
   "pygments_lexer": "ipython3",
   "version": "3.9.11"
  }
 },
 "nbformat": 4,
 "nbformat_minor": 4
}
