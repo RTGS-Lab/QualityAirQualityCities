{
 "cells": [
  {
   "cell_type": "code",
   "execution_count": 1,
   "id": "bca78c30",
   "metadata": {},
   "outputs": [],
   "source": [
    "import requests\n",
    "import psycopg2\n",
    "import json\n",
    "import arcpy\n",
    "\n",
    "\n",
    "# Make a GET request to the URL and parse the response as JSON\n",
    "url = 'https://services.arcgis.com/afSMGVsC7QlRK1kZ/arcgis/rest/services/Planning_Primary_Zoning/FeatureServer/0/query?outFields=ZONE_CODE&where=1%3D1&f=geojson'\n",
    "response = requests.get(url)\n",
    "data = json.loads(response.content)"
   ]
  },
  {
   "cell_type": "markdown",
   "id": "eda03a05",
   "metadata": {},
   "source": [
    "# Find overlapping polygons"
   ]
  },
  {
   "cell_type": "code",
   "execution_count": 7,
   "id": "0716938d",
   "metadata": {},
   "outputs": [
    {
     "name": "stdout",
     "output_type": "stream",
     "text": [
      "2215\n"
     ]
    },
    {
     "data": {
      "text/html": [
       "<div class='gpresult'><h2>Messages</h2><div id='messages' data-messages='[\"Start Time: Monday, March 27, 2023 4:39:04 PM\",\"Succeeded at Monday, March 27, 2023 4:39:04 PM (Elapsed Time: 0.01 seconds)\"]' data-show='true'><div id = 'default' /></div></div>"
      ],
      "text/plain": [
       "<Result 'true'>"
      ]
     },
     "execution_count": 7,
     "metadata": {},
     "output_type": "execute_result"
    }
   ],
   "source": [
    "# set the input URL. Different then one from above\n",
    "input_url = 'https://services.arcgis.com/afSMGVsC7QlRK1kZ/arcgis/rest/services/Planning_Primary_Zoning/FeatureServer/0'\n",
    "\n",
    "# create a feature layer from the input URL\n",
    "arcpy.MakeFeatureLayer_management(input_url, \"input_layer8\")\n",
    "\n",
    "# find overlapping polygons with the intersect tool\n",
    "output_layer8 = arcpy.Intersect_analysis([\"input_layer8\", \"input_layer8\"], \"memory\\\\output_layer8\")\n",
    "\n",
    "# print the number of features in the output layer\n",
    "print(arcpy.GetCount_management(output_layer8))\n",
    "\n",
    "# create a dictionary to store the overlapping features\n",
    "overlapping_features = {}\n",
    "\n",
    "# loop through the output layer and populate the dictionary\n",
    "with arcpy.da.SearchCursor(output_layer8, ['OID@', 'SHAPE@']) as cursor:\n",
    "    for row in cursor:\n",
    "        oid, shape = row\n",
    "        if oid not in overlapping_features:\n",
    "            overlapping_features[oid] = [shape]\n",
    "        else:\n",
    "            overlapping_features[oid].append(shape)\n",
    "\n",
    "# loop through the overlapping features and print their object IDs\n",
    "for oid, shapes in overlapping_features.items():\n",
    "    if len(shapes) > 1:\n",
    "        print(oid)\n",
    "\n",
    "# delete the output layer from memory\n",
    "arcpy.Delete_management(output_layer8)"
   ]
  },
  {
   "cell_type": "markdown",
   "id": "4e0dc919",
   "metadata": {},
   "source": [
    "# Find null values in data and print errors to an error code column"
   ]
  },
  {
   "cell_type": "code",
   "execution_count": 5,
   "id": "29468530",
   "metadata": {},
   "outputs": [
    {
     "ename": "KeyboardInterrupt",
     "evalue": "",
     "output_type": "error",
     "traceback": [
      "\u001b[1;31m---------------------------------------------------------------------------\u001b[0m",
      "\u001b[1;31mKeyboardInterrupt\u001b[0m                         Traceback (most recent call last)",
      "\u001b[1;32m<ipython-input-5-4ace44b81fe1>\u001b[0m in \u001b[0;36m<module>\u001b[1;34m\u001b[0m\n\u001b[0;32m      7\u001b[0m     \u001b[0mzone_code\u001b[0m \u001b[1;33m=\u001b[0m \u001b[0mfeature\u001b[0m\u001b[1;33m[\u001b[0m\u001b[1;34m'properties'\u001b[0m\u001b[1;33m]\u001b[0m\u001b[1;33m[\u001b[0m\u001b[1;34m'ZONE_CODE'\u001b[0m\u001b[1;33m]\u001b[0m\u001b[1;33m\u001b[0m\u001b[1;33m\u001b[0m\u001b[0m\n\u001b[0;32m      8\u001b[0m     \u001b[0mgeometry\u001b[0m \u001b[1;33m=\u001b[0m \u001b[0mjson\u001b[0m\u001b[1;33m.\u001b[0m\u001b[0mdumps\u001b[0m\u001b[1;33m(\u001b[0m\u001b[0mfeature\u001b[0m\u001b[1;33m[\u001b[0m\u001b[1;34m'geometry'\u001b[0m\u001b[1;33m]\u001b[0m\u001b[1;33m)\u001b[0m\u001b[1;33m\u001b[0m\u001b[1;33m\u001b[0m\u001b[0m\n\u001b[1;32m----> 9\u001b[1;33m     \u001b[0mcur\u001b[0m\u001b[1;33m.\u001b[0m\u001b[0mexecute\u001b[0m\u001b[1;33m(\u001b[0m\u001b[1;34m\"SELECT ST_AsText(ST_GeomFromGeoJSON(%s))\"\u001b[0m\u001b[1;33m,\u001b[0m \u001b[1;33m(\u001b[0m\u001b[0mgeometry\u001b[0m\u001b[1;33m,\u001b[0m\u001b[1;33m)\u001b[0m\u001b[1;33m)\u001b[0m\u001b[1;33m\u001b[0m\u001b[1;33m\u001b[0m\u001b[0m\n\u001b[0m\u001b[0;32m     10\u001b[0m     \u001b[0mwkt_geometry\u001b[0m \u001b[1;33m=\u001b[0m \u001b[0mcur\u001b[0m\u001b[1;33m.\u001b[0m\u001b[0mfetchone\u001b[0m\u001b[1;33m(\u001b[0m\u001b[1;33m)\u001b[0m\u001b[1;33m[\u001b[0m\u001b[1;36m0\u001b[0m\u001b[1;33m]\u001b[0m\u001b[1;33m\u001b[0m\u001b[1;33m\u001b[0m\u001b[0m\n\u001b[0;32m     11\u001b[0m \u001b[1;33m\u001b[0m\u001b[0m\n",
      "\u001b[1;32m~\\AppData\\Local\\ESRI\\conda\\envs\\arcpy_clone_ethan\\lib\\encodings\\utf_8.py\u001b[0m in \u001b[0;36mdecode\u001b[1;34m(input, errors)\u001b[0m\n\u001b[0;32m     13\u001b[0m \u001b[0mencode\u001b[0m \u001b[1;33m=\u001b[0m \u001b[0mcodecs\u001b[0m\u001b[1;33m.\u001b[0m\u001b[0mutf_8_encode\u001b[0m\u001b[1;33m\u001b[0m\u001b[1;33m\u001b[0m\u001b[0m\n\u001b[0;32m     14\u001b[0m \u001b[1;33m\u001b[0m\u001b[0m\n\u001b[1;32m---> 15\u001b[1;33m \u001b[1;32mdef\u001b[0m \u001b[0mdecode\u001b[0m\u001b[1;33m(\u001b[0m\u001b[0minput\u001b[0m\u001b[1;33m,\u001b[0m \u001b[0merrors\u001b[0m\u001b[1;33m=\u001b[0m\u001b[1;34m'strict'\u001b[0m\u001b[1;33m)\u001b[0m\u001b[1;33m:\u001b[0m\u001b[1;33m\u001b[0m\u001b[1;33m\u001b[0m\u001b[0m\n\u001b[0m\u001b[0;32m     16\u001b[0m     \u001b[1;32mreturn\u001b[0m \u001b[0mcodecs\u001b[0m\u001b[1;33m.\u001b[0m\u001b[0mutf_8_decode\u001b[0m\u001b[1;33m(\u001b[0m\u001b[0minput\u001b[0m\u001b[1;33m,\u001b[0m \u001b[0merrors\u001b[0m\u001b[1;33m,\u001b[0m \u001b[1;32mTrue\u001b[0m\u001b[1;33m)\u001b[0m\u001b[1;33m\u001b[0m\u001b[1;33m\u001b[0m\u001b[0m\n\u001b[0;32m     17\u001b[0m \u001b[1;33m\u001b[0m\u001b[0m\n",
      "\u001b[1;31mKeyboardInterrupt\u001b[0m: "
     ]
    }
   ],
   "source": [
    "features = data['features']\n",
    "    \n",
    "conn = psycopg2.connect(database=\"lab0\", user=\"postgres\", password=\"\", host=\"34.27.240.213\")\n",
    "cur = conn.cursor()\n",
    "\n",
    "for feature in features:\n",
    "    zone_code = feature['properties']['ZONE_CODE']\n",
    "    geometry = json.dumps(feature['geometry'])\n",
    "    cur.execute(\"SELECT ST_AsText(ST_GeomFromGeoJSON(%s))\", (geometry,))\n",
    "    wkt_geometry = cur.fetchone()[0]\n",
    "\n",
    "    # Check for null values in zone_code and wkt_geometry\n",
    "    error_code = None\n",
    "    if zone_code is None:\n",
    "        error_code = 'ZoneError'\n",
    "    elif wkt_geometry is None:\n",
    "        error_code = 'GeomError'\n",
    "    \n",
    "    cur.execute(\"INSERT INTO MPLSZoning (zone_code, geometry, error_code) VALUES (%s, %s, %s)\", (zone_code, wkt_geometry, error_code))\n",
    "    conn.commit()\n",
    "\n",
    "cur.close()\n",
    "conn.close()\n"
   ]
  },
  {
   "cell_type": "code",
   "execution_count": null,
   "id": "cebab66f",
   "metadata": {},
   "outputs": [],
   "source": []
  }
 ],
 "metadata": {
  "kernelspec": {
   "display_name": "Python 3",
   "language": "python",
   "name": "python3"
  },
  "language_info": {
   "codemirror_mode": {
    "name": "ipython",
    "version": 3
   },
   "file_extension": ".py",
   "mimetype": "text/x-python",
   "name": "python",
   "nbconvert_exporter": "python",
   "pygments_lexer": "ipython3",
   "version": "3.9.11"
  }
 },
 "nbformat": 4,
 "nbformat_minor": 5
}
