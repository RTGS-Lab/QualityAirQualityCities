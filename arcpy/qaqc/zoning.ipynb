{
 "cells": [
  {
   "cell_type": "code",
   "execution_count": 3,
   "id": "92062f9d",
   "metadata": {},
   "outputs": [],
   "source": [
    "# Import Libraries\n",
    "\n",
    "import os\n",
    "import requests\n",
    "import psycopg2\n",
    "import json\n",
    "import arcpy\n",
    "\n",
    "# Get CWD\n",
    "\n",
    "cwd = os.getcwd() # This is a global variable for where the notebook is (must change if running in arcpro)\n",
    "\n",
    "# Create GeoDataBase\n",
    "# This is the communal GeoDataBase, only run once\n",
    "\n",
    "if not os.path.exists(os.path.join(cwd, '..', '..', 'data', 'QAQC.gdb')): # If it doesn't exist, create it\n",
    "\n",
    "    arcpy.management.CreateFileGDB(os.path.join(cwd, '..', '..', 'data'), 'QAQC')\n",
    "\n",
    "# Make it workspace\n",
    "\n",
    "arcpy.env.workspace = os.path.join(cwd, '..', '..', 'data', 'QAQC.gdb')\n",
    "\n",
    "arcpy.env.overwriteOutput = True # Overwrite layers is okay"
   ]
  },
  {
   "cell_type": "code",
   "execution_count": 4,
   "id": "2d33bac2",
   "metadata": {},
   "outputs": [],
   "source": [
    "# Get Data\n",
    "\n",
    "# Make a GET request to the URL and parse the response as JSON\n",
    "url = 'https://services.arcgis.com/afSMGVsC7QlRK1kZ/arcgis/rest/services/Planning_Primary_Zoning/FeatureServer/0/query?outFields=ZONE_CODE&where=1%3D1&f=geojson'\n",
    "response = requests.get(url)\n",
    "data = json.loads(response.content)"
   ]
  },
  {
   "cell_type": "markdown",
   "id": "7eb34c8e",
   "metadata": {},
   "source": [
    "# Find overlapping polygons (Needs work)"
   ]
  },
  {
   "cell_type": "code",
   "execution_count": 5,
   "id": "a80a8349",
   "metadata": {},
   "outputs": [
    {
     "name": "stdout",
     "output_type": "stream",
     "text": [
      "2215\n"
     ]
    },
    {
     "data": {
      "text/html": [
       "<div class='gpresult'><h2>Messages</h2><div id='messages' data-messages='[\"Start Time: Monday, April 10, 2023 9:28:50 AM\",\"Succeeded at Monday, April 10, 2023 9:28:50 AM (Elapsed Time: 0.01 seconds)\"]' data-show='true'><div id = 'default' /></div></div>"
      ],
      "text/plain": [
       "<Result 'true'>"
      ]
     },
     "execution_count": 5,
     "metadata": {},
     "output_type": "execute_result"
    }
   ],
   "source": [
    "# set the input URL. Different then one from above\n",
    "input_url = 'https://services.arcgis.com/afSMGVsC7QlRK1kZ/arcgis/rest/services/Planning_Primary_Zoning/FeatureServer/0'\n",
    "\n",
    "# create a feature layer from the input URL\n",
    "arcpy.MakeFeatureLayer_management(input_url, \"input_layer8\")\n",
    "\n",
    "# find overlapping polygons with the intersect tool\n",
    "output_layer8 = arcpy.Intersect_analysis([\"input_layer8\", \"input_layer8\"], \"memory\\\\output_layer8\")\n",
    "\n",
    "# print the number of features in the output layer\n",
    "print(arcpy.GetCount_management(output_layer8))\n",
    "\n",
    "# create a dictionary to store the overlapping features\n",
    "overlapping_features = {}\n",
    "\n",
    "# loop through the output layer and populate the dictionary\n",
    "with arcpy.da.SearchCursor(output_layer8, ['OID@', 'SHAPE@']) as cursor:\n",
    "    for row in cursor:\n",
    "        oid, shape = row\n",
    "        if oid not in overlapping_features:\n",
    "            overlapping_features[oid] = [shape]\n",
    "        else:\n",
    "            overlapping_features[oid].append(shape)\n",
    "\n",
    "# loop through the overlapping features and print their object IDs\n",
    "for oid, shapes in overlapping_features.items():\n",
    "    if len(shapes) > 1:\n",
    "        print(oid)\n",
    "\n",
    "# delete the output layer from memory\n",
    "arcpy.Delete_management(output_layer8)"
   ]
  },
  {
   "cell_type": "markdown",
   "id": "d18b5ace",
   "metadata": {},
   "source": [
    "# Find null values in data and put errors to an error code column"
   ]
  },
  {
   "cell_type": "code",
   "execution_count": 34,
   "id": "42663ba8",
   "metadata": {},
   "outputs": [],
   "source": [
    "features = data['features']\n",
    "\n",
    "for feature in features:\n",
    "    zone_code = feature['properties']['ZONE_CODE']\n",
    "    feature['properties']['ERROR_CODE'] = 'None' # Adding an error code property\n",
    "    geometry = feature['geometry']\n",
    "    \n",
    "    # Check for null values in zone_code and geometry\n",
    "    if zone_code is None:\n",
    "        feature['properties']['ERROR_CODE'] = 'ZoneError'\n",
    "    if len(str(geometry['coordinates'])) < 6: # This would be empty coordinates\n",
    "        errorfeature['properties']['ERROR_CODE'] = 'GeomError'\n"
   ]
  },
  {
   "cell_type": "markdown",
   "id": "9a0f3df2",
   "metadata": {},
   "source": [
    "# Upload to database and local GeoDataBase"
   ]
  },
  {
   "cell_type": "code",
   "execution_count": 45,
   "id": "8e0ff115",
   "metadata": {},
   "outputs": [],
   "source": [
    "### Locally\n",
    "\n",
    "table_name = 'mpls_zoning'\n",
    "\n",
    "# Save as geojson\n",
    "\n",
    "savepath = os.path.join(cwd, '..', '..', 'data', 'zoning.geojson')\n",
    "\n",
    "with open(savepath, 'w') as f:\n",
    "    f.write(json.dumps(data))\n",
    "    \n",
    "zoning_temp = arcpy.conversion.JSONToFeatures(savepath, table_name + '_wgs')\n",
    "\n",
    "# Reproject\n",
    "\n",
    "out_coordinate_system = arcpy.SpatialReference(26915)\n",
    "zoning = arcpy.Project_management(table_name + '_wgs', table_name, out_coordinate_system)"
   ]
  },
  {
   "cell_type": "code",
   "execution_count": null,
   "id": "19a69ee0",
   "metadata": {},
   "outputs": [
    {
     "ename": "",
     "evalue": "",
     "output_type": "error",
     "traceback": [
      "\u001b[1;31mFailed to start the Kernel. \n",
      "\u001b[1;31munknown option --ip=127.0.0.1\n",
      "\u001b[1;31musage: c:\\Program Files\\ArcGIS\\Pro\\bin\\Python\\envs\\arcgispro-py3\\python.exe [option] ... [-c cmd | -m mod | file | -] [arg] ...\n",
      "\u001b[1;31mTry `python -h' for more information. \n",
      "\u001b[1;31mView Jupyter <a href='command:jupyter.viewOutput'>log</a> for further details."
     ]
    }
   ],
   "source": [
    "### Database\n",
    "\n",
    "# Get database credentials\n",
    "\n",
    "cred_pth = os.path.join(os.getcwd(), '..', '..', 'database', 'db_credentials.txt')\n",
    "\n",
    "with open(cred_pth, 'r') as f:\n",
    "    \n",
    "    creds = f.readlines()[0].rstrip('\\n').split(', ')\n",
    "    \n",
    "# Connect to PostGIS Database\n",
    "\n",
    "pg_connection_dict = dict(zip(['dbname', 'user', 'password', 'port', 'host'], creds))\n",
    "\n",
    "conn = psycopg2.connect(**pg_connection_dict)\n",
    "\n",
    "cur = conn.cursor()\n",
    "\n",
    "# Insert into Database\n",
    "\n",
    "for feature in features:\n",
    "    zone_code = feature['properties']['ZONE_CODE']\n",
    "    error_code = feature['properties']['ERROR_CODE']\n",
    "    geometry = json.dumps(feature['geometry'])\n",
    "    \n",
    "    # Set the SRID of the geometry to 4326\n",
    "    geometry = \"ST_SetSRID(ST_GeomFromGeoJSON('{}'), 4326)\".format(geometry)\n",
    "    \n",
    "    cur.execute(\"INSERT INTO MPLSZoning (zone_code, error_code, geometry) VALUES (%s, %s, {})\".format(geometry), (zone_code, error_code))\n",
    "    conn.commit()\n",
    "\n",
    "cur.close()\n",
    "conn.close()\n"
   ]
  },
  {
   "cell_type": "code",
   "execution_count": null,
   "id": "caf56494",
   "metadata": {},
   "outputs": [
    {
     "ename": "",
     "evalue": "",
     "output_type": "error",
     "traceback": [
      "\u001b[1;31mFailed to start the Kernel. \n",
      "\u001b[1;31munknown option --ip=127.0.0.1\n",
      "\u001b[1;31musage: c:\\Program Files\\ArcGIS\\Pro\\bin\\Python\\envs\\arcgispro-py3\\python.exe [option] ... [-c cmd | -m mod | file | -] [arg] ...\n",
      "\u001b[1;31mTry `python -h' for more information. \n",
      "\u001b[1;31mView Jupyter <a href='command:jupyter.viewOutput'>log</a> for further details."
     ]
    }
   ],
   "source": []
  }
 ],
 "metadata": {
  "kernelspec": {
   "display_name": "Python 3",
   "language": "python",
   "name": "python3"
  },
  "language_info": {
   "codemirror_mode": {
    "name": "ipython",
    "version": 3
   },
   "file_extension": ".py",
   "mimetype": "text/x-python",
   "name": "python",
   "nbconvert_exporter": "python",
   "pygments_lexer": "ipython3",
   "version": "3.9.11"
  }
 },
 "nbformat": 4,
 "nbformat_minor": 5
}
