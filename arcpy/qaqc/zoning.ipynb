{
 "cells": [
  {
   "cell_type": "code",
   "execution_count": null,
   "id": "bca78c30",
   "metadata": {},
   "outputs": [
    {
     "ename": "",
     "evalue": "",
     "output_type": "error",
     "traceback": [
      "\u001b[1;31mFailed to start the Kernel. \n",
      "\u001b[1;31munknown option --ip=127.0.0.1\n",
      "\u001b[1;31musage: c:\\Program Files\\ArcGIS\\Pro\\bin\\Python\\envs\\arcgispro-py3\\python.exe [option] ... [-c cmd | -m mod | file | -] [arg] ...\n",
      "\u001b[1;31mTry `python -h' for more information. \n",
      "\u001b[1;31mView Jupyter <a href='command:jupyter.viewOutput'>log</a> for further details."
     ]
    }
   ],
   "source": [
    "import requests\n",
    "import psycopg2\n",
    "import json\n",
    "import arcpy\n",
    "\n",
    "\n",
    "# Make a GET request to the URL and parse the response as JSON\n",
    "url = 'https://services.arcgis.com/afSMGVsC7QlRK1kZ/arcgis/rest/services/Planning_Primary_Zoning/FeatureServer/0/query?outFields=ZONE_CODE&where=1%3D1&f=geojson'\n",
    "response = requests.get(url)\n",
    "data = json.loads(response.content)"
   ]
  },
  {
   "cell_type": "markdown",
   "id": "eda03a05",
   "metadata": {},
   "source": [
    "# Find overlapping polygons"
   ]
  },
  {
   "cell_type": "code",
   "execution_count": null,
   "id": "0716938d",
   "metadata": {},
   "outputs": [
    {
     "ename": "",
     "evalue": "",
     "output_type": "error",
     "traceback": [
      "\u001b[1;31mFailed to start the Kernel. \n",
      "\u001b[1;31munknown option --ip=127.0.0.1\n",
      "\u001b[1;31musage: c:\\Program Files\\ArcGIS\\Pro\\bin\\Python\\envs\\arcgispro-py3\\python.exe [option] ... [-c cmd | -m mod | file | -] [arg] ...\n",
      "\u001b[1;31mTry `python -h' for more information. \n",
      "\u001b[1;31mView Jupyter <a href='command:jupyter.viewOutput'>log</a> for further details."
     ]
    }
   ],
   "source": [
    "# set the input URL. Different then one from above\n",
    "input_url = 'https://services.arcgis.com/afSMGVsC7QlRK1kZ/arcgis/rest/services/Planning_Primary_Zoning/FeatureServer/0'\n",
    "\n",
    "# create a feature layer from the input URL\n",
    "arcpy.MakeFeatureLayer_management(input_url, \"input_layer8\")\n",
    "\n",
    "# find overlapping polygons with the intersect tool\n",
    "output_layer8 = arcpy.Intersect_analysis([\"input_layer8\", \"input_layer8\"], \"memory\\\\output_layer8\")\n",
    "\n",
    "# print the number of features in the output layer\n",
    "print(arcpy.GetCount_management(output_layer8))\n",
    "\n",
    "# create a dictionary to store the overlapping features\n",
    "overlapping_features = {}\n",
    "\n",
    "# loop through the output layer and populate the dictionary\n",
    "with arcpy.da.SearchCursor(output_layer8, ['OID@', 'SHAPE@']) as cursor:\n",
    "    for row in cursor:\n",
    "        oid, shape = row\n",
    "        if oid not in overlapping_features:\n",
    "            overlapping_features[oid] = [shape]\n",
    "        else:\n",
    "            overlapping_features[oid].append(shape)\n",
    "\n",
    "# loop through the overlapping features and print their object IDs\n",
    "for oid, shapes in overlapping_features.items():\n",
    "    if len(shapes) > 1:\n",
    "        print(oid)\n",
    "\n",
    "# delete the output layer from memory\n",
    "arcpy.Delete_management(output_layer8)"
   ]
  },
  {
   "cell_type": "markdown",
   "id": "4e0dc919",
   "metadata": {},
   "source": [
    "# Find null values in data and print errors to an error code column"
   ]
  },
  {
   "cell_type": "code",
   "execution_count": null,
   "id": "29468530",
   "metadata": {},
   "outputs": [
    {
     "ename": "",
     "evalue": "",
     "output_type": "error",
     "traceback": [
      "\u001b[1;31mFailed to start the Kernel. \n",
      "\u001b[1;31munknown option --ip=127.0.0.1\n",
      "\u001b[1;31musage: c:\\Program Files\\ArcGIS\\Pro\\bin\\Python\\envs\\arcgispro-py3\\python.exe [option] ... [-c cmd | -m mod | file | -] [arg] ...\n",
      "\u001b[1;31mTry `python -h' for more information. \n",
      "\u001b[1;31mView Jupyter <a href='command:jupyter.viewOutput'>log</a> for further details."
     ]
    }
   ],
   "source": [
    "features = data['features']\n",
    "    \n",
    "conn = psycopg2.connect(database=\"lab0\", user=\"postgres\", password=\"\", host=\"34.27.240.213\")\n",
    "cur = conn.cursor()\n",
    "\n",
    "for feature in features:\n",
    "    zone_code = feature['properties']['ZONE_CODE']\n",
    "    geometry = json.dumps(feature['geometry'])\n",
    "    # cur.execute(\"SELECT ST_AsText(ST_GeomFromGeoJSON(%s))\", (geometry,))\n",
    "    # wkt_geometry = cur.fetchone()[0]\n",
    "    \n",
    "    # Check for null values in zone_code and wkt_geometry\n",
    "    error_code = None\n",
    "    if zone_code is None:\n",
    "        error_code = 'ZoneError'\n",
    "    elif wkt_geometry is None:\n",
    "        error_code = 'GeomError'\n",
    "    \n",
    "    # Set the SRID of the geometry to 4326\n",
    "    geometry = \"ST_SetSRID(ST_GeomFromGeoJSON('{}'), 4326)\".format(geometry)\n",
    "    \n",
    "    cur.execute(\"INSERT INTO MPLSZoning (zone_code, geometry) VALUES (%s, {})\".format(geometry), (zone_code,))\n",
    "    conn.commit()\n",
    "\n",
    "cur.close()\n",
    "conn.close()\n"
   ]
  },
  {
   "cell_type": "code",
   "execution_count": null,
   "id": "cebab66f",
   "metadata": {},
   "outputs": [
    {
     "ename": "",
     "evalue": "",
     "output_type": "error",
     "traceback": [
      "\u001b[1;31mFailed to start the Kernel. \n",
      "\u001b[1;31munknown option --ip=127.0.0.1\n",
      "\u001b[1;31musage: c:\\Program Files\\ArcGIS\\Pro\\bin\\Python\\envs\\arcgispro-py3\\python.exe [option] ... [-c cmd | -m mod | file | -] [arg] ...\n",
      "\u001b[1;31mTry `python -h' for more information. \n",
      "\u001b[1;31mView Jupyter <a href='command:jupyter.viewOutput'>log</a> for further details."
     ]
    }
   ],
   "source": []
  }
 ],
 "metadata": {
  "kernelspec": {
   "display_name": "Python 3.9 (XPython)",
   "language": "python",
   "name": "xpython"
  },
  "language_info": {
   "codemirror_mode": {
    "name": "ipython",
    "version": 3
   },
   "file_extension": ".py",
   "mimetype": "text/x-python",
   "name": "python",
   "nbconvert_exporter": "python",
   "pygments_lexer": "ipython3",
   "version": "3.9.11"
  }
 },
 "nbformat": 4,
 "nbformat_minor": 5
}
