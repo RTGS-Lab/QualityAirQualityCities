{
 "cells": [
  {
   "cell_type": "markdown",
   "metadata": {},
   "source": [
    "# Purple Air Temperature Interpolation"
   ]
  },
  {
   "cell_type": "code",
   "execution_count": 7,
   "metadata": {},
   "outputs": [
    {
     "data": {
      "text/html": [
       "<div class='gpresult'><h2>Messages</h2><div id='messages' data-messages='[\"Start Time: Tuesday, April 11, 2023 10:56:05 AM\",\"WARNING 000990: purpleair_stations_realtime.csv is already joined\",\"Succeeded at Tuesday, April 11, 2023 10:56:05 AM (Elapsed Time: 0.20 seconds)\"]' data-show='true'><div id = 'default' /></div></div>"
      ],
      "text/plain": [
       "<Result 'purpleair_stations_XYTableToPoint'>"
      ]
     },
     "execution_count": 7,
     "metadata": {},
     "output_type": "execute_result"
    }
   ],
   "source": [
    "#join the realtime csv to the station XY layer\n",
    "arcpy.management.AddJoin(\n",
    "    in_layer_or_view=\"purpleair_stations_XYTableToPoint\",\n",
    "    in_field=\"sensor_index\",\n",
    "    join_table=\"purpleair_stations_realtime.csv\",\n",
    "    join_field=\"sensor_index\",\n",
    "    join_type=\"KEEP_ALL\",\n",
    "    index_join_fields=\"NO_INDEX_JOIN_FIELDS\"\n",
    ")"
   ]
  },
  {
   "cell_type": "markdown",
   "metadata": {},
   "source": [
    "# Empirical Bayesian Kriging Interpolation"
   ]
  },
  {
   "cell_type": "code",
   "execution_count": 12,
   "metadata": {},
   "outputs": [
    {
     "data": {
      "text/html": [
       "<div class='gpresult'><h2>Messages</h2><div id='messages' data-messages='[\"Start Time: Tuesday, April 11, 2023 3:27:26 PM\",\"\\r\\nWarning(s) for dataset: Length of the radius of the search circle = 10988 meters.\",\"Succeeded at Tuesday, April 11, 2023 3:27:46 PM (Elapsed Time: 20.91 seconds)\"]' data-show='true'><div id = 'default' /></div></div>"
      ],
      "text/plain": [
       "<Result 'ppair_kriging_temp2_stats'>"
      ]
     },
     "execution_count": 12,
     "metadata": {},
     "output_type": "execute_result"
    }
   ],
   "source": [
    "#empirical bayesian kriging for temperature\n",
    "arcpy.ga.EmpiricalBayesianKriging(\n",
    "    in_features=\"purpleair_stations_XYTableToPoint\",\n",
    "    z_field=\"purpleair_stations_XYTableToPoint.sensor_index\",\n",
    "    out_ga_layer=\"ppair_kriging_temp2_stats\",\n",
    "    out_raster=r\"C:\\Users\\laure\\OneDrive\\Documents\\ArcGIS\\Projects\\PurpleAirStations\\PurpleAirStations.gdb\\ppair_kriging_temp2\",\n",
    "    cell_size=0.000932919999999967,\n",
    "    transformation_type=\"NONE\",\n",
    "    max_local_points=100,\n",
    "    overlap_factor=1,\n",
    "    number_semivariograms=100,\n",
    "    search_neighborhood=\"NBRTYPE=StandardCircular RADIUS=9.87111293434023E-02 ANGLE=0 NBR_MAX=15 NBR_MIN=10 SECTOR_TYPE=ONE_SECTOR\",\n",
    "    output_type=\"PREDICTION\",\n",
    "    quantile_value=0.5,\n",
    "    threshold_type=\"EXCEED\",\n",
    "    probability_threshold=None,\n",
    "    semivariogram_model_type=\"POWER\"\n",
    ")"
   ]
  },
  {
   "cell_type": "code",
   "execution_count": 13,
   "metadata": {},
   "outputs": [
    {
     "data": {
      "text/html": [
       "<div class='gpresult'><h2>Messages</h2><div id='messages' data-messages='[\"Start Time: Tuesday, April 11, 2023 3:27:49 PM\",\"Count = 75\",\"Mean error = 0.41682228887574535\",\"Root mean square = 16.623762729612874\",\"Average standard = 16.167754317375078\",\"Mean standardized = 0.026409247652849605\",\"Root mean square standardized = 1.0285085345056937\",\"Percent in 90% Interval = 92\",\"Percent in 95% Interval = 96\",\"Average CRPS = 9.502189111695365\",\"Succeeded at Tuesday, April 11, 2023 3:27:53 PM (Elapsed Time: 3.34 seconds)\"]' data-show='true'><div id = 'default' /></div></div>"
      ],
      "text/plain": [
       "<Result 'C:\\\\Users\\\\laure\\\\OneDrive\\\\Documents\\\\ArcGIS\\\\Projects\\\\PurpleAirStations\\\\PurpleAirStations.gdb\\\\stats_cv'>"
      ]
     },
     "execution_count": 13,
     "metadata": {},
     "output_type": "execute_result"
    }
   ],
   "source": [
    "#cross validation for kriging\n",
    "arcpy.ga.CrossValidation(\n",
    "    in_geostat_layer=\"stats\",\n",
    "    out_point_feature_class=r\"C:\\Users\\laure\\OneDrive\\Documents\\ArcGIS\\Projects\\PurpleAirStations\\PurpleAirStations.gdb\\stats_cv\"\n",
    ")\n",
    "\n"
   ]
  },
  {
   "cell_type": "code",
   "execution_count": 20,
   "metadata": {},
   "outputs": [
    {
     "name": "stdout",
     "output_type": "stream",
     "text": [
      "31.26167166568093\n"
     ]
    }
   ],
   "source": [
    "import numpy\n",
    "\n",
    "input = r\"C:\\Users\\laure\\OneDrive\\Documents\\ArcGIS\\Projects\\PurpleAirStations\\PurpleAirStations.gdb\\stats_cv\"\n",
    "arr_temp_kriging = arcpy.da.TableToNumPyArray(input, (\"OBJECTID\", \"Error\"))\n",
    "\n",
    "# Sum the errors\n",
    "print(arr_temp_kriging[\"Error\"].sum())\n"
   ]
  },
  {
   "cell_type": "code",
   "execution_count": 21,
   "metadata": {},
   "outputs": [
    {
     "data": {
      "text/plain": [
       "array([( 1,  17.76831173), ( 2,  -9.7625885 ), ( 3,   5.58366406),\n",
       "       ( 4,   0.91476484), ( 5, -21.20712534), ( 6,   2.83349385),\n",
       "       ( 7,   2.56459677), ( 8, -16.92907115), ( 9,  27.40173776),\n",
       "       (10,  16.81454868), (11,  18.97329965), (12,  11.87557692),\n",
       "       (13,  -5.91631626), (14, -24.86061317), (15, -22.38034983),\n",
       "       (16,  -3.2378818 ), (17,  22.20025622), (18, -20.73954015),\n",
       "       (19, -27.36411485), (20,  11.97296434), (21,  -5.1468516 ),\n",
       "       (22,   2.47871312), (23,  19.46895688), (24, -37.37942263),\n",
       "       (25,  14.49654463), (26,  18.25727395), (27,  24.48706625),\n",
       "       (28,   4.85721135), (29,  26.19095687), (30,  16.80226106),\n",
       "       (31, -22.3291103 ), (32,   1.52441265), (33,  -5.45785313),\n",
       "       (34,  -3.88731428), (35, -40.85118349), (36,  -0.76982917),\n",
       "       (37,  22.33292331), (38,  21.27082331), (39,   8.811376  ),\n",
       "       (40,  -1.86633883), (41, -32.71984254), (42,  -3.33695902),\n",
       "       (43,  10.35088427), (44,  -5.8160569 ), (45, -24.05317541),\n",
       "       (46, -21.05298627), (47,  -8.33689565), (48,  -5.74551899),\n",
       "       (49,  24.94876679), (50,  -5.91426112), (51,  24.14606433),\n",
       "       (52,  -7.19290097), (53,   0.09710187), (54,  16.46802037),\n",
       "       (55,   6.54326453), (56,  20.70718293), (57,  24.56560948),\n",
       "       (58,   1.76326169), (59,   6.20995056), (60, -13.76131396),\n",
       "       (61, -31.3898606 ), (62,   4.56681415), (63,   3.24986997),\n",
       "       (64,  17.45046033), (65,   6.15527543), (66,   1.12461539),\n",
       "       (67,  -4.26859112), (68, -13.53427332), (69,  -3.72733038),\n",
       "       (70,  -4.7478473 ), (71,  -3.07507605), (72, -24.00205922),\n",
       "       (73,  20.25474519), (74,   3.39370475), (75,   2.14479868)],\n",
       "      dtype=[('OBJECTID', '<i4'), ('Error', '<f8')])"
      ]
     },
     "execution_count": 21,
     "metadata": {},
     "output_type": "execute_result"
    }
   ],
   "source": [
    "arr_temp_kriging"
   ]
  },
  {
   "cell_type": "code",
   "execution_count": 22,
   "metadata": {},
   "outputs": [
    {
     "data": {
      "text/html": [
       "<div>\n",
       "<style scoped>\n",
       "    .dataframe tbody tr th:only-of-type {\n",
       "        vertical-align: middle;\n",
       "    }\n",
       "\n",
       "    .dataframe tbody tr th {\n",
       "        vertical-align: top;\n",
       "    }\n",
       "\n",
       "    .dataframe thead th {\n",
       "        text-align: right;\n",
       "    }\n",
       "</style>\n",
       "<table border=\"1\" class=\"dataframe\">\n",
       "  <thead>\n",
       "    <tr style=\"text-align: right;\">\n",
       "      <th></th>\n",
       "      <th>OBJECTID</th>\n",
       "      <th>Error</th>\n",
       "    </tr>\n",
       "  </thead>\n",
       "  <tbody>\n",
       "    <tr>\n",
       "      <th>0</th>\n",
       "      <td>1</td>\n",
       "      <td>17.768312</td>\n",
       "    </tr>\n",
       "    <tr>\n",
       "      <th>1</th>\n",
       "      <td>2</td>\n",
       "      <td>-9.762589</td>\n",
       "    </tr>\n",
       "    <tr>\n",
       "      <th>2</th>\n",
       "      <td>3</td>\n",
       "      <td>5.583664</td>\n",
       "    </tr>\n",
       "    <tr>\n",
       "      <th>3</th>\n",
       "      <td>4</td>\n",
       "      <td>0.914765</td>\n",
       "    </tr>\n",
       "    <tr>\n",
       "      <th>4</th>\n",
       "      <td>5</td>\n",
       "      <td>-21.207125</td>\n",
       "    </tr>\n",
       "    <tr>\n",
       "      <th>...</th>\n",
       "      <td>...</td>\n",
       "      <td>...</td>\n",
       "    </tr>\n",
       "    <tr>\n",
       "      <th>70</th>\n",
       "      <td>71</td>\n",
       "      <td>-3.075076</td>\n",
       "    </tr>\n",
       "    <tr>\n",
       "      <th>71</th>\n",
       "      <td>72</td>\n",
       "      <td>-24.002059</td>\n",
       "    </tr>\n",
       "    <tr>\n",
       "      <th>72</th>\n",
       "      <td>73</td>\n",
       "      <td>20.254745</td>\n",
       "    </tr>\n",
       "    <tr>\n",
       "      <th>73</th>\n",
       "      <td>74</td>\n",
       "      <td>3.393705</td>\n",
       "    </tr>\n",
       "    <tr>\n",
       "      <th>74</th>\n",
       "      <td>75</td>\n",
       "      <td>2.144799</td>\n",
       "    </tr>\n",
       "  </tbody>\n",
       "</table>\n",
       "<p>75 rows × 2 columns</p>\n",
       "</div>"
      ],
      "text/plain": [
       "    OBJECTID      Error\n",
       "0          1  17.768312\n",
       "1          2  -9.762589\n",
       "2          3   5.583664\n",
       "3          4   0.914765\n",
       "4          5 -21.207125\n",
       "..       ...        ...\n",
       "70        71  -3.075076\n",
       "71        72 -24.002059\n",
       "72        73  20.254745\n",
       "73        74   3.393705\n",
       "74        75   2.144799\n",
       "\n",
       "[75 rows x 2 columns]"
      ]
     },
     "execution_count": 22,
     "metadata": {},
     "output_type": "execute_result"
    }
   ],
   "source": [
    "kriging_temp_arr = pd.DataFrame(arr_temp_kriging, columns=[\"OBJECTID\", \"Error\"])\n",
    "kriging_temp_arr"
   ]
  },
  {
   "cell_type": "code",
   "execution_count": 26,
   "metadata": {},
   "outputs": [
    {
     "name": "stdout",
     "output_type": "stream",
     "text": [
      "RMSE:  16.623762729612874\n"
     ]
    }
   ],
   "source": [
    "# Calculate squared error\n",
    "kriging_temp_arr['squared_error'] = kriging_temp_arr['Error'] ** 2\n",
    "\n",
    "# Calculate RMSE\n",
    "krig_rmse = numpy.sqrt(kriging_temp_arr['squared_error'].mean())\n",
    "\n",
    "# Display RMSE\n",
    "print(\"RMSE: \", krig_rmse)"
   ]
  },
  {
   "cell_type": "code",
   "execution_count": 11,
   "metadata": {},
   "outputs": [
    {
     "data": {
      "text/html": [
       "<div class='gpresult'><h2>Messages</h2><div id='messages' data-messages='[\"Start Time: Tuesday, April 11, 2023 10:57:08 AM\",\"Succeeded at Tuesday, April 11, 2023 10:57:11 AM (Elapsed Time: 2.95 seconds)\"]' data-show='true'><div id = 'default' /></div></div>"
      ],
      "text/plain": [
       "<Result 'C:\\\\Users\\\\laure\\\\OneDrive\\\\Documents\\\\ArcGIS\\\\Projects\\\\PurpleAirStations\\\\PurpleAirStations.gdb\\\\points_temp_kriging1'>"
      ]
     },
     "execution_count": 11,
     "metadata": {},
     "output_type": "execute_result"
    }
   ],
   "source": [
    "#raster to point for the kriging \n",
    "arcpy.conversion.RasterToPoint(\n",
    "    in_raster=\"kriging_temp\",\n",
    "    out_point_features=r\"C:\\Users\\laure\\OneDrive\\Documents\\ArcGIS\\Projects\\PurpleAirStations\\PurpleAirStations.gdb\\points_temp_kriging1\",\n",
    "    raster_field=\"Value\"\n",
    ")\n",
    "\n",
    "\n",
    "\n"
   ]
  },
  {
   "cell_type": "markdown",
   "metadata": {},
   "source": [
    "# IDW Interpolation"
   ]
  },
  {
   "cell_type": "code",
   "execution_count": 4,
   "metadata": {},
   "outputs": [
    {
     "data": {
      "text/html": [
       "<div class='gpresult'><h2>Messages</h2><div id='messages' data-messages='[\"Start Time: Tuesday, April 11, 2023 1:57:28 PM\",\"Count = 75\",\"Mean error = 0.38609083719579945\",\"Root mean square = 19.19967058228223\",\"Average standard = NaN\",\"Mean standardized = NaN\",\"Root mean square standardized = NaN\",\"Percent in 90% Interval = NaN\",\"Percent in 95% Interval = NaN\",\"Average CRPS = NaN\",\"Succeeded at Tuesday, April 11, 2023 1:57:30 PM (Elapsed Time: 1.22 seconds)\"]' data-show='true'><div id = 'default' /></div></div>"
      ],
      "text/plain": [
       "<Result 'C:\\\\Users\\\\laure\\\\OneDrive\\\\Documents\\\\ArcGIS\\\\Projects\\\\PurpleAirStations\\\\PurpleAirStations.gdb\\\\idw_cv'>"
      ]
     },
     "execution_count": 4,
     "metadata": {},
     "output_type": "execute_result"
    }
   ],
   "source": [
    "#interpolation using IDW for temperature\n",
    "arcpy.ga.IDW(\n",
    "    in_features=\"purpleair_stations_XYTableToPoint\",\n",
    "    z_field=\"purpleair_stations_XYTableToPoint.temperature\",\n",
    "    out_ga_layer=\"idw_temp_stats\",\n",
    "    out_raster=r\"C:\\Users\\laure\\OneDrive\\Documents\\ArcGIS\\Projects\\PurpleAirStations\\PurpleAirStations.gdb\\idw_temp\",\n",
    "    cell_size=0.000932919999999967,\n",
    "    power=2,\n",
    "    search_neighborhood=\"NBRTYPE=Standard S_MAJOR=9.87111293434023E-02 S_MINOR=9.87111293434023E-02 ANGLE=0 NBR_MAX=15 NBR_MIN=10 SECTOR_TYPE=ONE_SECTOR\",\n",
    "    weight_field=None\n",
    ")\n",
    "\n",
    "#cross validation of IDW interpolation of temperature\n",
    "arcpy.ga.CrossValidation(\n",
    "    in_geostat_layer=\"idw_temp_stats\",\n",
    "    out_point_feature_class=r\"C:\\Users\\laure\\OneDrive\\Documents\\ArcGIS\\Projects\\PurpleAirStations\\PurpleAirStations.gdb\\idw_cv\"\n",
    ")"
   ]
  },
  {
   "cell_type": "code",
   "execution_count": 29,
   "metadata": {},
   "outputs": [
    {
     "name": "stdout",
     "output_type": "stream",
     "text": [
      "RMSE:  19.199670582282227\n"
     ]
    }
   ],
   "source": [
    "#dumping it into a numpy array for calculating rmse\n",
    "input = r\"C:\\Users\\laure\\OneDrive\\Documents\\ArcGIS\\Projects\\PurpleAirStations\\PurpleAirStations.gdb\\idw_cv\"\n",
    "arr_temp_idw = arcpy.da.TableToNumPyArray(input, (\"OBJECTID\", \"Error\"))\n",
    "\n",
    "#putting the numpy array into a pd df\n",
    "idw_temp_arr = pd.DataFrame(arr_temp_idw, columns=[\"OBJECTID\", \"Error\"])\n",
    "\n",
    "# Calculate squared error\n",
    "idw_temp_arr['squared_error'] = idw_temp_arr['Error'] ** 2\n",
    "\n",
    "# Calculate RMSE\n",
    "idw_rmse = numpy.sqrt(idw_temp_arr['squared_error'].mean())\n",
    "\n",
    "# Display RMSE\n",
    "print(\"RMSE: \", idw_rmse)"
   ]
  },
  {
   "cell_type": "code",
   "execution_count": null,
   "metadata": {},
   "outputs": [],
   "source": [
    "#raster to point for idw\n",
    "arcpy.conversion.RasterToPoint(\n",
    "    in_raster=\"idw_temp\",\n",
    "    out_point_features=r\"C:\\Users\\laure\\OneDrive\\Documents\\ArcGIS\\Projects\\PurpleAirStations\\PurpleAirStations.gdb\\RasterT_idw_tem1\",\n",
    "    raster_field=\"Value\"\n",
    ")"
   ]
  },
  {
   "cell_type": "markdown",
   "metadata": {},
   "source": [
    "# Local Polynomial Interpolation"
   ]
  },
  {
   "cell_type": "code",
   "execution_count": null,
   "metadata": {},
   "outputs": [],
   "source": [
    "#local polynomial interpolation\n",
    "arcpy.ga.LocalPolynomialInterpolation(\n",
    "    in_features=\"purpleair_stations_XYTableToPoint\",\n",
    "    z_field=\"purpleair_stations_XYTableToPoint.temperature\",\n",
    "    out_ga_layer=\"lp_temp_geo\",\n",
    "    out_raster=r\"C:\\Users\\laure\\OneDrive\\Documents\\ArcGIS\\Projects\\PurpleAirStations\\PurpleAirStations.gdb\\lp_temp\",\n",
    "    cell_size=0.000932919999999967,\n",
    "    power=1,\n",
    "    search_neighborhood=\"NBRTYPE=Standard S_MAJOR=9.87111293434023E-02 S_MINOR=9.87111293434023E-02 ANGLE=0 NBR_MAX=15 NBR_MIN=10 SECTOR_TYPE=ONE_SECTOR\",\n",
    "    kernel_function=\"EXPONENTIAL\",\n",
    "    bandwidth=None,\n",
    "    use_condition_number=\"NO_USE_CONDITION_NUMBER\",\n",
    "    condition_number=None,\n",
    "    weight_field=None,\n",
    "    output_type=\"PREDICTION\"\n",
    ")"
   ]
  },
  {
   "cell_type": "code",
   "execution_count": null,
   "metadata": {},
   "outputs": [],
   "source": [
    "#cross validation for lp interpolation\n",
    "arcpy.ga.CrossValidation(\n",
    "    in_geostat_layer=\"lp_temp_geo\",\n",
    "    out_point_feature_class=r\"C:\\Users\\laure\\OneDrive\\Documents\\ArcGIS\\Projects\\PurpleAirStations\\PurpleAirStations.gdb\\lp_cv\"\n",
    ")\n"
   ]
  },
  {
   "cell_type": "code",
   "execution_count": 27,
   "metadata": {},
   "outputs": [
    {
     "name": "stdout",
     "output_type": "stream",
     "text": [
      "RMSE:  18.282743526079205\n"
     ]
    }
   ],
   "source": [
    "#dumping it into a numpy array for calculating rmse\n",
    "input = r\"C:\\Users\\laure\\OneDrive\\Documents\\ArcGIS\\Projects\\PurpleAirStations\\PurpleAirStations.gdb\\lp_cv\"\n",
    "arr_temp_lp = arcpy.da.TableToNumPyArray(input, (\"OBJECTID\", \"Error\"))\n",
    "\n",
    "#putting the numpy array into a pd df\n",
    "lp_temp_arr = pd.DataFrame(arr_temp_lp, columns=[\"OBJECTID\", \"Error\"])\n",
    "\n",
    "# Calculate squared error\n",
    "lp_temp_arr['squared_error'] = lp_temp_arr['Error'] ** 2\n",
    "\n",
    "# Calculate RMSE\n",
    "lp_rmse = numpy.sqrt(lp_temp_arr['squared_error'].mean())\n",
    "\n",
    "# Display RMSE\n",
    "print(\"RMSE: \", lp_rmse)"
   ]
  },
  {
   "cell_type": "code",
   "execution_count": null,
   "metadata": {},
   "outputs": [],
   "source": [
    "#raster to point for lp interpolation\n",
    "arcpy.conversion.RasterToPoint(\n",
    "    in_raster=\"lp_temp\",\n",
    "    out_point_features=r\"C:\\Users\\laure\\OneDrive\\Documents\\ArcGIS\\Projects\\PurpleAirStations\\PurpleAirStations.gdb\\RasterT_lp_temp1\",\n",
    "    raster_field=\"Value\"\n",
    ")"
   ]
  },
  {
   "cell_type": "markdown",
   "metadata": {},
   "source": [
    "# RMSE Comparison"
   ]
  },
  {
   "cell_type": "code",
   "execution_count": 31,
   "metadata": {
    "scrolled": true
   },
   "outputs": [
    {
     "data": {
      "text/html": [
       "<div>\n",
       "<style scoped>\n",
       "    .dataframe tbody tr th:only-of-type {\n",
       "        vertical-align: middle;\n",
       "    }\n",
       "\n",
       "    .dataframe tbody tr th {\n",
       "        vertical-align: top;\n",
       "    }\n",
       "\n",
       "    .dataframe thead th {\n",
       "        text-align: right;\n",
       "    }\n",
       "</style>\n",
       "<table border=\"1\" class=\"dataframe\">\n",
       "  <thead>\n",
       "    <tr style=\"text-align: right;\">\n",
       "      <th></th>\n",
       "      <th>method</th>\n",
       "      <th>RMSE</th>\n",
       "    </tr>\n",
       "  </thead>\n",
       "  <tbody>\n",
       "    <tr>\n",
       "      <th>0</th>\n",
       "      <td>kriging</td>\n",
       "      <td>16.623763</td>\n",
       "    </tr>\n",
       "    <tr>\n",
       "      <th>1</th>\n",
       "      <td>idw</td>\n",
       "      <td>19.199671</td>\n",
       "    </tr>\n",
       "    <tr>\n",
       "      <th>2</th>\n",
       "      <td>local polynomial</td>\n",
       "      <td>18.282744</td>\n",
       "    </tr>\n",
       "  </tbody>\n",
       "</table>\n",
       "</div>"
      ],
      "text/plain": [
       "             method       RMSE\n",
       "0           kriging  16.623763\n",
       "1               idw  19.199671\n",
       "2  local polynomial  18.282744"
      ]
     },
     "execution_count": 31,
     "metadata": {},
     "output_type": "execute_result"
    }
   ],
   "source": [
    "#bringing the RMSE values together in a pd df to compare\n",
    "\n",
    "temp_compare = pd.DataFrame({'method':['kriging', 'idw', 'local polynomial'],\n",
    "                            'RMSE':[krig_rmse, idw_rmse, lp_rmse]})\n",
    "temp_compare\n",
    "\n"
   ]
  },
  {
   "cell_type": "code",
   "execution_count": 32,
   "metadata": {},
   "outputs": [
    {
     "name": "stdout",
     "output_type": "stream",
     "text": [
      "Method with the lowest RMSE value is kriging\n"
     ]
    }
   ],
   "source": [
    "#conclusion\n",
    "# Get index of row with lowest value of rmse\n",
    "min_index = temp_compare['RMSE'].idxmin()\n",
    "\n",
    "# Get method with lowest rmse\n",
    "min_id = temp_compare.loc[min_index, 'method']\n",
    "\n",
    "print(\"Method with the lowest RMSE value is\", min_id)"
   ]
  },
  {
   "cell_type": "code",
   "execution_count": null,
   "metadata": {},
   "outputs": [],
   "source": []
  }
 ],
 "metadata": {
  "kernelspec": {
   "display_name": "ArcGISPro",
   "language": "Python",
   "name": "python3"
  },
  "language_info": {
   "file_extension": ".py",
   "name": "python",
   "version": "3"
  }
 },
 "nbformat": 4,
 "nbformat_minor": 2
}
