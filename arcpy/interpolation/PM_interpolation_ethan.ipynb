{
 "cells": [
  {
   "cell_type": "code",
   "execution_count": 2,
   "metadata": {},
   "outputs": [
    {
     "data": {
      "text/html": [
       "<div class='gpresult'><h2>Messages</h2><div id='messages' data-messages='[\"Start Time: Monday, April 10, 2023 2:37:42 PM\",\"Succeeded at Monday, April 10, 2023 2:37:44 PM (Elapsed Time: 2.00 seconds)\"]' data-show='true'><div id = 'default' /></div></div>"
      ],
      "text/plain": [
       "<Result 'C:\\\\Users\\\\swimb\\\\Documents\\\\UMN\\\\spring2023\\\\Arc2\\\\PurpleAirKriging\\\\PurpleAirKriging.gdb\\\\purpleair_Stations_local'>"
      ]
     },
     "execution_count": 2,
     "metadata": {},
     "output_type": "execute_result"
    }
   ],
   "source": [
    "# get postgis stations into points\n",
    "arcpy.management.FeatureToPoint(\"purpleair_stationspostgis\", r\"C:\\Users\\swimb\\Documents\\UMN\\spring2023\\Arc2\\PurpleAirKriging\\PurpleAirKriging.gdb\\purpleair_Stations_local\", \"CENTROID\")"
   ]
  },
  {
   "cell_type": "code",
   "execution_count": 3,
   "metadata": {},
   "outputs": [],
   "source": [
    "import pandas as pd"
   ]
  },
  {
   "cell_type": "code",
   "execution_count": 4,
   "metadata": {},
   "outputs": [
    {
     "data": {
      "text/html": [
       "<div class='gpresult'><h2>Messages</h2><div id='messages' data-messages='[\"Start Time: Monday, April 10, 2023 2:37:48 PM\",\"Succeeded at Monday, April 10, 2023 2:37:51 PM (Elapsed Time: 3.57 seconds)\"]' data-show='true'><div id = 'default' /></div></div>"
      ],
      "text/plain": [
       "<Result 'C:\\\\Users\\\\swimb\\\\Documents\\\\UMN\\\\spring2023\\\\Arc2\\\\PurpleAirKriging\\\\PurpleAirKriging.gdb\\\\purpleAir_local_april'>"
      ]
     },
     "execution_count": 4,
     "metadata": {},
     "output_type": "execute_result"
    }
   ],
   "source": [
    "# get postgis historic data into local table\n",
    "arcpy.conversion.TableToTable(\"purpleair_historic_postgis\", r\"C:\\Users\\swimb\\Documents\\UMN\\spring2023\\Arc2\\PurpleAirKriging\\PurpleAirKriging.gdb\", \"purpleAir_local_april\", \"timestamp = timestamp '2023-04-01 00:00:00'\", 'sensor_index \"sensor_index\" true true false 4 Long 0 10,First,#,purpleair_historic_postgis,sensor_index,-1,-1;timestamp \"timestamp\" true true false 8 Date 0 0,First,#,purpleair_historic_postgis,timestamp,-1,-1;humidity \"humidity\" true true false 8 Double 8 38,First,#,purpleair_historic_postgis,humidity,-1,-1;temperature \"temperature\" true true false 8 Double 8 38,First,#,purpleair_historic_postgis,temperature,-1,-1;pressure \"pressure\" true true false 8 Double 8 38,First,#,purpleair_historic_postgis,pressure,-1,-1;pm2_5 \"pm2_5\" true true false 8 Double 8 38,First,#,purpleair_historic_postgis,pm2_5,-1,-1', '')"
   ]
  },
  {
   "cell_type": "code",
   "execution_count": 5,
   "metadata": {},
   "outputs": [
    {
     "data": {
      "text/html": [
       "<div class='gpresult'><h2>Messages</h2><div id='messages' data-messages='[\"Start Time: Monday, April 10, 2023 2:37:52 PM\",\"Succeeded at Monday, April 10, 2023 2:37:52 PM (Elapsed Time: 0.11 seconds)\"]' data-show='true'><div id = 'default' /></div></div>"
      ],
      "text/plain": [
       "<Result 'purpleair_Stations_local'>"
      ]
     },
     "execution_count": 5,
     "metadata": {},
     "output_type": "execute_result"
    }
   ],
   "source": [
    "# joined purpleair_stations_local\n",
    "arcpy.management.AddJoin(\"purpleair_Stations_local\", \"sensor_index\", \"purpleAir_local_april\", \"sensor_index\", \"KEEP_COMMON\", \"NO_INDEX_JOIN_FIELDS\")"
   ]
  },
  {
   "cell_type": "markdown",
   "metadata": {},
   "source": [
    "# kriging pm 2.5"
   ]
  },
  {
   "cell_type": "code",
   "execution_count": 19,
   "metadata": {},
   "outputs": [],
   "source": [
    "# kriging\n",
    "out_surface_raster = arcpy.sa.Kriging(\"purpleair_Stations_local\", \"purpleAir_local_april.pm2_5\", \"Spherical # # # #\", 0.000932919999999967, \"VARIABLE 12\", None); out_surface_raster.save(r\"C:\\Users\\swimb\\Documents\\UMN\\spring2023\\Arc2\\PurpleAirKriging\\PurpleAirKriging.gdb\\Kriging\")"
   ]
  },
  {
   "cell_type": "code",
   "execution_count": 20,
   "metadata": {},
   "outputs": [],
   "source": [
    "# # integer of kriging raster\n",
    "# out_raster = arcpy.sa.Int(\"out_surface_raster\"); out_raster.save(r\"C:\\Users\\swimb\\Documents\\UMN\\spring2023\\Arc2\\PurpleAirKriging\\PurpleAirKriging.gdb\\Int_Kriging\")"
   ]
  },
  {
   "cell_type": "code",
   "execution_count": 22,
   "metadata": {},
   "outputs": [
    {
     "data": {
      "text/html": [
       "<div class='gpresult'><h2>Messages</h2><div id='messages' data-messages='[\"Start Time: Saturday, April 8, 2023 6:10:11 PM\",\"Succeeded at Saturday, April 8, 2023 6:10:11 PM (Elapsed Time: 0.33 seconds)\"]' data-show='true'><div id = 'default' /></div></div>"
      ],
      "text/plain": [
       "<geoprocessing server result object object at 0x000002C1B5AC6810>"
      ]
     },
     "execution_count": 22,
     "metadata": {},
     "output_type": "execute_result"
    }
   ],
   "source": [
    "# value of data at stations after interpolation. get it into points\n",
    "arcpy.sa.ExtractValuesToPoints(\"purpleair_Stations_local\", \"out_raster\", r\"C:\\Users\\swimb\\Documents\\UMN\\spring2023\\Arc2\\PurpleAirKriging\\PurpleAirKriging.gdb\\outExtract\", \"NONE\", \"VALUE_ONLY\")"
   ]
  },
  {
   "cell_type": "code",
   "execution_count": 40,
   "metadata": {},
   "outputs": [
    {
     "data": {
      "text/html": [
       "<div class='gpresult'><h2>Messages</h2><div id='messages' data-messages='[\"Start Time: Saturday, April 8, 2023 7:07:22 PM\",\"Succeeded at Saturday, April 8, 2023 7:07:24 PM (Elapsed Time: 2.46 seconds)\"]' data-show='true'><div id = 'default' /></div></div>"
      ],
      "text/plain": [
       "<Result 'C:\\\\Users\\\\swimb\\\\Documents\\\\UMN\\\\spring2023\\\\Arc2\\\\PurpleAir\\\\Shapefiles\\\\interpolatedvaluespoints.shp'>"
      ]
     },
     "execution_count": 40,
     "metadata": {},
     "output_type": "execute_result"
    }
   ],
   "source": [
    "# get interpolated values at 80 stations into shapefile\n",
    "arcpy.conversion.ExportFeatures(\"outExtract\", r\"C:\\Users\\swimb\\Documents\\UMN\\spring2023\\Arc2\\PurpleAir\\Shapefiles\\interpolatedvaluespoints.shp\", '', \"NOT_USE_ALIAS\", 'purpleair_Stations_local_sensor_index \"sensor_index\" true true false 4 Long 0 0,First,#,outExtract,purpleair_Stations_local_sensor_index,-1,-1;purpleair_Stations_local_last_modified \"last_modified\" true true false 4 Long 0 0,First,#,outExtract,purpleair_Stations_local_last_modified,-1,-1;purpleair_Stations_local_date_created \"date_created\" true true false 4 Long 0 0,First,#,outExtract,purpleair_Stations_local_date_created,-1,-1;purpleair_Stations_local_last_seen \"last_seen\" true true false 4 Long 0 0,First,#,outExtract,purpleair_Stations_local_last_seen,-1,-1;purpleair_Stations_local_name \"name\" true true false 100 Text 0 0,First,#,outExtract,purpleair_Stations_local_name,0,100;purpleair_Stations_local_location_type \"location_type\" true true false 4 Long 0 0,First,#,outExtract,purpleair_Stations_local_location_type,-1,-1;purpleair_Stations_local_firmware_version \"firmware_version\" true true false 30 Text 0 0,First,#,outExtract,purpleair_Stations_local_firmware_version,0,30;purpleair_Stations_local_uptime \"uptime\" true true false 4 Long 0 0,First,#,outExtract,purpleair_Stations_local_uptime,-1,-1;purpleair_Stations_local_position_rating \"position_rating\" true true false 4 Long 0 0,First,#,outExtract,purpleair_Stations_local_position_rating,-1,-1;purpleair_Stations_local_latitude \"latitude\" true true false 8 Double 0 0,First,#,outExtract,purpleair_Stations_local_latitude,-1,-1;purpleair_Stations_local_longitude \"longitude\" true true false 8 Double 0 0,First,#,outExtract,purpleair_Stations_local_longitude,-1,-1;purpleair_Stations_local_altitude \"altitude\" true true false 4 Long 0 0,First,#,outExtract,purpleair_Stations_local_altitude,-1,-1;purpleair_Stations_local_channel_state \"channel_state\" true true false 4 Long 0 0,First,#,outExtract,purpleair_Stations_local_channel_state,-1,-1;purpleair_Stations_local_channel_flags \"channel_flags\" true true false 4 Long 0 0,First,#,outExtract,purpleair_Stations_local_channel_flags,-1,-1;purpleair_Stations_local_ORIG_FID \"ORIG_FID\" true true false 4 Long 0 0,First,#,outExtract,purpleair_Stations_local_ORIG_FID,-1,-1;purpleAir_local_april_OBJECTID \"OBJECTID\" false true false 4 Long 0 0,First,#,outExtract,purpleAir_local_april_OBJECTID,-1,-1;purpleAir_local_april_sensor_index \"sensor_index\" true true false 4 Long 0 0,First,#,outExtract,purpleAir_local_april_sensor_index,-1,-1;purpleAir_local_april_timestamp \"timestamp\" true true false 8 Date 0 0,First,#,outExtract,purpleAir_local_april_timestamp,-1,-1;purpleAir_local_april_humidity \"humidity\" true true false 8 Double 0 0,First,#,outExtract,purpleAir_local_april_humidity,-1,-1;purpleAir_local_april_temperature \"temperature\" true true false 8 Double 0 0,First,#,outExtract,purpleAir_local_april_temperature,-1,-1;purpleAir_local_april_pressure \"pressure\" true true false 8 Double 0 0,First,#,outExtract,purpleAir_local_april_pressure,-1,-1;purpleAir_local_april_pm2_5 \"pm2_5\" true true false 8 Double 0 0,First,#,outExtract,purpleAir_local_april_pm2_5,-1,-1;RASTERVALU \"RASTERVALU\" true true false 2 Short 0 0,First,#,outExtract,RASTERVALU,-1,-1', None)"
   ]
  },
  {
   "cell_type": "code",
   "execution_count": 42,
   "metadata": {},
   "outputs": [],
   "source": [
    "# INTERPOLATED PURPLE AIR DATA. get purple air data into csv. Have to get into xlsx first\n",
    "arcpy.conversion.TableToExcel(\"interpolatedvaluespoints\", r\"C:\\Users\\swimb\\Documents\\UMN\\spring2023\\Arc2\\PurpleAirKriging\\interpolatedvaluespoints_TableToExcel.xlsx\", \"NAME\", \"CODE\")\n",
    "\n",
    "# Load the xlsx file into a Pandas dataframe\n",
    "xlsx_file = pd.read_excel(r\"C:\\Users\\swimb\\Documents\\UMN\\spring2023\\Arc2\\PurpleAirKriging\\interpolatedvaluespoints_TableToExcel.xlsx\")\n",
    "\n",
    "# Convert the dataframe to a csv file\n",
    "xlsx_file.to_csv(r\"C:\\Users\\swimb\\Documents\\UMN\\spring2023\\Arc2\\PurpleAirKriging\\output_file.csv\", index=False)"
   ]
  },
  {
   "cell_type": "code",
   "execution_count": 45,
   "metadata": {},
   "outputs": [],
   "source": [
    "# Load the interpolated air quality values\n",
    "interpolated_air_quality = pd.read_csv(r\"C:\\Users\\swimb\\Documents\\UMN\\spring2023\\Arc2\\PurpleAirKriging\\output_file.csv\")"
   ]
  },
  {
   "cell_type": "code",
   "execution_count": 18,
   "metadata": {},
   "outputs": [
    {
     "data": {
      "text/html": [
       "<div class='gpresult'><h2>Messages</h2><div id='messages' data-messages='[\"Start Time: Monday, April 10, 2023 1:10:04 PM\",\"Succeeded at Monday, April 10, 2023 1:10:06 PM (Elapsed Time: 1.44 seconds)\"]' data-show='true'><div id = 'default' /></div></div>"
      ],
      "text/plain": [
       "<Result 'C:\\\\Users\\\\swimb\\\\Documents\\\\UMN\\\\spring2023\\\\Arc2\\\\PurpleAirKriging\\\\purpleair_Stations_local_TableToExcel_1.xlsx'>"
      ]
     },
     "execution_count": 18,
     "metadata": {},
     "output_type": "execute_result"
    }
   ],
   "source": [
    "# NOW ONTO PURPLE AIR DATA get purple air station data into csv. Have to get into xlsx first\n",
    "arcpy.conversion.TableToExcel(\"purpleair_Stations_local\", r\"C:\\Users\\swimb\\Documents\\UMN\\spring2023\\Arc2\\PurpleAirKriging\\purpleair_Stations_local_TableToExcel_1.xlsx\", \"NAME\", \"CODE\")"
   ]
  },
  {
   "cell_type": "code",
   "execution_count": 19,
   "metadata": {},
   "outputs": [],
   "source": [
    "# Load the xlsx file into a Pandas dataframe\n",
    "xlsx_file = pd.read_excel(r\"C:\\Users\\swimb\\Documents\\UMN\\spring2023\\Arc2\\PurpleAirKriging\\purpleair_Stations_local_TableToExcel_1.xlsx\")\n",
    "\n",
    "# Convert the dataframe to a csv file\n",
    "xlsx_file.to_csv(r\"C:\\Users\\swimb\\Documents\\UMN\\spring2023\\Arc2\\PurpleAirKriging\\purpleairStationExcel.csv\", index=False)"
   ]
  },
  {
   "cell_type": "code",
   "execution_count": 20,
   "metadata": {},
   "outputs": [],
   "source": [
    "# Load the actual air quality values\n",
    "purpleair_Stations_localDF = pd.read_csv(r\"C:\\Users\\swimb\\Documents\\UMN\\spring2023\\Arc2\\PurpleAirKriging\\purpleairStationExcel.csv\")"
   ]
  },
  {
   "cell_type": "code",
   "execution_count": 48,
   "metadata": {},
   "outputs": [
    {
     "data": {
      "text/plain": [
       "3.272739511340753"
      ]
     },
     "execution_count": 48,
     "metadata": {},
     "output_type": "execute_result"
    }
   ],
   "source": [
    "# Calculate RMSE between known air quality values and interpolated air quality values\n",
    "n = len(purpleair_Stations_localDF)\n",
    "rmse = math.sqrt(sum((purpleair_Stations_localDF[\"purpleAir_local_april.pm2_5\"] - interpolated_air_quality[\"RASTERVALU\"])**2) / n)\n",
    "rmse"
   ]
  },
  {
   "cell_type": "markdown",
   "metadata": {},
   "source": [
    "# kriging temp"
   ]
  },
  {
   "cell_type": "code",
   "execution_count": null,
   "metadata": {},
   "outputs": [],
   "source": [
    "out_surface_raster = arcpy.sa.Kriging(\"purpleair_Stations_local\", \"purpleAir_local_april.temperature\", \"Spherical # # # #\", 0.000932919999999967, \"VARIABLE 12\", None); out_surface_raster.save(r\"C:\\Users\\swimb\\Documents\\UMN\\spring2023\\Arc2\\PurpleAirKriging\\PurpleAirKriging.gdb\\Kriging_purp1\")"
   ]
  },
  {
   "cell_type": "code",
   "execution_count": null,
   "metadata": {},
   "outputs": [],
   "source": []
  },
  {
   "cell_type": "code",
   "execution_count": null,
   "metadata": {},
   "outputs": [],
   "source": []
  },
  {
   "cell_type": "code",
   "execution_count": null,
   "metadata": {},
   "outputs": [],
   "source": []
  },
  {
   "cell_type": "markdown",
   "metadata": {},
   "source": [
    "# IDW pm 2.5"
   ]
  },
  {
   "cell_type": "code",
   "execution_count": 10,
   "metadata": {},
   "outputs": [],
   "source": [
    "out_raster = arcpy.sa.Idw(\"purpleair_Stations_local\", \"purpleAir_local_april.pm2_5\", 0.000932919999999967, 2, \"VARIABLE 12\", None); out_raster.save(r\"C:\\Users\\swimb\\Documents\\UMN\\spring2023\\Arc2\\PurpleAirKriging\\PurpleAirKriging.gdb\\Idw_purpleai1\")"
   ]
  },
  {
   "cell_type": "code",
   "execution_count": 12,
   "metadata": {},
   "outputs": [
    {
     "data": {
      "text/html": [
       "<div class='gpresult'><h2>Messages</h2><div id='messages' data-messages='[\"Start Time: Monday, April 10, 2023 1:06:07 PM\",\"Succeeded at Monday, April 10, 2023 1:06:07 PM (Elapsed Time: 0.32 seconds)\"]' data-show='true'><div id = 'default' /></div></div>"
      ],
      "text/plain": [
       "<geoprocessing server result object object at 0x0000012233378120>"
      ]
     },
     "execution_count": 12,
     "metadata": {},
     "output_type": "execute_result"
    }
   ],
   "source": [
    "arcpy.sa.ExtractValuesToPoints(\"purpleair_Stations_local\", \"out_raster\", r\"C:\\Users\\swimb\\Documents\\UMN\\spring2023\\Arc2\\PurpleAirKriging\\PurpleAirKriging.gdb\\Extract_purplea1\", \"NONE\", \"VALUE_ONLY\")"
   ]
  },
  {
   "cell_type": "code",
   "execution_count": 13,
   "metadata": {},
   "outputs": [
    {
     "data": {
      "text/html": [
       "<div class='gpresult'><h2>Messages</h2><div id='messages' data-messages='[\"Start Time: Monday, April 10, 2023 1:06:50 PM\",\"Succeeded at Monday, April 10, 2023 1:06:53 PM (Elapsed Time: 2.92 seconds)\"]' data-show='true'><div id = 'default' /></div></div>"
      ],
      "text/plain": [
       "<Result 'C:\\\\Users\\\\swimb\\\\Documents\\\\UMN\\\\spring2023\\\\Arc2\\\\PurpleAirKriging\\\\PurpleAirKriging.gdb\\\\Extract_purple_ExportFeature'>"
      ]
     },
     "execution_count": 13,
     "metadata": {},
     "output_type": "execute_result"
    }
   ],
   "source": [
    "arcpy.conversion.ExportFeatures(\"Extract_purplea1\", r\"C:\\Users\\swimb\\Documents\\UMN\\spring2023\\Arc2\\PurpleAirKriging\\PurpleAirKriging.gdb\\Extract_purple_ExportFeature\", '', \"NOT_USE_ALIAS\", 'purpleair_Stations_local_sensor_index \"sensor_index\" true true false 4 Long 0 0,First,#,Extract_purplea1,purpleair_Stations_local_sensor_index,-1,-1;purpleair_Stations_local_last_modified \"last_modified\" true true false 4 Long 0 0,First,#,Extract_purplea1,purpleair_Stations_local_last_modified,-1,-1;purpleair_Stations_local_date_created \"date_created\" true true false 4 Long 0 0,First,#,Extract_purplea1,purpleair_Stations_local_date_created,-1,-1;purpleair_Stations_local_last_seen \"last_seen\" true true false 4 Long 0 0,First,#,Extract_purplea1,purpleair_Stations_local_last_seen,-1,-1;purpleair_Stations_local_name \"name\" true true false 100 Text 0 0,First,#,Extract_purplea1,purpleair_Stations_local_name,0,100;purpleair_Stations_local_location_type \"location_type\" true true false 4 Long 0 0,First,#,Extract_purplea1,purpleair_Stations_local_location_type,-1,-1;purpleair_Stations_local_firmware_version \"firmware_version\" true true false 30 Text 0 0,First,#,Extract_purplea1,purpleair_Stations_local_firmware_version,0,30;purpleair_Stations_local_uptime \"uptime\" true true false 4 Long 0 0,First,#,Extract_purplea1,purpleair_Stations_local_uptime,-1,-1;purpleair_Stations_local_position_rating \"position_rating\" true true false 4 Long 0 0,First,#,Extract_purplea1,purpleair_Stations_local_position_rating,-1,-1;purpleair_Stations_local_latitude \"latitude\" true true false 8 Double 0 0,First,#,Extract_purplea1,purpleair_Stations_local_latitude,-1,-1;purpleair_Stations_local_longitude \"longitude\" true true false 8 Double 0 0,First,#,Extract_purplea1,purpleair_Stations_local_longitude,-1,-1;purpleair_Stations_local_altitude \"altitude\" true true false 4 Long 0 0,First,#,Extract_purplea1,purpleair_Stations_local_altitude,-1,-1;purpleair_Stations_local_channel_state \"channel_state\" true true false 4 Long 0 0,First,#,Extract_purplea1,purpleair_Stations_local_channel_state,-1,-1;purpleair_Stations_local_channel_flags \"channel_flags\" true true false 4 Long 0 0,First,#,Extract_purplea1,purpleair_Stations_local_channel_flags,-1,-1;purpleair_Stations_local_ORIG_FID \"ORIG_FID\" true true false 4 Long 0 0,First,#,Extract_purplea1,purpleair_Stations_local_ORIG_FID,-1,-1;purpleAir_local_april_OBJECTID \"OBJECTID\" false true false 4 Long 0 0,First,#,Extract_purplea1,purpleAir_local_april_OBJECTID,-1,-1;purpleAir_local_april_sensor_index \"sensor_index\" true true false 4 Long 0 0,First,#,Extract_purplea1,purpleAir_local_april_sensor_index,-1,-1;purpleAir_local_april_timestamp \"timestamp\" true true false 8 Date 0 0,First,#,Extract_purplea1,purpleAir_local_april_timestamp,-1,-1;purpleAir_local_april_humidity \"humidity\" true true false 8 Double 0 0,First,#,Extract_purplea1,purpleAir_local_april_humidity,-1,-1;purpleAir_local_april_temperature \"temperature\" true true false 8 Double 0 0,First,#,Extract_purplea1,purpleAir_local_april_temperature,-1,-1;purpleAir_local_april_pressure \"pressure\" true true false 8 Double 0 0,First,#,Extract_purplea1,purpleAir_local_april_pressure,-1,-1;purpleAir_local_april_pm2_5 \"pm2_5\" true true false 8 Double 0 0,First,#,Extract_purplea1,purpleAir_local_april_pm2_5,-1,-1;RASTERVALU \"RASTERVALU\" true true false 4 Float 0 0,First,#,Extract_purplea1,RASTERVALU,-1,-1', None)"
   ]
  },
  {
   "cell_type": "code",
   "execution_count": 15,
   "metadata": {},
   "outputs": [],
   "source": [
    "# INTERPOLATED PURPLE AIR DATA. get purple air data into csv. Have to get into xlsx first\n",
    "arcpy.conversion.TableToExcel(\"Extract_purple_ExportFeature\", r\"C:\\Users\\swimb\\Documents\\UMN\\spring2023\\Arc2\\PurpleAirKriging\\Extract_purple_ExportFeature.xlsx\", \"NAME\", \"CODE\")\n",
    "\n",
    "# Load the xlsx file into a Pandas dataframe\n",
    "xlsx_file = pd.read_excel(r\"C:\\Users\\swimb\\Documents\\UMN\\spring2023\\Arc2\\PurpleAirKriging\\Extract_purple_ExportFeature.xlsx\")\n",
    "\n",
    "# Convert the dataframe to a csv file\n",
    "xlsx_file.to_csv(r\"C:\\Users\\swimb\\Documents\\UMN\\spring2023\\Arc2\\PurpleAirKriging\\Extract_purple_ExportFeature.csv\", index=False)"
   ]
  },
  {
   "cell_type": "code",
   "execution_count": 16,
   "metadata": {},
   "outputs": [],
   "source": [
    "# Load the interpolated air quality values for idw\n",
    "interpolated_air_quality_IDW = pd.read_csv(r\"C:\\Users\\swimb\\Documents\\UMN\\spring2023\\Arc2\\PurpleAirKriging\\Extract_purple_ExportFeature.csv\")"
   ]
  },
  {
   "cell_type": "code",
   "execution_count": 21,
   "metadata": {},
   "outputs": [
    {
     "data": {
      "text/plain": [
       "1.3419458375737925"
      ]
     },
     "execution_count": 21,
     "metadata": {},
     "output_type": "execute_result"
    }
   ],
   "source": [
    "# Calculate RMSE between known air quality values and interpolated air quality values\n",
    "n = len(purpleair_Stations_localDF)\n",
    "rmse = math.sqrt(sum((purpleair_Stations_localDF[\"purpleAir_local_april.pm2_5\"] - interpolated_air_quality_IDW[\"RASTERVALU\"])**2) / n)\n",
    "rmse"
   ]
  },
  {
   "cell_type": "markdown",
   "metadata": {},
   "source": [
    "# spline pm 2.5"
   ]
  },
  {
   "cell_type": "code",
   "execution_count": 11,
   "metadata": {},
   "outputs": [],
   "source": [
    "out_raster = arcpy.sa.Spline(\"purpleair_Stations_local\", \"purpleAir_local_april.pm2_5\", 0.000932919999999967, \"REGULARIZED\", 0.1, 12); out_raster.save(r\"C:\\Users\\swimb\\Documents\\UMN\\spring2023\\Arc2\\PurpleAirKriging\\PurpleAirKriging.gdb\\Spline_purpl1\")"
   ]
  },
  {
   "cell_type": "code",
   "execution_count": 22,
   "metadata": {},
   "outputs": [
    {
     "data": {
      "text/html": [
       "<div class='gpresult'><h2>Messages</h2><div id='messages' data-messages='[\"Start Time: Monday, April 10, 2023 1:17:26 PM\",\"Succeeded at Monday, April 10, 2023 1:17:26 PM (Elapsed Time: 0.27 seconds)\"]' data-show='true'><div id = 'default' /></div></div>"
      ],
      "text/plain": [
       "<geoprocessing server result object object at 0x0000012232F711E0>"
      ]
     },
     "execution_count": 22,
     "metadata": {},
     "output_type": "execute_result"
    }
   ],
   "source": [
    "arcpy.sa.ExtractValuesToPoints(\"purpleair_Stations_local\", \"out_raster\", r\"C:\\Users\\swimb\\Documents\\UMN\\spring2023\\Arc2\\PurpleAirKriging\\PurpleAirKriging.gdb\\Extract_purplea2\", \"NONE\", \"VALUE_ONLY\")"
   ]
  },
  {
   "cell_type": "code",
   "execution_count": 23,
   "metadata": {},
   "outputs": [
    {
     "data": {
      "text/html": [
       "<div class='gpresult'><h2>Messages</h2><div id='messages' data-messages='[\"Start Time: Monday, April 10, 2023 1:17:44 PM\",\"Succeeded at Monday, April 10, 2023 1:17:47 PM (Elapsed Time: 2.71 seconds)\"]' data-show='true'><div id = 'default' /></div></div>"
      ],
      "text/plain": [
       "<Result 'C:\\\\Users\\\\swimb\\\\Documents\\\\UMN\\\\spring2023\\\\Arc2\\\\PurpleAirKriging\\\\PurpleAirKriging.gdb\\\\Extract_purple_ExportFeature1'>"
      ]
     },
     "execution_count": 23,
     "metadata": {},
     "output_type": "execute_result"
    }
   ],
   "source": [
    "arcpy.conversion.ExportFeatures(\"Extract_purplea2\", r\"C:\\Users\\swimb\\Documents\\UMN\\spring2023\\Arc2\\PurpleAirKriging\\PurpleAirKriging.gdb\\Extract_purple_ExportFeature1\", '', \"NOT_USE_ALIAS\", 'purpleair_Stations_local_sensor_index \"sensor_index\" true true false 4 Long 0 0,First,#,Extract_purplea2,purpleair_Stations_local_sensor_index,-1,-1;purpleair_Stations_local_last_modified \"last_modified\" true true false 4 Long 0 0,First,#,Extract_purplea2,purpleair_Stations_local_last_modified,-1,-1;purpleair_Stations_local_date_created \"date_created\" true true false 4 Long 0 0,First,#,Extract_purplea2,purpleair_Stations_local_date_created,-1,-1;purpleair_Stations_local_last_seen \"last_seen\" true true false 4 Long 0 0,First,#,Extract_purplea2,purpleair_Stations_local_last_seen,-1,-1;purpleair_Stations_local_name \"name\" true true false 100 Text 0 0,First,#,Extract_purplea2,purpleair_Stations_local_name,0,100;purpleair_Stations_local_location_type \"location_type\" true true false 4 Long 0 0,First,#,Extract_purplea2,purpleair_Stations_local_location_type,-1,-1;purpleair_Stations_local_firmware_version \"firmware_version\" true true false 30 Text 0 0,First,#,Extract_purplea2,purpleair_Stations_local_firmware_version,0,30;purpleair_Stations_local_uptime \"uptime\" true true false 4 Long 0 0,First,#,Extract_purplea2,purpleair_Stations_local_uptime,-1,-1;purpleair_Stations_local_position_rating \"position_rating\" true true false 4 Long 0 0,First,#,Extract_purplea2,purpleair_Stations_local_position_rating,-1,-1;purpleair_Stations_local_latitude \"latitude\" true true false 8 Double 0 0,First,#,Extract_purplea2,purpleair_Stations_local_latitude,-1,-1;purpleair_Stations_local_longitude \"longitude\" true true false 8 Double 0 0,First,#,Extract_purplea2,purpleair_Stations_local_longitude,-1,-1;purpleair_Stations_local_altitude \"altitude\" true true false 4 Long 0 0,First,#,Extract_purplea2,purpleair_Stations_local_altitude,-1,-1;purpleair_Stations_local_channel_state \"channel_state\" true true false 4 Long 0 0,First,#,Extract_purplea2,purpleair_Stations_local_channel_state,-1,-1;purpleair_Stations_local_channel_flags \"channel_flags\" true true false 4 Long 0 0,First,#,Extract_purplea2,purpleair_Stations_local_channel_flags,-1,-1;purpleair_Stations_local_ORIG_FID \"ORIG_FID\" true true false 4 Long 0 0,First,#,Extract_purplea2,purpleair_Stations_local_ORIG_FID,-1,-1;purpleAir_local_april_OBJECTID \"OBJECTID\" false true false 4 Long 0 0,First,#,Extract_purplea2,purpleAir_local_april_OBJECTID,-1,-1;purpleAir_local_april_sensor_index \"sensor_index\" true true false 4 Long 0 0,First,#,Extract_purplea2,purpleAir_local_april_sensor_index,-1,-1;purpleAir_local_april_timestamp \"timestamp\" true true false 8 Date 0 0,First,#,Extract_purplea2,purpleAir_local_april_timestamp,-1,-1;purpleAir_local_april_humidity \"humidity\" true true false 8 Double 0 0,First,#,Extract_purplea2,purpleAir_local_april_humidity,-1,-1;purpleAir_local_april_temperature \"temperature\" true true false 8 Double 0 0,First,#,Extract_purplea2,purpleAir_local_april_temperature,-1,-1;purpleAir_local_april_pressure \"pressure\" true true false 8 Double 0 0,First,#,Extract_purplea2,purpleAir_local_april_pressure,-1,-1;purpleAir_local_april_pm2_5 \"pm2_5\" true true false 8 Double 0 0,First,#,Extract_purplea2,purpleAir_local_april_pm2_5,-1,-1;RASTERVALU \"RASTERVALU\" true true false 4 Float 0 0,First,#,Extract_purplea2,RASTERVALU,-1,-1', None)"
   ]
  },
  {
   "cell_type": "code",
   "execution_count": 24,
   "metadata": {},
   "outputs": [],
   "source": [
    "# INTERPOLATED PURPLE AIR DATA. get purple air data into csv. Have to get into xlsx first\n",
    "arcpy.conversion.TableToExcel(\"Extract_purple_ExportFeature\", r\"C:\\Users\\swimb\\Documents\\UMN\\spring2023\\Arc2\\PurpleAirKriging\\Extract_purple_ExportFeature1.xlsx\", \"NAME\", \"CODE\")\n",
    "\n",
    "# Load the xlsx file into a Pandas dataframe\n",
    "xlsx_file = pd.read_excel(r\"C:\\Users\\swimb\\Documents\\UMN\\spring2023\\Arc2\\PurpleAirKriging\\Extract_purple_ExportFeature1.xlsx\")\n",
    "\n",
    "# Convert the dataframe to a csv file\n",
    "xlsx_file.to_csv(r\"C:\\Users\\swimb\\Documents\\UMN\\spring2023\\Arc2\\PurpleAirKriging\\Extract_purple_ExportFeature1.csv\", index=False)"
   ]
  },
  {
   "cell_type": "code",
   "execution_count": 25,
   "metadata": {},
   "outputs": [],
   "source": [
    "# Load the interpolated air quality values for spline\n",
    "interpolated_air_quality_spline = pd.read_csv(r\"C:\\Users\\swimb\\Documents\\UMN\\spring2023\\Arc2\\PurpleAirKriging\\Extract_purple_ExportFeature1.csv\")"
   ]
  },
  {
   "cell_type": "code",
   "execution_count": 27,
   "metadata": {},
   "outputs": [
    {
     "data": {
      "text/plain": [
       "1.3419458375737925"
      ]
     },
     "execution_count": 27,
     "metadata": {},
     "output_type": "execute_result"
    }
   ],
   "source": [
    "# Calculate RMSE between known air quality values and interpolated air quality values\n",
    "n = len(purpleair_Stations_localDF)\n",
    "rmse = math.sqrt(sum((purpleair_Stations_localDF[\"purpleAir_local_april.pm2_5\"] - interpolated_air_quality_spline[\"RASTERVALU\"])**2) / n)\n",
    "rmse"
   ]
  },
  {
   "cell_type": "code",
   "execution_count": null,
   "metadata": {},
   "outputs": [],
   "source": []
  }
 ],
 "metadata": {
  "kernelspec": {
   "display_name": "Python 3 (ipykernel)",
   "language": "python",
   "name": "python3"
  },
  "language_info": {
   "codemirror_mode": {
    "name": "ipython",
    "version": 3
   },
   "file_extension": ".py",
   "mimetype": "text/x-python",
   "name": "python",
   "nbconvert_exporter": "python",
   "pygments_lexer": "ipython3",
   "version": "3.9.16"
  }
 },
 "nbformat": 4,
 "nbformat_minor": 4
}
