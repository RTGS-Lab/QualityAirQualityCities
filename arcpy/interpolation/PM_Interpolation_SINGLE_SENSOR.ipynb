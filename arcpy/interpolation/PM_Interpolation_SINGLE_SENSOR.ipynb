{
 "cells": [
  {
   "cell_type": "code",
   "execution_count": null,
   "id": "da00c589-2aae-477a-b9f2-3089708e9855",
   "metadata": {},
   "outputs": [],
   "source": []
  },
  {
   "cell_type": "code",
   "execution_count": 1,
   "id": "76e4686a-1a0d-43e7-9e8f-79b9721e2a33",
   "metadata": {},
   "outputs": [],
   "source": [
    "import arcpy\n",
    "import pandas as pd\n",
    "import psycopg2\n",
    "from psycopg2 import sql\n",
    "import numpy as np\n",
    "import os\n",
    "import folium"
   ]
  },
  {
   "cell_type": "code",
   "execution_count": 61,
   "id": "b379a88b-0445-4ebc-b9b8-335ee371a965",
   "metadata": {},
   "outputs": [],
   "source": [
    "cwd = os.getcwd() # This is a global variable for where the notebook is (must change if running in arcpro)\n",
    "\n",
    "# Make it workspace\n",
    "\n",
    "arcpy.env.workspace = os.path.join(cwd, '..', '..', 'data', 'QAQC.gdb')\n",
    "\n",
    "arcpy.env.overwriteOutput = True # Overwrite layers is okay\n",
    "\n",
    "save_path_csv = os.path.join(cwd, '..', '..', 'data')\n",
    "save_path_gdb = os.path.join(cwd, '..', '..', 'data', 'QAQC.gdb')\n",
    "historic_path = os.path.join(cwd, '..', '..', 'data', 'purpleair_historic.csv')\n",
    "station_path = os.path.join(cwd, '..', '..', 'data', 'purpleair_stations.csv')\n",
    "boundary_path = os.path.join(cwd, '..', '..', 'data', 'mpls_boundary.geojson')"
   ]
  },
  {
   "cell_type": "code",
   "execution_count": 64,
   "id": "352fc474-2f90-4baf-8723-b01a011d458e",
   "metadata": {},
   "outputs": [
    {
     "data": {
      "text/html": [
       "<div class='gpresult'><h2>Messages</h2><div id='messages' data-messages='[\"Start Time: Monday, April 10, 2023 10:29:08 PM\",\"Succeeded at Monday, April 10, 2023 10:29:08 PM (Elapsed Time: 0.37 seconds)\"]' data-show='true'><div id = 'default' /></div></div>"
      ],
      "text/plain": [
       "<Result 'C:\\\\Users\\\\tande\\\\Documents\\\\GitHub\\\\QualityAirQualityCities\\\\arcpy\\\\interpolation\\\\..\\\\..\\\\data\\\\QAQC.gdb\\\\mpls_boundary'>"
      ]
     },
     "execution_count": 64,
     "metadata": {},
     "output_type": "execute_result"
    }
   ],
   "source": [
    "output_fc = 'mpls_boundary'\n",
    "output_fc_path = os.path.join(save_path_gdb, output_fc)\n",
    "\n",
    "# Convert the GeoJSON file to a feature class\n",
    "arcpy.JSONToFeatures_conversion(boundary_path, output_fc)"
   ]
  },
  {
   "cell_type": "code",
   "execution_count": 20,
   "id": "27328efa-0034-4d44-993d-9b5a3f0d185d",
   "metadata": {},
   "outputs": [],
   "source": [
    "df = pd.read_csv(historic_path)\n",
    "\n",
    "# Convert the 'timestamp' column to a datetime object\n",
    "df['timestamp'] = pd.to_datetime(df['timestamp'])\n",
    "\n",
    "# Filter the rows that have a timestamp of 4/1/23\n",
    "date_filter = df['timestamp'].dt.date == pd.to_datetime('4/1/23').date()\n",
    "filtered_df = df[date_filter]\n",
    "\n",
    "filtered_df.to_csv('historic_april1.csv', index=False)\n",
    "historic_filtered_path = os.path.join(cwd, '..', '..', 'data', 'historic_april1.csv')"
   ]
  },
  {
   "cell_type": "code",
   "execution_count": 55,
   "id": "b08888e7-1294-4ca2-8d8b-e77471cbe069",
   "metadata": {},
   "outputs": [],
   "source": [
    "# Load the first CSV file into a DataFrame\n",
    "df1 = pd.read_csv(station_path)\n",
    "\n",
    "# Load the second CSV file into a DataFrame\n",
    "df2 = pd.read_csv(historic_filtered_path)\n",
    "\n",
    "# Merge the two DataFrames together on a common column\n",
    "merged_df = pd.merge(df1, df2, on='sensor_index')\n",
    "\n",
    "# Save the merged DataFrame to a new CSV file\n",
    "merged_df.to_csv('merged_file.csv', index=False)\n",
    "merged_path = os.path.join(cwd, '..', '..', 'data', 'merged_file.csv')"
   ]
  },
  {
   "cell_type": "code",
   "execution_count": 56,
   "id": "73d9e22a-4611-4e63-b3e0-6b111bfb77e4",
   "metadata": {},
   "outputs": [],
   "source": [
    "# Set output point feature class name and path\n",
    "output_point_fc = \"stations_XYTableToPoint\"\n",
    "output_point_path = os.path.join(save_path_gdb, output_point_fc)\n",
    "\n",
    "# Specify x,y fields\n",
    "x_field = \"longitude\"\n",
    "y_field = \"latitude\"\n",
    "\n",
    "# Use XYTableToPoint tool to create point features\n",
    "station_points = arcpy.management.XYTableToPoint(merged_path, output_point_path, x_field, y_field)"
   ]
  },
  {
   "cell_type": "code",
   "execution_count": 50,
   "id": "60518d66-4149-4898-acfc-3d03893a6099",
   "metadata": {},
   "outputs": [],
   "source": [
    "'''\n",
    "output_table = \"joined_table\"\n",
    "arcpy.management.AddJoin(\n",
    "    in_layer_or_view=station_points,\n",
    "    in_field=\"sensor_index\",\n",
    "    join_table=historic_filtered_path,\n",
    "    join_field=\"sensor_index\",\n",
    "    join_type=\"KEEP_ALL\",\n",
    "    index_join_fields=\"NO_INDEX_JOIN_FIELDS\"\n",
    ")\n",
    "\n",
    "# Export the joined layer to a new table\n",
    "historic_apr1 = arcpy.management.CopyRows(\"stations_XYTableToPoint\", output_table)\n",
    "'''"
   ]
  },
  {
   "cell_type": "markdown",
   "id": "2be85786-c504-409e-a5ed-ac2205a07109",
   "metadata": {},
   "source": [
    "## PM 2.5 Interpolation"
   ]
  },
  {
   "cell_type": "markdown",
   "id": "5e2273ea-5d20-4823-b501-35f6da3d4983",
   "metadata": {},
   "source": [
    "### Kriging PM 2.5"
   ]
  },
  {
   "cell_type": "code",
   "execution_count": 57,
   "id": "1882fe35-c262-45fb-8d3f-2c1208c6ca00",
   "metadata": {},
   "outputs": [
    {
     "data": {
      "text/html": [
       "<div class='gpresult'><h2>Messages</h2><div id='messages' data-messages='[\"Start Time: Monday, April 10, 2023 10:10:16 PM\",\"SPHERICAL\\nLag size\\t\\t= nan(snan)\\nPartial sill\\t= nan(snan)\\nNugget\\t\\t= nan(snan)\\nMajor range\\t= nan(snan)\",\"Succeeded at Monday, April 10, 2023 10:10:17 PM (Elapsed Time: 1.15 seconds)\"]' data-show='true'><div id = 'default' /></div></div>"
      ],
      "text/plain": [
       "<Result 'C:\\\\Users\\\\tande\\\\Documents\\\\GitHub\\\\QualityAirQualityCities\\\\arcpy\\\\interpolation\\\\..\\\\..\\\\data\\\\QAQC.gdb\\\\Kriging_Apr1'>"
      ]
     },
     "execution_count": 57,
     "metadata": {},
     "output_type": "execute_result"
    }
   ],
   "source": [
    "out_kriging_raster = \"Kriging_Apr1\"\n",
    "arcpy.ddd.Kriging(\n",
    "    in_point_features=\"stations_XYTableToPoint\",\n",
    "    z_field=\"pm2_5\",\n",
    "    out_surface_raster=out_kriging_raster,\n",
    "    semiVariogram_props=\"Spherical # # # #\",\n",
    "    cell_size=0.000932919999999967,\n",
    "    search_radius=\"VARIABLE 12\",\n",
    "    out_variance_prediction_raster=None\n",
    ")"
   ]
  },
  {
   "cell_type": "markdown",
   "id": "1662e796-a575-4810-9aea-c6a5b392689e",
   "metadata": {},
   "source": [
    "### Clip Kriging"
   ]
  },
  {
   "cell_type": "code",
   "execution_count": 68,
   "id": "6c67ba40-4a1f-455b-bb57-0afc9c7f8d7d",
   "metadata": {},
   "outputs": [
    {
     "data": {
      "text/html": [
       "<div class='gpresult'><h2>Messages</h2><div id='messages' data-messages='[\"Start Time: Monday, April 10, 2023 10:35:35 PM\",\"Building Pyramids...\",\"Succeeded at Monday, April 10, 2023 10:35:36 PM (Elapsed Time: 1.53 seconds)\"]' data-show='true'><div id = 'default' /></div></div>"
      ],
      "text/plain": [
       "<Result 'C:\\\\Users\\\\tande\\\\Documents\\\\GitHub\\\\QualityAirQualityCities\\\\arcpy\\\\interpolation\\\\..\\\\..\\\\data\\\\QAQC.gdb\\\\Kriging_clip_Apr1'>"
      ]
     },
     "execution_count": 68,
     "metadata": {},
     "output_type": "execute_result"
    }
   ],
   "source": [
    "out_clip_kriging_raster = \"Kriging_clip_Apr1\"\n",
    "arcpy.management.Clip(\n",
    "    in_raster=out_kriging_raster,\n",
    "    rectangle=\"-93.32910837 44.8905885090001 -93.194328522 45.0512462900001\",\n",
    "    out_raster=out_clip_kriging_raster,\n",
    "    in_template_dataset='mpls_boundary',\n",
    "    nodata_value=\"3.4e+38\",\n",
    "    clipping_geometry=\"NONE\",\n",
    "    maintain_clipping_extent=\"NO_MAINTAIN_EXTENT\"\n",
    ")"
   ]
  },
  {
   "cell_type": "markdown",
   "id": "d4160b5d-1330-4dee-9809-b7e9f9f79305",
   "metadata": {},
   "source": [
    "### IDW PM 2.5"
   ]
  },
  {
   "cell_type": "code",
   "execution_count": 69,
   "id": "c305ad02-18e9-4858-bb7f-5aa2eb0d090f",
   "metadata": {},
   "outputs": [
    {
     "data": {
      "text/html": [
       "<div class='gpresult'><h2>Messages</h2><div id='messages' data-messages='[\"Start Time: Monday, April 10, 2023 10:35:38 PM\",\"Succeeded at Monday, April 10, 2023 10:35:40 PM (Elapsed Time: 1.48 seconds)\"]' data-show='true'><div id = 'default' /></div></div>"
      ],
      "text/plain": [
       "<Result ''>"
      ]
     },
     "execution_count": 69,
     "metadata": {},
     "output_type": "execute_result"
    }
   ],
   "source": [
    "out_idw_raster = \"IDW_Apr1\"\n",
    "arcpy.ga.IDW(\n",
    "    in_features=\"stations_XYTableToPoint\",\n",
    "    z_field=\"pm2_5\",\n",
    "    out_ga_layer=None,\n",
    "    out_raster=out_idw_raster,\n",
    "    cell_size=0.000932919999999967,\n",
    "    power=2,\n",
    "    search_neighborhood=\"NBRTYPE=Standard S_MAJOR=9.87111293434023E-02 S_MINOR=9.87111293434023E-02 ANGLE=0 NBR_MAX=15 NBR_MIN=10 SECTOR_TYPE=ONE_SECTOR\",\n",
    "    weight_field=None\n",
    ")"
   ]
  },
  {
   "cell_type": "markdown",
   "id": "f0922268-e966-4044-8f3a-6f80ba81e52b",
   "metadata": {},
   "source": [
    "### Clip IDW"
   ]
  },
  {
   "cell_type": "code",
   "execution_count": 70,
   "id": "cb2e9cb9-b62f-4092-9f79-96af695cee0f",
   "metadata": {},
   "outputs": [
    {
     "data": {
      "text/html": [
       "<div class='gpresult'><h2>Messages</h2><div id='messages' data-messages='[\"Start Time: Monday, April 10, 2023 10:35:41 PM\",\"Building Pyramids...\",\"Succeeded at Monday, April 10, 2023 10:35:43 PM (Elapsed Time: 1.54 seconds)\"]' data-show='true'><div id = 'default' /></div></div>"
      ],
      "text/plain": [
       "<Result 'C:\\\\Users\\\\tande\\\\Documents\\\\GitHub\\\\QualityAirQualityCities\\\\arcpy\\\\interpolation\\\\..\\\\..\\\\data\\\\QAQC.gdb\\\\IDW_clip_Apr1'>"
      ]
     },
     "execution_count": 70,
     "metadata": {},
     "output_type": "execute_result"
    }
   ],
   "source": [
    "out_clip_idw_raster = \"IDW_clip_Apr1\"\n",
    "arcpy.management.Clip(\n",
    "    in_raster=out_idw_raster,\n",
    "    rectangle=\"-93.32910837 44.8905885090001 -93.194328522 45.0512462900001\",\n",
    "    out_raster=out_clip_idw_raster,\n",
    "    in_template_dataset='mpls_boundary',\n",
    "    nodata_value=\"3.4e+38\",\n",
    "    clipping_geometry=\"NONE\",\n",
    "    maintain_clipping_extent=\"NO_MAINTAIN_EXTENT\"\n",
    ")"
   ]
  },
  {
   "cell_type": "markdown",
   "id": "723bf9c6-b1ee-42c9-b2c9-c01f84bfde34",
   "metadata": {},
   "source": [
    "### Spline PM 2.5"
   ]
  },
  {
   "cell_type": "code",
   "execution_count": 75,
   "id": "2b6d91b2-6c51-43b4-abd0-14ac9c143fde",
   "metadata": {},
   "outputs": [],
   "source": [
    "out_spline_raster = arcpy.sa.Spline(\n",
    "    in_point_features=\"stations_XYTableToPoint\",\n",
    "    z_field=\"pm2_5\",\n",
    "    cell_size=0.000932919999999967,\n",
    "    spline_type=\"REGULARIZED\",\n",
    "    weight=0.1,\n",
    "    number_points=12\n",
    ")\n",
    "save_path_spline = os.path.join(cwd, '..', '..', 'data', 'QAQC.gdb', 'Spline_Apr1')\n",
    "out_spline_raster.save(save_path_spline)"
   ]
  },
  {
   "cell_type": "markdown",
   "id": "4748f48a-4100-4e61-9bcb-58009d06a39a",
   "metadata": {},
   "source": [
    "### Clip Spline"
   ]
  },
  {
   "cell_type": "code",
   "execution_count": 76,
   "id": "9d43a7fd-1d30-42d9-a2d6-750237ecb75c",
   "metadata": {},
   "outputs": [
    {
     "data": {
      "text/html": [
       "<div class='gpresult'><h2>Messages</h2><div id='messages' data-messages='[\"Start Time: Monday, April 10, 2023 10:41:30 PM\",\"Building Pyramids...\",\"Succeeded at Monday, April 10, 2023 10:41:31 PM (Elapsed Time: 1.18 seconds)\"]' data-show='true'><div id = 'default' /></div></div>"
      ],
      "text/plain": [
       "<Result 'C:\\\\Users\\\\tande\\\\Documents\\\\GitHub\\\\QualityAirQualityCities\\\\arcpy\\\\interpolation\\\\..\\\\..\\\\data\\\\QAQC.gdb\\\\Spline_clip_Apr1'>"
      ]
     },
     "execution_count": 76,
     "metadata": {},
     "output_type": "execute_result"
    }
   ],
   "source": [
    "out_clip_spline_raster = \"Spline_clip_Apr1\"\n",
    "arcpy.management.Clip(\n",
    "    in_raster=out_spline_raster,\n",
    "    rectangle=\"-93.32910837 44.8905885090001 -93.194328522 45.0512462900001\",\n",
    "    out_raster=out_clip_spline_raster,\n",
    "    in_template_dataset='mpls_boundary',\n",
    "    nodata_value=\"3.4e+38\",\n",
    "    clipping_geometry=\"NONE\",\n",
    "    maintain_clipping_extent=\"NO_MAINTAIN_EXTENT\"\n",
    ")"
   ]
  },
  {
   "cell_type": "markdown",
   "id": "7cbe7d70-0270-4d7f-9b02-3949932a88da",
   "metadata": {},
   "source": [
    "## Temperature Interpolation"
   ]
  },
  {
   "cell_type": "markdown",
   "id": "ae0cd7f3-56b9-41b5-894f-fb4c6c69af32",
   "metadata": {},
   "source": [
    "### Kriging Temperature"
   ]
  },
  {
   "cell_type": "code",
   "execution_count": 84,
   "id": "bc942407-b56f-4af6-9429-38b9cf0a459b",
   "metadata": {},
   "outputs": [
    {
     "data": {
      "text/html": [
       "<div class='gpresult'><h2>Messages</h2><div id='messages' data-messages='[\"Start Time: Monday, April 10, 2023 10:50:48 PM\",\"SPHERICAL\\nLag size\\t\\t= nan(snan)\\nPartial sill\\t= nan(snan)\\nNugget\\t\\t= nan(snan)\\nMajor range\\t= nan(snan)\",\"Succeeded at Monday, April 10, 2023 10:50:49 PM (Elapsed Time: 1.06 seconds)\"]' data-show='true'><div id = 'default' /></div></div>"
      ],
      "text/plain": [
       "<Result 'C:\\\\Users\\\\tande\\\\Documents\\\\GitHub\\\\QualityAirQualityCities\\\\arcpy\\\\interpolation\\\\..\\\\..\\\\data\\\\QAQC.gdb\\\\Kriging_Temp_Apr1'>"
      ]
     },
     "execution_count": 84,
     "metadata": {},
     "output_type": "execute_result"
    }
   ],
   "source": [
    "out_kriging_temp_raster = \"Kriging_Temp_Apr1\"\n",
    "arcpy.ddd.Kriging(\n",
    "    in_point_features=\"stations_XYTableToPoint\",\n",
    "    z_field=\"temperature\",\n",
    "    out_surface_raster=out_kriging_temp_raster,\n",
    "    semiVariogram_props=\"Spherical # # # #\",\n",
    "    cell_size=0.000932919999999967,\n",
    "    search_radius=\"VARIABLE 12\",\n",
    "    out_variance_prediction_raster=None\n",
    ")"
   ]
  },
  {
   "cell_type": "markdown",
   "id": "185f560a-359b-4101-8398-8bfd2a7a903e",
   "metadata": {},
   "source": [
    "### Clip Kriging Temp"
   ]
  },
  {
   "cell_type": "code",
   "execution_count": 85,
   "id": "e30c413e-1078-4966-8f3b-5f7ce5c9a155",
   "metadata": {},
   "outputs": [
    {
     "data": {
      "text/html": [
       "<div class='gpresult'><h2>Messages</h2><div id='messages' data-messages='[\"Start Time: Monday, April 10, 2023 10:50:56 PM\",\"Building Pyramids...\",\"Succeeded at Monday, April 10, 2023 10:50:57 PM (Elapsed Time: 1.30 seconds)\"]' data-show='true'><div id = 'default' /></div></div>"
      ],
      "text/plain": [
       "<Result 'C:\\\\Users\\\\tande\\\\Documents\\\\GitHub\\\\QualityAirQualityCities\\\\arcpy\\\\interpolation\\\\..\\\\..\\\\data\\\\QAQC.gdb\\\\Kriging_clip_temp_Apr1'>"
      ]
     },
     "execution_count": 85,
     "metadata": {},
     "output_type": "execute_result"
    }
   ],
   "source": [
    "out_clip_kriging_temp_raster = \"Kriging_clip_temp_Apr1\"\n",
    "arcpy.management.Clip(\n",
    "    in_raster=out_kriging_temp_raster,\n",
    "    rectangle=\"-93.32910837 44.8905885090001 -93.194328522 45.0512462900001\",\n",
    "    out_raster=out_clip_kriging_temp_raster,\n",
    "    in_template_dataset='mpls_boundary',\n",
    "    nodata_value=\"3.4e+38\",\n",
    "    clipping_geometry=\"NONE\",\n",
    "    maintain_clipping_extent=\"NO_MAINTAIN_EXTENT\"\n",
    ")"
   ]
  },
  {
   "cell_type": "markdown",
   "id": "9c571358-9a0a-43cc-90ee-8ba881dd4980",
   "metadata": {},
   "source": [
    "### IDW Temp"
   ]
  },
  {
   "cell_type": "code",
   "execution_count": 82,
   "id": "71357db4-e521-4e14-8911-23b7a8a93466",
   "metadata": {},
   "outputs": [
    {
     "data": {
      "text/html": [
       "<div class='gpresult'><h2>Messages</h2><div id='messages' data-messages='[\"Start Time: Monday, April 10, 2023 10:49:37 PM\",\"Succeeded at Monday, April 10, 2023 10:49:39 PM (Elapsed Time: 1.17 seconds)\"]' data-show='true'><div id = 'default' /></div></div>"
      ],
      "text/plain": [
       "<Result ''>"
      ]
     },
     "execution_count": 82,
     "metadata": {},
     "output_type": "execute_result"
    }
   ],
   "source": [
    "out_idw_temp_raster = \"IDW_Temp_Apr1\"\n",
    "arcpy.ga.IDW(\n",
    "    in_features=\"stations_XYTableToPoint\",\n",
    "    z_field=\"temperature\",\n",
    "    out_ga_layer=None,\n",
    "    out_raster=out_idw_temp_raster,\n",
    "    cell_size=0.000932919999999967,\n",
    "    power=2,\n",
    "    search_neighborhood=\"NBRTYPE=Standard S_MAJOR=9.87111293434023E-02 S_MINOR=9.87111293434023E-02 ANGLE=0 NBR_MAX=15 NBR_MIN=10 SECTOR_TYPE=ONE_SECTOR\",\n",
    "    weight_field=None\n",
    ")"
   ]
  },
  {
   "cell_type": "markdown",
   "id": "572c4db8-c8c4-4d12-b5ca-1b52f569b077",
   "metadata": {},
   "source": [
    "### Clip IDW"
   ]
  },
  {
   "cell_type": "code",
   "execution_count": 83,
   "id": "cd31a1e9-d422-4661-b82d-78f9a6f72bb5",
   "metadata": {},
   "outputs": [
    {
     "data": {
      "text/html": [
       "<div class='gpresult'><h2>Messages</h2><div id='messages' data-messages='[\"Start Time: Monday, April 10, 2023 10:50:26 PM\",\"Building Pyramids...\",\"Succeeded at Monday, April 10, 2023 10:50:27 PM (Elapsed Time: 1.18 seconds)\"]' data-show='true'><div id = 'default' /></div></div>"
      ],
      "text/plain": [
       "<Result 'C:\\\\Users\\\\tande\\\\Documents\\\\GitHub\\\\QualityAirQualityCities\\\\arcpy\\\\interpolation\\\\..\\\\..\\\\data\\\\QAQC.gdb\\\\IDW_clip_temp_Apr1'>"
      ]
     },
     "execution_count": 83,
     "metadata": {},
     "output_type": "execute_result"
    }
   ],
   "source": [
    "out_clip_idw_temp_raster = \"IDW_clip_temp_Apr1\"\n",
    "arcpy.management.Clip(\n",
    "    in_raster=out_idw_temp_raster,\n",
    "    rectangle=\"-93.32910837 44.8905885090001 -93.194328522 45.0512462900001\",\n",
    "    out_raster=out_clip_idw_temp_raster,\n",
    "    in_template_dataset='mpls_boundary',\n",
    "    nodata_value=\"3.4e+38\",\n",
    "    clipping_geometry=\"NONE\",\n",
    "    maintain_clipping_extent=\"NO_MAINTAIN_EXTENT\"\n",
    ")"
   ]
  },
  {
   "cell_type": "markdown",
   "id": "a78a0e5d-4cd8-48e7-84a3-a4fe2246aea4",
   "metadata": {},
   "source": [
    "### Spline Temp"
   ]
  },
  {
   "cell_type": "code",
   "execution_count": 86,
   "id": "36238cbe-c657-49d9-9ad0-7ad2f1ce9cd5",
   "metadata": {},
   "outputs": [],
   "source": [
    "out_spline_temp_raster = arcpy.sa.Spline(\n",
    "    in_point_features=\"stations_XYTableToPoint\",\n",
    "    z_field=\"temperature\",\n",
    "    cell_size=0.000932919999999967,\n",
    "    spline_type=\"REGULARIZED\",\n",
    "    weight=0.1,\n",
    "    number_points=12\n",
    ")\n",
    "save_path_temp_spline = os.path.join(cwd, '..', '..', 'data', 'QAQC.gdb', 'Spline_Temp_Apr1')\n",
    "out_spline_temp_raster.save(save_path_temp_spline)"
   ]
  },
  {
   "cell_type": "markdown",
   "id": "4c8f909b-2525-43fd-b926-53743d24423b",
   "metadata": {},
   "source": [
    "### Clip Spline"
   ]
  },
  {
   "cell_type": "code",
   "execution_count": 87,
   "id": "daa9f5dd-99e8-440b-b1c7-d709c4e433a4",
   "metadata": {},
   "outputs": [
    {
     "data": {
      "text/html": [
       "<div class='gpresult'><h2>Messages</h2><div id='messages' data-messages='[\"Start Time: Monday, April 10, 2023 10:54:32 PM\",\"Building Pyramids...\",\"Succeeded at Monday, April 10, 2023 10:54:33 PM (Elapsed Time: 0.94 seconds)\"]' data-show='true'><div id = 'default' /></div></div>"
      ],
      "text/plain": [
       "<Result 'C:\\\\Users\\\\tande\\\\Documents\\\\GitHub\\\\QualityAirQualityCities\\\\arcpy\\\\interpolation\\\\..\\\\..\\\\data\\\\QAQC.gdb\\\\Spline_clip_temp_Apr1'>"
      ]
     },
     "execution_count": 87,
     "metadata": {},
     "output_type": "execute_result"
    }
   ],
   "source": [
    "out_clip_spline_temp_raster = \"Spline_clip_temp_Apr1\"\n",
    "arcpy.management.Clip(\n",
    "    in_raster=out_spline_temp_raster,\n",
    "    rectangle=\"-93.32910837 44.8905885090001 -93.194328522 45.0512462900001\",\n",
    "    out_raster=out_clip_spline_temp_raster,\n",
    "    in_template_dataset='mpls_boundary',\n",
    "    nodata_value=\"3.4e+38\",\n",
    "    clipping_geometry=\"NONE\",\n",
    "    maintain_clipping_extent=\"NO_MAINTAIN_EXTENT\"\n",
    ")"
   ]
  },
  {
   "cell_type": "markdown",
   "id": "69b25841-ab9e-44f3-b6fd-e955f4d5972f",
   "metadata": {},
   "source": [
    "## Cross Validation"
   ]
  },
  {
   "cell_type": "markdown",
   "id": "afffc03e-d1ac-46b8-9602-d08d79203a66",
   "metadata": {},
   "source": [
    "### Kriging PM 2.5"
   ]
  },
  {
   "cell_type": "code",
   "execution_count": 89,
   "id": "99e764b0-9d6e-464e-a989-d8aa87dc4cdd",
   "metadata": {},
   "outputs": [
    {
     "ename": "RuntimeError",
     "evalue": "Object: Error in executing tool",
     "output_type": "error",
     "traceback": [
      "\u001b[1;31m---------------------------------------------------------------------------\u001b[0m",
      "\u001b[1;31mRuntimeError\u001b[0m                              Traceback (most recent call last)",
      "\u001b[1;32m~\\AppData\\Local\\Temp\\ipykernel_21536\\1314712080.py\u001b[0m in \u001b[0;36m<cell line: 15>\u001b[1;34m()\u001b[0m\n\u001b[0;32m     22\u001b[0m \u001b[1;33m\u001b[0m\u001b[0m\n\u001b[0;32m     23\u001b[0m     \u001b[1;31m# Fit the kriging model to the training data\u001b[0m\u001b[1;33m\u001b[0m\u001b[1;33m\u001b[0m\u001b[0m\n\u001b[1;32m---> 24\u001b[1;33m     kriging = arcpy.sa.Kriging(\n\u001b[0m\u001b[0;32m     25\u001b[0m         \u001b[0min_point_features\u001b[0m\u001b[1;33m=\u001b[0m\u001b[0mX_train\u001b[0m\u001b[1;33m,\u001b[0m\u001b[1;33m\u001b[0m\u001b[1;33m\u001b[0m\u001b[0m\n\u001b[0;32m     26\u001b[0m         \u001b[0mz_field\u001b[0m\u001b[1;33m=\u001b[0m\u001b[1;34m\"pm2_5\"\u001b[0m\u001b[1;33m,\u001b[0m\u001b[1;33m\u001b[0m\u001b[1;33m\u001b[0m\u001b[0m\n",
      "\u001b[1;32mC:\\Program Files\\ArcGIS\\Pro\\Resources\\ArcPy\\arcpy\\sa\\Functions.py\u001b[0m in \u001b[0;36mKriging\u001b[1;34m(in_point_features, z_field, kriging_model, cell_size, search_radius, out_variance_prediction_raster)\u001b[0m\n\u001b[0;32m   5820\u001b[0m             out_variance_prediction_raster)\n\u001b[0;32m   5821\u001b[0m         \u001b[1;32mreturn\u001b[0m \u001b[0m_wrapToolRaster\u001b[0m\u001b[1;33m(\u001b[0m\u001b[1;34mu\"Kriging_sa\"\u001b[0m\u001b[1;33m,\u001b[0m \u001b[0municode\u001b[0m\u001b[1;33m(\u001b[0m\u001b[0mresult\u001b[0m\u001b[1;33m.\u001b[0m\u001b[0mgetOutput\u001b[0m\u001b[1;33m(\u001b[0m\u001b[1;36m0\u001b[0m\u001b[1;33m)\u001b[0m\u001b[1;33m)\u001b[0m\u001b[1;33m)\u001b[0m\u001b[1;33m\u001b[0m\u001b[1;33m\u001b[0m\u001b[0m\n\u001b[1;32m-> 5822\u001b[1;33m     return Wrapper(\n\u001b[0m\u001b[0;32m   5823\u001b[0m         \u001b[0min_point_features\u001b[0m\u001b[1;33m,\u001b[0m\u001b[1;33m\u001b[0m\u001b[1;33m\u001b[0m\u001b[0m\n\u001b[0;32m   5824\u001b[0m         \u001b[0mz_field\u001b[0m\u001b[1;33m,\u001b[0m\u001b[1;33m\u001b[0m\u001b[1;33m\u001b[0m\u001b[0m\n",
      "\u001b[1;32mC:\\Program Files\\ArcGIS\\Pro\\Resources\\ArcPy\\arcpy\\sa\\Utils.py\u001b[0m in \u001b[0;36mswapper\u001b[1;34m(*args, **kwargs)\u001b[0m\n\u001b[0;32m     53\u001b[0m \u001b[1;33m\u001b[0m\u001b[0m\n\u001b[0;32m     54\u001b[0m             \u001b[1;32mtry\u001b[0m\u001b[1;33m:\u001b[0m\u001b[1;33m\u001b[0m\u001b[1;33m\u001b[0m\u001b[0m\n\u001b[1;32m---> 55\u001b[1;33m                 \u001b[0mresult\u001b[0m \u001b[1;33m=\u001b[0m \u001b[0mwrapper\u001b[0m\u001b[1;33m(\u001b[0m\u001b[1;33m*\u001b[0m\u001b[0margs\u001b[0m\u001b[1;33m,\u001b[0m \u001b[1;33m**\u001b[0m\u001b[0mkwargs\u001b[0m\u001b[1;33m)\u001b[0m\u001b[1;33m\u001b[0m\u001b[1;33m\u001b[0m\u001b[0m\n\u001b[0m\u001b[0;32m     56\u001b[0m             \u001b[1;32mfinally\u001b[0m\u001b[1;33m:\u001b[0m\u001b[1;33m\u001b[0m\u001b[1;33m\u001b[0m\u001b[0m\n\u001b[0;32m     57\u001b[0m                 \u001b[1;31m# Reset the geoprocessor state to the original setting.\u001b[0m\u001b[1;33m\u001b[0m\u001b[1;33m\u001b[0m\u001b[0m\n",
      "\u001b[1;32mC:\\Program Files\\ArcGIS\\Pro\\Resources\\ArcPy\\arcpy\\sa\\Functions.py\u001b[0m in \u001b[0;36mWrapper\u001b[1;34m(in_point_features, z_field, kriging_model, cell_size, search_radius, out_variance_prediction_raster)\u001b[0m\n\u001b[0;32m   5811\u001b[0m         \u001b[0msearch_radius\u001b[0m \u001b[1;33m=\u001b[0m \u001b[0mUtils\u001b[0m\u001b[1;33m.\u001b[0m\u001b[0mcompoundParameterToString\u001b[0m\u001b[1;33m(\u001b[0m\u001b[0msearch_radius\u001b[0m\u001b[1;33m,\u001b[0m \u001b[0mParameterClasses\u001b[0m\u001b[1;33m.\u001b[0m\u001b[0m_Radius\u001b[0m\u001b[1;33m)\u001b[0m\u001b[1;33m\u001b[0m\u001b[1;33m\u001b[0m\u001b[0m\n\u001b[0;32m   5812\u001b[0m         \u001b[0mout_surface_raster\u001b[0m \u001b[1;33m=\u001b[0m \u001b[1;34m\"#\"\u001b[0m\u001b[1;33m\u001b[0m\u001b[1;33m\u001b[0m\u001b[0m\n\u001b[1;32m-> 5813\u001b[1;33m         result = arcpy.gp.Kriging_sa(\n\u001b[0m\u001b[0;32m   5814\u001b[0m             \u001b[0min_point_features\u001b[0m\u001b[1;33m,\u001b[0m\u001b[1;33m\u001b[0m\u001b[1;33m\u001b[0m\u001b[0m\n\u001b[0;32m   5815\u001b[0m             \u001b[0mz_field\u001b[0m\u001b[1;33m,\u001b[0m\u001b[1;33m\u001b[0m\u001b[1;33m\u001b[0m\u001b[0m\n",
      "\u001b[1;32mC:\\Program Files\\ArcGIS\\Pro\\Resources\\ArcPy\\arcpy\\geoprocessing\\_base.py\u001b[0m in \u001b[0;36m<lambda>\u001b[1;34m(*args)\u001b[0m\n\u001b[0;32m    510\u001b[0m         \u001b[0mval\u001b[0m \u001b[1;33m=\u001b[0m \u001b[0mgetattr\u001b[0m\u001b[1;33m(\u001b[0m\u001b[0mself\u001b[0m\u001b[1;33m.\u001b[0m\u001b[0m_gp\u001b[0m\u001b[1;33m,\u001b[0m \u001b[0mattr\u001b[0m\u001b[1;33m)\u001b[0m\u001b[1;33m\u001b[0m\u001b[1;33m\u001b[0m\u001b[0m\n\u001b[0;32m    511\u001b[0m         \u001b[1;32mif\u001b[0m \u001b[0mcallable\u001b[0m\u001b[1;33m(\u001b[0m\u001b[0mval\u001b[0m\u001b[1;33m)\u001b[0m\u001b[1;33m:\u001b[0m\u001b[1;33m\u001b[0m\u001b[1;33m\u001b[0m\u001b[0m\n\u001b[1;32m--> 512\u001b[1;33m             \u001b[1;32mreturn\u001b[0m \u001b[1;32mlambda\u001b[0m \u001b[1;33m*\u001b[0m\u001b[0margs\u001b[0m\u001b[1;33m:\u001b[0m \u001b[0mval\u001b[0m\u001b[1;33m(\u001b[0m\u001b[1;33m*\u001b[0m\u001b[0mgp_fixargs\u001b[0m\u001b[1;33m(\u001b[0m\u001b[0margs\u001b[0m\u001b[1;33m,\u001b[0m \u001b[1;32mTrue\u001b[0m\u001b[1;33m)\u001b[0m\u001b[1;33m)\u001b[0m\u001b[1;33m\u001b[0m\u001b[1;33m\u001b[0m\u001b[0m\n\u001b[0m\u001b[0;32m    513\u001b[0m         \u001b[1;32melse\u001b[0m\u001b[1;33m:\u001b[0m\u001b[1;33m\u001b[0m\u001b[1;33m\u001b[0m\u001b[0m\n\u001b[0;32m    514\u001b[0m             \u001b[1;32mreturn\u001b[0m \u001b[0mconvertArcObjectToPythonObject\u001b[0m\u001b[1;33m(\u001b[0m\u001b[0mval\u001b[0m\u001b[1;33m)\u001b[0m\u001b[1;33m\u001b[0m\u001b[1;33m\u001b[0m\u001b[0m\n",
      "\u001b[1;31mRuntimeError\u001b[0m: Object: Error in executing tool"
     ]
    }
   ],
   "source": [
    "stations = pd.read_csv(\"merged_file.csv\")\n",
    "\n",
    "# Define the coordinates and values arrays\n",
    "X = stations[['latitude', 'longitude']].values\n",
    "z = stations['pm2_5'].values\n",
    "\n",
    "# Define the leave-one-out cross-validation object\n",
    "n_points = X.shape[0]\n",
    "loo = [(np.delete(np.arange(n_points), i), i) for i in range(n_points)]\n",
    "\n",
    "# Define an array to hold the cross-validation errors\n",
    "errors = []\n",
    "\n",
    "# Loop over each point in the DataFrame and leave it out in turn\n",
    "for train_index, test_index in loo:\n",
    "    # Leave out the i-th point\n",
    "    X_train, X_test = X[train_index], X[test_index]\n",
    "    z_train, z_test = z[train_index], z[test_index]\n",
    "\n",
    "    # Define the kriging model with the desired parameters\n",
    "    kModel = arcpy.sa.KrigingModelOrdinary(\"LINEAR\")\n",
    "\n",
    "    # Fit the kriging model to the training data\n",
    "    kriging = arcpy.sa.Kriging(\n",
    "        in_point_features=X_train,\n",
    "        z_field=\"pm2_5\",\n",
    "        kriging_model=kModel,\n",
    "        cell_size=0.000932919999999967\n",
    "    )\n",
    "\n",
    "    # Predict the value at the left-out point\n",
    "    z_pred = kriging.predict(X_test)[0]\n",
    "\n",
    "    # Compute the absolute error between the predicted and true values\n",
    "    error = abs(z_pred - z_test)\n",
    "\n",
    "    # Record the error in the array\n",
    "    errors.append(error)\n",
    "\n",
    "# Compute the mean absolute error over all the left-out points\n",
    "mae = np.mean(errors)\n",
    "\n",
    "# Print the mean absolute error\n",
    "print(f\"Mean Absolute Error: {mae:.3f}\")"
   ]
  },
  {
   "cell_type": "markdown",
   "id": "df338540-135d-4f65-992d-a65d1be605bd",
   "metadata": {},
   "source": [
    "### IDW PM 2.5"
   ]
  }
 ],
 "metadata": {
  "kernelspec": {
   "display_name": "Python 3 (ipykernel)",
   "language": "python",
   "name": "python3"
  },
  "language_info": {
   "codemirror_mode": {
    "name": "ipython",
    "version": 3
   },
   "file_extension": ".py",
   "mimetype": "text/x-python",
   "name": "python",
   "nbconvert_exporter": "python",
   "pygments_lexer": "ipython3",
   "version": "3.9.16"
  }
 },
 "nbformat": 4,
 "nbformat_minor": 5
}
