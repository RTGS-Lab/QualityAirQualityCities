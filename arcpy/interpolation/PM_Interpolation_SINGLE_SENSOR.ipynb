{
 "cells": [
  {
   "cell_type": "code",
   "execution_count": null,
   "id": "da00c589-2aae-477a-b9f2-3089708e9855",
   "metadata": {},
   "outputs": [],
   "source": []
  },
  {
   "cell_type": "code",
   "execution_count": 1,
   "id": "76e4686a-1a0d-43e7-9e8f-79b9721e2a33",
   "metadata": {},
   "outputs": [],
   "source": [
    "import arcpy\n",
    "import pandas as pd\n",
    "import psycopg2\n",
    "from psycopg2 import sql\n",
    "import numpy as np\n",
    "import os\n",
    "import folium"
   ]
  },
  {
   "cell_type": "code",
   "execution_count": 2,
   "id": "b379a88b-0445-4ebc-b9b8-335ee371a965",
   "metadata": {},
   "outputs": [],
   "source": [
    "cwd = os.getcwd() # This is a global variable for where the notebook is (must change if running in arcpro)\n",
    "\n",
    "# Make it workspace\n",
    "\n",
    "arcpy.env.workspace = os.path.join(cwd, '..', '..', 'data', 'QAQC.gdb')\n",
    "\n",
    "arcpy.env.overwriteOutput = True # Overwrite layers is okay\n",
    "\n",
    "save_path_csv = os.path.join(cwd, '..', '..', 'data')\n",
    "save_path_gdb = os.path.join(cwd, '..', '..', 'data', 'QAQC.gdb')\n",
    "historic_path = os.path.join(cwd, '..', '..', 'data', 'purpleair_historic.csv')\n",
    "station_path = os.path.join(cwd, '..', '..', 'data', 'purpleair_stations.csv')\n",
    "boundary_path = os.path.join(cwd, '..', '..', 'data', 'mpls_boundary.geojson')"
   ]
  },
  {
   "cell_type": "code",
   "execution_count": 3,
   "id": "352fc474-2f90-4baf-8723-b01a011d458e",
   "metadata": {},
   "outputs": [
    {
     "data": {
      "text/html": [
       "<div class='gpresult'><h2>Messages</h2><div id='messages' data-messages='[\"Start Time: Tuesday, April 11, 2023 12:50:59 PM\",\"Succeeded at Tuesday, April 11, 2023 12:51:00 PM (Elapsed Time: 0.86 seconds)\"]' data-show='true'><div id = 'default' /></div></div>"
      ],
      "text/plain": [
       "<Result 'C:\\\\Users\\\\tande\\\\Documents\\\\GitHub\\\\QualityAirQualityCities\\\\arcpy\\\\interpolation\\\\..\\\\..\\\\data\\\\QAQC.gdb\\\\mpls_boundary'>"
      ]
     },
     "execution_count": 3,
     "metadata": {},
     "output_type": "execute_result"
    }
   ],
   "source": [
    "output_fc = 'mpls_boundary'\n",
    "output_fc_path = os.path.join(save_path_gdb, output_fc)\n",
    "\n",
    "# Convert the GeoJSON file to a feature class\n",
    "arcpy.JSONToFeatures_conversion(boundary_path, output_fc)"
   ]
  },
  {
   "cell_type": "code",
   "execution_count": 4,
   "id": "27328efa-0034-4d44-993d-9b5a3f0d185d",
   "metadata": {},
   "outputs": [],
   "source": [
    "df = pd.read_csv(historic_path)\n",
    "\n",
    "# Convert the 'timestamp' column to a datetime object\n",
    "df['timestamp'] = pd.to_datetime(df['timestamp'])\n",
    "\n",
    "# Filter the rows that have a timestamp of 4/1/23\n",
    "date_filter = df['timestamp'].dt.date == pd.to_datetime('4/1/23').date()\n",
    "filtered_df = df[date_filter]\n",
    "\n",
    "filtered_df.to_csv('historic_april1.csv', index=False)\n",
    "historic_filtered_path = os.path.join(cwd, '..', '..', 'data', 'historic_april1.csv')"
   ]
  },
  {
   "cell_type": "code",
   "execution_count": 5,
   "id": "b08888e7-1294-4ca2-8d8b-e77471cbe069",
   "metadata": {},
   "outputs": [],
   "source": [
    "# Load the first CSV file into a DataFrame\n",
    "df1 = pd.read_csv(station_path)\n",
    "\n",
    "# Load the second CSV file into a DataFrame\n",
    "df2 = pd.read_csv(historic_filtered_path)\n",
    "\n",
    "# Merge the two DataFrames together on a common column\n",
    "merged_df = pd.merge(df1, df2, on='sensor_index')\n",
    "\n",
    "# Save the merged DataFrame to a new CSV file\n",
    "merged_df.to_csv('merged_file.csv', index=False)\n",
    "merged_path = os.path.join(cwd, '..', '..', 'data', 'merged_file.csv')"
   ]
  },
  {
   "cell_type": "code",
   "execution_count": 6,
   "id": "73d9e22a-4611-4e63-b3e0-6b111bfb77e4",
   "metadata": {},
   "outputs": [],
   "source": [
    "# Set output point feature class name and path\n",
    "output_point_fc = \"stations_XYTableToPoint\"\n",
    "output_point_path = os.path.join(save_path_gdb, output_point_fc)\n",
    "\n",
    "# Specify x,y fields\n",
    "x_field = \"longitude\"\n",
    "y_field = \"latitude\"\n",
    "\n",
    "# Use XYTableToPoint tool to create point features\n",
    "station_points = arcpy.management.XYTableToPoint(merged_path, output_point_path, x_field, y_field)"
   ]
  },
  {
   "cell_type": "code",
   "execution_count": 7,
   "id": "60518d66-4149-4898-acfc-3d03893a6099",
   "metadata": {},
   "outputs": [
    {
     "data": {
      "text/plain": [
       "'\\noutput_table = \"joined_table\"\\narcpy.management.AddJoin(\\n    in_layer_or_view=station_points,\\n    in_field=\"sensor_index\",\\n    join_table=historic_filtered_path,\\n    join_field=\"sensor_index\",\\n    join_type=\"KEEP_ALL\",\\n    index_join_fields=\"NO_INDEX_JOIN_FIELDS\"\\n)\\n\\n# Export the joined layer to a new table\\nhistoric_apr1 = arcpy.management.CopyRows(\"stations_XYTableToPoint\", output_table)\\n'"
      ]
     },
     "execution_count": 7,
     "metadata": {},
     "output_type": "execute_result"
    }
   ],
   "source": [
    "'''\n",
    "output_table = \"joined_table\"\n",
    "arcpy.management.AddJoin(\n",
    "    in_layer_or_view=station_points,\n",
    "    in_field=\"sensor_index\",\n",
    "    join_table=historic_filtered_path,\n",
    "    join_field=\"sensor_index\",\n",
    "    join_type=\"KEEP_ALL\",\n",
    "    index_join_fields=\"NO_INDEX_JOIN_FIELDS\"\n",
    ")\n",
    "\n",
    "# Export the joined layer to a new table\n",
    "historic_apr1 = arcpy.management.CopyRows(\"stations_XYTableToPoint\", output_table)\n",
    "'''"
   ]
  },
  {
   "cell_type": "markdown",
   "id": "2be85786-c504-409e-a5ed-ac2205a07109",
   "metadata": {},
   "source": [
    "## PM 2.5 Interpolation"
   ]
  },
  {
   "cell_type": "markdown",
   "id": "5e2273ea-5d20-4823-b501-35f6da3d4983",
   "metadata": {},
   "source": [
    "### Kriging PM 2.5"
   ]
  },
  {
   "cell_type": "code",
   "execution_count": 29,
   "id": "1882fe35-c262-45fb-8d3f-2c1208c6ca00",
   "metadata": {},
   "outputs": [
    {
     "data": {
      "text/html": [
       "<div class='gpresult'><h2>Messages</h2><div id='messages' data-messages='[\"Start Time: Tuesday, April 11, 2023 4:04:47 PM\",\"\\r\\nWarning(s) for dataset: Length of the radius of the search circle = 10988 meters.\",\"Succeeded at Tuesday, April 11, 2023 4:04:52 PM (Elapsed Time: 5.95 seconds)\"]' data-show='true'><div id = 'default' /></div></div>"
      ],
      "text/plain": [
       "<Result ''>"
      ]
     },
     "execution_count": 29,
     "metadata": {},
     "output_type": "execute_result"
    }
   ],
   "source": [
    "out_kriging_raster = \"Kriging_Apr1\"\n",
    "arcpy.ga.EmpiricalBayesianKriging(\n",
    "    in_features=\"stations_XYTableToPoint\",\n",
    "    z_field=\"pm2_5\",\n",
    "    out_ga_layer=None,\n",
    "    out_raster=out_kriging_raster,\n",
    "    cell_size=0.000932919999999967,\n",
    "    transformation_type=\"NONE\",\n",
    "    max_local_points=100,\n",
    "    overlap_factor=1,\n",
    "    number_semivariograms=100,\n",
    "    search_neighborhood=\"NBRTYPE=StandardCircular RADIUS=9.87111293434023E-02 ANGLE=0 NBR_MAX=15 NBR_MIN=10 SECTOR_TYPE=ONE_SECTOR\",\n",
    "    output_type=\"PREDICTION\",\n",
    "    quantile_value=0.5,\n",
    "    threshold_type=\"EXCEED\",\n",
    "    probability_threshold=None,\n",
    "    semivariogram_model_type=\"POWER\"\n",
    ")"
   ]
  },
  {
   "cell_type": "markdown",
   "id": "1662e796-a575-4810-9aea-c6a5b392689e",
   "metadata": {},
   "source": [
    "### Clip Kriging"
   ]
  },
  {
   "cell_type": "code",
   "execution_count": 30,
   "id": "6c67ba40-4a1f-455b-bb57-0afc9c7f8d7d",
   "metadata": {},
   "outputs": [
    {
     "data": {
      "text/html": [
       "<div class='gpresult'><h2>Messages</h2><div id='messages' data-messages='[\"Start Time: Tuesday, April 11, 2023 4:05:08 PM\",\"Building Pyramids...\",\"Succeeded at Tuesday, April 11, 2023 4:05:10 PM (Elapsed Time: 1.79 seconds)\"]' data-show='true'><div id = 'default' /></div></div>"
      ],
      "text/plain": [
       "<Result 'C:\\\\Users\\\\tande\\\\Documents\\\\GitHub\\\\QualityAirQualityCities\\\\arcpy\\\\interpolation\\\\..\\\\..\\\\data\\\\QAQC.gdb\\\\Kriging_clip_Apr1'>"
      ]
     },
     "execution_count": 30,
     "metadata": {},
     "output_type": "execute_result"
    }
   ],
   "source": [
    "out_clip_kriging_raster = \"Kriging_clip_Apr1\"\n",
    "arcpy.management.Clip(\n",
    "    in_raster=out_kriging_raster,\n",
    "    rectangle=\"-93.32910837 44.8905885090001 -93.194328522 45.0512462900001\",\n",
    "    out_raster=out_clip_kriging_raster,\n",
    "    in_template_dataset='mpls_boundary',\n",
    "    nodata_value=\"3.4e+38\",\n",
    "    clipping_geometry=\"NONE\",\n",
    "    maintain_clipping_extent=\"NO_MAINTAIN_EXTENT\"\n",
    ")"
   ]
  },
  {
   "cell_type": "markdown",
   "id": "d4160b5d-1330-4dee-9809-b7e9f9f79305",
   "metadata": {},
   "source": [
    "### IDW PM 2.5"
   ]
  },
  {
   "cell_type": "code",
   "execution_count": 25,
   "id": "c305ad02-18e9-4858-bb7f-5aa2eb0d090f",
   "metadata": {},
   "outputs": [
    {
     "data": {
      "text/html": [
       "<div class='gpresult'><h2>Messages</h2><div id='messages' data-messages='[\"Start Time: Tuesday, April 11, 2023 12:57:26 PM\",\"Succeeded at Tuesday, April 11, 2023 12:57:27 PM (Elapsed Time: 1.48 seconds)\"]' data-show='true'><div id = 'default' /></div></div>"
      ],
      "text/plain": [
       "<Result ''>"
      ]
     },
     "execution_count": 25,
     "metadata": {},
     "output_type": "execute_result"
    }
   ],
   "source": [
    "out_idw_raster = \"IDW_Apr1\"\n",
    "arcpy.ga.IDW(\n",
    "    in_features=\"stations_XYTableToPoint\",\n",
    "    z_field=\"pm2_5\",\n",
    "    out_ga_layer=None,\n",
    "    out_raster=out_idw_raster,\n",
    "    cell_size=10,\n",
    "    power=2,\n",
    "    search_neighborhood=\"NBRTYPE=Standard S_MAJOR=9.87111293434023E-02 S_MINOR=9.87111293434023E-02 ANGLE=0 NBR_MAX=15 NBR_MIN=10 SECTOR_TYPE=ONE_SECTOR\",\n",
    "    weight_field=None\n",
    ")"
   ]
  },
  {
   "cell_type": "markdown",
   "id": "f0922268-e966-4044-8f3a-6f80ba81e52b",
   "metadata": {},
   "source": [
    "### Clip IDW"
   ]
  },
  {
   "cell_type": "code",
   "execution_count": 11,
   "id": "cb2e9cb9-b62f-4092-9f79-96af695cee0f",
   "metadata": {},
   "outputs": [
    {
     "data": {
      "text/html": [
       "<div class='gpresult'><h2>Messages</h2><div id='messages' data-messages='[\"Start Time: Tuesday, April 11, 2023 12:51:06 PM\",\"Building Pyramids...\",\"Succeeded at Tuesday, April 11, 2023 12:51:07 PM (Elapsed Time: 1.58 seconds)\"]' data-show='true'><div id = 'default' /></div></div>"
      ],
      "text/plain": [
       "<Result 'C:\\\\Users\\\\tande\\\\Documents\\\\GitHub\\\\QualityAirQualityCities\\\\arcpy\\\\interpolation\\\\..\\\\..\\\\data\\\\QAQC.gdb\\\\IDW_clip_Apr1'>"
      ]
     },
     "execution_count": 11,
     "metadata": {},
     "output_type": "execute_result"
    }
   ],
   "source": [
    "out_clip_idw_raster = \"IDW_clip_Apr1\"\n",
    "arcpy.management.Clip(\n",
    "    in_raster=out_idw_raster,\n",
    "    rectangle=\"-93.32910837 44.8905885090001 -93.194328522 45.0512462900001\",\n",
    "    out_raster=out_clip_idw_raster,\n",
    "    in_template_dataset='mpls_boundary',\n",
    "    nodata_value=\"3.4e+38\",\n",
    "    clipping_geometry=\"NONE\",\n",
    "    maintain_clipping_extent=\"NO_MAINTAIN_EXTENT\"\n",
    ")"
   ]
  },
  {
   "cell_type": "markdown",
   "id": "723bf9c6-b1ee-42c9-b2c9-c01f84bfde34",
   "metadata": {},
   "source": [
    "### Local Polynomial PM 2.5"
   ]
  },
  {
   "cell_type": "code",
   "execution_count": 33,
   "id": "2b6d91b2-6c51-43b4-abd0-14ac9c143fde",
   "metadata": {},
   "outputs": [
    {
     "data": {
      "text/html": [
       "<div class='gpresult'><h2>Messages</h2><div id='messages' data-messages='[\"Start Time: Tuesday, April 11, 2023 4:07:57 PM\",\"Succeeded at Tuesday, April 11, 2023 4:07:58 PM (Elapsed Time: 1.50 seconds)\"]' data-show='true'><div id = 'default' /></div></div>"
      ],
      "text/plain": [
       "<Result ''>"
      ]
     },
     "execution_count": 33,
     "metadata": {},
     "output_type": "execute_result"
    }
   ],
   "source": [
    "out_poly_raster = \"Poly_Apr1\"\n",
    "arcpy.ga.LocalPolynomialInterpolation(\n",
    "    in_features=\"stations_XYTableToPoint\",\n",
    "    z_field=\"pm2_5\",\n",
    "    out_ga_layer=None,\n",
    "    out_raster=out_poly_raster,\n",
    "    cell_size=0.000932919999999967,\n",
    "    power=1,\n",
    "    search_neighborhood=\"NBRTYPE=Standard S_MAJOR=9.87111293434023E-02 S_MINOR=9.87111293434023E-02 ANGLE=0 NBR_MAX=15 NBR_MIN=10 SECTOR_TYPE=ONE_SECTOR\",\n",
    "    kernel_function=\"EXPONENTIAL\",\n",
    "    bandwidth=None,\n",
    "    use_condition_number=\"NO_USE_CONDITION_NUMBER\",\n",
    "    condition_number=None,\n",
    "    weight_field=None,\n",
    "    output_type=\"PREDICTION\"\n",
    ")"
   ]
  },
  {
   "cell_type": "markdown",
   "id": "4748f48a-4100-4e61-9bcb-58009d06a39a",
   "metadata": {},
   "source": [
    "### Clip Local Polynomail"
   ]
  },
  {
   "cell_type": "code",
   "execution_count": 34,
   "id": "9d43a7fd-1d30-42d9-a2d6-750237ecb75c",
   "metadata": {},
   "outputs": [
    {
     "data": {
      "text/html": [
       "<div class='gpresult'><h2>Messages</h2><div id='messages' data-messages='[\"Start Time: Tuesday, April 11, 2023 4:08:49 PM\",\"Building Pyramids...\",\"Succeeded at Tuesday, April 11, 2023 4:08:51 PM (Elapsed Time: 1.33 seconds)\"]' data-show='true'><div id = 'default' /></div></div>"
      ],
      "text/plain": [
       "<Result 'C:\\\\Users\\\\tande\\\\Documents\\\\GitHub\\\\QualityAirQualityCities\\\\arcpy\\\\interpolation\\\\..\\\\..\\\\data\\\\QAQC.gdb\\\\Poly_clip_Apr1'>"
      ]
     },
     "execution_count": 34,
     "metadata": {},
     "output_type": "execute_result"
    }
   ],
   "source": [
    "out_clip_poly_raster = \"Poly_clip_Apr1\"\n",
    "arcpy.management.Clip(\n",
    "    in_raster=out_poly_raster,\n",
    "    rectangle=\"-93.32910837 44.8905885090001 -93.194328522 45.0512462900001\",\n",
    "    out_raster=out_clip_poly_raster,\n",
    "    in_template_dataset='mpls_boundary',\n",
    "    nodata_value=\"3.4e+38\",\n",
    "    clipping_geometry=\"NONE\",\n",
    "    maintain_clipping_extent=\"NO_MAINTAIN_EXTENT\"\n",
    ")"
   ]
  },
  {
   "cell_type": "markdown",
   "id": "7cbe7d70-0270-4d7f-9b02-3949932a88da",
   "metadata": {},
   "source": [
    "## Temperature Interpolation"
   ]
  },
  {
   "cell_type": "markdown",
   "id": "ae0cd7f3-56b9-41b5-894f-fb4c6c69af32",
   "metadata": {},
   "source": [
    "### Kriging Temperature"
   ]
  },
  {
   "cell_type": "code",
   "execution_count": 31,
   "id": "bc942407-b56f-4af6-9429-38b9cf0a459b",
   "metadata": {},
   "outputs": [
    {
     "data": {
      "text/html": [
       "<div class='gpresult'><h2>Messages</h2><div id='messages' data-messages='[\"Start Time: Tuesday, April 11, 2023 4:05:43 PM\",\"\\r\\nWarning(s) for dataset: stations_XYTableToPoint\",\"WARNING 040402: NODATA value ignored. ObjectID = 15\",\"WARNING 040402: NODATA value ignored. ObjectID = 21\",\"\\r\\nWarning(s) for dataset: Length of the radius of the search circle = 10988 meters.\",\"Succeeded at Tuesday, April 11, 2023 4:05:48 PM (Elapsed Time: 5.21 seconds)\"]' data-show='true'><div id = 'default' /></div></div>"
      ],
      "text/plain": [
       "<Result ''>"
      ]
     },
     "execution_count": 31,
     "metadata": {},
     "output_type": "execute_result"
    }
   ],
   "source": [
    "out_kriging_temp_raster = \"Kriging_Temp_Apr1\"\n",
    "arcpy.ga.EmpiricalBayesianKriging(\n",
    "    in_features=\"stations_XYTableToPoint\",\n",
    "    z_field=\"temperature\",\n",
    "    out_ga_layer=None,\n",
    "    out_raster=out_kriging_temp_raster,\n",
    "    cell_size=0.000932919999999967,\n",
    "    transformation_type=\"NONE\",\n",
    "    max_local_points=100,\n",
    "    overlap_factor=1,\n",
    "    number_semivariograms=100,\n",
    "    search_neighborhood=\"NBRTYPE=StandardCircular RADIUS=9.87111293434023E-02 ANGLE=0 NBR_MAX=15 NBR_MIN=10 SECTOR_TYPE=ONE_SECTOR\",\n",
    "    output_type=\"PREDICTION\",\n",
    "    quantile_value=0.5,\n",
    "    threshold_type=\"EXCEED\",\n",
    "    probability_threshold=None,\n",
    "    semivariogram_model_type=\"POWER\"\n",
    ")"
   ]
  },
  {
   "cell_type": "markdown",
   "id": "185f560a-359b-4101-8398-8bfd2a7a903e",
   "metadata": {},
   "source": [
    "### Clip Kriging Temp"
   ]
  },
  {
   "cell_type": "code",
   "execution_count": 32,
   "id": "e30c413e-1078-4966-8f3b-5f7ce5c9a155",
   "metadata": {},
   "outputs": [
    {
     "data": {
      "text/html": [
       "<div class='gpresult'><h2>Messages</h2><div id='messages' data-messages='[\"Start Time: Tuesday, April 11, 2023 4:05:50 PM\",\"Building Pyramids...\",\"Succeeded at Tuesday, April 11, 2023 4:05:52 PM (Elapsed Time: 1.74 seconds)\"]' data-show='true'><div id = 'default' /></div></div>"
      ],
      "text/plain": [
       "<Result 'C:\\\\Users\\\\tande\\\\Documents\\\\GitHub\\\\QualityAirQualityCities\\\\arcpy\\\\interpolation\\\\..\\\\..\\\\data\\\\QAQC.gdb\\\\Kriging_clip_temp_Apr1'>"
      ]
     },
     "execution_count": 32,
     "metadata": {},
     "output_type": "execute_result"
    }
   ],
   "source": [
    "out_clip_kriging_temp_raster = \"Kriging_clip_temp_Apr1\"\n",
    "arcpy.management.Clip(\n",
    "    in_raster=out_kriging_temp_raster,\n",
    "    rectangle=\"-93.32910837 44.8905885090001 -93.194328522 45.0512462900001\",\n",
    "    out_raster=out_clip_kriging_temp_raster,\n",
    "    in_template_dataset='mpls_boundary',\n",
    "    nodata_value=\"3.4e+38\",\n",
    "    clipping_geometry=\"NONE\",\n",
    "    maintain_clipping_extent=\"NO_MAINTAIN_EXTENT\"\n",
    ")"
   ]
  },
  {
   "cell_type": "markdown",
   "id": "9c571358-9a0a-43cc-90ee-8ba881dd4980",
   "metadata": {},
   "source": [
    "### IDW Temp"
   ]
  },
  {
   "cell_type": "code",
   "execution_count": 16,
   "id": "71357db4-e521-4e14-8911-23b7a8a93466",
   "metadata": {},
   "outputs": [
    {
     "data": {
      "text/html": [
       "<div class='gpresult'><h2>Messages</h2><div id='messages' data-messages='[\"Start Time: Tuesday, April 11, 2023 12:51:14 PM\",\"Succeeded at Tuesday, April 11, 2023 12:51:16 PM (Elapsed Time: 1.54 seconds)\"]' data-show='true'><div id = 'default' /></div></div>"
      ],
      "text/plain": [
       "<Result ''>"
      ]
     },
     "execution_count": 16,
     "metadata": {},
     "output_type": "execute_result"
    }
   ],
   "source": [
    "out_idw_temp_raster = \"IDW_Temp_Apr1\"\n",
    "arcpy.ga.IDW(\n",
    "    in_features=\"stations_XYTableToPoint\",\n",
    "    z_field=\"temperature\",\n",
    "    out_ga_layer=None,\n",
    "    out_raster=out_idw_temp_raster,\n",
    "    cell_size=0.000932919999999967,\n",
    "    power=2,\n",
    "    search_neighborhood=\"NBRTYPE=Standard S_MAJOR=9.87111293434023E-02 S_MINOR=9.87111293434023E-02 ANGLE=0 NBR_MAX=15 NBR_MIN=10 SECTOR_TYPE=ONE_SECTOR\",\n",
    "    weight_field=None\n",
    ")"
   ]
  },
  {
   "cell_type": "markdown",
   "id": "572c4db8-c8c4-4d12-b5ca-1b52f569b077",
   "metadata": {},
   "source": [
    "### Clip IDW"
   ]
  },
  {
   "cell_type": "code",
   "execution_count": 17,
   "id": "cd31a1e9-d422-4661-b82d-78f9a6f72bb5",
   "metadata": {},
   "outputs": [
    {
     "data": {
      "text/html": [
       "<div class='gpresult'><h2>Messages</h2><div id='messages' data-messages='[\"Start Time: Tuesday, April 11, 2023 12:51:16 PM\",\"Building Pyramids...\",\"Succeeded at Tuesday, April 11, 2023 12:51:18 PM (Elapsed Time: 1.60 seconds)\"]' data-show='true'><div id = 'default' /></div></div>"
      ],
      "text/plain": [
       "<Result 'C:\\\\Users\\\\tande\\\\Documents\\\\GitHub\\\\QualityAirQualityCities\\\\arcpy\\\\interpolation\\\\..\\\\..\\\\data\\\\QAQC.gdb\\\\IDW_clip_temp_Apr1'>"
      ]
     },
     "execution_count": 17,
     "metadata": {},
     "output_type": "execute_result"
    }
   ],
   "source": [
    "out_clip_idw_temp_raster = \"IDW_clip_temp_Apr1\"\n",
    "arcpy.management.Clip(\n",
    "    in_raster=out_idw_temp_raster,\n",
    "    rectangle=\"-93.32910837 44.8905885090001 -93.194328522 45.0512462900001\",\n",
    "    out_raster=out_clip_idw_temp_raster,\n",
    "    in_template_dataset='mpls_boundary',\n",
    "    nodata_value=\"3.4e+38\",\n",
    "    clipping_geometry=\"NONE\",\n",
    "    maintain_clipping_extent=\"NO_MAINTAIN_EXTENT\"\n",
    ")"
   ]
  },
  {
   "cell_type": "markdown",
   "id": "a78a0e5d-4cd8-48e7-84a3-a4fe2246aea4",
   "metadata": {},
   "source": [
    "### Local Polynomial Temp"
   ]
  },
  {
   "cell_type": "code",
   "execution_count": 35,
   "id": "36238cbe-c657-49d9-9ad0-7ad2f1ce9cd5",
   "metadata": {},
   "outputs": [
    {
     "data": {
      "text/html": [
       "<div class='gpresult'><h2>Messages</h2><div id='messages' data-messages='[\"Start Time: Tuesday, April 11, 2023 4:09:46 PM\",\"Succeeded at Tuesday, April 11, 2023 4:09:48 PM (Elapsed Time: 1.48 seconds)\"]' data-show='true'><div id = 'default' /></div></div>"
      ],
      "text/plain": [
       "<Result ''>"
      ]
     },
     "execution_count": 35,
     "metadata": {},
     "output_type": "execute_result"
    }
   ],
   "source": [
    "out_poly_temp_raster = \"Poly_temp_Apr1\"\n",
    "arcpy.ga.LocalPolynomialInterpolation(\n",
    "    in_features=\"stations_XYTableToPoint\",\n",
    "    z_field=\"temperature\",\n",
    "    out_ga_layer=None,\n",
    "    out_raster=out_poly_temp_raster,\n",
    "    cell_size=0.000932919999999967,\n",
    "    power=1,\n",
    "    search_neighborhood=\"NBRTYPE=Standard S_MAJOR=9.87111293434023E-02 S_MINOR=9.87111293434023E-02 ANGLE=0 NBR_MAX=15 NBR_MIN=10 SECTOR_TYPE=ONE_SECTOR\",\n",
    "    kernel_function=\"EXPONENTIAL\",\n",
    "    bandwidth=None,\n",
    "    use_condition_number=\"NO_USE_CONDITION_NUMBER\",\n",
    "    condition_number=None,\n",
    "    weight_field=None,\n",
    "    output_type=\"PREDICTION\"\n",
    ")"
   ]
  },
  {
   "cell_type": "markdown",
   "id": "4c8f909b-2525-43fd-b926-53743d24423b",
   "metadata": {},
   "source": [
    "### Clip Poly"
   ]
  },
  {
   "cell_type": "code",
   "execution_count": 37,
   "id": "daa9f5dd-99e8-440b-b1c7-d709c4e433a4",
   "metadata": {},
   "outputs": [
    {
     "data": {
      "text/html": [
       "<div class='gpresult'><h2>Messages</h2><div id='messages' data-messages='[\"Start Time: Tuesday, April 11, 2023 4:13:28 PM\",\"Building Pyramids...\",\"Succeeded at Tuesday, April 11, 2023 4:13:30 PM (Elapsed Time: 1.70 seconds)\"]' data-show='true'><div id = 'default' /></div></div>"
      ],
      "text/plain": [
       "<Result 'C:\\\\Users\\\\tande\\\\Documents\\\\GitHub\\\\QualityAirQualityCities\\\\arcpy\\\\interpolation\\\\..\\\\..\\\\data\\\\QAQC.gdb\\\\Poly_clip_temp_Apr1'>"
      ]
     },
     "execution_count": 37,
     "metadata": {},
     "output_type": "execute_result"
    }
   ],
   "source": [
    "out_clip_poly_temp_raster = \"Poly_clip_temp_Apr1\"\n",
    "arcpy.management.Clip(\n",
    "    in_raster=out_poly_temp_raster,\n",
    "    rectangle=\"-93.32910837 44.8905885090001 -93.194328522 45.0512462900001\",\n",
    "    out_raster=out_clip_poly_temp_raster,\n",
    "    in_template_dataset='mpls_boundary',\n",
    "    nodata_value=\"3.4e+38\",\n",
    "    clipping_geometry=\"NONE\",\n",
    "    maintain_clipping_extent=\"NO_MAINTAIN_EXTENT\"\n",
    ")"
   ]
  },
  {
   "cell_type": "markdown",
   "id": "69b25841-ab9e-44f3-b6fd-e955f4d5972f",
   "metadata": {},
   "source": [
    "## Cross Validation"
   ]
  },
  {
   "cell_type": "markdown",
   "id": "afffc03e-d1ac-46b8-9602-d08d79203a66",
   "metadata": {},
   "source": [
    "### Kriging PM 2.5"
   ]
  },
  {
   "cell_type": "markdown",
   "id": "df338540-135d-4f65-992d-a65d1be605bd",
   "metadata": {},
   "source": [
    "### IDW PM 2.5"
   ]
  },
  {
   "cell_type": "markdown",
   "id": "1659f55f-367d-4c0c-a6d1-9139091fe9b7",
   "metadata": {},
   "source": [
    "### Local Polynomial PM 2.5"
   ]
  },
  {
   "cell_type": "markdown",
   "id": "c4ae54be-0e63-411c-9c38-7b09ce2d7106",
   "metadata": {},
   "source": [
    "### Kriging Temperature"
   ]
  },
  {
   "cell_type": "markdown",
   "id": "648c5237-2920-463f-b88c-4ba05894d6b1",
   "metadata": {},
   "source": [
    "### IDW Temprature"
   ]
  },
  {
   "cell_type": "markdown",
   "id": "3ee6ab4a-f98d-4c6c-8a5c-174807e1eb94",
   "metadata": {},
   "source": [
    "### Local Polynomial Temperature"
   ]
  }
 ],
 "metadata": {
  "kernelspec": {
   "display_name": "Python 3 (ipykernel)",
   "language": "python",
   "name": "python3"
  },
  "language_info": {
   "codemirror_mode": {
    "name": "ipython",
    "version": 3
   },
   "file_extension": ".py",
   "mimetype": "text/x-python",
   "name": "python",
   "nbconvert_exporter": "python",
   "pygments_lexer": "ipython3",
   "version": "3.9.16"
  }
 },
 "nbformat": 4,
 "nbformat_minor": 5
}
