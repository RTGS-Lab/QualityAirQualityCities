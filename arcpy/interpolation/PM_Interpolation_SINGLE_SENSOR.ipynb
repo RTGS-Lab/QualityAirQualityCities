{
 "cells": [
  {
   "cell_type": "code",
   "execution_count": null,
   "id": "da00c589-2aae-477a-b9f2-3089708e9855",
   "metadata": {},
   "outputs": [],
   "source": []
  },
  {
   "cell_type": "code",
   "execution_count": 1,
   "id": "76e4686a-1a0d-43e7-9e8f-79b9721e2a33",
   "metadata": {},
   "outputs": [],
   "source": [
    "import arcpy\n",
    "import pandas as pd\n",
    "import psycopg2\n",
    "from psycopg2 import sql\n",
    "import numpy as np\n",
    "import os\n",
    "import folium"
   ]
  },
  {
   "cell_type": "code",
   "execution_count": 2,
   "id": "b379a88b-0445-4ebc-b9b8-335ee371a965",
   "metadata": {},
   "outputs": [],
   "source": [
    "cwd = os.getcwd()\n",
    "\n",
    "# Make it workspace\n",
    "\n",
    "arcpy.env.workspace = os.path.join(cwd, '..', '..', 'data', 'QAQC.gdb')\n",
    "\n",
    "arcpy.env.overwriteOutput = True # Overwrite layers is okay\n",
    "\n",
    "save_path_csv = os.path.join(cwd, '..', '..', 'data')\n",
    "save_path_gdb = os.path.join(cwd, '..', '..', 'data', 'QAQC.gdb')\n",
    "historic_path = os.path.join(cwd, '..', '..', 'data', 'purpleair_historic.csv')\n",
    "station_path = os.path.join(cwd, '..', '..', 'data', 'purpleair_stations.csv')\n",
    "boundary_path = os.path.join(cwd, '..', '..', 'data', 'mpls_boundary.geojson')"
   ]
  },
  {
   "cell_type": "code",
   "execution_count": 3,
   "id": "352fc474-2f90-4baf-8723-b01a011d458e",
   "metadata": {},
   "outputs": [
    {
     "data": {
      "text/html": [
       "<div class='gpresult'><h2>Messages</h2><div id='messages' data-messages='[\"Start Time: Tuesday, April 11, 2023 12:50:59 PM\",\"Succeeded at Tuesday, April 11, 2023 12:51:00 PM (Elapsed Time: 0.86 seconds)\"]' data-show='true'><div id = 'default' /></div></div>"
      ],
      "text/plain": [
       "<Result 'C:\\\\Users\\\\tande\\\\Documents\\\\GitHub\\\\QualityAirQualityCities\\\\arcpy\\\\interpolation\\\\..\\\\..\\\\data\\\\QAQC.gdb\\\\mpls_boundary'>"
      ]
     },
     "execution_count": 3,
     "metadata": {},
     "output_type": "execute_result"
    }
   ],
   "source": [
    "output_fc = 'mpls_boundary'\n",
    "output_fc_path = os.path.join(save_path_gdb, output_fc)\n",
    "\n",
    "# Convert the GeoJSON file to a feature class\n",
    "arcpy.JSONToFeatures_conversion(boundary_path, output_fc)"
   ]
  },
  {
   "cell_type": "code",
   "execution_count": 4,
   "id": "27328efa-0034-4d44-993d-9b5a3f0d185d",
   "metadata": {},
   "outputs": [],
   "source": [
    "df = pd.read_csv(historic_path)\n",
    "\n",
    "# Convert the 'timestamp' column to a datetime object\n",
    "df['timestamp'] = pd.to_datetime(df['timestamp'])\n",
    "\n",
    "# Filter the rows that have a timestamp of 4/1/23\n",
    "date_filter = df['timestamp'].dt.date == pd.to_datetime('4/1/23').date()\n",
    "filtered_df = df[date_filter]\n",
    "\n",
    "filtered_df.to_csv('historic_april1.csv', index=False)\n",
    "historic_filtered_path = os.path.join(cwd, '..', '..', 'data', 'historic_april1.csv')"
   ]
  },
  {
   "cell_type": "code",
   "execution_count": 5,
   "id": "b08888e7-1294-4ca2-8d8b-e77471cbe069",
   "metadata": {},
   "outputs": [],
   "source": [
    "# Load the first CSV file into a DataFrame\n",
    "df1 = pd.read_csv(station_path)\n",
    "\n",
    "# Load the second CSV file into a DataFrame\n",
    "df2 = pd.read_csv(historic_filtered_path)\n",
    "\n",
    "# Merge the two DataFrames together on a common column\n",
    "merged_df = pd.merge(df1, df2, on='sensor_index')\n",
    "\n",
    "# Save the merged DataFrame to a new CSV file\n",
    "merged_df.to_csv('merged_file.csv', index=False)\n",
    "merged_path = os.path.join(cwd, '..', '..', 'data', 'merged_file.csv')"
   ]
  },
  {
   "cell_type": "code",
   "execution_count": 6,
   "id": "73d9e22a-4611-4e63-b3e0-6b111bfb77e4",
   "metadata": {},
   "outputs": [],
   "source": [
    "# Set output point feature class name and path\n",
    "output_point_fc = \"stations_XYTableToPoint\"\n",
    "output_point_path = os.path.join(save_path_gdb, output_point_fc)\n",
    "\n",
    "# Specify x,y fields\n",
    "x_field = \"longitude\"\n",
    "y_field = \"latitude\"\n",
    "\n",
    "# Use XYTableToPoint tool to create point features\n",
    "station_points = arcpy.management.XYTableToPoint(merged_path, output_point_path, x_field, y_field)"
   ]
  },
  {
   "cell_type": "code",
   "execution_count": 7,
   "id": "60518d66-4149-4898-acfc-3d03893a6099",
   "metadata": {},
   "outputs": [
    {
     "data": {
      "text/plain": [
       "'\\noutput_table = \"joined_table\"\\narcpy.management.AddJoin(\\n    in_layer_or_view=station_points,\\n    in_field=\"sensor_index\",\\n    join_table=historic_filtered_path,\\n    join_field=\"sensor_index\",\\n    join_type=\"KEEP_ALL\",\\n    index_join_fields=\"NO_INDEX_JOIN_FIELDS\"\\n)\\n\\n# Export the joined layer to a new table\\nhistoric_apr1 = arcpy.management.CopyRows(\"stations_XYTableToPoint\", output_table)\\n'"
      ]
     },
     "execution_count": 7,
     "metadata": {},
     "output_type": "execute_result"
    }
   ],
   "source": [
    "'''\n",
    "output_table = \"joined_table\"\n",
    "arcpy.management.AddJoin(\n",
    "    in_layer_or_view=station_points,\n",
    "    in_field=\"sensor_index\",\n",
    "    join_table=historic_filtered_path,\n",
    "    join_field=\"sensor_index\",\n",
    "    join_type=\"KEEP_ALL\",\n",
    "    index_join_fields=\"NO_INDEX_JOIN_FIELDS\"\n",
    ")\n",
    "\n",
    "# Export the joined layer to a new table\n",
    "historic_apr1 = arcpy.management.CopyRows(\"stations_XYTableToPoint\", output_table)\n",
    "'''"
   ]
  },
  {
   "cell_type": "markdown",
   "id": "2be85786-c504-409e-a5ed-ac2205a07109",
   "metadata": {},
   "source": [
    "## PM 2.5 Interpolation"
   ]
  },
  {
   "cell_type": "markdown",
   "id": "5e2273ea-5d20-4823-b501-35f6da3d4983",
   "metadata": {},
   "source": [
    "### Kriging PM 2.5"
   ]
  },
  {
   "cell_type": "code",
   "execution_count": 217,
   "id": "1882fe35-c262-45fb-8d3f-2c1208c6ca00",
   "metadata": {},
   "outputs": [],
   "source": [
    "out_kriging_raster = \"Kriging_Apr1\"\n",
    "output_raster_path = os.path.join(save_path_gdb, out_kriging_raster)\n",
    "arcpy.ga.EmpiricalBayesianKriging(\n",
    "    in_features=\"stations_XYTableToPoint\",\n",
    "    z_field=\"pm2_5\",\n",
    "    out_ga_layer=\"pm2_5_kriging_stats\",\n",
    "    out_raster=out_kriging_raster,\n",
    "    cell_size=0.000932919999999967,\n",
    "    transformation_type=\"NONE\",\n",
    "    max_local_points=100,\n",
    "    overlap_factor=1,\n",
    "    number_semivariograms=100,\n",
    "    search_neighborhood=\"NBRTYPE=StandardCircular RADIUS=9.87111293434023E-02 ANGLE=0 NBR_MAX=15 NBR_MIN=10 SECTOR_TYPE=ONE_SECTOR\",\n",
    "    output_type=\"PREDICTION\",\n",
    "    quantile_value=0.5,\n",
    "    threshold_type=\"EXCEED\",\n",
    "    probability_threshold=None,\n",
    "    semivariogram_model_type=\"POWER\"\n",
    ")\n",
    "output_raster_path = os.path.join(save_path_gdb, out_kriging_raster)"
   ]
  },
  {
   "cell_type": "markdown",
   "id": "d4160b5d-1330-4dee-9809-b7e9f9f79305",
   "metadata": {},
   "source": [
    "### IDW PM 2.5"
   ]
  },
  {
   "cell_type": "code",
   "execution_count": 42,
   "id": "c305ad02-18e9-4858-bb7f-5aa2eb0d090f",
   "metadata": {},
   "outputs": [
    {
     "data": {
      "text/html": [
       "<div class='gpresult'><h2>Messages</h2><div id='messages' data-messages='[\"Start Time: Tuesday, April 11, 2023 7:08:31 PM\",\"Succeeded at Tuesday, April 11, 2023 7:08:32 PM (Elapsed Time: 1.42 seconds)\"]' data-show='true'><div id = 'default' /></div></div>"
      ],
      "text/plain": [
       "<Result 'pm2_5_idw_stats'>"
      ]
     },
     "execution_count": 42,
     "metadata": {},
     "output_type": "execute_result"
    }
   ],
   "source": [
    "out_idw_raster = \"IDW_Apr1\"\n",
    "arcpy.ga.IDW(\n",
    "    in_features=\"stations_XYTableToPoint\",\n",
    "    z_field=\"pm2_5\",\n",
    "    out_ga_layer=\"pm2_5_idw_stats\",\n",
    "    out_raster=out_idw_raster,\n",
    "    cell_size=10,\n",
    "    power=2,\n",
    "    search_neighborhood=\"NBRTYPE=Standard S_MAJOR=9.87111293434023E-02 S_MINOR=9.87111293434023E-02 ANGLE=0 NBR_MAX=15 NBR_MIN=10 SECTOR_TYPE=ONE_SECTOR\",\n",
    "    weight_field=None\n",
    ")"
   ]
  },
  {
   "cell_type": "markdown",
   "id": "723bf9c6-b1ee-42c9-b2c9-c01f84bfde34",
   "metadata": {},
   "source": [
    "### Local Polynomial PM 2.5"
   ]
  },
  {
   "cell_type": "code",
   "execution_count": 44,
   "id": "2b6d91b2-6c51-43b4-abd0-14ac9c143fde",
   "metadata": {},
   "outputs": [
    {
     "data": {
      "text/html": [
       "<div class='gpresult'><h2>Messages</h2><div id='messages' data-messages='[\"Start Time: Tuesday, April 11, 2023 7:08:41 PM\",\"Succeeded at Tuesday, April 11, 2023 7:08:42 PM (Elapsed Time: 1.57 seconds)\"]' data-show='true'><div id = 'default' /></div></div>"
      ],
      "text/plain": [
       "<Result 'pm2_5_poly_stats'>"
      ]
     },
     "execution_count": 44,
     "metadata": {},
     "output_type": "execute_result"
    }
   ],
   "source": [
    "out_poly_raster = \"Poly_Apr1\"\n",
    "arcpy.ga.LocalPolynomialInterpolation(\n",
    "    in_features=\"stations_XYTableToPoint\",\n",
    "    z_field=\"pm2_5\",\n",
    "    out_ga_layer=\"pm2_5_poly_stats\",\n",
    "    out_raster=out_poly_raster,\n",
    "    cell_size=0.000932919999999967,\n",
    "    power=1,\n",
    "    search_neighborhood=\"NBRTYPE=Standard S_MAJOR=9.87111293434023E-02 S_MINOR=9.87111293434023E-02 ANGLE=0 NBR_MAX=15 NBR_MIN=10 SECTOR_TYPE=ONE_SECTOR\",\n",
    "    kernel_function=\"EXPONENTIAL\",\n",
    "    bandwidth=None,\n",
    "    use_condition_number=\"NO_USE_CONDITION_NUMBER\",\n",
    "    condition_number=None,\n",
    "    weight_field=None,\n",
    "    output_type=\"PREDICTION\"\n",
    ")"
   ]
  },
  {
   "cell_type": "markdown",
   "id": "7cbe7d70-0270-4d7f-9b02-3949932a88da",
   "metadata": {},
   "source": [
    "## Temperature Interpolation"
   ]
  },
  {
   "cell_type": "markdown",
   "id": "ae0cd7f3-56b9-41b5-894f-fb4c6c69af32",
   "metadata": {},
   "source": [
    "### Kriging Temperature"
   ]
  },
  {
   "cell_type": "code",
   "execution_count": 45,
   "id": "bc942407-b56f-4af6-9429-38b9cf0a459b",
   "metadata": {},
   "outputs": [
    {
     "data": {
      "text/html": [
       "<div class='gpresult'><h2>Messages</h2><div id='messages' data-messages='[\"Start Time: Tuesday, April 11, 2023 7:08:46 PM\",\"\\r\\nWarning(s) for dataset: stations_XYTableToPoint\",\"WARNING 040402: NODATA value ignored. ObjectID = 15\",\"WARNING 040402: NODATA value ignored. ObjectID = 21\",\"\\r\\nWarning(s) for dataset: Length of the radius of the search circle = 10988 meters.\",\"Succeeded at Tuesday, April 11, 2023 7:08:50 PM (Elapsed Time: 4.85 seconds)\"]' data-show='true'><div id = 'default' /></div></div>"
      ],
      "text/plain": [
       "<Result 'temp_kriging_stats'>"
      ]
     },
     "execution_count": 45,
     "metadata": {},
     "output_type": "execute_result"
    }
   ],
   "source": [
    "out_kriging_temp_raster = \"Kriging_Temp_Apr1\"\n",
    "arcpy.ga.EmpiricalBayesianKriging(\n",
    "    in_features=\"stations_XYTableToPoint\",\n",
    "    z_field=\"temperature\",\n",
    "    out_ga_layer=\"temp_kriging_stats\",\n",
    "    out_raster=out_kriging_temp_raster,\n",
    "    cell_size=0.000932919999999967,\n",
    "    transformation_type=\"NONE\",\n",
    "    max_local_points=100,\n",
    "    overlap_factor=1,\n",
    "    number_semivariograms=100,\n",
    "    search_neighborhood=\"NBRTYPE=StandardCircular RADIUS=9.87111293434023E-02 ANGLE=0 NBR_MAX=15 NBR_MIN=10 SECTOR_TYPE=ONE_SECTOR\",\n",
    "    output_type=\"PREDICTION\",\n",
    "    quantile_value=0.5,\n",
    "    threshold_type=\"EXCEED\",\n",
    "    probability_threshold=None,\n",
    "    semivariogram_model_type=\"POWER\"\n",
    ")"
   ]
  },
  {
   "cell_type": "markdown",
   "id": "9c571358-9a0a-43cc-90ee-8ba881dd4980",
   "metadata": {},
   "source": [
    "### IDW Temp"
   ]
  },
  {
   "cell_type": "code",
   "execution_count": 46,
   "id": "71357db4-e521-4e14-8911-23b7a8a93466",
   "metadata": {},
   "outputs": [
    {
     "data": {
      "text/html": [
       "<div class='gpresult'><h2>Messages</h2><div id='messages' data-messages='[\"Start Time: Tuesday, April 11, 2023 7:08:51 PM\",\"Succeeded at Tuesday, April 11, 2023 7:08:52 PM (Elapsed Time: 1.46 seconds)\"]' data-show='true'><div id = 'default' /></div></div>"
      ],
      "text/plain": [
       "<Result 'temp_idw_stats'>"
      ]
     },
     "execution_count": 46,
     "metadata": {},
     "output_type": "execute_result"
    }
   ],
   "source": [
    "out_idw_temp_raster = \"IDW_Temp_Apr1\"\n",
    "arcpy.ga.IDW(\n",
    "    in_features=\"stations_XYTableToPoint\",\n",
    "    z_field=\"temperature\",\n",
    "    out_ga_layer=\"temp_idw_stats\",\n",
    "    out_raster=out_idw_temp_raster,\n",
    "    cell_size=0.000932919999999967,\n",
    "    power=2,\n",
    "    search_neighborhood=\"NBRTYPE=Standard S_MAJOR=9.87111293434023E-02 S_MINOR=9.87111293434023E-02 ANGLE=0 NBR_MAX=15 NBR_MIN=10 SECTOR_TYPE=ONE_SECTOR\",\n",
    "    weight_field=None\n",
    ")"
   ]
  },
  {
   "cell_type": "markdown",
   "id": "a78a0e5d-4cd8-48e7-84a3-a4fe2246aea4",
   "metadata": {},
   "source": [
    "### Local Polynomial Temp"
   ]
  },
  {
   "cell_type": "code",
   "execution_count": 221,
   "id": "36238cbe-c657-49d9-9ad0-7ad2f1ce9cd5",
   "metadata": {},
   "outputs": [
    {
     "data": {
      "text/html": [
       "<div class='gpresult'><h2>Messages</h2><div id='messages' data-messages='[\"Start Time: Tuesday, April 11, 2023 11:34:20 PM\",\"Succeeded at Tuesday, April 11, 2023 11:34:22 PM (Elapsed Time: 1.89 seconds)\"]' data-show='true'><div id = 'default' /></div></div>"
      ],
      "text/plain": [
       "<Result 'temp_poly_stats'>"
      ]
     },
     "execution_count": 221,
     "metadata": {},
     "output_type": "execute_result"
    }
   ],
   "source": [
    "out_poly_temp_raster = \"Poly_Temp_Apr1\"\n",
    "arcpy.ga.LocalPolynomialInterpolation(\n",
    "    in_features=\"stations_XYTableToPoint\",\n",
    "    z_field=\"temperature\",\n",
    "    out_ga_layer=\"temp_poly_stats\",\n",
    "    out_raster=out_poly_temp_raster,\n",
    "    cell_size=0.000932919999999967,\n",
    "    power=1,\n",
    "    search_neighborhood=\"NBRTYPE=Standard S_MAJOR=9.87111293434023E-02 S_MINOR=9.87111293434023E-02 ANGLE=0 NBR_MAX=15 NBR_MIN=10 SECTOR_TYPE=ONE_SECTOR\",\n",
    "    kernel_function=\"EXPONENTIAL\",\n",
    "    bandwidth=None,\n",
    "    use_condition_number=\"NO_USE_CONDITION_NUMBER\",\n",
    "    condition_number=None,\n",
    "    weight_field=None,\n",
    "    output_type=\"PREDICTION\"\n",
    ")"
   ]
  },
  {
   "cell_type": "markdown",
   "id": "69b25841-ab9e-44f3-b6fd-e955f4d5972f",
   "metadata": {},
   "source": [
    "## Cross Validation"
   ]
  },
  {
   "cell_type": "code",
   "execution_count": 207,
   "id": "c0ed240b-5138-45c7-b295-bff7fd82a621",
   "metadata": {},
   "outputs": [],
   "source": [
    "rmse_df = pd.DataFrame()"
   ]
  },
  {
   "cell_type": "markdown",
   "id": "afffc03e-d1ac-46b8-9602-d08d79203a66",
   "metadata": {},
   "source": [
    "### Kriging PM 2.5"
   ]
  },
  {
   "cell_type": "code",
   "execution_count": null,
   "id": "3889eef7-b370-47ba-8e5c-5127d860bc07",
   "metadata": {},
   "outputs": [
    {
     "data": {
      "text/html": [
       "<div class='gpresult'><h2>Messages</h2><div id='messages' data-messages='[\"Start Time: Tuesday, April 11, 2023 11:27:29 PM\",\"Succeeded at Tuesday, April 11, 2023 11:27:29 PM (Elapsed Time: 0.64 seconds)\"]' data-show='true'><div id = 'default' /></div></div>"
      ],
      "text/plain": [
       "<Result 'C:\\\\Users\\\\tande\\\\Documents\\\\GitHub\\\\QualityAirQualityCities\\\\arcpy\\\\interpolation\\\\..\\\\..\\\\data\\\\QAQC.gdb\\\\PM2_5_Kriging_Join'>"
      ]
     },
     "execution_count": 216,
     "metadata": {},
     "output_type": "execute_result"
    }
   ],
   "source": [
    "pm2_5_kriging_fc = \"pm2_5_kriging_cross_valid\"\n",
    "pm2_5_kriging_path = os.path.join(save_path_gdb, pm2_5_kriging_fc)\n",
    "arcpy.ga.CrossValidation(\n",
    "    in_geostat_layer=\"pm2_5_kriging_stats\",\n",
    "    out_point_feature_class=pm2_5_kriging_fc\n",
    ")\n",
    "pm2_5_kriging_out_fc = \"PM2_5_Kriging_Join\"\n",
    "pm2_5_kriging_out_path = os.path.join(save_path_gdb, pm2_5_kriging_out_fc)\n",
    "arcpy.analysis.SpatialJoin(\n",
    "    target_features=\"stations_XYTableToPoint\",\n",
    "    join_features=\"pm2_5_kriging_cross_valid\",\n",
    "    out_feature_class=pm2_5_kriging_out_fc,\n",
    "    join_operation=\"JOIN_ONE_TO_ONE\",\n",
    "    join_type=\"KEEP_ALL\",\n",
    "    field_mapping='OID_ \"OID_\" true true false 4 Long 0 0,First,#,stations_XYTableToPoint,stations_XYTableToPoint.OID_,-1,-1;sensor_index \"sensor_index\" true true false 4 Long 0 0,First,#,stations_XYTableToPoint,stations_XYTableToPoint.sensor_index,-1,-1;last_modified \"last_modified\" true true false 4 Long 0 0,First,#,stations_XYTableToPoint,stations_XYTableToPoint.last_modified,-1,-1;date_created \"date_created\" true true false 4 Long 0 0,First,#,stations_XYTableToPoint,stations_XYTableToPoint.date_created,-1,-1;last_seen \"last_seen\" true true false 4 Long 0 0,First,#,stations_XYTableToPoint,stations_XYTableToPoint.last_seen,-1,-1;name \"name\" true true false 100 Text 0 0,First,#,stations_XYTableToPoint,stations_XYTableToPoint.name,0,100;location_type \"location_type\" true true false 4 Long 0 0,First,#,stations_XYTableToPoint,stations_XYTableToPoint.location_type,-1,-1;firmware_version \"firmware_version\" true true false 30 Text 0 0,First,#,stations_XYTableToPoint,stations_XYTableToPoint.firmware_version,0,30;uptime \"uptime\" true true false 4 Long 0 0,First,#,stations_XYTableToPoint,stations_XYTableToPoint.uptime,-1,-1;position_rating \"position_rating\" true true false 4 Long 0 0,First,#,stations_XYTableToPoint,stations_XYTableToPoint.position_rating,-1,-1;latitude \"latitude\" true true false 8 Double 0 0,First,#,stations_XYTableToPoint,stations_XYTableToPoint.latitude,-1,-1;longitude \"longitude\" true true false 8 Double 0 0,First,#,stations_XYTableToPoint,stations_XYTableToPoint.longitude,-1,-1;altitude \"altitude\" true true false 4 Long 0 0,First,#,stations_XYTableToPoint,stations_XYTableToPoint.altitude,-1,-1;channel_state \"channel_state\" true true false 4 Long 0 0,First,#,stations_XYTableToPoint,stations_XYTableToPoint.channel_state,-1,-1;channel_flags \"channel_flags\" true true false 4 Long 0 0,First,#,stations_XYTableToPoint,stations_XYTableToPoint.channel_flags,-1,-1;OID1 \"OID_\" true true false 4 Long 0 0,First,#,stations_XYTableToPoint,purpleair_historic.csv.OID_,-1,-1;sensor_index_1 \"sensor_index\" true true false 4 Long 0 0,First,#,stations_XYTableToPoint,purpleair_historic.csv.sensor_index,-1,-1;timestamp \"timestamp\" true true false 8 Date 0 0,First,#,stations_XYTableToPoint,purpleair_historic.csv.timestamp,-1,-1;humidity \"humidity\" true true false 8 Double 0 0,First,#,stations_XYTableToPoint,purpleair_historic.csv.humidity,-1,-1;temperature \"temperature\" true true false 8 Double 0 0,First,#,stations_XYTableToPoint,purpleair_historic.csv.temperature,-1,-1;pressure \"pressure\" true true false 8 Double 0 0,First,#,stations_XYTableToPoint,purpleair_historic.csv.pressure,-1,-1;pm2_5 \"pm2_5\" true true false 8 Double 0 0,First,#,stations_XYTableToPoint,purpleair_historic.csv.pm2_5,-1,-1;Measured \"Measured\" true true false 8 Double 0 0,First,#,pm2_5_kriging_cross_valid,Measured,-1,-1;Predicted \"Predicted\" true true false 8 Double 0 0,First,#,pm2_5_kriging_cross_valid,Predicted,-1,-1;Error \"Error\" true true false 8 Double 0 0,First,#,pm2_5_kriging_cross_valid,Error,-1,-1;StdError \"Standard Error\" true true false 8 Double 0 0,First,#,pm2_5_kriging_cross_valid,StdError,-1,-1;Stdd_Error \"Standardized Error\" true true false 8 Double 0 0,First,#,pm2_5_kriging_cross_valid,Stdd_Error,-1,-1;NormValue \"Normal Value\" true true false 8 Double 0 0,First,#,pm2_5_kriging_cross_valid,NormValue,-1,-1;CRPS \"Continuous Ranked Probability Score\" true true false 8 Double 0 0,First,#,pm2_5_kriging_cross_valid,CRPS,-1,-1;QuanVal \"Validation Quantile\" true true false 8 Double 0 0,First,#,pm2_5_kriging_cross_valid,QuanVal,-1,-1;Interval90 \"Inside 90 Percent Interval\" true true false 255 Text 0 0,First,#,pm2_5_kriging_cross_valid,Interval90,0,255;Interval95 \"Inside 95 Percent Interval\" true true false 255 Text 0 0,First,#,pm2_5_kriging_cross_valid,Interval95,0,255;Source_ID \"Source ID\" true false false 4 Long 0 0,First,#,pm2_5_kriging_cross_valid,Source_ID,-1,-1;Included \"Included\" true true false 255 Text 0 0,First,#,pm2_5_kriging_cross_valid,Included,0,255',\n",
    "    match_option=\"INTERSECT\",\n",
    "    search_radius=None,\n",
    "    distance_field_name=\"\"\n",
    ")"
   ]
  },
  {
   "cell_type": "code",
   "execution_count": 205,
   "id": "94d650cc-cc34-4d6d-b669-f9924d672ebc",
   "metadata": {},
   "outputs": [
    {
     "data": {
      "text/html": [
       "<div>\n",
       "<style scoped>\n",
       "    .dataframe tbody tr th:only-of-type {\n",
       "        vertical-align: middle;\n",
       "    }\n",
       "\n",
       "    .dataframe tbody tr th {\n",
       "        vertical-align: top;\n",
       "    }\n",
       "\n",
       "    .dataframe thead th {\n",
       "        text-align: right;\n",
       "    }\n",
       "</style>\n",
       "<table border=\"1\" class=\"dataframe\">\n",
       "  <thead>\n",
       "    <tr style=\"text-align: right;\">\n",
       "      <th></th>\n",
       "      <th>latitude</th>\n",
       "      <th>longitude</th>\n",
       "      <th>OBJECTID</th>\n",
       "      <th>PM2_5_Kriging_Error</th>\n",
       "    </tr>\n",
       "  </thead>\n",
       "  <tbody>\n",
       "    <tr>\n",
       "      <th>0</th>\n",
       "      <td>0.0</td>\n",
       "      <td>0.0</td>\n",
       "      <td>1</td>\n",
       "      <td>1.886304</td>\n",
       "    </tr>\n",
       "    <tr>\n",
       "      <th>1</th>\n",
       "      <td>0.0</td>\n",
       "      <td>0.0</td>\n",
       "      <td>2</td>\n",
       "      <td>3.034219</td>\n",
       "    </tr>\n",
       "    <tr>\n",
       "      <th>2</th>\n",
       "      <td>0.0</td>\n",
       "      <td>0.0</td>\n",
       "      <td>3</td>\n",
       "      <td>-26.045040</td>\n",
       "    </tr>\n",
       "    <tr>\n",
       "      <th>3</th>\n",
       "      <td>0.0</td>\n",
       "      <td>0.0</td>\n",
       "      <td>4</td>\n",
       "      <td>-0.686374</td>\n",
       "    </tr>\n",
       "    <tr>\n",
       "      <th>4</th>\n",
       "      <td>0.0</td>\n",
       "      <td>0.0</td>\n",
       "      <td>5</td>\n",
       "      <td>0.576673</td>\n",
       "    </tr>\n",
       "    <tr>\n",
       "      <th>...</th>\n",
       "      <td>...</td>\n",
       "      <td>...</td>\n",
       "      <td>...</td>\n",
       "      <td>...</td>\n",
       "    </tr>\n",
       "    <tr>\n",
       "      <th>72</th>\n",
       "      <td>0.0</td>\n",
       "      <td>0.0</td>\n",
       "      <td>73</td>\n",
       "      <td>1.762010</td>\n",
       "    </tr>\n",
       "    <tr>\n",
       "      <th>73</th>\n",
       "      <td>0.0</td>\n",
       "      <td>0.0</td>\n",
       "      <td>74</td>\n",
       "      <td>3.239165</td>\n",
       "    </tr>\n",
       "    <tr>\n",
       "      <th>74</th>\n",
       "      <td>0.0</td>\n",
       "      <td>0.0</td>\n",
       "      <td>75</td>\n",
       "      <td>3.492016</td>\n",
       "    </tr>\n",
       "    <tr>\n",
       "      <th>75</th>\n",
       "      <td>0.0</td>\n",
       "      <td>0.0</td>\n",
       "      <td>76</td>\n",
       "      <td>2.384410</td>\n",
       "    </tr>\n",
       "    <tr>\n",
       "      <th>76</th>\n",
       "      <td>0.0</td>\n",
       "      <td>0.0</td>\n",
       "      <td>77</td>\n",
       "      <td>2.442549</td>\n",
       "    </tr>\n",
       "  </tbody>\n",
       "</table>\n",
       "<p>77 rows × 4 columns</p>\n",
       "</div>"
      ],
      "text/plain": [
       "    latitude  longitude  OBJECTID  PM2_5_Kriging_Error\n",
       "0        0.0        0.0         1             1.886304\n",
       "1        0.0        0.0         2             3.034219\n",
       "2        0.0        0.0         3           -26.045040\n",
       "3        0.0        0.0         4            -0.686374\n",
       "4        0.0        0.0         5             0.576673\n",
       "..       ...        ...       ...                  ...\n",
       "72       0.0        0.0        73             1.762010\n",
       "73       0.0        0.0        74             3.239165\n",
       "74       0.0        0.0        75             3.492016\n",
       "75       0.0        0.0        76             2.384410\n",
       "76       0.0        0.0        77             2.442549\n",
       "\n",
       "[77 rows x 4 columns]"
      ]
     },
     "execution_count": 215,
     "metadata": {},
     "output_type": "execute_result"
    }
   ],
   "source": [
    "# Specify the input feature class and fields to include\n",
    "input_fc =\"PM2_5_Kriging_Join\"\n",
    "fields = [\"latitude\", \"longitude\", \"OBJECTID\", \"Error\"]\n",
    "\n",
    "# Convert the feature class to a NumPy array and create a Pandas DataFrame\n",
    "arr = arcpy.da.TableToNumPyArray(input_fc, fields)\n",
    "rmse_df = pd.DataFrame(arr)\n",
    "rmse_df = rmse_df.rename(columns={'Error': 'PM2_5_Kriging_Error'})"
   ]
  },
  {
   "cell_type": "markdown",
   "id": "df338540-135d-4f65-992d-a65d1be605bd",
   "metadata": {},
   "source": [
    "### IDW PM 2.5"
   ]
  },
  {
   "cell_type": "code",
   "execution_count": 180,
   "id": "af00f41a-df13-43d6-8b88-3b9e3d125697",
   "metadata": {},
   "outputs": [
    {
     "data": {
      "text/html": [
       "<div class='gpresult'><h2>Messages</h2><div id='messages' data-messages='[\"Start Time: Tuesday, April 11, 2023 11:13:42 PM\",\"Succeeded at Tuesday, April 11, 2023 11:13:43 PM (Elapsed Time: 0.65 seconds)\"]' data-show='true'><div id = 'default' /></div></div>"
      ],
      "text/plain": [
       "<Result 'C:\\\\Users\\\\tande\\\\Documents\\\\GitHub\\\\QualityAirQualityCities\\\\arcpy\\\\interpolation\\\\..\\\\..\\\\data\\\\QAQC.gdb\\\\PM2_5_IDW_Join'>"
      ]
     },
     "execution_count": 180,
     "metadata": {},
     "output_type": "execute_result"
    }
   ],
   "source": [
    "pm2_5_idw_fc = 'pm2_5_idw_cross_valid'\n",
    "pm2_5_idw_path = os.path.join(save_path_gdb, pm2_5_idw_fc)\n",
    "arcpy.ga.CrossValidation(\n",
    "    in_geostat_layer=\"pm2_5_idw_stats\",\n",
    "    out_point_feature_class=pm2_5_idw_fc\n",
    ")\n",
    "pm2_5_idw_out_fc = \"PM2_5_IDW_Join\"\n",
    "pm2_5_idw_out_path = os.path.join(save_path_gdb, pm2_5_idw_out_fc)\n",
    "arcpy.analysis.SpatialJoin(\n",
    "    target_features=\"stations_XYTableToPoint\",\n",
    "    join_features=\"pm2_5_idw_cross_valid\",\n",
    "    out_feature_class=pm2_5_idw_out_fc,\n",
    "    join_operation=\"JOIN_ONE_TO_ONE\",\n",
    "    join_type=\"KEEP_ALL\",\n",
    "    field_mapping='OID_ \"OID_\" true true false 4 Long 0 0,First,#,stations_XYTableToPoint,stations_XYTableToPoint.OID_,-1,-1;sensor_index \"sensor_index\" true true false 4 Long 0 0,First,#,stations_XYTableToPoint,stations_XYTableToPoint.sensor_index,-1,-1;last_modified \"last_modified\" true true false 4 Long 0 0,First,#,stations_XYTableToPoint,stations_XYTableToPoint.last_modified,-1,-1;date_created \"date_created\" true true false 4 Long 0 0,First,#,stations_XYTableToPoint,stations_XYTableToPoint.date_created,-1,-1;last_seen \"last_seen\" true true false 4 Long 0 0,First,#,stations_XYTableToPoint,stations_XYTableToPoint.last_seen,-1,-1;name \"name\" true true false 100 Text 0 0,First,#,stations_XYTableToPoint,stations_XYTableToPoint.name,0,100;location_type \"location_type\" true true false 4 Long 0 0,First,#,stations_XYTableToPoint,stations_XYTableToPoint.location_type,-1,-1;firmware_version \"firmware_version\" true true false 30 Text 0 0,First,#,stations_XYTableToPoint,stations_XYTableToPoint.firmware_version,0,30;uptime \"uptime\" true true false 4 Long 0 0,First,#,stations_XYTableToPoint,stations_XYTableToPoint.uptime,-1,-1;position_rating \"position_rating\" true true false 4 Long 0 0,First,#,stations_XYTableToPoint,stations_XYTableToPoint.position_rating,-1,-1;latitude \"latitude\" true true false 8 Double 0 0,First,#,stations_XYTableToPoint,stations_XYTableToPoint.latitude,-1,-1;longitude \"longitude\" true true false 8 Double 0 0,First,#,stations_XYTableToPoint,stations_XYTableToPoint.longitude,-1,-1;altitude \"altitude\" true true false 4 Long 0 0,First,#,stations_XYTableToPoint,stations_XYTableToPoint.altitude,-1,-1;channel_state \"channel_state\" true true false 4 Long 0 0,First,#,stations_XYTableToPoint,stations_XYTableToPoint.channel_state,-1,-1;channel_flags \"channel_flags\" true true false 4 Long 0 0,First,#,stations_XYTableToPoint,stations_XYTableToPoint.channel_flags,-1,-1;OID1 \"OID_\" true true false 4 Long 0 0,First,#,stations_XYTableToPoint,purpleair_historic.csv.OID_,-1,-1;sensor_index_1 \"sensor_index\" true true false 4 Long 0 0,First,#,stations_XYTableToPoint,purpleair_historic.csv.sensor_index,-1,-1;timestamp \"timestamp\" true true false 8 Date 0 0,First,#,stations_XYTableToPoint,purpleair_historic.csv.timestamp,-1,-1;humidity \"humidity\" true true false 8 Double 0 0,First,#,stations_XYTableToPoint,purpleair_historic.csv.humidity,-1,-1;temperature \"temperature\" true true false 8 Double 0 0,First,#,stations_XYTableToPoint,purpleair_historic.csv.temperature,-1,-1;pressure \"pressure\" true true false 8 Double 0 0,First,#,stations_XYTableToPoint,purpleair_historic.csv.pressure,-1,-1;pm2_5 \"pm2_5\" true true false 8 Double 0 0,First,#,stations_XYTableToPoint,purpleair_historic.csv.pm2_5,-1,-1;Measured \"Measured\" true true false 8 Double 0 0,First,#,pm2_5_kriging_cross_valid,Measured,-1,-1;Predicted \"Predicted\" true true false 8 Double 0 0,First,#,pm2_5_kriging_cross_valid,Predicted,-1,-1;Error \"Error\" true true false 8 Double 0 0,First,#,pm2_5_kriging_cross_valid,Error,-1,-1;StdError \"Standard Error\" true true false 8 Double 0 0,First,#,pm2_5_kriging_cross_valid,StdError,-1,-1;Stdd_Error \"Standardized Error\" true true false 8 Double 0 0,First,#,pm2_5_kriging_cross_valid,Stdd_Error,-1,-1;NormValue \"Normal Value\" true true false 8 Double 0 0,First,#,pm2_5_kriging_cross_valid,NormValue,-1,-1;CRPS \"Continuous Ranked Probability Score\" true true false 8 Double 0 0,First,#,pm2_5_kriging_cross_valid,CRPS,-1,-1;QuanVal \"Validation Quantile\" true true false 8 Double 0 0,First,#,pm2_5_kriging_cross_valid,QuanVal,-1,-1;Interval90 \"Inside 90 Percent Interval\" true true false 255 Text 0 0,First,#,pm2_5_kriging_cross_valid,Interval90,0,255;Interval95 \"Inside 95 Percent Interval\" true true false 255 Text 0 0,First,#,pm2_5_kriging_cross_valid,Interval95,0,255;Source_ID \"Source ID\" true false false 4 Long 0 0,First,#,pm2_5_kriging_cross_valid,Source_ID,-1,-1;Included \"Included\" true true false 255 Text 0 0,First,#,pm2_5_kriging_cross_valid,Included,0,255',\n",
    "    match_option=\"INTERSECT\",\n",
    "    search_radius=None,\n",
    "    distance_field_name=\"\"\n",
    ")"
   ]
  },
  {
   "cell_type": "code",
   "execution_count": 181,
   "id": "07e17ba5-6048-4fa7-b776-3b0c8473241a",
   "metadata": {},
   "outputs": [],
   "source": [
    "# Specify the input feature class and fields to include\n",
    "input_fc =\"PM2_5_IDW_Join\"\n",
    "fields = [\"OBJECTID\", \"Error\"]\n",
    "\n",
    "# Convert the feature class to a NumPy array and create a Pandas DataFrame\n",
    "arr = arcpy.da.TableToNumPyArray(input_fc, fields)\n",
    "df = pd.DataFrame(arr)\n",
    "merged_df = rmse_df.merge(df, on='OBJECTID', how='left')\n",
    "rmse_df = merged_df.rename(columns={'Error': 'PM2_5_IDW_Error'})"
   ]
  },
  {
   "cell_type": "markdown",
   "id": "1659f55f-367d-4c0c-a6d1-9139091fe9b7",
   "metadata": {},
   "source": [
    "### Local Polynomial PM 2.5"
   ]
  },
  {
   "cell_type": "code",
   "execution_count": 182,
   "id": "de683328-87ca-4cb4-b28f-d440ce1a55e5",
   "metadata": {},
   "outputs": [
    {
     "data": {
      "text/html": [
       "<div class='gpresult'><h2>Messages</h2><div id='messages' data-messages='[\"Start Time: Tuesday, April 11, 2023 11:13:47 PM\",\"Succeeded at Tuesday, April 11, 2023 11:13:48 PM (Elapsed Time: 0.64 seconds)\"]' data-show='true'><div id = 'default' /></div></div>"
      ],
      "text/plain": [
       "<Result 'C:\\\\Users\\\\tande\\\\Documents\\\\GitHub\\\\QualityAirQualityCities\\\\arcpy\\\\interpolation\\\\..\\\\..\\\\data\\\\QAQC.gdb\\\\PM2_5_Poly_Join'>"
      ]
     },
     "execution_count": 182,
     "metadata": {},
     "output_type": "execute_result"
    }
   ],
   "source": [
    "pm2_5_poly_fc = 'pm2_5_poly_cross_valid'\n",
    "pm2_5_poly_path = os.path.join(save_path_gdb, pm2_5_poly_fc)\n",
    "arcpy.ga.CrossValidation(\n",
    "    in_geostat_layer=\"pm2_5_poly_stats\",\n",
    "    out_point_feature_class=pm2_5_poly_fc\n",
    ")\n",
    "pm2_5_poly_out_fc = \"PM2_5_Poly_Join\"\n",
    "pm2_5_poly_out_path = os.path.join(save_path_gdb, pm2_5_poly_out_fc)\n",
    "arcpy.analysis.SpatialJoin(\n",
    "    target_features=\"stations_XYTableToPoint\",\n",
    "    join_features=\"pm2_5_poly_cross_valid\",\n",
    "    out_feature_class=pm2_5_poly_out_fc,\n",
    "    join_operation=\"JOIN_ONE_TO_ONE\",\n",
    "    join_type=\"KEEP_ALL\",\n",
    "    field_mapping='OID_ \"OID_\" true true false 4 Long 0 0,First,#,stations_XYTableToPoint,stations_XYTableToPoint.OID_,-1,-1;sensor_index \"sensor_index\" true true false 4 Long 0 0,First,#,stations_XYTableToPoint,stations_XYTableToPoint.sensor_index,-1,-1;last_modified \"last_modified\" true true false 4 Long 0 0,First,#,stations_XYTableToPoint,stations_XYTableToPoint.last_modified,-1,-1;date_created \"date_created\" true true false 4 Long 0 0,First,#,stations_XYTableToPoint,stations_XYTableToPoint.date_created,-1,-1;last_seen \"last_seen\" true true false 4 Long 0 0,First,#,stations_XYTableToPoint,stations_XYTableToPoint.last_seen,-1,-1;name \"name\" true true false 100 Text 0 0,First,#,stations_XYTableToPoint,stations_XYTableToPoint.name,0,100;location_type \"location_type\" true true false 4 Long 0 0,First,#,stations_XYTableToPoint,stations_XYTableToPoint.location_type,-1,-1;firmware_version \"firmware_version\" true true false 30 Text 0 0,First,#,stations_XYTableToPoint,stations_XYTableToPoint.firmware_version,0,30;uptime \"uptime\" true true false 4 Long 0 0,First,#,stations_XYTableToPoint,stations_XYTableToPoint.uptime,-1,-1;position_rating \"position_rating\" true true false 4 Long 0 0,First,#,stations_XYTableToPoint,stations_XYTableToPoint.position_rating,-1,-1;latitude \"latitude\" true true false 8 Double 0 0,First,#,stations_XYTableToPoint,stations_XYTableToPoint.latitude,-1,-1;longitude \"longitude\" true true false 8 Double 0 0,First,#,stations_XYTableToPoint,stations_XYTableToPoint.longitude,-1,-1;altitude \"altitude\" true true false 4 Long 0 0,First,#,stations_XYTableToPoint,stations_XYTableToPoint.altitude,-1,-1;channel_state \"channel_state\" true true false 4 Long 0 0,First,#,stations_XYTableToPoint,stations_XYTableToPoint.channel_state,-1,-1;channel_flags \"channel_flags\" true true false 4 Long 0 0,First,#,stations_XYTableToPoint,stations_XYTableToPoint.channel_flags,-1,-1;OID1 \"OID_\" true true false 4 Long 0 0,First,#,stations_XYTableToPoint,purpleair_historic.csv.OID_,-1,-1;sensor_index_1 \"sensor_index\" true true false 4 Long 0 0,First,#,stations_XYTableToPoint,purpleair_historic.csv.sensor_index,-1,-1;timestamp \"timestamp\" true true false 8 Date 0 0,First,#,stations_XYTableToPoint,purpleair_historic.csv.timestamp,-1,-1;humidity \"humidity\" true true false 8 Double 0 0,First,#,stations_XYTableToPoint,purpleair_historic.csv.humidity,-1,-1;temperature \"temperature\" true true false 8 Double 0 0,First,#,stations_XYTableToPoint,purpleair_historic.csv.temperature,-1,-1;pressure \"pressure\" true true false 8 Double 0 0,First,#,stations_XYTableToPoint,purpleair_historic.csv.pressure,-1,-1;pm2_5 \"pm2_5\" true true false 8 Double 0 0,First,#,stations_XYTableToPoint,purpleair_historic.csv.pm2_5,-1,-1;Measured \"Measured\" true true false 8 Double 0 0,First,#,pm2_5_kriging_cross_valid,Measured,-1,-1;Predicted \"Predicted\" true true false 8 Double 0 0,First,#,pm2_5_kriging_cross_valid,Predicted,-1,-1;Error \"Error\" true true false 8 Double 0 0,First,#,pm2_5_kriging_cross_valid,Error,-1,-1;StdError \"Standard Error\" true true false 8 Double 0 0,First,#,pm2_5_kriging_cross_valid,StdError,-1,-1;Stdd_Error \"Standardized Error\" true true false 8 Double 0 0,First,#,pm2_5_kriging_cross_valid,Stdd_Error,-1,-1;NormValue \"Normal Value\" true true false 8 Double 0 0,First,#,pm2_5_kriging_cross_valid,NormValue,-1,-1;CRPS \"Continuous Ranked Probability Score\" true true false 8 Double 0 0,First,#,pm2_5_kriging_cross_valid,CRPS,-1,-1;QuanVal \"Validation Quantile\" true true false 8 Double 0 0,First,#,pm2_5_kriging_cross_valid,QuanVal,-1,-1;Interval90 \"Inside 90 Percent Interval\" true true false 255 Text 0 0,First,#,pm2_5_kriging_cross_valid,Interval90,0,255;Interval95 \"Inside 95 Percent Interval\" true true false 255 Text 0 0,First,#,pm2_5_kriging_cross_valid,Interval95,0,255;Source_ID \"Source ID\" true false false 4 Long 0 0,First,#,pm2_5_kriging_cross_valid,Source_ID,-1,-1;Included \"Included\" true true false 255 Text 0 0,First,#,pm2_5_kriging_cross_valid,Included,0,255',\n",
    "    match_option=\"INTERSECT\",\n",
    "    search_radius=None,\n",
    "    distance_field_name=\"\"\n",
    ")"
   ]
  },
  {
   "cell_type": "code",
   "execution_count": 183,
   "id": "c9dedc4a-557f-4132-9806-f3a91b30652f",
   "metadata": {},
   "outputs": [],
   "source": [
    "# Specify the input feature class and fields to include\n",
    "input_fc =\"PM2_5_Poly_Join\"\n",
    "fields = [\"OBJECTID\", \"Error\"]\n",
    "\n",
    "# Convert the feature class to a NumPy array and create a Pandas DataFrame\n",
    "arr = arcpy.da.TableToNumPyArray(input_fc, fields)\n",
    "df = pd.DataFrame(arr)\n",
    "merged_df = rmse_df.merge(df, on='OBJECTID', how='left')\n",
    "rmse_df = merged_df.rename(columns={'Error': 'PM2_5_Poly_Error'})"
   ]
  },
  {
   "cell_type": "markdown",
   "id": "c4ae54be-0e63-411c-9c38-7b09ce2d7106",
   "metadata": {},
   "source": [
    "### Kriging Temperature"
   ]
  },
  {
   "cell_type": "code",
   "execution_count": 184,
   "id": "97e3125b-b70b-4e1d-b8ac-9f6993c63ef0",
   "metadata": {},
   "outputs": [
    {
     "data": {
      "text/html": [
       "<div class='gpresult'><h2>Messages</h2><div id='messages' data-messages='[\"Start Time: Tuesday, April 11, 2023 11:13:53 PM\",\"Succeeded at Tuesday, April 11, 2023 11:13:53 PM (Elapsed Time: 0.66 seconds)\"]' data-show='true'><div id = 'default' /></div></div>"
      ],
      "text/plain": [
       "<Result 'C:\\\\Users\\\\tande\\\\Documents\\\\GitHub\\\\QualityAirQualityCities\\\\arcpy\\\\interpolation\\\\..\\\\..\\\\data\\\\QAQC.gdb\\\\Temp_Kriging_Join'>"
      ]
     },
     "execution_count": 184,
     "metadata": {},
     "output_type": "execute_result"
    }
   ],
   "source": [
    "temp_kriging_fc = 'temp_kriging_cross_valid'\n",
    "temp_kriging_path = os.path.join(save_path_gdb, temp_kriging_fc)\n",
    "arcpy.ga.CrossValidation(\n",
    "    in_geostat_layer=\"temp_kriging_stats\",\n",
    "    out_point_feature_class=temp_kriging_fc\n",
    ")\n",
    "temp_kriging_out_fc = \"Temp_Kriging_Join\"\n",
    "temp_kriging_out_path = os.path.join(save_path_gdb, temp_kriging_out_fc)\n",
    "arcpy.analysis.SpatialJoin(\n",
    "    target_features=\"stations_XYTableToPoint\",\n",
    "    join_features=\"temp_kriging_cross_valid\",\n",
    "    out_feature_class=temp_kriging_out_fc,\n",
    "    join_operation=\"JOIN_ONE_TO_ONE\",\n",
    "    join_type=\"KEEP_ALL\",\n",
    "    field_mapping='OID_ \"OID_\" true true false 4 Long 0 0,First,#,stations_XYTableToPoint,stations_XYTableToPoint.OID_,-1,-1;sensor_index \"sensor_index\" true true false 4 Long 0 0,First,#,stations_XYTableToPoint,stations_XYTableToPoint.sensor_index,-1,-1;last_modified \"last_modified\" true true false 4 Long 0 0,First,#,stations_XYTableToPoint,stations_XYTableToPoint.last_modified,-1,-1;date_created \"date_created\" true true false 4 Long 0 0,First,#,stations_XYTableToPoint,stations_XYTableToPoint.date_created,-1,-1;last_seen \"last_seen\" true true false 4 Long 0 0,First,#,stations_XYTableToPoint,stations_XYTableToPoint.last_seen,-1,-1;name \"name\" true true false 100 Text 0 0,First,#,stations_XYTableToPoint,stations_XYTableToPoint.name,0,100;location_type \"location_type\" true true false 4 Long 0 0,First,#,stations_XYTableToPoint,stations_XYTableToPoint.location_type,-1,-1;firmware_version \"firmware_version\" true true false 30 Text 0 0,First,#,stations_XYTableToPoint,stations_XYTableToPoint.firmware_version,0,30;uptime \"uptime\" true true false 4 Long 0 0,First,#,stations_XYTableToPoint,stations_XYTableToPoint.uptime,-1,-1;position_rating \"position_rating\" true true false 4 Long 0 0,First,#,stations_XYTableToPoint,stations_XYTableToPoint.position_rating,-1,-1;latitude \"latitude\" true true false 8 Double 0 0,First,#,stations_XYTableToPoint,stations_XYTableToPoint.latitude,-1,-1;longitude \"longitude\" true true false 8 Double 0 0,First,#,stations_XYTableToPoint,stations_XYTableToPoint.longitude,-1,-1;altitude \"altitude\" true true false 4 Long 0 0,First,#,stations_XYTableToPoint,stations_XYTableToPoint.altitude,-1,-1;channel_state \"channel_state\" true true false 4 Long 0 0,First,#,stations_XYTableToPoint,stations_XYTableToPoint.channel_state,-1,-1;channel_flags \"channel_flags\" true true false 4 Long 0 0,First,#,stations_XYTableToPoint,stations_XYTableToPoint.channel_flags,-1,-1;OID1 \"OID_\" true true false 4 Long 0 0,First,#,stations_XYTableToPoint,purpleair_historic.csv.OID_,-1,-1;sensor_index_1 \"sensor_index\" true true false 4 Long 0 0,First,#,stations_XYTableToPoint,purpleair_historic.csv.sensor_index,-1,-1;timestamp \"timestamp\" true true false 8 Date 0 0,First,#,stations_XYTableToPoint,purpleair_historic.csv.timestamp,-1,-1;humidity \"humidity\" true true false 8 Double 0 0,First,#,stations_XYTableToPoint,purpleair_historic.csv.humidity,-1,-1;temperature \"temperature\" true true false 8 Double 0 0,First,#,stations_XYTableToPoint,purpleair_historic.csv.temperature,-1,-1;pressure \"pressure\" true true false 8 Double 0 0,First,#,stations_XYTableToPoint,purpleair_historic.csv.pressure,-1,-1;pm2_5 \"pm2_5\" true true false 8 Double 0 0,First,#,stations_XYTableToPoint,purpleair_historic.csv.pm2_5,-1,-1;Measured \"Measured\" true true false 8 Double 0 0,First,#,pm2_5_kriging_cross_valid,Measured,-1,-1;Predicted \"Predicted\" true true false 8 Double 0 0,First,#,pm2_5_kriging_cross_valid,Predicted,-1,-1;Error \"Error\" true true false 8 Double 0 0,First,#,pm2_5_kriging_cross_valid,Error,-1,-1;StdError \"Standard Error\" true true false 8 Double 0 0,First,#,pm2_5_kriging_cross_valid,StdError,-1,-1;Stdd_Error \"Standardized Error\" true true false 8 Double 0 0,First,#,pm2_5_kriging_cross_valid,Stdd_Error,-1,-1;NormValue \"Normal Value\" true true false 8 Double 0 0,First,#,pm2_5_kriging_cross_valid,NormValue,-1,-1;CRPS \"Continuous Ranked Probability Score\" true true false 8 Double 0 0,First,#,pm2_5_kriging_cross_valid,CRPS,-1,-1;QuanVal \"Validation Quantile\" true true false 8 Double 0 0,First,#,pm2_5_kriging_cross_valid,QuanVal,-1,-1;Interval90 \"Inside 90 Percent Interval\" true true false 255 Text 0 0,First,#,pm2_5_kriging_cross_valid,Interval90,0,255;Interval95 \"Inside 95 Percent Interval\" true true false 255 Text 0 0,First,#,pm2_5_kriging_cross_valid,Interval95,0,255;Source_ID \"Source ID\" true false false 4 Long 0 0,First,#,pm2_5_kriging_cross_valid,Source_ID,-1,-1;Included \"Included\" true true false 255 Text 0 0,First,#,pm2_5_kriging_cross_valid,Included,0,255',\n",
    "    match_option=\"INTERSECT\",\n",
    "    search_radius=None,\n",
    "    distance_field_name=\"\"\n",
    ")"
   ]
  },
  {
   "cell_type": "code",
   "execution_count": 185,
   "id": "a84793ee-2c54-473c-8b2d-9000ec1c78aa",
   "metadata": {},
   "outputs": [],
   "source": [
    "# Specify the input feature class and fields to include\n",
    "input_fc =\"Temp_Kriging_Join\"\n",
    "fields = [\"OBJECTID\", \"Error\"]\n",
    "\n",
    "# Convert the feature class to a NumPy array and create a Pandas DataFrame\n",
    "arr = arcpy.da.TableToNumPyArray(input_fc, fields)\n",
    "df = pd.DataFrame(arr)\n",
    "merged_df = rmse_df.merge(df, on='OBJECTID', how='left')\n",
    "rmse_df = merged_df.rename(columns={'Error': 'Temp_Kriging_Error'})"
   ]
  },
  {
   "cell_type": "markdown",
   "id": "648c5237-2920-463f-b88c-4ba05894d6b1",
   "metadata": {},
   "source": [
    "### IDW Temprature"
   ]
  },
  {
   "cell_type": "code",
   "execution_count": 186,
   "id": "2ed9fdb7-3045-443a-8bd0-c7cd769e2657",
   "metadata": {},
   "outputs": [
    {
     "data": {
      "text/html": [
       "<div class='gpresult'><h2>Messages</h2><div id='messages' data-messages='[\"Start Time: Tuesday, April 11, 2023 11:13:58 PM\",\"Succeeded at Tuesday, April 11, 2023 11:13:59 PM (Elapsed Time: 0.65 seconds)\"]' data-show='true'><div id = 'default' /></div></div>"
      ],
      "text/plain": [
       "<Result 'C:\\\\Users\\\\tande\\\\Documents\\\\GitHub\\\\QualityAirQualityCities\\\\arcpy\\\\interpolation\\\\..\\\\..\\\\data\\\\QAQC.gdb\\\\Temp_IDW_Join'>"
      ]
     },
     "execution_count": 186,
     "metadata": {},
     "output_type": "execute_result"
    }
   ],
   "source": [
    "temp_idw_fc = 'temp_idw_cross_valid'\n",
    "temp_idw_path = os.path.join(save_path_gdb, temp_idw_fc)\n",
    "arcpy.ga.CrossValidation(\n",
    "    in_geostat_layer=\"temp_idw_stats\",\n",
    "    out_point_feature_class=temp_idw_fc\n",
    ")\n",
    "temp_idw_out_fc = \"Temp_IDW_Join\"\n",
    "temp_idw_out_path = os.path.join(save_path_gdb, temp_idw_out_fc)\n",
    "arcpy.analysis.SpatialJoin(\n",
    "    target_features=\"stations_XYTableToPoint\",\n",
    "    join_features=\"temp_idw_cross_valid\",\n",
    "    out_feature_class=temp_idw_out_fc,\n",
    "    join_operation=\"JOIN_ONE_TO_ONE\",\n",
    "    join_type=\"KEEP_ALL\",\n",
    "    field_mapping='OID_ \"OID_\" true true false 4 Long 0 0,First,#,stations_XYTableToPoint,stations_XYTableToPoint.OID_,-1,-1;sensor_index \"sensor_index\" true true false 4 Long 0 0,First,#,stations_XYTableToPoint,stations_XYTableToPoint.sensor_index,-1,-1;last_modified \"last_modified\" true true false 4 Long 0 0,First,#,stations_XYTableToPoint,stations_XYTableToPoint.last_modified,-1,-1;date_created \"date_created\" true true false 4 Long 0 0,First,#,stations_XYTableToPoint,stations_XYTableToPoint.date_created,-1,-1;last_seen \"last_seen\" true true false 4 Long 0 0,First,#,stations_XYTableToPoint,stations_XYTableToPoint.last_seen,-1,-1;name \"name\" true true false 100 Text 0 0,First,#,stations_XYTableToPoint,stations_XYTableToPoint.name,0,100;location_type \"location_type\" true true false 4 Long 0 0,First,#,stations_XYTableToPoint,stations_XYTableToPoint.location_type,-1,-1;firmware_version \"firmware_version\" true true false 30 Text 0 0,First,#,stations_XYTableToPoint,stations_XYTableToPoint.firmware_version,0,30;uptime \"uptime\" true true false 4 Long 0 0,First,#,stations_XYTableToPoint,stations_XYTableToPoint.uptime,-1,-1;position_rating \"position_rating\" true true false 4 Long 0 0,First,#,stations_XYTableToPoint,stations_XYTableToPoint.position_rating,-1,-1;latitude \"latitude\" true true false 8 Double 0 0,First,#,stations_XYTableToPoint,stations_XYTableToPoint.latitude,-1,-1;longitude \"longitude\" true true false 8 Double 0 0,First,#,stations_XYTableToPoint,stations_XYTableToPoint.longitude,-1,-1;altitude \"altitude\" true true false 4 Long 0 0,First,#,stations_XYTableToPoint,stations_XYTableToPoint.altitude,-1,-1;channel_state \"channel_state\" true true false 4 Long 0 0,First,#,stations_XYTableToPoint,stations_XYTableToPoint.channel_state,-1,-1;channel_flags \"channel_flags\" true true false 4 Long 0 0,First,#,stations_XYTableToPoint,stations_XYTableToPoint.channel_flags,-1,-1;OID1 \"OID_\" true true false 4 Long 0 0,First,#,stations_XYTableToPoint,purpleair_historic.csv.OID_,-1,-1;sensor_index_1 \"sensor_index\" true true false 4 Long 0 0,First,#,stations_XYTableToPoint,purpleair_historic.csv.sensor_index,-1,-1;timestamp \"timestamp\" true true false 8 Date 0 0,First,#,stations_XYTableToPoint,purpleair_historic.csv.timestamp,-1,-1;humidity \"humidity\" true true false 8 Double 0 0,First,#,stations_XYTableToPoint,purpleair_historic.csv.humidity,-1,-1;temperature \"temperature\" true true false 8 Double 0 0,First,#,stations_XYTableToPoint,purpleair_historic.csv.temperature,-1,-1;pressure \"pressure\" true true false 8 Double 0 0,First,#,stations_XYTableToPoint,purpleair_historic.csv.pressure,-1,-1;pm2_5 \"pm2_5\" true true false 8 Double 0 0,First,#,stations_XYTableToPoint,purpleair_historic.csv.pm2_5,-1,-1;Measured \"Measured\" true true false 8 Double 0 0,First,#,pm2_5_kriging_cross_valid,Measured,-1,-1;Predicted \"Predicted\" true true false 8 Double 0 0,First,#,pm2_5_kriging_cross_valid,Predicted,-1,-1;Error \"Error\" true true false 8 Double 0 0,First,#,pm2_5_kriging_cross_valid,Error,-1,-1;StdError \"Standard Error\" true true false 8 Double 0 0,First,#,pm2_5_kriging_cross_valid,StdError,-1,-1;Stdd_Error \"Standardized Error\" true true false 8 Double 0 0,First,#,pm2_5_kriging_cross_valid,Stdd_Error,-1,-1;NormValue \"Normal Value\" true true false 8 Double 0 0,First,#,pm2_5_kriging_cross_valid,NormValue,-1,-1;CRPS \"Continuous Ranked Probability Score\" true true false 8 Double 0 0,First,#,pm2_5_kriging_cross_valid,CRPS,-1,-1;QuanVal \"Validation Quantile\" true true false 8 Double 0 0,First,#,pm2_5_kriging_cross_valid,QuanVal,-1,-1;Interval90 \"Inside 90 Percent Interval\" true true false 255 Text 0 0,First,#,pm2_5_kriging_cross_valid,Interval90,0,255;Interval95 \"Inside 95 Percent Interval\" true true false 255 Text 0 0,First,#,pm2_5_kriging_cross_valid,Interval95,0,255;Source_ID \"Source ID\" true false false 4 Long 0 0,First,#,pm2_5_kriging_cross_valid,Source_ID,-1,-1;Included \"Included\" true true false 255 Text 0 0,First,#,pm2_5_kriging_cross_valid,Included,0,255',\n",
    "    match_option=\"INTERSECT\",\n",
    "    search_radius=None,\n",
    "    distance_field_name=\"\"\n",
    ")"
   ]
  },
  {
   "cell_type": "code",
   "execution_count": 187,
   "id": "02f9a171-8c5e-4d17-b0e6-cac7fbdb0aca",
   "metadata": {},
   "outputs": [],
   "source": [
    "# Specify the input feature class and fields to include\n",
    "input_fc =\"Temp_IDW_Join\"\n",
    "fields = [\"OBJECTID\", \"Error\"]\n",
    "\n",
    "# Convert the feature class to a NumPy array and create a Pandas DataFrame\n",
    "arr = arcpy.da.TableToNumPyArray(input_fc, fields)\n",
    "df = pd.DataFrame(arr)\n",
    "merged_df = rmse_df.merge(df, on='OBJECTID', how='left')\n",
    "rmse_df = merged_df.rename(columns={'Error': 'Temp_IDW_Error'})"
   ]
  },
  {
   "cell_type": "markdown",
   "id": "3ee6ab4a-f98d-4c6c-8a5c-174807e1eb94",
   "metadata": {},
   "source": [
    "### Local Polynomial Temperature"
   ]
  },
  {
   "cell_type": "code",
   "execution_count": 188,
   "id": "539d57fc-eb35-4af2-bdee-3942a2cdfff1",
   "metadata": {},
   "outputs": [
    {
     "data": {
      "text/html": [
       "<div class='gpresult'><h2>Messages</h2><div id='messages' data-messages='[\"Start Time: Tuesday, April 11, 2023 11:14:04 PM\",\"Succeeded at Tuesday, April 11, 2023 11:14:04 PM (Elapsed Time: 0.64 seconds)\"]' data-show='true'><div id = 'default' /></div></div>"
      ],
      "text/plain": [
       "<Result 'C:\\\\Users\\\\tande\\\\Documents\\\\GitHub\\\\QualityAirQualityCities\\\\arcpy\\\\interpolation\\\\..\\\\..\\\\data\\\\QAQC.gdb\\\\Temp_Poly_Join'>"
      ]
     },
     "execution_count": 188,
     "metadata": {},
     "output_type": "execute_result"
    }
   ],
   "source": [
    "temp_poly_fc = 'temp_poly_cross_valid'\n",
    "temp_poly_path = os.path.join(save_path_gdb, temp_poly_fc)\n",
    "arcpy.ga.CrossValidation(\n",
    "    in_geostat_layer=\"temp_poly_stats\",\n",
    "    out_point_feature_class=temp_poly_fc\n",
    ")\n",
    "temp_poly_out_fc = \"Temp_Poly_Join\"\n",
    "temp_poly_out_path = os.path.join(save_path_gdb, temp_poly_out_fc)\n",
    "arcpy.analysis.SpatialJoin(\n",
    "    target_features=\"stations_XYTableToPoint\",\n",
    "    join_features=\"temp_poly_cross_valid\",\n",
    "    out_feature_class=temp_poly_out_fc,\n",
    "    join_operation=\"JOIN_ONE_TO_ONE\",\n",
    "    join_type=\"KEEP_ALL\",\n",
    "    field_mapping='OID_ \"OID_\" true true false 4 Long 0 0,First,#,stations_XYTableToPoint,stations_XYTableToPoint.OID_,-1,-1;sensor_index \"sensor_index\" true true false 4 Long 0 0,First,#,stations_XYTableToPoint,stations_XYTableToPoint.sensor_index,-1,-1;last_modified \"last_modified\" true true false 4 Long 0 0,First,#,stations_XYTableToPoint,stations_XYTableToPoint.last_modified,-1,-1;date_created \"date_created\" true true false 4 Long 0 0,First,#,stations_XYTableToPoint,stations_XYTableToPoint.date_created,-1,-1;last_seen \"last_seen\" true true false 4 Long 0 0,First,#,stations_XYTableToPoint,stations_XYTableToPoint.last_seen,-1,-1;name \"name\" true true false 100 Text 0 0,First,#,stations_XYTableToPoint,stations_XYTableToPoint.name,0,100;location_type \"location_type\" true true false 4 Long 0 0,First,#,stations_XYTableToPoint,stations_XYTableToPoint.location_type,-1,-1;firmware_version \"firmware_version\" true true false 30 Text 0 0,First,#,stations_XYTableToPoint,stations_XYTableToPoint.firmware_version,0,30;uptime \"uptime\" true true false 4 Long 0 0,First,#,stations_XYTableToPoint,stations_XYTableToPoint.uptime,-1,-1;position_rating \"position_rating\" true true false 4 Long 0 0,First,#,stations_XYTableToPoint,stations_XYTableToPoint.position_rating,-1,-1;latitude \"latitude\" true true false 8 Double 0 0,First,#,stations_XYTableToPoint,stations_XYTableToPoint.latitude,-1,-1;longitude \"longitude\" true true false 8 Double 0 0,First,#,stations_XYTableToPoint,stations_XYTableToPoint.longitude,-1,-1;altitude \"altitude\" true true false 4 Long 0 0,First,#,stations_XYTableToPoint,stations_XYTableToPoint.altitude,-1,-1;channel_state \"channel_state\" true true false 4 Long 0 0,First,#,stations_XYTableToPoint,stations_XYTableToPoint.channel_state,-1,-1;channel_flags \"channel_flags\" true true false 4 Long 0 0,First,#,stations_XYTableToPoint,stations_XYTableToPoint.channel_flags,-1,-1;OID1 \"OID_\" true true false 4 Long 0 0,First,#,stations_XYTableToPoint,purpleair_historic.csv.OID_,-1,-1;sensor_index_1 \"sensor_index\" true true false 4 Long 0 0,First,#,stations_XYTableToPoint,purpleair_historic.csv.sensor_index,-1,-1;timestamp \"timestamp\" true true false 8 Date 0 0,First,#,stations_XYTableToPoint,purpleair_historic.csv.timestamp,-1,-1;humidity \"humidity\" true true false 8 Double 0 0,First,#,stations_XYTableToPoint,purpleair_historic.csv.humidity,-1,-1;temperature \"temperature\" true true false 8 Double 0 0,First,#,stations_XYTableToPoint,purpleair_historic.csv.temperature,-1,-1;pressure \"pressure\" true true false 8 Double 0 0,First,#,stations_XYTableToPoint,purpleair_historic.csv.pressure,-1,-1;pm2_5 \"pm2_5\" true true false 8 Double 0 0,First,#,stations_XYTableToPoint,purpleair_historic.csv.pm2_5,-1,-1;Measured \"Measured\" true true false 8 Double 0 0,First,#,pm2_5_kriging_cross_valid,Measured,-1,-1;Predicted \"Predicted\" true true false 8 Double 0 0,First,#,pm2_5_kriging_cross_valid,Predicted,-1,-1;Error \"Error\" true true false 8 Double 0 0,First,#,pm2_5_kriging_cross_valid,Error,-1,-1;StdError \"Standard Error\" true true false 8 Double 0 0,First,#,pm2_5_kriging_cross_valid,StdError,-1,-1;Stdd_Error \"Standardized Error\" true true false 8 Double 0 0,First,#,pm2_5_kriging_cross_valid,Stdd_Error,-1,-1;NormValue \"Normal Value\" true true false 8 Double 0 0,First,#,pm2_5_kriging_cross_valid,NormValue,-1,-1;CRPS \"Continuous Ranked Probability Score\" true true false 8 Double 0 0,First,#,pm2_5_kriging_cross_valid,CRPS,-1,-1;QuanVal \"Validation Quantile\" true true false 8 Double 0 0,First,#,pm2_5_kriging_cross_valid,QuanVal,-1,-1;Interval90 \"Inside 90 Percent Interval\" true true false 255 Text 0 0,First,#,pm2_5_kriging_cross_valid,Interval90,0,255;Interval95 \"Inside 95 Percent Interval\" true true false 255 Text 0 0,First,#,pm2_5_kriging_cross_valid,Interval95,0,255;Source_ID \"Source ID\" true false false 4 Long 0 0,First,#,pm2_5_kriging_cross_valid,Source_ID,-1,-1;Included \"Included\" true true false 255 Text 0 0,First,#,pm2_5_kriging_cross_valid,Included,0,255',\n",
    "    match_option=\"INTERSECT\",\n",
    "    search_radius=None,\n",
    "    distance_field_name=\"\"\n",
    ")"
   ]
  },
  {
   "cell_type": "code",
   "execution_count": 189,
   "id": "990c2178-fb76-4947-951a-b1ec0bf44e44",
   "metadata": {},
   "outputs": [],
   "source": [
    "# Specify the input feature class and fields to include\n",
    "input_fc =\"Temp_Poly_Join\"\n",
    "fields = [\"OBJECTID\", \"Error\"]\n",
    "\n",
    "# Convert the feature class to a NumPy array and create a Pandas DataFrame\n",
    "arr = arcpy.da.TableToNumPyArray(input_fc, fields)\n",
    "df = pd.DataFrame(arr)\n",
    "merged_df = rmse_df.merge(df, on='OBJECTID', how='left')\n",
    "rmse_df = merged_df.rename(columns={'Error': 'Temp_Poly_Error'})"
   ]
  },
  {
   "cell_type": "markdown",
   "id": "b892d35c-3355-45c7-8f92-93b06a9f0ca3",
   "metadata": {},
   "source": [
    "## Calculate RMSE"
   ]
  },
  {
   "cell_type": "code",
   "execution_count": 191,
   "id": "8e4a8375-51a6-487e-bff2-f77d7095b040",
   "metadata": {},
   "outputs": [],
   "source": [
    "rmse_df['SQ_PM2_5_Kriging_Error'] = rmse_df['PM2_5_Kriging_Error'] ** 2\n",
    "pm2_5_kriging_rmse = numpy.sqrt(rmse_df['SQ_PM2_5_Kriging_Error'].mean())"
   ]
  },
  {
   "cell_type": "code",
   "execution_count": 192,
   "id": "eacefb97-c0a8-401e-84d2-6c4b5669c563",
   "metadata": {},
   "outputs": [],
   "source": [
    "rmse_df['SQ_PM2_5_IDW_Error'] = rmse_df['PM2_5_IDW_Error'] ** 2\n",
    "pm2_5_idw_rmse = numpy.sqrt((rmse_df['SQ_PM2_5_IDW_Error'].values).mean())"
   ]
  },
  {
   "cell_type": "code",
   "execution_count": 193,
   "id": "edcce18e-f93a-41f2-8f0c-c800dd70f445",
   "metadata": {},
   "outputs": [],
   "source": [
    "rmse_df['SQ_PM2_5_Poly_Error'] = rmse_df['PM2_5_Poly_Error'] ** 2\n",
    "pm2_5_poly_rmse = numpy.sqrt(rmse_df['SQ_PM2_5_Poly_Error'].mean())"
   ]
  },
  {
   "cell_type": "code",
   "execution_count": 196,
   "id": "4d07dace-73d8-49eb-b7d5-6846bf95cdf1",
   "metadata": {},
   "outputs": [
    {
     "name": "stdout",
     "output_type": "stream",
     "text": [
      "Method with the lowest RMSE value is kriging\n"
     ]
    }
   ],
   "source": [
    "pm2_5_compare = pd.DataFrame({'method':['kriging', 'idw', 'local polynomial'],\n",
    "                            'RMSE':[pm2_5_kriging_rmse, pm2_5_idw_rmse, pm2_5_poly_rmse]})\n",
    "# Get index of row with lowest value of rmse\n",
    "min_index = pm2_5_compare['RMSE'].idxmin()\n",
    "\n",
    "# Get method with lowest rmse\n",
    "min_id = pm2_5_compare.loc[min_index, 'method']\n",
    "print(\"Method with the lowest PM2.5 RMSE value is\", min_id)"
   ]
  },
  {
   "cell_type": "code",
   "execution_count": 198,
   "id": "24e78389-c613-4dcf-a803-b970c8f8b64b",
   "metadata": {},
   "outputs": [],
   "source": [
    "rmse_df['SQ_Temp_Kriging_Error'] = rmse_df['Temp_Kriging_Error'] ** 2\n",
    "temp_kriging_rmse = numpy.sqrt(rmse_df['SQ_Temp_Kriging_Error'].mean())"
   ]
  },
  {
   "cell_type": "code",
   "execution_count": 199,
   "id": "bd27f02f-6d55-499b-9871-711f94ad2867",
   "metadata": {},
   "outputs": [],
   "source": [
    "rmse_df['SQ_Temp_IDW_Error'] = rmse_df['Temp_IDW_Error'] ** 2\n",
    "temp_idw_rmse = numpy.sqrt((rmse_df['SQ_Temp_IDW_Error'].values).mean())"
   ]
  },
  {
   "cell_type": "code",
   "execution_count": 200,
   "id": "e20c4855-8d31-4a86-8279-858519c4eb14",
   "metadata": {},
   "outputs": [],
   "source": [
    "rmse_df['SQ_Temp_Poly_Error'] = rmse_df['Temp_Poly_Error'] ** 2\n",
    "temp_poly_rmse = numpy.sqrt(rmse_df['SQ_Temp_Poly_Error'].mean())"
   ]
  },
  {
   "cell_type": "code",
   "execution_count": 201,
   "id": "e83dafbb-f30f-499b-ae46-0fc884c9cb26",
   "metadata": {},
   "outputs": [
    {
     "name": "stdout",
     "output_type": "stream",
     "text": [
      "Method with the lowest RMSE value is kriging\n"
     ]
    }
   ],
   "source": [
    "temp_compare = pd.DataFrame({'method':['kriging', 'idw', 'local polynomial'],\n",
    "                            'RMSE':[temp_kriging_rmse, temp_idw_rmse, temp_poly_rmse]})\n",
    "# Get index of row with lowest value of rmse\n",
    "min_index = temp_compare['RMSE'].idxmin()\n",
    "\n",
    "# Get method with lowest rmse\n",
    "min_id = temp_compare.loc[min_index, 'method']\n",
    "print(\"Method with the lowest Temperature RMSE value is\", min_id)"
   ]
  },
  {
   "cell_type": "markdown",
   "id": "b07fb968-7570-45fd-8fd5-5357dfa1e652",
   "metadata": {},
   "source": [
    "## Raster to Point Each Interpolation"
   ]
  },
  {
   "cell_type": "markdown",
   "id": "07f1b343-330d-43a5-924e-a2604b303963",
   "metadata": {},
   "source": [
    "### Kriging PM 2.5"
   ]
  },
  {
   "cell_type": "code",
   "execution_count": 218,
   "id": "6280105f-2127-475c-8a16-d85d8783ad36",
   "metadata": {},
   "outputs": [
    {
     "data": {
      "text/html": [
       "<div class='gpresult'><h2>Messages</h2><div id='messages' data-messages='[\"Start Time: Tuesday, April 11, 2023 11:30:06 PM\",\"Succeeded at Tuesday, April 11, 2023 11:30:09 PM (Elapsed Time: 2.90 seconds)\"]' data-show='true'><div id = 'default' /></div></div>"
      ],
      "text/plain": [
       "<Result 'C:\\\\Users\\\\tande\\\\Documents\\\\GitHub\\\\QualityAirQualityCities\\\\arcpy\\\\interpolation\\\\..\\\\..\\\\data\\\\QAQC.gdb\\\\Kriging_PM2_5_Raster_to_Point'>"
      ]
     },
     "execution_count": 218,
     "metadata": {},
     "output_type": "execute_result"
    }
   ],
   "source": [
    "out_point_kriging_pm = \"Kriging_PM2_5_Raster_to_Point\"\n",
    "output_raster_path = os.path.join(save_path_gdb, out_point_kriging_pm)\n",
    "arcpy.conversion.RasterToPoint(\n",
    "    in_raster=\"Kriging_Apr1\",\n",
    "    out_point_features=out_point_kriging_pm,\n",
    "    raster_field=\"Value\"\n",
    ")"
   ]
  },
  {
   "cell_type": "markdown",
   "id": "db95c759-d2f8-4fed-8844-4388d41b4522",
   "metadata": {},
   "source": [
    "### IDW PM 2.5"
   ]
  },
  {
   "cell_type": "code",
   "execution_count": 219,
   "id": "26cfecac-7b50-45b2-97b0-123ae424eee8",
   "metadata": {},
   "outputs": [
    {
     "data": {
      "text/html": [
       "<div class='gpresult'><h2>Messages</h2><div id='messages' data-messages='[\"Start Time: Tuesday, April 11, 2023 11:31:47 PM\",\"WARNING 010151: No features created by operation.\",\"Succeeded at Tuesday, April 11, 2023 11:31:48 PM (Elapsed Time: 1.38 seconds)\"]' data-show='true'><div id = 'default' /></div></div>"
      ],
      "text/plain": [
       "<Result 'C:\\\\Users\\\\tande\\\\Documents\\\\GitHub\\\\QualityAirQualityCities\\\\arcpy\\\\interpolation\\\\..\\\\..\\\\data\\\\QAQC.gdb\\\\IDW_PM2_5_Raster_to_Point'>"
      ]
     },
     "execution_count": 219,
     "metadata": {},
     "output_type": "execute_result"
    }
   ],
   "source": [
    "out_point_idw_pm = \"IDW_PM2_5_Raster_to_Point\"\n",
    "output_raster_path = os.path.join(save_path_gdb, out_point_idw_pm)\n",
    "arcpy.conversion.RasterToPoint(\n",
    "    in_raster=\"IDW_Apr1\",\n",
    "    out_point_features=out_point_idw_pm,\n",
    "    raster_field=\"Value\"\n",
    ")"
   ]
  },
  {
   "cell_type": "markdown",
   "id": "a9cc5c3f-d0e3-494a-86f2-5c58d4b8d344",
   "metadata": {},
   "source": [
    "### Local Polynomial PM 2.5"
   ]
  },
  {
   "cell_type": "code",
   "execution_count": 220,
   "id": "8d23a55d-60e7-4ae7-b765-017fa65a4563",
   "metadata": {},
   "outputs": [
    {
     "data": {
      "text/html": [
       "<div class='gpresult'><h2>Messages</h2><div id='messages' data-messages='[\"Start Time: Tuesday, April 11, 2023 11:32:25 PM\",\"Succeeded at Tuesday, April 11, 2023 11:32:28 PM (Elapsed Time: 2.95 seconds)\"]' data-show='true'><div id = 'default' /></div></div>"
      ],
      "text/plain": [
       "<Result 'C:\\\\Users\\\\tande\\\\Documents\\\\GitHub\\\\QualityAirQualityCities\\\\arcpy\\\\interpolation\\\\..\\\\..\\\\data\\\\QAQC.gdb\\\\Poly_PM2_5_Raster_to_Point'>"
      ]
     },
     "execution_count": 220,
     "metadata": {},
     "output_type": "execute_result"
    }
   ],
   "source": [
    "out_point_poly_pm = \"Poly_PM2_5_Raster_to_Point\"\n",
    "output_raster_path = os.path.join(save_path_gdb, out_point_poly_pm)\n",
    "arcpy.conversion.RasterToPoint(\n",
    "    in_raster=\"Poly_Apr1\",\n",
    "    out_point_features=out_point_poly_pm,\n",
    "    raster_field=\"Value\"\n",
    ")"
   ]
  },
  {
   "cell_type": "markdown",
   "id": "4a081aab-66be-4c36-b778-9dda4d4caf69",
   "metadata": {},
   "source": [
    "### Kriging Temp"
   ]
  },
  {
   "cell_type": "code",
   "execution_count": 222,
   "id": "add3419e-2008-4e31-abaf-774b3bd90e68",
   "metadata": {},
   "outputs": [
    {
     "data": {
      "text/html": [
       "<div class='gpresult'><h2>Messages</h2><div id='messages' data-messages='[\"Start Time: Tuesday, April 11, 2023 11:35:01 PM\",\"Succeeded at Tuesday, April 11, 2023 11:35:04 PM (Elapsed Time: 3.14 seconds)\"]' data-show='true'><div id = 'default' /></div></div>"
      ],
      "text/plain": [
       "<Result 'C:\\\\Users\\\\tande\\\\Documents\\\\GitHub\\\\QualityAirQualityCities\\\\arcpy\\\\interpolation\\\\..\\\\..\\\\data\\\\QAQC.gdb\\\\Kriging_Temp_Raster_to_Point'>"
      ]
     },
     "execution_count": 222,
     "metadata": {},
     "output_type": "execute_result"
    }
   ],
   "source": [
    "out_point_kriging_temp = \"Kriging_Temp_Raster_to_Point\"\n",
    "output_raster_path = os.path.join(save_path_gdb, out_point_kriging_temp)\n",
    "arcpy.conversion.RasterToPoint(\n",
    "    in_raster=\"Kriging_Temp_Apr1\",\n",
    "    out_point_features=out_point_kriging_temp,\n",
    "    raster_field=\"Value\"\n",
    ")"
   ]
  },
  {
   "cell_type": "markdown",
   "id": "9903bc60-3756-4cbe-a935-63b96f71fe52",
   "metadata": {},
   "source": [
    "### IDW Temp"
   ]
  },
  {
   "cell_type": "code",
   "execution_count": 225,
   "id": "1292be96-79d0-4744-9bda-0e3a6a9b0a08",
   "metadata": {},
   "outputs": [
    {
     "data": {
      "text/html": [
       "<div class='gpresult'><h2>Messages</h2><div id='messages' data-messages='[\"Start Time: Tuesday, April 11, 2023 11:36:42 PM\",\"Succeeded at Tuesday, April 11, 2023 11:36:45 PM (Elapsed Time: 2.95 seconds)\"]' data-show='true'><div id = 'default' /></div></div>"
      ],
      "text/plain": [
       "<Result 'C:\\\\Users\\\\tande\\\\Documents\\\\GitHub\\\\QualityAirQualityCities\\\\arcpy\\\\interpolation\\\\..\\\\..\\\\data\\\\QAQC.gdb\\\\IDW_Temp_Raster_to_Point'>"
      ]
     },
     "execution_count": 225,
     "metadata": {},
     "output_type": "execute_result"
    }
   ],
   "source": [
    "out_point_idw_temp = \"IDW_Temp_Raster_to_Point\"\n",
    "output_raster_path = os.path.join(save_path_gdb, out_point_idw_temp)\n",
    "arcpy.conversion.RasterToPoint(\n",
    "    in_raster=\"IDW_Temp_Apr1\",\n",
    "    out_point_features=out_point_idw_temp,\n",
    "    raster_field=\"Value\"\n",
    ")"
   ]
  },
  {
   "cell_type": "markdown",
   "id": "634ece3a-d7ce-42f1-9486-a9b769a13f1f",
   "metadata": {},
   "source": [
    "### Local Polynomial Temp"
   ]
  },
  {
   "cell_type": "code",
   "execution_count": 227,
   "id": "5d4d6d2d-b8fd-460d-b990-799bc9050eb8",
   "metadata": {},
   "outputs": [
    {
     "data": {
      "text/html": [
       "<div class='gpresult'><h2>Messages</h2><div id='messages' data-messages='[\"Start Time: Tuesday, April 11, 2023 11:37:48 PM\",\"Succeeded at Tuesday, April 11, 2023 11:37:51 PM (Elapsed Time: 2.95 seconds)\"]' data-show='true'><div id = 'default' /></div></div>"
      ],
      "text/plain": [
       "<Result 'C:\\\\Users\\\\tande\\\\Documents\\\\GitHub\\\\QualityAirQualityCities\\\\arcpy\\\\interpolation\\\\..\\\\..\\\\data\\\\QAQC.gdb\\\\Poly_Temp_Raster_to_Point'>"
      ]
     },
     "execution_count": 227,
     "metadata": {},
     "output_type": "execute_result"
    }
   ],
   "source": [
    "out_point_poly_temp = \"Poly_Temp_Raster_to_Point\"\n",
    "output_raster_path = os.path.join(save_path_gdb, out_point_poly_temp)\n",
    "arcpy.conversion.RasterToPoint(\n",
    "    in_raster=\"Poly_Temp_Apr1\",\n",
    "    out_point_features=out_point_poly_temp,\n",
    "    raster_field=\"Value\"\n",
    ")"
   ]
  },
  {
   "cell_type": "markdown",
   "id": "fcdce023-58c6-46f6-8155-a7dfdd69e95b",
   "metadata": {},
   "source": [
    "## Clipping Each Interpolation"
   ]
  },
  {
   "cell_type": "markdown",
   "id": "3feda8c6-4118-409f-be07-cf8cb3ba43ef",
   "metadata": {},
   "source": [
    "### Kriging PM 2.5 Clip"
   ]
  },
  {
   "cell_type": "code",
   "execution_count": 229,
   "id": "d8350b4a-4970-4812-8082-d794a66e0b57",
   "metadata": {},
   "outputs": [
    {
     "data": {
      "text/html": [
       "<div class='gpresult'><h2>Messages</h2><div id='messages' data-messages='[\"Start Time: Tuesday, April 11, 2023 11:41:10 PM\",\"Analyzing input features...\",\"Dissolving clip features...\",\"Clipping input features...\",\"Succeeded at Tuesday, April 11, 2023 11:41:11 PM (Elapsed Time: 0.74 seconds)\"]' data-show='true'><div id = 'default' /></div></div>"
      ],
      "text/plain": [
       "<Result 'C:\\\\Users\\\\tande\\\\Documents\\\\GitHub\\\\QualityAirQualityCities\\\\arcpy\\\\interpolation\\\\..\\\\..\\\\data\\\\QAQC.gdb\\\\Kriging_PM2_5'>"
      ]
     },
     "execution_count": 229,
     "metadata": {},
     "output_type": "execute_result"
    }
   ],
   "source": [
    "out_clip_kriging_pm = \"Kriging_PM2_5\"\n",
    "output_clip_path = os.path.join(save_path_gdb, out_clip_kriging_pm)\n",
    "arcpy.analysis.Clip(\n",
    "    in_features=\"Kriging_PM2_5_Raster_to_Point\",\n",
    "    clip_features='mpls_boundary',\n",
    "    out_feature_class=out_clip_kriging_pm,\n",
    "    cluster_tolerance=None\n",
    ")"
   ]
  },
  {
   "cell_type": "markdown",
   "id": "c523e919-6be7-4e06-98f2-13f4f32f96f5",
   "metadata": {},
   "source": [
    "### IDW PM 2.5 Clip"
   ]
  },
  {
   "cell_type": "code",
   "execution_count": 230,
   "id": "042e513c-cca2-4a8d-a2fd-b7cff38c684c",
   "metadata": {},
   "outputs": [
    {
     "data": {
      "text/html": [
       "<div class='gpresult'><h2>Messages</h2><div id='messages' data-messages='[\"Start Time: Tuesday, April 11, 2023 11:41:47 PM\",\"Analyzing input features...\",\"WARNING 000117: Warning empty output generated.\",\"Succeeded at Tuesday, April 11, 2023 11:41:47 PM (Elapsed Time: 0.33 seconds)\"]' data-show='true'><div id = 'default' /></div></div>"
      ],
      "text/plain": [
       "<Result 'C:\\\\Users\\\\tande\\\\Documents\\\\GitHub\\\\QualityAirQualityCities\\\\arcpy\\\\interpolation\\\\..\\\\..\\\\data\\\\QAQC.gdb\\\\IDW_PM2_5'>"
      ]
     },
     "execution_count": 230,
     "metadata": {},
     "output_type": "execute_result"
    }
   ],
   "source": [
    "out_clip_idw_pm = \"IDW_PM2_5\"\n",
    "output_clip_path = os.path.join(save_path_gdb, out_clip_idw_pm)\n",
    "arcpy.analysis.Clip(\n",
    "    in_features=\"IDW_PM2_5_Raster_to_Point\",\n",
    "    clip_features='mpls_boundary',\n",
    "    out_feature_class=out_clip_idw_pm,\n",
    "    cluster_tolerance=None\n",
    ")"
   ]
  },
  {
   "cell_type": "markdown",
   "id": "f75083dc-43b7-4ef1-8ae9-fd077d2ba078",
   "metadata": {},
   "source": [
    "### Local Polynomial PM 2.5 Clip"
   ]
  },
  {
   "cell_type": "code",
   "execution_count": 231,
   "id": "2e609b74-30e1-45be-ba22-53e8d1334ff7",
   "metadata": {},
   "outputs": [
    {
     "data": {
      "text/html": [
       "<div class='gpresult'><h2>Messages</h2><div id='messages' data-messages='[\"Start Time: Tuesday, April 11, 2023 11:42:19 PM\",\"Analyzing input features...\",\"Dissolving clip features...\",\"Clipping input features...\",\"Succeeded at Tuesday, April 11, 2023 11:42:20 PM (Elapsed Time: 0.74 seconds)\"]' data-show='true'><div id = 'default' /></div></div>"
      ],
      "text/plain": [
       "<Result 'C:\\\\Users\\\\tande\\\\Documents\\\\GitHub\\\\QualityAirQualityCities\\\\arcpy\\\\interpolation\\\\..\\\\..\\\\data\\\\QAQC.gdb\\\\Poly_PM2_5'>"
      ]
     },
     "execution_count": 231,
     "metadata": {},
     "output_type": "execute_result"
    }
   ],
   "source": [
    "out_clip_poly_pm = \"Poly_PM2_5\"\n",
    "output_clip_path = os.path.join(save_path_gdb, out_clip_poly_pm)\n",
    "arcpy.analysis.Clip(\n",
    "    in_features=\"Poly_PM2_5_Raster_to_Point\",\n",
    "    clip_features='mpls_boundary',\n",
    "    out_feature_class=out_clip_poly_pm,\n",
    "    cluster_tolerance=None\n",
    ")"
   ]
  },
  {
   "cell_type": "markdown",
   "id": "123165a1-b894-4a5e-a6c6-c379d982fc81",
   "metadata": {},
   "source": [
    "### Kriging Temperature Clip"
   ]
  },
  {
   "cell_type": "code",
   "execution_count": 232,
   "id": "43d280f1-6b66-4f23-88cc-fdd1ebc3f645",
   "metadata": {},
   "outputs": [
    {
     "data": {
      "text/html": [
       "<div class='gpresult'><h2>Messages</h2><div id='messages' data-messages='[\"Start Time: Tuesday, April 11, 2023 11:43:02 PM\",\"Analyzing input features...\",\"Dissolving clip features...\",\"Clipping input features...\",\"Succeeded at Tuesday, April 11, 2023 11:43:03 PM (Elapsed Time: 0.75 seconds)\"]' data-show='true'><div id = 'default' /></div></div>"
      ],
      "text/plain": [
       "<Result 'C:\\\\Users\\\\tande\\\\Documents\\\\GitHub\\\\QualityAirQualityCities\\\\arcpy\\\\interpolation\\\\..\\\\..\\\\data\\\\QAQC.gdb\\\\Kriging_Temp'>"
      ]
     },
     "execution_count": 232,
     "metadata": {},
     "output_type": "execute_result"
    }
   ],
   "source": [
    "out_clip_kriging_temp = \"Kriging_Temp\"\n",
    "output_clip_path = os.path.join(save_path_gdb, out_clip_kriging_temp)\n",
    "arcpy.analysis.Clip(\n",
    "    in_features=\"Kriging_Temp_Raster_to_Point\",\n",
    "    clip_features='mpls_boundary',\n",
    "    out_feature_class=out_clip_kriging_temp,\n",
    "    cluster_tolerance=None\n",
    ")"
   ]
  },
  {
   "cell_type": "markdown",
   "id": "d4d444f1-f1b7-41c8-8831-4bfc15f6bdd4",
   "metadata": {},
   "source": [
    "### IDW Temperature Clip"
   ]
  },
  {
   "cell_type": "code",
   "execution_count": 233,
   "id": "6c43ea2e-a18a-47e7-8714-651ffb5bdd08",
   "metadata": {},
   "outputs": [
    {
     "data": {
      "text/html": [
       "<div class='gpresult'><h2>Messages</h2><div id='messages' data-messages='[\"Start Time: Tuesday, April 11, 2023 11:44:06 PM\",\"Analyzing input features...\",\"Dissolving clip features...\",\"Clipping input features...\",\"Succeeded at Tuesday, April 11, 2023 11:44:07 PM (Elapsed Time: 0.73 seconds)\"]' data-show='true'><div id = 'default' /></div></div>"
      ],
      "text/plain": [
       "<Result 'C:\\\\Users\\\\tande\\\\Documents\\\\GitHub\\\\QualityAirQualityCities\\\\arcpy\\\\interpolation\\\\..\\\\..\\\\data\\\\QAQC.gdb\\\\IDW_Temp'>"
      ]
     },
     "execution_count": 233,
     "metadata": {},
     "output_type": "execute_result"
    }
   ],
   "source": [
    "out_clip_idw_temp = \"IDW_Temp\"\n",
    "output_clip_path = os.path.join(save_path_gdb, out_clip_idw_temp)\n",
    "arcpy.analysis.Clip(\n",
    "    in_features=\"IDW_Temp_Raster_to_Point\",\n",
    "    clip_features='mpls_boundary',\n",
    "    out_feature_class=out_clip_idw_temp,\n",
    "    cluster_tolerance=None\n",
    ")"
   ]
  },
  {
   "cell_type": "markdown",
   "id": "8e239c4f-990a-4d47-88c2-7bc3e2dd822f",
   "metadata": {},
   "source": [
    "### Local Polynomial Clip"
   ]
  },
  {
   "cell_type": "code",
   "execution_count": 234,
   "id": "e4f0d360-3dd0-4415-befc-caf1ad349431",
   "metadata": {},
   "outputs": [
    {
     "data": {
      "text/html": [
       "<div class='gpresult'><h2>Messages</h2><div id='messages' data-messages='[\"Start Time: Tuesday, April 11, 2023 11:44:34 PM\",\"Analyzing input features...\",\"Dissolving clip features...\",\"Clipping input features...\",\"Succeeded at Tuesday, April 11, 2023 11:44:35 PM (Elapsed Time: 0.75 seconds)\"]' data-show='true'><div id = 'default' /></div></div>"
      ],
      "text/plain": [
       "<Result 'C:\\\\Users\\\\tande\\\\Documents\\\\GitHub\\\\QualityAirQualityCities\\\\arcpy\\\\interpolation\\\\..\\\\..\\\\data\\\\QAQC.gdb\\\\Poly_Temp'>"
      ]
     },
     "execution_count": 234,
     "metadata": {},
     "output_type": "execute_result"
    }
   ],
   "source": [
    "out_clip_poly_temp = \"Poly_Temp\"\n",
    "output_clip_path = os.path.join(save_path_gdb, out_clip_poly_temp)\n",
    "arcpy.analysis.Clip(\n",
    "    in_features=\"Poly_Temp_Raster_to_Point\",\n",
    "    clip_features='mpls_boundary',\n",
    "    out_feature_class=out_clip_poly_temp,\n",
    "    cluster_tolerance=None\n",
    ")"
   ]
  },
  {
   "cell_type": "markdown",
   "id": "9f5029c2-adde-488b-b6ac-fba1c47b9406",
   "metadata": {},
   "source": [
    "## Save to Local and Remove Databases"
   ]
  },
  {
   "cell_type": "code",
   "execution_count": null,
   "id": "5a99d7c6-aa35-47ef-82f4-074e5e97c10f",
   "metadata": {},
   "outputs": [],
   "source": [
    "### Local (Values)\n",
    "\n",
    "table_name = \"Kriging_PM2_5\"\n",
    "\n",
    "if table_name in arcpy.ListTables(): # Delete table if it exists\n",
    "    arcpy.management.Delete(table_name)\n",
    "\n",
    "cols_for_gdb = ['OBJECTID', 'SHAPE', 'pointid', 'grid_code']\n",
    "\n",
    "vals = df_historic[cols_for_gdb].values\n",
    "\n",
    "dtypes = [('sensor_index', '<U6'), ('timestamp', 'M8[us]'),\n",
    "          ('humidity', '<f8'), ('temperature', '<f8'),\n",
    "          ('pressure', '<f8'), ('pm2_5', '<f8')]\n",
    "\n",
    "array_for_gdb = numpy.rec.fromrecords(vals, names = cols_for_gdb, dtype=dtypes)\n",
    "\n",
    "arcpy.da.NumPyArrayToTable(array_for_gdb, os.path.join(arcpy.env.workspace,table_name))"
   ]
  }
 ],
 "metadata": {
  "kernelspec": {
   "display_name": "Python 3 (ipykernel)",
   "language": "python",
   "name": "python3"
  },
  "language_info": {
   "codemirror_mode": {
    "name": "ipython",
    "version": 3
   },
   "file_extension": ".py",
   "mimetype": "text/x-python",
   "name": "python",
   "nbconvert_exporter": "python",
   "pygments_lexer": "ipython3",
   "version": "3.9.16"
  }
 },
 "nbformat": 4,
 "nbformat_minor": 5
}
