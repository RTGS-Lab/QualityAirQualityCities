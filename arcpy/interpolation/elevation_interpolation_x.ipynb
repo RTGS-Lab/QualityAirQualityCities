{
 "cells": [
  {
   "attachments": {},
   "cell_type": "markdown",
   "metadata": {},
   "source": [
    "# Elevation Interpolation"
   ]
  },
  {
   "cell_type": "code",
   "execution_count": 58,
   "metadata": {},
   "outputs": [],
   "source": [
    "# import libraries\n",
    "import arcpy\n",
    "from arcpy import env # to set working environmnet\n",
    "import pandas as pd\n",
    "import psycopg2\n",
    "import os # file path managment"
   ]
  },
  {
   "attachments": {},
   "cell_type": "markdown",
   "metadata": {},
   "source": [
    "### Set up environmnet"
   ]
  },
  {
   "cell_type": "code",
   "execution_count": 59,
   "metadata": {},
   "outputs": [
    {
     "data": {
      "text/plain": [
       "'c:\\\\Users\\\\MrJDF\\\\Desktop\\\\QualityAirQualityCities\\\\arcpy\\\\interpolation\\\\..\\\\..\\\\data\\\\QAQC.gdb'"
      ]
     },
     "execution_count": 59,
     "metadata": {},
     "output_type": "execute_result"
    }
   ],
   "source": [
    "# Get CWD\n",
    "\n",
    "cwd = _dh[0] #this is a universal variable that calls the directory where the .ipynb file is located\n",
    "\n",
    "\n",
    "# Link it to the QAQC.gdb and make it the workspace\n",
    "\n",
    "arcpy.env.workspace = os.path.join(cwd, '..', '..', 'data', 'QAQC.gdb')\n",
    "\n",
    "# allow files to be overwritten\n",
    "arcpy.env.overwriteOutput = True \n",
    "\n",
    "# set save filepath\n",
    "savepath = os.path.join(cwd, '..','..','data')\n",
    "\n",
    "#test\n",
    "arcpy.env.workspace"
   ]
  },
  {
   "attachments": {},
   "cell_type": "markdown",
   "metadata": {},
   "source": [
    "## Query elevation data from database\n",
    "- use SQL\n",
    "- may need to convert raster to point data\n",
    "    - see lab 02\n",
    "- resample to avoid crashing the computer\n",
    "--(may already be small enough)"
   ]
  },
  {
   "cell_type": "code",
   "execution_count": 5,
   "metadata": {},
   "outputs": [
    {
     "data": {
      "text/html": [
       "<div class='gpresult'><h2>Messages</h2><div id='messages' data-messages='[\"Start Time: Tuesday, April 11, 2023 7:57:51 PM\",\"Succeeded at Tuesday, April 11, 2023 7:57:52 PM (Elapsed Time: 0.93 seconds)\"]' data-show='true'><div id = 'default' /></div></div>"
      ],
      "text/plain": [
       "<Result 'elevation_pts'>"
      ]
     },
     "execution_count": 5,
     "metadata": {},
     "output_type": "execute_result"
    }
   ],
   "source": [
    "# Query the DB and make a layer\n",
    "arcpy.management.MakeQueryLayer(r\"C:\\Users\\MrJDF\\Desktop\\arc2_lab2\\mpls_prplair_qaqc\\34.123.228.238.sde\", \"elevation_pts\", \"SELECT * FROM elevation_points\", \"grid_code\", '', \"4326\", 'GEOGCS[\"GCS_WGS_1984\",DATUM[\"D_WGS_1984\",SPHEROID[\"WGS_1984\",6378137.0,298.257223563]],PRIMEM[\"Greenwich\",0.0],UNIT[\"Degree\",0.0174532925199433]];-400 -400 1000000000;-100000 10000;-100000 10000;8.98315284119521E-09;0.001;0.001;IsHighPrecision', \"DEFINE_SPATIAL_PROPERTIES\", \"DO_NOT_INCLUDE_M_VALUES\", \"DO_NOT_INCLUDE_Z_VALUES\", \"0 0 0 0\")"
   ]
  },
  {
   "cell_type": "code",
   "execution_count": 8,
   "metadata": {},
   "outputs": [
    {
     "data": {
      "text/html": [
       "<div class='gpresult'><h2>Messages</h2><div id='messages' data-messages='[\"Start Time: Tuesday, April 11, 2023 8:03:46 PM\",\"Succeeded at Tuesday, April 11, 2023 8:03:47 PM (Elapsed Time: 1.04 seconds)\"]' data-show='true'><div id = 'default' /></div></div>"
      ],
      "text/plain": [
       "<Result 'c:\\\\Users\\\\MrJDF\\\\Desktop\\\\QualityAirQualityCities\\\\arcpy\\\\interpolation\\\\..\\\\..\\\\data\\\\elevation_pts_ExportFeatures.shp'>"
      ]
     },
     "execution_count": 8,
     "metadata": {},
     "output_type": "execute_result"
    }
   ],
   "source": [
    "# Export Query Layer (save to local GDB)\n",
    "arcpy.conversion.ExportFeatures(\"elevation_pts\", savepath + r\"\\elevation_pts_ExportFeatures\", '', \"NOT_USE_ALIAS\", 'pointid \"pointid\" true true false 4 Long 0 10,First,#,elevation_pts,pointid,-1,-1;grid_code \"grid_code\" true true false 4 Long 0 10,First,#,elevation_pts,grid_code,-1,-1', None)\n"
   ]
  },
  {
   "cell_type": "code",
   "execution_count": 60,
   "metadata": {},
   "outputs": [],
   "source": [
    "# set variable to local layer file\n",
    "\n",
    "elevation_pts = savepath + r\"\\elevation_pts_ExportFeatures\""
   ]
  },
  {
   "attachments": {},
   "cell_type": "markdown",
   "metadata": {},
   "source": [
    "### Sample the dataset\n",
    "- define appropriate sample size (with proof)\n",
    "    - This is done in lab 2 where I downsample the 1m raster to 100m, which uses bilinear interpolation (nearest neighbor), then convert those rasters to point data, selecting the mean value of rasters within the point conversion grid.\n",
    "    - will need to downsample again for size after interpolation"
   ]
  },
  {
   "attachments": {},
   "cell_type": "markdown",
   "metadata": {},
   "source": [
    "### Run 3 different interpolation algorithms, save to local gdb\n",
    "- IDW\n",
    "- Empirical Bayesian Kriging\n",
    "- Local Polynomial KDE"
   ]
  },
  {
   "cell_type": "code",
   "execution_count": 61,
   "metadata": {},
   "outputs": [],
   "source": [
    "# IDW\n",
    "\n",
    "arcpy.ga.IDW(elevation_pts, \"grid_code\", \"idw_stats\", r\"idw_lab03\", 0.000124525892000065, 2, \"NBRTYPE=Standard S_MAJOR=1.76434719213634E-02 S_MINOR=1.76434719213634E-02 ANGLE=0 NBR_MAX=15 NBR_MIN=10 SECTOR_TYPE=ONE_SECTOR\", None)\n",
    "\n",
    "idw_stats = \"idw_stats\""
   ]
  },
  {
   "cell_type": "code",
   "execution_count": 62,
   "metadata": {},
   "outputs": [],
   "source": [
    "# Empirical Bayesian Kriging\n",
    "\n",
    "arcpy.ga.EmpiricalBayesianKriging(elevation_pts, \"grid_code\", \"bayesian_kriging_stats\", r\"bayesian_kriging_lab03\", 0.000124525892000065, \"NONE\", 100, 1, 100, \"NBRTYPE=StandardCircular RADIUS=1.76434719213634E-02 ANGLE=0 NBR_MAX=15 NBR_MIN=10 SECTOR_TYPE=ONE_SECTOR\", \"PREDICTION\", 0.5, \"EXCEED\", None, \"POWER\")\n",
    "\n",
    "bayesian_kriging_stats = \"bayseian_kriging_stats\"\n",
    "\n",
    "bayesian_kriging = r\"bayesian_kriging_lab03\""
   ]
  },
  {
   "cell_type": "code",
   "execution_count": 63,
   "metadata": {},
   "outputs": [],
   "source": [
    "# local polynomial kernel\n",
    "\n",
    "arcpy.ga.LocalPolynomialInterpolation(elevation_pts, \"grid_code\", \"lcl_polynomial_stats\", r\"lcl_polynomial_lab03\", 0.000124525892000065, 1, \"NBRTYPE=Standard S_MAJOR=1.76434719213634E-02 S_MINOR=1.76434719213634E-02 ANGLE=0 NBR_MAX=15 NBR_MIN=10 SECTOR_TYPE=ONE_SECTOR\", \"EXPONENTIAL\", None, \"NO_USE_CONDITION_NUMBER\", None, None, \"PREDICTION\")\n",
    "\n",
    "lcl_poly_stats = \"lcl_polynomial_stats\"\n"
   ]
  },
  {
   "attachments": {},
   "cell_type": "markdown",
   "metadata": {},
   "source": [
    "## Evaluate the interpolated estimates of each model compared to the true DEM\n",
    "- leave one out CROSS VALIDATION in geoprocessing arcpy\n",
    "- store this accuracy assessment as a table in postgres\n",
    "- and in home gdb\n"
   ]
  },
  {
   "cell_type": "code",
   "execution_count": 64,
   "metadata": {},
   "outputs": [
    {
     "data": {
      "text/html": [
       "<div class='gpresult'><h2>Messages</h2><div id='messages' data-messages='[\"Start Time: Wednesday, April 12, 2023 8:03:29 PM\",\"Count = 1800\",\"Mean error = -0.017387198478440082\",\"Root mean square = 1.37750905710646\",\"Average standard = NaN\",\"Mean standardized = NaN\",\"Root mean square standardized = NaN\",\"Percent in 90% Interval = NaN\",\"Percent in 95% Interval = NaN\",\"Average CRPS = NaN\",\"Succeeded at Wednesday, April 12, 2023 8:03:29 PM (Elapsed Time: 0.14 seconds)\"]' data-show='true'><div id = 'default' /></div></div>"
      ],
      "text/plain": [
       "<Result 'c:\\\\Users\\\\MrJDF\\\\Desktop\\\\QualityAirQualityCities\\\\arcpy\\\\interpolation\\\\..\\\\..\\\\data\\\\idw_crossval.shp'>"
      ]
     },
     "execution_count": 64,
     "metadata": {},
     "output_type": "execute_result"
    }
   ],
   "source": [
    "# Cross Validation, outputs a point layer with stats including error for each point\n",
    "\n",
    "# idw\n",
    "arcpy.ga.CrossValidation(\"idw_stats\", savepath + r\"\\idw_crossval\")"
   ]
  },
  {
   "cell_type": "code",
   "execution_count": 65,
   "metadata": {},
   "outputs": [
    {
     "data": {
      "text/html": [
       "<div class='gpresult'><h2>Messages</h2><div id='messages' data-messages='[\"Start Time: Wednesday, April 12, 2023 8:03:32 PM\",\"\\r\\nWarning(s) for dataset: Length of the radius of the search circle = 1964.1 meters.\",\"Count = 1800\",\"Mean error = -0.007536897011306267\",\"Root mean square = 1.3061990821192986\",\"Average standard = 1.2788233202630472\",\"Mean standardized = -0.004272364037786368\",\"Root mean square standardized = 0.9565741226963111\",\"Percent in 90% Interval = 91.05555555555556\",\"Percent in 95% Interval = 94.77777777777777\",\"Average CRPS = 0.6242982485759477\",\"Succeeded at Wednesday, April 12, 2023 8:03:32 PM (Elapsed Time: 0.94 seconds)\"]' data-show='true'><div id = 'default' /></div></div>"
      ],
      "text/plain": [
       "<Result 'c:\\\\Users\\\\MrJDF\\\\Desktop\\\\QualityAirQualityCities\\\\arcpy\\\\interpolation\\\\..\\\\..\\\\data\\\\bayesian_kriging_crossval.shp'>"
      ]
     },
     "execution_count": 65,
     "metadata": {},
     "output_type": "execute_result"
    }
   ],
   "source": [
    "#Bayseian Kriging\n",
    "arcpy.ga.CrossValidation(\"Bayesian_Kriging_stats\", savepath + r\"\\bayesian_kriging_crossval\")"
   ]
  },
  {
   "cell_type": "code",
   "execution_count": 66,
   "metadata": {},
   "outputs": [
    {
     "data": {
      "text/html": [
       "<div class='gpresult'><h2>Messages</h2><div id='messages' data-messages='[\"Start Time: Wednesday, April 12, 2023 8:03:36 PM\",\"Count = 1800\",\"Mean error = 0.02484751550093869\",\"Root mean square = 1.2748387583348104\",\"Average standard = NaN\",\"Mean standardized = NaN\",\"Root mean square standardized = NaN\",\"Percent in 90% Interval = NaN\",\"Percent in 95% Interval = NaN\",\"Average CRPS = NaN\",\"Succeeded at Wednesday, April 12, 2023 8:03:36 PM (Elapsed Time: 0.12 seconds)\"]' data-show='true'><div id = 'default' /></div></div>"
      ],
      "text/plain": [
       "<Result 'c:\\\\Users\\\\MrJDF\\\\Desktop\\\\QualityAirQualityCities\\\\arcpy\\\\interpolation\\\\..\\\\..\\\\data\\\\lcl_polynomial_crossval.shp'>"
      ]
     },
     "execution_count": 66,
     "metadata": {},
     "output_type": "execute_result"
    }
   ],
   "source": [
    "# local polynomial kernel\n",
    "arcpy.ga.CrossValidation(\"lcl_polynomial_stats\", savepath + r\"\\lcl_polynomial_crossval\")"
   ]
  },
  {
   "cell_type": "code",
   "execution_count": 67,
   "metadata": {},
   "outputs": [
    {
     "data": {
      "text/html": [
       "<div class='gpresult'><h2>Messages</h2><div id='messages' data-messages='[\"Start Time: Wednesday, April 12, 2023 8:03:43 PM\",\"Calculating lcl_polynomial_stats\",\"Calculating idw_stats\",\"Calculating bayesian_kriging_stats\",\" \\n\",\"-----------------------------\",\"RANK | NAME\",\"-----------------------------\",\"\\n\",\"1    | lcl_polynomial_stats\",\"\\n\",\"2    | bayesian_kriging_stats\",\"\\n\",\"3    | idw_stats\",\"-----------------------------\",\"Succeeded at Wednesday, April 12, 2023 8:03:46 PM (Elapsed Time: 2.88 seconds)\"]' data-show='true'><div id = 'default' /></div></div>"
      ],
      "text/plain": [
       "<Result 'c:\\\\Users\\\\MrJDF\\\\Desktop\\\\QualityAirQualityCities\\\\arcpy\\\\interpolation\\\\..\\\\..\\\\data\\\\CompareGeostatisticalLayers1'>"
      ]
     },
     "execution_count": 67,
     "metadata": {},
     "output_type": "execute_result"
    }
   ],
   "source": [
    "# Compare results, output comparison table, table with best fit model by percent accuracy\n",
    "# outputs a geostatistical comparison in the arc project\n",
    "arcpy.ga.CompareGeostatisticalLayers(\"lcl_polynomial_stats;idw_stats;bayesian_kriging_stats\", savepath + r\"\\CompareGeostatisticalLayers1\", \"BestInterpByComparrison\", \"SINGLE\", \"ACCURACY\", \"ACCURACY PERCENT #\", \"ACCURACY 1\", None)\n",
    "\n",
    "#TODO visualize this and grab the table!"
   ]
  },
  {
   "attachments": {},
   "cell_type": "markdown",
   "metadata": {},
   "source": [
    "\n",
    "## Find and store differences between ground truth and model predictions in a point layer\n",
    "- visualize this data in arc online\n",
    "- save to proj GDB and postgres\n"
   ]
  },
  {
   "cell_type": "markdown",
   "metadata": {},
   "source": [
    "### Compute RMSE\n",
    "- use the stats layers output from earlier"
   ]
  },
  {
   "cell_type": "code",
   "execution_count": 68,
   "metadata": {},
   "outputs": [
    {
     "name": "stdout",
     "output_type": "stream",
     "text": [
      "RMSE:  1.3061990821193148\n"
     ]
    }
   ],
   "source": [
    "# Empirical Bayesian Kriging RMSE\n",
    "\n",
    "#create numpy array from featureclass for calculations\n",
    "\n",
    "input = savepath + r\"\\bayesian_kriging_crossval.shp\"\n",
    "array = arcpy.da.FeatureClassToNumPyArray(input, (\"FID\",\"Error\"))\n",
    "\n",
    "#change  array to df\n",
    "df = pd.DataFrame(array, columns=[\"FID\", \"Error\"])\n",
    "\n",
    "# Calculate squared error, add as new column\n",
    "df['squared_error'] = df['Error'] ** 2\n",
    "\n",
    "# Calculate RMSE\n",
    "krig_rmse = numpy.sqrt(df['squared_error'].mean())\n",
    "\n",
    "# Display RMSE\n",
    "print(\"RMSE: \", krig_rmse)"
   ]
  },
  {
   "cell_type": "code",
   "execution_count": 69,
   "metadata": {},
   "outputs": [
    {
     "name": "stdout",
     "output_type": "stream",
     "text": [
      "RMSE:  1.3775090571065738\n"
     ]
    }
   ],
   "source": [
    "#IDW RMSE\n",
    "\n",
    "#create numpy array from featureclass for calculations\n",
    "\n",
    "input = savepath + r\"\\idw_crossval.shp\"\n",
    "array = arcpy.da.FeatureClassToNumPyArray(input, (\"FID\",\"Error\"))\n",
    "\n",
    "#change  array to df\n",
    "df = pd.DataFrame(array, columns=[\"FID\", \"Error\"])\n",
    "\n",
    "# Calculate squared error, add as new column\n",
    "df['squared_error'] = df['Error'] ** 2\n",
    "\n",
    "# Calculate RMSE\n",
    "idw_rmse = numpy.sqrt(df['squared_error'].mean())\n",
    "\n",
    "# Display RMSE\n",
    "print(\"RMSE: \", idw_rmse)"
   ]
  },
  {
   "attachments": {},
   "cell_type": "markdown",
   "metadata": {},
   "source": [
    "### Save the interpolated maps to my GDB and PostGIS DB\n",
    "- convert to point layer and use psycopg2 to make new tables in sql remote db\n",
    "- save raster to gdb should be basic"
   ]
  },
  {
   "cell_type": "code",
   "execution_count": 70,
   "metadata": {},
   "outputs": [
    {
     "data": {
      "text/html": [
       "<div class='gpresult'><h2>Messages</h2><div id='messages' data-messages='[\"Start Time: Wednesday, April 12, 2023 8:08:01 PM\",\"Building Pyramids...\",\"Succeeded at Wednesday, April 12, 2023 8:08:04 PM (Elapsed Time: 2.31 seconds)\"]' data-show='true'><div id = 'default' /></div></div>"
      ],
      "text/plain": [
       "<Result 'c:\\\\Users\\\\MrJDF\\\\Desktop\\\\QualityAirQualityCities\\\\arcpy\\\\interpolation\\\\..\\\\..\\\\data\\\\QAQC.gdb\\\\elev_bayes_kriging_downsmpl'>"
      ]
     },
     "execution_count": 70,
     "metadata": {},
     "output_type": "execute_result"
    }
   ],
   "source": [
    "# Downsample the best fit interpolated raster layerfor ease of computation and storage\n",
    "\n",
    "# Set the input raster file path\n",
    "input_raster = r\"bayesian_kriging_lab03\"\n",
    "\n",
    "# Set the output raster file path\n",
    "output_raster = \"elev_bayes_kriging_downsmpl\"\n",
    "\n",
    "# Get the cell size of the input raster\n",
    "desc = arcpy.Describe(input_raster)\n",
    "cell_size = desc.meanCellWidth # or desc.meanCellHeight, depending on your analysis\n",
    "\n",
    "# Set an appropriate cell size for the output raster\n",
    "output_cell_size = cell_size * 10 # increase the cell size by a factor of 10\n",
    "\n",
    "# Resample the input raster using bilinear interpolation\n",
    "arcpy.Resample_management(input_raster, output_raster, output_cell_size, \"BILINEAR\")\n"
   ]
  },
  {
   "cell_type": "code",
   "execution_count": 71,
   "metadata": {},
   "outputs": [],
   "source": [
    "# convert best fit interpolation raster to point layer\n",
    "\n",
    "#arcpy.conversion.RasterToPoint(\"source.img\", \"c:/output/source.shp\", \"VALUE\")\n",
    "elevEmpBayesKrg = arcpy.conversion.RasterToPoint(\"elev_bayes_kriging_downsmpl\", savepath + r\"\\elev_bayesian_kriging\", \"VALUE\")\n",
    "\n",
    "## Only need to save the best fit layer out, so don't need these\n",
    "#  \n",
    "#idw = arcpy.conversion.RasterToPoint(\"idw_lab03\", savepath + r\"\\idwPts\", \"VALUE\")\n",
    "#lclPolyKernel = arcpy.conversion.RasterToPoint(\"lcl_polynomial_lab03\", savepath + r\"\\lclPolyPts\", \"VALUE\")\n"
   ]
  },
  {
   "cell_type": "code",
   "execution_count": 72,
   "metadata": {},
   "outputs": [
    {
     "name": "stdout",
     "output_type": "stream",
     "text": [
      "RMSE:  1.2748387583349785\n"
     ]
    }
   ],
   "source": [
    "#Local Polynomial Kernel RMSE\n",
    "\n",
    "#create numpy array from featureclass for calculations\n",
    "\n",
    "input = savepath + r\"\\lcl_polynomial_crossval.shp\"\n",
    "array = arcpy.da.FeatureClassToNumPyArray(input, (\"FID\",\"Error\"))\n",
    "\n",
    "#change  array to df\n",
    "df = pd.DataFrame(array, columns=[\"FID\", \"Error\"])\n",
    "\n",
    "# Calculate squared error, add as new column\n",
    "df['squared_error'] = df['Error'] ** 2\n",
    "\n",
    "# Calculate RMSE\n",
    "lp_rmse = numpy.sqrt(df['squared_error'].mean())\n",
    "\n",
    "# Display RMSE\n",
    "print(\"RMSE: \", lp_rmse)"
   ]
  },
  {
   "cell_type": "code",
   "execution_count": 73,
   "metadata": {},
   "outputs": [
    {
     "data": {
      "text/html": [
       "<div>\n",
       "<style scoped>\n",
       "    .dataframe tbody tr th:only-of-type {\n",
       "        vertical-align: middle;\n",
       "    }\n",
       "\n",
       "    .dataframe tbody tr th {\n",
       "        vertical-align: top;\n",
       "    }\n",
       "\n",
       "    .dataframe thead th {\n",
       "        text-align: right;\n",
       "    }\n",
       "</style>\n",
       "<table border=\"1\" class=\"dataframe\">\n",
       "  <thead>\n",
       "    <tr style=\"text-align: right;\">\n",
       "      <th></th>\n",
       "      <th>method</th>\n",
       "      <th>RMSE</th>\n",
       "    </tr>\n",
       "  </thead>\n",
       "  <tbody>\n",
       "    <tr>\n",
       "      <th>0</th>\n",
       "      <td>kriging</td>\n",
       "      <td>1.306199</td>\n",
       "    </tr>\n",
       "    <tr>\n",
       "      <th>1</th>\n",
       "      <td>idw</td>\n",
       "      <td>1.377509</td>\n",
       "    </tr>\n",
       "    <tr>\n",
       "      <th>2</th>\n",
       "      <td>local_polynomial</td>\n",
       "      <td>1.274839</td>\n",
       "    </tr>\n",
       "  </tbody>\n",
       "</table>\n",
       "</div>"
      ],
      "text/plain": [
       "             method      RMSE\n",
       "0           kriging  1.306199\n",
       "1               idw  1.377509\n",
       "2  local_polynomial  1.274839"
      ]
     },
     "execution_count": 73,
     "metadata": {},
     "output_type": "execute_result"
    }
   ],
   "source": [
    "#bring the RMSE values together in a pd df to compare\n",
    "\n",
    "elev_compare = pd.DataFrame({'method':['kriging', 'idw', 'local_polynomial'],\n",
    "                            'RMSE':[krig_rmse, idw_rmse, lp_rmse]})\n",
    "elev_compare\n"
   ]
  },
  {
   "cell_type": "code",
   "execution_count": 74,
   "metadata": {},
   "outputs": [
    {
     "name": "stdout",
     "output_type": "stream",
     "text": [
      "Method with the lowest RMSE value is local_polynomial\n"
     ]
    }
   ],
   "source": [
    "# Get index of row with lowest value of rmse\n",
    "min_index = elev_compare['RMSE'].idxmin()\n",
    "\n",
    "# Get method with lowest rmse\n",
    "min_id = elev_compare.loc[min_index, 'method']\n",
    "\n",
    "print(\"Method with the lowest RMSE value is\", min_id)"
   ]
  },
  {
   "attachments": {},
   "cell_type": "markdown",
   "metadata": {},
   "source": [
    "## save data to postgres"
   ]
  },
  {
   "cell_type": "code",
   "execution_count": 75,
   "metadata": {},
   "outputs": [
    {
     "name": "stdout",
     "output_type": "stream",
     "text": [
      "connected\n"
     ]
    }
   ],
   "source": [
    "# Get credentials\n",
    "\n",
    "cred_pth = os.path.join(os.getcwd(), '..', '..', 'database', 'db_credentials.txt')\n",
    "\n",
    "with open(cred_pth, 'r') as f:\n",
    "    \n",
    "    creds = f.readlines()[0].split(', ')\n",
    "\n",
    "# Connect to PostGIS Database\n",
    "\n",
    "pg_connection_dict = dict(zip(['dbname', 'user', 'password', 'port', 'host'], creds))\n",
    "\n",
    "try:\n",
    "    conn = psycopg2.connect(**pg_connection_dict)\n",
    "    print(\"connected\")\n",
    "except:\n",
    "    print(\"connection failed\")"
   ]
  },
  {
   "cell_type": "code",
   "execution_count": 76,
   "metadata": {},
   "outputs": [
    {
     "name": "stdout",
     "output_type": "stream",
     "text": [
      "Table created.\n",
      "Operation complete.\n"
     ]
    }
   ],
   "source": [
    "# Create and fill kriging results table in postgres db\n",
    "\n",
    "points = os.path.join(savepath, \"elev_bayesian_kriging.shp\")\n",
    "fields_points = ['pointid', 'grid_code', \"SHAPE@WKT\"]\n",
    "\n",
    "# Create SQL table\n",
    "cursor = conn.cursor()\n",
    "cursor.execute(\"DROP TABLE IF EXISTS elev_kriging\")\n",
    "cursor.execute(\"\"\"\n",
    "    CREATE TABLE elev_kriging (\n",
    "        id SERIAL,\n",
    "        pointid INT,\n",
    "        grid_code FLOAT,\n",
    "        geometry geometry\n",
    "        )\n",
    "\"\"\")\n",
    "conn.commit()\n",
    "\n",
    "print(\"Table created.\")\n",
    "\n",
    "# Populate PostGIS\n",
    "with arcpy.da.SearchCursor(points, fields_points) as da_cursor:\n",
    "    for row in da_cursor:\n",
    "        wkt = row[2]\n",
    "        cursor.execute(\"INSERT INTO elev_kriging (pointid, grid_code, geometry) VALUES (%s, %s, ST_GeomFromText(%s, 4326))\", (row[0], row[1], wkt))\n",
    "        conn.commit()\n",
    "\n",
    "\n",
    "print(\"Operation complete.\")\n"
   ]
  },
  {
   "cell_type": "code",
   "execution_count": 77,
   "metadata": {},
   "outputs": [
    {
     "name": "stdout",
     "output_type": "stream",
     "text": [
      "Table created.\n",
      "Operation complete. Please close connection by running the next cell.\n"
     ]
    }
   ],
   "source": [
    "# Create and fill kriging error table in postgres db\n",
    "\n",
    "points = os.path.join(savepath, \"bayesian_kriging_crossval.shp\")\n",
    "fields_points = ['FID','Error', \"SHAPE@WKT\"]\n",
    "\n",
    "# Create SQL table\n",
    "cursor = conn.cursor()\n",
    "cursor.execute(\"DROP TABLE IF EXISTS elev_kriging_errors\")\n",
    "cursor.execute(\"\"\"\n",
    "    CREATE TABLE elev_kriging_errors (\n",
    "        id SERIAL,\n",
    "        fid INT,\n",
    "        error DOUBLE PRECISION,\n",
    "        geometry geometry\n",
    "        )\n",
    "\"\"\")\n",
    "conn.commit()\n",
    "\n",
    "print(\"Table created.\")\n",
    "\n",
    "# Populate PostGIS\n",
    "with arcpy.da.SearchCursor(points, fields_points) as da_cursor:\n",
    "    for row in da_cursor:\n",
    "        wkt = row[2]\n",
    "        cursor.execute(\"INSERT INTO elev_kriging_errors (fid, error, geometry) VALUES (%s, %s, ST_GeomFromText(%s, 4326))\", (row[0], row[1], wkt))\n",
    "        conn.commit()\n",
    "\n",
    "print(\"Operation complete. Please close connection by running the next cell.\")"
   ]
  },
  {
   "cell_type": "code",
   "execution_count": 78,
   "metadata": {},
   "outputs": [
    {
     "data": {
      "text/plain": [
       "<function connection.close>"
      ]
     },
     "execution_count": 78,
     "metadata": {},
     "output_type": "execute_result"
    }
   ],
   "source": [
    "conn.close"
   ]
  }
 ],
 "metadata": {
  "kernelspec": {
   "display_name": "Python 3",
   "language": "python",
   "name": "python3"
  },
  "language_info": {
   "codemirror_mode": {
    "name": "ipython",
    "version": 3
   },
   "file_extension": ".py",
   "mimetype": "text/x-python",
   "name": "python",
   "nbconvert_exporter": "python",
   "pygments_lexer": "ipython3",
   "version": "3.9.11"
  },
  "orig_nbformat": 4,
  "vscode": {
   "interpreter": {
    "hash": "8aaf0cbf6ca12b9026f66bc3bca7f21734839ea07af9c2d4802583a78f11ee0f"
   }
  }
 },
 "nbformat": 4,
 "nbformat_minor": 2
}
