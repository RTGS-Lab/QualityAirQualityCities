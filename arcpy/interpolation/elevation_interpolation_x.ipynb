{
 "cells": [
  {
   "attachments": {},
   "cell_type": "markdown",
   "metadata": {},
   "source": [
    "# Elevation Interpolation"
   ]
  },
  {
   "cell_type": "code",
   "execution_count": 1,
   "metadata": {},
   "outputs": [],
   "source": [
    "# import libraries\n",
    "import arcpy\n",
    "from arcpy import env # to set working environmnet\n",
    "import pandas as pd\n",
    "import psycopg2\n",
    "import os # file path managment"
   ]
  },
  {
   "attachments": {},
   "cell_type": "markdown",
   "metadata": {},
   "source": [
    "### Set up environmnet"
   ]
  },
  {
   "cell_type": "code",
   "execution_count": 10,
   "metadata": {},
   "outputs": [
    {
     "data": {
      "text/plain": [
       "'c:\\\\Users\\\\MrJDF\\\\Desktop\\\\QualityAirQualityCities\\\\arcpy\\\\interpolation\\\\..\\\\..\\\\data\\\\QAQC.gdb'"
      ]
     },
     "execution_count": 10,
     "metadata": {},
     "output_type": "execute_result"
    }
   ],
   "source": [
    "# Get CWD\n",
    "\n",
    "cwd = _dh[0] #this is a universal variable that calls the directory where the .ipynb file is located\n",
    "\n",
    "\n",
    "# Link it to the QAQC.gdb and make it the workspace\n",
    "\n",
    "arcpy.env.workspace = os.path.join(cwd, '..', '..', 'data', 'QAQC.gdb')\n",
    "\n",
    "# allow files to be overwritten\n",
    "arcpy.env.overwriteOutput = True \n",
    "#test\n",
    "arcpy.env.workspace"
   ]
  },
  {
   "attachments": {},
   "cell_type": "markdown",
   "metadata": {},
   "source": [
    "## Query elevation data from database\n",
    "- use SQL\n",
    "- may need to convert raster to point data\n",
    "    - see lab 02\n",
    "- resample to avoid crashing the computer\n",
    "--(may already be small enough)"
   ]
  },
  {
   "cell_type": "code",
   "execution_count": 5,
   "metadata": {},
   "outputs": [
    {
     "data": {
      "text/html": [
       "<div class='gpresult'><h2>Messages</h2><div id='messages' data-messages='[\"Start Time: Tuesday, April 11, 2023 7:57:51 PM\",\"Succeeded at Tuesday, April 11, 2023 7:57:52 PM (Elapsed Time: 0.93 seconds)\"]' data-show='true'><div id = 'default' /></div></div>"
      ],
      "text/plain": [
       "<Result 'elevation_pts'>"
      ]
     },
     "execution_count": 5,
     "metadata": {},
     "output_type": "execute_result"
    }
   ],
   "source": [
    "# set save filepath\n",
    "savepath = os.path.join(cwd, '..','..','data')\n",
    "#arcpy.management.MakeQueryLayer(savepath + \"\\34.123.228.238.sde\", \"elevation_pts\", \"SELECT * FROM elevation_points\", \"grid_code\", '', \"4326\", 'GEOGCS[\"GCS_WGS_1984\",DATUM[\"D_WGS_1984\",SPHEROID[\"WGS_1984\",6378137.0,298.257223563]],PRIMEM[\"Greenwich\",0.0],UNIT[\"Degree\",0.0174532925199433]];-400 -400 1000000000;-100000 10000;-100000 10000;8.98315284119521E-09;0.001;0.001;IsHighPrecision', \"DEFINE_SPATIAL_PROPERTIES\", \"DO_NOT_INCLUDE_M_VALUES\", \"DO_NOT_INCLUDE_Z_VALUES\", \"0 0 0 0\")\n",
    "\n",
    "arcpy.management.MakeQueryLayer(r\"C:\\Users\\MrJDF\\Desktop\\arc2_lab2\\mpls_prplair_qaqc\\34.123.228.238.sde\", \"elevation_pts\", \"SELECT * FROM elevation_points\", \"grid_code\", '', \"4326\", 'GEOGCS[\"GCS_WGS_1984\",DATUM[\"D_WGS_1984\",SPHEROID[\"WGS_1984\",6378137.0,298.257223563]],PRIMEM[\"Greenwich\",0.0],UNIT[\"Degree\",0.0174532925199433]];-400 -400 1000000000;-100000 10000;-100000 10000;8.98315284119521E-09;0.001;0.001;IsHighPrecision', \"DEFINE_SPATIAL_PROPERTIES\", \"DO_NOT_INCLUDE_M_VALUES\", \"DO_NOT_INCLUDE_Z_VALUES\", \"0 0 0 0\")\n",
    "\n",
    "\n",
    "# Copy to GDB does not yet work as expected. Use the layer above as is.\n",
    "#arcpy.management.CopyFeatures(\"elevtion_pts\", r\"C:\\Users\\MrJDF\\Desktop\\arc2_lab2\\mpls_prplair_qaqc\\elevation.shp\", '', None, None, None)"
   ]
  },
  {
   "cell_type": "code",
   "execution_count": 8,
   "metadata": {},
   "outputs": [
    {
     "data": {
      "text/html": [
       "<div class='gpresult'><h2>Messages</h2><div id='messages' data-messages='[\"Start Time: Tuesday, April 11, 2023 8:03:46 PM\",\"Succeeded at Tuesday, April 11, 2023 8:03:47 PM (Elapsed Time: 1.04 seconds)\"]' data-show='true'><div id = 'default' /></div></div>"
      ],
      "text/plain": [
       "<Result 'c:\\\\Users\\\\MrJDF\\\\Desktop\\\\QualityAirQualityCities\\\\arcpy\\\\interpolation\\\\..\\\\..\\\\data\\\\elevation_pts_ExportFeatures.shp'>"
      ]
     },
     "execution_count": 8,
     "metadata": {},
     "output_type": "execute_result"
    }
   ],
   "source": [
    "# Export Query Layer (save to local GDB)\n",
    "\n",
    "# set save filepath\n",
    "savepath = os.path.join(cwd, '..','..','data')\n",
    "\n",
    "arcpy.conversion.ExportFeatures(\"elevation_pts\", savepath + r\"\\elevation_pts_ExportFeatures\", '', \"NOT_USE_ALIAS\", 'pointid \"pointid\" true true false 4 Long 0 10,First,#,elevation_pts,pointid,-1,-1;grid_code \"grid_code\" true true false 4 Long 0 10,First,#,elevation_pts,grid_code,-1,-1', None)\n",
    "\n",
    "#arcpy.conversion.ExportFeatures(\"elevation_pts\", r\"C:\\Users\\MrJDF\\Desktop\\arc2_lab2\\mpls_prplair_qaqc\\mpls_prplair_qaqc.gdb\\elevation_pts_ExportFeatures\", '', \"NOT_USE_ALIAS\", 'pointid \"pointid\" true true false 4 Long 0 10,First,#,elevation_pts,pointid,-1,-1;grid_code \"grid_code\" true true false 4 Long 0 10,First,#,elevation_pts,grid_code,-1,-1', None)"
   ]
  },
  {
   "cell_type": "code",
   "execution_count": 9,
   "metadata": {},
   "outputs": [],
   "source": [
    "# set variable to local layer file\n",
    "\n",
    "elevation_pts = savepath + r\"\\elevation_pts_ExportFeatures\"\n",
    "\n",
    "#elevation_pts = r\"C:\\Users\\MrJDF\\Desktop\\arc2_lab2\\mpls_prplair_qaqc\\mpls_prplair_qaqc.gdb\\elevation_pts_ExportFeatures\""
   ]
  },
  {
   "attachments": {},
   "cell_type": "markdown",
   "metadata": {},
   "source": [
    "### Sample the dataset\n",
    "- define appropriate sample size (with proof)\n",
    "    - This is done in lab 2 where I downsample the 1m raster to 100m, which uses bilinear interpolation (nearest neighbor), then convert those rasters to point data, selecting the mean value of rasters within the point conversion grid.\n",
    "    - might need to downsample again for size, but this is running well now."
   ]
  },
  {
   "attachments": {},
   "cell_type": "markdown",
   "metadata": {},
   "source": [
    "### Run 3 different interpolation algorithms, save to local gdb\n",
    "- IDW\n",
    "- Empirical Bayesian Kriging\n",
    "- Local Polynomial KDE"
   ]
  },
  {
   "cell_type": "code",
   "execution_count": 12,
   "metadata": {},
   "outputs": [],
   "source": [
    "# IDW\n",
    "\n",
    "#elevation_pts = r\"C:\\Users\\MrJDF\\Desktop\\arc2_lab2\\mpls_prplair_qaqc\\mpls_prplair_qaqc.gdb\\elevation_pts_ExportFeatures\"\n",
    "\n",
    "arcpy.ga.IDW(elevation_pts, \"grid_code\", \"idw_stats\", r\"idw_lab03\", 0.000124525892000065, 2, \"NBRTYPE=Standard S_MAJOR=1.76434719213634E-02 S_MINOR=1.76434719213634E-02 ANGLE=0 NBR_MAX=15 NBR_MIN=10 SECTOR_TYPE=ONE_SECTOR\", None)\n",
    "\n",
    "#arcpy.ga.IDW(elevation_pts, \"grid_code\", \"idw_stats\", r\"C:\\Users\\MrJDF\\Desktop\\arc2_lab2\\mpls_prplair_qaqc\\mpls_prplair_qaqc.gdb\\idw_lab03\", 0.000124525892000065, 2, \"NBRTYPE=Standard S_MAJOR=1.76434719213634E-02 S_MINOR=1.76434719213634E-02 ANGLE=0 NBR_MAX=15 NBR_MIN=10 SECTOR_TYPE=ONE_SECTOR\", None)\n",
    "\n",
    "\n",
    "idw_stats = \"idw_stats\"\n",
    "\n"
   ]
  },
  {
   "cell_type": "code",
   "execution_count": 13,
   "metadata": {},
   "outputs": [],
   "source": [
    "# Empirical Bayesian Kriging\n",
    "arcpy.ga.EmpiricalBayesianKriging(elevation_pts, \"grid_code\", \"Bayesian_Kriging_stats\", r\"Bayesian_Kriging_lab03\", 0.000124525892000065, \"NONE\", 100, 1, 100, \"NBRTYPE=StandardCircular RADIUS=1.76434719213634E-02 ANGLE=0 NBR_MAX=15 NBR_MIN=10 SECTOR_TYPE=ONE_SECTOR\", \"PREDICTION\", 0.5, \"EXCEED\", None, \"POWER\")\n",
    "bayesian_kriging_stats = \"Bayseian_kriging_stats\""
   ]
  },
  {
   "cell_type": "code",
   "execution_count": 14,
   "metadata": {},
   "outputs": [],
   "source": [
    "# local polynomial kernel\n",
    "arcpy.ga.LocalPolynomialInterpolation(elevation_pts, \"grid_code\", \"lcl_polynomial_stats\", r\"lcl_polynomial_lab03\", 0.000124525892000065, 1, \"NBRTYPE=Standard S_MAJOR=1.76434719213634E-02 S_MINOR=1.76434719213634E-02 ANGLE=0 NBR_MAX=15 NBR_MIN=10 SECTOR_TYPE=ONE_SECTOR\", \"EXPONENTIAL\", None, \"NO_USE_CONDITION_NUMBER\", None, None, \"PREDICTION\")\n",
    "lcl_poly_stats = \"lcl_polynomial_stats\"\n"
   ]
  },
  {
   "attachments": {},
   "cell_type": "markdown",
   "metadata": {},
   "source": [
    "### Save the interpolated maps to my GDB and PostGIS DB\n",
    "- convert to point layer and use psycopg2 to make new tables in sql remote db\n",
    "- save raster to gdb should be basic"
   ]
  },
  {
   "cell_type": "code",
   "execution_count": 20,
   "metadata": {},
   "outputs": [],
   "source": [
    "# convert rasters to point layers\n",
    "\n",
    "#arcpy.conversion.RasterToPoint(\"source.img\", \"c:/output/source.shp\", \"VALUE\")\n",
    "empBayesKrg = arcpy.conversion.RasterToPoint(\"Bayesian_Kriging_lab03\", savepath + r\"\\BayesianKrgPts\", \"VALUE\")\n",
    "idw = arcpy.conversion.RasterToPoint(\"idw_lab03\", savepath + r\"\\idwPts\", \"VALUE\")\n",
    "lclPolyKernel = arcpy.conversion.RasterToPoint(\"lcl_polynomial_lab03\", savepath + r\"\\lclPolyPts\", \"VALUE\")\n"
   ]
  },
  {
   "cell_type": "code",
   "execution_count": null,
   "metadata": {},
   "outputs": [],
   "source": [
    "# create table and upload data to sql DB"
   ]
  },
  {
   "attachments": {},
   "cell_type": "markdown",
   "metadata": {},
   "source": [
    "## Evaluate the interpolated estimates of each model compared to the true DEM\n",
    "- leave one out CROSS VALIDATION in geoprocessing arcpy\n",
    "- store this accuracy assessment as a table in postgres\n",
    "- and in home gdb\n",
    "\n",
    "## Find and store differences between ground truth and model predictions in a point layer\n",
    "- visualize this like in Luke's slides\n",
    "- save to proj GDB and postgres\n",
    "- compute rmse?"
   ]
  },
  {
   "cell_type": "code",
   "execution_count": 16,
   "metadata": {},
   "outputs": [
    {
     "data": {
      "text/html": [
       "<div class='gpresult'><h2>Messages</h2><div id='messages' data-messages='[\"Start Time: Tuesday, April 11, 2023 8:22:44 PM\",\"Count = 1800\",\"Mean error = -0.017387198478440082\",\"Root mean square = 1.37750905710646\",\"Average standard = NaN\",\"Mean standardized = NaN\",\"Root mean square standardized = NaN\",\"Percent in 90% Interval = NaN\",\"Percent in 95% Interval = NaN\",\"Average CRPS = NaN\",\"Succeeded at Tuesday, April 11, 2023 8:22:45 PM (Elapsed Time: 0.32 seconds)\"]' data-show='true'><div id = 'default' /></div></div>"
      ],
      "text/plain": [
       "<Result 'c:\\\\Users\\\\MrJDF\\\\Desktop\\\\QualityAirQualityCities\\\\arcpy\\\\interpolation\\\\..\\\\..\\\\data\\\\idw_crossval.shp'>"
      ]
     },
     "execution_count": 16,
     "metadata": {},
     "output_type": "execute_result"
    }
   ],
   "source": [
    "# Cross Validation, outputs a point layer with stats including error for each point\n",
    "\n",
    "# idw\n",
    "arcpy.ga.CrossValidation(\"idw_stats\", savepath + r\"\\idw_crossval\")"
   ]
  },
  {
   "cell_type": "code",
   "execution_count": 17,
   "metadata": {},
   "outputs": [
    {
     "data": {
      "text/html": [
       "<div class='gpresult'><h2>Messages</h2><div id='messages' data-messages='[\"Start Time: Tuesday, April 11, 2023 8:23:36 PM\",\"\\r\\nWarning(s) for dataset: Length of the radius of the search circle = 1964.1 meters.\",\"Count = 1800\",\"Mean error = -0.007536897011306267\",\"Root mean square = 1.3061990821192986\",\"Average standard = 1.2788233202630472\",\"Mean standardized = -0.004272364037786368\",\"Root mean square standardized = 0.9565741226963111\",\"Percent in 90% Interval = 91.05555555555556\",\"Percent in 95% Interval = 94.77777777777777\",\"Average CRPS = 0.6242982485759477\",\"Succeeded at Tuesday, April 11, 2023 8:23:38 PM (Elapsed Time: 1.73 seconds)\"]' data-show='true'><div id = 'default' /></div></div>"
      ],
      "text/plain": [
       "<Result 'c:\\\\Users\\\\MrJDF\\\\Desktop\\\\QualityAirQualityCities\\\\arcpy\\\\interpolation\\\\..\\\\..\\\\data\\\\Bayesian_Kriging_crossval.shp'>"
      ]
     },
     "execution_count": 17,
     "metadata": {},
     "output_type": "execute_result"
    }
   ],
   "source": [
    "#Bayseian Kriging\n",
    "arcpy.ga.CrossValidation(\"Bayesian_Kriging_stats\", savepath + r\"\\Bayesian_Kriging_crossval\")"
   ]
  },
  {
   "cell_type": "code",
   "execution_count": 18,
   "metadata": {},
   "outputs": [
    {
     "data": {
      "text/html": [
       "<div class='gpresult'><h2>Messages</h2><div id='messages' data-messages='[\"Start Time: Tuesday, April 11, 2023 8:23:52 PM\",\"Count = 1800\",\"Mean error = 0.02484751550093869\",\"Root mean square = 1.2748387583348104\",\"Average standard = NaN\",\"Mean standardized = NaN\",\"Root mean square standardized = NaN\",\"Percent in 90% Interval = NaN\",\"Percent in 95% Interval = NaN\",\"Average CRPS = NaN\",\"Succeeded at Tuesday, April 11, 2023 8:23:52 PM (Elapsed Time: 0.22 seconds)\"]' data-show='true'><div id = 'default' /></div></div>"
      ],
      "text/plain": [
       "<Result 'c:\\\\Users\\\\MrJDF\\\\Desktop\\\\QualityAirQualityCities\\\\arcpy\\\\interpolation\\\\..\\\\..\\\\data\\\\lcl_polynomial_crossval.shp'>"
      ]
     },
     "execution_count": 18,
     "metadata": {},
     "output_type": "execute_result"
    }
   ],
   "source": [
    "# local polynomial kernel\n",
    "arcpy.ga.CrossValidation(\"lcl_polynomial_stats\", savepath + r\"\\lcl_polynomial_crossval\")"
   ]
  },
  {
   "cell_type": "code",
   "execution_count": 19,
   "metadata": {},
   "outputs": [
    {
     "data": {
      "text/html": [
       "<div class='gpresult'><h2>Messages</h2><div id='messages' data-messages='[\"Start Time: Tuesday, April 11, 2023 8:24:31 PM\",\"Calculating lcl_polynomial_stats\",\"Calculating idw_stats\",\"Calculating Bayesian_Kriging_stats\",\" \\n\",\"-----------------------------\",\"RANK | NAME\",\"-----------------------------\",\"\\n\",\"1    | lcl_polynomial_stats\",\"\\n\",\"2    | Bayesian_Kriging_stats\",\"\\n\",\"3    | idw_stats\",\"-----------------------------\",\"Succeeded at Tuesday, April 11, 2023 8:24:35 PM (Elapsed Time: 4.36 seconds)\"]' data-show='true'><div id = 'default' /></div></div>"
      ],
      "text/plain": [
       "<Result 'c:\\\\Users\\\\MrJDF\\\\Desktop\\\\QualityAirQualityCities\\\\arcpy\\\\interpolation\\\\..\\\\..\\\\data\\\\CompareGeostatisticalLayers1'>"
      ]
     },
     "execution_count": 19,
     "metadata": {},
     "output_type": "execute_result"
    }
   ],
   "source": [
    "# Compare results, output comparison table, table with best fit model by percent accuracy\n",
    "# outputs a geostatistical comparison in the arc project\n",
    "arcpy.ga.CompareGeostatisticalLayers(\"lcl_polynomial_stats;idw_stats;Bayesian_Kriging_stats\", savepath + r\"\\CompareGeostatisticalLayers1\", \"BestInterpByComparrison\", \"SINGLE\", \"ACCURACY\", \"ACCURACY PERCENT #\", \"ACCURACY 1\", None)"
   ]
  },
  {
   "attachments": {},
   "cell_type": "markdown",
   "metadata": {},
   "source": [
    "## save to postgres"
   ]
  },
  {
   "cell_type": "code",
   "execution_count": 27,
   "metadata": {},
   "outputs": [
    {
     "name": "stdout",
     "output_type": "stream",
     "text": [
      "connected\n"
     ]
    }
   ],
   "source": [
    "# Get credentials\n",
    "\n",
    "cred_pth = os.path.join(os.getcwd(), '..', '..', 'database', 'db_credentials.txt')\n",
    "\n",
    "with open(cred_pth, 'r') as f:\n",
    "    \n",
    "    creds = f.readlines()[0].split(', ')\n",
    "\n",
    "# Connect to PostGIS Database\n",
    "\n",
    "pg_connection_dict = dict(zip(['dbname', 'user', 'password', 'port', 'host'], creds))\n",
    "\n",
    "try:\n",
    "    conn = psycopg2.connect(**pg_connection_dict)\n",
    "    print(\"connected\")\n",
    "except:\n",
    "    print(\"connection failed\")"
   ]
  },
  {
   "cell_type": "code",
   "execution_count": null,
   "metadata": {},
   "outputs": [],
   "source": [
    "#TODO make this a function, pass a series of lists with the correct tabel credentials and table names \n",
    "#TODO clean up the file path mess, it's causing all your headaches\n",
    "\n",
    "# set save filepath\n",
    "savepath = os.path.join(cwd, '..','..','data')\n",
    "\n",
    "points = os.path.join(savepath, \"aoi_elev_4326_points.shp\")\n",
    "fields_points = ['pointid', 'grid_code', \"Shape@WKT\"]\n",
    "\n",
    "# Create SQL table\n",
    "cursor = conn.cursor()\n",
    "cursor.execute(\"DROP TABLE IF EXISTS elevation_points\")\n",
    "cursor.execute(\"\"\"\n",
    "    CREATE TABLE elevation_points (\n",
    "        id SERIAL,\n",
    "        pointid INT,\n",
    "        grid_code INT)\n",
    "\"\"\")\n",
    "\n",
    "cursor.execute(\"\"\"\n",
    "    SELECT AddGeometryColumn('elevation_points', 'geom', 4326, 'POINT', 2)\n",
    "\"\"\")\n",
    "\n",
    "# Populate PostGIS\n",
    "with arcpy.da.SearchCursor(points, fields_points) as da_cursor:\n",
    "    for row in da_cursor:\n",
    "        wkt = row[2]\n",
    "        cursor.execute(\"INSERT INTO elevation_points (pointid, grid_code, geom) VALUES (%s, %s, ST_GeomFromText(%s, 4326))\", (row[0], row[1], wkt))\n",
    "\n",
    "conn.commit()"
   ]
  }
 ],
 "metadata": {
  "kernelspec": {
   "display_name": "Python 3",
   "language": "python",
   "name": "python3"
  },
  "language_info": {
   "codemirror_mode": {
    "name": "ipython",
    "version": 3
   },
   "file_extension": ".py",
   "mimetype": "text/x-python",
   "name": "python",
   "nbconvert_exporter": "python",
   "pygments_lexer": "ipython3",
   "version": "3.9.11"
  },
  "orig_nbformat": 4,
  "vscode": {
   "interpreter": {
    "hash": "8aaf0cbf6ca12b9026f66bc3bca7f21734839ea07af9c2d4802583a78f11ee0f"
   }
  }
 },
 "nbformat": 4,
 "nbformat_minor": 2
}
