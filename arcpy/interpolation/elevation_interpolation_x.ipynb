{
 "cells": [
  {
   "attachments": {},
   "cell_type": "markdown",
   "metadata": {},
   "source": [
    "# Elevation Interpolation"
   ]
  },
  {
   "cell_type": "code",
   "execution_count": 4,
   "metadata": {},
   "outputs": [],
   "source": [
    "# import libraries\n",
    "import arcpy\n",
    "from arcpy import env # to set working environmnet\n",
    "import pandas as pd\n",
    "import psycopg2\n",
    "import os # file path managment"
   ]
  },
  {
   "attachments": {},
   "cell_type": "markdown",
   "metadata": {},
   "source": [
    "### Set up environmnet"
   ]
  },
  {
   "cell_type": "code",
   "execution_count": 6,
   "metadata": {},
   "outputs": [
    {
     "data": {
      "text/plain": [
       "'c:\\\\Users\\\\MrJDF\\\\Desktop\\\\QualityAirQualityCities\\\\arcpy\\\\interpolation\\\\..\\\\..\\\\data\\\\QAQC.gdb'"
      ]
     },
     "execution_count": 6,
     "metadata": {},
     "output_type": "execute_result"
    }
   ],
   "source": [
    "# Get CWD\n",
    "\n",
    "cwd = _dh[0] #this is a universal variable that calls the directory where the .ipynb file is located\n",
    "\n",
    "\n",
    "# Link it to the QAQC.gdb and make it the workspace\n",
    "\n",
    "arcpy.env.workspace = os.path.join(cwd, '..', '..', 'data', 'QAQC.gdb')\n",
    "\n",
    "# allow files to be overwritten\n",
    "arcpy.env.overwriteOutput = True \n",
    "#test\n",
    "arcpy.env.workspace"
   ]
  },
  {
   "attachments": {},
   "cell_type": "markdown",
   "metadata": {},
   "source": [
    "## Query elevation data from database\n",
    "- use SQL\n",
    "- may need to convert raster to point data\n",
    "    - see lab 02\n",
    "- resample to avoid crashing the computer\n",
    "--(may already be small enough)"
   ]
  },
  {
   "cell_type": "code",
   "execution_count": 5,
   "metadata": {},
   "outputs": [
    {
     "data": {
      "text/html": [
       "<div class='gpresult'><h2>Messages</h2><div id='messages' data-messages='[\"Start Time: Tuesday, April 11, 2023 7:57:51 PM\",\"Succeeded at Tuesday, April 11, 2023 7:57:52 PM (Elapsed Time: 0.93 seconds)\"]' data-show='true'><div id = 'default' /></div></div>"
      ],
      "text/plain": [
       "<Result 'elevation_pts'>"
      ]
     },
     "execution_count": 5,
     "metadata": {},
     "output_type": "execute_result"
    }
   ],
   "source": [
    "# set save filepath\n",
    "savepath = os.path.join(cwd, '..','..','data')\n",
    "#arcpy.management.MakeQueryLayer(savepath + \"\\34.123.228.238.sde\", \"elevation_pts\", \"SELECT * FROM elevation_points\", \"grid_code\", '', \"4326\", 'GEOGCS[\"GCS_WGS_1984\",DATUM[\"D_WGS_1984\",SPHEROID[\"WGS_1984\",6378137.0,298.257223563]],PRIMEM[\"Greenwich\",0.0],UNIT[\"Degree\",0.0174532925199433]];-400 -400 1000000000;-100000 10000;-100000 10000;8.98315284119521E-09;0.001;0.001;IsHighPrecision', \"DEFINE_SPATIAL_PROPERTIES\", \"DO_NOT_INCLUDE_M_VALUES\", \"DO_NOT_INCLUDE_Z_VALUES\", \"0 0 0 0\")\n",
    "\n",
    "arcpy.management.MakeQueryLayer(r\"C:\\Users\\MrJDF\\Desktop\\arc2_lab2\\mpls_prplair_qaqc\\34.123.228.238.sde\", \"elevation_pts\", \"SELECT * FROM elevation_points\", \"grid_code\", '', \"4326\", 'GEOGCS[\"GCS_WGS_1984\",DATUM[\"D_WGS_1984\",SPHEROID[\"WGS_1984\",6378137.0,298.257223563]],PRIMEM[\"Greenwich\",0.0],UNIT[\"Degree\",0.0174532925199433]];-400 -400 1000000000;-100000 10000;-100000 10000;8.98315284119521E-09;0.001;0.001;IsHighPrecision', \"DEFINE_SPATIAL_PROPERTIES\", \"DO_NOT_INCLUDE_M_VALUES\", \"DO_NOT_INCLUDE_Z_VALUES\", \"0 0 0 0\")\n",
    "\n",
    "\n",
    "# Copy to GDB does not yet work as expected. Use the layer above as is.\n",
    "#arcpy.management.CopyFeatures(\"elevtion_pts\", r\"C:\\Users\\MrJDF\\Desktop\\arc2_lab2\\mpls_prplair_qaqc\\elevation.shp\", '', None, None, None)"
   ]
  },
  {
   "cell_type": "code",
   "execution_count": 8,
   "metadata": {},
   "outputs": [
    {
     "data": {
      "text/html": [
       "<div class='gpresult'><h2>Messages</h2><div id='messages' data-messages='[\"Start Time: Tuesday, April 11, 2023 8:03:46 PM\",\"Succeeded at Tuesday, April 11, 2023 8:03:47 PM (Elapsed Time: 1.04 seconds)\"]' data-show='true'><div id = 'default' /></div></div>"
      ],
      "text/plain": [
       "<Result 'c:\\\\Users\\\\MrJDF\\\\Desktop\\\\QualityAirQualityCities\\\\arcpy\\\\interpolation\\\\..\\\\..\\\\data\\\\elevation_pts_ExportFeatures.shp'>"
      ]
     },
     "execution_count": 8,
     "metadata": {},
     "output_type": "execute_result"
    }
   ],
   "source": [
    "# Export Query Layer (save to local GDB)\n",
    "\n",
    "# set save filepath\n",
    "savepath = os.path.join(cwd, '..','..','data')\n",
    "\n",
    "arcpy.conversion.ExportFeatures(\"elevation_pts\", savepath + r\"\\elevation_pts_ExportFeatures\", '', \"NOT_USE_ALIAS\", 'pointid \"pointid\" true true false 4 Long 0 10,First,#,elevation_pts,pointid,-1,-1;grid_code \"grid_code\" true true false 4 Long 0 10,First,#,elevation_pts,grid_code,-1,-1', None)\n",
    "\n",
    "#arcpy.conversion.ExportFeatures(\"elevation_pts\", r\"C:\\Users\\MrJDF\\Desktop\\arc2_lab2\\mpls_prplair_qaqc\\mpls_prplair_qaqc.gdb\\elevation_pts_ExportFeatures\", '', \"NOT_USE_ALIAS\", 'pointid \"pointid\" true true false 4 Long 0 10,First,#,elevation_pts,pointid,-1,-1;grid_code \"grid_code\" true true false 4 Long 0 10,First,#,elevation_pts,grid_code,-1,-1', None)"
   ]
  },
  {
   "cell_type": "code",
   "execution_count": 9,
   "metadata": {},
   "outputs": [],
   "source": [
    "# set variable to local layer file\n",
    "\n",
    "elevation_pts = savepath + r\"\\elevation_pts_ExportFeatures\"\n",
    "\n",
    "#elevation_pts = r\"C:\\Users\\MrJDF\\Desktop\\arc2_lab2\\mpls_prplair_qaqc\\mpls_prplair_qaqc.gdb\\elevation_pts_ExportFeatures\""
   ]
  },
  {
   "attachments": {},
   "cell_type": "markdown",
   "metadata": {},
   "source": [
    "### Sample the dataset\n",
    "- define appropriate sample size (with proof)\n",
    "    - This is done in lab 2 where I downsample the 1m raster to 100m, which uses bilinear interpolation (nearest neighbor), then convert those rasters to point data, selecting the mean value of rasters within the point conversion grid.\n",
    "    - might need to downsample again for size, but this is running well now."
   ]
  },
  {
   "attachments": {},
   "cell_type": "markdown",
   "metadata": {},
   "source": [
    "### Run 3 different interpolation algorithms, save to local gdb\n",
    "- IDW\n",
    "- Empirical Bayesian Kriging\n",
    "- Local Polynomial KDE"
   ]
  },
  {
   "cell_type": "code",
   "execution_count": 12,
   "metadata": {},
   "outputs": [],
   "source": [
    "# IDW\n",
    "\n",
    "#elevation_pts = r\"C:\\Users\\MrJDF\\Desktop\\arc2_lab2\\mpls_prplair_qaqc\\mpls_prplair_qaqc.gdb\\elevation_pts_ExportFeatures\"\n",
    "\n",
    "arcpy.ga.IDW(elevation_pts, \"grid_code\", \"idw_stats\", r\"idw_lab03\", 0.000124525892000065, 2, \"NBRTYPE=Standard S_MAJOR=1.76434719213634E-02 S_MINOR=1.76434719213634E-02 ANGLE=0 NBR_MAX=15 NBR_MIN=10 SECTOR_TYPE=ONE_SECTOR\", None)\n",
    "\n",
    "#arcpy.ga.IDW(elevation_pts, \"grid_code\", \"idw_stats\", r\"C:\\Users\\MrJDF\\Desktop\\arc2_lab2\\mpls_prplair_qaqc\\mpls_prplair_qaqc.gdb\\idw_lab03\", 0.000124525892000065, 2, \"NBRTYPE=Standard S_MAJOR=1.76434719213634E-02 S_MINOR=1.76434719213634E-02 ANGLE=0 NBR_MAX=15 NBR_MIN=10 SECTOR_TYPE=ONE_SECTOR\", None)\n",
    "\n",
    "\n",
    "idw_stats = \"idw_stats\"\n",
    "\n"
   ]
  },
  {
   "cell_type": "code",
   "execution_count": 30,
   "metadata": {},
   "outputs": [],
   "source": [
    "# Empirical Bayesian Kriging\n",
    "arcpy.ga.EmpiricalBayesianKriging(elevation_pts, \"grid_code\", \"bayesian_kriging_stats\", r\"bayesian_kriging_lab03\", 0.000124525892000065, \"NONE\", 100, 1, 100, \"NBRTYPE=StandardCircular RADIUS=1.76434719213634E-02 ANGLE=0 NBR_MAX=15 NBR_MIN=10 SECTOR_TYPE=ONE_SECTOR\", \"PREDICTION\", 0.5, \"EXCEED\", None, \"POWER\")\n",
    "bayesian_kriging_stats = \"bayseian_kriging_stats\""
   ]
  },
  {
   "cell_type": "code",
   "execution_count": 14,
   "metadata": {},
   "outputs": [],
   "source": [
    "# local polynomial kernel\n",
    "arcpy.ga.LocalPolynomialInterpolation(elevation_pts, \"grid_code\", \"lcl_polynomial_stats\", r\"lcl_polynomial_lab03\", 0.000124525892000065, 1, \"NBRTYPE=Standard S_MAJOR=1.76434719213634E-02 S_MINOR=1.76434719213634E-02 ANGLE=0 NBR_MAX=15 NBR_MIN=10 SECTOR_TYPE=ONE_SECTOR\", \"EXPONENTIAL\", None, \"NO_USE_CONDITION_NUMBER\", None, None, \"PREDICTION\")\n",
    "lcl_poly_stats = \"lcl_polynomial_stats\"\n"
   ]
  },
  {
   "attachments": {},
   "cell_type": "markdown",
   "metadata": {},
   "source": [
    "### Save the interpolated maps to my GDB and PostGIS DB\n",
    "- convert to point layer and use psycopg2 to make new tables in sql remote db\n",
    "- save raster to gdb should be basic"
   ]
  },
  {
   "cell_type": "code",
   "execution_count": 31,
   "metadata": {},
   "outputs": [],
   "source": [
    "# convert rasters to point layers\n",
    "\n",
    "#arcpy.conversion.RasterToPoint(\"source.img\", \"c:/output/source.shp\", \"VALUE\")\n",
    "empBayesKrg = arcpy.conversion.RasterToPoint(\"bayesian_kriging_lab03\", savepath + r\"\\bayesianKrgPts\", \"VALUE\")\n",
    "idw = arcpy.conversion.RasterToPoint(\"idw_lab03\", savepath + r\"\\idwPts\", \"VALUE\")\n",
    "lclPolyKernel = arcpy.conversion.RasterToPoint(\"lcl_polynomial_lab03\", savepath + r\"\\lclPolyPts\", \"VALUE\")\n"
   ]
  },
  {
   "cell_type": "code",
   "execution_count": null,
   "metadata": {},
   "outputs": [],
   "source": [
    "# create table and upload data to sql DB"
   ]
  },
  {
   "attachments": {},
   "cell_type": "markdown",
   "metadata": {},
   "source": [
    "## Evaluate the interpolated estimates of each model compared to the true DEM\n",
    "- leave one out CROSS VALIDATION in geoprocessing arcpy\n",
    "- store this accuracy assessment as a table in postgres\n",
    "- and in home gdb\n",
    "\n",
    "## Find and store differences between ground truth and model predictions in a point layer\n",
    "- visualize this like in Luke's slides\n",
    "- save to proj GDB and postgres\n",
    "- compute rmse?"
   ]
  },
  {
   "cell_type": "code",
   "execution_count": 16,
   "metadata": {},
   "outputs": [
    {
     "data": {
      "text/html": [
       "<div class='gpresult'><h2>Messages</h2><div id='messages' data-messages='[\"Start Time: Tuesday, April 11, 2023 8:22:44 PM\",\"Count = 1800\",\"Mean error = -0.017387198478440082\",\"Root mean square = 1.37750905710646\",\"Average standard = NaN\",\"Mean standardized = NaN\",\"Root mean square standardized = NaN\",\"Percent in 90% Interval = NaN\",\"Percent in 95% Interval = NaN\",\"Average CRPS = NaN\",\"Succeeded at Tuesday, April 11, 2023 8:22:45 PM (Elapsed Time: 0.32 seconds)\"]' data-show='true'><div id = 'default' /></div></div>"
      ],
      "text/plain": [
       "<Result 'c:\\\\Users\\\\MrJDF\\\\Desktop\\\\QualityAirQualityCities\\\\arcpy\\\\interpolation\\\\..\\\\..\\\\data\\\\idw_crossval.shp'>"
      ]
     },
     "execution_count": 16,
     "metadata": {},
     "output_type": "execute_result"
    }
   ],
   "source": [
    "# Cross Validation, outputs a point layer with stats including error for each point\n",
    "\n",
    "# idw\n",
    "arcpy.ga.CrossValidation(\"idw_stats\", savepath + r\"\\idw_crossval\")"
   ]
  },
  {
   "cell_type": "code",
   "execution_count": 32,
   "metadata": {},
   "outputs": [
    {
     "data": {
      "text/html": [
       "<div class='gpresult'><h2>Messages</h2><div id='messages' data-messages='[\"Start Time: Tuesday, April 11, 2023 9:14:47 PM\",\"\\r\\nWarning(s) for dataset: Length of the radius of the search circle = 1964.1 meters.\",\"Count = 1800\",\"Mean error = -0.007536897011306267\",\"Root mean square = 1.3061990821192986\",\"Average standard = 1.2788233202630472\",\"Mean standardized = -0.004272364037786368\",\"Root mean square standardized = 0.9565741226963111\",\"Percent in 90% Interval = 91.05555555555556\",\"Percent in 95% Interval = 94.77777777777777\",\"Average CRPS = 0.6242982485759477\",\"Succeeded at Tuesday, April 11, 2023 9:14:48 PM (Elapsed Time: 1.70 seconds)\"]' data-show='true'><div id = 'default' /></div></div>"
      ],
      "text/plain": [
       "<Result 'c:\\\\Users\\\\MrJDF\\\\Desktop\\\\QualityAirQualityCities\\\\arcpy\\\\interpolation\\\\..\\\\..\\\\data\\\\bayesian_kriging_crossval.shp'>"
      ]
     },
     "execution_count": 32,
     "metadata": {},
     "output_type": "execute_result"
    }
   ],
   "source": [
    "#Bayseian Kriging\n",
    "arcpy.ga.CrossValidation(\"Bayesian_Kriging_stats\", savepath + r\"\\bayesian_kriging_crossval\")"
   ]
  },
  {
   "cell_type": "code",
   "execution_count": 18,
   "metadata": {},
   "outputs": [
    {
     "data": {
      "text/html": [
       "<div class='gpresult'><h2>Messages</h2><div id='messages' data-messages='[\"Start Time: Tuesday, April 11, 2023 8:23:52 PM\",\"Count = 1800\",\"Mean error = 0.02484751550093869\",\"Root mean square = 1.2748387583348104\",\"Average standard = NaN\",\"Mean standardized = NaN\",\"Root mean square standardized = NaN\",\"Percent in 90% Interval = NaN\",\"Percent in 95% Interval = NaN\",\"Average CRPS = NaN\",\"Succeeded at Tuesday, April 11, 2023 8:23:52 PM (Elapsed Time: 0.22 seconds)\"]' data-show='true'><div id = 'default' /></div></div>"
      ],
      "text/plain": [
       "<Result 'c:\\\\Users\\\\MrJDF\\\\Desktop\\\\QualityAirQualityCities\\\\arcpy\\\\interpolation\\\\..\\\\..\\\\data\\\\lcl_polynomial_crossval.shp'>"
      ]
     },
     "execution_count": 18,
     "metadata": {},
     "output_type": "execute_result"
    }
   ],
   "source": [
    "# local polynomial kernel\n",
    "arcpy.ga.CrossValidation(\"lcl_polynomial_stats\", savepath + r\"\\lcl_polynomial_crossval\")"
   ]
  },
  {
   "cell_type": "code",
   "execution_count": 33,
   "metadata": {},
   "outputs": [
    {
     "data": {
      "text/html": [
       "<div class='gpresult'><h2>Messages</h2><div id='messages' data-messages='[\"Start Time: Tuesday, April 11, 2023 9:14:58 PM\",\"Calculating lcl_polynomial_stats\",\"Calculating idw_stats\",\"Calculating Bayesian_Kriging_stats\",\" \\n\",\"-----------------------------\",\"RANK | NAME\",\"-----------------------------\",\"\\n\",\"1    | lcl_polynomial_stats\",\"\\n\",\"2    | Bayesian_Kriging_stats\",\"\\n\",\"3    | idw_stats\",\"-----------------------------\",\"Succeeded at Tuesday, April 11, 2023 9:15:03 PM (Elapsed Time: 4.61 seconds)\"]' data-show='true'><div id = 'default' /></div></div>"
      ],
      "text/plain": [
       "<Result 'c:\\\\Users\\\\MrJDF\\\\Desktop\\\\QualityAirQualityCities\\\\arcpy\\\\interpolation\\\\..\\\\..\\\\data\\\\CompareGeostatisticalLayers1'>"
      ]
     },
     "execution_count": 33,
     "metadata": {},
     "output_type": "execute_result"
    }
   ],
   "source": [
    "# Compare results, output comparison table, table with best fit model by percent accuracy\n",
    "# outputs a geostatistical comparison in the arc project\n",
    "arcpy.ga.CompareGeostatisticalLayers(\"lcl_polynomial_stats;idw_stats;bayesian_kriging_stats\", savepath + r\"\\CompareGeostatisticalLayers1\", \"BestInterpByComparrison\", \"SINGLE\", \"ACCURACY\", \"ACCURACY PERCENT #\", \"ACCURACY 1\", None)"
   ]
  },
  {
   "attachments": {},
   "cell_type": "markdown",
   "metadata": {},
   "source": [
    "## save to postgres"
   ]
  },
  {
   "cell_type": "code",
   "execution_count": 59,
   "metadata": {},
   "outputs": [
    {
     "name": "stdout",
     "output_type": "stream",
     "text": [
      "connected\n"
     ]
    }
   ],
   "source": [
    "# Get credentials\n",
    "\n",
    "cred_pth = os.path.join(os.getcwd(), '..', '..', 'database', 'db_credentials.txt')\n",
    "\n",
    "with open(cred_pth, 'r') as f:\n",
    "    \n",
    "    creds = f.readlines()[0].split(', ')\n",
    "\n",
    "# Connect to PostGIS Database\n",
    "\n",
    "pg_connection_dict = dict(zip(['dbname', 'user', 'password', 'port', 'host'], creds))\n",
    "\n",
    "try:\n",
    "    conn = psycopg2.connect(**pg_connection_dict)\n",
    "    print(\"connected\")\n",
    "except:\n",
    "    print(\"connection failed\")"
   ]
  },
  {
   "cell_type": "code",
   "execution_count": 34,
   "metadata": {},
   "outputs": [
    {
     "name": "stdout",
     "output_type": "stream",
     "text": [
      "lclPolyPts\n",
      "idwPts\n",
      "bayesianKrgPts\n"
     ]
    }
   ],
   "source": [
    "interp_points = [savepath + r\"\\lclPolyPts.shp\", savepath + r\"\\idwPts.shp\", savepath + r\"\\bayesianKrgPts.shp\"]\n",
    "interp_points\n",
    "\n",
    "for interp_point in interp_points:\n",
    "    \n",
    "    # get the filename without extension and remove the slash at the beginning\n",
    "    tablename = os.path.splitext(os.path.basename(interp_point))[0]\n",
    "\n",
    "    # print the filename\n",
    "    print(tablename)"
   ]
  },
  {
   "cell_type": "code",
   "execution_count": null,
   "metadata": {},
   "outputs": [],
   "source": [
    "interp_point_lyr = savepath(os.path.join(\"lclPolyPts.shp\"))\n",
    "interp_point_lyr"
   ]
  },
  {
   "cell_type": "code",
   "execution_count": 60,
   "metadata": {},
   "outputs": [
    {
     "ename": "KeyboardInterrupt",
     "evalue": "",
     "output_type": "error",
     "traceback": [
      "\u001b[1;31m---------------------------------------------------------------------------\u001b[0m",
      "\u001b[1;31mKeyboardInterrupt\u001b[0m                         Traceback (most recent call last)",
      "\u001b[1;32m<ipython-input-60-200e49f554c0>\u001b[0m in \u001b[0;36m<module>\u001b[1;34m\u001b[0m\n\u001b[0;32m     23\u001b[0m     \u001b[1;32mfor\u001b[0m \u001b[0mrow\u001b[0m \u001b[1;32min\u001b[0m \u001b[0mda_cursor\u001b[0m\u001b[1;33m:\u001b[0m\u001b[1;33m\u001b[0m\u001b[1;33m\u001b[0m\u001b[0m\n\u001b[0;32m     24\u001b[0m         \u001b[0mwkt\u001b[0m \u001b[1;33m=\u001b[0m \u001b[0mrow\u001b[0m\u001b[1;33m[\u001b[0m\u001b[1;36m2\u001b[0m\u001b[1;33m]\u001b[0m\u001b[1;33m\u001b[0m\u001b[1;33m\u001b[0m\u001b[0m\n\u001b[1;32m---> 25\u001b[1;33m         \u001b[0mcursor\u001b[0m\u001b[1;33m.\u001b[0m\u001b[0mexecute\u001b[0m\u001b[1;33m(\u001b[0m\u001b[1;34m\"INSERT INTO polynomial_points (pointid, grid_code, geom) VALUES (%s, %s, ST_GeomFromText(%s, 4326))\"\u001b[0m\u001b[1;33m,\u001b[0m \u001b[1;33m(\u001b[0m\u001b[0mrow\u001b[0m\u001b[1;33m[\u001b[0m\u001b[1;36m0\u001b[0m\u001b[1;33m]\u001b[0m\u001b[1;33m,\u001b[0m \u001b[0mrow\u001b[0m\u001b[1;33m[\u001b[0m\u001b[1;36m1\u001b[0m\u001b[1;33m]\u001b[0m\u001b[1;33m,\u001b[0m \u001b[0mwkt\u001b[0m\u001b[1;33m)\u001b[0m\u001b[1;33m)\u001b[0m\u001b[1;33m\u001b[0m\u001b[1;33m\u001b[0m\u001b[0m\n\u001b[0m\u001b[0;32m     26\u001b[0m \u001b[1;33m\u001b[0m\u001b[0m\n\u001b[0;32m     27\u001b[0m \u001b[0mconn\u001b[0m\u001b[1;33m.\u001b[0m\u001b[0mcommit\u001b[0m\u001b[1;33m(\u001b[0m\u001b[1;33m)\u001b[0m\u001b[1;33m\u001b[0m\u001b[1;33m\u001b[0m\u001b[0m\n",
      "\u001b[1;32mc:\\Users\\MrJDF\\AppData\\Local\\ESRI\\conda\\envs\\arcgispro-py3-clone-1\\lib\\encodings\\utf_8.py\u001b[0m in \u001b[0;36mdecode\u001b[1;34m(input, errors)\u001b[0m\n\u001b[0;32m     13\u001b[0m \u001b[0mencode\u001b[0m \u001b[1;33m=\u001b[0m \u001b[0mcodecs\u001b[0m\u001b[1;33m.\u001b[0m\u001b[0mutf_8_encode\u001b[0m\u001b[1;33m\u001b[0m\u001b[1;33m\u001b[0m\u001b[0m\n\u001b[0;32m     14\u001b[0m \u001b[1;33m\u001b[0m\u001b[0m\n\u001b[1;32m---> 15\u001b[1;33m \u001b[1;32mdef\u001b[0m \u001b[0mdecode\u001b[0m\u001b[1;33m(\u001b[0m\u001b[0minput\u001b[0m\u001b[1;33m,\u001b[0m \u001b[0merrors\u001b[0m\u001b[1;33m=\u001b[0m\u001b[1;34m'strict'\u001b[0m\u001b[1;33m)\u001b[0m\u001b[1;33m:\u001b[0m\u001b[1;33m\u001b[0m\u001b[1;33m\u001b[0m\u001b[0m\n\u001b[0m\u001b[0;32m     16\u001b[0m     \u001b[1;32mreturn\u001b[0m \u001b[0mcodecs\u001b[0m\u001b[1;33m.\u001b[0m\u001b[0mutf_8_decode\u001b[0m\u001b[1;33m(\u001b[0m\u001b[0minput\u001b[0m\u001b[1;33m,\u001b[0m \u001b[0merrors\u001b[0m\u001b[1;33m,\u001b[0m \u001b[1;32mTrue\u001b[0m\u001b[1;33m)\u001b[0m\u001b[1;33m\u001b[0m\u001b[1;33m\u001b[0m\u001b[0m\n\u001b[0;32m     17\u001b[0m \u001b[1;33m\u001b[0m\u001b[0m\n",
      "\u001b[1;31mKeyboardInterrupt\u001b[0m: "
     ]
    }
   ],
   "source": [
    "# set save filepath\n",
    "savepath = os.path.join(cwd, '..','..','data')\n",
    "\n",
    "points = os.path.join(savepath, \"lclPolyPts.shp\")\n",
    "fields_points = ['pointid', 'grid_code', \"Shape@WKT\"]\n",
    "\n",
    "# Create SQL table\n",
    "cursor = conn.cursor()\n",
    "cursor.execute(\"DROP TABLE IF EXISTS polynomial_points\")\n",
    "cursor.execute(\"\"\"\n",
    "    CREATE TABLE polynomial_points (\n",
    "        id SERIAL,\n",
    "        pointid INT,\n",
    "        grid_code INT)\n",
    "\"\"\")\n",
    "\n",
    "cursor.execute(\"\"\"\n",
    "    SELECT AddGeometryColumn('polynomial_points', 'geom', 4326, 'POINT', 2)\n",
    "\"\"\")\n",
    "\n",
    "# Populate PostGIS\n",
    "with arcpy.da.SearchCursor(points, fields_points) as da_cursor:\n",
    "    for row in da_cursor:\n",
    "        wkt = row[2]\n",
    "        cursor.execute(\"INSERT INTO polynomial_points (pointid, grid_code, geom) VALUES (%s, %s, ST_GeomFromText(%s, 4326))\", (row[0], row[1], wkt))\n",
    "\n",
    "conn.commit()"
   ]
  },
  {
   "cell_type": "code",
   "execution_count": 61,
   "metadata": {},
   "outputs": [
    {
     "data": {
      "text/plain": [
       "<function connection.close>"
      ]
     },
     "execution_count": 61,
     "metadata": {},
     "output_type": "execute_result"
    },
    {
     "ename": "",
     "evalue": "",
     "output_type": "error",
     "traceback": [
      "\u001b[1;31mThe Kernel crashed while executing code in the the current cell or a previous cell. Please review the code in the cell(s) to identify a possible cause of the failure. Click <a href='https://aka.ms/vscodeJupyterKernelCrash'>here</a> for more info. View Jupyter <a href='command:jupyter.viewOutput'>log</a> for further details."
     ]
    }
   ],
   "source": [
    "conn.close"
   ]
  },
  {
   "cell_type": "code",
   "execution_count": null,
   "metadata": {},
   "outputs": [],
   "source": [
    "#TODO make this a function, pass a series of lists with the correct tabel credentials and table names \n",
    "#TODO clean up the file path mess, it's causing all your headaches\n",
    "\n",
    "# set save filepath\n",
    "savepath = os.path.join(cwd, '..','..','data')\n",
    "\n",
    "points = os.path.join(savepath, \"aoi_elev_4326_points.shp\")\n",
    "fields_points = ['pointid', 'grid_code', \"Shape@WKT\"]\n",
    "\n",
    "# Create SQL table\n",
    "cursor = conn.cursor()\n",
    "cursor.execute(\"DROP TABLE IF EXISTS elevation_points\")\n",
    "cursor.execute(\"\"\"\n",
    "    CREATE TABLE elevation_points (\n",
    "        id SERIAL,\n",
    "        pointid INT,\n",
    "        grid_code INT)\n",
    "\"\"\")\n",
    "\n",
    "cursor.execute(\"\"\"\n",
    "    SELECT AddGeometryColumn('elevation_points', 'geom', 4326, 'POINT', 2)\n",
    "\"\"\")\n",
    "\n",
    "# Populate PostGIS\n",
    "with arcpy.da.SearchCursor(points, fields_points) as da_cursor:\n",
    "    for row in da_cursor:\n",
    "        wkt = row[2]\n",
    "        cursor.execute(\"INSERT INTO elevation_points (pointid, grid_code, geom) VALUES (%s, %s, ST_GeomFromText(%s, 4326))\", (row[0], row[1], wkt))\n",
    "\n",
    "conn.commit()"
   ]
  },
  {
   "cell_type": "code",
   "execution_count": 37,
   "metadata": {},
   "outputs": [
    {
     "ename": "KeyboardInterrupt",
     "evalue": "",
     "output_type": "error",
     "traceback": [
      "\u001b[1;31m---------------------------------------------------------------------------\u001b[0m",
      "\u001b[1;31mKeyboardInterrupt\u001b[0m                         Traceback (most recent call last)",
      "\u001b[1;32m<ipython-input-37-ff2678cb375a>\u001b[0m in \u001b[0;36m<module>\u001b[1;34m\u001b[0m\n\u001b[0;32m     40\u001b[0m \u001b[1;33m\u001b[0m\u001b[0m\n\u001b[0;32m     41\u001b[0m     \u001b[1;31m# create table and insert data\u001b[0m\u001b[1;33m\u001b[0m\u001b[1;33m\u001b[0m\u001b[0m\n\u001b[1;32m---> 42\u001b[1;33m     \u001b[0mcreate_table\u001b[0m\u001b[1;33m(\u001b[0m\u001b[0mconn\u001b[0m\u001b[1;33m,\u001b[0m \u001b[0mtablename\u001b[0m\u001b[1;33m,\u001b[0m \u001b[0minterp_point\u001b[0m\u001b[1;33m)\u001b[0m\u001b[1;33m\u001b[0m\u001b[1;33m\u001b[0m\u001b[0m\n\u001b[0m\u001b[0;32m     43\u001b[0m \u001b[1;33m\u001b[0m\u001b[0m\n\u001b[0;32m     44\u001b[0m \u001b[1;31m# close database connection\u001b[0m\u001b[1;33m\u001b[0m\u001b[1;33m\u001b[0m\u001b[0m\n",
      "\u001b[1;32m<ipython-input-37-ff2678cb375a>\u001b[0m in \u001b[0;36mcreate_table\u001b[1;34m(conn, table_name, filepath)\u001b[0m\n\u001b[0;32m     23\u001b[0m         \u001b[1;32mfor\u001b[0m \u001b[0mrow\u001b[0m \u001b[1;32min\u001b[0m \u001b[0mda_cursor\u001b[0m\u001b[1;33m:\u001b[0m\u001b[1;33m\u001b[0m\u001b[1;33m\u001b[0m\u001b[0m\n\u001b[0;32m     24\u001b[0m             \u001b[0mwkt\u001b[0m \u001b[1;33m=\u001b[0m \u001b[0mrow\u001b[0m\u001b[1;33m[\u001b[0m\u001b[1;36m2\u001b[0m\u001b[1;33m]\u001b[0m\u001b[1;33m\u001b[0m\u001b[1;33m\u001b[0m\u001b[0m\n\u001b[1;32m---> 25\u001b[1;33m             \u001b[0mcursor\u001b[0m\u001b[1;33m.\u001b[0m\u001b[0mexecute\u001b[0m\u001b[1;33m(\u001b[0m\u001b[1;34m\"INSERT INTO \"\u001b[0m \u001b[1;33m+\u001b[0m \u001b[0mtable_name\u001b[0m \u001b[1;33m+\u001b[0m \u001b[1;34m\" (pointid, grid_code, geom) VALUES (%s, %s, ST_GeomFromText(%s, 4326))\"\u001b[0m\u001b[1;33m,\u001b[0m \u001b[1;33m(\u001b[0m\u001b[0mrow\u001b[0m\u001b[1;33m[\u001b[0m\u001b[1;36m0\u001b[0m\u001b[1;33m]\u001b[0m\u001b[1;33m,\u001b[0m \u001b[0mrow\u001b[0m\u001b[1;33m[\u001b[0m\u001b[1;36m1\u001b[0m\u001b[1;33m]\u001b[0m\u001b[1;33m,\u001b[0m \u001b[0mwkt\u001b[0m\u001b[1;33m)\u001b[0m\u001b[1;33m)\u001b[0m\u001b[1;33m\u001b[0m\u001b[1;33m\u001b[0m\u001b[0m\n\u001b[0m\u001b[0;32m     26\u001b[0m \u001b[1;33m\u001b[0m\u001b[0m\n\u001b[0;32m     27\u001b[0m     \u001b[0mconn\u001b[0m\u001b[1;33m.\u001b[0m\u001b[0mcommit\u001b[0m\u001b[1;33m(\u001b[0m\u001b[1;33m)\u001b[0m\u001b[1;33m\u001b[0m\u001b[1;33m\u001b[0m\u001b[0m\n",
      "\u001b[1;32mc:\\Users\\MrJDF\\AppData\\Local\\ESRI\\conda\\envs\\arcgispro-py3-clone-1\\lib\\encodings\\utf_8.py\u001b[0m in \u001b[0;36mdecode\u001b[1;34m(input, errors)\u001b[0m\n\u001b[0;32m     13\u001b[0m \u001b[0mencode\u001b[0m \u001b[1;33m=\u001b[0m \u001b[0mcodecs\u001b[0m\u001b[1;33m.\u001b[0m\u001b[0mutf_8_encode\u001b[0m\u001b[1;33m\u001b[0m\u001b[1;33m\u001b[0m\u001b[0m\n\u001b[0;32m     14\u001b[0m \u001b[1;33m\u001b[0m\u001b[0m\n\u001b[1;32m---> 15\u001b[1;33m \u001b[1;32mdef\u001b[0m \u001b[0mdecode\u001b[0m\u001b[1;33m(\u001b[0m\u001b[0minput\u001b[0m\u001b[1;33m,\u001b[0m \u001b[0merrors\u001b[0m\u001b[1;33m=\u001b[0m\u001b[1;34m'strict'\u001b[0m\u001b[1;33m)\u001b[0m\u001b[1;33m:\u001b[0m\u001b[1;33m\u001b[0m\u001b[1;33m\u001b[0m\u001b[0m\n\u001b[0m\u001b[0;32m     16\u001b[0m     \u001b[1;32mreturn\u001b[0m \u001b[0mcodecs\u001b[0m\u001b[1;33m.\u001b[0m\u001b[0mutf_8_decode\u001b[0m\u001b[1;33m(\u001b[0m\u001b[0minput\u001b[0m\u001b[1;33m,\u001b[0m \u001b[0merrors\u001b[0m\u001b[1;33m,\u001b[0m \u001b[1;32mTrue\u001b[0m\u001b[1;33m)\u001b[0m\u001b[1;33m\u001b[0m\u001b[1;33m\u001b[0m\u001b[0m\n\u001b[0;32m     17\u001b[0m \u001b[1;33m\u001b[0m\u001b[0m\n",
      "\u001b[1;31mKeyboardInterrupt\u001b[0m: "
     ]
    }
   ],
   "source": [
    "import os\n",
    "import psycopg2\n",
    "\n",
    "# define function to create table and insert data\n",
    "def create_table(conn, table_name, filepath):\n",
    "    #name the fields, convert shape to wkt\n",
    "    fields_points = ['pointid', 'grid_code', \"Shape@WKT\"]\n",
    "\n",
    "    # Create SQL table\n",
    "    cursor = conn.cursor()\n",
    "    cursor.execute(\"DROP TABLE IF EXISTS \" + table_name)\n",
    "    cursor.execute(\"\"\"\n",
    "        CREATE TABLE \"\"\" + table_name + \"\"\" (\n",
    "            id SERIAL,\n",
    "            pointid INT,\n",
    "            grid_code INT,\n",
    "            geom geometry(Point, 4326)\n",
    "        )\n",
    "    \"\"\")\n",
    "\n",
    "    # Populate PostGIS\n",
    "    with arcpy.da.SearchCursor(filepath, fields_points) as da_cursor:\n",
    "        for row in da_cursor:\n",
    "            wkt = row[2]\n",
    "            cursor.execute(\"INSERT INTO \" + table_name + \" (pointid, grid_code, geom) VALUES (%s, %s, ST_GeomFromText(%s, 4326))\", (row[0], row[1], wkt))\n",
    "\n",
    "    conn.commit()\n",
    "\n",
    "# set save filepath\n",
    "savepath = os.path.join(cwd, '..','..', 'data')\n",
    "\n",
    "interp_points = [savepath + r\"\\lclPolyPts.shp\", savepath + r\"\\idwPts.shp\", savepath + r\"\\BayesianKrgPts.shp\"]\n",
    "\n",
    "# establish connection to PostGIS database\n",
    "# conn = psycopg2.connect(database=\"mydb\", user=\"myuser\", password=\"mypassword\", host=\"localhost\", port=\"5432\")\n",
    "\n",
    "for interp_point in interp_points:\n",
    "    # get the filename without extension and remove the slash at the beginning\n",
    "    tablename = os.path.splitext(os.path.basename(interp_point))[0]\n",
    "\n",
    "    # create table and insert data\n",
    "    create_table(conn, tablename, interp_point)\n",
    "\n",
    "# close database connection\n",
    "conn.close()\n"
   ]
  },
  {
   "cell_type": "markdown",
   "metadata": {},
   "source": [
    "try this if all else fails"
   ]
  },
  {
   "cell_type": "code",
   "execution_count": null,
   "metadata": {},
   "outputs": [],
   "source": [
    "import subprocess\n",
    "import os\n",
    "\n",
    "# Set the necessary parameters\n",
    "shp2pgsql_path = r\"C:\\Program Files\\PostgreSQL\\15\\bin\\shp2pgsql.exe\"\n",
    "psql_path = r\"C:\\Program Files\\PostgreSQL\\15\\bin\\psql.exe\"\n",
    "shapefile_path = r\"C:\\test\\another.shp\"\n",
    "srid = 4326\n",
    "schema_table = \"public.another\"\n",
    "host = \"35.223.186.20\"\n",
    "port = 5432\n",
    "user = \"postgres\"\n",
    "db_name = \"postgres\"\n",
    "password = \"\"\n",
    "\n",
    "# Build the shp2pgsql command\n",
    "shp2pgsql_command = f\"\\\"{shp2pgsql_path}\\\" -s {srid} {shapefile_path} {schema_table}\"\n",
    "\n",
    "# Build the psql command\n",
    "psql_command = f\"\\\"{psql_path}\\\" -h {host} -p {port} -U {user} -d {db_name} -w\"\n",
    "\n",
    "# Combine the commands using a pipe\n",
    "full_command = f\"{shp2pgsql_command} | {psql_command}\"\n",
    "\n",
    "# Set up the environment with the password\n",
    "env = os.environ.copy()\n",
    "env[\"PGPASSWORD\"] = password\n",
    "\n",
    "# Run the command using the subprocess module and capture stderr\n",
    "process = subprocess.Popen(full_command, shell=True, env=env, stderr=subprocess.PIPE)\n",
    "\n",
    "# Wait for the process to finish and capture the return code and stderr\n",
    "return_code = process.wait()\n",
    "stderr_output = process.stderr.read().decode()\n",
    "\n",
    "# Print the return code and error message\n",
    "print(f\"Return code: {return_code}\")\n",
    "print(f\"Error message: {stderr_output}\")"
   ]
  },
  {
   "attachments": {},
   "cell_type": "markdown",
   "metadata": {},
   "source": [
    "Compute RMSE\n",
    "-use the stats layers output earlier"
   ]
  },
  {
   "cell_type": "code",
   "execution_count": 7,
   "metadata": {},
   "outputs": [
    {
     "data": {
      "text/plain": [
       "['c:\\\\Users\\\\MrJDF\\\\Desktop\\\\QualityAirQualityCities\\\\arcpy\\\\interpolation\\\\..\\\\..\\\\data\\\\lcl_polynomial_crossval.shp',\n",
       " 'c:\\\\Users\\\\MrJDF\\\\Desktop\\\\QualityAirQualityCities\\\\arcpy\\\\interpolation\\\\..\\\\..\\\\data\\\\idw_crossval.shp',\n",
       " 'c:\\\\Users\\\\MrJDF\\\\Desktop\\\\QualityAirQualityCities\\\\arcpy\\\\interpolation\\\\..\\\\..\\\\data\\\\bayesian_kriging_crossval.shp']"
      ]
     },
     "execution_count": 7,
     "metadata": {},
     "output_type": "execute_result"
    }
   ],
   "source": [
    "# set save filepath\n",
    "savepath = os.path.join(cwd, '..','..', 'data')\n",
    "\n",
    "interp_points = [savepath + r\"\\lcl_polynomial_crossval.shp\", savepath + r\"\\idw_crossval.shp\", savepath + r\"\\bayesian_kriging_crossval.shp\"]\n",
    "interp_points"
   ]
  },
  {
   "cell_type": "code",
   "execution_count": 11,
   "metadata": {},
   "outputs": [
    {
     "name": "stdout",
     "output_type": "stream",
     "text": [
      "lcl_polynomial_crossval\n",
      "idw_crossval\n",
      "bayesian_kriging_crossval\n"
     ]
    }
   ],
   "source": [
    "# make dataframes from stats layers\n",
    "\n",
    "interp_points = [savepath + r\"\\lcl_polynomial_crossval.shp\", savepath + r\"\\idw_crossval.shp\", savepath + r\"\\bayesian_kriging_crossval.shp\"]\n",
    "\n",
    "def get_tablename (filepath):\n",
    "    # get the filename without extension and remove the slash at the beginning\n",
    "    tablename = os.path.splitext(os.path.basename(interp_point))[0]\n",
    "\n",
    "    # print the filename\n",
    "   # print(tablename)\n",
    "   \n",
    "#convert layers to csv\n",
    "\n",
    "for interp_point in interp_points:\n",
    "    get_tablename(interp_point)\n",
    "# in_table = table\n",
    "\n",
    "\n",
    "# # Run TableToTable\n",
    "# arcpy.conversion.ExportTable(inTable, outTable, expression, \"NOT_USE_ALIAS\")\n",
    "# #convert csv to DF"
   ]
  },
  {
   "cell_type": "code",
   "execution_count": null,
   "metadata": {},
   "outputs": [],
   "source": [
    "# do the math on the error columns\n",
    "\n",
    "# create empty list for rmse vals and convert to DF"
   ]
  }
 ],
 "metadata": {
  "kernelspec": {
   "display_name": "Python 3",
   "language": "python",
   "name": "python3"
  },
  "language_info": {
   "codemirror_mode": {
    "name": "ipython",
    "version": 3
   },
   "file_extension": ".py",
   "mimetype": "text/x-python",
   "name": "python",
   "nbconvert_exporter": "python",
   "pygments_lexer": "ipython3",
   "version": "3.9.11"
  },
  "orig_nbformat": 4,
  "vscode": {
   "interpreter": {
    "hash": "8aaf0cbf6ca12b9026f66bc3bca7f21734839ea07af9c2d4802583a78f11ee0f"
   }
  }
 },
 "nbformat": 4,
 "nbformat_minor": 2
}
