{
 "cells": [
  {
   "cell_type": "markdown",
   "id": "d2137878-831c-4224-940b-d013e4e86df0",
   "metadata": {},
   "source": [
    "# PurpleAir PM Forecasted Interpolation"
   ]
  },
  {
   "cell_type": "markdown",
   "id": "0c390882-6c84-4340-988c-d753d00d25a9",
   "metadata": {
    "tags": []
   },
   "source": [
    "## Set Up"
   ]
  },
  {
   "cell_type": "markdown",
   "id": "9cf38ba7-b562-45da-bcd2-6c6191a8bfdc",
   "metadata": {
    "tags": []
   },
   "source": [
    "### Import Packages"
   ]
  },
  {
   "cell_type": "code",
   "execution_count": 1,
   "id": "76e4686a-1a0d-43e7-9e8f-79b9721e2a33",
   "metadata": {},
   "outputs": [],
   "source": [
    "import arcpy\n",
    "import pandas as pd\n",
    "import psycopg2\n",
    "from psycopg2 import sql\n",
    "import numpy as np\n",
    "import os\n",
    "from datetime import date"
   ]
  },
  {
   "cell_type": "markdown",
   "id": "f54e518d-7368-4edf-b5e9-495dfbeb00e3",
   "metadata": {
    "tags": []
   },
   "source": [
    "### Set Workspace"
   ]
  },
  {
   "cell_type": "code",
   "execution_count": 2,
   "id": "b379a88b-0445-4ebc-b9b8-335ee371a965",
   "metadata": {},
   "outputs": [],
   "source": [
    "cwd = os.getcwd()\n",
    "\n",
    "# Make it workspace\n",
    "\n",
    "arcpy.env.workspace = os.path.join(cwd, '..', '..', 'data', 'QAQC.gdb')\n",
    "\n",
    "arcpy.env.overwriteOutput = True # Overwrite layers is okay\n",
    "current_date = str(dt.datetime.today().date())\n",
    "save_path_csv = os.path.join(cwd, '..', '..', 'data')\n",
    "save_path_gdb = os.path.join(cwd, '..', '..', 'data', 'QAQC.gdb')\n",
    "boundary_path = os.path.join(cwd, '..', '..', 'data', 'mpls_boundary.geojson')\n",
    "seasonal_path = historic_path = os.path.join(cwd, '..', '..', 'data', 'Seasonal_Predictions_'+ current_date + '.csv')\n",
    "yearround_path = historic_path = os.path.join(cwd, '..', '..', 'data', 'Yearround_Predictions_' + current_date + '.csv')"
   ]
  },
  {
   "cell_type": "code",
   "execution_count": 3,
   "id": "352fc474-2f90-4baf-8723-b01a011d458e",
   "metadata": {
    "collapsed": true,
    "jupyter": {
     "outputs_hidden": true
    },
    "tags": []
   },
   "outputs": [
    {
     "ename": "ExecuteError",
     "evalue": "Failed to execute. Parameters are not valid.\nERROR 000732: Input JSON or GeoJSON: Dataset C:\\Users\\tande\\Documents\\GitHub\\QualityAirQualityCities\\arcpy\\interpolation\\..\\..\\data\\mpls_boundary.geojson does not exist or is not supported\nWARNING 000725: Output Feature Class: Dataset C:\\Users\\tande\\Documents\\GitHub\\QualityAirQualityCities\\arcpy\\interpolation\\..\\..\\data\\QAQC.gdb\\mpls_boundary already exists.\nFailed to execute (JSONToFeatures).\n",
     "output_type": "error",
     "traceback": [
      "\u001b[1;31m---------------------------------------------------------------------------\u001b[0m",
      "\u001b[1;31mExecuteError\u001b[0m                              Traceback (most recent call last)",
      "\u001b[1;32m~\\AppData\\Local\\Temp\\ipykernel_28208\\3896757972.py\u001b[0m in \u001b[0;36m<cell line: 5>\u001b[1;34m()\u001b[0m\n\u001b[0;32m      3\u001b[0m \u001b[1;33m\u001b[0m\u001b[0m\n\u001b[0;32m      4\u001b[0m \u001b[1;31m# Convert the GeoJSON file to a feature class\u001b[0m\u001b[1;33m\u001b[0m\u001b[1;33m\u001b[0m\u001b[0m\n\u001b[1;32m----> 5\u001b[1;33m \u001b[0marcpy\u001b[0m\u001b[1;33m.\u001b[0m\u001b[0mJSONToFeatures_conversion\u001b[0m\u001b[1;33m(\u001b[0m\u001b[0mboundary_path\u001b[0m\u001b[1;33m,\u001b[0m \u001b[0moutput_fc\u001b[0m\u001b[1;33m)\u001b[0m\u001b[1;33m\u001b[0m\u001b[1;33m\u001b[0m\u001b[0m\n\u001b[0m",
      "\u001b[1;32mC:\\Program Files\\ArcGIS\\Pro\\Resources\\ArcPy\\arcpy\\conversion.py\u001b[0m in \u001b[0;36mJSONToFeatures\u001b[1;34m(in_json_file, out_features, geometry_type)\u001b[0m\n\u001b[0;32m   1170\u001b[0m         \u001b[1;32mreturn\u001b[0m \u001b[0mretval\u001b[0m\u001b[1;33m\u001b[0m\u001b[1;33m\u001b[0m\u001b[0m\n\u001b[0;32m   1171\u001b[0m     \u001b[1;32mexcept\u001b[0m \u001b[0mException\u001b[0m \u001b[1;32mas\u001b[0m \u001b[0me\u001b[0m\u001b[1;33m:\u001b[0m\u001b[1;33m\u001b[0m\u001b[1;33m\u001b[0m\u001b[0m\n\u001b[1;32m-> 1172\u001b[1;33m         \u001b[1;32mraise\u001b[0m \u001b[0me\u001b[0m\u001b[1;33m\u001b[0m\u001b[1;33m\u001b[0m\u001b[0m\n\u001b[0m\u001b[0;32m   1173\u001b[0m \u001b[1;33m\u001b[0m\u001b[0m\n\u001b[0;32m   1174\u001b[0m \u001b[1;33m\u001b[0m\u001b[0m\n",
      "\u001b[1;32mC:\\Program Files\\ArcGIS\\Pro\\Resources\\ArcPy\\arcpy\\conversion.py\u001b[0m in \u001b[0;36mJSONToFeatures\u001b[1;34m(in_json_file, out_features, geometry_type)\u001b[0m\n\u001b[0;32m   1167\u001b[0m     \u001b[1;32mfrom\u001b[0m \u001b[0marcpy\u001b[0m\u001b[1;33m.\u001b[0m\u001b[0marcobjects\u001b[0m\u001b[1;33m.\u001b[0m\u001b[0marcobjectconversion\u001b[0m \u001b[1;32mimport\u001b[0m \u001b[0mconvertArcObjectToPythonObject\u001b[0m\u001b[1;33m\u001b[0m\u001b[1;33m\u001b[0m\u001b[0m\n\u001b[0;32m   1168\u001b[0m     \u001b[1;32mtry\u001b[0m\u001b[1;33m:\u001b[0m\u001b[1;33m\u001b[0m\u001b[1;33m\u001b[0m\u001b[0m\n\u001b[1;32m-> 1169\u001b[1;33m         \u001b[0mretval\u001b[0m \u001b[1;33m=\u001b[0m \u001b[0mconvertArcObjectToPythonObject\u001b[0m\u001b[1;33m(\u001b[0m\u001b[0mgp\u001b[0m\u001b[1;33m.\u001b[0m\u001b[0mJSONToFeatures_conversion\u001b[0m\u001b[1;33m(\u001b[0m\u001b[1;33m*\u001b[0m\u001b[0mgp_fixargs\u001b[0m\u001b[1;33m(\u001b[0m\u001b[1;33m(\u001b[0m\u001b[0min_json_file\u001b[0m\u001b[1;33m,\u001b[0m \u001b[0mout_features\u001b[0m\u001b[1;33m,\u001b[0m \u001b[0mgeometry_type\u001b[0m\u001b[1;33m)\u001b[0m\u001b[1;33m,\u001b[0m \u001b[1;32mTrue\u001b[0m\u001b[1;33m)\u001b[0m\u001b[1;33m)\u001b[0m\u001b[1;33m)\u001b[0m\u001b[1;33m\u001b[0m\u001b[1;33m\u001b[0m\u001b[0m\n\u001b[0m\u001b[0;32m   1170\u001b[0m         \u001b[1;32mreturn\u001b[0m \u001b[0mretval\u001b[0m\u001b[1;33m\u001b[0m\u001b[1;33m\u001b[0m\u001b[0m\n\u001b[0;32m   1171\u001b[0m     \u001b[1;32mexcept\u001b[0m \u001b[0mException\u001b[0m \u001b[1;32mas\u001b[0m \u001b[0me\u001b[0m\u001b[1;33m:\u001b[0m\u001b[1;33m\u001b[0m\u001b[1;33m\u001b[0m\u001b[0m\n",
      "\u001b[1;32mC:\\Program Files\\ArcGIS\\Pro\\Resources\\ArcPy\\arcpy\\geoprocessing\\_base.py\u001b[0m in \u001b[0;36m<lambda>\u001b[1;34m(*args)\u001b[0m\n\u001b[0;32m    510\u001b[0m         \u001b[0mval\u001b[0m \u001b[1;33m=\u001b[0m \u001b[0mgetattr\u001b[0m\u001b[1;33m(\u001b[0m\u001b[0mself\u001b[0m\u001b[1;33m.\u001b[0m\u001b[0m_gp\u001b[0m\u001b[1;33m,\u001b[0m \u001b[0mattr\u001b[0m\u001b[1;33m)\u001b[0m\u001b[1;33m\u001b[0m\u001b[1;33m\u001b[0m\u001b[0m\n\u001b[0;32m    511\u001b[0m         \u001b[1;32mif\u001b[0m \u001b[0mcallable\u001b[0m\u001b[1;33m(\u001b[0m\u001b[0mval\u001b[0m\u001b[1;33m)\u001b[0m\u001b[1;33m:\u001b[0m\u001b[1;33m\u001b[0m\u001b[1;33m\u001b[0m\u001b[0m\n\u001b[1;32m--> 512\u001b[1;33m             \u001b[1;32mreturn\u001b[0m \u001b[1;32mlambda\u001b[0m \u001b[1;33m*\u001b[0m\u001b[0margs\u001b[0m\u001b[1;33m:\u001b[0m \u001b[0mval\u001b[0m\u001b[1;33m(\u001b[0m\u001b[1;33m*\u001b[0m\u001b[0mgp_fixargs\u001b[0m\u001b[1;33m(\u001b[0m\u001b[0margs\u001b[0m\u001b[1;33m,\u001b[0m \u001b[1;32mTrue\u001b[0m\u001b[1;33m)\u001b[0m\u001b[1;33m)\u001b[0m\u001b[1;33m\u001b[0m\u001b[1;33m\u001b[0m\u001b[0m\n\u001b[0m\u001b[0;32m    513\u001b[0m         \u001b[1;32melse\u001b[0m\u001b[1;33m:\u001b[0m\u001b[1;33m\u001b[0m\u001b[1;33m\u001b[0m\u001b[0m\n\u001b[0;32m    514\u001b[0m             \u001b[1;32mreturn\u001b[0m \u001b[0mconvertArcObjectToPythonObject\u001b[0m\u001b[1;33m(\u001b[0m\u001b[0mval\u001b[0m\u001b[1;33m)\u001b[0m\u001b[1;33m\u001b[0m\u001b[1;33m\u001b[0m\u001b[0m\n",
      "\u001b[1;31mExecuteError\u001b[0m: Failed to execute. Parameters are not valid.\nERROR 000732: Input JSON or GeoJSON: Dataset C:\\Users\\tande\\Documents\\GitHub\\QualityAirQualityCities\\arcpy\\interpolation\\..\\..\\data\\mpls_boundary.geojson does not exist or is not supported\nWARNING 000725: Output Feature Class: Dataset C:\\Users\\tande\\Documents\\GitHub\\QualityAirQualityCities\\arcpy\\interpolation\\..\\..\\data\\QAQC.gdb\\mpls_boundary already exists.\nFailed to execute (JSONToFeatures).\n"
     ]
    }
   ],
   "source": [
    "output_fc = 'mpls_boundary'\n",
    "output_fc_path = os.path.join(save_path_gdb, output_fc)\n",
    "\n",
    "# Convert the GeoJSON file to a feature class\n",
    "arcpy.JSONToFeatures_conversion(boundary_path, output_fc)"
   ]
  },
  {
   "cell_type": "markdown",
   "id": "d854e815-179a-4126-a346-b549057a9e43",
   "metadata": {
    "tags": []
   },
   "source": [
    "## Creating Points from Lat/Longs"
   ]
  },
  {
   "cell_type": "code",
   "execution_count": 3,
   "id": "73d9e22a-4611-4e63-b3e0-6b111bfb77e4",
   "metadata": {},
   "outputs": [],
   "source": [
    "# Create the feature class name\n",
    "feature_class_name_seasonal = \"Seasonal_\" + current_date\n",
    "feature_class_name_yearround = \"Yearround_\" + current_date\n",
    "\n",
    "output_point_path_seasonal = os.path.join(save_path_gdb, feature_class_name_seasonal)\n",
    "output_point_path_yearround = os.path.join(save_path_gdb, feature_class_name_yearround)\n",
    "\n",
    "# Specify x,y fields\n",
    "x_field = \"longitude\"\n",
    "y_field = \"latitude\"\n",
    "\n",
    "# Use XYTableToPoint tool to create point features\n",
    "station_points_seasonal = arcpy.management.XYTableToPoint(yearround_path, output_point_path_seasonal, x_field, y_field)\n",
    "station_points_yearround = arcpy.management.XYTableToPoint(seasonal_path, output_point_path_yearround, x_field, y_field)"
   ]
  },
  {
   "cell_type": "markdown",
   "id": "2be85786-c504-409e-a5ed-ac2205a07109",
   "metadata": {
    "tags": []
   },
   "source": [
    "## PM 2.5 Interpolation"
   ]
  },
  {
   "cell_type": "markdown",
   "id": "5e2273ea-5d20-4823-b501-35f6da3d4983",
   "metadata": {},
   "source": [
    "### Seasonal"
   ]
  },
  {
   "cell_type": "markdown",
   "id": "3c6fb1ad-253f-4767-a261-fef022bc4186",
   "metadata": {},
   "source": [
    "#### Kriging"
   ]
  },
  {
   "cell_type": "code",
   "execution_count": 4,
   "id": "d6c11293-5659-4b30-b23c-7ad395606b5c",
   "metadata": {},
   "outputs": [
    {
     "data": {
      "text/html": [
       "<div class='gpresult'><h2>Messages</h2><div id='messages' data-messages='[\"Start Time: Wednesday, May 10, 2023 1:16:35 PM\",\"\\r\\nWarning(s) for dataset: Seasonal_May10\",\"WARNING 040402: NODATA value ignored. ObjectID = 14\",\"WARNING 040402: NODATA value ignored. ObjectID = 22\",\"\\r\\nWarning(s) for dataset: Length of the radius of the search circle = 10988 meters.\",\"Succeeded at Wednesday, May 10, 2023 1:16:40 PM (Elapsed Time: 4.95 seconds)\"]' data-show='true'><div id = 'default' /></div></div>"
      ],
      "text/plain": [
       "<Result 'pm2_5_kriging_stats_Seasonal_May10'>"
      ]
     },
     "execution_count": 4,
     "metadata": {},
     "output_type": "execute_result"
    }
   ],
   "source": [
    "out_kriging_raster_seasonal = \"Kriging_\" + feature_class_name_seasonal\n",
    "arcpy.ga.EmpiricalBayesianKriging(\n",
    "    in_features=feature_class_name_seasonal,\n",
    "    z_field=\"pm25_fullDay_mean_Prediction\",\n",
    "    out_ga_layer=\"pm2_5_kriging_stats_\" + feature_class_name_seasonal,\n",
    "    out_raster=out_kriging_raster_seasonal,\n",
    "    cell_size=0.000932919999999967,\n",
    "    transformation_type=\"NONE\",\n",
    "    max_local_points=100,\n",
    "    overlap_factor=1,\n",
    "    number_semivariograms=100,\n",
    "    search_neighborhood=\"NBRTYPE=StandardCircular RADIUS=9.87111293434023E-02 ANGLE=0 NBR_MAX=15 NBR_MIN=10 SECTOR_TYPE=ONE_SECTOR\",\n",
    "    output_type=\"PREDICTION\",\n",
    "    quantile_value=0.5,\n",
    "    threshold_type=\"EXCEED\",\n",
    "    probability_threshold=None,\n",
    "    semivariogram_model_type=\"POWER\"\n",
    ")"
   ]
  },
  {
   "cell_type": "markdown",
   "id": "e8b889ce-967c-467e-b190-2c697f720f0f",
   "metadata": {},
   "source": [
    "#### IDW"
   ]
  },
  {
   "cell_type": "code",
   "execution_count": 5,
   "id": "93d81724-4836-4ceb-ab04-94464634936d",
   "metadata": {},
   "outputs": [
    {
     "data": {
      "text/html": [
       "<div class='gpresult'><h2>Messages</h2><div id='messages' data-messages='[\"Start Time: Wednesday, May 10, 2023 1:16:45 PM\",\"Succeeded at Wednesday, May 10, 2023 1:16:49 PM (Elapsed Time: 4.00 seconds)\"]' data-show='true'><div id = 'default' /></div></div>"
      ],
      "text/plain": [
       "<Result 'pm2_5_idw_stats_Seasonal_May10'>"
      ]
     },
     "execution_count": 5,
     "metadata": {},
     "output_type": "execute_result"
    }
   ],
   "source": [
    "out_idw_raster_seasonal = \"IDW_\" + feature_class_name_seasonal\n",
    "arcpy.ga.IDW(\n",
    "    in_features=feature_class_name_seasonal,\n",
    "    z_field=\"pm25_fullDay_mean_Prediction\",\n",
    "    out_ga_layer=\"pm2_5_idw_stats_\" + feature_class_name_seasonal,\n",
    "    out_raster=out_idw_raster_seasonal,\n",
    "    cell_size=10,\n",
    "    power=2,\n",
    "    search_neighborhood=\"NBRTYPE=Standard S_MAJOR=9.87111293434023E-02 S_MINOR=9.87111293434023E-02 ANGLE=0 NBR_MAX=15 NBR_MIN=10 SECTOR_TYPE=ONE_SECTOR\",\n",
    "    weight_field=None\n",
    ")"
   ]
  },
  {
   "cell_type": "markdown",
   "id": "4637f5d1-8c9c-46a8-9f14-103aff80a80f",
   "metadata": {},
   "source": [
    "#### Local Polynomial"
   ]
  },
  {
   "cell_type": "code",
   "execution_count": 6,
   "id": "c027bdd1-efac-41d2-84e5-556d9e04b88f",
   "metadata": {},
   "outputs": [
    {
     "data": {
      "text/html": [
       "<div class='gpresult'><h2>Messages</h2><div id='messages' data-messages='[\"Start Time: Wednesday, May 10, 2023 1:17:07 PM\",\"Succeeded at Wednesday, May 10, 2023 1:17:10 PM (Elapsed Time: 3.73 seconds)\"]' data-show='true'><div id = 'default' /></div></div>"
      ],
      "text/plain": [
       "<Result 'pm2_5_poly_stats_Seasonal_May10'>"
      ]
     },
     "execution_count": 6,
     "metadata": {},
     "output_type": "execute_result"
    }
   ],
   "source": [
    "out_poly_raster_seasonal = \"Poly_\" + feature_class_name_seasonal\n",
    "arcpy.ga.LocalPolynomialInterpolation(\n",
    "    in_features=feature_class_name_seasonal,\n",
    "    z_field=\"pm25_fullDay_mean_Prediction\",\n",
    "    out_ga_layer=\"pm2_5_poly_stats_\" + feature_class_name_seasonal,\n",
    "    out_raster=out_poly_raster_seasonal,\n",
    "    cell_size=0.000932919999999967,\n",
    "    power=1,\n",
    "    search_neighborhood=\"NBRTYPE=Standard S_MAJOR=9.87111293434023E-02 S_MINOR=9.87111293434023E-02 ANGLE=0 NBR_MAX=15 NBR_MIN=10 SECTOR_TYPE=ONE_SECTOR\",\n",
    "    kernel_function=\"EXPONENTIAL\",\n",
    "    bandwidth=None,\n",
    "    use_condition_number=\"NO_USE_CONDITION_NUMBER\",\n",
    "    condition_number=None,\n",
    "    weight_field=None,\n",
    "    output_type=\"PREDICTION\"\n",
    ")"
   ]
  },
  {
   "cell_type": "markdown",
   "id": "a47eac99-4cf2-43bd-8ccf-6c68a00f79ad",
   "metadata": {},
   "source": [
    "### Year-Round"
   ]
  },
  {
   "cell_type": "markdown",
   "id": "68668150-156b-4d25-ae97-88f3cace5265",
   "metadata": {},
   "source": [
    "#### Kriging"
   ]
  },
  {
   "cell_type": "code",
   "execution_count": 7,
   "id": "9a653ffc-63f6-41e6-9019-741675ac6449",
   "metadata": {},
   "outputs": [
    {
     "data": {
      "text/html": [
       "<div class='gpresult'><h2>Messages</h2><div id='messages' data-messages='[\"Start Time: Wednesday, May 10, 2023 1:17:13 PM\",\"\\r\\nWarning(s) for dataset: Yearround_May10\",\"WARNING 040402: NODATA value ignored. ObjectID = 14\",\"WARNING 040402: NODATA value ignored. ObjectID = 22\",\"\\r\\nWarning(s) for dataset: Length of the radius of the search circle = 10988 meters.\",\"Succeeded at Wednesday, May 10, 2023 1:17:19 PM (Elapsed Time: 6.20 seconds)\"]' data-show='true'><div id = 'default' /></div></div>"
      ],
      "text/plain": [
       "<Result 'pm2_5_kriging_stats_Yearround_May10'>"
      ]
     },
     "execution_count": 7,
     "metadata": {},
     "output_type": "execute_result"
    }
   ],
   "source": [
    "out_kriging_raster_yearround = \"Kriging_\" + feature_class_name_yearround\n",
    "arcpy.ga.EmpiricalBayesianKriging(\n",
    "    in_features=feature_class_name_yearround,\n",
    "    z_field=\"pm25_fullDay_mean_Prediction\",\n",
    "    out_ga_layer=\"pm2_5_kriging_stats_\" + feature_class_name_yearround,\n",
    "    out_raster=out_kriging_raster_yearround,\n",
    "    cell_size=0.000932919999999967,\n",
    "    transformation_type=\"NONE\",\n",
    "    max_local_points=100,\n",
    "    overlap_factor=1,\n",
    "    number_semivariograms=100,\n",
    "    search_neighborhood=\"NBRTYPE=StandardCircular RADIUS=9.87111293434023E-02 ANGLE=0 NBR_MAX=15 NBR_MIN=10 SECTOR_TYPE=ONE_SECTOR\",\n",
    "    output_type=\"PREDICTION\",\n",
    "    quantile_value=0.5,\n",
    "    threshold_type=\"EXCEED\",\n",
    "    probability_threshold=None,\n",
    "    semivariogram_model_type=\"POWER\"\n",
    ")"
   ]
  },
  {
   "cell_type": "markdown",
   "id": "d4160b5d-1330-4dee-9809-b7e9f9f79305",
   "metadata": {},
   "source": [
    "#### IDW"
   ]
  },
  {
   "cell_type": "code",
   "execution_count": 8,
   "id": "c305ad02-18e9-4858-bb7f-5aa2eb0d090f",
   "metadata": {},
   "outputs": [
    {
     "data": {
      "text/html": [
       "<div class='gpresult'><h2>Messages</h2><div id='messages' data-messages='[\"Start Time: Wednesday, May 10, 2023 1:17:27 PM\",\"Succeeded at Wednesday, May 10, 2023 1:17:30 PM (Elapsed Time: 2.83 seconds)\"]' data-show='true'><div id = 'default' /></div></div>"
      ],
      "text/plain": [
       "<Result 'pm2_5_idw_stats_Yearround_May10'>"
      ]
     },
     "execution_count": 8,
     "metadata": {},
     "output_type": "execute_result"
    }
   ],
   "source": [
    "out_idw_raster_yearround = \"IDW_\" + feature_class_name_yearround\n",
    "arcpy.ga.IDW(\n",
    "    in_features=feature_class_name_yearround,\n",
    "    z_field=\"pm25_fullDay_mean_Prediction\",\n",
    "    out_ga_layer=\"pm2_5_idw_stats_\" + feature_class_name_yearround,\n",
    "    out_raster=out_idw_raster_yearround,\n",
    "    cell_size=10,\n",
    "    power=2,\n",
    "    search_neighborhood=\"NBRTYPE=Standard S_MAJOR=9.87111293434023E-02 S_MINOR=9.87111293434023E-02 ANGLE=0 NBR_MAX=15 NBR_MIN=10 SECTOR_TYPE=ONE_SECTOR\",\n",
    "    weight_field=None\n",
    ")"
   ]
  },
  {
   "cell_type": "markdown",
   "id": "723bf9c6-b1ee-42c9-b2c9-c01f84bfde34",
   "metadata": {},
   "source": [
    "#### Local Polynomial"
   ]
  },
  {
   "cell_type": "code",
   "execution_count": 9,
   "id": "2b6d91b2-6c51-43b4-abd0-14ac9c143fde",
   "metadata": {},
   "outputs": [
    {
     "data": {
      "text/html": [
       "<div class='gpresult'><h2>Messages</h2><div id='messages' data-messages='[\"Start Time: Wednesday, May 10, 2023 1:17:33 PM\",\"Succeeded at Wednesday, May 10, 2023 1:17:37 PM (Elapsed Time: 3.98 seconds)\"]' data-show='true'><div id = 'default' /></div></div>"
      ],
      "text/plain": [
       "<Result 'pm2_5_poly_stats_Yearround_May10'>"
      ]
     },
     "execution_count": 9,
     "metadata": {},
     "output_type": "execute_result"
    }
   ],
   "source": [
    "out_poly_raster_yearround = \"Poly_\" + feature_class_name_yearround\n",
    "arcpy.ga.LocalPolynomialInterpolation(\n",
    "    in_features=feature_class_name_yearround,\n",
    "    z_field=\"pm25_fullDay_mean_Prediction\",\n",
    "    out_ga_layer=\"pm2_5_poly_stats_\" + feature_class_name_yearround,\n",
    "    out_raster=out_poly_raster_yearround,\n",
    "    cell_size=0.000932919999999967,\n",
    "    power=1,\n",
    "    search_neighborhood=\"NBRTYPE=Standard S_MAJOR=9.87111293434023E-02 S_MINOR=9.87111293434023E-02 ANGLE=0 NBR_MAX=15 NBR_MIN=10 SECTOR_TYPE=ONE_SECTOR\",\n",
    "    kernel_function=\"EXPONENTIAL\",\n",
    "    bandwidth=None,\n",
    "    use_condition_number=\"NO_USE_CONDITION_NUMBER\",\n",
    "    condition_number=None,\n",
    "    weight_field=None,\n",
    "    output_type=\"PREDICTION\"\n",
    ")"
   ]
  },
  {
   "cell_type": "markdown",
   "id": "69b25841-ab9e-44f3-b6fd-e955f4d5972f",
   "metadata": {
    "tags": []
   },
   "source": [
    "## Cross Validation"
   ]
  },
  {
   "cell_type": "markdown",
   "id": "1b1ece55-199d-40dc-aff6-46a631d3a399",
   "metadata": {
    "tags": []
   },
   "source": [
    "### Seasonal"
   ]
  },
  {
   "cell_type": "markdown",
   "id": "afffc03e-d1ac-46b8-9602-d08d79203a66",
   "metadata": {},
   "source": [
    "#### Kriging PM 2.5"
   ]
  },
  {
   "cell_type": "code",
   "execution_count": 10,
   "id": "3889eef7-b370-47ba-8e5c-5127d860bc07",
   "metadata": {},
   "outputs": [],
   "source": [
    "#cross validation\n",
    "pm2_5_kriging_fc_seasonal = \"pm2_5_kriging_cross_valid_\" + feature_class_name_seasonal\n",
    "#pm2_5_kriging_path_all = os.path.join(save_path_gdb, pm2_5_kriging_fc_all)\n",
    "arcpy.ga.CrossValidation(\n",
    "    in_geostat_layer=\"pm2_5_kriging_stats_\" + feature_class_name_seasonal,\n",
    "    out_point_feature_class=pm2_5_kriging_fc_seasonal\n",
    ")\n",
    "# add errors to shared PD DF\n",
    "input_fc =\"pm2_5_kriging_cross_valid_\" + feature_class_name_seasonal\n",
    "fields = [\"OBJECTID\", \"Error\"]\n",
    "\n",
    "# Convert the feature class to a NumPy array and create a Pandas DataFrame\n",
    "arr = arcpy.da.TableToNumPyArray(input_fc, fields)\n",
    "df = pd.DataFrame(arr)\n",
    "rmse_df = df.rename(columns={'Error': 'PM2_5_Kriging_Seasonal_Error'})"
   ]
  },
  {
   "cell_type": "markdown",
   "id": "df338540-135d-4f65-992d-a65d1be605bd",
   "metadata": {},
   "source": [
    "#### IDW PM 2.5"
   ]
  },
  {
   "cell_type": "code",
   "execution_count": 11,
   "id": "af00f41a-df13-43d6-8b88-3b9e3d125697",
   "metadata": {},
   "outputs": [],
   "source": [
    "#cross validation\n",
    "pm2_5_idw_fc_seasonal = \"pm2_5_idw_cross_valid_\" + feature_class_name_seasonal\n",
    "arcpy.ga.CrossValidation(\n",
    "    in_geostat_layer=\"pm2_5_idw_stats_\" + feature_class_name_seasonal,\n",
    "    out_point_feature_class=pm2_5_idw_fc_seasonal\n",
    ")\n",
    "# add errors to shared PD DF\n",
    "input_fc =\"pm2_5_idw_cross_valid_\" + feature_class_name_seasonal\n",
    "fields = [\"OBJECTID\", \"Error\"]\n",
    "\n",
    "# Convert the feature class to a NumPy array and create a Pandas DataFrame\n",
    "arr = arcpy.da.TableToNumPyArray(input_fc, fields)\n",
    "df = pd.DataFrame(arr)\n",
    "merged_df = rmse_df.merge(df, on='OBJECTID', how='left')\n",
    "rmse_df = merged_df.rename(columns={'Error': 'PM2_5_IDW_Seasonal_Error'})"
   ]
  },
  {
   "cell_type": "markdown",
   "id": "1659f55f-367d-4c0c-a6d1-9139091fe9b7",
   "metadata": {},
   "source": [
    "#### Local Polynomial PM 2.5"
   ]
  },
  {
   "cell_type": "code",
   "execution_count": 12,
   "id": "de683328-87ca-4cb4-b28f-d440ce1a55e5",
   "metadata": {},
   "outputs": [],
   "source": [
    "#cross validation\n",
    "pm2_5_poly_fc_seasonal = \"pm2_5_poly_cross_valid_\" + feature_class_name_seasonal\n",
    "arcpy.ga.CrossValidation(\n",
    "    in_geostat_layer=\"pm2_5_poly_stats_\" + feature_class_name_seasonal,\n",
    "    out_point_feature_class=pm2_5_poly_fc_seasonal\n",
    ")\n",
    "# add errors to shared PD DF\n",
    "input_fc =\"pm2_5_poly_cross_valid_\" + feature_class_name_seasonal\n",
    "fields = [\"OBJECTID\", \"Error\"]\n",
    "\n",
    "# Convert the feature class to a NumPy array and create a Pandas DataFrame\n",
    "arr = arcpy.da.TableToNumPyArray(input_fc, fields)\n",
    "df = pd.DataFrame(arr)\n",
    "merged_df = rmse_df.merge(df, on='OBJECTID', how='left')\n",
    "rmse_df = merged_df.rename(columns={'Error': 'PM2_5_Poly_Seasonal_Error'})"
   ]
  },
  {
   "cell_type": "markdown",
   "id": "f11677da-9192-4369-a69c-d9a7ebd1022b",
   "metadata": {},
   "source": [
    "### Year-Round"
   ]
  },
  {
   "cell_type": "markdown",
   "id": "cbfae687-a87d-4c86-af1e-0b01c98f7a4d",
   "metadata": {},
   "source": [
    "#### Kriging PM 2.5"
   ]
  },
  {
   "cell_type": "code",
   "execution_count": 13,
   "id": "ecb066b0-f69a-4f98-b15c-5eea8ece84f6",
   "metadata": {},
   "outputs": [],
   "source": [
    "#cross validation\n",
    "pm2_5_kriging_fc_yearround = \"pm2_5_kriging_cross_valid_\" + feature_class_name_yearround\n",
    "arcpy.ga.CrossValidation(\n",
    "    in_geostat_layer=\"pm2_5_kriging_stats_\" + feature_class_name_yearround,\n",
    "    out_point_feature_class=pm2_5_kriging_fc_yearround\n",
    ")\n",
    "# add errors to shared PD DF\n",
    "input_fc =\"pm2_5_kriging_cross_valid_\" + feature_class_name_yearround\n",
    "fields = [\"OBJECTID\", \"Error\"]\n",
    "\n",
    "# Convert the feature class to a NumPy array and create a Pandas DataFrame\n",
    "arr = arcpy.da.TableToNumPyArray(input_fc, fields)\n",
    "df = pd.DataFrame(arr)\n",
    "merged_df = rmse_df.merge(df, on='OBJECTID', how='left')\n",
    "rmse_df = merged_df.rename(columns={'Error': 'PM2_5_Kriging_Yearround_Error'})"
   ]
  },
  {
   "cell_type": "markdown",
   "id": "e44086c0-b9cb-42c9-a6f4-75bb907408d4",
   "metadata": {},
   "source": [
    "#### IDW PM 2.5"
   ]
  },
  {
   "cell_type": "code",
   "execution_count": 14,
   "id": "2ed9fdb7-3045-443a-8bd0-c7cd769e2657",
   "metadata": {},
   "outputs": [],
   "source": [
    "#cross validation\n",
    "pm2_5_idw_fc_yearround = \"pm2_5_idw_cross_valid_\" + feature_class_name_yearround\n",
    "arcpy.ga.CrossValidation(\n",
    "    in_geostat_layer=\"pm2_5_idw_stats_\" + feature_class_name_yearround,\n",
    "    out_point_feature_class=pm2_5_idw_fc_yearround\n",
    ")\n",
    "# add errors to shared PD DF\n",
    "input_fc =\"pm2_5_idw_cross_valid_\" + feature_class_name_yearround\n",
    "fields = [\"OBJECTID\", \"Error\"]\n",
    "\n",
    "# Convert the feature class to a NumPy array and create a Pandas DataFrame\n",
    "arr = arcpy.da.TableToNumPyArray(input_fc, fields)\n",
    "df = pd.DataFrame(arr)\n",
    "merged_df = rmse_df.merge(df, on='OBJECTID', how='left')\n",
    "rmse_df = merged_df.rename(columns={'Error': 'PM2_5_IDW_Yearround_Error'})"
   ]
  },
  {
   "cell_type": "markdown",
   "id": "7413c772-0608-4d32-9ec3-9c5b27c228f0",
   "metadata": {},
   "source": [
    "#### Local Polynomial "
   ]
  },
  {
   "cell_type": "code",
   "execution_count": 15,
   "id": "539d57fc-eb35-4af2-bdee-3942a2cdfff1",
   "metadata": {},
   "outputs": [],
   "source": [
    "#cross validation\n",
    "pm2_5_poly_fc_yearround = \"pm2_5_poly_cross_valid_\" + feature_class_name_yearround\n",
    "arcpy.ga.CrossValidation(\n",
    "    in_geostat_layer=\"pm2_5_poly_stats_\" + feature_class_name_yearround,\n",
    "    out_point_feature_class=pm2_5_poly_fc_yearround\n",
    ")\n",
    "# add errors to shared PD DF\n",
    "input_fc =\"pm2_5_poly_cross_valid_\" + feature_class_name_yearround\n",
    "fields = [\"OBJECTID\", \"Error\"]\n",
    "\n",
    "# Convert the feature class to a NumPy array and create a Pandas DataFrame\n",
    "arr = arcpy.da.TableToNumPyArray(input_fc, fields)\n",
    "df = pd.DataFrame(arr)\n",
    "merged_df = rmse_df.merge(df, on='OBJECTID', how='left')\n",
    "rmse_df = merged_df.rename(columns={'Error': 'PM2_5_Poly_Yearround_Error'})"
   ]
  },
  {
   "cell_type": "code",
   "execution_count": 14,
   "id": "edbb5500-4d69-426e-b5d5-0fdec0377219",
   "metadata": {
    "collapsed": true,
    "jupyter": {
     "outputs_hidden": true
    },
    "tags": []
   },
   "outputs": [
    {
     "data": {
      "text/html": [
       "<div>\n",
       "<style scoped>\n",
       "    .dataframe tbody tr th:only-of-type {\n",
       "        vertical-align: middle;\n",
       "    }\n",
       "\n",
       "    .dataframe tbody tr th {\n",
       "        vertical-align: top;\n",
       "    }\n",
       "\n",
       "    .dataframe thead th {\n",
       "        text-align: right;\n",
       "    }\n",
       "</style>\n",
       "<table border=\"1\" class=\"dataframe\">\n",
       "  <thead>\n",
       "    <tr style=\"text-align: right;\">\n",
       "      <th></th>\n",
       "      <th>OBJECTID</th>\n",
       "      <th>PM2_5_Kriging_Seasonal_Error</th>\n",
       "      <th>PM2_5_IDW_Seasonal_Error</th>\n",
       "      <th>PM2_5_Poly_Seasonal_Error</th>\n",
       "      <th>PM2_5_Kriging_Yearround_Error</th>\n",
       "      <th>PM2_5_IDW_Yearround_Error</th>\n",
       "      <th>PM2_5_Poly_Yearround_Error</th>\n",
       "    </tr>\n",
       "  </thead>\n",
       "  <tbody>\n",
       "    <tr>\n",
       "      <th>0</th>\n",
       "      <td>1</td>\n",
       "      <td>-1.897155</td>\n",
       "      <td>-2.784704</td>\n",
       "      <td>-1.680961</td>\n",
       "      <td>-1.557266</td>\n",
       "      <td>-1.720019</td>\n",
       "      <td>-1.401819</td>\n",
       "    </tr>\n",
       "    <tr>\n",
       "      <th>1</th>\n",
       "      <td>2</td>\n",
       "      <td>0.382091</td>\n",
       "      <td>0.259186</td>\n",
       "      <td>0.349050</td>\n",
       "      <td>0.315241</td>\n",
       "      <td>0.181062</td>\n",
       "      <td>0.194358</td>\n",
       "    </tr>\n",
       "    <tr>\n",
       "      <th>2</th>\n",
       "      <td>3</td>\n",
       "      <td>-0.325254</td>\n",
       "      <td>0.362930</td>\n",
       "      <td>0.235161</td>\n",
       "      <td>-0.272964</td>\n",
       "      <td>0.191443</td>\n",
       "      <td>-0.223475</td>\n",
       "    </tr>\n",
       "    <tr>\n",
       "      <th>3</th>\n",
       "      <td>4</td>\n",
       "      <td>-0.341965</td>\n",
       "      <td>0.014134</td>\n",
       "      <td>-0.230851</td>\n",
       "      <td>-0.376574</td>\n",
       "      <td>-0.272711</td>\n",
       "      <td>-0.482055</td>\n",
       "    </tr>\n",
       "    <tr>\n",
       "      <th>4</th>\n",
       "      <td>5</td>\n",
       "      <td>1.581623</td>\n",
       "      <td>2.811643</td>\n",
       "      <td>1.933801</td>\n",
       "      <td>0.546349</td>\n",
       "      <td>1.587447</td>\n",
       "      <td>0.748047</td>\n",
       "    </tr>\n",
       "    <tr>\n",
       "      <th>5</th>\n",
       "      <td>6</td>\n",
       "      <td>1.306676</td>\n",
       "      <td>1.435120</td>\n",
       "      <td>1.444577</td>\n",
       "      <td>1.092695</td>\n",
       "      <td>1.047549</td>\n",
       "      <td>1.115366</td>\n",
       "    </tr>\n",
       "    <tr>\n",
       "      <th>6</th>\n",
       "      <td>7</td>\n",
       "      <td>1.084602</td>\n",
       "      <td>1.200844</td>\n",
       "      <td>1.220804</td>\n",
       "      <td>0.584609</td>\n",
       "      <td>0.570917</td>\n",
       "      <td>0.545736</td>\n",
       "    </tr>\n",
       "    <tr>\n",
       "      <th>7</th>\n",
       "      <td>8</td>\n",
       "      <td>1.767244</td>\n",
       "      <td>1.351314</td>\n",
       "      <td>1.143959</td>\n",
       "      <td>-0.436536</td>\n",
       "      <td>-0.348884</td>\n",
       "      <td>-0.503800</td>\n",
       "    </tr>\n",
       "    <tr>\n",
       "      <th>8</th>\n",
       "      <td>9</td>\n",
       "      <td>0.198866</td>\n",
       "      <td>0.989185</td>\n",
       "      <td>0.009155</td>\n",
       "      <td>-0.347973</td>\n",
       "      <td>0.468901</td>\n",
       "      <td>-0.459708</td>\n",
       "    </tr>\n",
       "    <tr>\n",
       "      <th>9</th>\n",
       "      <td>10</td>\n",
       "      <td>0.553803</td>\n",
       "      <td>0.585852</td>\n",
       "      <td>0.230043</td>\n",
       "      <td>0.698926</td>\n",
       "      <td>0.716571</td>\n",
       "      <td>0.822317</td>\n",
       "    </tr>\n",
       "    <tr>\n",
       "      <th>10</th>\n",
       "      <td>11</td>\n",
       "      <td>1.278351</td>\n",
       "      <td>1.035043</td>\n",
       "      <td>1.271508</td>\n",
       "      <td>0.965193</td>\n",
       "      <td>0.612950</td>\n",
       "      <td>0.780828</td>\n",
       "    </tr>\n",
       "    <tr>\n",
       "      <th>11</th>\n",
       "      <td>12</td>\n",
       "      <td>-0.260928</td>\n",
       "      <td>-1.898870</td>\n",
       "      <td>-0.952841</td>\n",
       "      <td>-0.324635</td>\n",
       "      <td>-1.166309</td>\n",
       "      <td>-0.657446</td>\n",
       "    </tr>\n",
       "    <tr>\n",
       "      <th>12</th>\n",
       "      <td>13</td>\n",
       "      <td>0.188030</td>\n",
       "      <td>0.062343</td>\n",
       "      <td>0.465152</td>\n",
       "      <td>0.821375</td>\n",
       "      <td>0.237806</td>\n",
       "      <td>0.160671</td>\n",
       "    </tr>\n",
       "    <tr>\n",
       "      <th>13</th>\n",
       "      <td>14</td>\n",
       "      <td>-0.135261</td>\n",
       "      <td>0.171048</td>\n",
       "      <td>-0.115588</td>\n",
       "      <td>0.209629</td>\n",
       "      <td>0.256017</td>\n",
       "      <td>0.206776</td>\n",
       "    </tr>\n",
       "    <tr>\n",
       "      <th>14</th>\n",
       "      <td>15</td>\n",
       "      <td>-1.268790</td>\n",
       "      <td>-0.969954</td>\n",
       "      <td>-0.843269</td>\n",
       "      <td>-1.073477</td>\n",
       "      <td>-0.819353</td>\n",
       "      <td>-0.982097</td>\n",
       "    </tr>\n",
       "    <tr>\n",
       "      <th>15</th>\n",
       "      <td>16</td>\n",
       "      <td>-0.554009</td>\n",
       "      <td>0.152167</td>\n",
       "      <td>0.583537</td>\n",
       "      <td>0.845175</td>\n",
       "      <td>0.820829</td>\n",
       "      <td>0.876990</td>\n",
       "    </tr>\n",
       "    <tr>\n",
       "      <th>16</th>\n",
       "      <td>17</td>\n",
       "      <td>0.391399</td>\n",
       "      <td>0.514347</td>\n",
       "      <td>0.237470</td>\n",
       "      <td>0.188866</td>\n",
       "      <td>0.289179</td>\n",
       "      <td>0.114943</td>\n",
       "    </tr>\n",
       "    <tr>\n",
       "      <th>17</th>\n",
       "      <td>18</td>\n",
       "      <td>-0.075290</td>\n",
       "      <td>-0.167065</td>\n",
       "      <td>-0.313000</td>\n",
       "      <td>-0.329345</td>\n",
       "      <td>-0.179256</td>\n",
       "      <td>-0.442274</td>\n",
       "    </tr>\n",
       "    <tr>\n",
       "      <th>18</th>\n",
       "      <td>19</td>\n",
       "      <td>0.906348</td>\n",
       "      <td>0.944114</td>\n",
       "      <td>0.743245</td>\n",
       "      <td>0.460443</td>\n",
       "      <td>0.511723</td>\n",
       "      <td>0.468894</td>\n",
       "    </tr>\n",
       "    <tr>\n",
       "      <th>19</th>\n",
       "      <td>20</td>\n",
       "      <td>0.145562</td>\n",
       "      <td>0.157496</td>\n",
       "      <td>-0.023775</td>\n",
       "      <td>0.053933</td>\n",
       "      <td>0.090380</td>\n",
       "      <td>0.081224</td>\n",
       "    </tr>\n",
       "    <tr>\n",
       "      <th>20</th>\n",
       "      <td>21</td>\n",
       "      <td>-0.750337</td>\n",
       "      <td>-0.311553</td>\n",
       "      <td>-0.462171</td>\n",
       "      <td>0.035950</td>\n",
       "      <td>0.113924</td>\n",
       "      <td>-0.104595</td>\n",
       "    </tr>\n",
       "    <tr>\n",
       "      <th>21</th>\n",
       "      <td>22</td>\n",
       "      <td>-0.946090</td>\n",
       "      <td>-1.846500</td>\n",
       "      <td>-3.333098</td>\n",
       "      <td>-1.128888</td>\n",
       "      <td>-1.416366</td>\n",
       "      <td>-2.346050</td>\n",
       "    </tr>\n",
       "    <tr>\n",
       "      <th>22</th>\n",
       "      <td>23</td>\n",
       "      <td>0.240760</td>\n",
       "      <td>0.192441</td>\n",
       "      <td>0.444553</td>\n",
       "      <td>0.799940</td>\n",
       "      <td>0.265433</td>\n",
       "      <td>0.354986</td>\n",
       "    </tr>\n",
       "    <tr>\n",
       "      <th>23</th>\n",
       "      <td>24</td>\n",
       "      <td>-1.667186</td>\n",
       "      <td>-1.858497</td>\n",
       "      <td>-1.987684</td>\n",
       "      <td>-1.553201</td>\n",
       "      <td>-1.298190</td>\n",
       "      <td>-1.676892</td>\n",
       "    </tr>\n",
       "    <tr>\n",
       "      <th>24</th>\n",
       "      <td>25</td>\n",
       "      <td>-0.797176</td>\n",
       "      <td>-1.059310</td>\n",
       "      <td>-1.148635</td>\n",
       "      <td>-0.267859</td>\n",
       "      <td>-0.411323</td>\n",
       "      <td>-0.172898</td>\n",
       "    </tr>\n",
       "    <tr>\n",
       "      <th>25</th>\n",
       "      <td>26</td>\n",
       "      <td>-1.277725</td>\n",
       "      <td>-1.187545</td>\n",
       "      <td>-1.233832</td>\n",
       "      <td>-0.614930</td>\n",
       "      <td>-0.637757</td>\n",
       "      <td>-0.764285</td>\n",
       "    </tr>\n",
       "    <tr>\n",
       "      <th>26</th>\n",
       "      <td>27</td>\n",
       "      <td>0.134730</td>\n",
       "      <td>-0.970941</td>\n",
       "      <td>-0.175323</td>\n",
       "      <td>0.268027</td>\n",
       "      <td>-0.555873</td>\n",
       "      <td>-0.079816</td>\n",
       "    </tr>\n",
       "    <tr>\n",
       "      <th>27</th>\n",
       "      <td>28</td>\n",
       "      <td>-0.187460</td>\n",
       "      <td>-0.373315</td>\n",
       "      <td>-0.475816</td>\n",
       "      <td>-0.241479</td>\n",
       "      <td>-0.243324</td>\n",
       "      <td>-0.285681</td>\n",
       "    </tr>\n",
       "    <tr>\n",
       "      <th>28</th>\n",
       "      <td>29</td>\n",
       "      <td>0.522484</td>\n",
       "      <td>0.477661</td>\n",
       "      <td>0.429729</td>\n",
       "      <td>-0.006409</td>\n",
       "      <td>0.114141</td>\n",
       "      <td>-0.054215</td>\n",
       "    </tr>\n",
       "    <tr>\n",
       "      <th>29</th>\n",
       "      <td>30</td>\n",
       "      <td>-1.790547</td>\n",
       "      <td>-1.910621</td>\n",
       "      <td>-1.682777</td>\n",
       "      <td>-0.610298</td>\n",
       "      <td>-0.870061</td>\n",
       "      <td>-0.693622</td>\n",
       "    </tr>\n",
       "    <tr>\n",
       "      <th>30</th>\n",
       "      <td>31</td>\n",
       "      <td>2.842537</td>\n",
       "      <td>2.870864</td>\n",
       "      <td>2.818551</td>\n",
       "      <td>1.196515</td>\n",
       "      <td>1.411223</td>\n",
       "      <td>1.300541</td>\n",
       "    </tr>\n",
       "    <tr>\n",
       "      <th>31</th>\n",
       "      <td>32</td>\n",
       "      <td>0.683245</td>\n",
       "      <td>0.545872</td>\n",
       "      <td>0.774284</td>\n",
       "      <td>0.546883</td>\n",
       "      <td>0.348485</td>\n",
       "      <td>0.535748</td>\n",
       "    </tr>\n",
       "    <tr>\n",
       "      <th>32</th>\n",
       "      <td>33</td>\n",
       "      <td>5.175511</td>\n",
       "      <td>5.110056</td>\n",
       "      <td>5.426285</td>\n",
       "      <td>3.344597</td>\n",
       "      <td>3.443457</td>\n",
       "      <td>3.578735</td>\n",
       "    </tr>\n",
       "    <tr>\n",
       "      <th>33</th>\n",
       "      <td>34</td>\n",
       "      <td>-1.512767</td>\n",
       "      <td>-1.092772</td>\n",
       "      <td>-0.659120</td>\n",
       "      <td>0.392615</td>\n",
       "      <td>0.104736</td>\n",
       "      <td>-0.076837</td>\n",
       "    </tr>\n",
       "    <tr>\n",
       "      <th>34</th>\n",
       "      <td>35</td>\n",
       "      <td>-0.128805</td>\n",
       "      <td>-0.629329</td>\n",
       "      <td>-0.163372</td>\n",
       "      <td>-0.049617</td>\n",
       "      <td>-0.307025</td>\n",
       "      <td>0.062370</td>\n",
       "    </tr>\n",
       "    <tr>\n",
       "      <th>35</th>\n",
       "      <td>36</td>\n",
       "      <td>-1.291805</td>\n",
       "      <td>-1.900214</td>\n",
       "      <td>-1.660550</td>\n",
       "      <td>-1.215136</td>\n",
       "      <td>-1.314852</td>\n",
       "      <td>-1.302369</td>\n",
       "    </tr>\n",
       "    <tr>\n",
       "      <th>36</th>\n",
       "      <td>37</td>\n",
       "      <td>-1.019879</td>\n",
       "      <td>-0.915010</td>\n",
       "      <td>-0.977674</td>\n",
       "      <td>-1.173496</td>\n",
       "      <td>-1.047203</td>\n",
       "      <td>-1.143886</td>\n",
       "    </tr>\n",
       "    <tr>\n",
       "      <th>37</th>\n",
       "      <td>38</td>\n",
       "      <td>0.126268</td>\n",
       "      <td>0.169482</td>\n",
       "      <td>0.007403</td>\n",
       "      <td>-0.119896</td>\n",
       "      <td>0.013763</td>\n",
       "      <td>-0.114794</td>\n",
       "    </tr>\n",
       "    <tr>\n",
       "      <th>38</th>\n",
       "      <td>39</td>\n",
       "      <td>-0.378027</td>\n",
       "      <td>-0.430554</td>\n",
       "      <td>-1.123492</td>\n",
       "      <td>0.201771</td>\n",
       "      <td>0.046171</td>\n",
       "      <td>-0.755236</td>\n",
       "    </tr>\n",
       "    <tr>\n",
       "      <th>39</th>\n",
       "      <td>40</td>\n",
       "      <td>0.417173</td>\n",
       "      <td>-0.633776</td>\n",
       "      <td>-0.728315</td>\n",
       "      <td>-0.046273</td>\n",
       "      <td>0.196010</td>\n",
       "      <td>0.125040</td>\n",
       "    </tr>\n",
       "    <tr>\n",
       "      <th>40</th>\n",
       "      <td>41</td>\n",
       "      <td>-1.279973</td>\n",
       "      <td>-1.204035</td>\n",
       "      <td>-1.616371</td>\n",
       "      <td>-0.390934</td>\n",
       "      <td>-0.449521</td>\n",
       "      <td>-0.734539</td>\n",
       "    </tr>\n",
       "    <tr>\n",
       "      <th>41</th>\n",
       "      <td>42</td>\n",
       "      <td>-0.784562</td>\n",
       "      <td>-0.942957</td>\n",
       "      <td>-1.018858</td>\n",
       "      <td>-0.633220</td>\n",
       "      <td>-0.710385</td>\n",
       "      <td>-0.727279</td>\n",
       "    </tr>\n",
       "  </tbody>\n",
       "</table>\n",
       "</div>"
      ],
      "text/plain": [
       "    OBJECTID  PM2_5_Kriging_Seasonal_Error  PM2_5_IDW_Seasonal_Error  \\\n",
       "0          1                     -1.897155                 -2.784704   \n",
       "1          2                      0.382091                  0.259186   \n",
       "2          3                     -0.325254                  0.362930   \n",
       "3          4                     -0.341965                  0.014134   \n",
       "4          5                      1.581623                  2.811643   \n",
       "5          6                      1.306676                  1.435120   \n",
       "6          7                      1.084602                  1.200844   \n",
       "7          8                      1.767244                  1.351314   \n",
       "8          9                      0.198866                  0.989185   \n",
       "9         10                      0.553803                  0.585852   \n",
       "10        11                      1.278351                  1.035043   \n",
       "11        12                     -0.260928                 -1.898870   \n",
       "12        13                      0.188030                  0.062343   \n",
       "13        14                     -0.135261                  0.171048   \n",
       "14        15                     -1.268790                 -0.969954   \n",
       "15        16                     -0.554009                  0.152167   \n",
       "16        17                      0.391399                  0.514347   \n",
       "17        18                     -0.075290                 -0.167065   \n",
       "18        19                      0.906348                  0.944114   \n",
       "19        20                      0.145562                  0.157496   \n",
       "20        21                     -0.750337                 -0.311553   \n",
       "21        22                     -0.946090                 -1.846500   \n",
       "22        23                      0.240760                  0.192441   \n",
       "23        24                     -1.667186                 -1.858497   \n",
       "24        25                     -0.797176                 -1.059310   \n",
       "25        26                     -1.277725                 -1.187545   \n",
       "26        27                      0.134730                 -0.970941   \n",
       "27        28                     -0.187460                 -0.373315   \n",
       "28        29                      0.522484                  0.477661   \n",
       "29        30                     -1.790547                 -1.910621   \n",
       "30        31                      2.842537                  2.870864   \n",
       "31        32                      0.683245                  0.545872   \n",
       "32        33                      5.175511                  5.110056   \n",
       "33        34                     -1.512767                 -1.092772   \n",
       "34        35                     -0.128805                 -0.629329   \n",
       "35        36                     -1.291805                 -1.900214   \n",
       "36        37                     -1.019879                 -0.915010   \n",
       "37        38                      0.126268                  0.169482   \n",
       "38        39                     -0.378027                 -0.430554   \n",
       "39        40                      0.417173                 -0.633776   \n",
       "40        41                     -1.279973                 -1.204035   \n",
       "41        42                     -0.784562                 -0.942957   \n",
       "\n",
       "    PM2_5_Poly_Seasonal_Error  PM2_5_Kriging_Yearround_Error  \\\n",
       "0                   -1.680961                      -1.557266   \n",
       "1                    0.349050                       0.315241   \n",
       "2                    0.235161                      -0.272964   \n",
       "3                   -0.230851                      -0.376574   \n",
       "4                    1.933801                       0.546349   \n",
       "5                    1.444577                       1.092695   \n",
       "6                    1.220804                       0.584609   \n",
       "7                    1.143959                      -0.436536   \n",
       "8                    0.009155                      -0.347973   \n",
       "9                    0.230043                       0.698926   \n",
       "10                   1.271508                       0.965193   \n",
       "11                  -0.952841                      -0.324635   \n",
       "12                   0.465152                       0.821375   \n",
       "13                  -0.115588                       0.209629   \n",
       "14                  -0.843269                      -1.073477   \n",
       "15                   0.583537                       0.845175   \n",
       "16                   0.237470                       0.188866   \n",
       "17                  -0.313000                      -0.329345   \n",
       "18                   0.743245                       0.460443   \n",
       "19                  -0.023775                       0.053933   \n",
       "20                  -0.462171                       0.035950   \n",
       "21                  -3.333098                      -1.128888   \n",
       "22                   0.444553                       0.799940   \n",
       "23                  -1.987684                      -1.553201   \n",
       "24                  -1.148635                      -0.267859   \n",
       "25                  -1.233832                      -0.614930   \n",
       "26                  -0.175323                       0.268027   \n",
       "27                  -0.475816                      -0.241479   \n",
       "28                   0.429729                      -0.006409   \n",
       "29                  -1.682777                      -0.610298   \n",
       "30                   2.818551                       1.196515   \n",
       "31                   0.774284                       0.546883   \n",
       "32                   5.426285                       3.344597   \n",
       "33                  -0.659120                       0.392615   \n",
       "34                  -0.163372                      -0.049617   \n",
       "35                  -1.660550                      -1.215136   \n",
       "36                  -0.977674                      -1.173496   \n",
       "37                   0.007403                      -0.119896   \n",
       "38                  -1.123492                       0.201771   \n",
       "39                  -0.728315                      -0.046273   \n",
       "40                  -1.616371                      -0.390934   \n",
       "41                  -1.018858                      -0.633220   \n",
       "\n",
       "    PM2_5_IDW_Yearround_Error  PM2_5_Poly_Yearround_Error  \n",
       "0                   -1.720019                   -1.401819  \n",
       "1                    0.181062                    0.194358  \n",
       "2                    0.191443                   -0.223475  \n",
       "3                   -0.272711                   -0.482055  \n",
       "4                    1.587447                    0.748047  \n",
       "5                    1.047549                    1.115366  \n",
       "6                    0.570917                    0.545736  \n",
       "7                   -0.348884                   -0.503800  \n",
       "8                    0.468901                   -0.459708  \n",
       "9                    0.716571                    0.822317  \n",
       "10                   0.612950                    0.780828  \n",
       "11                  -1.166309                   -0.657446  \n",
       "12                   0.237806                    0.160671  \n",
       "13                   0.256017                    0.206776  \n",
       "14                  -0.819353                   -0.982097  \n",
       "15                   0.820829                    0.876990  \n",
       "16                   0.289179                    0.114943  \n",
       "17                  -0.179256                   -0.442274  \n",
       "18                   0.511723                    0.468894  \n",
       "19                   0.090380                    0.081224  \n",
       "20                   0.113924                   -0.104595  \n",
       "21                  -1.416366                   -2.346050  \n",
       "22                   0.265433                    0.354986  \n",
       "23                  -1.298190                   -1.676892  \n",
       "24                  -0.411323                   -0.172898  \n",
       "25                  -0.637757                   -0.764285  \n",
       "26                  -0.555873                   -0.079816  \n",
       "27                  -0.243324                   -0.285681  \n",
       "28                   0.114141                   -0.054215  \n",
       "29                  -0.870061                   -0.693622  \n",
       "30                   1.411223                    1.300541  \n",
       "31                   0.348485                    0.535748  \n",
       "32                   3.443457                    3.578735  \n",
       "33                   0.104736                   -0.076837  \n",
       "34                  -0.307025                    0.062370  \n",
       "35                  -1.314852                   -1.302369  \n",
       "36                  -1.047203                   -1.143886  \n",
       "37                   0.013763                   -0.114794  \n",
       "38                   0.046171                   -0.755236  \n",
       "39                   0.196010                    0.125040  \n",
       "40                  -0.449521                   -0.734539  \n",
       "41                  -0.710385                   -0.727279  "
      ]
     },
     "execution_count": 14,
     "metadata": {},
     "output_type": "execute_result"
    }
   ],
   "source": [
    "rmse_df"
   ]
  },
  {
   "cell_type": "markdown",
   "id": "b892d35c-3355-45c7-8f92-93b06a9f0ca3",
   "metadata": {
    "tags": []
   },
   "source": [
    "## Calculate RMSE"
   ]
  },
  {
   "cell_type": "markdown",
   "id": "b996ef9f-7cf1-4d91-a35d-fb5a564a3621",
   "metadata": {
    "tags": []
   },
   "source": [
    "### Seasonal"
   ]
  },
  {
   "cell_type": "code",
   "execution_count": 16,
   "id": "8e4a8375-51a6-487e-bff2-f77d7095b040",
   "metadata": {},
   "outputs": [],
   "source": [
    "#calculate RMSE for each cross valid error\n",
    "rmse_df['SQ_PM2_5_Kriging_Seasonal_Error'] = rmse_df['PM2_5_Kriging_Seasonal_Error'] ** 2\n",
    "pm2_5_kriging_seasonal_rmse = numpy.sqrt(rmse_df['SQ_PM2_5_Kriging_Seasonal_Error'].mean())"
   ]
  },
  {
   "cell_type": "code",
   "execution_count": 17,
   "id": "eacefb97-c0a8-401e-84d2-6c4b5669c563",
   "metadata": {},
   "outputs": [],
   "source": [
    "rmse_df['SQ_PM2_5_IDW_Seasonal_Error'] = rmse_df['PM2_5_IDW_Seasonal_Error'] ** 2\n",
    "pm2_5_idw_seasonal_rmse = numpy.sqrt((rmse_df['SQ_PM2_5_IDW_Seasonal_Error'].values).mean())"
   ]
  },
  {
   "cell_type": "code",
   "execution_count": 18,
   "id": "edcce18e-f93a-41f2-8f0c-c800dd70f445",
   "metadata": {},
   "outputs": [],
   "source": [
    "rmse_df['SQ_PM2_5_Poly_Seasonal_Error'] = rmse_df['PM2_5_Poly_Seasonal_Error'] ** 2\n",
    "pm2_5_poly_seasonal_rmse = numpy.sqrt(rmse_df['SQ_PM2_5_Poly_Seasonal_Error'].mean())"
   ]
  },
  {
   "cell_type": "code",
   "execution_count": 28,
   "id": "1a88c338-2a44-4021-8719-4b3126b9e8cf",
   "metadata": {},
   "outputs": [],
   "source": [
    "# Create a dictionary to map the method names to the feature class names\n",
    "method_feature_class_mapping_seasonal_interp = {\n",
    "    'kriging': \"Kriging_\" + feature_class_name_seasonal,\n",
    "    'idw': \"IDW_\" + feature_class_name_seasonal,\n",
    "    'local polynomial': \"Poly_\" + feature_class_name_seasonal\n",
    "}\n",
    "\n",
    "method_feature_class_mapping_seasonal_cross_valid = {\n",
    "    'kriging': \"pm2_5_kriging_cross_valid_\" + feature_class_name_seasonal,\n",
    "    'idw': \"pm2_5_idw_cross_valid_\" + feature_class_name_seasonal,\n",
    "    'local polynomial': \"pm2_5_poly_cross_valid_\" + feature_class_name_seasonal\n",
    "}\n",
    "\n",
    "# Compare all of the RMSEs to find the best\n",
    "pm2_5_compare_seasonal = pd.DataFrame({\n",
    "    'method': ['kriging', 'idw', 'local polynomial'],\n",
    "    'RMSE': [pm2_5_kriging_seasonal_rmse, pm2_5_idw_seasonal_rmse, pm2_5_poly_seasonal_rmse]\n",
    "})\n",
    "\n",
    "# Get index of row with lowest value of RMSE\n",
    "min_index_seasonal = pm2_5_compare_seasonal['RMSE'].idxmin()\n",
    "\n",
    "# Get method with lowest RMSE\n",
    "min_id_seasonal = pm2_5_compare_seasonal.loc[min_index_seasonal, 'method']\n",
    "\n",
    "# Get the corresponding feature class name from the mapping dictionary\n",
    "feature_class_name_seasonal_interp = method_feature_class_mapping_seasonal_interp[min_id_seasonal]\n",
    "feature_class_name_seasonal_cross_valid = method_feature_class_mapping_seasonal_cross_valid[min_id_seasonal]"
   ]
  },
  {
   "cell_type": "markdown",
   "id": "8e883fd8-2793-454d-a992-b74ad53eaff5",
   "metadata": {},
   "source": [
    "### Year-Round"
   ]
  },
  {
   "cell_type": "code",
   "execution_count": 32,
   "id": "ba27c354-5510-4329-8003-2fc3b0316c9b",
   "metadata": {},
   "outputs": [],
   "source": [
    "#calculate RMSE for each cross valid error\n",
    "rmse_df['SQ_PM2_5_Kriging_Yearround_Error'] = rmse_df['PM2_5_Kriging_Yearround_Error'] ** 2\n",
    "pm2_5_kriging_yearround_rmse = numpy.sqrt(rmse_df['SQ_PM2_5_Kriging_Yearround_Error'].mean())"
   ]
  },
  {
   "cell_type": "code",
   "execution_count": 33,
   "id": "59a703a1-f34b-4f6f-9822-de177c7a3d0d",
   "metadata": {},
   "outputs": [],
   "source": [
    "rmse_df['SQ_PM2_5_IDW_Yearround_Error'] = rmse_df['PM2_5_IDW_Yearround_Error'] ** 2\n",
    "pm2_5_idw_yearround_rmse = numpy.sqrt((rmse_df['SQ_PM2_5_IDW_Yearround_Error'].values).mean())"
   ]
  },
  {
   "cell_type": "code",
   "execution_count": 34,
   "id": "02054609-d6ba-478b-bf27-2615159b7fe8",
   "metadata": {},
   "outputs": [],
   "source": [
    "rmse_df['SQ_PM2_5_Poly_Yearround_Error'] = rmse_df['PM2_5_Poly_Yearround_Error'] ** 2\n",
    "pm2_5_poly_yearround_rmse = numpy.sqrt(rmse_df['SQ_PM2_5_Poly_Yearround_Error'].mean())"
   ]
  },
  {
   "cell_type": "code",
   "execution_count": 36,
   "id": "3a485c27-d750-4943-9420-be58137370f9",
   "metadata": {},
   "outputs": [],
   "source": [
    "# Create a dictionary to map the method names to the feature class names\n",
    "method_feature_class_mapping_yearround_interp = {\n",
    "    'kriging': \"Kriging_\" + feature_class_name_yearround,\n",
    "    'idw': \"IDW_\" + feature_class_name_yearround,\n",
    "    'local polynomial': \"Poly_\" + feature_class_name_yearround\n",
    "}\n",
    "\n",
    "method_feature_class_mapping_yearround_cross_valid = {\n",
    "    'kriging': \"pm2_5_kriging_cross_valid_\" + feature_class_name_yearround,\n",
    "    'idw': \"pm2_5_idw_cross_valid_\" + feature_class_name_yearround,\n",
    "    'local polynomial': \"pm2_5_poly_cross_valid_\" + feature_class_name_yearround\n",
    "}\n",
    "\n",
    "# Compare all of the RMSEs to find the best\n",
    "pm2_5_compare_yearround = pd.DataFrame({\n",
    "    'method': ['kriging', 'idw', 'local polynomial'],\n",
    "    'RMSE': [pm2_5_kriging_yearround_rmse, pm2_5_idw_yearround_rmse, pm2_5_poly_yearround_rmse]\n",
    "})\n",
    "\n",
    "# Get index of row with lowest value of RMSE\n",
    "min_index_yearround = pm2_5_compare_yearround['RMSE'].idxmin()\n",
    "\n",
    "# Get method with lowest RMSE\n",
    "min_id_yearround = pm2_5_compare_yearround.loc[min_index_yearround, 'method']\n",
    "\n",
    "# Get the corresponding feature class name from the mapping dictionary\n",
    "feature_class_name_yearround_interp = method_feature_class_mapping_yearround_interp[min_id_seasonal]\n",
    "feature_class_name_yearround_cross_valid = method_feature_class_mapping_yearround_cross_valid[min_id_seasonal]"
   ]
  },
  {
   "cell_type": "markdown",
   "id": "b07fb968-7570-45fd-8fd5-5357dfa1e652",
   "metadata": {
    "tags": []
   },
   "source": [
    "## Raster to Point Each Interpolation"
   ]
  },
  {
   "cell_type": "markdown",
   "id": "07f1b343-330d-43a5-924e-a2604b303963",
   "metadata": {},
   "source": [
    "### Seasonal"
   ]
  },
  {
   "cell_type": "code",
   "execution_count": 29,
   "id": "6280105f-2127-475c-8a16-d85d8783ad36",
   "metadata": {},
   "outputs": [
    {
     "data": {
      "text/html": [
       "<div class='gpresult'><h2>Messages</h2><div id='messages' data-messages='[\"Start Time: Wednesday, May 10, 2023 2:33:28 PM\",\"Succeeded at Wednesday, May 10, 2023 2:33:29 PM (Elapsed Time: 1.40 seconds)\"]' data-show='true'><div id = 'default' /></div></div>"
      ],
      "text/plain": [
       "<Result 'C:\\\\Users\\\\tande\\\\Documents\\\\GitHub\\\\QualityAirQualityCities\\\\arcpy\\\\interpolation\\\\..\\\\..\\\\data\\\\QAQC.gdb\\\\Raster_to_Point_Seasonal_May10'>"
      ]
     },
     "execution_count": 29,
     "metadata": {},
     "output_type": "execute_result"
    }
   ],
   "source": [
    "out_point_seasonal = \"Raster_to_Point_\" + feature_class_name_seasonal\n",
    "arcpy.conversion.RasterToPoint(\n",
    "    in_raster=feature_class_name_seasonal_interp,\n",
    "    out_point_features=out_point_seasonal,\n",
    "    raster_field=\"Value\"\n",
    ")"
   ]
  },
  {
   "cell_type": "markdown",
   "id": "db95c759-d2f8-4fed-8844-4388d41b4522",
   "metadata": {},
   "source": [
    "### Year-Round"
   ]
  },
  {
   "cell_type": "code",
   "execution_count": 37,
   "id": "26cfecac-7b50-45b2-97b0-123ae424eee8",
   "metadata": {},
   "outputs": [
    {
     "data": {
      "text/html": [
       "<div class='gpresult'><h2>Messages</h2><div id='messages' data-messages='[\"Start Time: Wednesday, May 10, 2023 2:37:40 PM\",\"Succeeded at Wednesday, May 10, 2023 2:37:42 PM (Elapsed Time: 1.52 seconds)\"]' data-show='true'><div id = 'default' /></div></div>"
      ],
      "text/plain": [
       "<Result 'C:\\\\Users\\\\tande\\\\Documents\\\\GitHub\\\\QualityAirQualityCities\\\\arcpy\\\\interpolation\\\\..\\\\..\\\\data\\\\QAQC.gdb\\\\Raster_to_Point_Yearround_May10'>"
      ]
     },
     "execution_count": 37,
     "metadata": {},
     "output_type": "execute_result"
    }
   ],
   "source": [
    "out_point_yearround = \"Raster_to_Point_\" + feature_class_name_yearround\n",
    "arcpy.conversion.RasterToPoint(\n",
    "    in_raster=feature_class_name_yearround_interp,\n",
    "    out_point_features=out_point_yearround,\n",
    "    raster_field=\"Value\"\n",
    ")"
   ]
  },
  {
   "cell_type": "markdown",
   "id": "fcdce023-58c6-46f6-8155-a7dfdd69e95b",
   "metadata": {
    "tags": []
   },
   "source": [
    "## Clipping to the Extent"
   ]
  },
  {
   "cell_type": "markdown",
   "id": "3feda8c6-4118-409f-be07-cf8cb3ba43ef",
   "metadata": {},
   "source": [
    "### Seasonal"
   ]
  },
  {
   "cell_type": "code",
   "execution_count": 21,
   "id": "d8350b4a-4970-4812-8082-d794a66e0b57",
   "metadata": {},
   "outputs": [
    {
     "data": {
      "text/html": [
       "<div class='gpresult'><h2>Messages</h2><div id='messages' data-messages='[\"Start Time: Wednesday, May 10, 2023 1:19:18 PM\",\"Analyzing input features...\",\"Dissolving clip features...\",\"Clipping input features...\",\"Succeeded at Wednesday, May 10, 2023 1:19:20 PM (Elapsed Time: 1.63 seconds)\"]' data-show='true'><div id = 'default' /></div></div>"
      ],
      "text/plain": [
       "<Result 'C:\\\\Users\\\\tande\\\\Documents\\\\GitHub\\\\QualityAirQualityCities\\\\arcpy\\\\interpolation\\\\..\\\\..\\\\data\\\\QAQC.gdb\\\\PM2_5_Clipped_Seasonal_May10'>"
      ]
     },
     "execution_count": 21,
     "metadata": {},
     "output_type": "execute_result"
    }
   ],
   "source": [
    "out_clip_seasonal = \"PM2_5_Clipped_\" + feature_class_name_seasonal\n",
    "arcpy.analysis.Clip(\n",
    "    in_features=\"Raster_to_Point_\" + feature_class_name_seasonal,\n",
    "    clip_features='mpls_boundary',\n",
    "    out_feature_class=out_clip_seasonal,\n",
    "    cluster_tolerance=None\n",
    ")"
   ]
  },
  {
   "cell_type": "markdown",
   "id": "c523e919-6be7-4e06-98f2-13f4f32f96f5",
   "metadata": {},
   "source": [
    "### Year-Round"
   ]
  },
  {
   "cell_type": "code",
   "execution_count": 38,
   "id": "042e513c-cca2-4a8d-a2fd-b7cff38c684c",
   "metadata": {},
   "outputs": [
    {
     "data": {
      "text/html": [
       "<div class='gpresult'><h2>Messages</h2><div id='messages' data-messages='[\"Start Time: Wednesday, May 10, 2023 2:37:47 PM\",\"Analyzing input features...\",\"Dissolving clip features...\",\"Clipping input features...\",\"Succeeded at Wednesday, May 10, 2023 2:37:47 PM (Elapsed Time: 0.57 seconds)\"]' data-show='true'><div id = 'default' /></div></div>"
      ],
      "text/plain": [
       "<Result 'C:\\\\Users\\\\tande\\\\Documents\\\\GitHub\\\\QualityAirQualityCities\\\\arcpy\\\\interpolation\\\\..\\\\..\\\\data\\\\QAQC.gdb\\\\PM2_5_Clipped_Yearround_May10'>"
      ]
     },
     "execution_count": 38,
     "metadata": {},
     "output_type": "execute_result"
    }
   ],
   "source": [
    "out_clip_yearround = \"PM2_5_Clipped_\" + feature_class_name_yearround\n",
    "arcpy.analysis.Clip(\n",
    "    in_features=\"Raster_to_Point_\" + feature_class_name_yearround,\n",
    "    clip_features='mpls_boundary',\n",
    "    out_feature_class=out_clip_yearround,\n",
    "    cluster_tolerance=None\n",
    ")"
   ]
  },
  {
   "cell_type": "markdown",
   "id": "9f5029c2-adde-488b-b6ac-fba1c47b9406",
   "metadata": {
    "tags": []
   },
   "source": [
    "## Save to Local and Remote Databases"
   ]
  },
  {
   "cell_type": "markdown",
   "id": "9c2cf6ab-044f-4995-877e-af96d04a8f47",
   "metadata": {},
   "source": [
    "### Connect to DB"
   ]
  },
  {
   "cell_type": "code",
   "execution_count": 26,
   "id": "93973f66-7a04-4833-ad36-33e6232f8c68",
   "metadata": {},
   "outputs": [
    {
     "name": "stdout",
     "output_type": "stream",
     "text": [
      "connected\n"
     ]
    }
   ],
   "source": [
    "# Get credentials\n",
    "\n",
    "cred_pth = os.path.join(os.getcwd(), '..', '..', 'database', 'db_credentials.txt')\n",
    "\n",
    "with open(cred_pth, 'r') as f:\n",
    "    \n",
    "    creds = f.readlines()[0].split(', ')\n",
    "\n",
    "# Connect to PostGIS Database\n",
    "\n",
    "pg_connection_dict = dict(zip(['dbname', 'user', 'password', 'port', 'host'], creds))\n",
    "\n",
    "try:\n",
    "    conn = psycopg2.connect(**pg_connection_dict)\n",
    "    print(\"connected\")\n",
    "except:\n",
    "    print(\"connection failed\")"
   ]
  },
  {
   "cell_type": "markdown",
   "id": "1923725d-128f-4e79-83c2-987cfeb692d5",
   "metadata": {},
   "source": [
    "### Create & Populate Tables"
   ]
  },
  {
   "cell_type": "markdown",
   "id": "fd93a242-b6fc-43a6-ab69-7e0d41ec5567",
   "metadata": {},
   "source": [
    "#### Seasonal Interpolation"
   ]
  },
  {
   "cell_type": "code",
   "execution_count": 23,
   "id": "5a99d7c6-aa35-47ef-82f4-074e5e97c10f",
   "metadata": {
    "collapsed": true,
    "jupyter": {
     "outputs_hidden": true
    },
    "tags": []
   },
   "outputs": [
    {
     "ename": "KeyboardInterrupt",
     "evalue": "",
     "output_type": "error",
     "traceback": [
      "\u001b[1;31m---------------------------------------------------------------------------\u001b[0m",
      "\u001b[1;31mKeyboardInterrupt\u001b[0m                         Traceback (most recent call last)",
      "\u001b[1;32m~\\AppData\\Local\\Temp\\ipykernel_4796\\408044765.py\u001b[0m in \u001b[0;36m<cell line: 18>\u001b[1;34m()\u001b[0m\n\u001b[0;32m     19\u001b[0m     \u001b[1;32mfor\u001b[0m \u001b[0mrow\u001b[0m \u001b[1;32min\u001b[0m \u001b[0mda_cursor\u001b[0m\u001b[1;33m:\u001b[0m\u001b[1;33m\u001b[0m\u001b[1;33m\u001b[0m\u001b[0m\n\u001b[0;32m     20\u001b[0m         \u001b[0mwkt\u001b[0m \u001b[1;33m=\u001b[0m \u001b[0mrow\u001b[0m\u001b[1;33m[\u001b[0m\u001b[1;36m2\u001b[0m\u001b[1;33m]\u001b[0m\u001b[1;33m\u001b[0m\u001b[1;33m\u001b[0m\u001b[0m\n\u001b[1;32m---> 21\u001b[1;33m         \u001b[0mcursor\u001b[0m\u001b[1;33m.\u001b[0m\u001b[0mexecute\u001b[0m\u001b[1;33m(\u001b[0m\u001b[1;34m\"INSERT INTO PM2_5_Seasonal_Forecast (pointid, grid_code, geometry) VALUES (%s, %s, ST_GeomFromText(%s, 4326))\"\u001b[0m\u001b[1;33m,\u001b[0m \u001b[1;33m(\u001b[0m\u001b[0mrow\u001b[0m\u001b[1;33m[\u001b[0m\u001b[1;36m0\u001b[0m\u001b[1;33m]\u001b[0m\u001b[1;33m,\u001b[0m \u001b[0mrow\u001b[0m\u001b[1;33m[\u001b[0m\u001b[1;36m1\u001b[0m\u001b[1;33m]\u001b[0m\u001b[1;33m,\u001b[0m \u001b[0mwkt\u001b[0m\u001b[1;33m)\u001b[0m\u001b[1;33m)\u001b[0m\u001b[1;33m\u001b[0m\u001b[1;33m\u001b[0m\u001b[0m\n\u001b[0m\u001b[0;32m     22\u001b[0m         \u001b[0mconn\u001b[0m\u001b[1;33m.\u001b[0m\u001b[0mcommit\u001b[0m\u001b[1;33m(\u001b[0m\u001b[1;33m)\u001b[0m\u001b[1;33m\u001b[0m\u001b[1;33m\u001b[0m\u001b[0m\n",
      "\u001b[1;32m~\\AppData\\Local\\ESRI\\conda\\envs\\arcgispro-py3-clone\\lib\\encodings\\utf_8.py\u001b[0m in \u001b[0;36mdecode\u001b[1;34m(input, errors)\u001b[0m\n\u001b[0;32m     13\u001b[0m \u001b[0mencode\u001b[0m \u001b[1;33m=\u001b[0m \u001b[0mcodecs\u001b[0m\u001b[1;33m.\u001b[0m\u001b[0mutf_8_encode\u001b[0m\u001b[1;33m\u001b[0m\u001b[1;33m\u001b[0m\u001b[0m\n\u001b[0;32m     14\u001b[0m \u001b[1;33m\u001b[0m\u001b[0m\n\u001b[1;32m---> 15\u001b[1;33m \u001b[1;32mdef\u001b[0m \u001b[0mdecode\u001b[0m\u001b[1;33m(\u001b[0m\u001b[0minput\u001b[0m\u001b[1;33m,\u001b[0m \u001b[0merrors\u001b[0m\u001b[1;33m=\u001b[0m\u001b[1;34m'strict'\u001b[0m\u001b[1;33m)\u001b[0m\u001b[1;33m:\u001b[0m\u001b[1;33m\u001b[0m\u001b[1;33m\u001b[0m\u001b[0m\n\u001b[0m\u001b[0;32m     16\u001b[0m     \u001b[1;32mreturn\u001b[0m \u001b[0mcodecs\u001b[0m\u001b[1;33m.\u001b[0m\u001b[0mutf_8_decode\u001b[0m\u001b[1;33m(\u001b[0m\u001b[0minput\u001b[0m\u001b[1;33m,\u001b[0m \u001b[0merrors\u001b[0m\u001b[1;33m,\u001b[0m \u001b[1;32mTrue\u001b[0m\u001b[1;33m)\u001b[0m\u001b[1;33m\u001b[0m\u001b[1;33m\u001b[0m\u001b[0m\n\u001b[0;32m     17\u001b[0m \u001b[1;33m\u001b[0m\u001b[0m\n",
      "\u001b[1;31mKeyboardInterrupt\u001b[0m: "
     ]
    }
   ],
   "source": [
    "points = os.path.join(save_path_gdb, \"PM2_5_Clipped_\" + feature_class_name_seasonal)\n",
    "fields_points = ['pointid', 'grid_code', \"SHAPE@WKT\"]\n",
    "\n",
    "# Create SQL table\n",
    "cursor = conn.cursor()\n",
    "cursor.execute(\"DROP TABLE IF EXISTS PM2_5_Seasonal_Forecast\")\n",
    "cursor.execute(\"\"\"\n",
    "    CREATE TABLE PM2_5_Seasonal_Forecast (\n",
    "        id SERIAL,\n",
    "        pointid INT,\n",
    "        grid_code DOUBLE PRECISION,\n",
    "        geometry geometry\n",
    "        )\n",
    "\"\"\")\n",
    "conn.commit()\n",
    "\n",
    "# Populate PostGIS\n",
    "with arcpy.da.SearchCursor(points, fields_points) as da_cursor:\n",
    "    for row in da_cursor:\n",
    "        wkt = row[2]\n",
    "        cursor.execute(\"INSERT INTO PM2_5_Seasonal_Forecast (pointid, grid_code, geometry) VALUES (%s, %s, ST_GeomFromText(%s, 4326))\", (row[0], row[1], wkt))\n",
    "        conn.commit()"
   ]
  },
  {
   "cell_type": "markdown",
   "id": "52da9480-ddea-4739-a287-a6da1bd164c8",
   "metadata": {},
   "source": [
    "#### Seasonal Cross Validation"
   ]
  },
  {
   "cell_type": "code",
   "execution_count": 30,
   "id": "4006b798-1c7c-40f5-9036-530f27a7b786",
   "metadata": {},
   "outputs": [],
   "source": [
    "points = os.path.join(save_path_gdb, feature_class_name_seasonal_cross_valid)\n",
    "fields_points = ['OBJECTID','Error', \"SHAPE@WKT\"]\n",
    "\n",
    "# Create SQL table\n",
    "cursor = conn.cursor()\n",
    "cursor.execute(\"DROP TABLE IF EXISTS PM2_5_Seasonal_Errors_Forecast\")\n",
    "cursor.execute(\"\"\"\n",
    "    CREATE TABLE PM2_5_Seasonal_Errors_Forecast (\n",
    "        id SERIAL,\n",
    "        objectid INT,\n",
    "        error DOUBLE PRECISION,\n",
    "        geometry geometry\n",
    "        )\n",
    "\"\"\")\n",
    "conn.commit()\n",
    "\n",
    "# Populate PostGIS\n",
    "with arcpy.da.SearchCursor(points, fields_points) as da_cursor:\n",
    "    for row in da_cursor:\n",
    "        wkt = row[2]\n",
    "        cursor.execute(\"INSERT INTO PM2_5_Seasonal_Errors_Forecast (objectid, error, geometry) VALUES (%s, %s, ST_GeomFromText(%s, 4326))\", (row[0], row[1], wkt))\n",
    "        conn.commit()"
   ]
  },
  {
   "cell_type": "markdown",
   "id": "55fe7d40-9760-4fb9-9a56-4584ce98ae0e",
   "metadata": {},
   "source": [
    "#### Year-Round Interpolation"
   ]
  },
  {
   "cell_type": "code",
   "execution_count": 39,
   "id": "e8b4421a-b12e-4eff-b861-c1b39620f438",
   "metadata": {},
   "outputs": [
    {
     "ename": "KeyboardInterrupt",
     "evalue": "",
     "output_type": "error",
     "traceback": [
      "\u001b[1;31m---------------------------------------------------------------------------\u001b[0m",
      "\u001b[1;31mKeyboardInterrupt\u001b[0m                         Traceback (most recent call last)",
      "\u001b[1;32m~\\AppData\\Local\\Temp\\ipykernel_4796\\3993022293.py\u001b[0m in \u001b[0;36m<cell line: 18>\u001b[1;34m()\u001b[0m\n\u001b[0;32m     20\u001b[0m         \u001b[0mwkt\u001b[0m \u001b[1;33m=\u001b[0m \u001b[0mrow\u001b[0m\u001b[1;33m[\u001b[0m\u001b[1;36m2\u001b[0m\u001b[1;33m]\u001b[0m\u001b[1;33m\u001b[0m\u001b[1;33m\u001b[0m\u001b[0m\n\u001b[0;32m     21\u001b[0m         \u001b[0mcursor\u001b[0m\u001b[1;33m.\u001b[0m\u001b[0mexecute\u001b[0m\u001b[1;33m(\u001b[0m\u001b[1;34m\"INSERT INTO PM2_5_YearRound_Forecast (pointid, grid_code, geometry) VALUES (%s, %s, ST_GeomFromText(%s, 4326))\"\u001b[0m\u001b[1;33m,\u001b[0m \u001b[1;33m(\u001b[0m\u001b[0mrow\u001b[0m\u001b[1;33m[\u001b[0m\u001b[1;36m0\u001b[0m\u001b[1;33m]\u001b[0m\u001b[1;33m,\u001b[0m \u001b[0mrow\u001b[0m\u001b[1;33m[\u001b[0m\u001b[1;36m1\u001b[0m\u001b[1;33m]\u001b[0m\u001b[1;33m,\u001b[0m \u001b[0mwkt\u001b[0m\u001b[1;33m)\u001b[0m\u001b[1;33m)\u001b[0m\u001b[1;33m\u001b[0m\u001b[1;33m\u001b[0m\u001b[0m\n\u001b[1;32m---> 22\u001b[1;33m         \u001b[0mconn\u001b[0m\u001b[1;33m.\u001b[0m\u001b[0mcommit\u001b[0m\u001b[1;33m(\u001b[0m\u001b[1;33m)\u001b[0m\u001b[1;33m\u001b[0m\u001b[1;33m\u001b[0m\u001b[0m\n\u001b[0m",
      "\u001b[1;31mKeyboardInterrupt\u001b[0m: "
     ]
    }
   ],
   "source": [
    "points = os.path.join(save_path_gdb, \"PM2_5_Clipped_\" + feature_class_name_yearround)\n",
    "fields_points = ['pointid', 'grid_code', \"SHAPE@WKT\"]\n",
    "\n",
    "# Create SQL table\n",
    "cursor = conn.cursor()\n",
    "cursor.execute(\"DROP TABLE IF EXISTS PM2_5_YearRound_Forecast\")\n",
    "cursor.execute(\"\"\"\n",
    "    CREATE TABLE PM2_5_YearRound_Forecast (\n",
    "        id SERIAL,\n",
    "        pointid INT,\n",
    "        grid_code DOUBLE PRECISION,\n",
    "        geometry geometry\n",
    "        )\n",
    "\"\"\")\n",
    "conn.commit()\n",
    "\n",
    "# Populate PostGIS\n",
    "with arcpy.da.SearchCursor(points, fields_points) as da_cursor:\n",
    "    for row in da_cursor:\n",
    "        wkt = row[2]\n",
    "        cursor.execute(\"INSERT INTO PM2_5_YearRound_Forecast (pointid, grid_code, geometry) VALUES (%s, %s, ST_GeomFromText(%s, 4326))\", (row[0], row[1], wkt))\n",
    "        conn.commit()"
   ]
  },
  {
   "cell_type": "markdown",
   "id": "076ae654-8405-41b1-8116-325c3ef18236",
   "metadata": {},
   "source": [
    "#### Year-Round Cross Validation"
   ]
  },
  {
   "cell_type": "code",
   "execution_count": 40,
   "id": "48473582-2726-4eb9-bc06-7cd4ccdfc3bf",
   "metadata": {},
   "outputs": [],
   "source": [
    "points = os.path.join(save_path_gdb, feature_class_name_yearround_cross_valid)\n",
    "fields_points = ['OBJECTID','Error', \"SHAPE@WKT\"]\n",
    "\n",
    "# Create SQL table\n",
    "cursor = conn.cursor()\n",
    "cursor.execute(\"DROP TABLE IF EXISTS PM2_5_Yearround_Errors_Forecast\")\n",
    "cursor.execute(\"\"\"\n",
    "    CREATE TABLE PM2_5_Yearround_Errors_Forecast (\n",
    "        id SERIAL,\n",
    "        objectid INT,\n",
    "        error DOUBLE PRECISION,\n",
    "        geometry geometry\n",
    "        )\n",
    "\"\"\")\n",
    "conn.commit()\n",
    "\n",
    "# Populate PostGIS\n",
    "with arcpy.da.SearchCursor(points, fields_points) as da_cursor:\n",
    "    for row in da_cursor:\n",
    "        wkt = row[2]\n",
    "        cursor.execute(\"INSERT INTO PM2_5_Yearround_Errors_Forecast (objectid, error, geometry) VALUES (%s, %s, ST_GeomFromText(%s, 4326))\", (row[0], row[1], wkt))\n",
    "        conn.commit()"
   ]
  }
 ],
 "metadata": {
  "kernelspec": {
   "display_name": "Python 3 (ipykernel)",
   "language": "python",
   "name": "python3"
  },
  "language_info": {
   "codemirror_mode": {
    "name": "ipython",
    "version": 3
   },
   "file_extension": ".py",
   "mimetype": "text/x-python",
   "name": "python",
   "nbconvert_exporter": "python",
   "pygments_lexer": "ipython3",
   "version": "3.9.16"
  }
 },
 "nbformat": 4,
 "nbformat_minor": 5
}
