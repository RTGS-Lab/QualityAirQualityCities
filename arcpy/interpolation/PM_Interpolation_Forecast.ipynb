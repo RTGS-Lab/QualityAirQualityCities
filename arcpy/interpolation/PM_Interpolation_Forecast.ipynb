{
 "cells": [
  {
   "cell_type": "markdown",
   "id": "d2137878-831c-4224-940b-d013e4e86df0",
   "metadata": {},
   "source": [
    "# PurpleAir PM Forecasted Interpolation"
   ]
  },
  {
   "cell_type": "markdown",
   "id": "0c390882-6c84-4340-988c-d753d00d25a9",
   "metadata": {
    "tags": []
   },
   "source": [
    "## Set Up"
   ]
  },
  {
   "cell_type": "markdown",
   "id": "9cf38ba7-b562-45da-bcd2-6c6191a8bfdc",
   "metadata": {
    "tags": []
   },
   "source": [
    "### Import Packages"
   ]
  },
  {
   "cell_type": "code",
   "execution_count": 5,
   "id": "76e4686a-1a0d-43e7-9e8f-79b9721e2a33",
   "metadata": {},
   "outputs": [],
   "source": [
    "import arcpy\n",
    "import pandas as pd\n",
    "import psycopg2\n",
    "from psycopg2 import sql\n",
    "import numpy as np\n",
    "import os\n",
    "from datetime import date"
   ]
  },
  {
   "cell_type": "markdown",
   "id": "f54e518d-7368-4edf-b5e9-495dfbeb00e3",
   "metadata": {
    "tags": []
   },
   "source": [
    "### Set Workspace"
   ]
  },
  {
   "cell_type": "code",
   "execution_count": 14,
   "id": "b379a88b-0445-4ebc-b9b8-335ee371a965",
   "metadata": {},
   "outputs": [],
   "source": [
    "cwd = os.getcwd()\n",
    "\n",
    "# Make it workspace\n",
    "\n",
    "arcpy.env.workspace = os.path.join(cwd, '..', '..', 'data', 'QAQC.gdb')\n",
    "\n",
    "arcpy.env.overwriteOutput = True # Overwrite layers is okay\n",
    "\n",
    "save_path_csv = os.path.join(cwd, '..', '..', 'data')\n",
    "save_path_gdb = os.path.join(cwd, '..', '..', 'data', 'QAQC.gdb')\n",
    "boundary_path = os.path.join(cwd, '..', '..', 'data', 'mpls_boundary.geojson')\n",
    "seasonal_path = historic_path = os.path.join(cwd, '..', '..', 'data', 'Seasonal_Predictions_'+ current_date + '.csv')\n",
    "all_path = historic_path = os.path.join(cwd, '..', '..', 'data', 'Yearround_Predictions_' + current_date + '.csv')"
   ]
  },
  {
   "cell_type": "code",
   "execution_count": 4,
   "id": "352fc474-2f90-4baf-8723-b01a011d458e",
   "metadata": {
    "collapsed": true,
    "jupyter": {
     "outputs_hidden": true
    },
    "tags": []
   },
   "outputs": [
    {
     "ename": "ExecuteError",
     "evalue": "Failed to execute. Parameters are not valid.\nERROR 000732: Input JSON or GeoJSON: Dataset C:\\Users\\tande\\Documents\\GitHub\\QualityAirQualityCities\\arcpy\\interpolation\\..\\..\\data\\mpls_boundary.geojson does not exist or is not supported\nWARNING 000725: Output Feature Class: Dataset C:\\Users\\tande\\Documents\\GitHub\\QualityAirQualityCities\\arcpy\\interpolation\\..\\..\\data\\QAQC.gdb\\mpls_boundary already exists.\nFailed to execute (JSONToFeatures).\n",
     "output_type": "error",
     "traceback": [
      "\u001b[1;31m---------------------------------------------------------------------------\u001b[0m",
      "\u001b[1;31mExecuteError\u001b[0m                              Traceback (most recent call last)",
      "\u001b[1;32m~\\AppData\\Local\\Temp\\ipykernel_69760\\3896757972.py\u001b[0m in \u001b[0;36m<cell line: 5>\u001b[1;34m()\u001b[0m\n\u001b[0;32m      3\u001b[0m \u001b[1;33m\u001b[0m\u001b[0m\n\u001b[0;32m      4\u001b[0m \u001b[1;31m# Convert the GeoJSON file to a feature class\u001b[0m\u001b[1;33m\u001b[0m\u001b[1;33m\u001b[0m\u001b[0m\n\u001b[1;32m----> 5\u001b[1;33m \u001b[0marcpy\u001b[0m\u001b[1;33m.\u001b[0m\u001b[0mJSONToFeatures_conversion\u001b[0m\u001b[1;33m(\u001b[0m\u001b[0mboundary_path\u001b[0m\u001b[1;33m,\u001b[0m \u001b[0moutput_fc\u001b[0m\u001b[1;33m)\u001b[0m\u001b[1;33m\u001b[0m\u001b[1;33m\u001b[0m\u001b[0m\n\u001b[0m",
      "\u001b[1;32mC:\\Program Files\\ArcGIS\\Pro\\Resources\\ArcPy\\arcpy\\conversion.py\u001b[0m in \u001b[0;36mJSONToFeatures\u001b[1;34m(in_json_file, out_features, geometry_type)\u001b[0m\n\u001b[0;32m   1170\u001b[0m         \u001b[1;32mreturn\u001b[0m \u001b[0mretval\u001b[0m\u001b[1;33m\u001b[0m\u001b[1;33m\u001b[0m\u001b[0m\n\u001b[0;32m   1171\u001b[0m     \u001b[1;32mexcept\u001b[0m \u001b[0mException\u001b[0m \u001b[1;32mas\u001b[0m \u001b[0me\u001b[0m\u001b[1;33m:\u001b[0m\u001b[1;33m\u001b[0m\u001b[1;33m\u001b[0m\u001b[0m\n\u001b[1;32m-> 1172\u001b[1;33m         \u001b[1;32mraise\u001b[0m \u001b[0me\u001b[0m\u001b[1;33m\u001b[0m\u001b[1;33m\u001b[0m\u001b[0m\n\u001b[0m\u001b[0;32m   1173\u001b[0m \u001b[1;33m\u001b[0m\u001b[0m\n\u001b[0;32m   1174\u001b[0m \u001b[1;33m\u001b[0m\u001b[0m\n",
      "\u001b[1;32mC:\\Program Files\\ArcGIS\\Pro\\Resources\\ArcPy\\arcpy\\conversion.py\u001b[0m in \u001b[0;36mJSONToFeatures\u001b[1;34m(in_json_file, out_features, geometry_type)\u001b[0m\n\u001b[0;32m   1167\u001b[0m     \u001b[1;32mfrom\u001b[0m \u001b[0marcpy\u001b[0m\u001b[1;33m.\u001b[0m\u001b[0marcobjects\u001b[0m\u001b[1;33m.\u001b[0m\u001b[0marcobjectconversion\u001b[0m \u001b[1;32mimport\u001b[0m \u001b[0mconvertArcObjectToPythonObject\u001b[0m\u001b[1;33m\u001b[0m\u001b[1;33m\u001b[0m\u001b[0m\n\u001b[0;32m   1168\u001b[0m     \u001b[1;32mtry\u001b[0m\u001b[1;33m:\u001b[0m\u001b[1;33m\u001b[0m\u001b[1;33m\u001b[0m\u001b[0m\n\u001b[1;32m-> 1169\u001b[1;33m         \u001b[0mretval\u001b[0m \u001b[1;33m=\u001b[0m \u001b[0mconvertArcObjectToPythonObject\u001b[0m\u001b[1;33m(\u001b[0m\u001b[0mgp\u001b[0m\u001b[1;33m.\u001b[0m\u001b[0mJSONToFeatures_conversion\u001b[0m\u001b[1;33m(\u001b[0m\u001b[1;33m*\u001b[0m\u001b[0mgp_fixargs\u001b[0m\u001b[1;33m(\u001b[0m\u001b[1;33m(\u001b[0m\u001b[0min_json_file\u001b[0m\u001b[1;33m,\u001b[0m \u001b[0mout_features\u001b[0m\u001b[1;33m,\u001b[0m \u001b[0mgeometry_type\u001b[0m\u001b[1;33m)\u001b[0m\u001b[1;33m,\u001b[0m \u001b[1;32mTrue\u001b[0m\u001b[1;33m)\u001b[0m\u001b[1;33m)\u001b[0m\u001b[1;33m)\u001b[0m\u001b[1;33m\u001b[0m\u001b[1;33m\u001b[0m\u001b[0m\n\u001b[0m\u001b[0;32m   1170\u001b[0m         \u001b[1;32mreturn\u001b[0m \u001b[0mretval\u001b[0m\u001b[1;33m\u001b[0m\u001b[1;33m\u001b[0m\u001b[0m\n\u001b[0;32m   1171\u001b[0m     \u001b[1;32mexcept\u001b[0m \u001b[0mException\u001b[0m \u001b[1;32mas\u001b[0m \u001b[0me\u001b[0m\u001b[1;33m:\u001b[0m\u001b[1;33m\u001b[0m\u001b[1;33m\u001b[0m\u001b[0m\n",
      "\u001b[1;32mC:\\Program Files\\ArcGIS\\Pro\\Resources\\ArcPy\\arcpy\\geoprocessing\\_base.py\u001b[0m in \u001b[0;36m<lambda>\u001b[1;34m(*args)\u001b[0m\n\u001b[0;32m    510\u001b[0m         \u001b[0mval\u001b[0m \u001b[1;33m=\u001b[0m \u001b[0mgetattr\u001b[0m\u001b[1;33m(\u001b[0m\u001b[0mself\u001b[0m\u001b[1;33m.\u001b[0m\u001b[0m_gp\u001b[0m\u001b[1;33m,\u001b[0m \u001b[0mattr\u001b[0m\u001b[1;33m)\u001b[0m\u001b[1;33m\u001b[0m\u001b[1;33m\u001b[0m\u001b[0m\n\u001b[0;32m    511\u001b[0m         \u001b[1;32mif\u001b[0m \u001b[0mcallable\u001b[0m\u001b[1;33m(\u001b[0m\u001b[0mval\u001b[0m\u001b[1;33m)\u001b[0m\u001b[1;33m:\u001b[0m\u001b[1;33m\u001b[0m\u001b[1;33m\u001b[0m\u001b[0m\n\u001b[1;32m--> 512\u001b[1;33m             \u001b[1;32mreturn\u001b[0m \u001b[1;32mlambda\u001b[0m \u001b[1;33m*\u001b[0m\u001b[0margs\u001b[0m\u001b[1;33m:\u001b[0m \u001b[0mval\u001b[0m\u001b[1;33m(\u001b[0m\u001b[1;33m*\u001b[0m\u001b[0mgp_fixargs\u001b[0m\u001b[1;33m(\u001b[0m\u001b[0margs\u001b[0m\u001b[1;33m,\u001b[0m \u001b[1;32mTrue\u001b[0m\u001b[1;33m)\u001b[0m\u001b[1;33m)\u001b[0m\u001b[1;33m\u001b[0m\u001b[1;33m\u001b[0m\u001b[0m\n\u001b[0m\u001b[0;32m    513\u001b[0m         \u001b[1;32melse\u001b[0m\u001b[1;33m:\u001b[0m\u001b[1;33m\u001b[0m\u001b[1;33m\u001b[0m\u001b[0m\n\u001b[0;32m    514\u001b[0m             \u001b[1;32mreturn\u001b[0m \u001b[0mconvertArcObjectToPythonObject\u001b[0m\u001b[1;33m(\u001b[0m\u001b[0mval\u001b[0m\u001b[1;33m)\u001b[0m\u001b[1;33m\u001b[0m\u001b[1;33m\u001b[0m\u001b[0m\n",
      "\u001b[1;31mExecuteError\u001b[0m: Failed to execute. Parameters are not valid.\nERROR 000732: Input JSON or GeoJSON: Dataset C:\\Users\\tande\\Documents\\GitHub\\QualityAirQualityCities\\arcpy\\interpolation\\..\\..\\data\\mpls_boundary.geojson does not exist or is not supported\nWARNING 000725: Output Feature Class: Dataset C:\\Users\\tande\\Documents\\GitHub\\QualityAirQualityCities\\arcpy\\interpolation\\..\\..\\data\\QAQC.gdb\\mpls_boundary already exists.\nFailed to execute (JSONToFeatures).\n"
     ]
    }
   ],
   "source": [
    "output_fc = 'mpls_boundary'\n",
    "output_fc_path = os.path.join(save_path_gdb, output_fc)\n",
    "\n",
    "# Convert the GeoJSON file to a feature class\n",
    "arcpy.JSONToFeatures_conversion(boundary_path, output_fc)"
   ]
  },
  {
   "cell_type": "markdown",
   "id": "d854e815-179a-4126-a346-b549057a9e43",
   "metadata": {
    "tags": []
   },
   "source": [
    "## Creating Points from Lat/Longs"
   ]
  },
  {
   "cell_type": "code",
   "execution_count": 15,
   "id": "73d9e22a-4611-4e63-b3e0-6b111bfb77e4",
   "metadata": {},
   "outputs": [
    {
     "data": {
      "text/plain": [
       "'Seasonal_May09'"
      ]
     },
     "execution_count": 15,
     "metadata": {},
     "output_type": "execute_result"
    }
   ],
   "source": [
    "# Get the current date\n",
    "current_date = date.today().strftime(\"%b%d\")\n",
    "\n",
    "# Create the feature class name\n",
    "feature_class_name_seasonal = \"Seasonal_\" + current_date\n",
    "feature_class_name_yearround = \"Yearround_\" + current_date\n",
    "\n",
    "output_point_path_seasonal = os.path.join(save_path_gdb, feature_class_name_seasonal)\n",
    "output_point_path_yearround = os.path.join(save_path_gdb, feature_class_name_yearround)\n",
    "\n",
    "# Specify x,y fields\n",
    "x_field = \"longitude\"\n",
    "y_field = \"latitude\"\n",
    "\n",
    "# Use XYTableToPoint tool to create point features\n",
    "station_points_seasonal = arcpy.management.XYTableToPoint(all_path, output_point_path_seasonal, x_field, y_field)\n",
    "station_points_yearround = arcpy.management.XYTableToPoint(seasonal_path, output_point_path_yearround, x_field, y_field)"
   ]
  },
  {
   "cell_type": "markdown",
   "id": "2be85786-c504-409e-a5ed-ac2205a07109",
   "metadata": {
    "tags": []
   },
   "source": [
    "## PM 2.5 Interpolation"
   ]
  },
  {
   "cell_type": "markdown",
   "id": "5e2273ea-5d20-4823-b501-35f6da3d4983",
   "metadata": {},
   "source": [
    "### Kriging PM 2.5"
   ]
  },
  {
   "cell_type": "code",
   "execution_count": 9,
   "id": "9a653ffc-63f6-41e6-9019-741675ac6449",
   "metadata": {},
   "outputs": [
    {
     "name": "stdout",
     "output_type": "stream",
     "text": [
      "Kriging interpolation completed for Seasonal_May09\n",
      "Kriging interpolation completed for Yearround_May09\n"
     ]
    }
   ],
   "source": [
    "# Get the current date\n",
    "current_date = date.today().strftime(\"%b%d\")\n",
    "\n",
    "# List of input feature class names\n",
    "input_feature_classes = [\"Seasonal_\" + current_date, \"Yearround_\" + current_date]\n",
    "\n",
    "# Loop through the input feature classes\n",
    "for input_fc_name in input_feature_classes:\n",
    "    # Create the input and output feature class names\n",
    "    input_fc = input_fc_name\n",
    "    output_fc = \"Kriging_\" + input_fc_name\n",
    "\n",
    "    # Create the output ga layer name\n",
    "    ga_layer = \"pm2_5_kriging_stats_\" + current_date\n",
    "\n",
    "    # Perform kriging interpolation\n",
    "    output_raster_path = os.path.join(save_path_gdb, output_fc)\n",
    "    arcpy.ga.EmpiricalBayesianKriging(\n",
    "        in_features=input_fc,\n",
    "        z_field=\"pm25_fullDay_mean_Prediction\",\n",
    "        out_ga_layer=ga_layer,\n",
    "        out_raster=output_raster_path,\n",
    "        cell_size=0.000932919999999967,\n",
    "        transformation_type=\"NONE\",\n",
    "        max_local_points=100,\n",
    "        overlap_factor=1,\n",
    "        number_semivariograms=100,\n",
    "        search_neighborhood=\"NBRTYPE=StandardCircular RADIUS=9.87111293434023E-02 ANGLE=0 NBR_MAX=15 NBR_MIN=10 SECTOR_TYPE=ONE_SECTOR\",\n",
    "        output_type=\"PREDICTION\",\n",
    "        quantile_value=0.5,\n",
    "        threshold_type=\"EXCEED\",\n",
    "        probability_threshold=None,\n",
    "        semivariogram_model_type=\"POWER\"\n",
    "    )\n",
    "\n",
    "    # Print a message to indicate completion\n",
    "    print(\"Kriging interpolation completed for\", input_fc)"
   ]
  },
  {
   "cell_type": "markdown",
   "id": "d4160b5d-1330-4dee-9809-b7e9f9f79305",
   "metadata": {},
   "source": [
    "### IDW PM 2.5"
   ]
  },
  {
   "cell_type": "code",
   "execution_count": 10,
   "id": "c305ad02-18e9-4858-bb7f-5aa2eb0d090f",
   "metadata": {},
   "outputs": [
    {
     "name": "stdout",
     "output_type": "stream",
     "text": [
      "IDW interpolation completed for Seasonal_May09\n",
      "IDW interpolation completed for Yearround_May09\n"
     ]
    }
   ],
   "source": [
    "# Get the current date\n",
    "current_date = date.today().strftime(\"%b%d\")\n",
    "\n",
    "# List of input feature class names\n",
    "input_feature_classes = [\"Seasonal_\" + current_date, \"Yearround_\" + current_date]\n",
    "\n",
    "# Loop through the input feature classes\n",
    "for input_fc_name in input_feature_classes:\n",
    "    # Create the input and output feature class names\n",
    "    input_fc = input_fc_name\n",
    "    output_fc = \"IDW_\" + input_fc_name\n",
    "\n",
    "    # Create the output ga layer name\n",
    "    ga_layer = \"pm2_5_idw_stats_\" + current_date\n",
    "\n",
    "    # Perform kriging interpolation\n",
    "    output_raster_path = os.path.join(save_path_gdb, output_fc)\n",
    "    arcpy.ga.IDW(\n",
    "        in_features=input_fc,\n",
    "        z_field=\"pm25_fullDay_mean_Prediction\",\n",
    "        out_ga_layer=ga_layer,\n",
    "        out_raster=output_raster_path,\n",
    "        cell_size=10,\n",
    "        power=2,\n",
    "        search_neighborhood=\"NBRTYPE=Standard S_MAJOR=9.87111293434023E-02 S_MINOR=9.87111293434023E-02 ANGLE=0 NBR_MAX=15 NBR_MIN=10 SECTOR_TYPE=ONE_SECTOR\",\n",
    "        weight_field=None\n",
    "    )\n",
    "    # Print a message to indicate completion\n",
    "    print(\"IDW interpolation completed for\", input_fc)"
   ]
  },
  {
   "cell_type": "markdown",
   "id": "723bf9c6-b1ee-42c9-b2c9-c01f84bfde34",
   "metadata": {},
   "source": [
    "### Local Polynomial PM 2.5"
   ]
  },
  {
   "cell_type": "code",
   "execution_count": 11,
   "id": "2b6d91b2-6c51-43b4-abd0-14ac9c143fde",
   "metadata": {},
   "outputs": [
    {
     "name": "stdout",
     "output_type": "stream",
     "text": [
      "Local Polynomial interpolation completed for Seasonal_May09\n",
      "Local Polynomial interpolation completed for Yearround_May09\n"
     ]
    }
   ],
   "source": [
    "# Get the current date\n",
    "current_date = date.today().strftime(\"%b%d\")\n",
    "\n",
    "# List of input feature class names\n",
    "input_feature_classes = [\"Seasonal_\" + current_date, \"Yearround_\" + current_date]\n",
    "\n",
    "# Loop through the input feature classes\n",
    "for input_fc_name in input_feature_classes:\n",
    "    # Create the input and output feature class names\n",
    "    input_fc = input_fc_name\n",
    "    output_fc = \"Poly_\" + input_fc_name\n",
    "\n",
    "    # Create the output ga layer name\n",
    "    ga_layer = \"pm2_5_poly_stats_\" + current_date\n",
    "\n",
    "    # Perform kriging interpolation\n",
    "    output_raster_path = os.path.join(save_path_gdb, output_fc)\n",
    "    arcpy.ga.LocalPolynomialInterpolation(\n",
    "        in_features=input_fc,\n",
    "        z_field=\"pm25_fullDay_mean_Prediction\",\n",
    "        out_ga_layer=ga_layer,\n",
    "        out_raster=output_raster_path,\n",
    "        cell_size=0.000932919999999967,\n",
    "        power=1,\n",
    "        search_neighborhood=\"NBRTYPE=Standard S_MAJOR=9.87111293434023E-02 S_MINOR=9.87111293434023E-02 ANGLE=0 NBR_MAX=15 NBR_MIN=10 SECTOR_TYPE=ONE_SECTOR\",\n",
    "        kernel_function=\"EXPONENTIAL\",\n",
    "        bandwidth=None,\n",
    "        use_condition_number=\"NO_USE_CONDITION_NUMBER\",\n",
    "        condition_number=None,\n",
    "        weight_field=None,\n",
    "        output_type=\"PREDICTION\"\n",
    "    )\n",
    "    # Print a message to indicate completion\n",
    "    print(\"Local Polynomial interpolation completed for\", input_fc)"
   ]
  },
  {
   "cell_type": "markdown",
   "id": "69b25841-ab9e-44f3-b6fd-e955f4d5972f",
   "metadata": {
    "tags": []
   },
   "source": [
    "## Cross Validation"
   ]
  },
  {
   "cell_type": "code",
   "execution_count": null,
   "id": "14a106d1-884e-4b13-b702-cbfc698a136b",
   "metadata": {},
   "outputs": [],
   "source": [
    "# List of input feature classes for cross-validation\n",
    "input_feature_classes = [\"pm2_5_kriging_stats_summer\", \"pm2_5_kriging_stats_winter\", \"pm2_5_kriging_stats_spring\"]\n",
    "\n",
    "# Loop through the input feature classes for cross-validation\n",
    "for input_fc_name in input_feature_classes:\n",
    "    # Create the output feature class name for cross-validation\n",
    "    output_fc = \"pm2_5_kriging_cross_valid_\" + input_fc_name.split(\"_\")[-1]\n",
    "\n",
    "    # Perform cross-validation\n",
    "    output_fc_path = os.path.join(save_path_gdb, output_fc)\n",
    "    arcpy.ga.CrossValidation(\n",
    "        in_geostat_layer=input_fc_name,\n",
    "        out_point_feature_class=output_fc_path\n",
    "    )\n",
    "\n",
    "    # Print a message to indicate completion\n",
    "    print(\"Cross-validation completed for\", input_fc_name)\n",
    "\n",
    "    # Add errors to shared PD DF\n",
    "    input_fc = output_fc\n",
    "    fields = [\"OBJECTID\", \"Error\"]\n",
    "\n",
    "    # Convert the feature class to a NumPy array and create a Pandas DataFrame\n",
    "    arr = arcpy.da.TableToNumPyArray(input_fc, fields)\n",
    "    df = pd.DataFrame(arr)\n",
    "    column_name = output_fc + '_error'\n",
    "    rmse_df = df.rename(columns={'Error': column_name})\n",
    "\n",
    "    # Use the RMSE DataFrame for further analysis\n",
    "\n"
   ]
  },
  {
   "cell_type": "markdown",
   "id": "afffc03e-d1ac-46b8-9602-d08d79203a66",
   "metadata": {},
   "source": [
    "### Kriging PM 2.5"
   ]
  },
  {
   "cell_type": "code",
   "execution_count": 56,
   "id": "3889eef7-b370-47ba-8e5c-5127d860bc07",
   "metadata": {},
   "outputs": [],
   "source": [
    "#cross validation\n",
    "pm2_5_kriging_fc_all = \"pm2_5_kriging_cross_valid_summer\"\n",
    "pm2_5_kriging_path_all = os.path.join(save_path_gdb, pm2_5_kriging_fc_all)\n",
    "arcpy.ga.CrossValidation(\n",
    "    in_geostat_layer=\"pm2_5_kriging_stats_summer\",\n",
    "    out_point_feature_class=pm2_5_kriging_fc_all\n",
    ")\n",
    "# add errors to shared PD DF\n",
    "input_fc =\"pm2_5_kriging_cross_valid_summer\"\n",
    "fields = [\"OBJECTID\", \"Error\"]\n",
    "\n",
    "# Convert the feature class to a NumPy array and create a Pandas DataFrame\n",
    "arr = arcpy.da.TableToNumPyArray(input_fc, fields)\n",
    "df = pd.DataFrame(arr)\n",
    "rmse_df = df.rename(columns={'Error': 'PM2_5_Kriging_Error'})"
   ]
  },
  {
   "cell_type": "markdown",
   "id": "df338540-135d-4f65-992d-a65d1be605bd",
   "metadata": {},
   "source": [
    "### IDW PM 2.5"
   ]
  },
  {
   "cell_type": "code",
   "execution_count": 57,
   "id": "af00f41a-df13-43d6-8b88-3b9e3d125697",
   "metadata": {},
   "outputs": [],
   "source": [
    "#cross validation\n",
    "pm2_5_idw_fc_all = 'pm2_5_idw_cross_valid_summer'\n",
    "pm2_5_idw_path_all = os.path.join(save_path_gdb, pm2_5_idw_fc_all)\n",
    "arcpy.ga.CrossValidation(\n",
    "    in_geostat_layer=\"pm2_5_idw_stats_summer\",\n",
    "    out_point_feature_class=pm2_5_idw_fc_all\n",
    ")\n",
    "# add errors to shared PD DF\n",
    "input_fc ='pm2_5_idw_cross_valid_summer'\n",
    "fields = [\"OBJECTID\", \"Error\"]\n",
    "\n",
    "# Convert the feature class to a NumPy array and create a Pandas DataFrame\n",
    "arr = arcpy.da.TableToNumPyArray(input_fc, fields)\n",
    "df = pd.DataFrame(arr)\n",
    "merged_df = rmse_df.merge(df, on='OBJECTID', how='left')\n",
    "rmse_df = merged_df.rename(columns={'Error': 'PM2_5_IDW_Error'})"
   ]
  },
  {
   "cell_type": "markdown",
   "id": "1659f55f-367d-4c0c-a6d1-9139091fe9b7",
   "metadata": {},
   "source": [
    "### Local Polynomial PM 2.5"
   ]
  },
  {
   "cell_type": "code",
   "execution_count": 58,
   "id": "de683328-87ca-4cb4-b28f-d440ce1a55e5",
   "metadata": {},
   "outputs": [],
   "source": [
    "#cross validation\n",
    "pm2_5_poly_fc = 'pm2_5_poly_cross_valid_summer'\n",
    "pm2_5_poly_path = os.path.join(save_path_gdb, pm2_5_poly_fc)\n",
    "arcpy.ga.CrossValidation(\n",
    "    in_geostat_layer=\"pm2_5_poly_stats_summer\",\n",
    "    out_point_feature_class=pm2_5_poly_fc\n",
    ")\n",
    "# add errors to shared PD DF\n",
    "input_fc ='pm2_5_poly_cross_valid_summer'\n",
    "fields = [\"OBJECTID\", \"Error\"]\n",
    "\n",
    "# Convert the feature class to a NumPy array and create a Pandas DataFrame\n",
    "arr = arcpy.da.TableToNumPyArray(input_fc, fields)\n",
    "df = pd.DataFrame(arr)\n",
    "merged_df = rmse_df.merge(df, on='OBJECTID', how='left')\n",
    "rmse_df = merged_df.rename(columns={'Error': 'PM2_5_Poly_Error'})"
   ]
  },
  {
   "cell_type": "markdown",
   "id": "c4ae54be-0e63-411c-9c38-7b09ce2d7106",
   "metadata": {
    "jp-MarkdownHeadingCollapsed": true,
    "tags": []
   },
   "source": [
    "### Kriging Temperature"
   ]
  },
  {
   "cell_type": "code",
   "execution_count": 17,
   "id": "97e3125b-b70b-4e1d-b8ac-9f6993c63ef0",
   "metadata": {},
   "outputs": [],
   "source": [
    "#cross validation\n",
    "temp_kriging_fc = 'temp_kriging_cross_valid'\n",
    "temp_kriging_path = os.path.join(save_path_gdb, temp_kriging_fc)\n",
    "arcpy.ga.CrossValidation(\n",
    "    in_geostat_layer=\"temp_kriging_stats\",\n",
    "    out_point_feature_class=temp_kriging_fc\n",
    ")\n",
    "# add errors to shared PD DF\n",
    "input_fc ='temp_kriging_cross_valid'\n",
    "fields = [\"OBJECTID\", \"Error\"]\n",
    "\n",
    "# Convert the feature class to a NumPy array and create a Pandas DataFrame\n",
    "arr = arcpy.da.TableToNumPyArray(input_fc, fields)\n",
    "df = pd.DataFrame(arr)\n",
    "merged_df = rmse_df.merge(df, on='OBJECTID', how='left')\n",
    "rmse_df = merged_df.rename(columns={'Error': 'Temp_Kriging_Error'})"
   ]
  },
  {
   "cell_type": "markdown",
   "id": "648c5237-2920-463f-b88c-4ba05894d6b1",
   "metadata": {
    "jp-MarkdownHeadingCollapsed": true,
    "tags": []
   },
   "source": [
    "### IDW Temprature"
   ]
  },
  {
   "cell_type": "code",
   "execution_count": 18,
   "id": "2ed9fdb7-3045-443a-8bd0-c7cd769e2657",
   "metadata": {},
   "outputs": [],
   "source": [
    "#cross validation\n",
    "temp_idw_fc = 'temp_idw_cross_valid'\n",
    "temp_idw_path = os.path.join(save_path_gdb, temp_idw_fc)\n",
    "arcpy.ga.CrossValidation(\n",
    "    in_geostat_layer=\"temp_idw_stats\",\n",
    "    out_point_feature_class=temp_idw_fc\n",
    ")\n",
    "# add errors to shared PD DF\n",
    "input_fc ='temp_idw_cross_valid'\n",
    "fields = [\"OBJECTID\", \"Error\"]\n",
    "\n",
    "# Convert the feature class to a NumPy array and create a Pandas DataFrame\n",
    "arr = arcpy.da.TableToNumPyArray(input_fc, fields)\n",
    "df = pd.DataFrame(arr)\n",
    "merged_df = rmse_df.merge(df, on='OBJECTID', how='left')\n",
    "rmse_df = merged_df.rename(columns={'Error': 'Temp_IDW_Error'})"
   ]
  },
  {
   "cell_type": "markdown",
   "id": "3ee6ab4a-f98d-4c6c-8a5c-174807e1eb94",
   "metadata": {
    "jp-MarkdownHeadingCollapsed": true,
    "tags": []
   },
   "source": [
    "### Local Polynomial Temperature"
   ]
  },
  {
   "cell_type": "code",
   "execution_count": 19,
   "id": "539d57fc-eb35-4af2-bdee-3942a2cdfff1",
   "metadata": {},
   "outputs": [],
   "source": [
    "#cross validation\n",
    "temp_poly_fc = 'temp_poly_cross_valid'\n",
    "temp_poly_path = os.path.join(save_path_gdb, temp_poly_fc)\n",
    "arcpy.ga.CrossValidation(\n",
    "    in_geostat_layer=\"temp_poly_stats\",\n",
    "    out_point_feature_class=temp_poly_fc\n",
    ")\n",
    "# add errors to shared PD DF\n",
    "input_fc ='temp_poly_cross_valid'\n",
    "fields = [\"OBJECTID\", \"Error\"]\n",
    "\n",
    "# Convert the feature class to a NumPy array and create a Pandas DataFrame\n",
    "arr = arcpy.da.TableToNumPyArray(input_fc, fields)\n",
    "df = pd.DataFrame(arr)\n",
    "merged_df = rmse_df.merge(df, on='OBJECTID', how='left')\n",
    "rmse_df = merged_df.rename(columns={'Error': 'Temp_Poly_Error'})"
   ]
  },
  {
   "cell_type": "code",
   "execution_count": 20,
   "id": "edbb5500-4d69-426e-b5d5-0fdec0377219",
   "metadata": {},
   "outputs": [
    {
     "data": {
      "text/html": [
       "<div>\n",
       "<style scoped>\n",
       "    .dataframe tbody tr th:only-of-type {\n",
       "        vertical-align: middle;\n",
       "    }\n",
       "\n",
       "    .dataframe tbody tr th {\n",
       "        vertical-align: top;\n",
       "    }\n",
       "\n",
       "    .dataframe thead th {\n",
       "        text-align: right;\n",
       "    }\n",
       "</style>\n",
       "<table border=\"1\" class=\"dataframe\">\n",
       "  <thead>\n",
       "    <tr style=\"text-align: right;\">\n",
       "      <th></th>\n",
       "      <th>OBJECTID</th>\n",
       "      <th>PM2_5_Kriging_Error</th>\n",
       "      <th>PM2_5_IDW_Error</th>\n",
       "      <th>PM2_5_Poly_Error</th>\n",
       "      <th>Temp_Kriging_Error</th>\n",
       "      <th>Temp_IDW_Error</th>\n",
       "      <th>Temp_Poly_Error</th>\n",
       "    </tr>\n",
       "  </thead>\n",
       "  <tbody>\n",
       "    <tr>\n",
       "      <th>0</th>\n",
       "      <td>1</td>\n",
       "      <td>1.886304</td>\n",
       "      <td>2.092020</td>\n",
       "      <td>1.909499</td>\n",
       "      <td>-3.303338</td>\n",
       "      <td>-3.470032</td>\n",
       "      <td>-3.575083</td>\n",
       "    </tr>\n",
       "    <tr>\n",
       "      <th>1</th>\n",
       "      <td>2</td>\n",
       "      <td>3.034219</td>\n",
       "      <td>3.066576</td>\n",
       "      <td>1.987676</td>\n",
       "      <td>-0.591053</td>\n",
       "      <td>-2.571424</td>\n",
       "      <td>-1.839374</td>\n",
       "    </tr>\n",
       "    <tr>\n",
       "      <th>2</th>\n",
       "      <td>3</td>\n",
       "      <td>-26.045040</td>\n",
       "      <td>-27.152979</td>\n",
       "      <td>-26.524731</td>\n",
       "      <td>9.709327</td>\n",
       "      <td>9.465443</td>\n",
       "      <td>9.367046</td>\n",
       "    </tr>\n",
       "    <tr>\n",
       "      <th>3</th>\n",
       "      <td>4</td>\n",
       "      <td>-0.686374</td>\n",
       "      <td>-1.163698</td>\n",
       "      <td>-0.944816</td>\n",
       "      <td>-4.381915</td>\n",
       "      <td>-5.183978</td>\n",
       "      <td>-1.712790</td>\n",
       "    </tr>\n",
       "    <tr>\n",
       "      <th>4</th>\n",
       "      <td>5</td>\n",
       "      <td>0.576673</td>\n",
       "      <td>-0.204923</td>\n",
       "      <td>0.335255</td>\n",
       "      <td>-2.131327</td>\n",
       "      <td>-0.291158</td>\n",
       "      <td>-0.087575</td>\n",
       "    </tr>\n",
       "    <tr>\n",
       "      <th>...</th>\n",
       "      <td>...</td>\n",
       "      <td>...</td>\n",
       "      <td>...</td>\n",
       "      <td>...</td>\n",
       "      <td>...</td>\n",
       "      <td>...</td>\n",
       "      <td>...</td>\n",
       "    </tr>\n",
       "    <tr>\n",
       "      <th>72</th>\n",
       "      <td>73</td>\n",
       "      <td>1.762010</td>\n",
       "      <td>0.690085</td>\n",
       "      <td>-2.485621</td>\n",
       "      <td>1.424139</td>\n",
       "      <td>1.873297</td>\n",
       "      <td>2.286915</td>\n",
       "    </tr>\n",
       "    <tr>\n",
       "      <th>73</th>\n",
       "      <td>74</td>\n",
       "      <td>3.239165</td>\n",
       "      <td>2.953680</td>\n",
       "      <td>3.080456</td>\n",
       "      <td>-4.242841</td>\n",
       "      <td>-1.259224</td>\n",
       "      <td>-1.153477</td>\n",
       "    </tr>\n",
       "    <tr>\n",
       "      <th>74</th>\n",
       "      <td>75</td>\n",
       "      <td>3.492016</td>\n",
       "      <td>3.110879</td>\n",
       "      <td>2.813213</td>\n",
       "      <td>10.605938</td>\n",
       "      <td>-4.826753</td>\n",
       "      <td>-35.120113</td>\n",
       "    </tr>\n",
       "    <tr>\n",
       "      <th>75</th>\n",
       "      <td>76</td>\n",
       "      <td>2.384410</td>\n",
       "      <td>2.396766</td>\n",
       "      <td>2.005166</td>\n",
       "      <td>NaN</td>\n",
       "      <td>NaN</td>\n",
       "      <td>NaN</td>\n",
       "    </tr>\n",
       "    <tr>\n",
       "      <th>76</th>\n",
       "      <td>77</td>\n",
       "      <td>2.442549</td>\n",
       "      <td>2.632748</td>\n",
       "      <td>2.303861</td>\n",
       "      <td>NaN</td>\n",
       "      <td>NaN</td>\n",
       "      <td>NaN</td>\n",
       "    </tr>\n",
       "  </tbody>\n",
       "</table>\n",
       "<p>77 rows × 7 columns</p>\n",
       "</div>"
      ],
      "text/plain": [
       "    OBJECTID  PM2_5_Kriging_Error  PM2_5_IDW_Error  PM2_5_Poly_Error  \\\n",
       "0          1             1.886304         2.092020          1.909499   \n",
       "1          2             3.034219         3.066576          1.987676   \n",
       "2          3           -26.045040       -27.152979        -26.524731   \n",
       "3          4            -0.686374        -1.163698         -0.944816   \n",
       "4          5             0.576673        -0.204923          0.335255   \n",
       "..       ...                  ...              ...               ...   \n",
       "72        73             1.762010         0.690085         -2.485621   \n",
       "73        74             3.239165         2.953680          3.080456   \n",
       "74        75             3.492016         3.110879          2.813213   \n",
       "75        76             2.384410         2.396766          2.005166   \n",
       "76        77             2.442549         2.632748          2.303861   \n",
       "\n",
       "    Temp_Kriging_Error  Temp_IDW_Error  Temp_Poly_Error  \n",
       "0            -3.303338       -3.470032        -3.575083  \n",
       "1            -0.591053       -2.571424        -1.839374  \n",
       "2             9.709327        9.465443         9.367046  \n",
       "3            -4.381915       -5.183978        -1.712790  \n",
       "4            -2.131327       -0.291158        -0.087575  \n",
       "..                 ...             ...              ...  \n",
       "72            1.424139        1.873297         2.286915  \n",
       "73           -4.242841       -1.259224        -1.153477  \n",
       "74           10.605938       -4.826753       -35.120113  \n",
       "75                 NaN             NaN              NaN  \n",
       "76                 NaN             NaN              NaN  \n",
       "\n",
       "[77 rows x 7 columns]"
      ]
     },
     "execution_count": 20,
     "metadata": {},
     "output_type": "execute_result"
    }
   ],
   "source": [
    "rmse_df"
   ]
  },
  {
   "cell_type": "markdown",
   "id": "b892d35c-3355-45c7-8f92-93b06a9f0ca3",
   "metadata": {
    "tags": []
   },
   "source": [
    "## Calculate RMSE"
   ]
  },
  {
   "cell_type": "markdown",
   "id": "b996ef9f-7cf1-4d91-a35d-fb5a564a3621",
   "metadata": {},
   "source": [
    "### PM 2.5"
   ]
  },
  {
   "cell_type": "code",
   "execution_count": 59,
   "id": "8e4a8375-51a6-487e-bff2-f77d7095b040",
   "metadata": {},
   "outputs": [],
   "source": [
    "#calculate RMSE for each cross valid error\n",
    "rmse_df['SQ_PM2_5_Kriging_Error'] = rmse_df['PM2_5_Kriging_Error'] ** 2\n",
    "pm2_5_kriging_rmse = numpy.sqrt(rmse_df['SQ_PM2_5_Kriging_Error'].mean())"
   ]
  },
  {
   "cell_type": "code",
   "execution_count": 60,
   "id": "eacefb97-c0a8-401e-84d2-6c4b5669c563",
   "metadata": {},
   "outputs": [],
   "source": [
    "rmse_df['SQ_PM2_5_IDW_Error'] = rmse_df['PM2_5_IDW_Error'] ** 2\n",
    "pm2_5_idw_rmse = numpy.sqrt((rmse_df['SQ_PM2_5_IDW_Error'].values).mean())"
   ]
  },
  {
   "cell_type": "code",
   "execution_count": 61,
   "id": "edcce18e-f93a-41f2-8f0c-c800dd70f445",
   "metadata": {},
   "outputs": [],
   "source": [
    "rmse_df['SQ_PM2_5_Poly_Error'] = rmse_df['PM2_5_Poly_Error'] ** 2\n",
    "pm2_5_poly_rmse = numpy.sqrt(rmse_df['SQ_PM2_5_Poly_Error'].mean())"
   ]
  },
  {
   "cell_type": "code",
   "execution_count": 62,
   "id": "4d07dace-73d8-49eb-b7d5-6846bf95cdf1",
   "metadata": {},
   "outputs": [
    {
     "name": "stdout",
     "output_type": "stream",
     "text": [
      "Method with the lowest PM2.5 RMSE value is kriging\n"
     ]
    }
   ],
   "source": [
    "# compare all of the RMSEs to find the best\n",
    "pm2_5_compare = pd.DataFrame({'method':['kriging', 'idw', 'local polynomial'],\n",
    "                            'RMSE':[pm2_5_kriging_rmse, pm2_5_idw_rmse, pm2_5_poly_rmse]})\n",
    "# Get index of row with lowest value of rmse\n",
    "min_index = pm2_5_compare['RMSE'].idxmin()\n",
    "\n",
    "# Get method with lowest rmse\n",
    "min_id = pm2_5_compare.loc[min_index, 'method']\n",
    "print(\"Method with the lowest PM2.5 RMSE value is\", min_id)"
   ]
  },
  {
   "cell_type": "markdown",
   "id": "2f07745a-2e15-4573-bbf9-8243960e0b75",
   "metadata": {
    "jp-MarkdownHeadingCollapsed": true,
    "tags": []
   },
   "source": [
    "### Temperature"
   ]
  },
  {
   "cell_type": "code",
   "execution_count": 25,
   "id": "24e78389-c613-4dcf-a803-b970c8f8b64b",
   "metadata": {},
   "outputs": [],
   "source": [
    "rmse_df['SQ_Temp_Kriging_Error'] = rmse_df['Temp_Kriging_Error'] ** 2\n",
    "temp_kriging_rmse = numpy.sqrt(rmse_df['SQ_Temp_Kriging_Error'].mean())"
   ]
  },
  {
   "cell_type": "code",
   "execution_count": 26,
   "id": "bd27f02f-6d55-499b-9871-711f94ad2867",
   "metadata": {},
   "outputs": [],
   "source": [
    "rmse_df['SQ_Temp_IDW_Error'] = rmse_df['Temp_IDW_Error'] ** 2\n",
    "temp_idw_rmse = numpy.sqrt((rmse_df['SQ_Temp_IDW_Error'].values).mean())"
   ]
  },
  {
   "cell_type": "code",
   "execution_count": 27,
   "id": "e20c4855-8d31-4a86-8279-858519c4eb14",
   "metadata": {},
   "outputs": [],
   "source": [
    "rmse_df['SQ_Temp_Poly_Error'] = rmse_df['Temp_Poly_Error'] ** 2\n",
    "temp_poly_rmse = numpy.sqrt(rmse_df['SQ_Temp_Poly_Error'].mean())"
   ]
  },
  {
   "cell_type": "code",
   "execution_count": 28,
   "id": "e83dafbb-f30f-499b-ae46-0fc884c9cb26",
   "metadata": {},
   "outputs": [
    {
     "name": "stdout",
     "output_type": "stream",
     "text": [
      "Method with the lowest Temperature RMSE value is kriging\n"
     ]
    }
   ],
   "source": [
    "temp_compare = pd.DataFrame({'method':['kriging', 'idw', 'local polynomial'],\n",
    "                            'RMSE':[temp_kriging_rmse, temp_idw_rmse, temp_poly_rmse]})\n",
    "# Get index of row with lowest value of rmse\n",
    "min_index = temp_compare['RMSE'].idxmin()\n",
    "\n",
    "# Get method with lowest rmse\n",
    "min_id = temp_compare.loc[min_index, 'method']\n",
    "print(\"Method with the lowest Temperature RMSE value is\", min_id)"
   ]
  },
  {
   "cell_type": "markdown",
   "id": "b07fb968-7570-45fd-8fd5-5357dfa1e652",
   "metadata": {
    "tags": []
   },
   "source": [
    "## Raster to Point Each Interpolation"
   ]
  },
  {
   "cell_type": "markdown",
   "id": "07f1b343-330d-43a5-924e-a2604b303963",
   "metadata": {},
   "source": [
    "### Kriging PM 2.5"
   ]
  },
  {
   "cell_type": "code",
   "execution_count": 63,
   "id": "6280105f-2127-475c-8a16-d85d8783ad36",
   "metadata": {},
   "outputs": [
    {
     "data": {
      "text/html": [
       "<div class='gpresult'><h2>Messages</h2><div id='messages' data-messages='[\"Start Time: Monday, May 8, 2023 1:33:24 PM\",\"Succeeded at Monday, May 8, 2023 1:33:25 PM (Elapsed Time: 1.28 seconds)\"]' data-show='true'><div id = 'default' /></div></div>"
      ],
      "text/plain": [
       "<Result 'C:\\\\Users\\\\tande\\\\Documents\\\\GitHub\\\\QualityAirQualityCities\\\\arcpy\\\\interpolation\\\\..\\\\..\\\\data\\\\QAQC.gdb\\\\Kriging_PM2_5_Raster_to_Point_Summer_May8'>"
      ]
     },
     "execution_count": 63,
     "metadata": {},
     "output_type": "execute_result"
    }
   ],
   "source": [
    "out_point_kriging_pm = \"Kriging_PM2_5_Raster_to_Point_Summer_May8\"\n",
    "output_raster_path = os.path.join(save_path_gdb, out_point_kriging_pm)\n",
    "arcpy.conversion.RasterToPoint(\n",
    "    in_raster=\"Kriging_Summer_May8\",\n",
    "    out_point_features=out_point_kriging_pm,\n",
    "    raster_field=\"Value\"\n",
    ")"
   ]
  },
  {
   "cell_type": "markdown",
   "id": "db95c759-d2f8-4fed-8844-4388d41b4522",
   "metadata": {},
   "source": [
    "### IDW PM 2.5"
   ]
  },
  {
   "cell_type": "code",
   "execution_count": 64,
   "id": "26cfecac-7b50-45b2-97b0-123ae424eee8",
   "metadata": {},
   "outputs": [
    {
     "data": {
      "text/html": [
       "<div class='gpresult'><h2>Messages</h2><div id='messages' data-messages='[\"Start Time: Monday, May 8, 2023 1:33:33 PM\",\"WARNING 010151: No features created by operation.\",\"Succeeded at Monday, May 8, 2023 1:33:34 PM (Elapsed Time: 1.07 seconds)\"]' data-show='true'><div id = 'default' /></div></div>"
      ],
      "text/plain": [
       "<Result 'C:\\\\Users\\\\tande\\\\Documents\\\\GitHub\\\\QualityAirQualityCities\\\\arcpy\\\\interpolation\\\\..\\\\..\\\\data\\\\QAQC.gdb\\\\IDW_PM2_5_Raster_to_Point_Summer_May8'>"
      ]
     },
     "execution_count": 64,
     "metadata": {},
     "output_type": "execute_result"
    }
   ],
   "source": [
    "out_point_idw_pm = \"IDW_PM2_5_Raster_to_Point_Summer_May8\"\n",
    "output_raster_path = os.path.join(save_path_gdb, out_point_idw_pm)\n",
    "arcpy.conversion.RasterToPoint(\n",
    "    in_raster=\"IDW_Summer_May8\",\n",
    "    out_point_features=out_point_idw_pm,\n",
    "    raster_field=\"Value\"\n",
    ")"
   ]
  },
  {
   "cell_type": "markdown",
   "id": "a9cc5c3f-d0e3-494a-86f2-5c58d4b8d344",
   "metadata": {},
   "source": [
    "### Local Polynomial PM 2.5"
   ]
  },
  {
   "cell_type": "code",
   "execution_count": 65,
   "id": "8d23a55d-60e7-4ae7-b765-017fa65a4563",
   "metadata": {},
   "outputs": [
    {
     "data": {
      "text/html": [
       "<div class='gpresult'><h2>Messages</h2><div id='messages' data-messages='[\"Start Time: Monday, May 8, 2023 1:33:42 PM\",\"Succeeded at Monday, May 8, 2023 1:33:43 PM (Elapsed Time: 1.26 seconds)\"]' data-show='true'><div id = 'default' /></div></div>"
      ],
      "text/plain": [
       "<Result 'C:\\\\Users\\\\tande\\\\Documents\\\\GitHub\\\\QualityAirQualityCities\\\\arcpy\\\\interpolation\\\\..\\\\..\\\\data\\\\QAQC.gdb\\\\Poly_PM2_5_Raster_to_Point_Summer_May8'>"
      ]
     },
     "execution_count": 65,
     "metadata": {},
     "output_type": "execute_result"
    }
   ],
   "source": [
    "out_point_poly_pm = \"Poly_PM2_5_Raster_to_Point_Summer_May8\"\n",
    "output_raster_path = os.path.join(save_path_gdb, out_point_poly_pm)\n",
    "arcpy.conversion.RasterToPoint(\n",
    "    in_raster=\"Poly_Summer_May8\",\n",
    "    out_point_features=out_point_poly_pm,\n",
    "    raster_field=\"Value\"\n",
    ")"
   ]
  },
  {
   "cell_type": "markdown",
   "id": "4a081aab-66be-4c36-b778-9dda4d4caf69",
   "metadata": {
    "jp-MarkdownHeadingCollapsed": true,
    "tags": []
   },
   "source": [
    "### Kriging Temp"
   ]
  },
  {
   "cell_type": "code",
   "execution_count": 32,
   "id": "add3419e-2008-4e31-abaf-774b3bd90e68",
   "metadata": {},
   "outputs": [
    {
     "data": {
      "text/html": [
       "<div class='gpresult'><h2>Messages</h2><div id='messages' data-messages='[\"Start Time: Wednesday, April 12, 2023 8:02:35 PM\",\"Succeeded at Wednesday, April 12, 2023 8:02:37 PM (Elapsed Time: 2.23 seconds)\"]' data-show='true'><div id = 'default' /></div></div>"
      ],
      "text/plain": [
       "<Result 'C:\\\\Users\\\\tande\\\\Documents\\\\GitHub\\\\QualityAirQualityCities\\\\arcpy\\\\interpolation\\\\..\\\\..\\\\data\\\\QAQC.gdb\\\\Kriging_Temp_Raster_to_Point'>"
      ]
     },
     "execution_count": 32,
     "metadata": {},
     "output_type": "execute_result"
    }
   ],
   "source": [
    "out_point_kriging_temp = \"Kriging_Temp_Raster_to_Point\"\n",
    "output_raster_path = os.path.join(save_path_gdb, out_point_kriging_temp)\n",
    "arcpy.conversion.RasterToPoint(\n",
    "    in_raster=\"Kriging_Temp_Apr1\",\n",
    "    out_point_features=out_point_kriging_temp,\n",
    "    raster_field=\"Value\"\n",
    ")"
   ]
  },
  {
   "cell_type": "markdown",
   "id": "9903bc60-3756-4cbe-a935-63b96f71fe52",
   "metadata": {
    "jp-MarkdownHeadingCollapsed": true,
    "tags": []
   },
   "source": [
    "### IDW Temp"
   ]
  },
  {
   "cell_type": "code",
   "execution_count": 33,
   "id": "1292be96-79d0-4744-9bda-0e3a6a9b0a08",
   "metadata": {},
   "outputs": [
    {
     "data": {
      "text/html": [
       "<div class='gpresult'><h2>Messages</h2><div id='messages' data-messages='[\"Start Time: Wednesday, April 12, 2023 8:02:37 PM\",\"Succeeded at Wednesday, April 12, 2023 8:02:40 PM (Elapsed Time: 2.24 seconds)\"]' data-show='true'><div id = 'default' /></div></div>"
      ],
      "text/plain": [
       "<Result 'C:\\\\Users\\\\tande\\\\Documents\\\\GitHub\\\\QualityAirQualityCities\\\\arcpy\\\\interpolation\\\\..\\\\..\\\\data\\\\QAQC.gdb\\\\IDW_Temp_Raster_to_Point'>"
      ]
     },
     "execution_count": 33,
     "metadata": {},
     "output_type": "execute_result"
    }
   ],
   "source": [
    "out_point_idw_temp = \"IDW_Temp_Raster_to_Point\"\n",
    "output_raster_path = os.path.join(save_path_gdb, out_point_idw_temp)\n",
    "arcpy.conversion.RasterToPoint(\n",
    "    in_raster=\"IDW_Temp_Apr1\",\n",
    "    out_point_features=out_point_idw_temp,\n",
    "    raster_field=\"Value\"\n",
    ")"
   ]
  },
  {
   "cell_type": "markdown",
   "id": "634ece3a-d7ce-42f1-9486-a9b769a13f1f",
   "metadata": {
    "jp-MarkdownHeadingCollapsed": true,
    "tags": []
   },
   "source": [
    "### Local Polynomial Temp"
   ]
  },
  {
   "cell_type": "code",
   "execution_count": 34,
   "id": "5d4d6d2d-b8fd-460d-b990-799bc9050eb8",
   "metadata": {},
   "outputs": [
    {
     "data": {
      "text/html": [
       "<div class='gpresult'><h2>Messages</h2><div id='messages' data-messages='[\"Start Time: Wednesday, April 12, 2023 8:02:40 PM\",\"Succeeded at Wednesday, April 12, 2023 8:02:42 PM (Elapsed Time: 2.15 seconds)\"]' data-show='true'><div id = 'default' /></div></div>"
      ],
      "text/plain": [
       "<Result 'C:\\\\Users\\\\tande\\\\Documents\\\\GitHub\\\\QualityAirQualityCities\\\\arcpy\\\\interpolation\\\\..\\\\..\\\\data\\\\QAQC.gdb\\\\Poly_Temp_Raster_to_Point'>"
      ]
     },
     "execution_count": 34,
     "metadata": {},
     "output_type": "execute_result"
    }
   ],
   "source": [
    "out_point_poly_temp = \"Poly_Temp_Raster_to_Point\"\n",
    "output_raster_path = os.path.join(save_path_gdb, out_point_poly_temp)\n",
    "arcpy.conversion.RasterToPoint(\n",
    "    in_raster=\"Poly_Temp_Apr1\",\n",
    "    out_point_features=out_point_poly_temp,\n",
    "    raster_field=\"Value\"\n",
    ")"
   ]
  },
  {
   "cell_type": "markdown",
   "id": "fcdce023-58c6-46f6-8155-a7dfdd69e95b",
   "metadata": {
    "tags": []
   },
   "source": [
    "## Clipping Each Interpolation"
   ]
  },
  {
   "cell_type": "markdown",
   "id": "3feda8c6-4118-409f-be07-cf8cb3ba43ef",
   "metadata": {},
   "source": [
    "### Kriging PM 2.5 Clip"
   ]
  },
  {
   "cell_type": "code",
   "execution_count": 66,
   "id": "d8350b4a-4970-4812-8082-d794a66e0b57",
   "metadata": {},
   "outputs": [
    {
     "data": {
      "text/html": [
       "<div class='gpresult'><h2>Messages</h2><div id='messages' data-messages='[\"Start Time: Monday, May 8, 2023 1:33:54 PM\",\"Analyzing input features...\",\"Dissolving clip features...\",\"Clipping input features...\",\"Succeeded at Monday, May 8, 2023 1:33:55 PM (Elapsed Time: 0.49 seconds)\"]' data-show='true'><div id = 'default' /></div></div>"
      ],
      "text/plain": [
       "<Result 'C:\\\\Users\\\\tande\\\\Documents\\\\GitHub\\\\QualityAirQualityCities\\\\arcpy\\\\interpolation\\\\..\\\\..\\\\data\\\\QAQC.gdb\\\\PM2_5_Kriging_Summer_May8'>"
      ]
     },
     "execution_count": 66,
     "metadata": {},
     "output_type": "execute_result"
    }
   ],
   "source": [
    "out_clip_kriging_pm = \"PM2_5_Kriging_Summer_May8\"\n",
    "output_clip_path = os.path.join(save_path_gdb, out_clip_kriging_pm)\n",
    "arcpy.analysis.Clip(\n",
    "    in_features=\"Kriging_PM2_5_Raster_to_Point_Summer_May8\",\n",
    "    clip_features='mpls_boundary',\n",
    "    out_feature_class=out_clip_kriging_pm,\n",
    "    cluster_tolerance=None\n",
    ")"
   ]
  },
  {
   "cell_type": "markdown",
   "id": "c523e919-6be7-4e06-98f2-13f4f32f96f5",
   "metadata": {},
   "source": [
    "### IDW PM 2.5 Clip"
   ]
  },
  {
   "cell_type": "code",
   "execution_count": 47,
   "id": "042e513c-cca2-4a8d-a2fd-b7cff38c684c",
   "metadata": {},
   "outputs": [
    {
     "data": {
      "text/html": [
       "<div class='gpresult'><h2>Messages</h2><div id='messages' data-messages='[\"Start Time: Monday, May 8, 2023 1:08:42 PM\",\"Analyzing input features...\",\"WARNING 000117: Warning empty output generated.\",\"Succeeded at Monday, May 8, 2023 1:08:43 PM (Elapsed Time: 0.26 seconds)\"]' data-show='true'><div id = 'default' /></div></div>"
      ],
      "text/plain": [
       "<Result 'C:\\\\Users\\\\tande\\\\Documents\\\\GitHub\\\\QualityAirQualityCities\\\\arcpy\\\\interpolation\\\\..\\\\..\\\\data\\\\QAQC.gdb\\\\PM2_5_IDW_Spring_May8'>"
      ]
     },
     "execution_count": 47,
     "metadata": {},
     "output_type": "execute_result"
    }
   ],
   "source": [
    "out_clip_idw_pm = \"PM2_5_IDW_Spring_May8\"\n",
    "output_clip_path = os.path.join(save_path_gdb, out_clip_idw_pm)\n",
    "arcpy.analysis.Clip(\n",
    "    in_features=\"IDW_PM2_5_Raster_to_Point_Spring_May8\",\n",
    "    clip_features='mpls_boundary',\n",
    "    out_feature_class=out_clip_idw_pm,\n",
    "    cluster_tolerance=None\n",
    ")"
   ]
  },
  {
   "cell_type": "markdown",
   "id": "f75083dc-43b7-4ef1-8ae9-fd077d2ba078",
   "metadata": {},
   "source": [
    "### Local Polynomial PM 2.5 Clip"
   ]
  },
  {
   "cell_type": "code",
   "execution_count": 48,
   "id": "2e609b74-30e1-45be-ba22-53e8d1334ff7",
   "metadata": {},
   "outputs": [
    {
     "data": {
      "text/html": [
       "<div class='gpresult'><h2>Messages</h2><div id='messages' data-messages='[\"Start Time: Monday, May 8, 2023 1:08:50 PM\",\"Analyzing input features...\",\"Dissolving clip features...\",\"Clipping input features...\",\"Succeeded at Monday, May 8, 2023 1:08:51 PM (Elapsed Time: 0.54 seconds)\"]' data-show='true'><div id = 'default' /></div></div>"
      ],
      "text/plain": [
       "<Result 'C:\\\\Users\\\\tande\\\\Documents\\\\GitHub\\\\QualityAirQualityCities\\\\arcpy\\\\interpolation\\\\..\\\\..\\\\data\\\\QAQC.gdb\\\\PM2_5_Poly_Spring_May8'>"
      ]
     },
     "execution_count": 48,
     "metadata": {},
     "output_type": "execute_result"
    }
   ],
   "source": [
    "out_clip_poly_pm = \"PM2_5_Poly_Spring_May8\"\n",
    "output_clip_path = os.path.join(save_path_gdb, out_clip_poly_pm)\n",
    "arcpy.analysis.Clip(\n",
    "    in_features=\"Poly_PM2_5_Raster_to_Point_Spring_May8\",\n",
    "    clip_features='mpls_boundary',\n",
    "    out_feature_class=out_clip_poly_pm,\n",
    "    cluster_tolerance=None\n",
    ")"
   ]
  },
  {
   "cell_type": "markdown",
   "id": "123165a1-b894-4a5e-a6c6-c379d982fc81",
   "metadata": {
    "jp-MarkdownHeadingCollapsed": true,
    "tags": []
   },
   "source": [
    "### Kriging Temperature Clip"
   ]
  },
  {
   "cell_type": "code",
   "execution_count": 38,
   "id": "43d280f1-6b66-4f23-88cc-fdd1ebc3f645",
   "metadata": {},
   "outputs": [
    {
     "data": {
      "text/html": [
       "<div class='gpresult'><h2>Messages</h2><div id='messages' data-messages='[\"Start Time: Wednesday, April 12, 2023 8:02:45 PM\",\"Analyzing input features...\",\"Dissolving clip features...\",\"Clipping input features...\",\"Succeeded at Wednesday, April 12, 2023 8:02:46 PM (Elapsed Time: 0.69 seconds)\"]' data-show='true'><div id = 'default' /></div></div>"
      ],
      "text/plain": [
       "<Result 'C:\\\\Users\\\\tande\\\\Documents\\\\GitHub\\\\QualityAirQualityCities\\\\arcpy\\\\interpolation\\\\..\\\\..\\\\data\\\\QAQC.gdb\\\\Temp_Kriging'>"
      ]
     },
     "execution_count": 38,
     "metadata": {},
     "output_type": "execute_result"
    }
   ],
   "source": [
    "out_clip_kriging_temp = \"Temp_Kriging\"\n",
    "output_clip_path = os.path.join(save_path_gdb, out_clip_kriging_temp)\n",
    "arcpy.analysis.Clip(\n",
    "    in_features=\"Kriging_Temp_Raster_to_Point\",\n",
    "    clip_features='mpls_boundary',\n",
    "    out_feature_class=out_clip_kriging_temp,\n",
    "    cluster_tolerance=None\n",
    ")"
   ]
  },
  {
   "cell_type": "markdown",
   "id": "d4d444f1-f1b7-41c8-8831-4bfc15f6bdd4",
   "metadata": {
    "jp-MarkdownHeadingCollapsed": true,
    "tags": []
   },
   "source": [
    "### IDW Temperature Clip"
   ]
  },
  {
   "cell_type": "code",
   "execution_count": 39,
   "id": "6c43ea2e-a18a-47e7-8714-651ffb5bdd08",
   "metadata": {},
   "outputs": [
    {
     "data": {
      "text/html": [
       "<div class='gpresult'><h2>Messages</h2><div id='messages' data-messages='[\"Start Time: Wednesday, April 12, 2023 8:02:46 PM\",\"Analyzing input features...\",\"Dissolving clip features...\",\"Clipping input features...\",\"Succeeded at Wednesday, April 12, 2023 8:02:47 PM (Elapsed Time: 0.70 seconds)\"]' data-show='true'><div id = 'default' /></div></div>"
      ],
      "text/plain": [
       "<Result 'C:\\\\Users\\\\tande\\\\Documents\\\\GitHub\\\\QualityAirQualityCities\\\\arcpy\\\\interpolation\\\\..\\\\..\\\\data\\\\QAQC.gdb\\\\Temp_IDW'>"
      ]
     },
     "execution_count": 39,
     "metadata": {},
     "output_type": "execute_result"
    }
   ],
   "source": [
    "out_clip_idw_temp = \"Temp_IDW\"\n",
    "output_clip_path = os.path.join(save_path_gdb, out_clip_idw_temp)\n",
    "arcpy.analysis.Clip(\n",
    "    in_features=\"IDW_Temp_Raster_to_Point\",\n",
    "    clip_features='mpls_boundary',\n",
    "    out_feature_class=out_clip_idw_temp,\n",
    "    cluster_tolerance=None\n",
    ")"
   ]
  },
  {
   "cell_type": "markdown",
   "id": "8e239c4f-990a-4d47-88c2-7bc3e2dd822f",
   "metadata": {
    "jp-MarkdownHeadingCollapsed": true,
    "tags": []
   },
   "source": [
    "### Local Polynomial Temperature Clip"
   ]
  },
  {
   "cell_type": "code",
   "execution_count": 40,
   "id": "e4f0d360-3dd0-4415-befc-caf1ad349431",
   "metadata": {},
   "outputs": [
    {
     "data": {
      "text/html": [
       "<div class='gpresult'><h2>Messages</h2><div id='messages' data-messages='[\"Start Time: Wednesday, April 12, 2023 8:02:47 PM\",\"Analyzing input features...\",\"Dissolving clip features...\",\"Clipping input features...\",\"Succeeded at Wednesday, April 12, 2023 8:02:48 PM (Elapsed Time: 0.68 seconds)\"]' data-show='true'><div id = 'default' /></div></div>"
      ],
      "text/plain": [
       "<Result 'C:\\\\Users\\\\tande\\\\Documents\\\\GitHub\\\\QualityAirQualityCities\\\\arcpy\\\\interpolation\\\\..\\\\..\\\\data\\\\QAQC.gdb\\\\Temp_Poly'>"
      ]
     },
     "execution_count": 40,
     "metadata": {},
     "output_type": "execute_result"
    }
   ],
   "source": [
    "out_clip_poly_temp = \"Temp_Poly\"\n",
    "output_clip_path = os.path.join(save_path_gdb, out_clip_poly_temp)\n",
    "arcpy.analysis.Clip(\n",
    "    in_features=\"Poly_Temp_Raster_to_Point\",\n",
    "    clip_features='mpls_boundary',\n",
    "    out_feature_class=out_clip_poly_temp,\n",
    "    cluster_tolerance=None\n",
    ")"
   ]
  },
  {
   "cell_type": "markdown",
   "id": "9f5029c2-adde-488b-b6ac-fba1c47b9406",
   "metadata": {
    "tags": []
   },
   "source": [
    "## Save to Local and Remote Databases"
   ]
  },
  {
   "cell_type": "markdown",
   "id": "9c2cf6ab-044f-4995-877e-af96d04a8f47",
   "metadata": {},
   "source": [
    "### Connect to DB"
   ]
  },
  {
   "cell_type": "code",
   "execution_count": 67,
   "id": "93973f66-7a04-4833-ad36-33e6232f8c68",
   "metadata": {},
   "outputs": [
    {
     "name": "stdout",
     "output_type": "stream",
     "text": [
      "connected\n"
     ]
    }
   ],
   "source": [
    "# Get credentials\n",
    "\n",
    "cred_pth = os.path.join(os.getcwd(), '..', '..', 'database', 'db_credentials.txt')\n",
    "\n",
    "with open(cred_pth, 'r') as f:\n",
    "    \n",
    "    creds = f.readlines()[0].split(', ')\n",
    "\n",
    "# Connect to PostGIS Database\n",
    "\n",
    "pg_connection_dict = dict(zip(['dbname', 'user', 'password', 'port', 'host'], creds))\n",
    "\n",
    "try:\n",
    "    conn = psycopg2.connect(**pg_connection_dict)\n",
    "    print(\"connected\")\n",
    "except:\n",
    "    print(\"connection failed\")"
   ]
  },
  {
   "cell_type": "markdown",
   "id": "1923725d-128f-4e79-83c2-987cfeb692d5",
   "metadata": {},
   "source": [
    "### Create & Populate Tables"
   ]
  },
  {
   "cell_type": "markdown",
   "id": "fd93a242-b6fc-43a6-ab69-7e0d41ec5567",
   "metadata": {},
   "source": [
    "#### PM 2.5 Interpolation"
   ]
  },
  {
   "cell_type": "code",
   "execution_count": 68,
   "id": "5a99d7c6-aa35-47ef-82f4-074e5e97c10f",
   "metadata": {},
   "outputs": [],
   "source": [
    "points = os.path.join(save_path_gdb, \"PM2_5_Kriging_Summer_May8\")\n",
    "fields_points = ['pointid', 'grid_code', \"SHAPE@WKT\"]\n",
    "\n",
    "# Create SQL table\n",
    "cursor = conn.cursor()\n",
    "cursor.execute(\"DROP TABLE IF EXISTS PM2_5_Summer_May8\")\n",
    "cursor.execute(\"\"\"\n",
    "    CREATE TABLE PM2_5_Summer_May8 (\n",
    "        id SERIAL,\n",
    "        pointid INT,\n",
    "        grid_code DOUBLE PRECISION,\n",
    "        geometry geometry\n",
    "        )\n",
    "\"\"\")\n",
    "conn.commit()\n",
    "\n",
    "# Populate PostGIS\n",
    "with arcpy.da.SearchCursor(points, fields_points) as da_cursor:\n",
    "    for row in da_cursor:\n",
    "        wkt = row[2]\n",
    "        cursor.execute(\"INSERT INTO PM2_5_Summer_May8 (pointid, grid_code, geometry) VALUES (%s, %s, ST_GeomFromText(%s, 4326))\", (row[0], row[1], wkt))\n",
    "        conn.commit()"
   ]
  },
  {
   "cell_type": "code",
   "execution_count": 43,
   "id": "71d1c35d-bc13-4541-bd8b-e1a1da2b1eeb",
   "metadata": {},
   "outputs": [],
   "source": [
    "points = os.path.join(save_path_gdb, \"Temp_Kriging\")\n",
    "fields_points = ['pointid', 'grid_code', \"SHAPE@WKT\"]\n",
    "\n",
    "# Create SQL table\n",
    "cursor = conn.cursor()\n",
    "cursor.execute(\"DROP TABLE IF EXISTS Temp_Kriging\")\n",
    "cursor.execute(\"\"\"\n",
    "    CREATE TABLE Temp_Kriging (\n",
    "        id SERIAL,\n",
    "        pointid INT,\n",
    "        grid_code DOUBLE PRECISION,\n",
    "        geometry geometry\n",
    "        )\n",
    "\"\"\")\n",
    "conn.commit()\n",
    "\n",
    "# Populate PostGIS\n",
    "with arcpy.da.SearchCursor(points, fields_points) as da_cursor:\n",
    "    for row in da_cursor:\n",
    "        wkt = row[2]\n",
    "        cursor.execute(\"INSERT INTO Temp_Kriging (pointid, grid_code, geometry) VALUES (%s, %s, ST_GeomFromText(%s, 4326))\", (row[0], row[1], wkt))\n",
    "        conn.commit()"
   ]
  },
  {
   "cell_type": "markdown",
   "id": "52da9480-ddea-4739-a287-a6da1bd164c8",
   "metadata": {},
   "source": [
    "#### PM 2.5 Cross Validation"
   ]
  },
  {
   "cell_type": "code",
   "execution_count": 69,
   "id": "4006b798-1c7c-40f5-9036-530f27a7b786",
   "metadata": {},
   "outputs": [],
   "source": [
    "points = os.path.join(save_path_gdb, \"pm2_5_kriging_cross_valid_summer\")\n",
    "fields_points = ['OBJECTID','Error', \"SHAPE@WKT\"]\n",
    "\n",
    "# Create SQL table\n",
    "cursor = conn.cursor()\n",
    "cursor.execute(\"DROP TABLE IF EXISTS PM2_5_Errors_Summer_May8\")\n",
    "cursor.execute(\"\"\"\n",
    "    CREATE TABLE PM2_5_Errors_Summer_May8 (\n",
    "        id SERIAL,\n",
    "        objectid INT,\n",
    "        error DOUBLE PRECISION,\n",
    "        geometry geometry\n",
    "        )\n",
    "\"\"\")\n",
    "conn.commit()\n",
    "\n",
    "# Populate PostGIS\n",
    "with arcpy.da.SearchCursor(points, fields_points) as da_cursor:\n",
    "    for row in da_cursor:\n",
    "        wkt = row[2]\n",
    "        cursor.execute(\"INSERT INTO PM2_5_Errors_Summer_May8 (objectid, error, geometry) VALUES (%s, %s, ST_GeomFromText(%s, 4326))\", (row[0], row[1], wkt))\n",
    "        conn.commit()"
   ]
  },
  {
   "cell_type": "code",
   "execution_count": 45,
   "id": "48473582-2726-4eb9-bc06-7cd4ccdfc3bf",
   "metadata": {},
   "outputs": [],
   "source": [
    "points = os.path.join(save_path_gdb, \"temp_kriging_cross_valid\")\n",
    "fields_points = ['OBJECTID','Error', \"SHAPE@WKT\"]\n",
    "\n",
    "# Create SQL table\n",
    "cursor = conn.cursor()\n",
    "cursor.execute(\"DROP TABLE IF EXISTS Temp_Kriging_Errors\")\n",
    "cursor.execute(\"\"\"\n",
    "    CREATE TABLE Temp_Kriging_Errors (\n",
    "        id SERIAL,\n",
    "        objectid INT,\n",
    "        error DOUBLE PRECISION,\n",
    "        geometry geometry\n",
    "        )\n",
    "\"\"\")\n",
    "conn.commit()\n",
    "\n",
    "# Populate PostGIS\n",
    "with arcpy.da.SearchCursor(points, fields_points) as da_cursor:\n",
    "    for row in da_cursor:\n",
    "        wkt = row[2]\n",
    "        cursor.execute(\"INSERT INTO Temp_Kriging_Errors (objectid, error, geometry) VALUES (%s, %s, ST_GeomFromText(%s, 4326))\", (row[0], row[1], wkt))\n",
    "        conn.commit()"
   ]
  }
 ],
 "metadata": {
  "kernelspec": {
   "display_name": "Python 3 (ipykernel)",
   "language": "python",
   "name": "python3"
  },
  "language_info": {
   "codemirror_mode": {
    "name": "ipython",
    "version": 3
   },
   "file_extension": ".py",
   "mimetype": "text/x-python",
   "name": "python",
   "nbconvert_exporter": "python",
   "pygments_lexer": "ipython3",
   "version": "3.9.16"
  }
 },
 "nbformat": 4,
 "nbformat_minor": 5
}
