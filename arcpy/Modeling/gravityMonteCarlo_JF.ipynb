{
 "cells": [
  {
   "attachments": {},
   "cell_type": "markdown",
   "metadata": {},
   "source": [
    "# Spike Presence/Absence Model\n",
    "This notebook uses the Gravity mmodel and Mote Carlo Simulation to predict the probability of spikes in concentrations of PM2.5 from PurpleAir sensor data in Minneapolis"
   ]
  },
  {
   "cell_type": "code",
   "execution_count": 2,
   "metadata": {},
   "outputs": [],
   "source": [
    "# Libraries\n",
    "import pandas as pd\n",
    "import numpy as np\n",
    "import arcpy\n",
    "import os"
   ]
  },
  {
   "cell_type": "code",
   "execution_count": 3,
   "metadata": {},
   "outputs": [],
   "source": [
    "# Set working Directory\n",
    "\n",
    "# Get CWD\n",
    "\n",
    "cwd = os.getcwd() # This is a global variable for where the notebook is (must change if running in arcpro)\n",
    "\n",
    "# Create GeoDataBase\n",
    "# This is the communal GeoDataBase, only run once\n",
    "\n",
    "if not os.path.exists(os.path.join(cwd, '..', '..', 'data', 'QAQC.gdb')): # If it doesn't exist, create it\n",
    "\n",
    "    arcpy.management.CreateFileGDB(os.path.join(cwd, '..', '..', 'data'), 'QAQC')\n",
    "\n",
    "# Make it workspace\n",
    "\n",
    "arcpy.env.workspace = os.path.join(cwd, '..', '..', 'data', 'QAQC.gdb')\n",
    "\n",
    "arcpy.env.overwriteOutput = True # Overwrite layers is okay"
   ]
  },
  {
   "cell_type": "code",
   "execution_count": 5,
   "metadata": {},
   "outputs": [
    {
     "data": {
      "text/plain": [
       "'c:\\\\Users\\\\MrJDF\\\\Desktop\\\\QualityAirQualityCities\\\\arcpy\\\\Modeling'"
      ]
     },
     "execution_count": 5,
     "metadata": {},
     "output_type": "execute_result"
    }
   ],
   "source": [
    "cwd"
   ]
  },
  {
   "attachments": {},
   "cell_type": "markdown",
   "metadata": {},
   "source": [
    "## Load Data"
   ]
  },
  {
   "cell_type": "code",
   "execution_count": 6,
   "metadata": {},
   "outputs": [],
   "source": [
    "# set variable to navigate to data folder\n",
    "data_path = os.path.join(cwd,'..', '..', 'data')"
   ]
  },
  {
   "cell_type": "code",
   "execution_count": 10,
   "metadata": {},
   "outputs": [],
   "source": [
    "\n",
    "# grab the data frame\n",
    "\n",
    "'''\n",
    "This should be a df of the previous 24 hr values. \n",
    "Need to create a workflow/notebok that does this in real time. \n",
    "Right now we're using the data Ethan cleaned for the april 01 2023 data.\n",
    "'''\n",
    "\n",
    "spike_wind_data = pd.read_csv(os.path.join(data_path, 'station_spike_wind_data.csv'))"
   ]
  },
  {
   "cell_type": "code",
   "execution_count": 8,
   "metadata": {},
   "outputs": [
    {
     "data": {
      "text/html": [
       "<div>\n",
       "<style scoped>\n",
       "    .dataframe tbody tr th:only-of-type {\n",
       "        vertical-align: middle;\n",
       "    }\n",
       "\n",
       "    .dataframe tbody tr th {\n",
       "        vertical-align: top;\n",
       "    }\n",
       "\n",
       "    .dataframe thead th {\n",
       "        text-align: right;\n",
       "    }\n",
       "</style>\n",
       "<table border=\"1\" class=\"dataframe\">\n",
       "  <thead>\n",
       "    <tr style=\"text-align: right;\">\n",
       "      <th></th>\n",
       "      <th>sensor_index</th>\n",
       "      <th>date</th>\n",
       "      <th>is_weekday</th>\n",
       "      <th>n_observations</th>\n",
       "      <th>pm25_fullDay_mean</th>\n",
       "      <th>pm25_fullDay_minutesAbove12ug</th>\n",
       "      <th>n_spikes</th>\n",
       "      <th>humidity_fullDay_mean</th>\n",
       "      <th>temperature_fullDay_mean</th>\n",
       "      <th>pressure_fullDay_mean</th>\n",
       "      <th>idwSum_facilities</th>\n",
       "      <th>idwSum_traffic</th>\n",
       "      <th>daily_wind_speed_avg</th>\n",
       "      <th>daily_wind_vector_direction_avg</th>\n",
       "      <th>latitude</th>\n",
       "      <th>longitude</th>\n",
       "    </tr>\n",
       "  </thead>\n",
       "  <tbody>\n",
       "    <tr>\n",
       "      <th>0</th>\n",
       "      <td>143656</td>\n",
       "      <td>3/18/2023</td>\n",
       "      <td>0</td>\n",
       "      <td>144</td>\n",
       "      <td>5.341125</td>\n",
       "      <td>190</td>\n",
       "      <td>0</td>\n",
       "      <td>45.833</td>\n",
       "      <td>23.505</td>\n",
       "      <td>988.205</td>\n",
       "      <td>0.005054</td>\n",
       "      <td>861.930809</td>\n",
       "      <td>9.625000</td>\n",
       "      <td>197.291667</td>\n",
       "      <td>44.932407</td>\n",
       "      <td>-93.28342</td>\n",
       "    </tr>\n",
       "    <tr>\n",
       "      <th>1</th>\n",
       "      <td>143656</td>\n",
       "      <td>11/5/2022</td>\n",
       "      <td>0</td>\n",
       "      <td>144</td>\n",
       "      <td>8.760681</td>\n",
       "      <td>290</td>\n",
       "      <td>0</td>\n",
       "      <td>60.125</td>\n",
       "      <td>44.010</td>\n",
       "      <td>971.738</td>\n",
       "      <td>0.005054</td>\n",
       "      <td>861.930809</td>\n",
       "      <td>9.712500</td>\n",
       "      <td>262.250000</td>\n",
       "      <td>44.932407</td>\n",
       "      <td>-93.28342</td>\n",
       "    </tr>\n",
       "    <tr>\n",
       "      <th>2</th>\n",
       "      <td>143656</td>\n",
       "      <td>12/6/2022</td>\n",
       "      <td>1</td>\n",
       "      <td>144</td>\n",
       "      <td>9.107910</td>\n",
       "      <td>340</td>\n",
       "      <td>0</td>\n",
       "      <td>49.004</td>\n",
       "      <td>27.014</td>\n",
       "      <td>986.269</td>\n",
       "      <td>0.005054</td>\n",
       "      <td>861.930809</td>\n",
       "      <td>8.933333</td>\n",
       "      <td>271.375000</td>\n",
       "      <td>44.932407</td>\n",
       "      <td>-93.28342</td>\n",
       "    </tr>\n",
       "    <tr>\n",
       "      <th>3</th>\n",
       "      <td>143656</td>\n",
       "      <td>12/7/2022</td>\n",
       "      <td>1</td>\n",
       "      <td>144</td>\n",
       "      <td>14.958146</td>\n",
       "      <td>610</td>\n",
       "      <td>14</td>\n",
       "      <td>49.725</td>\n",
       "      <td>28.465</td>\n",
       "      <td>993.579</td>\n",
       "      <td>0.005054</td>\n",
       "      <td>861.930809</td>\n",
       "      <td>9.012500</td>\n",
       "      <td>270.208333</td>\n",
       "      <td>44.932407</td>\n",
       "      <td>-93.28342</td>\n",
       "    </tr>\n",
       "    <tr>\n",
       "      <th>4</th>\n",
       "      <td>143656</td>\n",
       "      <td>1/22/2023</td>\n",
       "      <td>0</td>\n",
       "      <td>144</td>\n",
       "      <td>26.534174</td>\n",
       "      <td>1430</td>\n",
       "      <td>55</td>\n",
       "      <td>61.631</td>\n",
       "      <td>28.517</td>\n",
       "      <td>984.403</td>\n",
       "      <td>0.005054</td>\n",
       "      <td>861.930809</td>\n",
       "      <td>9.445833</td>\n",
       "      <td>291.958333</td>\n",
       "      <td>44.932407</td>\n",
       "      <td>-93.28342</td>\n",
       "    </tr>\n",
       "  </tbody>\n",
       "</table>\n",
       "</div>"
      ],
      "text/plain": [
       "   sensor_index       date  is_weekday  n_observations  pm25_fullDay_mean  \\\n",
       "0        143656  3/18/2023           0             144           5.341125   \n",
       "1        143656  11/5/2022           0             144           8.760681   \n",
       "2        143656  12/6/2022           1             144           9.107910   \n",
       "3        143656  12/7/2022           1             144          14.958146   \n",
       "4        143656  1/22/2023           0             144          26.534174   \n",
       "\n",
       "   pm25_fullDay_minutesAbove12ug  n_spikes  humidity_fullDay_mean  \\\n",
       "0                            190         0                 45.833   \n",
       "1                            290         0                 60.125   \n",
       "2                            340         0                 49.004   \n",
       "3                            610        14                 49.725   \n",
       "4                           1430        55                 61.631   \n",
       "\n",
       "   temperature_fullDay_mean  pressure_fullDay_mean  idwSum_facilities  \\\n",
       "0                    23.505                988.205           0.005054   \n",
       "1                    44.010                971.738           0.005054   \n",
       "2                    27.014                986.269           0.005054   \n",
       "3                    28.465                993.579           0.005054   \n",
       "4                    28.517                984.403           0.005054   \n",
       "\n",
       "   idwSum_traffic  daily_wind_speed_avg  daily_wind_vector_direction_avg  \\\n",
       "0      861.930809              9.625000                       197.291667   \n",
       "1      861.930809              9.712500                       262.250000   \n",
       "2      861.930809              8.933333                       271.375000   \n",
       "3      861.930809              9.012500                       270.208333   \n",
       "4      861.930809              9.445833                       291.958333   \n",
       "\n",
       "    latitude  longitude  \n",
       "0  44.932407  -93.28342  \n",
       "1  44.932407  -93.28342  \n",
       "2  44.932407  -93.28342  \n",
       "3  44.932407  -93.28342  \n",
       "4  44.932407  -93.28342  "
      ]
     },
     "execution_count": 8,
     "metadata": {},
     "output_type": "execute_result"
    }
   ],
   "source": [
    "spike_wind_data.head()"
   ]
  },
  {
   "cell_type": "markdown",
   "metadata": {},
   "source": []
  },
  {
   "cell_type": "markdown",
   "metadata": {},
   "source": []
  },
  {
   "cell_type": "code",
   "execution_count": 22,
   "metadata": {},
   "outputs": [],
   "source": [
    "# unique_stations = spike_wind_data['sensor_index'].unique()\n",
    "# mask = spike_wind_data['sensor_index'].isin(unique_stations)\n",
    "unique_stations = spike_wind_data.drop_duplicates(subset='sensor_index' , keep = 'first')"
   ]
  },
  {
   "cell_type": "code",
   "execution_count": 23,
   "metadata": {},
   "outputs": [
    {
     "data": {
      "text/plain": [
       "53"
      ]
     },
     "execution_count": 23,
     "metadata": {},
     "output_type": "execute_result"
    }
   ],
   "source": [
    "len(unique_stations)"
   ]
  },
  {
   "cell_type": "code",
   "execution_count": 33,
   "metadata": {},
   "outputs": [
    {
     "name": "stdout",
     "output_type": "stream",
     "text": [
      "array([[0.        , 0.06113865, 0.0572818 , ..., 0.03984551, 0.03965668,\n",
      "        0.04088336],\n",
      "       [0.06113865, 0.        , 0.10698803, ..., 0.07594077, 0.1004073 ,\n",
      "        0.06066351],\n",
      "       [0.0572818 , 0.10698803, 0.        , ..., 0.03293513, 0.03740579,\n",
      "        0.05070925],\n",
      "       ...,\n",
      "       [0.03984551, 0.07594077, 0.03293513, ..., 0.        , 0.04812616,\n",
      "        0.01780165],\n",
      "       [0.03965668, 0.1004073 , 0.03740579, ..., 0.04812616, 0.        ,\n",
      "        0.06167653],\n",
      "       [0.04088336, 0.06066351, 0.05070925, ..., 0.01780165, 0.06167653,\n",
      "        0.        ]])\n"
     ]
    }
   ],
   "source": [
    "\n",
    "from scipy.spatial.distance import cdist\n",
    "from pprint import pprint \n",
    "\n",
    "locations = unique_stations[['latitude', 'longitude']].values\n",
    "distance_matrix = cdist(locations, locations, metric='euclidean')\n",
    "pprint(distance_matrix)"
   ]
  }
 ],
 "metadata": {
  "kernelspec": {
   "display_name": "Python 3",
   "language": "python",
   "name": "python3"
  },
  "language_info": {
   "codemirror_mode": {
    "name": "ipython",
    "version": 3
   },
   "file_extension": ".py",
   "mimetype": "text/x-python",
   "name": "python",
   "nbconvert_exporter": "python",
   "pygments_lexer": "ipython3",
   "version": "3.9.11"
  },
  "orig_nbformat": 4
 },
 "nbformat": 4,
 "nbformat_minor": 2
}
